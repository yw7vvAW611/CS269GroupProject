{
  "nbformat": 4,
  "nbformat_minor": 0,
  "metadata": {
    "colab": {
      "name": "attackSummary.ipynb",
      "provenance": []
    },
    "kernelspec": {
      "name": "python3",
      "display_name": "Python 3"
    },
    "language_info": {
      "name": "python"
    }
  },
  "cells": [
    {
      "cell_type": "code",
      "execution_count": null,
      "metadata": {
        "id": "GiOT_ZD5Frfq"
      },
      "outputs": [],
      "source": [
        "import nltk\n",
        "import pandas as pd"
      ]
    },
    {
      "cell_type": "code",
      "source": [
        "# nltk.download('punkt')\n",
        "nltk.download('averaged_perceptron_tagger')"
      ],
      "metadata": {
        "colab": {
          "base_uri": "https://localhost:8080/"
        },
        "id": "v8xnOs7dHeLz",
        "outputId": "9de7d67a-c5db-4c94-b5ef-45962a3d1903"
      },
      "execution_count": null,
      "outputs": [
        {
          "output_type": "stream",
          "name": "stdout",
          "text": [
            "[nltk_data] Downloading package averaged_perceptron_tagger to\n",
            "[nltk_data]     /root/nltk_data...\n",
            "[nltk_data]   Unzipping taggers/averaged_perceptron_tagger.zip.\n"
          ]
        },
        {
          "output_type": "execute_result",
          "data": {
            "text/plain": [
              "True"
            ]
          },
          "metadata": {},
          "execution_count": 15
        }
      ]
    },
    {
      "cell_type": "code",
      "source": [
        "df = pd.read_csv(\"sample_data/semantic_attack_examples.csv\")"
      ],
      "metadata": {
        "id": "4-iRYzRjF9nB"
      },
      "execution_count": null,
      "outputs": []
    },
    {
      "cell_type": "code",
      "source": [
        "df.head()"
      ],
      "metadata": {
        "colab": {
          "base_uri": "https://localhost:8080/",
          "height": 206
        },
        "id": "ORwLEMX7GwjA",
        "outputId": "7b66c160-7f3e-4484-9e3c-df607c39f4d2"
      },
      "execution_count": null,
      "outputs": [
        {
          "output_type": "execute_result",
          "data": {
            "text/plain": [
              "   id                                  original_sentence  \\\n",
              "0   1  Cardona slowed her vehicle , turned [[around]]...   \n",
              "1   2  Both [[operating]] [[profit]] and net sales fo...   \n",
              "2   3  Tampere Science Parks is a Finnish company tha...   \n",
              "3   4  The real estate company posted a net [[loss]] ...   \n",
              "4   5  The Oxyview Pulse Oximeter is a common device ...   \n",
              "\n",
              "                                     attack_sentence  sentiment  \n",
              "0  Cardona slowed her vehicle , turned [[roughly]...          2  \n",
              "1  Both [[operations]] [[revenues]] and net sales...          0  \n",
              "2  Tampere Science Parks is a Finnish company tha...          2  \n",
              "3  The real estate company posted a net [[losing]...          1  \n",
              "4  The Oxyview Pulse Oximeter is a common device ...          2  "
            ],
            "text/html": [
              "\n",
              "  <div id=\"df-fe8bebf1-e590-4531-9ee4-771e5ba3e3b1\">\n",
              "    <div class=\"colab-df-container\">\n",
              "      <div>\n",
              "<style scoped>\n",
              "    .dataframe tbody tr th:only-of-type {\n",
              "        vertical-align: middle;\n",
              "    }\n",
              "\n",
              "    .dataframe tbody tr th {\n",
              "        vertical-align: top;\n",
              "    }\n",
              "\n",
              "    .dataframe thead th {\n",
              "        text-align: right;\n",
              "    }\n",
              "</style>\n",
              "<table border=\"1\" class=\"dataframe\">\n",
              "  <thead>\n",
              "    <tr style=\"text-align: right;\">\n",
              "      <th></th>\n",
              "      <th>id</th>\n",
              "      <th>original_sentence</th>\n",
              "      <th>attack_sentence</th>\n",
              "      <th>sentiment</th>\n",
              "    </tr>\n",
              "  </thead>\n",
              "  <tbody>\n",
              "    <tr>\n",
              "      <th>0</th>\n",
              "      <td>1</td>\n",
              "      <td>Cardona slowed her vehicle , turned [[around]]...</td>\n",
              "      <td>Cardona slowed her vehicle , turned [[roughly]...</td>\n",
              "      <td>2</td>\n",
              "    </tr>\n",
              "    <tr>\n",
              "      <th>1</th>\n",
              "      <td>2</td>\n",
              "      <td>Both [[operating]] [[profit]] and net sales fo...</td>\n",
              "      <td>Both [[operations]] [[revenues]] and net sales...</td>\n",
              "      <td>0</td>\n",
              "    </tr>\n",
              "    <tr>\n",
              "      <th>2</th>\n",
              "      <td>3</td>\n",
              "      <td>Tampere Science Parks is a Finnish company tha...</td>\n",
              "      <td>Tampere Science Parks is a Finnish company tha...</td>\n",
              "      <td>2</td>\n",
              "    </tr>\n",
              "    <tr>\n",
              "      <th>3</th>\n",
              "      <td>4</td>\n",
              "      <td>The real estate company posted a net [[loss]] ...</td>\n",
              "      <td>The real estate company posted a net [[losing]...</td>\n",
              "      <td>1</td>\n",
              "    </tr>\n",
              "    <tr>\n",
              "      <th>4</th>\n",
              "      <td>5</td>\n",
              "      <td>The Oxyview Pulse Oximeter is a common device ...</td>\n",
              "      <td>The Oxyview Pulse Oximeter is a common device ...</td>\n",
              "      <td>2</td>\n",
              "    </tr>\n",
              "  </tbody>\n",
              "</table>\n",
              "</div>\n",
              "      <button class=\"colab-df-convert\" onclick=\"convertToInteractive('df-fe8bebf1-e590-4531-9ee4-771e5ba3e3b1')\"\n",
              "              title=\"Convert this dataframe to an interactive table.\"\n",
              "              style=\"display:none;\">\n",
              "        \n",
              "  <svg xmlns=\"http://www.w3.org/2000/svg\" height=\"24px\"viewBox=\"0 0 24 24\"\n",
              "       width=\"24px\">\n",
              "    <path d=\"M0 0h24v24H0V0z\" fill=\"none\"/>\n",
              "    <path d=\"M18.56 5.44l.94 2.06.94-2.06 2.06-.94-2.06-.94-.94-2.06-.94 2.06-2.06.94zm-11 1L8.5 8.5l.94-2.06 2.06-.94-2.06-.94L8.5 2.5l-.94 2.06-2.06.94zm10 10l.94 2.06.94-2.06 2.06-.94-2.06-.94-.94-2.06-.94 2.06-2.06.94z\"/><path d=\"M17.41 7.96l-1.37-1.37c-.4-.4-.92-.59-1.43-.59-.52 0-1.04.2-1.43.59L10.3 9.45l-7.72 7.72c-.78.78-.78 2.05 0 2.83L4 21.41c.39.39.9.59 1.41.59.51 0 1.02-.2 1.41-.59l7.78-7.78 2.81-2.81c.8-.78.8-2.07 0-2.86zM5.41 20L4 18.59l7.72-7.72 1.47 1.35L5.41 20z\"/>\n",
              "  </svg>\n",
              "      </button>\n",
              "      \n",
              "  <style>\n",
              "    .colab-df-container {\n",
              "      display:flex;\n",
              "      flex-wrap:wrap;\n",
              "      gap: 12px;\n",
              "    }\n",
              "\n",
              "    .colab-df-convert {\n",
              "      background-color: #E8F0FE;\n",
              "      border: none;\n",
              "      border-radius: 50%;\n",
              "      cursor: pointer;\n",
              "      display: none;\n",
              "      fill: #1967D2;\n",
              "      height: 32px;\n",
              "      padding: 0 0 0 0;\n",
              "      width: 32px;\n",
              "    }\n",
              "\n",
              "    .colab-df-convert:hover {\n",
              "      background-color: #E2EBFA;\n",
              "      box-shadow: 0px 1px 2px rgba(60, 64, 67, 0.3), 0px 1px 3px 1px rgba(60, 64, 67, 0.15);\n",
              "      fill: #174EA6;\n",
              "    }\n",
              "\n",
              "    [theme=dark] .colab-df-convert {\n",
              "      background-color: #3B4455;\n",
              "      fill: #D2E3FC;\n",
              "    }\n",
              "\n",
              "    [theme=dark] .colab-df-convert:hover {\n",
              "      background-color: #434B5C;\n",
              "      box-shadow: 0px 1px 3px 1px rgba(0, 0, 0, 0.15);\n",
              "      filter: drop-shadow(0px 1px 2px rgba(0, 0, 0, 0.3));\n",
              "      fill: #FFFFFF;\n",
              "    }\n",
              "  </style>\n",
              "\n",
              "      <script>\n",
              "        const buttonEl =\n",
              "          document.querySelector('#df-fe8bebf1-e590-4531-9ee4-771e5ba3e3b1 button.colab-df-convert');\n",
              "        buttonEl.style.display =\n",
              "          google.colab.kernel.accessAllowed ? 'block' : 'none';\n",
              "\n",
              "        async function convertToInteractive(key) {\n",
              "          const element = document.querySelector('#df-fe8bebf1-e590-4531-9ee4-771e5ba3e3b1');\n",
              "          const dataTable =\n",
              "            await google.colab.kernel.invokeFunction('convertToInteractive',\n",
              "                                                     [key], {});\n",
              "          if (!dataTable) return;\n",
              "\n",
              "          const docLinkHtml = 'Like what you see? Visit the ' +\n",
              "            '<a target=\"_blank\" href=https://colab.research.google.com/notebooks/data_table.ipynb>data table notebook</a>'\n",
              "            + ' to learn more about interactive tables.';\n",
              "          element.innerHTML = '';\n",
              "          dataTable['output_type'] = 'display_data';\n",
              "          await google.colab.output.renderOutput(dataTable, element);\n",
              "          const docLink = document.createElement('div');\n",
              "          docLink.innerHTML = docLinkHtml;\n",
              "          element.appendChild(docLink);\n",
              "        }\n",
              "      </script>\n",
              "    </div>\n",
              "  </div>\n",
              "  "
            ]
          },
          "metadata": {},
          "execution_count": 4
        }
      ]
    },
    {
      "cell_type": "code",
      "source": [
        "l = df.values.tolist()"
      ],
      "metadata": {
        "id": "Bb11uEUcG0fw"
      },
      "execution_count": null,
      "outputs": []
    },
    {
      "cell_type": "code",
      "source": [
        "l[0]"
      ],
      "metadata": {
        "colab": {
          "base_uri": "https://localhost:8080/"
        },
        "id": "OE_IVUiTHBaS",
        "outputId": "f8e45491-31dc-45e7-f20a-1c824b6858a9"
      },
      "execution_count": null,
      "outputs": [
        {
          "output_type": "execute_result",
          "data": {
            "text/plain": [
              "[1,\n",
              " 'Cardona slowed her vehicle , turned [[around]] and [[returned]] to the intersection , where she called 911',\n",
              " 'Cardona slowed her vehicle , turned [[roughly]] and [[reverting]] to the intersection , where she called 911',\n",
              " 2]"
            ]
          },
          "metadata": {},
          "execution_count": 9
        }
      ]
    },
    {
      "cell_type": "code",
      "source": [
        "text = []\n",
        "for i in l:\n",
        "  text.append(i[1])"
      ],
      "metadata": {
        "id": "bSIxu0hsHPUz"
      },
      "execution_count": null,
      "outputs": []
    },
    {
      "cell_type": "code",
      "source": [
        "text[:5]"
      ],
      "metadata": {
        "colab": {
          "base_uri": "https://localhost:8080/"
        },
        "id": "k-fHTKtAHY0r",
        "outputId": "a9af99e0-3d47-4def-a58e-260bb7341827"
      },
      "execution_count": null,
      "outputs": [
        {
          "output_type": "execute_result",
          "data": {
            "text/plain": [
              "['Cardona slowed her vehicle , turned [[around]] and [[returned]] to the intersection , where she called 911',\n",
              " 'Both [[operating]] [[profit]] and net sales for the three-month [[period]] [[increased]] , respectively from EUR16 .0 m and EUR139m , as compared to the corresponding quarter in 2006',\n",
              " 'Tampere Science Parks is a Finnish company that owns , [[leases]] and [[builds]] office properties and it [[specialises]] in [[facilities]] for technology-oriented [[businesses]]',\n",
              " 'The real estate company posted a net [[loss]] of +ó  x201a -¼ 59.3 million +ó  x201a -¼ 0.21 per share compared with a net [[profit]] of +[[ó]]  x201a -¼ 31 million +ó  x201a -¼ 0.11 per share for the corresponding quarter of 2007',\n",
              " 'The Oxyview Pulse Oximeter is a common device to [[check]] [[patient]] blood-oxygen saturation [[level]] and pulse [[rate]]']"
            ]
          },
          "metadata": {},
          "execution_count": 28
        }
      ]
    },
    {
      "cell_type": "code",
      "source": [
        "dic = {}\n",
        "for sentence in text:\n",
        "  tag = nltk.pos_tag(nltk.word_tokenize(sentence))\n",
        "  # print(tag)\n",
        "  for i in range(len(tag)-1):\n",
        "    if tag[i][0] == '[' and tag[i+1][0] == '[':\n",
        "      # word = tag[i+2][0]\n",
        "      # print(word)\n",
        "      pos = tag[i+2][1]\n",
        "      if pos not in dic:\n",
        "        dic[pos] = 1\n",
        "      else:\n",
        "        dic[pos] += 1"
      ],
      "metadata": {
        "id": "jl_qNxhEKjSq"
      },
      "execution_count": null,
      "outputs": []
    },
    {
      "cell_type": "code",
      "source": [
        "dic"
      ],
      "metadata": {
        "colab": {
          "base_uri": "https://localhost:8080/"
        },
        "id": "RE9B1vELLJos",
        "outputId": "17bd7013-782b-4cf3-ad54-064a14028a9c"
      },
      "execution_count": null,
      "outputs": [
        {
          "output_type": "execute_result",
          "data": {
            "text/plain": [
              "{'CD': 19,\n",
              " 'DT': 14,\n",
              " 'FW': 1,\n",
              " 'IN': 17,\n",
              " 'JJ': 86,\n",
              " 'JJR': 3,\n",
              " 'JJS': 5,\n",
              " 'MD': 1,\n",
              " 'NN': 313,\n",
              " 'NNP': 120,\n",
              " 'NNPS': 1,\n",
              " 'NNS': 96,\n",
              " 'PRP': 1,\n",
              " 'RB': 39,\n",
              " 'VB': 7,\n",
              " 'VBD': 164,\n",
              " 'VBG': 37,\n",
              " 'VBN': 27,\n",
              " 'VBP': 14,\n",
              " 'VBZ': 32}"
            ]
          },
          "metadata": {},
          "execution_count": 35
        }
      ]
    },
    {
      "cell_type": "code",
      "source": [
        "sorted_dic = sorted(dic.items(), key = lambda x:x[1],reverse=True)\n",
        "sorted_dic"
      ],
      "metadata": {
        "colab": {
          "base_uri": "https://localhost:8080/"
        },
        "id": "UrFvDoEVIOI4",
        "outputId": "1c57ff74-5400-499b-c0e1-4342810e3b4d"
      },
      "execution_count": null,
      "outputs": [
        {
          "output_type": "execute_result",
          "data": {
            "text/plain": [
              "[('NN', 313),\n",
              " ('VBD', 164),\n",
              " ('NNP', 120),\n",
              " ('NNS', 96),\n",
              " ('JJ', 86),\n",
              " ('RB', 39),\n",
              " ('VBG', 37),\n",
              " ('VBZ', 32),\n",
              " ('VBN', 27),\n",
              " ('CD', 19),\n",
              " ('IN', 17),\n",
              " ('DT', 14),\n",
              " ('VBP', 14),\n",
              " ('VB', 7),\n",
              " ('JJS', 5),\n",
              " ('JJR', 3),\n",
              " ('MD', 1),\n",
              " ('PRP', 1),\n",
              " ('NNPS', 1),\n",
              " ('FW', 1)]"
            ]
          },
          "metadata": {},
          "execution_count": 37
        }
      ]
    },
    {
      "cell_type": "code",
      "source": [
        "import matplotlib.pyplot as plt\n",
        "names = [i[0] for i in sorted_dic]\n",
        "values = [i[1] for i in sorted_dic]\n",
        "# values = list(sorted_dic.values())\n",
        "f, ax = plt.subplots(figsize=(18,5))\n",
        "plt.title(\"Distribution of Perturbed Words in Successful Adversarial Attacks\")\n",
        "plt.bar(range(len(names)), values, tick_label=names)\n",
        "plt.xlabel('tags')\n",
        "# ax.legend(fontsize = 14)\n",
        "plt.show()\n"
      ],
      "metadata": {
        "colab": {
          "base_uri": "https://localhost:8080/",
          "height": 350
        },
        "id": "urlG4O5wNwic",
        "outputId": "ec5f8a47-0ff8-4064-ab14-10883dccf859"
      },
      "execution_count": null,
      "outputs": [
        {
          "output_type": "display_data",
          "data": {
            "text/plain": [
              "<Figure size 1296x360 with 1 Axes>"
            ],
            "image/png": "[encoded data removed]"
          },
          "metadata": {
            "needs_background": "light"
          }
        }
      ]
    },
    {
      "cell_type": "code",
      "source": [
        ""
      ],
      "metadata": {
        "id": "HQlGAxpHOaik"
      },
      "execution_count": null,
      "outputs": []
    }
  ]
}