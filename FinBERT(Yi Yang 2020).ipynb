{
 "cells": [
  {
   "cell_type": "code",
   "execution_count": 1,
   "id": "4571535c",
   "metadata": {},
   "outputs": [],
   "source": [
    "from transformers import BertTokenizer, BertForSequenceClassification\n",
    "import numpy as np\n",
    "\n",
    "finbert = BertForSequenceClassification.from_pretrained('yiyanghkust/finbert-tone',num_labels=3)\n",
    "tokenizer = BertTokenizer.from_pretrained('yiyanghkust/finbert-tone')\n",
    "\n",
    "sentences = [\"there is a shortage of capital, and we need extra financing\", \n",
    "             \"growth is strong and we have plenty of liquidity\", \n",
    "             \"there are doubts about our finances\", \n",
    "             \"profits are flat\"]\n",
    "\n"
   ]
  },
  {
   "cell_type": "code",
   "execution_count": 7,
   "id": "acff0526",
   "metadata": {},
   "outputs": [],
   "source": [
    "import pandas\n",
    "\n",
    "headline_df = pandas.read_csv(\"dataset/headline_train.csv\")\n",
    "headline_df.head(5)\n",
    "headlines_array = np.array(headline_df)\n",
    "np.random.shuffle(headlines_array)\n",
    "headlines_list = list(headlines_array[:,1])\n",
    "\n",
    "post_df = pandas.read_csv(\"dataset/post_train.csv\")\n",
    "post_df.head(5)\n",
    "post_array = np.array(post_df)\n",
    "np.random.shuffle(post_array)\n",
    "post_list = list(post_array[:,1])"
   ]
  },
  {
   "cell_type": "code",
   "execution_count": 8,
   "id": "ccb95b2b",
   "metadata": {},
   "outputs": [],
   "source": [
    "# Headline Inference\n",
    "\n",
    "headline_inputs = tokenizer(headlines_list, return_tensors=\"pt\", padding=True)\n",
    "headline_outputs = finbert(**headline_inputs)[0]"
   ]
  },
  {
   "cell_type": "code",
   "execution_count": 17,
   "id": "6151b0df",
   "metadata": {},
   "outputs": [
    {
     "name": "stdout",
     "output_type": "stream",
     "text": [
      "Headline Prediction Rate:  44.72477064220183 %\n"
     ]
    }
   ],
   "source": [
    "# Headlie Accuracy\n",
    "def find_label(value):\n",
    "    if -0.1 <= value <= 0.1:\n",
    "        return 0\n",
    "    elif value < -0.1:\n",
    "        return 2\n",
    "    else:\n",
    "        return 1\n",
    "\n",
    "labels = {0:'neutral', 1:'positive',2:'negative'}\n",
    "correct = 0.0\n",
    "total = 0\n",
    "for idx, sent in enumerate(headlines_array):\n",
    "    true_label = find_label(float(sent[4]))\n",
    "    total += 1\n",
    "    #  print(sent, '----', labels[np.argmax(headline_outputs.detach().numpy()[idx])])\n",
    "    if true_label == np.argmax(headline_outputs.detach().numpy()[idx]):\n",
    "        correct += 1\n",
    "print(\"Headline Prediction Accuracy: \", correct / total * 100, \"%\")                            "
   ]
  },
  {
   "cell_type": "code",
   "execution_count": 18,
   "id": "6dbdada9",
   "metadata": {},
   "outputs": [],
   "source": [
    "# Post inference\n",
    "\n",
    "post_inputs = tokenizer(post_list, return_tensors=\"pt\", padding=True)\n",
    "post_outputs = finbert(**post_inputs)[0]"
   ]
  },
  {
   "cell_type": "code",
   "execution_count": 19,
   "id": "915f7940",
   "metadata": {},
   "outputs": [
    {
     "name": "stdout",
     "output_type": "stream",
     "text": [
      "Post Prediction Accuracy:  35.7037037037037 %\n"
     ]
    }
   ],
   "source": [
    "# Post Accuracy\n",
    "def find_label(value):\n",
    "    if -0.1 <= value <= 0.1:\n",
    "        return 0\n",
    "    elif value < -0.1:\n",
    "        return 2\n",
    "    else:\n",
    "        return 1\n",
    "\n",
    "labels = {0:'neutral', 1:'positive',2:'negative'}\n",
    "correct = 0.0\n",
    "total = 0\n",
    "for idx, sent in enumerate(post_array):\n",
    "    true_label = find_label(float(sent[4]))\n",
    "    total += 1\n",
    "    #  print(sent, '----', labels[np.argmax(headline_outputs.detach().numpy()[idx])])\n",
    "    if true_label == np.argmax(post_outputs.detach().numpy()[idx]):\n",
    "        correct += 1\n",
    "print(\"Post Prediction Accuracy: \", correct / total * 100, \"%\")          "
   ]
  },
  {
   "cell_type": "markdown",
   "id": "3b6491bb",
   "metadata": {},
   "source": [
    "# FinBERT (Yang) With Financial Bank Phrase"
   ]
  },
  {
   "cell_type": "code",
   "execution_count": 2,
   "id": "d272c582",
   "metadata": {},
   "outputs": [],
   "source": [
    "from transformers import BertTokenizer, BertForSequenceClassification\n",
    "import numpy as np\n",
    "import pandas\n",
    "\n",
    "finbert = BertForSequenceClassification.from_pretrained('yiyanghkust/finbert-tone',num_labels=3)\n",
    "tokenizer = BertTokenizer.from_pretrained('yiyanghkust/finbert-tone')\n",
    "\n",
    "fpb_df = pandas.read_csv(\"dataset/FPB100.csv\")\n",
    "fpb_df.head(5)\n",
    "fpb_array = np.array(fpb_df)\n",
    "np.random.shuffle(fpb_array)\n",
    "fpb_list = list(fpb_array[:, 1])\n",
    "# print(fpb_list)\n",
    "# headlines_array = np.array(headline_df)\n",
    "# np.random.shuffle(headlines_array)\n",
    "# headlines_list = list(headlines_array[:,1])"
   ]
  },
  {
   "cell_type": "code",
   "execution_count": null,
   "id": "1ea4ce44",
   "metadata": {},
   "outputs": [],
   "source": [
    "# Headline Inference\n",
    "\n",
    "fpb_inputs = tokenizer(fpb_list, return_tensors=\"pt\", padding=True)\n",
    "fpb_outputs = finbert(**fpb_inputs)[0]"
   ]
  }
 ],
 "metadata": {
  "kernelspec": {
   "display_name": "cs269",
   "language": "python",
   "name": "cs269"
  },
  "language_info": {
   "codemirror_mode": {
    "name": "ipython",
    "version": 3
   },
   "file_extension": ".py",
   "mimetype": "text/x-python",
   "name": "python",
   "nbconvert_exporter": "python",
   "pygments_lexer": "ipython3",
   "version": "3.7.11"
  }
 },
 "nbformat": 4,
 "nbformat_minor": 5
}
