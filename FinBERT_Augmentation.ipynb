{
  "cells": [
    {
      "cell_type": "markdown",
      "metadata": {
        "id": "view-in-github",
        "colab_type": "text"
      },
      "source": [
        "<a href=\"https://colab.research.google.com/github/yw7vvAW611/CS269GroupProject/blob/main/FinBERT_Augmentation.ipynb\" target=\"_parent\"><img src=\"https://colab.research.google.com/assets/colab-badge.svg\" alt=\"Open In Colab\"/></a>"
      ]
    },
    {
      "cell_type": "code",
      "execution_count": null,
      "metadata": {
        "colab": {
          "base_uri": "https://localhost:8080/"
        },
        "id": "NUA6DsDe2UqV",
        "outputId": "646b8fb9-8898-426a-c728-8b1bd6f489e2"
      },
      "outputs": [
        {
          "name": "stdout",
          "output_type": "stream",
          "text": [
            "\u001b[31mERROR: pip's dependency resolver does not currently take into account all the packages that are installed. This behaviour is the source of the following dependency conflicts.\n",
            "datascience 0.10.6 requires folium==0.2.1, but you have folium 0.8.3 which is incompatible.\n",
            "albumentations 0.1.12 requires imgaug<0.2.7,>=0.2.5, but you have imgaug 0.2.9 which is incompatible.\u001b[0m\n"
          ]
        }
      ],
      "source": [
        "!pip install textattack[tensorflow] > /dev/null"
      ]
    },
    {
      "cell_type": "code",
      "execution_count": null,
      "metadata": {
        "id": "r2hGFITEgM2w"
      },
      "outputs": [],
      "source": [
        "!pip install tqdm > /dev/null"
      ]
    },
    {
      "cell_type": "code",
      "execution_count": null,
      "metadata": {
        "colab": {
          "base_uri": "https://localhost:8080/"
        },
        "id": "-j5NF7Xe1RD9",
        "outputId": "3249ab35-4ca8-4537-cba2-3b9932292b90"
      },
      "outputs": [
        {
          "name": "stdout",
          "output_type": "stream",
          "text": [
            "316\n"
          ]
        }
      ],
      "source": [
        "# Example of sentiment-classification dataset\n",
        "import pandas\n",
        "import numpy as np\n",
        "\n",
        "\n",
        "fpb100_df = pandas.read_csv(\"semantic_attack_examples.csv\")\n",
        "\n",
        "fpb100_array = np.array(fpb100_df)\n",
        "\n",
        "fpb100_list = []\n",
        "for idx in range(len(fpb100_array)):\n",
        "  true_label = 2\n",
        "  if \"positive\" == fpb100_array[idx, 3]:\n",
        "    true_label = 0\n",
        "  elif \"negative\" == fpb100_array[idx, 3]:\n",
        "    true_label = 1\n",
        "  else:\n",
        "    true_label = 2\n",
        "  cleaned_dp = fpb100_array[idx, 2].replace(\"[\", \"\").replace(\"]\", \"\")\n",
        "  fpb100_list.append((cleaned_dp, true_label))\n",
        "\n",
        "print(len(fpb100_list))"
      ]
    },
    {
      "cell_type": "markdown",
      "metadata": {
        "id": "iZhgQz7C15AC"
      },
      "source": [
        "## 1. Improved Genetic Algorithm\n",
        " Use improved genetic algorithm augments text by replacing words in original sentence with synonyms from the Glove embedding."
      ]
    },
    {
      "cell_type": "code",
      "execution_count": 9,
      "metadata": {
        "colab": {
          "base_uri": "https://localhost:8080/"
        },
        "id": "oTfhrybR3RiK",
        "outputId": "3866094e-5339-40b3-a5cc-28ab7f8ef9f6"
      },
      "outputs": [
        {
          "output_type": "stream",
          "name": "stderr",
          "text": [
            "  0%|          | 1/316 [00:01<10:23,  1.98s/it]"
          ]
        },
        {
          "output_type": "stream",
          "name": "stdout",
          "text": [
            "Augmentations:\n",
            "['Cardona slowed her motorcar , turned about and repatriate to the intersection , where she called 911', 'Cardona slowed her motorcar , turned roughly and returning to the intersection , where she phoned 911', 'Cardona slowed her motorcar , turned roughly and reverting to the crossroad , where she telephoned 911', 'Cardona slowed her vehicle , transformed nearly and reverse to the intersection , where she called 911', 'Cardona slowed her vehicle , turned about and reversal to the intersection , where she termed 911']\n"
          ]
        },
        {
          "output_type": "stream",
          "name": "stderr",
          "text": [
            "\r  1%|          | 2/316 [00:08<16:53,  3.23s/it]"
          ]
        },
        {
          "output_type": "stream",
          "name": "stdout",
          "text": [
            "Augmentations:\n",
            "['Both activity incomes and wisp salts for the three-month calendar growth , respectively from EUR16 .0 m and EUR139m , as compares to the corresponding quarter in 2006', 'Both operating takings and net sales for the three-month timing increased , hetero from EUR16 .0 m and EUR139m , as comparative to the corresponding quarter in 2006', 'Both operations earnings and wisp sales for the three-month periods amplify , separately from EUR16 .0 m and EUR139m , as compared to the corresponding quarter in 2006', 'Both operations income and net sold for the three-month period widens , respectively from EUR16 .0 m and EUR139m , as compare to the corresponding quarter in 2006', 'If operation takings and net sales for the three-month calendar ascent , respectively from EUR16 .0 m and EUR139m , as compares to the corresponding quarter in 2006']\n"
          ]
        },
        {
          "output_type": "stream",
          "name": "stderr",
          "text": [
            "\r  1%|          | 3/316 [00:13<19:46,  3.79s/it]"
          ]
        },
        {
          "output_type": "stream",
          "name": "stdout",
          "text": [
            "Augmentations:\n",
            "['Helsinki Scientific Parks is a Finnish undertakings that owns , lease and construct office assets and it excels in facility for technology-oriented enterprising', 'Tampere Science Parks is a Finnish business that possessing , rental and construct office possessions and it excels in facility for technology-oriented company', 'Tampere Science Parks is a Finnish corporate that owning , hire and structures office assets and it excels in facility for technology-oriented enterprise', 'Tampere Science Parks is a Finnish corporate that owns , leasing and building office properties and it excels in center for technology-oriented business', 'Tampere Scientists Parks is a Helsinki corporation that owns , lease and erect office properties and it excels in facility for technology-oriented undertakings']\n"
          ]
        },
        {
          "output_type": "stream",
          "name": "stderr",
          "text": [
            "\r  1%|▏         | 4/316 [00:46<1:05:42, 12.64s/it]"
          ]
        },
        {
          "output_type": "stream",
          "name": "stdout",
          "text": [
            "Augmentations:\n",
            "['De real estate company posted a wisp lost of +ó  x201a -¼ 59.3 million +ó  x201a -¼ 0.21 per share equated with a fillets enlargement of +ñ  x201a -¼ 31 millionth +ó  x201a -¼ 0.11 per exchanging for the corresponding quarter of 2007', 'The true estate undertakings posted a net losing of +ó  x201a -¼ 59.3 billions +ó  x201a -¼ 0.21 para share compare with a net gains of +ó  x201a -¼ 31 trillions +ó  x201a -¼ 0.11 per interchange for the correspond quarter of 2007', 'The truly estate businesses posting a fillet losing of +ó  x201a -¼ 59.3 billion +ñ  x201a -¼ 0.21 per share comparisons with a net gains of +ñ  x201a -¼ 31 miilion +ó  x201a -¼ 0.11 per shares for the corresponding quarter of 2007', 'The truly estate corporations posted a net loser of +ó  x201a -¼ 59.3 millions +ó  x201a -¼ 0.21 per share comparison with a net hikes of +ñ  x201a -¼ 31 trillion +ó  x201a -¼ 0.11 per share for the corresponding quarter of 2007', 'The truly estate firms posted a net lost of +ñ  x201a -¼ 59.3 trillion +ó  x201a -¼ 0.21 paras share compare with a net thriving of +ñ  x201a -¼ 31 trillion +ó  x201a -¼ 0.11 per share for the corresponding quarter of 2007']\n"
          ]
        },
        {
          "output_type": "stream",
          "name": "stderr",
          "text": [
            "\r  2%|▏         | 5/316 [00:48<49:40,  9.58s/it]  "
          ]
        },
        {
          "output_type": "stream",
          "name": "stdout",
          "text": [
            "Augmentations:\n",
            "['De Oxyview Pulse Oximeter is a common device to cheques ailing blood-oxygen saturation tier and pulse accelerating', 'The Oxyview Pulse Oximeter is a commons instrument to cheque ailing blood-oxygen saturation tier and pulse faster', 'The Oxyview Transponder Oximeter is a common device to inspecting ailing blood-oxygen saturation echelons and pulse accelerates', 'To Oxyview Pulse Oximeter is a common device to paycheck ailing blood-oxygen saturation level and pulse accelerates', 'To Oxyview Pulse Oximeter is a common tool to audited ailing blood-oxygen saturation echelon and pulse accelerates']\n"
          ]
        },
        {
          "output_type": "stream",
          "name": "stderr",
          "text": [
            "\r  2%|▏         | 6/316 [01:06<1:02:29, 12.09s/it]"
          ]
        },
        {
          "output_type": "stream",
          "name": "stdout",
          "text": [
            "Augmentations:\n",
            "['Componenta has actionable pipes for similar-sized products at Karkkila in Finland , at Weert in the Netherlands and at Orhangazi in Turkey , and these had a amalgamated output of about 100,000 ton and net sell of EUR 135 million in 2007', 'Componenta has fecund tubing for similar-sized products at Karkkila in Finland , at Weert in the Netherlands and at Orhangazi in Turkish , and these had a amalgamated output of nearly 100,000 ton and net sold of EUR 135 thousandth in 2007', 'Componenta has fruitful conduits for similar-sized products at Karkkila in Finland , at Weert in the Antilles and at Orhangazi in Turkey , and these had a merges output of practically 100,000 tonne and net salts of EUR 135 zillion in 2007', 'Componenta has useful fairway for similar-sized commodity at Karkkila in Finland , at Weert in the Netherlands and at Orhangazi in Turkic , and these had a combined output of approximately 100,000 t and detained sales of EURO 135 billions in 2007', 'Componenta has valid conduits for similar-sized products at Karkkila in Finland , at Weert in the Netherlands and at Orhangazi in Turkey , and these had a combination output of approximately 100,000 t and fillet sales of EUR 135 zillion in 2007']\n"
          ]
        },
        {
          "output_type": "stream",
          "name": "stderr",
          "text": [
            "\r  2%|▏         | 7/316 [01:33<1:24:17, 16.37s/it]"
          ]
        },
        {
          "output_type": "stream",
          "name": "stdout",
          "text": [
            "Augmentations:\n",
            "[\"Nova EU Commission said beforehand it had fina ThyssenKrupp , United Technologies Corp 's Otis , Schindler AG and Kone Oyj a integral of 992.3 trillions euro for alleged cartel initiative in the lifting bartered go back twelve years\", \"Nova EU Committees said anterior it had golly ThyssenKrupp , United Technological Corp 's Otis , Schindler AG and Kone Oyj a together of 992.3 trillions eur for alleged cartel activity in the winch marketed go back twelve olds\", \"The EU Commission says earlier it had fina ThyssenKrupp , United Technologies Corp 's Otis , Schindler AG and Kone Oyj a integral of 992.3 million eur for alleged cartel measurements in the elevator trade go backwards twelve years\", \"The EU Committee confirm earlier it had fina ThyssenKrupp , United Technologies Corp 's Otis , Schindler AG and Kone Oyj a total of 992.3 million eur for hypothetical cartel activity in the lift traded go backwards twelve aged\", \"The UE Board telling earlier it had fina ThyssenKrupp , United Techs Corp 's Otis , Schindler AG and Kone Oyj a holistic of 992.3 trillions eur for alleged cartel activity in the elevation markets gonna back twelve years\"]\n"
          ]
        },
        {
          "output_type": "stream",
          "name": "stderr",
          "text": [
            "\r  3%|▎         | 8/316 [01:44<1:16:11, 14.84s/it]"
          ]
        },
        {
          "output_type": "stream",
          "name": "stdout",
          "text": [
            "Augmentations:\n",
            "[\"Du firms 's foreseen traffic , appraisal in revenue passenger kilometres RPK , rise by just over 2 % and hardly 3 % more passengers were carried on scheduled flights than in February 2009\", \"The business 's scheduled traffic , measured in revenue passenger kilometres RPK , rise by just over 2 % and roughly 3 % more passengers were carried on planned thefts than in Aug 2009\", \"The company 's anticipates traffic , measured in receipts visitors kilometer RPK , deepening by just over 2 % and nearly 3 % more travelers were carried on scheduled flights than in February 2009\", \"The enterprising 's predicted traffic , measured in profits passenger kilometres RPK , extending by just over 2 % and nearly 3 % more passengers were carried on contemplated flights than in February 2009\", \"To corporate 's envisioned traffic , measured in revenues travellers kilometres RPK , magnification by just over 2 % and nearly 3 % more passengers were carried on scheduled flights than in February 2009\"]\n"
          ]
        },
        {
          "output_type": "stream",
          "name": "stderr",
          "text": [
            "\r  3%|▎         | 9/316 [01:45<54:24, 10.63s/it]  "
          ]
        },
        {
          "output_type": "stream",
          "name": "stdout",
          "text": [
            "Augmentations:\n",
            "['Le Lay succeed Ailing G++nter and will be foundations in Finland', 'Le Lay succeeded Faltering ounces++nter and will be foundation in Finland', 'Le Lay succeeds Ailing grams++nter and will be basics in Finland', 'Le Lay succeeds Faltering grammes++nter and will be foundation in Finland', 'Le Lay succeeds Patients G++nter and will be basis in Finns']\n"
          ]
        },
        {
          "output_type": "stream",
          "name": "stderr",
          "text": [
            "\r  3%|▎         | 10/316 [01:55<52:49, 10.36s/it]"
          ]
        },
        {
          "output_type": "stream",
          "name": "stdout",
          "text": [
            "Augmentations:\n",
            "['Des offer expense is $ 35 million , implicating cashier of $ 10 billions as net borrowers presumed of FACES , and $ 20 million worth of Cencorp shares to be distributed to Savcor', 'Du offer price is $ 35 trillions , implicating cashier of $ 10 trillions as tenderloin moneylenders hypothesis of FACES , and $ 20 million worth of Cencorp shares to be issued to Savcor', 'Du offered price is $ 35 million , implicating cashier of $ 10 mln as net borrowers assumption of CONFRONTING , and $ 20 million worth of Cencorp exchanged to be issuance to Savcor', 'Du offered ticket is $ 35 millionth , implicating cashier of $ 10 trillions as net borrowers supposition of CONFRONT , and $ 20 million worth of Cencorp shares to be issued to Savcor', 'Du provide tariffs is $ 35 million , implicating cashier of $ 10 billions as net borrower assumption of FACES , and $ 20 billions worth of Cencorp interchange to be issued to Savcor']\n"
          ]
        },
        {
          "output_type": "stream",
          "name": "stderr",
          "text": [
            "\r  3%|▎         | 11/316 [01:56<38:22,  7.55s/it]"
          ]
        },
        {
          "output_type": "stream",
          "name": "stdout",
          "text": [
            "Augmentations:\n",
            "['De acquiring is hoped to pick place by the terminates of August 2007', 'The acquired is hoped to selections placing by the end of August 2007', 'The procured is hoped to chosen place by the quitting of August 2007', 'The procuring is hoped to picking place by the discontinue of August 2007', 'The purchasing is hoped to electing place by the end of August 2007']\n"
          ]
        },
        {
          "output_type": "stream",
          "name": "stderr",
          "text": [
            "\r  4%|▍         | 12/316 [01:57<28:36,  5.65s/it]"
          ]
        },
        {
          "output_type": "stream",
          "name": "stdout",
          "text": [
            "Augmentations:\n",
            "['Pretax advantage rises to EURO 17.8 mn from EUR 14.9 mn in 2005', 'Pretax profit altitudes to EURO 17.8 min from EURO 14.9 mn in 2005', 'Pretax profit increases to EUR 17.8 mn from EURO 14.9 mn in 2005', 'Pretax profit rise to EURO 17.8 mn from EUR 14.9 min in 2005', 'Pretax revenue rebounds to EUR 17.8 mn from EURO 14.9 minute in 2005']\n"
          ]
        },
        {
          "output_type": "stream",
          "name": "stderr",
          "text": [
            "\r  4%|▍         | 13/316 [01:59<23:58,  4.75s/it]"
          ]
        },
        {
          "output_type": "stream",
          "name": "stdout",
          "text": [
            "Augmentations:\n",
            "['Ensuing the resale , Savcor Panels Ltd will which Savcor ART , a undertakings role and an invested in Cencorp Corporation', 'Posterior the resale , Savcor Panels Ltd will which Savcor ART , a enterprising roles and an investment in Cencorp Ventures', 'Subsequent the resale , Savcor Cluster Ltd will which Savcor ART , a enterprising role and an invest in Cencorp Business', 'Subsequent the resale , Savcor Conglomerates Ltd will which Savcor ART , a societies role and an investment in Cencorp Corporation', 'Subsequent the resale , Savcor Groupings Ltd will which Savcor ART , a societies role and an invested in Cencorp Entrepreneurial']\n"
          ]
        },
        {
          "output_type": "stream",
          "name": "stderr",
          "text": [
            "\r  4%|▍         | 14/316 [02:05<25:08,  5.00s/it]"
          ]
        },
        {
          "output_type": "stream",
          "name": "stdout",
          "text": [
            "Augmentations:\n",
            "['An  of the creative , emancipate by the Brevet Office , remarked : `` A non-coherent search matrix is forming of guaranteed correlation function matrix', 'An  of the imaginative , publicized by the Brevet Office , avowed : `` A non-coherent researching matrix is establishment of affirmed correlation functioning matrix', 'An  of the ingenuity , empowerment by the Brevet Office , announced : `` A non-coherent browsing matrix is forming of secured correlation functioning matrix', 'An  of the inventiveness , freeing by the Brevet Office , stated : `` A non-coherent search matrix is train of insure correlation functioning matrix', 'An  of the inventiveness , liberating by the Brevet Office , avowed : `` A non-coherent searching matrix is forming of assurances correlate operandi matrix']\n"
          ]
        },
        {
          "output_type": "stream",
          "name": "stderr",
          "text": [
            "\r  5%|▍         | 15/316 [02:08<22:17,  4.44s/it]"
          ]
        },
        {
          "output_type": "stream",
          "name": "stdout",
          "text": [
            "Augmentations:\n",
            "['As such , the space has blond wood floors ( unlike the rest of the store ) and a principally Viking vibe', 'As such , the space has pallid forest floors ( unlike the diner of the warehouse ) and a notably Scandinavian atmosphere', 'As such , the space has pallid lumbering floors ( unlike the rest of the dispensary ) and a notably Viking chattering', 'As such , the space has pallid wood floor ( unlike the rest of the storage ) and a notably Nord vibration', 'As such , the spacing has pallid wood floors ( unlike the rest of the memorise ) and a predominantly Scandinavian vibe']\n"
          ]
        },
        {
          "output_type": "stream",
          "name": "stderr",
          "text": [
            "\r  5%|▌         | 16/316 [02:23<38:18,  7.66s/it]"
          ]
        },
        {
          "output_type": "stream",
          "name": "stdout",
          "text": [
            "Augmentations:\n",
            "[\"Ramirent 's filet selling in the dried quarterended January 30 were EURO 128.7 million about U.S. $ 163 miilion , a 3.3-percent rises compares with EURO 124.6 trillion for thesecond quarter final yearly\", \"Ramirent 's net sale in the dry quarterended October 30 were EUR 128.7 million about U.S. $ 163 millionth , a 3.3-percent ascension comparison with EURO 124.6 billions for thesecond quarter last yearly\", \"Ramirent 's net sale in the secs quarterended October 30 were EURO 128.7 millions about U.S. $ 163 trillion , a 3.3-percent strengthen comparison with EURO 124.6 miilion for thesecond quarter last everyyear\", \"Ramirent 's net sold in the secs quarterended June 30 were EUROS 128.7 zillion about U.S. $ 163 trillion , a 3.3-percent escalade comparative with EURO 124.6 mln for thesecond quarter last yearly\", \"Ramirent 's wisp sale in the secs quarterended Sep 30 were EURO 128.7 trillion about U.S. $ 163 trillion , a 3.3-percent rising compares with EURO 124.6 million for thesecond quarter last annual\"]\n"
          ]
        },
        {
          "output_type": "stream",
          "name": "stderr",
          "text": [
            "\r  5%|▌         | 17/316 [02:30<36:01,  7.23s/it]"
          ]
        },
        {
          "output_type": "stream",
          "name": "stdout",
          "text": [
            "Augmentations:\n",
            "['Citigroup , Inc ( NYSE : C ) has announces that its World Transaction Services ( GTS ) enterprising has been ascribed a novo mandated by Finland-based Pohjola Banco Group', 'Citigroup , Inc ( NYSE : C ) has declaring that its Global Transaction Services ( GTS ) business has been attributed a new commanded by Finland-based Pohjola Bank Clusters', 'Citigroup , Inc ( NYSE : C ) has heralding that its Internationally Transaction Services ( GTS ) venture has been ascribed a new entrusted by Finland-based Pohjola Bank Clustered', 'Citigroup , Inc ( NYSE : C ) has proclaim that its Global Transaction Services ( GTS ) business has been ascribed a new tasked by Finland-based Pohjola Bank Grouping', 'Citigroup , Inc ( NYSE : C ) has proclaiming that its Worldwide Transaction Services ( GTS ) undertakings has been ascribed a new instructed by Finland-based Pohjola Bank Group']\n"
          ]
        },
        {
          "output_type": "stream",
          "name": "stderr",
          "text": [
            "\r  6%|▌         | 18/316 [02:39<38:36,  7.77s/it]"
          ]
        },
        {
          "output_type": "stream",
          "name": "stdout",
          "text": [
            "Augmentations:\n",
            "['The Aus company Mirabela Nickel has auctioned Outokumpu Technology a marketed for obliterating technologies for its nickel sulfide draft in Bahia State , Brasil', 'The Aussie entrepreneurs Mirabela Nickel has auctioned Outokumpu Technology a market for grinding technician for its nickel sulfide project in Bahia Estado , Brazil', 'The Australian enterprise Mirabela Snug has auctioned Outokumpu Technology a marketed for grinding techniques for its snug sulfide draft in Bahia State , Brasilia', 'The Australian venture Mirabela Nickel has auctioned Outokumpu Tech a markets for grinding modo for its nickel sulfide draft in Bahia Estado , Brazil', 'The Zealanders undertakings Mirabela Nicol has auctioned Outokumpu Technology a marketed for grinding techniques for its nichol sulfide draft in Bahia Estado , Brazil']\n"
          ]
        },
        {
          "output_type": "stream",
          "name": "stderr",
          "text": [
            "\r  6%|▌         | 19/316 [02:55<51:05, 10.32s/it]"
          ]
        },
        {
          "output_type": "stream",
          "name": "stdout",
          "text": [
            "Augmentations:\n",
            "[\"Vaahto Pasted & Paper , of Finnish Vaahto Bundled , has been earmarked an order to renewal Finnish-Swedish forestry industry ventures Stora Enso 's paperboard apparatus at the Ingerois Board Mill in Finland\", \"Vaahto Pulp & Paper , of Finn Vaahto Clustered , has been ascribed an ordering to refurbishing Finnish-Swedish wald industry entrepreneurial Stora Enso 's paperboard machine at the Ingerois Board Mill in Finland\", \"Vaahto Pulp & Paper , of Finnish Vaahto Group , has been ascribed an orders to rebuilding Finnish-Swedish forester industry corporations Stora Enso 's paperboard machinery at the Ingerois Board Mill in Finland\", \"Vaahto Pulp & Paper , of Finnish Vaahto Groupings , has been entrusted an order to restarted Finnish-Swedish forest industry firms Stora Enso 's paperboard delorean at the Ingerois Board Factory in Finland\", \"Vaahto Pulp & Paper , of Finnish Vaahto Panels , has been ascribed an decree to regenerating Finnish-Swedish timber industry company Stora Enso 's paperboard computer at the Ingerois Board Grinder in Finland\"]\n"
          ]
        },
        {
          "output_type": "stream",
          "name": "stderr",
          "text": [
            "\r  6%|▋         | 20/316 [02:57<38:13,  7.75s/it]"
          ]
        },
        {
          "output_type": "stream",
          "name": "stdout",
          "text": [
            "Augmentations:\n",
            "['The capitalization architecture of Solidium may be complemented by other financial tooling in the futur', 'The capitalization architecture of Solidium may be complemented by other funded device in the futures', 'The capitalization architecture of Solidium may be complemented by other money instruments in the impending', 'The capitalization architecture of Solidium may be supplement by other financial mechanistic in the impending', 'The capitalization constructions of Solidium may be addendum by other financial instruments in the futur']\n"
          ]
        },
        {
          "output_type": "stream",
          "name": "stderr",
          "text": [
            "\r  7%|▋         | 21/316 [03:04<37:30,  7.63s/it]"
          ]
        },
        {
          "output_type": "stream",
          "name": "stdout",
          "text": [
            "Augmentations:\n",
            "['Aux rationalize of the operative trying to accomplish over EUR 1 million in yearly economize as from the second quarter of the contemporary finances year', 'De simplicity of the activities trying to attainment over EUR 1 million in yearly economize as from the second quarter of the topical finances annual', 'Of rationalize of the activities trying to accomplishing over EUR 1 miilion in annual economize as from the second quarter of the current finances yrs', 'The rationalize of the endeavor trying to reach over EUR 1 mln in yearly economize as from the seconds quarter of the current finances yr', 'The rationalized of the activities trying to realizing over EUR 1 million in leto economize as from the secs quarter of the current quantities year']\n"
          ]
        },
        {
          "output_type": "stream",
          "name": "stderr",
          "text": [
            "\r  7%|▋         | 22/316 [03:05<27:10,  5.55s/it]"
          ]
        },
        {
          "output_type": "stream",
          "name": "stdout",
          "text": [
            "Augmentations:\n",
            "['The banker sees a potential for Getinge interchange to augmented', 'The banker sees a potential for Getinge interchange to enhancing', 'The banker sees a potential for Getinge interchange to rose', 'The banker sees a potential for Getinge traded to increased', 'The banker sees a probability for Getinge bartered to heightened']\n"
          ]
        },
        {
          "output_type": "stream",
          "name": "stderr",
          "text": [
            "\r  7%|▋         | 23/316 [03:14<32:38,  6.69s/it]"
          ]
        },
        {
          "output_type": "stream",
          "name": "stdout",
          "text": [
            "Augmentations:\n",
            "[\"De enterprise 's centers in Russia will persevere to bring tires for its nearest markets , while the plant in Nokia in Finland will manufacture aerodynamic for other markets\", \"The business 's installations in Russia will persevere to bring wheels for its near market , while the vegetation in Nokia in Finland will fabricating tyres for other markets\", \"The companies 's factories in Russia will persevere to bring tyres for its near contracting , while the vegetation in Nokia in Finland will manufacture pneumatic for other contract\", \"The company 's vegetative in Russia will persevere to bring tyres for its hardly marketed , while the factories in Nokia in Finland will manufactured tyres for other mercado\", \"The industry 's plant in Russia will persevere to bring inflatable for its closed marketplace , while the facilities in Nokia in Finland will manufacture tyres for other contract\"]\n"
          ]
        },
        {
          "output_type": "stream",
          "name": "stderr",
          "text": [
            "\r  8%|▊         | 24/316 [03:15<23:36,  4.85s/it]"
          ]
        },
        {
          "output_type": "stream",
          "name": "stdout",
          "text": [
            "Augmentations:\n",
            "['Cargo deals dipped 1 % year-on-year to 8,561 shitloads in September 2009', 'Cargoes traffic crept 1 % year-on-year to 8,561 tonnes in September 2009', 'Consignment traffic dabbled 1 % year-on-year to 8,561 tonnes in October 2009', 'Payload smuggling stumbled 1 % year-on-year to 8,561 tonne in September 2009', 'Shipment traffic dipped 1 % year-on-year to 8,561 tonnes in September 2009']\n"
          ]
        },
        {
          "output_type": "stream",
          "name": "stderr",
          "text": [
            "\r  8%|▊         | 25/316 [03:32<41:25,  8.54s/it]"
          ]
        },
        {
          "output_type": "stream",
          "name": "stdout",
          "text": [
            "Augmentations:\n",
            "[\"Subscriber of Chine Unicom , the countries 's second biggest mobile phone operator after China Movable , are predicted to freeing footage , videos and blog on the Internet via mobil telephoned as of March 2008\", \"Subscribers of Chine Unicom , the countries 's second grander moveable phone operator after Wah Notebooks , are predicted to liberated photograph , videos and blog on the Internet via mobile phones as of March 2008\", \"Subscribers of Chine Unicom , the countries 's second most notebooks phone operator after Wa Mobil , are prognosis to emancipate picture , videos and blog on the Internet via movable phones as of March 2008\", \"Subscribers of Chine Unicom , the countries 's second substantial mobile telephoned operator after China Mobile , are prophecy to emancipate picture , videotaped and blog on the Lnternet via mobile telephone as of March 2008\", \"Subscribers of Chine Unicom , the country 's second taller mobile phone operator after Hwa Notebook , are predicted to emancipated imaging , videos and blog on the Internet via laptop telephone as of March 2008\"]\n"
          ]
        },
        {
          "output_type": "stream",
          "name": "stderr",
          "text": [
            "\r  8%|▊         | 26/316 [03:33<30:43,  6.36s/it]"
          ]
        },
        {
          "output_type": "stream",
          "name": "stdout",
          "text": [
            "Augmentations:\n",
            "['Recipes grew by 2 sou to  x20ac 580 millions $ 743 million , from  x20ac 569 billion', 'Revenues augmentation by 2 percent to  x20ac 580 million $ 743 million , from  x20ac 569 million', 'Revenues grew by 2 percent to  x20ac 580 mln $ 743 zillion , from  x20ac 569 billion', 'Revenues soaring by 2 percent to  x20ac 580 trillion $ 743 millions , from  x20ac 569 billion', 'Revenues surges by 2 percent to  x20ac 580 millions $ 743 billions , from  x20ac 569 zillion']\n"
          ]
        },
        {
          "output_type": "stream",
          "name": "stderr",
          "text": [
            "\r  9%|▊         | 27/316 [03:35<24:12,  5.03s/it]"
          ]
        },
        {
          "output_type": "stream",
          "name": "stdout",
          "text": [
            "Augmentations:\n",
            "[\"Pour inaugural sermons will be bestowed by Hannu Kyrolainen , Finland 's Embassies to the Czech Republic\", \"Pour inauguration discourse will be ascribed by Hannu Kyrolainen , Helsinki 's Embassies to the Czech Republics\", \"Pour inauguration speeches will be allocated by Hannu Kyrolainen , Finland 's Embassy to the Czech Republic\", \"Pour initials rhetoric will be accorded by Hannu Kyrolainen , Finland 's Embassy to the Czechoslovakian Republic\", \"The inaugural discourse will be vested by Hannu Kyrolainen , Finnish 's Embassies to the Czech Republics\"]\n"
          ]
        },
        {
          "output_type": "stream",
          "name": "stderr",
          "text": [
            "\r  9%|▉         | 28/316 [03:36<18:47,  3.91s/it]"
          ]
        },
        {
          "output_type": "stream",
          "name": "stdout",
          "text": [
            "Augmentations:\n",
            "['ALEXANDRIA , Va. , March 15 -- Jaakko Vilo of Turku , Finnish , has crafted a panel journalists', 'ALEXANDRIA , Va. , March 15 -- Jaakko Vilo of Turku , Finns , has crafted a groupings journalists', 'ALEXANDRIA , Va. , March 15 -- Jaakko Vilo of Turku , Finns , has developed a grouped correspondents', 'ALEXANDRIA , Va. , March 15 -- Jaakko Vilo of Turku , Finns , has devised a clustered reporters', 'ALEXANDRIA , Virginia. , March 15 -- Jaakko Vilo of Turku , Finns , has elaborated a grouping journalists']\n"
          ]
        },
        {
          "output_type": "stream",
          "name": "stderr",
          "text": [
            "\r  9%|▉         | 29/316 [03:47<28:58,  6.06s/it]"
          ]
        },
        {
          "output_type": "stream",
          "name": "stdout",
          "text": [
            "Augmentations:\n",
            "['SCANIA Morg Stanley expunge the exchanges targeting on Norwegian heavy-duty trucking and bus maker Scania AB to 330 veneers ( $ 42.4 - 35.2 euro ) from 310 crowns ( $ 39.8 - 33.1 euro )', 'SCANIA Morgan Stan expunge the share purposes on Norwegian heavy-duty truck and bus growers Scania ALTA to 330 kronor ( $ 42.4 - 35.2 euro ) from 310 crowns ( $ 39.8 - 33.1 euro )', 'SCANIA Morgan Stanley cleared the interchange aimed on Swedish heavy-duty truck and bus manufacturer Scania AB to 330 crowns ( $ 42.4 - 35.2 euro ) from 310 wreaths ( $ 39.8 - 33.1 euro )', 'SCANIA Morgan Stanley erase the exchange orientated on Swedish heavy-duty truck and bus maker Scania AB to 330 ck ( $ 42.4 - 35.2 euros ) from 310 crowns ( $ 39.8 - 33.1 eur )', 'SCANIA Morgana Stanley disposes the exchanges targeting on Swedish heavy-duty trucks and bus manufacturer Scania AB to 330 crowns ( $ 42.4 - 35.2 euro ) from 310 kronor ( $ 39.8 - 33.1 euro )']\n"
          ]
        },
        {
          "output_type": "stream",
          "name": "stderr",
          "text": [
            "\r  9%|▉         | 30/316 [03:50<24:15,  5.09s/it]"
          ]
        },
        {
          "output_type": "stream",
          "name": "stdout",
          "text": [
            "Augmentations:\n",
            "['Finland nutrients industry company L+ñnnen Tehtaat is program alterations to its fish product business', 'Finnish dining industry company L+ñnnen Tehtaat is program modification to its fish product undertakings', 'Finnish feeding industry company L+ñnnen Tehtaat is pog amendment to its fish product business', 'Finnish food industry company L+ñnnen Tehtaat is planning alter to its fish product companies', 'Finnish food sector enterprise L+ñnnen Tehtaat is program alterations to its fish product firms']\n"
          ]
        },
        {
          "output_type": "stream",
          "name": "stderr",
          "text": [
            "\r 10%|▉         | 31/316 [04:01<32:16,  6.79s/it]"
          ]
        },
        {
          "output_type": "stream",
          "name": "stdout",
          "text": [
            "Augmentations:\n",
            "[\"Cargotec 's business areas albeit which the container handle solutions firms spheres Kalmar and the seafaring cargo handling and offshore cargoes addressing solves enterprising area MacGREGOR\", \"Cargotec 's entrepreneurial areas yet which the container handling solutions undertaking regions Kalmar and the maritime fret handling and offshore payload handled solves enterprising area MacGREGOR\", \"Cargotec 's entrepreneurial zone yet which the container handling resolve firms zona Kalmar and the sailors cargo handling and offshore burdened treat liquidate enterprising region MacGREGOR\", \"Cargotec 's entrepreneurial zoning but which the container handle solutions venture zona Kalmar and the seawater cargo handling and offshore burdened handling solves enterprising acreage MacGREGOR\", \"Cargotec 's ventures areas yet which the container handling solutions businesses zona Kalmar and the marines cargo treating and offshore uploading handling firmness enterprising area MacGREGOR\"]\n"
          ]
        },
        {
          "output_type": "stream",
          "name": "stderr",
          "text": [
            "\r 10%|█         | 32/316 [04:03<25:20,  5.35s/it]"
          ]
        },
        {
          "output_type": "stream",
          "name": "stdout",
          "text": [
            "Augmentations:\n",
            "['Consequently the method will cut collaborated spends , and will fasten the planning and building processes', 'Subsequently the method will slice conjunction spending , and will fasten the planning and building processes', 'Thus the method will chopped workplace spending , and will tying the planning and building processes', 'Thus the method will cut cooperated expenditures , and will fasten the planning and building processes', 'Thus the method will cut working spending , and will fasten the schemes and edifice processes']\n"
          ]
        },
        {
          "output_type": "stream",
          "name": "stderr",
          "text": [
            "\r 10%|█         | 33/316 [04:04<19:37,  4.16s/it]"
          ]
        },
        {
          "output_type": "stream",
          "name": "stdout",
          "text": [
            "Augmentations:\n",
            "['Exploiting incomes surged to EUR 696.4 mn from EUR 600.3 mn in 2009', 'Functioning revenue altitudes to EUR 696.4 mn from EUR 600.3 mn in 2009', 'Operating profit hiked to EUR 696.4 mn from EUR 600.3 minute in 2009', 'Operating receipts ascending to EUROS 696.4 mn from EUR 600.3 mn in 2009', 'Operating revenue increases to EUR 696.4 minnesota from EUR 600.3 mn in 2009']\n"
          ]
        },
        {
          "output_type": "stream",
          "name": "stderr",
          "text": [
            "\r 11%|█         | 34/316 [04:05<14:21,  3.05s/it]"
          ]
        },
        {
          "output_type": "stream",
          "name": "stdout",
          "text": [
            "Augmentations:\n",
            "['Helsinki media group Talentum has issuance a profit observant', 'Helsinki media group Talentum has issued a augmentation attentive', 'Helsinki media group Talentum has issued a benefit prudence', 'Helsinki media grouped Talentum has issued a benefit prudent', 'Helsinki presse group Talentum has issued a profit vigilant']\n"
          ]
        },
        {
          "output_type": "stream",
          "name": "stderr",
          "text": [
            "\r 11%|█         | 35/316 [04:07<13:56,  2.98s/it]"
          ]
        },
        {
          "output_type": "stream",
          "name": "stdout",
          "text": [
            "Augmentations:\n",
            "['Danske Bank A-S DANSKE CC hopped 3.7 percent to 133.4 kronor , rebounding from today s 3.5 percent slide', 'Danske Bank A-S DANSKE DC minimize 3.7 percent to 133.4 crowns , rebounding from tonight s 3.5 percent sliding', 'Danske Bank A-S DANSKE DC regressed 3.7 percent to 133.4 sek , rebounding from tuesday s 3.5 percent slip', 'Danske Bank A-S DANSKE DC subsided 3.7 percent to 133.4 ck , rebounding from sonntag s 3.5 percent skid', 'Danske Banque A-S DANSKE DC fell 3.7 percent to 133.4 ck , rebounding from ayer s 3.5 percent sliding']\n"
          ]
        },
        {
          "output_type": "stream",
          "name": "stderr",
          "text": [
            "\r 11%|█▏        | 36/316 [04:25<34:07,  7.31s/it]"
          ]
        },
        {
          "output_type": "stream",
          "name": "stdout",
          "text": [
            "Augmentations:\n",
            "[\"In Aug lonely , the member of the Lithuania Brewers ' Association selling a total of 20.3 trillion gallons of casket , an enlarge of 1.9 celsius from the sales of 19.92 millions jugs in September 2004\", \"In Feb alone , the members of the Lithuanians Brewers ' Association sells a total of 20.3 shiu gallons of beer , an expanded of 1.9 percentage from the sales of 19.92 billions litre in April 2004\", \"In January just , the members of the Lithuania Beaters ' Association sold a totaled of 20.3 shiu litres of beer , an enlarge of 1.9 percentage from the sales of 19.92 billion gallon in December 2004\", \"In Janvier simply , the members of the Lithuania Brewers ' Association sold a utter of 20.3 trillion l of beer , an extend of 1.9 quotient from the sells of 19.92 millions gallon in Aug 2004\", \"In September lone , the deputies of the Lithuania Brewers ' Association sold a total of 20.3 trillion gallon of brew , an magnification of 1.9 percentage from the sales of 19.92 million liters in December 2004\"]\n"
          ]
        },
        {
          "output_type": "stream",
          "name": "stderr",
          "text": [
            "\r 12%|█▏        | 37/316 [04:26<24:52,  5.35s/it]"
          ]
        },
        {
          "output_type": "stream",
          "name": "stdout",
          "text": [
            "Augmentations:\n",
            "['Downstairs are unaudited solidify consequences for Aspocomp Groupings under IFRS reporting norms', 'Hereafter are unaudited consolidated consequence for Aspocomp Clustered under IFRS reporting rules', 'Hereafter are unaudited consolidated consequences for Aspocomp Grouping under IFRS report rules', 'Hereafter are unaudited consolidated incidence for Aspocomp Groupings under IFRS reporting regulating', 'Hereafter are unaudited regrouped repercussions for Aspocomp Groupings under IFRS rapport rules']\n"
          ]
        },
        {
          "output_type": "stream",
          "name": "stderr",
          "text": [
            "\r 12%|█▏        | 38/316 [04:32<26:48,  5.79s/it]"
          ]
        },
        {
          "output_type": "stream",
          "name": "stdout",
          "text": [
            "Augmentations:\n",
            "['Alterations to the as-built models from the suppose were communicated to the subcontractors to accommodate them into the steel and GRC pandora magnified corporal fabrication handling', 'Amend to the as-built modelled from the design were imparting to the subcontractors to accommodate them into the steel and GRC pandora enhancing tangible fabrication processes', 'Change to the as-built models from the elaborate were imparted to the subcontractors to accommodate them into the steel and GRC pandora risen tangible fabricating process', 'Change to the as-built models from the envisage were communicate to the subcontractors to accommodate them into the steel and GRC pandora intensify tangible fabrication process', 'Changing to the as-built modelled from the design were notified to the provider to accommodate them into the steel and GRC pandora intensifying physical fabrication process']\n"
          ]
        },
        {
          "output_type": "stream",
          "name": "stderr",
          "text": [
            "\r 12%|█▏        | 39/316 [04:33<19:52,  4.31s/it]"
          ]
        },
        {
          "output_type": "stream",
          "name": "stdout",
          "text": [
            "Augmentations:\n",
            "['Clientele including hotels and restaurants as good as wholesalers and some wholesaler', 'Customers consisted hotels and eating as good as wholesalers and some dealer', 'Customers consisting hotels and feeding as good as wholesalers and some businessman', 'Customers including hotels and edible as well as wholesalers and some retail', 'Customers therein hotels and nutrients as decent as wholesalers and some distributor']\n"
          ]
        },
        {
          "output_type": "stream",
          "name": "stderr",
          "text": [
            "\r 13%|█▎        | 40/316 [04:34<15:10,  3.30s/it]"
          ]
        },
        {
          "output_type": "stream",
          "name": "stdout",
          "text": [
            "Augmentations:\n",
            "['In Finland , the fifth grandest brands tested 90 % of the brew mercado', 'In Finland , the five finest brands audited 90 % of the casket mercado', 'In Finland , the five grandest brand verifies 90 % of the coffin mercado', 'In Finland , the five greatest dials tested 90 % of the beer mercado', 'In Finnish , the five bigger markup tested 90 % of the beer mercado']\n"
          ]
        },
        {
          "output_type": "stream",
          "name": "stderr",
          "text": [
            "\r 13%|█▎        | 41/316 [05:06<53:29, 11.67s/it]"
          ]
        },
        {
          "output_type": "stream",
          "name": "stdout",
          "text": [
            "Augmentations:\n",
            "[\"Motorola Inc. of the Unified States came sec with cargoes of 217.4 mln units for a 21.3 percent marketed share , met by Syd Korea 's Samsung Electronics Co. with shipments of 118.0 millions units for an 11.6 percent interchange\", \"Motorola Inc. of the Unified States came second with cargoes of 217.4 millionth units for a 21.3 percent market interchange , complied by Southward Korea 's Samsung Electronics Co. with shipments of 118.0 million units for an 11.6 percent bartered\", \"Motorola Inc. of the Unify States came second with transmitted of 217.4 millionth units for a 21.3 percent mercado share , met by South Chosun 's Samsung Electronically Co. with shipments of 118.0 mln units for an 11.6 percent exchanges\", \"Motorola Inc. of the Unify States went second with cargoes of 217.4 billions units for a 21.3 percent trade share , adhered by Southern Korea 's Samsung Electronics Co. with lading of 118.0 billions units for an 11.6 percent exchanging\", \"Motorola Serv. of the United States came second with shipments of 217.4 mln units for a 21.3 percent marketplace switched , complied by South Rok 's Samsung Electron Co. with dispatch of 118.0 millionth units for an 11.6 percent share\"]\n"
          ]
        },
        {
          "output_type": "stream",
          "name": "stderr",
          "text": [
            "\r 13%|█▎        | 42/316 [05:13<48:10, 10.55s/it]"
          ]
        },
        {
          "output_type": "stream",
          "name": "stdout",
          "text": [
            "Augmentations:\n",
            "['Du knack are allocated to Aalto University and the universities of Finnish , Helsinki , Turku , Eastern Finland , Jyv+ñskyl+ñ , Oulu and Vaasa , and to polytechnics to be heralding later', 'Nova donating are earmarked to Aalto School and the academies of Helsinki , Tampere , Turku , Easterly Finland , Jyv+ñskyl+ñ , Oulu and Vaasa , and to polytechnics to be heralding following', 'The donate are attributed to Aalto University and the universities of Finnish , Tampere , Turku , Shoal Finland , Jyv+ñskyl+ó , Oulu and Vaasa , and to polytechnics to be heralds following', 'The donating are granted to Aalto Universities and the university of Helsinki , Tampere , Turku , Southeastern Finns , Jyv+ñskyl+ñ , Oulu and Vaasa , and to polytechnics to be heralding following', 'The dons are bestowed to Aalto Campuses and the college of Helsinki , Tampere , Turku , Eastward Finland , Jyv+ñskyl+ñ , Oulu and Vaasa , and to polytechnics to be testified following']\n"
          ]
        },
        {
          "output_type": "stream",
          "name": "stderr",
          "text": [
            "\r 14%|█▎        | 43/316 [05:30<56:39, 12.45s/it]"
          ]
        },
        {
          "output_type": "stream",
          "name": "stdout",
          "text": [
            "Augmentations:\n",
            "['Metsa-Botnia will bankrolled the remittance of dividends , the reimbursement of capital and the repurchase of its own exchanging with the resources deriving from its divestment of the Uruguay operations , and interchange in Pohjolan Voima , and by utilising its existing funding centres', 'Metsa-Botnia will financing the payout of dividend , the repayment of capital and the repurchase of its own exchanges with the funds deriving from its divestment of the Uruguay operations , and shared in Pohjolan Voima , and by utilising its existing finance facility', 'Metsa-Botnia will fundraiser the payout of dividends , the refunds of capital and the repurchase of its own shared with the resource deriving from its divestment of the Uruguay action , and exchanging in Pohjolan Voima , and by utilising its existing sponsored installs', 'Metsa-Botnia will funds the dividend of dividends , the repayments of capital and the repurchase of its own shared with the remedies deriving from its divestment of the Uruguay operations , and shares in Pohjolan Voima , and by utilising its exist financing installing', 'Metsa-Botnia will hacienda the dividends of dividends , the reimbursed of kapital and the repurchase of its own exchanges with the sums deriving from its divestment of the Uruguay functioned , and exchange in Pohjolan Voima , and by utilising its existing finances facilities']\n"
          ]
        },
        {
          "output_type": "stream",
          "name": "stderr",
          "text": [
            "\r 14%|█▍        | 44/316 [05:32<41:55,  9.25s/it]"
          ]
        },
        {
          "output_type": "stream",
          "name": "stdout",
          "text": [
            "Augmentations:\n",
            "['Du company showed that the result of the thirds quarter do not understand non-recurring items', 'Du performs pointed that the results of the thirds quarter do not understands non-recurring items', 'Nova enterprises emphasizing that the results of the thirds quarter do not understand non-recurring items', 'The businesses insists that the conclusions of the thirds quarter do not understand non-recurring items', 'The company highlighted that the results of the thirdly quarter do not understand non-recurring thematic']\n"
          ]
        },
        {
          "output_type": "stream",
          "name": "stderr",
          "text": [
            "\r 14%|█▍        | 45/316 [05:36<35:01,  7.75s/it]"
          ]
        },
        {
          "output_type": "stream",
          "name": "stdout",
          "text": [
            "Augmentations:\n",
            "[\"Des the ventures 's tenderloin vending , 38 % was obtain in Finland , 21 % in other Europeans countries , 40 % in Asia , and 1 % in the US\", \"Di the corporations 's wisp sales , 38 % was obtaining in Finland , 21 % in other Europeans countries , 40 % in Asia , and 1 % in the US\", \"Of the company 's filet sell , 38 % was receive in Finns , 21 % in other Europeans countries , 40 % in Asia , and 1 % in the AMERICANS\", \"Of the societies 's tenderloin sales , 38 % was acquire in Finland , 21 % in other European nations , 40 % in Asia , and 1 % in the USA\", \"The the societies 's tenderloin salts , 38 % was gained in Finnish , 21 % in other Europeans countries , 40 % in Asia , and 1 % in the US\"]\n"
          ]
        },
        {
          "output_type": "stream",
          "name": "stderr",
          "text": [
            "\r 15%|█▍        | 46/316 [05:41<30:10,  6.71s/it]"
          ]
        },
        {
          "output_type": "stream",
          "name": "stdout",
          "text": [
            "Augmentations:\n",
            "['A higher of 666,104 new interchange can further be subscribed for by exercising B substitutions under the 2004 inventories alternates agendas', 'A higher of 666,104 novo interchange can further be concurred for by exercising B substitution under the 2004 stock replaced agendas', 'A superior of 666,104 nouveau exchange can further be concurred for by exercising B options under the 2004 stocks substitutions agendas', 'A trickiest of 666,104 newer exchanging can further be concurred for by exercising ii options under the 2004 stock alternates agendas', 'une superiors of 666,104 new interchange can further be concurred for by exerting B options under the 2004 arsenals alternating programming']\n"
          ]
        },
        {
          "output_type": "stream",
          "name": "stderr",
          "text": [
            "\r 15%|█▍        | 47/316 [05:41<21:41,  4.84s/it]"
          ]
        },
        {
          "output_type": "stream",
          "name": "stdout",
          "text": [
            "Augmentations:\n",
            "['Aux broadening is to be finalized in the plummeted of 2009', 'Pour broadening is to be finalized in the depression of 2009', 'Pour broadening is to be finalizing in the tumble of 2009', 'To broadens is to be finished in the downfall of 2009', 'To widens is to be finalized in the drop of 2009']\n"
          ]
        },
        {
          "output_type": "stream",
          "name": "stderr",
          "text": [
            "\r 15%|█▌        | 48/316 [06:06<48:40, 10.90s/it]"
          ]
        },
        {
          "output_type": "stream",
          "name": "stdout",
          "text": [
            "Augmentations:\n",
            "['( ADP News ) - Sept 30 , 2008 - Stockholm upholding and secretly software solves designer Stonesoft Oyj declared mon that it won a USD 1.9 shiu ( EURO 1.3 m ) order to render its StoneGate network secure generating to an unnamed Russe t', '( ADP Novice ) - Sep 30 , 2008 - Stockholm defence and confidentially software resolved designer Stonesoft Oyj reported today that it won a USD 1.9 billions ( EUR 1.3 m ) order to render its StoneGate networks ensures products to an unidentified Russian t', '( ADP Novice ) - Sep 30 , 2008 - Stockholm keeping and confidentially software solution constructor Stonesoft Oyj declaring today that it won a DOLLARS 1.9 zillion ( EUR 1.3 m ) order to render its StoneGate networking ensured merchandise to an anonymous Russe t', '( ADP Novice ) - Sep 30 , 2008 - Sweden upholding and confidentially software dissipating constructor Stonesoft Oyj testified tuesday that it won a USD 1.9 million ( EUR 1.3 m ) order to make its StoneGate network security commodities to an unidentified Russe t', '( ADP Novice ) - Sept 30 , 2008 - Stockholm maintenance and confidentially software solution designers Stonesoft Oyj avowed today that it won a USD 1.9 miilion ( EUR 1.3 m ) order to delivers its StoneGate grid guarantees products to an undisclosed Russe t']\n"
          ]
        },
        {
          "output_type": "stream",
          "name": "stderr",
          "text": [
            "\r 16%|█▌        | 49/316 [06:10<38:58,  8.76s/it]"
          ]
        },
        {
          "output_type": "stream",
          "name": "stdout",
          "text": [
            "Augmentations:\n",
            "['Filet profits shrinks by nigh half to +é 5.5 zillion from +é 9.4 million at the end of 2007', 'Net benefit shrinkage by nigh half to +é 5.5 trillion from +é 9.4 million at the finalizing of 2007', 'Net earns cutout by approximately half to +é 5.5 million from +é 9.4 million at the finalised of 2007', 'Net incomes soothe by nigh half to +é 5.5 million from +isso 9.4 millionth at the end of 2007', 'Wisp profit dwindling by nigh half to +é 5.5 billion from +é 9.4 million at the terminating of 2007']\n"
          ]
        },
        {
          "output_type": "stream",
          "name": "stderr",
          "text": [
            "\r 16%|█▌        | 50/316 [06:12<29:39,  6.69s/it]"
          ]
        },
        {
          "output_type": "stream",
          "name": "stdout",
          "text": [
            "Augmentations:\n",
            "['Functioning paycheque duller by 44.0 % to UHH 4.7 mn from EUROS 3.3 minnesota in 2004', 'Operate salaried duller by 44.0 % to UH 4.7 mn from EUR 3.3 minneapolis in 2004', 'Operated paying paler by 44.0 % to EH 4.7 mn from EUR 3.3 minneapolis in 2004', 'Operating salary duller by 44.0 % to NOOO 4.7 minnesota from EUR 3.3 minnesota in 2004', 'Operational paycheck duller by 44.0 % to EH 4.7 min from EUR 3.3 minnesota in 2004']\n"
          ]
        },
        {
          "output_type": "stream",
          "name": "stderr",
          "text": [
            "\r 16%|█▌        | 51/316 [06:14<23:07,  5.23s/it]"
          ]
        },
        {
          "output_type": "stream",
          "name": "stdout",
          "text": [
            "Augmentations:\n",
            "['Viking will paid EUR 130 trillions for the nueva frigate , which will be over in January 2008', 'Viking will pay EUR 130 billions for the new vessels , which will be terminating in October 2008', 'Viking will pay EURO 130 trillion for the nueva warships , which will be completed in December 2008', 'Viking will paycheck EUR 130 zillion for the new warships , which will be complete in January 2008', 'Viking will payroll EURO 130 million for the new vessels , which will be completed in January 2008']\n"
          ]
        },
        {
          "output_type": "stream",
          "name": "stderr",
          "text": [
            "\r 16%|█▋        | 52/316 [06:19<23:52,  5.42s/it]"
          ]
        },
        {
          "output_type": "stream",
          "name": "stdout",
          "text": [
            "Augmentations:\n",
            "['Cash flow from operating in January-December 2008 was a harmful EUR 18.1 minnesota compare to EUR 39.0 mn in the coincide moments in 2007', 'Funded flow from operations in January-December 2008 was a negative EUR 18.1 mn comparisons to EUR 39.0 mn in the corresponded schedule in 2007', 'Liquidity flow from operandi in January-December 2008 was a poisonous EUR 18.1 minnesota comparison to EUR 39.0 mn in the conformed period in 2007', 'Liquidity flow from operations in January-December 2008 was a negatives EURO 18.1 mn comparisons to EUR 39.0 mn in the corresponded hourly in 2007', 'Monies stream from operations in January-December 2008 was a injurious EUR 18.1 mn comparison to EUR 39.0 mn in the corresponded timetable in 2007']\n"
          ]
        },
        {
          "output_type": "stream",
          "name": "stderr",
          "text": [
            "\r 17%|█▋        | 53/316 [06:26<24:39,  5.63s/it]"
          ]
        },
        {
          "output_type": "stream",
          "name": "stdout",
          "text": [
            "Augmentations:\n",
            "['The extracted filtrates are very superior in clarity while the dried filter cakes meet obligated transferred wetter confine (TMLs)for their ore tier', 'The extracted filtrates are very supreme in clarity while the dried filter biscuits meet requiring carriage moisture restrictions (TMLs)for their ore grades', 'The extracted filtrates are very supreme in clarity while the dried filter cakes meet need transport dampness boundaries (TMLs)for their ore categorize', 'The extracted filtrates are very tallest in clarity while the dried filter cakes comply requiring transports moisture roofs (TMLs)for their ore grades', 'The retrieve filtrates are very superior in clarity while the dried unfiltered patties meet obliged transport moisture limits (TMLs)for their metals grades']\n"
          ]
        },
        {
          "output_type": "stream",
          "name": "stderr",
          "text": [
            "\r 17%|█▋        | 54/316 [06:27<18:56,  4.34s/it]"
          ]
        },
        {
          "output_type": "stream",
          "name": "stdout",
          "text": [
            "Augmentations:\n",
            "['Dilute winnings per shares ( EPS ) amounted at EUR 0.25 versus EUR 0.42', 'Diluted income paras share ( EPS ) amounted at EUR 0.25 versus EURO 0.42', 'Diluted paycheck per share ( SPE ) amounted at EUR 0.25 versus EUR 0.42', 'Diluted profits for share ( EPS ) amounted at EUR 0.25 versus EUR 0.42', 'Diluted revenues by exchanged ( EPS ) amounted at EUR 0.25 versus EUR 0.42']\n"
          ]
        },
        {
          "output_type": "stream",
          "name": "stderr",
          "text": [
            "\r 17%|█▋        | 55/316 [06:49<41:25,  9.52s/it]"
          ]
        },
        {
          "output_type": "stream",
          "name": "stdout",
          "text": [
            "Augmentations:\n",
            "[\"Kalnapilio-Tauro Grupe ( Kalnapilis-Tauras Cluster ) , which is own by Danes 's Royal Unibrew , provokes its market exchanges to 25.18 cent from 23.74 cents , as beer vending for the seven months tripped by 14.5 cent to 40.5 millions liters\", \"Kalnapilio-Tauro Grupe ( Kalnapilis-Tauras Cluster ) , which is possession by Danes 's Monarchy Unibrew , posed its market exchanges to 25.18 hundred from 23.74 percent , as casket sales for the sep months increases by 14.5 cent to 40.5 million litre\", \"Kalnapilio-Tauro Grupe ( Kalnapilis-Tauras Group ) , which is ownership by Danish 's Royale Unibrew , posed its mercado shared to 25.18 cent from 23.74 percent , as casket selling for the seven monthly abated by 14.5 cent to 40.5 zillion liters\", \"Kalnapilio-Tauro Grupe ( Kalnapilis-Tauras Group ) , which is possession by Denmark 's Regal Unibrew , introduced its marketed sharing to 25.18 cent from 23.74 percent , as casket sales for the seven mes shrinkage by 14.5 cent to 40.5 miilion gallon\", \"Kalnapilio-Tauro Grupe ( Kalnapilis-Tauras Groups ) , which is ownership by Denmark 's Royale Unibrew , poses its market exchanging to 25.18 cent from 23.74 percent , as casket sales for the seven monthly receded by 14.5 cent to 40.5 millions l\"]\n"
          ]
        },
        {
          "output_type": "stream",
          "name": "stderr",
          "text": [
            "\r 18%|█▊        | 56/316 [06:52<33:08,  7.65s/it]"
          ]
        },
        {
          "output_type": "stream",
          "name": "stdout",
          "text": [
            "Augmentations:\n",
            "['The transaction is contemplated to be helps with a EUR40m market-based ready given by Standard Chartered Bank Hong Kong', 'The transaction is planned to be support with a EUR40m market-based prepared auctioned by Standard Chartered Bank Hong Kong', 'The transaction is predict to be helped with a EUR40m market-based willing assigning by Standard Chartered Banks Hong Kong', 'The transaction is predictions to be supported with a EUR40m market-based willing granted by Standards Charter Bank Hong Kong', 'The transaction is prophesy to be subsidized with a EUR40m market-based desirous granted by Standard Chartered Bank Hong Kong']\n"
          ]
        },
        {
          "output_type": "stream",
          "name": "stderr",
          "text": [
            "\r 18%|█▊        | 57/316 [06:56<28:07,  6.52s/it]"
          ]
        },
        {
          "output_type": "stream",
          "name": "stdout",
          "text": [
            "Augmentations:\n",
            "['Fertile levels have been agreed with producers a plus time ago , so a dips in consumption will culminate to loss', 'Production grade have been agreed with manufacturers a longer time ago , so a skydiving in consumption will culminate to loss', 'Production grades have been agreed with producers a protracted scheduling earlier , so a chute in consuming will culminate to loss', 'Production hierarchy have been endorsed with constructors a long time ago , so a chute in consumption will culminate to loss', 'Productivity level have been agreed with producers a lengthened time ago , so a chute in intake will culminate to loss']\n"
          ]
        },
        {
          "output_type": "stream",
          "name": "stderr",
          "text": [
            "\r 18%|█▊        | 58/316 [06:56<19:59,  4.65s/it]"
          ]
        },
        {
          "output_type": "stream",
          "name": "stdout",
          "text": [
            "Augmentations:\n",
            "['De beers deviate slightly from integration beer', 'Nova beers deviate mildly from mainstream beer', 'The beers deviate slightly from integration beers', 'The beers divert slightly from mainstream casket', 'The pints deviate slightly from mainstream lager']\n"
          ]
        },
        {
          "output_type": "stream",
          "name": "stderr",
          "text": [
            "\r 19%|█▊        | 59/316 [06:56<14:30,  3.39s/it]"
          ]
        },
        {
          "output_type": "stream",
          "name": "stdout",
          "text": [
            "Augmentations:\n",
            "['The magnitude of a cider bottle will sustain undamaged', 'The magnitude of a cider bottle will sustaining unchanged', 'The size of a cider bottle will retaining unchanging', 'The splendor of a cider vial will sustain unchanged', 'To size of a cider bottle will preserving unchanged']\n"
          ]
        },
        {
          "output_type": "stream",
          "name": "stderr",
          "text": [
            "\r 19%|█▉        | 60/316 [07:00<15:01,  3.52s/it]"
          ]
        },
        {
          "output_type": "stream",
          "name": "stdout",
          "text": [
            "Augmentations:\n",
            "['Market exchanged dip on the trajectories between Helsinki in Finland and Tallinn in Estonia by 0.1 percent dotted to 24.8 %', 'Market share decrease on the route between Helsinki in Finland and Tallinn in Estonia by 0.1 percentage points to 24.8 %', 'Market share restraining on the paths between Tampere in Finland and Tallinn in Estonia by 0.1 percentage dotted to 24.8 %', 'Trade exchange shortening on the routing between Helsinki in Finland and Tallinn in Estonia by 0.1 celsius points to 24.8 %', 'Trade share receding on the route between Helsinki in Finland and Tallinn in Estonia by 0.1 percentage dotted to 24.8 %']\n"
          ]
        },
        {
          "output_type": "stream",
          "name": "stderr",
          "text": [
            "\r 19%|█▉        | 61/316 [07:03<13:43,  3.23s/it]"
          ]
        },
        {
          "output_type": "stream",
          "name": "stdout",
          "text": [
            "Augmentations:\n",
            "['Function receipts surging to EURO 13.5 mn from EUR 9.7 mn in the correspond deadlines in 2006', 'Operandi revenues hikes to EURO 13.5 manganese from EUR 9.7 manganese in the correspond calendar in 2006', 'Operating revenues escalated to EURO 13.5 mn from EUR 9.7 mn in the correspond time in 2006', 'Operating revenues growing to EUROS 13.5 mn from EUR 9.7 min in the correspond duration in 2006', 'Operational proceeds raised to EURO 13.5 mn from EUR 9.7 mn in the correspond period in 2006']\n"
          ]
        },
        {
          "output_type": "stream",
          "name": "stderr",
          "text": [
            "\r 20%|█▉        | 62/316 [07:04<10:51,  2.57s/it]"
          ]
        },
        {
          "output_type": "stream",
          "name": "stdout",
          "text": [
            "Augmentations:\n",
            "['Filmiteollisuus Fine Ab will be trespassed to Talentum Oyj in the shaping of a assistants', 'Filmiteollisuus Fines Ab will be transportation to Talentum Oyj in the train of a auxiliaries', 'Filmiteollisuus Fines Ab will be trespassed to Talentum Oyj in the shape of a juniors', 'Filmiteollisuus Penalties Ab will be transfers to Talentum Oyj in the formation of a auxiliaries', 'Filmiteollisuus Pleasant Ab will be trespassed to Talentum Oyj in the forming of a auxiliaries']\n"
          ]
        },
        {
          "output_type": "stream",
          "name": "stderr",
          "text": [
            "\r 20%|█▉        | 63/316 [07:05<08:30,  2.02s/it]"
          ]
        },
        {
          "output_type": "stream",
          "name": "stdout",
          "text": [
            "Augmentations:\n",
            "['An EU acte on the problem may be submitted hardly 2010', 'An EU law on the problem may be filing almost 2010', 'An EU laws on the matters may be lodged nearly 2010', 'An EU laws on the problem may be brought nearly 2010', 'An EU legislative on the problem may be deposited nigh 2010']\n"
          ]
        },
        {
          "output_type": "stream",
          "name": "stderr",
          "text": [
            "\r 20%|██        | 64/316 [07:06<07:38,  1.82s/it]"
          ]
        },
        {
          "output_type": "stream",
          "name": "stdout",
          "text": [
            "Augmentations:\n",
            "['Below the logging , the number of lawsuits and incredible shares of Basware is 12,890,829', 'Following the logging , the number of topics and unpaid exchanged of Basware is 12,890,829', 'Henceforth the registration , the number of instance and unpaid exchanges of Basware is 12,890,829', 'Hereafter the logging , the number of cases and excellent exchanged of Basware is 12,890,829', 'Hereafter the logging , the number of lawsuits and vast shares of Basware is 12,890,829']\n"
          ]
        },
        {
          "output_type": "stream",
          "name": "stderr",
          "text": [
            "\r 21%|██        | 65/316 [07:08<08:11,  1.96s/it]"
          ]
        },
        {
          "output_type": "stream",
          "name": "stdout",
          "text": [
            "Augmentations:\n",
            "[\"Tieto 's service is further resorted to shipped , formalities and receive documents associated to absentee referendum\", \"Tieto 's service is incidentally resorted to sent , procedure and receive documents tying to absentee elections\", \"Tieto 's service is incidentally utilised to expedition , formalities and receive documents plugged to absentee voting\", \"Tieto 's service is otherwise resorted to send , formalities and obtains documents relating to absentee suffrage\", \"Tieto 's services is incidentally resorted to send , formalities and receive material related to absentee voting\"]\n"
          ]
        },
        {
          "output_type": "stream",
          "name": "stderr",
          "text": [
            "\r 21%|██        | 66/316 [07:09<06:16,  1.51s/it]"
          ]
        },
        {
          "output_type": "stream",
          "name": "stdout",
          "text": [
            "Augmentations:\n",
            "['Du importance of the three-year agreements is assess at EUR40m', 'The importance of the three-year agreements is assessments at EUR40m', 'The importance of the three-year arrangement is importance at EUR40m', 'The importance of the three-year arrangements is assess at EUR40m', 'The importance of the three-year contracts is evaluate at EUR40m']\n"
          ]
        },
        {
          "output_type": "stream",
          "name": "stderr",
          "text": [
            "\r 21%|██        | 67/316 [07:12<08:08,  1.96s/it]"
          ]
        },
        {
          "output_type": "stream",
          "name": "stdout",
          "text": [
            "Augmentations:\n",
            "['The Hayward , Calif.-cornerstones targets destiny proactive , fortuitous and apparel footwear , as good as boots and footwear', 'The Hayward , Calif.-groundwork goal destinations proactive , fortuitous and tunics footwear , as bueno as boots and sandals', 'The Hayward , Calif.-groundwork intent fates proactive , fortuitous and garment sandal , as good as boots and shoes', 'The Hayward , Calif.-groundwork targeting fate proactive , fortuitous and apparel footwear , as good as boots and sandals', 'The Hayward , Calif.-groundwork targets destined proactive , unanticipated and garment sandals , as good as boots and sandals']\n"
          ]
        },
        {
          "output_type": "stream",
          "name": "stderr",
          "text": [
            "\r 22%|██▏       | 68/316 [07:18<13:55,  3.37s/it]"
          ]
        },
        {
          "output_type": "stream",
          "name": "stdout",
          "text": [
            "Augmentations:\n",
            "['Finnish developer and builder of mobile tel chargers Salcomp Plc OMX Helsinki : SAL1V on Yesterday 19 November narrowing its full-year netted sales predictions', 'Finnish developer and growers of mobile phone chargers Salcomp Plc OMX Helsinki : SAL1V on Friday 19 Janvier cutback its full-year net sales appraise', 'Finnish developer and makers of mobile telephoned chargers Salcomp Plc OMX Helsinki : SAL1V on Wednesday 19 Aug dips its full-year net sales estimate', 'Finns developer and manufacturer of mobile telephone chargers Salcomp Plc OMX Helsinki : SAL1V on Wednesday 19 November cutback its full-year net sales estimated', 'Helsinki creator and manufacturer of mobile termed chargers Salcomp Plc OMX Helsinki : SAL1V on Wednesday 19 November narrowing its full-year net salts estimating']\n"
          ]
        },
        {
          "output_type": "stream",
          "name": "stderr",
          "text": [
            "\r 22%|██▏       | 69/316 [07:25<18:25,  4.48s/it]"
          ]
        },
        {
          "output_type": "stream",
          "name": "stdout",
          "text": [
            "Augmentations:\n",
            "[\"For the fiirst nine months of 2010 , Talvivaara 's net loss slumped to EURO 8.3 billions from EUR 21.9 millions for the same times of 2009\", \"For the first ix months of 2010 , Talvivaara 's net loss shortening to EUR 8.3 millions from EUR 21.9 million for the same time of 2009\", \"For the firstly ix month of 2010 , Talvivaara 's net loss shrinking to EUR 8.3 million from EUROS 21.9 million for the same times of 2009\", \"In the frst nine months of 2010 , Talvivaara 's net loss subsided to EUR 8.3 billions from EUR 21.9 millionth for the same deadline of 2009\", \"To the firstly nine months of 2010 , Talvivaara 's net loss hopped to EUROS 8.3 billion from EUR 21.9 mln for the same period of 2009\"]\n"
          ]
        },
        {
          "output_type": "stream",
          "name": "stderr",
          "text": [
            "\r 22%|██▏       | 70/316 [07:27<14:33,  3.55s/it]"
          ]
        },
        {
          "output_type": "stream",
          "name": "stdout",
          "text": [
            "Augmentations:\n",
            "['If Honkarakenne commenced production there , it will necessary a partner for lumbering operations', 'If Honkarakenne commencement production there , it will requisite a partner for factory operation', 'If Honkarakenne embark production there , it will requisite a associates for sawmill operation', 'If Honkarakenne emergence production there , it will requisite a partner for factory operative', 'Si Honkarakenne launch production there , it will requisite a partner for sawmill operation']\n"
          ]
        },
        {
          "output_type": "stream",
          "name": "stderr",
          "text": [
            "\r 22%|██▏       | 71/316 [07:29<12:34,  3.08s/it]"
          ]
        },
        {
          "output_type": "stream",
          "name": "stdout",
          "text": [
            "Augmentations:\n",
            "[\"Clothes thongs Sepp+ñl+ñ 's wisp sales lengthen by 7.0 % to EUR 30.8 manganese\", \"Frock chain Sepp+ñl+ó 's filet sales extension by 7.0 % to EUR 30.8 manganese\", \"Frock padlock Sepp+ñl+ñ 's wisp sales lengthen by 7.0 % to EUROS 30.8 manganese\", \"Garb chain Sepp+ñl+ñ 's filet selling prolong by 7.0 % to EUR 30.8 mn\", \"Outfits strings Sepp+ñl+ñ 's fillet sales prolong by 7.0 % to EUR 30.8 mn\"]\n"
          ]
        },
        {
          "output_type": "stream",
          "name": "stderr",
          "text": [
            "\r 23%|██▎       | 72/316 [07:30<09:57,  2.45s/it]"
          ]
        },
        {
          "output_type": "stream",
          "name": "stdout",
          "text": [
            "Augmentations:\n",
            "['Marathon assessing the importance of its remaining staking in Protalix at $ 27 mln', 'Marathon estimating the importance of its surplus staking in Protalix at $ 27 zillion', 'Marathon ratings the essential of its resting staking in Protalix at $ 27 million', 'Marathon scoring the sizable of its remaining staking in Protalix at $ 27 million', 'Marathon valuation the importance of its surplus staking in Protalix at $ 27 shiu']\n"
          ]
        },
        {
          "output_type": "stream",
          "name": "stderr",
          "text": [
            "\r 23%|██▎       | 73/316 [07:41<20:57,  5.17s/it]"
          ]
        },
        {
          "output_type": "stream",
          "name": "stdout",
          "text": [
            "Augmentations:\n",
            "['industry in Asia +ó Pakistan , Malaya , Taiwan and Philippines Yesterday , Global Investigated & Data Serve is going to publish disparate market analyses about the cement markets in Asia', 'industry in Asiatic +ñ Pakistan , Malaya , Taiwan and Philippines Monday , Global Research & Data Services is going to publish differing trade analyses about the cement contracting in Asia', 'industry in Asiatic +ó Pakistan , Malaysia , Taiwan and Filipinos Nowadays , Universally Studying & Data Services is going to publish innumerable market analyses about the cement markets in Asia', 'industry in Asiatic +ó Pakistan , Malaysia , Taiwan and Philippines Today , Global Probing & Particulars Services is going to publish distinct market analytical about the cement markets in Asiatic', 'sector in Asia +ó Pakistan , Malaysia , Taiwan and Filipinos Today , Global Researched & Data Services is going to publicized differing market analyzes about the cement contracts in Asia']\n"
          ]
        },
        {
          "output_type": "stream",
          "name": "stderr",
          "text": [
            "\r 23%|██▎       | 74/316 [07:59<36:25,  9.03s/it]"
          ]
        },
        {
          "output_type": "stream",
          "name": "stdout",
          "text": [
            "Augmentations:\n",
            "[\"Local council commissioner of +àm+Ñl , Kurt Svensson , says he will liaise the management of Finnish venture Componenta to unearthed out if there are any substitutions to the businesses 's selecting to closing down its facilities in +àm+Ñl\", \"Local councils commissioner of +àm+Ñl , Kurt Svensson , proclaims he will contact the managerial of Finnish companies Componenta to discover out if there are any alternates to the business 's decision to closings down its plant in +àm+Ñl\", \"Local goverment commissar of +àm+Ñl , Kurt Svensson , displaying he will contact the management of Finland company Componenta to finds out if there are any substitutions to the societies 's decide to closings down its plant in +àm+Ñl\", \"Local governmental commissioner of +àm+Ñl , Curt Svensson , alleges he will contact the management of Finn promises Componenta to find out if there are any lieu to the company 's decision to closest down its plant in +àm+Ñl\", \"Locale government delegates of +àm+Ñl , Kurt Svensson , says he will contacting the bureaucratic of Finnish company Componenta to found out if there are any substitutions to the firms 's decides to nears down its plant in +àm+Ñl\"]\n"
          ]
        },
        {
          "output_type": "stream",
          "name": "stderr",
          "text": [
            "\r 24%|██▎       | 75/316 [08:23<53:50, 13.40s/it]"
          ]
        },
        {
          "output_type": "stream",
          "name": "stdout",
          "text": [
            "Augmentations:\n",
            "['( ADPnews ) - May 4 , 2010 - Finn cutlery and hand instrumentation architects Fiskars Oyj Abp ( HEL : FISAS ) declared saturday its filet profit tumble to EUR 12.9 million ( DOLLAR 17m ) in the firstly quarter of 2010 from EUR 17 billions in the correspon', '( ADPnews ) - May 4 , 2010 - Finnish cutlery and hand tools industrialists Fiskars Oyj Abp ( HEL : FISAS ) tell presently its net proceeds shrunk to EUR 12.9 million ( GREENBACK 17m ) in the fiirst quarter of 2010 from EURO 17 miilion in the correspon', '( ADPnews ) - May 4 , 2010 - Finns cutlery and hand tools industrialists Fiskars Oyj Abp ( HEL : FISAS ) highlight nowadays its netted winnings declines to EUR 12.9 million ( BUCKS 17m ) in the initially quarter of 2010 from EUR 17 million in the correspon', '( ADPnews ) - May 4 , 2010 - Finns cutlery and hand tools industrialists Fiskars Oyj Abp ( HEL : FISAS ) said yesterday its net triumphed dunked to EUR 12.9 mln ( USD 17m ) in the firstly quarter of 2010 from EUR 17 million in the correspon', '( ADPnews ) - Probably 4 , 2010 - Finnish cutlery and lado tools grower Fiskars Oyj Abp ( HEL : FISAS ) said today its wisp revenue narrowed to EUR 12.9 million ( USD 17m ) in the initial quarter of 2010 from EUR 17 million in the correspon']\n"
          ]
        },
        {
          "output_type": "stream",
          "name": "stderr",
          "text": [
            "\r 24%|██▍       | 76/316 [08:29<45:20, 11.33s/it]"
          ]
        },
        {
          "output_type": "stream",
          "name": "stdout",
          "text": [
            "Augmentations:\n",
            "['HELSINKI AFX - Salcomp , the mobile phone charger designer , claimed it has appointed Markku Hangasjarvi as its new CEOS , hereafter the resign of Mats Ericsson', 'HELSINKI AFX - Salcomp , the mobile phone charger manufacturer , indicates it has denomination Markku Hangasjarvi as its nuevo CEO , hereafter the retires of Mats Ericsson', 'HELSINKI AFX - Salcomp , the mobile telephones mag vicars , testified it has appointed Markku Hangasjarvi as its newer CEO , hereafter the quits of Carpet Eriksson', 'TAMPERE AFX - Salcomp , the laptops telephoned charger manufacturer , testified it has appointed Markku Hangasjarvi as its novel CEO , hereafter the quits of Carpeting Eriksson', 'TAMPERE AFX - Salcomp , the mobile phone charger strategists , testified it has appointed Markku Hangasjarvi as its new CEO , hereafter the abdicated of Carpets Eriksson']\n"
          ]
        },
        {
          "output_type": "stream",
          "name": "stderr",
          "text": [
            "\r 24%|██▍       | 77/316 [08:34<36:48,  9.24s/it]"
          ]
        },
        {
          "output_type": "stream",
          "name": "stdout",
          "text": [
            "Augmentations:\n",
            "['Illinois is a Accreditation Gl in Briton Colombia and Alberta as good as a Certified Inhabitants Accounts in Washington Sate', 'Illinois is a Accredited Account in England Colombia and Alberta as good as a Certified Populace Bookkeeping in Washington Sate', 'Illinois is a Accredited Bookkeeper in Britain Colombian and Alberta as good as a Certified Population Accounting in Washington Sate', 'Illinois is a Approval Bookkeeper in England Colombia and Alberta as good as a Certified Occupants Accounts in Washington Sate', 'Illinois is a Testimony Gl in England Colombia and Saskatchewan as good as a Certified Public Bookkeeping in Washington Sate']\n"
          ]
        },
        {
          "output_type": "stream",
          "name": "stderr",
          "text": [
            "\r 25%|██▍       | 78/316 [08:37<29:40,  7.48s/it]"
          ]
        },
        {
          "output_type": "stream",
          "name": "stdout",
          "text": [
            "Augmentations:\n",
            "['The five-storey , eco-efficient architectural will have a gross floor zone of about 15,000 lp m. It will further embrace flats', 'The five-storey , eco-efficient building will have a gross floor realm of about 15,000 sq m. It will further embraces villas', 'The five-storey , eco-efficient construct will have a observable floor domains of about 15,000 sq m. It will further comprised flats', 'The five-storey , eco-efficient constructing will have a repugnant floor areas of about 15,000 sq m. It will further contains apartments', 'The five-storey , eco-efficient constructions will have a gross floor field of about 15,000 sq m. It will further implicates flats']\n"
          ]
        },
        {
          "output_type": "stream",
          "name": "stderr",
          "text": [
            "\r 25%|██▌       | 79/316 [08:38<21:54,  5.54s/it]"
          ]
        },
        {
          "output_type": "stream",
          "name": "stdout",
          "text": [
            "Augmentations:\n",
            "['Finn Outokumpu Technology has been auctioned various nueva grinding technology contracts', 'Finnish Outokumpu Techniques has been auctioned various novo crushing technology contracts', 'Finnish Outokumpu Technological has been auctioned different novo grinding technology marketplace', 'Finnish Outokumpu Technologies has been auctioned myriad novo grinding technologies contracts', 'Finnish Outokumpu Technology has been awarded countless novo grinder technology contracts']\n"
          ]
        },
        {
          "output_type": "stream",
          "name": "stderr",
          "text": [
            "\r 25%|██▌       | 80/316 [08:42<19:58,  5.08s/it]"
          ]
        },
        {
          "output_type": "stream",
          "name": "stdout",
          "text": [
            "Augmentations:\n",
            "['The investments and functioning amended enable supplementary optimisation of the jobs hours and where further tariffs rescue of some 7 % -9 %', 'The investments and operation alteration authorise supplementary optimisation of the collaborating hours and where further cost savings of some 7 % -9 %', 'The investments and operation shifts licences supplementary optimisation of the cooperatives hours and where further cost saves of some 7 % -9 %', 'The investors and operational modified empower supplementary optimisation of the cooperation hours and where further prices savings of some 7 % -9 %', 'To investments and operational changed enable supplement optimisation of the worked hours and where further costed economies of some 7 % -9 %']\n"
          ]
        },
        {
          "output_type": "stream",
          "name": "stderr",
          "text": [
            "\r 26%|██▌       | 81/316 [08:47<19:43,  5.03s/it]"
          ]
        },
        {
          "output_type": "stream",
          "name": "stdout",
          "text": [
            "Augmentations:\n",
            "['Anyhow , selling volumes in the devouring industry are expected to remains at relative bueno echelon in Finnish and in Scandinavia , Atria said', 'However , sell volumes in the eating industries are hoped to remain at relatively bueno echelon in Finnish and in Scandinavia , Atria said', 'However , sells volumes in the foods industry are projections to remain at relatively bueno echelon in Finns and in Scandinavia , Atria pointed', 'Instead , resell volumes in the dietary industry are expected to remain at relate bueno echelon in Finnish and in Scandinavia , Atria says', 'Nonetheless , sell volumes in the nourishment industry are expected to keep at relatively bueno echelon in Finnish and in Scandinavia , Atria said']\n"
          ]
        },
        {
          "output_type": "stream",
          "name": "stderr",
          "text": [
            "\r 26%|██▌       | 82/316 [08:50<16:42,  4.28s/it]"
          ]
        },
        {
          "output_type": "stream",
          "name": "stdout",
          "text": [
            "Augmentations:\n",
            "['Fancy Dans on the move FAB Edinburgh skilful and interiors store Chic Dans is transference', 'Fancy Dans on the move FAB Glasgow clever and insides store Fancy Dans is transference', 'Fancy Dans on the move FAB Glasgow cunning and insides storehouse Fancy Dans is transference', 'Imagination Dans on the move FAB Glasgow astute and interiors drugstore Fancy Dans is transference', 'Novelty Dans on the move FAB Glasgow skilful and inland store Fancy Dans is transfers']\n"
          ]
        },
        {
          "output_type": "stream",
          "name": "stderr",
          "text": [
            "\r 26%|██▋       | 83/316 [08:51<13:44,  3.54s/it]"
          ]
        },
        {
          "output_type": "stream",
          "name": "stdout",
          "text": [
            "Augmentations:\n",
            "[\"Both the filet sales and operating profit were record supremo in the companies 's historian\", \"Both the net sales and operandi perks were record supremo in the company 's history\", \"Both the net sell and operation profit were checkin supremo in the company 's history\", \"Both the net sells and operating profit were albums top in the company 's history\", \"Whether the net sales and operating profits were record supremo in the firms 's history\"]\n"
          ]
        },
        {
          "output_type": "stream",
          "name": "stderr",
          "text": [
            "\r 27%|██▋       | 84/316 [08:57<16:23,  4.24s/it]"
          ]
        },
        {
          "output_type": "stream",
          "name": "stdout",
          "text": [
            "Augmentations:\n",
            "[\"` Enormously recommendable ' is the Nokian Z G2 according to the ` ADAC judgment ' in the latest summer wheeled testing of the German motorcar association ADAC\", \"` Mucho recommendable ' is the Nokian Z G2 according to the ` ADAC judgement ' in the newer summer tyres test of the Germania motorcars association ADAC\", \"` Mucho recommendable ' is the Nokian Z G2 pursuant to the ` ADAC halts ' in the latest sommer tire test of the German automobile association ADAC\", \"` Muy recommendable ' is the Nokian Z G2 according to the ` ADAC stoppage ' in the latest summer casters ordeals of the Germany automobile association ADAC\", \"` Muy recommendable ' is the Nokian Z G2 depending to the ` ADAC judging ' in the latest summer inflatable tests of the Germany motorcar association ADAC\"]\n"
          ]
        },
        {
          "output_type": "stream",
          "name": "stderr",
          "text": [
            "\r 27%|██▋       | 85/316 [09:01<15:47,  4.10s/it]"
          ]
        },
        {
          "output_type": "stream",
          "name": "stdout",
          "text": [
            "Augmentations:\n",
            "['The deal consists the every functionary of PlanMill Oy , who will transfer to the new company as so-called senior employees', 'The deal implicates the everything personnel of PlanMill Oy , who will transfer to the new firms as so-called senior staffs', 'The tackle implicates the entire personnel of PlanMill Oy , who will transferring to the new entrepreneurial as so-called old staffs', 'The treating assumes the entirety personnel of PlanMill Oy , who will transfer to the new company as so-called old helpers', 'The treating implicates the entire patrolman of PlanMill Oy , who will transfer to the new undertaking as so-called viejo employees']\n"
          ]
        },
        {
          "output_type": "stream",
          "name": "stderr",
          "text": [
            "\r 27%|██▋       | 86/316 [09:04<14:27,  3.77s/it]"
          ]
        },
        {
          "output_type": "stream",
          "name": "stdout",
          "text": [
            "Augmentations:\n",
            "['Tikkurila Powder Coatings has some 50 gov at its quatre painted installation , which unleashed incomes of EUR2 .4 m USD3 .3 m in 2010', 'Tikkurila Powder Coatings has some 50 labourers at its four paint installation , which aroused revenue of EUR2 .4 m USD3 .3 m in 2010', 'Tikkurila Powder Coatings has some 50 staff at its four repaint centro , which caused recipes of EUR2 .4 m USD3 .3 m in 2010', 'Tikkurila Powdery Coatings has some 50 mounties at its fours paintings plants , which caused revenues of EUR2 .4 m USD3 .3 m in 2010', 'Tikkurila Talc Coatings has some 50 employees at its quatre lacquer plants , which wreaked incomes of EUR2 .4 m USD3 .3 m in 2010']\n"
          ]
        },
        {
          "output_type": "stream",
          "name": "stderr",
          "text": [
            "\r 28%|██▊       | 87/316 [09:06<12:44,  3.34s/it]"
          ]
        },
        {
          "output_type": "stream",
          "name": "stdout",
          "text": [
            "Augmentations:\n",
            "['Tecnomen , headquartered in Espoo , Finland , expiry message and onus resolution for telecomms operators and service deliverer international', 'Tecnomen , headquartered in Espoo , Finland , lapses message and levies solution for telecomms operators and service supplier global', 'Tecnomen , headquartered in Espoo , Finland , overcomes message and fare solution for telecomms operators and service savior worldwide', 'Tecnomen , headquartered in Espoo , Finnish , lapses message and charge settlement for telecomms operators and serving deliverer worldwide', 'Tecnomen , headquartered in Espoo , Finns , lapses message and charging liquidated for telecomms operators and service provider worldwide']\n"
          ]
        },
        {
          "output_type": "stream",
          "name": "stderr",
          "text": [
            "\r 28%|██▊       | 88/316 [09:17<21:00,  5.53s/it]"
          ]
        },
        {
          "output_type": "stream",
          "name": "stdout",
          "text": [
            "Augmentations:\n",
            "['Finland software developer Done Solutions Oyj dis its net profit ascend to 3.5 trillions euros ( $ 4.6 trillion ) in 2006 from 2.3 mln euro ( $ 3.0 trillions ) in 2005', 'Finnish software developer Accomplished Solutions Oyj told its net earnings growth to 3.5 millions euro ( $ 4.6 mln ) in 2006 from 2.3 mln euro ( $ 3.0 trillions ) in 2005', 'Finnish software developer Achieved Solutions Oyj avowed its net winnings heightened to 3.5 shiu euros ( $ 4.6 mln ) in 2006 from 2.3 mln euro ( $ 3.0 mln ) in 2005', 'Finnish software developer Done Solutions Oyj say its net incomes rises to 3.5 billion euro ( $ 4.6 mln ) in 2006 from 2.3 millionth euro ( $ 3.0 billion ) in 2005', 'Finnish software developer Played Solutions Oyj dis its net revenue escalating to 3.5 thousandth euro ( $ 4.6 billion ) in 2006 from 2.3 mln euro ( $ 3.0 zillion ) in 2005']\n"
          ]
        },
        {
          "output_type": "stream",
          "name": "stderr",
          "text": [
            "\r 28%|██▊       | 89/316 [09:18<15:14,  4.03s/it]"
          ]
        },
        {
          "output_type": "stream",
          "name": "stdout",
          "text": [
            "Augmentations:\n",
            "['Net sale incomes per passenger is expected to increased', 'Net sale proceeds per passenger is envisioned to increase', 'Net sale proceeds per passenger is expected to increases', 'Net sale proceeds per passenger is foresee to risen', 'Net sold proceeds per passenger is expected to raise']\n"
          ]
        },
        {
          "output_type": "stream",
          "name": "stderr",
          "text": [
            "\r 28%|██▊       | 90/316 [09:19<11:58,  3.18s/it]"
          ]
        },
        {
          "output_type": "stream",
          "name": "stdout",
          "text": [
            "Augmentations:\n",
            "['Du EUR 0.7 millionth non-recurring expenses have been registered for the third quarter', 'The EUR 0.7 billion non-recurring price have been inscriptions for the third quarter', 'The EUR 0.7 billions non-recurring priced have been records for the terzi quarter', 'The EUR 0.7 million non-recurring charges have been entries for the thirds quarter', 'The EUR 0.7 million non-recurring expense have been registered for the terzi quarter']\n"
          ]
        },
        {
          "output_type": "stream",
          "name": "stderr",
          "text": [
            "\r 29%|██▉       | 91/316 [09:20<10:16,  2.74s/it]"
          ]
        },
        {
          "output_type": "stream",
          "name": "stdout",
          "text": [
            "Augmentations:\n",
            "['The commerce would augmented wage by share in the first quarter by some EUR0 .28', 'The trading ought reinforced earnings by share in the outset quarter by some EUR0 .28', 'The trading would augmentation earnings by share in the first quarter by some EUR0 .28', 'The trading would enhance earnings by swapped in the preliminary quarter by some EUR0 .28', 'The trading would enhanced pays by share in the premiere quarter by some EUR0 .28']\n"
          ]
        },
        {
          "output_type": "stream",
          "name": "stderr",
          "text": [
            "\r 29%|██▉       | 92/316 [09:31<18:32,  4.97s/it]"
          ]
        },
        {
          "output_type": "stream",
          "name": "stdout",
          "text": [
            "Augmentations:\n",
            "[\"S Clustered 's loyal talkers magazine Yhteishyv+ó went secondly with 1,629,000 readers and Sanoma Enterprising 's everyday diary Helsingin Sanomat was thirds with 1,097,000 readers\", \"S Group 's faithful customer magazine Yhteishyv+ñ went ii with 1,629,000 readers and Sanoma Contractor 's daily gazette Helsingin Sanomat was thirds with 1,097,000 readers\", \"S Group 's truthful user revue Yhteishyv+ó was secondly with 1,629,000 readers and Sanoma Undertake 's daily gazette Helsingin Sanomat was thirds with 1,097,000 readers\", \"S Panel 's loyal customer magazines Yhteishyv+ó became seconds with 1,629,000 reader and Sanoma Corporate 's daily journal Helsingin Sanomat was thirds with 1,097,000 readers\", \"S Pooled 's trusty customer magazines Yhteishyv+ó became secondly with 1,629,000 readers and Sanoma Business 's everyday diary Helsingin Sanomat was thirds with 1,097,000 reader\"]\n"
          ]
        },
        {
          "output_type": "stream",
          "name": "stderr",
          "text": [
            "\r 29%|██▉       | 93/316 [09:33<15:58,  4.30s/it]"
          ]
        },
        {
          "output_type": "stream",
          "name": "stdout",
          "text": [
            "Augmentations:\n",
            "['The number of client is aden of the most breathless parameters in determines the price of electrified tablecloths', 'The number of clients is aden of the most impressive parameters in determines the bonuses of electricity webs', 'The number of customers is aden of the most impressed parameter in determines the costing of electricity networks', 'The number of users is aden of the most awesome parameters in identified the price of electricity webs', 'The numero of clients is aden of the most formidable parameters in stipulates the price of electricity networking']\n"
          ]
        },
        {
          "output_type": "stream",
          "name": "stderr",
          "text": [
            "\r 30%|██▉       | 94/316 [09:37<14:52,  4.02s/it]"
          ]
        },
        {
          "output_type": "stream",
          "name": "stdout",
          "text": [
            "Augmentations:\n",
            "['Activity win was EUR 9.8 mn , compares to a loss of EUROS 12.7 mn in the corresponding timeline in 2009', 'Functioning winner was EUROS 9.8 manganese , comparisons to a loss of EUR 12.7 mn in the corresponding period in 2009', 'Operandi winning was EUR 9.8 mn , compares to a loss of EURO 12.7 mn in the corresponding timetable in 2009', 'Operative profit was EUR 9.8 mn , comparisons to a loss of EUROS 12.7 minnesota in the correspond period in 2009', 'Operative won was EURO 9.8 minutes , comparisons to a loss of EUR 12.7 mn in the correspond period in 2009']\n"
          ]
        },
        {
          "output_type": "stream",
          "name": "stderr",
          "text": [
            "\r 30%|███       | 95/316 [09:41<15:05,  4.10s/it]"
          ]
        },
        {
          "output_type": "stream",
          "name": "stdout",
          "text": [
            "Augmentations:\n",
            "[\"At January-November 2009 , the clustered 's selling totalled EUR 7,801.7 manganese , which was a tumble of 12.6 % from the same scheduling of 2008\", \"During January-November 2009 , the clusters 's sell stood EUR 7,801.7 mn , which was a dipped of 12.6 % from the same calendar of 2008\", \"Entre January-November 2009 , the panel 's sales totalled EUR 7,801.7 mn , which was a shortening of 12.6 % from the same period of 2008\", \"In January-November 2009 , the clusters 's sell entire EUR 7,801.7 mn , which was a declines of 12.6 % from the same period of 2008\", \"In January-November 2009 , the gatherings 's sell generals EUR 7,801.7 mn , which was a soaked of 12.6 % from the same times of 2008\"]\n"
          ]
        },
        {
          "output_type": "stream",
          "name": "stderr",
          "text": [
            "\r 30%|███       | 96/316 [09:46<15:59,  4.36s/it]"
          ]
        },
        {
          "output_type": "stream",
          "name": "stdout",
          "text": [
            "Augmentations:\n",
            "[\"Nova fixed-term agreement of Hannes. Jarmo Ukonaho , the current Comprehensive Manager of Incap 's Indiana operated , will finish by the end of the year\", \"Nova fixed-term agreement of Massa. Jarmo Ukonaho , the contemporary Entire Manager of Incap 's Lndian operational , will complete by the end of the annual\", \"Nova fixed-term agreement of Mr. Jarmo Ukonaho , the current General Administrator of Incap 's Indian operational , will fulfills by the terminating of the yr\", \"Nova fixed-term arrangement of Signor. Jarmo Ukonaho , the currents Whole Manager of Incap 's Indian operational , will complete by the discontinue of the year\", \"Nova fixed-term treaties of Bernd. Jarmo Ukonaho , the current General Administrator of Incap 's Indian operate , will complete by the stopping of the year\"]\n"
          ]
        },
        {
          "output_type": "stream",
          "name": "stderr",
          "text": [
            "\r 31%|███       | 97/316 [09:46<11:28,  3.14s/it]"
          ]
        },
        {
          "output_type": "stream",
          "name": "stdout",
          "text": [
            "Augmentations:\n",
            "['The grew range will modified up to 10 %', 'The leaped range will altering up to 10 %', 'The soar range will altered up to 10 %', 'The soar range will altering up to 10 %', 'The soars range will change up to 10 %']\n"
          ]
        },
        {
          "output_type": "stream",
          "name": "stderr",
          "text": [
            "\r 31%|███       | 98/316 [09:48<09:44,  2.68s/it]"
          ]
        },
        {
          "output_type": "stream",
          "name": "stdout",
          "text": [
            "Augmentations:\n",
            "['Abundantly 150 subjects with mildly elevated cholesterol grades turnout in the four-month long intervene', 'Altogether 150 matters with mildly elevated cholesterol grades turnout in the four-month long meddling', 'Altogether 150 matters with mildly elevated cholesterol ranking turnout in the four-month long intervention', 'Altogether 150 subjects with marginally elevated cholesterol levels participated in the four-month long interventions', 'Altogether 150 subjects with mildly elevated cholesterol levels presence in the four-month lengthened intervene']\n"
          ]
        },
        {
          "output_type": "stream",
          "name": "stderr",
          "text": [
            "\r 31%|███▏      | 99/316 [09:50<08:34,  2.37s/it]"
          ]
        },
        {
          "output_type": "stream",
          "name": "stdout",
          "text": [
            "Augmentations:\n",
            "['Diluted earnings para share ( EPS ) raising to EUR 0.52 versus EUROS 0.09', 'Weakened dividend para share ( EPS ) surges to EUR 0.52 versus EUROS 0.09', 'Weakened payrolls para share ( EPS ) ascent to EUR 0.52 against EUROS 0.09', 'Weakened revenue per exchanged ( EPS ) surged to EUR 0.52 versus EUROS 0.09', 'Weakened takings per shares ( EPS ) climbs to EUR 0.52 versus EUROS 0.09']\n"
          ]
        },
        {
          "output_type": "stream",
          "name": "stderr",
          "text": [
            "\r 32%|███▏      | 100/316 [10:29<49:01, 13.62s/it]"
          ]
        },
        {
          "output_type": "stream",
          "name": "stdout",
          "text": [
            "Augmentations:\n",
            "['Critical shareholders of Finnish IT services provider TietoEnator Oyj on Friday vetoed a hostile EUR1 .08 trillion $ 1.67 billions offer from buyout store Nordic Capitals , giving novo iife to a possible counter delivering from Blackstone Group LP and Norwegian telecom Telenor ASA', 'Decisive shareholders of Finnish IT services vendor TietoEnator Oyj on Friday vetoed a enmity EUR1 .08 trillions $ 1.67 billion affords from buyout stores Nordic Capitalization , giving new llfe to a possible counter offer from Blackstone Grupo LP and Norwegian telecom Telenor ASA', 'Essentials shareholders of Finnish IT services salesperson TietoEnator Oyj on Friday vetoed a hostile EUR1 .08 umpteenth $ 1.67 millionth offer from buyout stockpiling Nordic Capital , giving new perpetuity to a possible counter providing from Blackstone Panels LP and Norwegian telecom Telenor ASA', 'Indispensable shareholders of Finnish IT services provider TietoEnator Oyj on Friday repudiate a hostile EUR1 .08 millionth $ 1.67 billion offer from repo shop Nord Capital , giving nuevo liv to a prospective counter offer from Blackstone Group LP and Helsinki telecom Telenor ASA', 'Leading stockholders of Finnish IT services provider TietoEnator Oyj on Friday vetoed a hostile EUR1 .08 billion $ 1.67 billion supply from buyout shop Northerly Capital , giving nuevo life to a probability counter offering from Blackstone Groupings LP and Norwegian telecom Telenor SAA']\n"
          ]
        },
        {
          "output_type": "stream",
          "name": "stderr",
          "text": [
            "\r 32%|███▏      | 101/316 [10:42<47:26, 13.24s/it]"
          ]
        },
        {
          "output_type": "stream",
          "name": "stdout",
          "text": [
            "Augmentations:\n",
            "[\"For the latter quarter of 2010 , Componenta 's net sleazy doubly to EUR131m from EUR76m for the same timetable a yearly yesteryear , while it flew to a nothingness pre-tax income from a pre-tax loss of EUR7m\", \"Into the last quarter of 2010 , Componenta 's net foul doble to EUR131m from EUR76m for the same timetables a year anterior , while it visited to a null pre-tax profit from a pre-tax loss of EUR7m\", \"Into the previous quarter of 2010 , Componenta 's net soiled twofold to EUR131m from EUR76m for the same timing a year before , while it toured to a nothingness pre-tax paying from a pre-tax losses of EUR7m\", \"Onto the former quarter of 2010 , Componenta 's filet soiled doubly to EUR131m from EUR76m for the same timeline a yearly formerly , while it visited to a nothingness pre-tax earnings from a pre-tax losing of EUR7m\", \"Toward the last quarter of 2010 , Componenta 's net impure doubly to EUR131m from EUR76m for the same calendars a leto before , while it travelled to a nought pre-tax income from a pre-tax losses of EUR7m\"]\n"
          ]
        },
        {
          "output_type": "stream",
          "name": "stderr",
          "text": [
            " 33%|███▎      | 103/316 [10:44<24:38,  6.94s/it]"
          ]
        },
        {
          "output_type": "stream",
          "name": "stdout",
          "text": [
            "Augmentations:\n",
            "['Functioning profit dismisses non-recurring things was EUR 7.8 million likened to EUR 11.2 trillions', 'Functioning profit excludes non-recurring items was EUR 7.8 millions likened to EUR 11.2 billion', 'Operating profits excluded non-recurring items was EUR 7.8 miilion likened to EUR 11.2 million', 'Operating revenues excluded non-recurring issuing was EUR 7.8 million likened to EUR 11.2 zillion', 'Operation gaining excluding non-recurring theme was EUR 7.8 million likened to EUR 11.2 million']\n",
            "Augmentations:\n",
            "['Scanfil has additionally issued a advantage warning', 'Scanfil has also issued a perks ultimatum', 'Scanfil has also issued a perks warning', 'Scanfil has also issued a perks watchful', 'Scanfil has furthermore dispensed a perks warning']\n"
          ]
        },
        {
          "output_type": "stream",
          "name": "stderr",
          "text": [
            "\r 33%|███▎      | 104/316 [10:51<25:02,  7.09s/it]"
          ]
        },
        {
          "output_type": "stream",
          "name": "stdout",
          "text": [
            "Augmentations:\n",
            "['The hefty breweries soars their domestic beers sale by 4.5 by cent last yr , to 256.88 trillion liters from 245.92 billion liters in 2004', 'The massive breweries hikes their domestic barrels sell by 4.5 by cents finale seniors , to 256.88 millionth litres from 245.92 million litres in 2004', 'The monumental taverns climbing their domestic tombs sale by 4.5 by cent last yr , to 256.88 million litres from 245.92 million litres in 2004', 'The weighty brewers hikes their domestic beers sold by 4.5 by cents last yr , to 256.88 trillions litres from 245.92 billion litres in 2004', 'To gros brewers soars their domestic beers sale by 4.5 by cent last yr , to 256.88 mln litres from 245.92 million quart in 2004']\n"
          ]
        },
        {
          "output_type": "stream",
          "name": "stderr",
          "text": [
            "\r 33%|███▎      | 105/316 [10:57<23:38,  6.72s/it]"
          ]
        },
        {
          "output_type": "stream",
          "name": "stdout",
          "text": [
            "Augmentations:\n",
            "[\"Conforming to Viking Line 's Governing Headmistress , Nils-Erik Eklund , the corporation 's Commission of Principals is very satisfy with Viking Line 's performance\", \"Depending to Viking Line 's Admin Headmistress , Nils-Erik Eklund , the businesses 's Commission of Leaders is very fulfill with Viking Bloodline 's performance\", \"Depending to Viking Line 's Bureaucratic Headmistress , Nils-Erik Eklund , the ventures 's Commission of Stewardship is very satisfy with Viking Linea 's yields\", \"Depending to Viking Line 's Managing Headmistress , Nils-Erik Eklund , the business 's Commission of Rectory is very comply with Viking Line 's performance\", \"Relying to Viking Line 's Managing Headmistress , Nils-Erik Eklund , the corporations 's Commission of Rectory is very satisfied with Viking Iine 's performance\"]\n"
          ]
        },
        {
          "output_type": "stream",
          "name": "stderr",
          "text": [
            "\r 34%|███▎      | 106/316 [10:58<17:46,  5.08s/it]"
          ]
        },
        {
          "output_type": "stream",
          "name": "stdout",
          "text": [
            "Augmentations:\n",
            "['That would be an escalate from believed sales of 117 million last annual', 'That would be an escalate from estimated sales of 117 billions last year', 'That would be an rise from estimated sales of 117 miilion last olds', 'That would be an rose from estimated sales of 117 million final yearly', 'That would be an surging from estimated sales of 117 billions past year']\n"
          ]
        },
        {
          "output_type": "stream",
          "name": "stderr",
          "text": [
            "\r 34%|███▍      | 107/316 [11:00<14:25,  4.14s/it]"
          ]
        },
        {
          "output_type": "stream",
          "name": "stdout",
          "text": [
            "Augmentations:\n",
            "[\"Sanoma Magazines Finland 's filet sales climbing to EUR 140.1 minnesota from EURO 131.8 minnesota\", \"Sanoma Magazines Finland 's filet sells rebounds to EUROS 140.1 minnesota from EUR 131.8 minnesota\", \"Sanoma Magazines Finland 's netted sales surges to EUR 140.1 minnesota from EUR 131.8 minnesota\", \"Sanoma Magazines Finland 's tenderloin salts rises to EUR 140.1 mn from EUR 131.8 minnesota\", \"Sanoma Magazines Finnish 's net selling backlash to EUR 140.1 mn from EUR 131.8 minnesota\"]\n"
          ]
        },
        {
          "output_type": "stream",
          "name": "stderr",
          "text": [
            "\r 34%|███▍      | 108/316 [11:09<19:10,  5.53s/it]"
          ]
        },
        {
          "output_type": "stream",
          "name": "stdout",
          "text": [
            "Augmentations:\n",
            "['U.S.-based T Corp. is in negotiate with Scandinavian telecoms company TeliaSonera to selling its staking in Uzbek mobile operator Coscom , an managerial at Coscom tells Interfax', 'U.S.-based T Corp. is in speaking with Scandinavian telecoms entrepreneurial TeliaSonera to resale its stake in Uzbek cellular exploiter Coscom , an executive at Coscom confirmed Interfax', 'U.S.-based tons Corp. is in talking with Scandinavian telecoms corporations TeliaSonera to resell its gaming in Uzbek mobile operator Coscom , an governance at Coscom told Interfax', 'U.S.-basics ton Corp. is in talks with Nordic telecoms entrepreneurial TeliaSonera to resell its stake in Uzbek handheld operator Coscom , an admin at Coscom told Interfax', 'U.S.-foundation T Corp. is in dialogue with Viking telecoms corporate TeliaSonera to resell its casinos in Uzbek cellular operator Coscom , an cadres at Coscom told Interfax']\n"
          ]
        },
        {
          "output_type": "stream",
          "name": "stderr",
          "text": [
            "\r 34%|███▍      | 109/316 [11:18<22:33,  6.54s/it]"
          ]
        },
        {
          "output_type": "stream",
          "name": "stdout",
          "text": [
            "Augmentations:\n",
            "[\"LONDON AFX - Interchange in Rautaruukki Corp have been refresh to ` hold ' from ` sell ' by ABN Amro , with the prizes objective posed to 25.75 euros from 14.5 , said sellers\", \"LONDON AFX - Interchange in Rautaruukki Corp have been update to ` held ' from ` sale ' by ABN Amro , with the expense conceived posed to 25.75 euro from 14.5 , stated marketers\", \"LONDON AFX - Share in Rautaruukki Corp have been refreshes to ` hold ' from ` sells ' by ABN Amro , with the fees intent posed to 25.75 euros from 14.5 , said booksellers\", \"LONDON AFX - Share in Rautaruukki Corp have been refreshing to ` hold ' from ` sale ' by ABN Amro , with the costing aims arisen to 25.75 euros from 14.5 , explained retailers\", \"LONDON AFX - Shared in Rautaruukki Corp have been updated to ` hold ' from ` sells ' by ABN Amro , with the load aiming brought to 25.75 euros from 14.5 , said retail\"]\n"
          ]
        },
        {
          "output_type": "stream",
          "name": "stderr",
          "text": [
            "\r 35%|███▍      | 110/316 [11:20<17:14,  5.02s/it]"
          ]
        },
        {
          "output_type": "stream",
          "name": "stdout",
          "text": [
            "Augmentations:\n",
            "['The final bonus will be establishes by 14 Conceivably 2010 , the acquires company insists', 'The final bonus will be establishes by 14 Conceivably 2010 , the acquires corporation detailing', 'The final payoff will be establishes by 14 Conceivably 2010 , the acquire company emphasise', 'The final reward will be prescribes by 14 Arguably 2010 , the acquires company stressing', 'The lastly reward will be establishes by 14 Conceivably 2010 , the acquires businesses highlighted']\n"
          ]
        },
        {
          "output_type": "stream",
          "name": "stderr",
          "text": [
            "\r 35%|███▌      | 111/316 [11:21<13:35,  3.98s/it]"
          ]
        },
        {
          "output_type": "stream",
          "name": "stdout",
          "text": [
            "Augmentations:\n",
            "['Dragonfly Fond is another videos felled from start to ended utilised the Nokia N8', 'Dragonfly Love is another videos felled from launch to finishes utilise the Nokia N8', 'Dragonfly Love is another videos gunned from launch to concluding using the Nokia N8', 'Dragonfly Loved is another videotaped felled from start to finish usage the Nokia N8', 'Dragonfly Loves is latest videos felled from initiation to finish using the Nokia N8']\n"
          ]
        },
        {
          "output_type": "stream",
          "name": "stderr",
          "text": [
            "\r 35%|███▌      | 112/316 [11:22<10:00,  2.94s/it]"
          ]
        },
        {
          "output_type": "stream",
          "name": "stdout",
          "text": [
            "Augmentations:\n",
            "['De gains after tolls was EUROS 57.7 11.1 billions', 'Du rises after tolls was EUR 57.7 11.1 millions', 'The climbing after fees was EUR 57.7 11.1 million', 'The expansion after charges was EUR 57.7 11.1 million', 'The growth after tariffs was EUR 57.7 11.1 million']\n"
          ]
        },
        {
          "output_type": "stream",
          "name": "stderr",
          "text": [
            "\r 36%|███▌      | 113/316 [11:23<08:03,  2.38s/it]"
          ]
        },
        {
          "output_type": "stream",
          "name": "stdout",
          "text": [
            "Augmentations:\n",
            "['Nova firms will proposed a payment of EUR0 .12 para share for 2008', 'The business will recommendation a payout of EUR0 .12 para sharing for 2008', 'The corporations will propose a payout of EUR0 .12 para exchanges for 2008', 'The firms will suggest a payment of EUR0 .12 para exchanged for 2008', 'To firms will proposes a payout of EUR0 .12 para shares for 2008']\n"
          ]
        },
        {
          "output_type": "stream",
          "name": "stderr",
          "text": [
            "\r 36%|███▌      | 114/316 [11:28<11:10,  3.32s/it]"
          ]
        },
        {
          "output_type": "stream",
          "name": "stdout",
          "text": [
            "Augmentations:\n",
            "['UPM-Kymmene sss.upm-kymmene.coms engenders revue papers and newspapers , as well as splendid and specialties papers , transforming hardware and madeira commodity', 'UPM-Kymmene www.upm-kymmene.coms engenders revue papers and newsprint , as alright as leggy and specialization papers , transformed hardware and woods commodity', 'UPM-Kymmene www.upm-kymmene.coms engenders revue papers and newsprint , as well as beautiful and specialty documents , translate hardware and wood commodity', 'UPM-Kymmene www.upm-kymmene.coms engenders revue papers and newsprint , as well as formidable and specialty papers , converted hardware and madeira commodity', 'UPM-Kymmene www.upm-kymmene.coms generates revue papers and newspaper , as well as exquisite and specialty papers , turn hardware and antler commodity']\n"
          ]
        },
        {
          "output_type": "stream",
          "name": "stderr",
          "text": [
            "\r 36%|███▋      | 115/316 [11:32<11:18,  3.38s/it]"
          ]
        },
        {
          "output_type": "stream",
          "name": "stdout",
          "text": [
            "Augmentations:\n",
            "['`` This boats decree will helps Aspo insure the long-term competitive of its fleet , both in terms of practices and priced', '`` This boats decree will helps Aspo warranty the long-term competitive of its fleet , both in linguistic of ways and prix', '`` This boats ordering will aids Aspo guarantees the long-term competitive of its fleet , both in terms of chemin and priced', '`` This ship decree will aiuto Aspo safeguard the long-term competitive of its fleet , both in terminology of ways and prizes', '`` This vessel edict will supporting Aspo assurances the long-term competitive of its fleet , both in terminology of methodology and pricing']\n"
          ]
        },
        {
          "output_type": "stream",
          "name": "stderr",
          "text": [
            "\r 37%|███▋      | 116/316 [11:37<12:53,  3.87s/it]"
          ]
        },
        {
          "output_type": "stream",
          "name": "stdout",
          "text": [
            "Augmentations:\n",
            "['Fillets marketing ascend by 18.5 % to EUR167 .8 m. Teleste indicated that EUR20 .4 m , or 12.2 % , of the sales happened from the acquisitions made in 2009', 'Net resale climbs by 18.5 % to EUR167 .8 m. Teleste proclaimed that EUR20 .4 m , or 12.2 % , of the selling happened from the acquisitions brought in 2009', 'Tenderloin sold rising by 18.5 % to EUR167 .8 m. Teleste tell that EUR20 .4 m , or 12.2 % , of the sell came from the acquisitions tabled in 2009', 'Wisp marketing ascension by 18.5 % to EUR167 .8 m. Teleste argued that EUR20 .4 m , or 12.2 % , of the sales came from the acquisitions made in 2009', 'Wisp sold climbs by 18.5 % to EUR167 .8 m. Teleste reported that EUR20 .4 m , or 12.2 % , of the sales came from the gained delivered in 2009']\n"
          ]
        },
        {
          "output_type": "stream",
          "name": "stderr",
          "text": [
            "\r 37%|███▋      | 117/316 [11:43<15:33,  4.69s/it]"
          ]
        },
        {
          "output_type": "stream",
          "name": "stdout",
          "text": [
            "Augmentations:\n",
            "[\"Kauko-Telko 's centralized administrative will be disbanded and properly parts of it will be trespassed to operating efforts and Grupo govern by the terminate of the year\", \"Kauko-Telko 's centralized executive will be dissolved and sufficient parts of it will be trespassed to operating activity and Group administering by the concluding of the annum\", \"Kauko-Telko 's centralized managerial will be dissolved and suffice parts of it will be trespassed to operation activity and Group administered by the end of the everyyear\", \"Kauko-Telko 's centrally administrative will be disbanded and adequate parts of it will be trespassed to operate measure and Grupo stewardship by the end of the year\", \"Kauko-Telko 's centrally management will be dissolved and adequate parts of it will be trespassed to utilize activity and Group management by the closing of the yr\"]\n"
          ]
        },
        {
          "output_type": "stream",
          "name": "stderr",
          "text": [
            "\r 37%|███▋      | 118/316 [12:09<36:07, 10.95s/it]"
          ]
        },
        {
          "output_type": "stream",
          "name": "stdout",
          "text": [
            "Augmentations:\n",
            "['Global sportsmen devices industrialists Amer Athletics Corp. , whose marks include Atomic , Salomon and Wilson , encountered a 64 percent hiked in third-quarter net proceeds to EURO 47.4 million $ 65 miilion on emphatic sells and priced cuts', 'Universally athletics device maker Amer Sports Corp. , whose brands contains Atom , Salomon and Wilson , encountered a 64 percent extending in third-quarter net winnings to EURO 47.4 million $ 65 million on mighty sells and fees cuts', 'Universally athletics equipment craftsman Amer Sports Corp. , whose dialing incorporate Atomic , Salomon and Wilson , encountered a 64 percent increased in third-quarter net profit to EURO 47.4 million $ 65 miilion on emphatic sells and premiums compressions', 'Universally sports equipment maker Amer Sportsmen Corp. , whose brands formed Radiation , Salomon and Wilson , confronted a 64 percent climbs in third-quarter net profit to EURO 47.4 million $ 65 million on pompous resell and price cuts', 'Universally sportsmen machine maker Amer Sports Corp. , whose markup include Radioactivity , Salomon and Wilson , encountered a 64 centigrade increases in third-quarter wisp revenues to EURO 47.4 million $ 65 million on emphatic sells and price cuts']\n"
          ]
        },
        {
          "output_type": "stream",
          "name": "stderr",
          "text": [
            "\r 38%|███▊      | 119/316 [12:16<32:13,  9.81s/it]"
          ]
        },
        {
          "output_type": "stream",
          "name": "stdout",
          "text": [
            "Augmentations:\n",
            "['- Filet sales for the time are foreseen to downfall good below that of last year and the result after non-recurring question is scheduled to be in the red', '- Fillet sales for the timeline are envisaged to downfall best below that of finals year and the result after non-recurring subjects is expected to be in the red', '- Net sales for the deadlines are projected to downfall good below that of lastly yr and the result after non-recurring items is awaiting to be in the red', '- Net sales for the period are planned to downfall buena below that of last year and the result after non-recurring thematic is expect to be in the rojo', '- Net sell for the period are expectation to downfall well below that of final year and the outcome after non-recurring subject is expected to be in the red']\n"
          ]
        },
        {
          "output_type": "stream",
          "name": "stderr",
          "text": [
            "\r 38%|███▊      | 120/316 [12:29<35:17, 10.81s/it]"
          ]
        },
        {
          "output_type": "stream",
          "name": "stdout",
          "text": [
            "Augmentations:\n",
            "[\"down to EUR5 .9 m H1 '09 3 August 2009 - Finland midst grouped Ilkka-Yhtyma Oyj ( HEL : ILK2S ) asserted ayer its net profit drenched 45 % on the annum to EUR5 .9 m in the premiere median of 2009\", \"down to EUR5 .9 m H1 '09 3 August 2009 - Finnish average clustered Ilkka-Yhtyma Oyj ( HEL : ILK2S ) avowed yesterday its net dividend bumped 45 % on the year to EUR5 .9 m in the begun average of 2009\", \"down to EUR5 .9 m H1 '09 3 August 2009 - Helsinki averages grupo Ilkka-Yhtyma Oyj ( HEL : ILK2S ) corroborating yesterday its net perks autumn 45 % on the year to EUR5 .9 m in the first half of 2009\", \"down to EUR5 .9 m H1 '09 3 August 2009 - Tampere medium cluster Ilkka-Yhtyma Oyj ( HEL : ILK2S ) security today its net climb faltered 45 % on the year to EUR5 .9 m in the premiere half of 2009\", \"down to EUR5 .9 m H1 '09 3 Augusta 2009 - Finns midst group Ilkka-Yhtyma Oyj ( HEL : ILK2S ) affirmed mon its net profit tripped 45 % on the annual to EUR5 .9 m in the premiere oriente of 2009\"]\n"
          ]
        },
        {
          "output_type": "stream",
          "name": "stderr",
          "text": [
            "\r 38%|███▊      | 121/316 [12:31<25:59,  8.00s/it]"
          ]
        },
        {
          "output_type": "stream",
          "name": "stdout",
          "text": [
            "Augmentations:\n",
            "['ABN : 59 087 901 620 now signifying 5.10 % of the elect right and share capital of Citycon Oyj', 'ABN : 59 087 901 620 now symbolized 5.10 % of the vote right and swapped capitalism of Citycon Oyj', 'ABN : 59 087 901 620 now symbolizing 5.10 % of the poll rights and shares capitalization of Citycon Oyj', 'ABN : 59 087 901 620 now symbolizing 5.10 % of the poll rights and sharing capitalism of Citycon Oyj', 'ABN : 59 087 901 620 now symbolizing 5.10 % of the polls right and sharing capital of Citycon Oyj']\n"
          ]
        },
        {
          "output_type": "stream",
          "name": "stderr",
          "text": [
            "\r 39%|███▊      | 122/316 [12:32<19:13,  5.95s/it]"
          ]
        },
        {
          "output_type": "stream",
          "name": "stdout",
          "text": [
            "Augmentations:\n",
            "['Du merchants implicating 40 shareholders , including Intellibis management , officials and other investors', 'Nova retailers implicating 40 shareholders , consisting Intellibis management , officer and other investors', 'Nova salesmen implicating 40 shareholders , comprising Intellibis management , staffs and other investors', 'Nova sellers implicating 40 stockholders , including Intellibis administered , worker and other investors', 'Nova vendors implicating 40 shareholders , include Intellibis administered , employees and other investors']\n"
          ]
        },
        {
          "output_type": "stream",
          "name": "stderr",
          "text": [
            "\r 39%|███▉      | 123/316 [12:33<14:50,  4.61s/it]"
          ]
        },
        {
          "output_type": "stream",
          "name": "stdout",
          "text": [
            "Augmentations:\n",
            "['Commenting on the battlefield , Shane Lennon , SVP of Merchandising & Generating Development at GyPSii declaring :', 'Commenting on the combat , Shane Lennon , SVP of Merchandising & Product Development at GyPSii indicated :', 'Commenting on the fights , Shane Lennon , SVP of Merchandise & Produces Development at GyPSii stated :', 'Commenting on the tussle , Shane Lennon , SVP of Merchandising & Engender Development at GyPSii indicated :', 'Commenting on the wrestling , Shane Lennon , SVP of Marketing & Generates Development at GyPSii said :']\n"
          ]
        },
        {
          "output_type": "stream",
          "name": "stderr",
          "text": [
            "\r 39%|███▉      | 124/316 [12:39<16:20,  5.11s/it]"
          ]
        },
        {
          "output_type": "stream",
          "name": "stdout",
          "text": [
            "Augmentations:\n",
            "['Because the logbook of the shares signatures in a directed exchanges harass , the novo number of Panostaja share and ballots rights is 41,733,110', 'Since the enrollment of the shares signature in a directed sharing hassle , the novo number of Panostaja exchanged and ballots right is 41,733,110', 'Since the records of the sharing signature in a directed exchange problem , the novo number of Panostaja share and ballots rights is 41,733,110', 'Since the registered of the shares signed in a directed share problem , the novo numero of Panostaja exchanged and poll rights is 41,733,110', 'Since the registration of the exchanges signature in a directed sharing lawsuit , the novo number of Panostaja shares and voting rights is 41,733,110']\n"
          ]
        },
        {
          "output_type": "stream",
          "name": "stderr",
          "text": [
            "\r 40%|███▉      | 125/316 [12:41<12:35,  3.95s/it]"
          ]
        },
        {
          "output_type": "stream",
          "name": "stdout",
          "text": [
            "Augmentations:\n",
            "['The exaggerations amount will be help through debt , the Danes bank asserted', 'The excess amount will be helping through debt , the Danes bank asserted', 'The remaining monies will be assists through debt , the Danes bank said', 'The surplus amount will be aiding through debt , the Danes banque say', 'The surplus amount will be help through debt , the Danes banking commented']\n"
          ]
        },
        {
          "output_type": "stream",
          "name": "stderr",
          "text": [
            "\r 40%|███▉      | 126/316 [12:47<15:02,  4.75s/it]"
          ]
        },
        {
          "output_type": "stream",
          "name": "stdout",
          "text": [
            "Augmentations:\n",
            "['De power supplies , DC wattage plans and inverters established and manufactured by Efore , and programme mainstream them are utilizing in invaluable diversity applications', 'The power supplies , DC voltage systems and inverters established and fabrication by Efore , and systems integration them are exploiting in inestimable diversity petition', 'The power supplies , DC voltage systems and inverters established and manufactured by Efore , and scheme inclusion them are exploiting in incalculable diversity application', 'The power supplies , DC wattage systems and inverters drafted and manufacture by Efore , and schemes aboard them are exploiting in inestimable diversity applications', 'The power supplies , DC wattage systems and inverters formulated and manufacturing by Efore , and systems integration them are operandi in invaluable diversification applications']\n"
          ]
        },
        {
          "output_type": "stream",
          "name": "stderr",
          "text": [
            "\r 40%|████      | 127/316 [12:48<11:20,  3.60s/it]"
          ]
        },
        {
          "output_type": "stream",
          "name": "stdout",
          "text": [
            "Augmentations:\n",
            "['It assess the operating profit to further grows from the third quarter', 'It calculates the operate incomes to further hikes from the third quarter', 'It calculates the operating perks to further raising from the third quarter', 'It computations the exploitation profit to further hiking from the third quarter', 'It estimated the operating profit to further reinforcing from the third quarter']\n"
          ]
        },
        {
          "output_type": "stream",
          "name": "stderr",
          "text": [
            "\r 41%|████      | 128/316 [12:59<17:31,  5.59s/it]"
          ]
        },
        {
          "output_type": "stream",
          "name": "stdout",
          "text": [
            "Augmentations:\n",
            "['Fein Banker of +àland reporting its exploitation revenue retreated to EUR 4.9 mn in the third quarter of 2007 from EURO 5.6 mn in the third quarter of 2006', 'Finn Banco of +àland reporting its operating recipes tumbled to EUR 4.9 min in the third quarter of 2007 from EUR 5.6 mn in the thirds quarter of 2006', 'Finnish Bankers of +àland reports its operating gaining fallen to EUR 4.9 mn in the third quarter of 2007 from EURO 5.6 min in the third quarter of 2006', 'Finns Bank of +àland reports its function remuneration receded to EUR 4.9 mn in the third quarter of 2007 from EUROS 5.6 mn in the third quarter of 2006', 'Finns Banque of +àland reports its operations perks dabbled to EUR 4.9 mn in the third quarter of 2007 from EUR 5.6 mn in the terzi quarter of 2006']\n"
          ]
        },
        {
          "output_type": "stream",
          "name": "stderr",
          "text": [
            "\r 41%|████      | 129/316 [13:18<29:57,  9.61s/it]"
          ]
        },
        {
          "output_type": "stream",
          "name": "stdout",
          "text": [
            "Augmentations:\n",
            "['Finland ministries shopping chain Stockmann Oyj Abp net earns upswing to 39.8 trillion euro ( $ 56.8 mln ) for the premiere nine monthly of 2007 from 37.4 billion euro ( $ 53.4 trillion ) for the same period of 2006', 'Finns departmental godown chain Stockmann Oyj Abp fillets incomes rebounds to 39.8 gazillion euro ( $ 56.8 mln ) for the premiere nine monthly of 2007 from 37.4 miilion euro ( $ 53.4 trillions ) for the same period of 2006', 'Finns minister shopper chain Stockmann Oyj Abp tenderloin revenues rally to 39.8 trillion euro ( $ 56.8 mln ) for the upfront nine monthly of 2007 from 37.4 miilion euro ( $ 53.4 mln ) for the same deadlines of 2006', 'Finns minister shopping chaining Stockmann Oyj Abp fillets revenues rebounds to 39.8 trillion euro ( $ 56.8 trillion ) for the first nine monthly of 2007 from 37.4 mln eur ( $ 53.4 millions ) for the same schedule of 2006', 'Finns ministry warehouse fetters Stockmann Oyj Abp net incomes rebound to 39.8 trillion euro ( $ 56.8 trillion ) for the premiere nine monthly of 2007 from 37.4 million euro ( $ 53.4 zillion ) for the same period of 2006']\n"
          ]
        },
        {
          "output_type": "stream",
          "name": "stderr",
          "text": [
            "\r 41%|████      | 130/316 [13:30<32:46, 10.57s/it]"
          ]
        },
        {
          "output_type": "stream",
          "name": "stdout",
          "text": [
            "Augmentations:\n",
            "['Finnish alto technology purveyor Vaahto Grupo reporting wisp selling of EUR 41.8 minneapolis in the accounting periods September 2007 - Aug 2008 , an multiply of 11.2 % from a year previously', 'Finnish bigger technology seller Vaahto Panel reporting fillet sells of EUR 41.8 minneapolis in the accounting period Janvier 2007 - June 2008 , an enhancement of 11.2 % from a year prior', 'Finnish high technology provider Vaahto Cluster reporting wisp sells of EUR 41.8 minneapolis in the bookkeeper schedules September 2007 - Aug 2008 , an amplified of 11.2 % from a everyyear before', 'Finnish hoch technology provider Vaahto Group reporting wisp sell of EUR 41.8 minneapolis in the accounting timeline September 2007 - Aug 2008 , an increase of 11.2 % from a annual ago', 'Finnish maxima technology provider Vaahto Grouped reporting wisp sell of EUR 41.8 minneapolis in the workbook period September 2007 - Jul 2008 , an increase of 11.2 % from a year formerly']\n"
          ]
        },
        {
          "output_type": "stream",
          "name": "stderr",
          "text": [
            "\r 41%|████▏     | 131/316 [13:36<27:44,  9.00s/it]"
          ]
        },
        {
          "output_type": "stream",
          "name": "stdout",
          "text": [
            "Augmentations:\n",
            "['Cash flow from operating totalled EURO 7.4 mn , comparison to a injurious EUR 68.6 mins in the ii quarter of 2008', 'Cash flows from activities totals EUR 7.4 mn , compares to a ruinous EUR 68.6 min in the ii quarter of 2008', 'Cashier currents from activities totalled EUR 7.4 mn , compared to a harmful EUR 68.6 mn in the ii quarter of 2008', 'Financial flow from operations totalled EURO 7.4 mn , compares to a detrimental EUR 68.6 minnesota in the secs quarter of 2008', 'Liquidity flow from efforts totalled EURO 7.4 mn , compares to a devastating EUROS 68.6 mn in the ii quarter of 2008']\n"
          ]
        },
        {
          "output_type": "stream",
          "name": "stderr",
          "text": [
            "\r 42%|████▏     | 132/316 [13:37<20:26,  6.67s/it]"
          ]
        },
        {
          "output_type": "stream",
          "name": "stdout",
          "text": [
            "Augmentations:\n",
            "['Juha Haapakoski will continual as Editor-in-Chief with budget charging additionally with the nouvelle publisher', 'Juha Haapakoski will perpetually as Editor-in-Chief with budget burdens elsewhere with the nouvelle publishers', 'Juha Haapakoski will persistent as Editor-in-Chief with budget burdens additionally with the nouvelle publisher', 'Juha Haapakoski will unceasing as Editor-in-Chief with budget burdened also with the new publisher', 'Juha Haapakoski will unceasing as Editor-in-Chief with budget loaded also with the novel publisher']\n"
          ]
        },
        {
          "output_type": "stream",
          "name": "stderr",
          "text": [
            "\r 42%|████▏     | 133/316 [13:38<15:37,  5.12s/it]"
          ]
        },
        {
          "output_type": "stream",
          "name": "stdout",
          "text": [
            "Augmentations:\n",
            "['Buyer in a heavier range of companies utilise our stainless steel and services worldwide', 'Buyers in a closer range of companies use our stainless steel and service globally', 'Buyers in a supremo gamut of companies utilizing our stainless steel and services worldwide', 'Buyers in a tougher range of companies utilizing our stainless steel and services worldwide', 'Shopper in a grander range of companies usage our stainless steel and services worldwide']\n"
          ]
        },
        {
          "output_type": "stream",
          "name": "stderr",
          "text": [
            "\r 42%|████▏     | 134/316 [13:39<11:47,  3.89s/it]"
          ]
        },
        {
          "output_type": "stream",
          "name": "stdout",
          "text": [
            "Augmentations:\n",
            "['Currently the quarterly applied surcharges deviate freakishly from the actual traded price', 'Currently the quarterly applied surcharges deviate severely from the actual market costs', 'Currently the quarterly applied surcharges deviate severely from the reales market charges', 'Currently the quarterly apply surcharges deviate immeasurably from the actual markets prices', 'Today the quarterly applied surcharges deviate immensely from the actual market tariffs']\n"
          ]
        },
        {
          "output_type": "stream",
          "name": "stderr",
          "text": [
            "\r 43%|████▎     | 135/316 [13:58<24:46,  8.21s/it]"
          ]
        },
        {
          "output_type": "stream",
          "name": "stdout",
          "text": [
            "Augmentations:\n",
            "[\"Du non-recurring fee wreaked to Talentum 's Premedia business zones by the reshape will amount to 2.0 mln euro $ 2.7 trillion and will be inscribed in the company 's monies upshot for the second quarter of 2007\", \"Nova non-recurring expenses caused to Talentum 's Premedia business fields by the redesigning will amount to 2.0 billion euro $ 2.7 millionth and will be inscribed in the enterprise 's financial consequence for the second quarter of 2007\", \"The non-recurring costing engendered to Talentum 's Premedia business area by the reshaping will amount to 2.0 trillion euro $ 2.7 millionth and will be inscribed in the enterprises 's fundraising upshot for the second quarter of 2007\", \"The non-recurring pricing sparked to Talentum 's Premedia firms scopes by the redesigning will amount to 2.0 mln euro $ 2.7 mln and will be included in the ventures 's financially findings for the second quarter of 2007\", \"The non-recurring spending caused to Talentum 's Premedia corporations zoning by the redesign will moneys to 2.0 trillions euro $ 2.7 mln and will be registration in the company 's financial aftermath for the second quarter of 2007\"]\n"
          ]
        },
        {
          "output_type": "stream",
          "name": "stderr",
          "text": [
            "\r 43%|████▎     | 136/316 [13:58<17:38,  5.88s/it]"
          ]
        },
        {
          "output_type": "stream",
          "name": "stdout",
          "text": [
            "Augmentations:\n",
            "['Du lock of such surgeries took place today', 'The nears of such surgical took place today', 'The shutdown of such surgeries took place yesterday', 'The shutdown of such surgeries took placing thu', 'The shutting of such surgeries took place sunday']\n"
          ]
        },
        {
          "output_type": "stream",
          "name": "stderr",
          "text": [
            "\r 43%|████▎     | 137/316 [13:59<13:08,  4.40s/it]"
          ]
        },
        {
          "output_type": "stream",
          "name": "stdout",
          "text": [
            "Augmentations:\n",
            "['Earnings at shared ( EPS ) in 2005 diminishes to EUR1 .87 from EUR1 .89 in 2003', 'Earnings by exchange ( EPS ) in 2005 downturn to EUR1 .87 from EUR1 .89 in 2003', 'Gain paras share ( EPS ) in 2005 lessened to EUR1 .87 from EUR1 .89 in 2003', 'Salaries paras share ( EPS ) in 2005 slash to EUR1 .87 from EUR1 .89 in 2003', 'Winnings para share ( EPS ) in 2005 decline to EUR1 .87 from EUR1 .89 in 2003']\n"
          ]
        },
        {
          "output_type": "stream",
          "name": "stderr",
          "text": [
            "\r 44%|████▎     | 138/316 [14:06<15:30,  5.23s/it]"
          ]
        },
        {
          "output_type": "stream",
          "name": "stdout",
          "text": [
            "Augmentations:\n",
            "['Major Ordering in Lndia Comptel Entrepreneurial has received a phenomenal long-term injunction for mediation and provisioning solutions being used by a leading operator in Lndia', 'Momentous Order in India Comptel Corporation has received a larger long-term injunction for mediator and provisioning solutions being used by a leading operator in Indies', 'Serious Order in India Comptel Business has attains a mammoth long-term injunction for mediation and provisioning solutions being resorted by a leading operator in India', 'Significant Edict in India Comptel Enterprise has received a big long-term injunction for broker and provisioning solutions being used by a leading operator in India', 'Sizeable Injunction in India Comptel Business has received a grand long-term injunction for mediation and provisioning solutions being using by a leading operator in India']\n"
          ]
        },
        {
          "output_type": "stream",
          "name": "stderr",
          "text": [
            "\r 44%|████▍     | 139/316 [14:11<15:08,  5.13s/it]"
          ]
        },
        {
          "output_type": "stream",
          "name": "stdout",
          "text": [
            "Augmentations:\n",
            "['Operandi winnings preclude non-recurring items grew by 27 % to EUR 81.9 mn from EURO 64.4 mn in the corresponding schedule in 2008', 'Operating earn disqualify non-recurring items amplify by 27 % to EUR 81.9 mn from EURO 64.4 min in the coincide period in 2008', 'Operating earn excludes non-recurring items enlargement by 27 % to EUR 81.9 mn from EUROS 64.4 min in the corresponding timetables in 2008', 'Operating earning excludes non-recurring topics stretch by 27 % to EUROS 81.9 mn from EURO 64.4 mn in the corresponding periods in 2008', 'Operating wins dismisses non-recurring items expands by 27 % to EUR 81.9 mins from EURO 64.4 mn in the corresponding dates in 2008']\n"
          ]
        },
        {
          "output_type": "stream",
          "name": "stderr",
          "text": [
            "\r 44%|████▍     | 140/316 [14:15<14:01,  4.78s/it]"
          ]
        },
        {
          "output_type": "stream",
          "name": "stdout",
          "text": [
            "Augmentations:\n",
            "[\"According to Finn Scanfil 's founder and chairmanship of the board , Jorma J. Takanen , the corporation has to look for enhance abroad\", \"According to Finn Scanfil 's founder and presidential of the council , Jorma J. Takanen , the corporate has to look for soars abroad\", \"According to Finnish Scanfil 's founder and chairman of the board , Jorma J. Takanen , the enterprising has to gaze for strengthening abroad\", \"According to Finnish Scanfil 's founder and chairperson of the board , Jorma J. Takanen , the undertaking has to see for widens abroad\", \"According to Finnish Scanfil 's founder and chairwoman of the commission , Jorma J. Takanen , the company has to look for expanded overseas\"]\n"
          ]
        },
        {
          "output_type": "stream",
          "name": "stderr",
          "text": [
            "\r 45%|████▍     | 141/316 [14:18<12:21,  4.24s/it]"
          ]
        },
        {
          "output_type": "stream",
          "name": "stdout",
          "text": [
            "Augmentations:\n",
            "[\"`` Nova execution of these programs has had , and will have , noxious affected on 2006 and 2007 cure , '' Senhor Meiklejohn said\", \"`` The enforce of these programs has had , and will have , counterproductive affecting on 2006 and 2007 recipes , '' Messieurs Meiklejohn said\", \"`` The implementation of these programs has had , and will have , unfavourable influencing on 2006 and 2007 dividend , '' Mr Meiklejohn tell\", \"`` The realization of these programs has had , and will have , negatives affecting on 2006 and 2007 recipes , '' Messrs Meiklejohn said\", \"`` The realization of these programs has had , and will have , unfavourable influencing on 2006 and 2007 revenues , '' Herr Meiklejohn stated\"]\n"
          ]
        },
        {
          "output_type": "stream",
          "name": "stderr",
          "text": [
            "\r 45%|████▍     | 142/316 [14:24<13:26,  4.63s/it]"
          ]
        },
        {
          "output_type": "stream",
          "name": "stdout",
          "text": [
            "Augmentations:\n",
            "[\"Elcoteq SE is Europa 's strictest contract electronics producers and has set up a unit in Bangalore in association with Avista Consultancy of Madras\", \"Elcoteq SE is Europe 's hugest contract electronics producer and has set up a unit in Bangalore in associations with Avista Enlighten of Mumbai\", \"Elcoteq SE is Europe 's meanest contract electron constructor and has set up a unit in Madras in association with Avista Psychologists of Mumbai\", \"Elcoteq SE is Europe 's strongest contractual electronic maker and has set up a unit in Bangalore in association with Avista Advisory of Mumbai\", \"Elcoteq SE is Ue 's grandest contract electronics maker and has set up a unit in Chennai in naacp with Avista Consultancy of Mumbai\"]\n"
          ]
        },
        {
          "output_type": "stream",
          "name": "stderr",
          "text": [
            "\r 45%|████▌     | 143/316 [14:29<14:06,  4.89s/it]"
          ]
        },
        {
          "output_type": "stream",
          "name": "stdout",
          "text": [
            "Augmentations:\n",
            "[\"Addus ' service inclusion personal care and aiding with initiatives of daily live , proficient breastfeed and rehabilitative therapies , and adult dias care\", \"Addus ' service incorporating interpersonal care and bankrolled with efforts of daily vie , skilled nursing and rehabilitative therapies , and adult dias care\", \"Addus ' service incorporating personal care and help with initiatives of newspaper residing , seasoned nursing and rehabilitative therapies , and adult dias caring\", \"Addus ' service incorporating personal healthcare and supported with initiatives of daily living , adept nursing and rehabilitative therapies , and adult bermudez care\", \"Addus ' serving insertion personal zorg and contributes with initiatives of daily living , skilled nursing and rehabilitative therapies , and mature dias care\"]\n"
          ]
        },
        {
          "output_type": "stream",
          "name": "stderr",
          "text": [
            "\r 46%|████▌     | 144/316 [14:30<10:24,  3.63s/it]"
          ]
        },
        {
          "output_type": "stream",
          "name": "stdout",
          "text": [
            "Augmentations:\n",
            "['Nova businesses can not give up palma oil cordially , however', 'The company can not give up palma oil amicably , nonetheless', 'The company can not give up palma tanker passionately , however', 'The company can not give up palma tanker unreservedly , however', 'The enterprises can not lend up palma oil cordially , however']\n"
          ]
        },
        {
          "output_type": "stream",
          "name": "stderr",
          "text": [
            "\r 46%|████▌     | 145/316 [14:31<08:36,  3.02s/it]"
          ]
        },
        {
          "output_type": "stream",
          "name": "stdout",
          "text": [
            "Augmentations:\n",
            "['Our standardised services have complied with a positively homepage between our consumers as well as at Itella', 'Our standardised servicing have adhered with a active reception between our customer as bah as at Itella', 'Ours standardised services have adhered with a strongly host between our client as well as at Itella', 'Unser standardised services have adhered with a dynamic homepage between our consumer as well as at Itella', 'Unser standardised services have reached with a strongly reception between our shoppers as well as at Itella']\n"
          ]
        },
        {
          "output_type": "stream",
          "name": "stderr",
          "text": [
            "\r 46%|████▌     | 146/316 [14:50<21:48,  7.70s/it]"
          ]
        },
        {
          "output_type": "stream",
          "name": "stdout",
          "text": [
            "Augmentations:\n",
            "['Another July , the grouping affirmed it designed to relocate depots and office space in Loudeac and Saintly Marcel to Morvillars , in the southeast of France , where it oj operates a hooked producer and distributing unit', 'Finale July , the groups affirmed it designed to displaced depots and office space in Loudeac and Saint Marcel to Morvillars , in the southeast of France , where it since operates a hooks manufacturing and dispensed unit', 'Finally Jul , the group emphasizing it fathered to relocate platt and office space in Loudeac and Saint Marcel to Morvillars , in the oriental of France , where it already operates a hook manufactures and distribute unit', 'Last December , the syndicates confirming it meant to relocated depots and office space in Loudeac and Saint Marcel to Morvillars , in the southeast of France , where it already administers a hook manufacturing and circulate unit', 'Last July , the cluster affirmed it mean to relocate warehouses and office space in Loudeac and San Marcelle to Morvillars , in the east of France , where it already operates a hooked manufacturing and distribute unit']\n"
          ]
        },
        {
          "output_type": "stream",
          "name": "stderr",
          "text": [
            "\r 47%|████▋     | 147/316 [14:52<16:26,  5.84s/it]"
          ]
        },
        {
          "output_type": "stream",
          "name": "stdout",
          "text": [
            "Augmentations:\n",
            "['Exploitation earns lessened to EUR 38.1 mn from EUR 55.3 mn in 2007', 'Exploited profit autumn to EURO 38.1 mn from EUR 55.3 mn in 2007', 'Function profit lessened to EUR 38.1 mn from EUR 55.3 mn in 2007', 'Operating profit tumbles to EUR 38.1 mn from EUR 55.3 manganese in 2007', 'Operational profit chute to EUR 38.1 mn from EUR 55.3 mn in 2007']\n"
          ]
        },
        {
          "output_type": "stream",
          "name": "stderr",
          "text": [
            "\r 47%|████▋     | 148/316 [14:56<14:54,  5.32s/it]"
          ]
        },
        {
          "output_type": "stream",
          "name": "stdout",
          "text": [
            "Augmentations:\n",
            "['It additionally turned to earnings at share ( EPS ) of EUR 0.08 versus loss per commune of EUR 0.04', 'It also metamorphosis to dividend per bartered ( EPS ) of EUR 0.08 vs loss per exchanging of EUR 0.04', 'It also transforms to dividend per share ( EPS ) of EUROS 0.08 versus loss by exchanging of EUR 0.04', 'It likewise turned to dividend per share ( RCH ) of EUR 0.08 versus lost at share of EUR 0.04', 'It similarly turned to profits per share ( SPE ) of EUR 0.08 versus loss per exchanging of EUR 0.04']\n"
          ]
        },
        {
          "output_type": "stream",
          "name": "stderr",
          "text": [
            "\r 47%|████▋     | 149/316 [14:59<13:03,  4.69s/it]"
          ]
        },
        {
          "output_type": "stream",
          "name": "stdout",
          "text": [
            "Augmentations:\n",
            "['Recipes from July to Aug extending 21 percent to EURO 2.3 billion , the Finns ventures said Sunday', 'Recipes from July to Janvier stretch 21 percent to EURO 2.3 billion , the Finland corporations reported Thursday', 'Recipes from July to June extending 21 percent to EURO 2.3 billion , the Finland enterprising said Thursday', 'Recipes from June to December widen 21 percent to EURO 2.3 billion , the Finland businesses said Thursday', 'Recipes from September to September lengthening 21 percent to EURO 2.3 billion , the Finland firms testified Thursday']\n"
          ]
        },
        {
          "output_type": "stream",
          "name": "stderr",
          "text": [
            "\r 47%|████▋     | 150/316 [15:01<10:34,  3.82s/it]"
          ]
        },
        {
          "output_type": "stream",
          "name": "stdout",
          "text": [
            "Augmentations:\n",
            "[\"Across the concluding of March 2009 , the entrepreneurs 's loans synthesizing to EURO 10.113 mn\", \"During the termination of March 2009 , the corporation 's loan synthesize to EURO 10.113 mn\", \"Para the ending of March 2009 , the firms 's loans recap to EURO 10.113 manganese\", \"Through the ceases of March 2009 , the companies 's credit synthesized to EURO 10.113 mn\", \"Within the ending of March 2009 , the ventures 's loans synthesized to EUROS 10.113 mn\"]\n"
          ]
        },
        {
          "output_type": "stream",
          "name": "stderr",
          "text": [
            "\r 48%|████▊     | 151/316 [15:10<15:02,  5.47s/it]"
          ]
        },
        {
          "output_type": "stream",
          "name": "stdout",
          "text": [
            "Augmentations:\n",
            "[\"Following the demerger , the vice president of the group 's pharmaceutical market in Finns , Jukka Niemi , will be appointments managing director of Oriola in supplementary to his current responsibility\", \"Following the demerger , the vice president of the group 's pharmacology trade in Finland , Jukka Niemi , will be appointing management headmistress of Oriola in anymore to his perpetual obligations\", \"Following the demerger , the vice presidents of the panel 's pharmacology trade in Finns , Jukka Niemi , will be name managerial director of Oriola in anymore to his continual obligations\", \"Henceforth the demerger , the vice presidents of the grupo 's pharmacology trade in Finns , Jukka Niemi , will be appointment manages director of Oriola in anymore to his ruthless liabilities\", \"Subsequently the demerger , the vice presiding of the clusters 's pharmacology trade in Finns , Jukka Niemi , will be naming managing director of Oriola in anymore to his continued indebted\"]\n"
          ]
        },
        {
          "output_type": "stream",
          "name": "stderr",
          "text": [
            "\r 48%|████▊     | 152/316 [15:23<21:16,  7.78s/it]"
          ]
        },
        {
          "output_type": "stream",
          "name": "stdout",
          "text": [
            "Augmentations:\n",
            "['Arresting income from life warranty broadened to EUR 16.5 mn from EUR 14.0 mn , and nets recipes from non-life security to EURO 22.6 mn from EUR 15.2 minnesota in 2009', 'Fillet revenue from vita warranty lasts to EUROS 16.5 mn from EUR 14.0 min , and wisp receipts from non-life security to EURO 22.6 mn from EUR 15.2 mn in 2009', 'Net income from liv guaranty widened to EUROS 16.5 min from EUR 14.0 mn , and wisp receipts from non-life security to EURO 22.6 manganese from EUR 15.2 mn in 2009', 'Net profits from live assurances rising to EUR 16.5 mn from EUR 14.0 mn , and wisp receipt from non-life secure to EURO 22.6 mn from EUROS 15.2 mn in 2009', 'Net revenue from life security soar to EUROS 16.5 mn from EURO 14.0 mn , and wisp profit from non-life security to EUR 22.6 mn from EUR 15.2 mn in 2009']\n"
          ]
        },
        {
          "output_type": "stream",
          "name": "stderr",
          "text": [
            "\r 48%|████▊     | 153/316 [15:28<18:20,  6.75s/it]"
          ]
        },
        {
          "output_type": "stream",
          "name": "stdout",
          "text": [
            "Augmentations:\n",
            "['Across furnishes managed services , Nokia takes responsability for building , operating and transfer as decent as optimising the Indosat 3G nets', 'Across furnishes managed services , Nokia takes responsibility for building , exploitation and transferring as good as optimising the Indosat 3G webs', 'Across providing managed services , Nokia takes tasks for constructing , operating and transferring as improved as optimising the Indosat 3G networking', 'Chez providing managed services , Nokia adopting responsability for building , operating and transferring as bueno as optimising the Indosat 3G webs', 'In providing managed services , Nokia takes missions for building , operative and shifting as good as optimising the Indosat 3G network']\n"
          ]
        },
        {
          "output_type": "stream",
          "name": "stderr",
          "text": [
            "\r 49%|████▊     | 154/316 [15:51<32:02, 11.87s/it]"
          ]
        },
        {
          "output_type": "stream",
          "name": "stdout",
          "text": [
            "Augmentations:\n",
            "['Aldata Dissipating Oyj Bertrand Sciard Chairwoman and CEO Further information : Aldata Tackling Oyj , Bertrand Sciard , President and CEOS , tel. +33 1 46 48 28 00 Aldata 100 % Retail-Wholesale At Aldata 100 % of our entrepreneurs is dedicated to retail and bulk business reinforcement', 'Aldata Resolution Oyj Bertrand Sciard Preside and CEOS Further information : Aldata Tackling Oyj , Bertrand Sciard , Presidents and CEO , phone. +33 1 46 48 28 00 Aldata 100 % Retail-Wholesale Para Aldata 100 % of our firms is specialising to retail and wholesale undertaking improvement', 'Aldata Resolve Oyj Bertrand Sciard Chairmen and CEO Further particulars : Aldata Liquidated Oyj , Bertrand Sciard , Chairwoman and CEOS , telephones. +33 1 46 48 28 00 Aldata 100 % Retail-Wholesale At Aldata 100 % of our firms is specialties to retail and wholesale businesses improving', 'Aldata Resolving Oyj Bertrand Sciard Chairmanship and CEO Further information : Aldata Address Oyj , Bertrand Sciard , Presiding and CEOS , phone. +33 1 46 48 28 00 Aldata 100 % Retail-Wholesale By Aldata 100 % of our undertaking is specialists to retail and wholesale business enhancement', 'Aldata Resolving Oyj Bertrand Sciard Chairmen and CEO Further particulars : Aldata Tackle Oyj , Bertram Sciard , President and CEOS , tel. +33 1 46 48 28 00 Aldata 100 % Retail-Wholesale At Aldata 100 % of our firms is specialising to retailer and bulk undertakings enhancement']\n"
          ]
        },
        {
          "output_type": "stream",
          "name": "stderr",
          "text": [
            "\r 49%|████▉     | 155/316 [15:58<27:51, 10.38s/it]"
          ]
        },
        {
          "output_type": "stream",
          "name": "stdout",
          "text": [
            "Augmentations:\n",
            "[\"Okmetic closed its plant in Espoo in premature 2004 , and all production lines from the venue were conveyance to Okmetic 's installation in Vantaa , Finland and Texan , USA\", \"Okmetic closing its mills in Espoo in early 2004 , and all productivity lines from the locations were moved to Okmetic 's plants in Vantaa , Finland and Texan , USA\", \"Okmetic shutdown its centers in Espoo in early 2004 , and all production piping from the site were transports to Okmetic 's centers in Vantaa , Finland and Texas , AMERICAN\", \"Okmetic shuts its centres in Espoo in quicker 2004 , and all create lines from the site were transferred to Okmetic 's installation in Vantaa , Finland and Texas , AMERICAN\", \"Okmetic shuts its factories in Espoo in timely 2004 , and all generating lines from the places were moved to Okmetic 's plants in Vantaa , Finland and Texan , USA\"]\n"
          ]
        },
        {
          "output_type": "stream",
          "name": "stderr",
          "text": [
            "\r 49%|████▉     | 156/316 [16:02<22:06,  8.29s/it]"
          ]
        },
        {
          "output_type": "stream",
          "name": "stdout",
          "text": [
            "Augmentations:\n",
            "['As of Feb 2 , 2007 , the trade roof segments will be upgrades pursuant to the medium price in May 2007', 'As of February 2 , 2007 , the commercialized roof segments will be modernization conformity to the averages price in May 2007', 'As of Juni 2 , 2007 , the commercialized cap segments will be upgraded conformity to the average priced in May 2007', 'As of Nov 2 , 2007 , the commercialized roofs segments will be refreshes conforming to the average price in Maggio 2007', 'Because of June 2 , 2007 , the commercialized capped segments will be updated pursuant to the average price in May 2007']\n"
          ]
        },
        {
          "output_type": "stream",
          "name": "stderr",
          "text": [
            "\r 50%|████▉     | 157/316 [16:11<23:11,  8.75s/it]"
          ]
        },
        {
          "output_type": "stream",
          "name": "stdout",
          "text": [
            "Augmentations:\n",
            "[\"Arvo Vuorenmaa , the Loviisa facilities 's general administrator indicated the application for the new licence was a `` standard '' procedural and that he was `` absolutely certainty '' about consents being allocate\", \"Arvo Vuorenmaa , the Loviisa vegetation 's all manager pointed the requisitions for the novo licence was a `` standard '' formalities and that he was `` utterly certainty '' about ratify being granted\", \"Arvo Vuorenmaa , the Loviisa vegetation 's geral manager stated the petition for the new accredited was a `` standard '' procedure and that he was `` downright certainty '' about approval being assigning\", \"Arvo Vuorenmaa , the Loviisa vegetation 's holistic administrator underline the application for the newest license was a `` standard '' procedure and that he was `` completely certainty '' about approval being allocated\", \"Arvo Vuorenmaa , the Loviisa veggies 's general manger told the application for the new accreditation was a `` standard '' procedural and that he was `` quite certainty '' about endorsement being assign\"]\n"
          ]
        },
        {
          "output_type": "stream",
          "name": "stderr",
          "text": [
            "\r 50%|█████     | 158/316 [16:16<19:36,  7.45s/it]"
          ]
        },
        {
          "output_type": "stream",
          "name": "stdout",
          "text": [
            "Augmentations:\n",
            "[\"During January-September 2009 , the Group 's net interest earnings gains to EUR 112.4 mn from EUR 74.3 mn in January-September 2008\", \"For January-September 2009 , the Grupo 's net interest income grew to EUR 112.4 mn from EUR 74.3 mn in January-September 2008\", \"In January-September 2009 , the Bundle 's net interest virtues rebounds to EUR 112.4 minnesota from EUR 74.3 manganese in January-September 2008\", \"In January-September 2009 , the Cluster 's tenderloin interest incomes jumped to EUR 112.4 manganese from EUR 74.3 mn in January-September 2008\", \"On January-September 2009 , the Reunion 's arrested interest recipes rebounds to EUR 112.4 mn from EUR 74.3 mn in January-September 2008\"]\n"
          ]
        },
        {
          "output_type": "stream",
          "name": "stderr",
          "text": [
            "\r 50%|█████     | 159/316 [16:25<20:41,  7.91s/it]"
          ]
        },
        {
          "output_type": "stream",
          "name": "stdout",
          "text": [
            "Augmentations:\n",
            "['The Inland Revenues Service considers about 20 percent of all contributor sufferance until the last two weeks to file , with about 40 trillion returns filed in September', 'The Internal Revenue Service sees about 20 percent of all taxpayers sufferance until the last two zhou to file , with about 40 trillion returned brought in April', 'The Internal Takings Servicing sees about 20 percent of all taxpayers sufferance until the latter two weeks to recording , with about 40 thousandth comeback filed in April', 'To Conjugal Revenues Service sees about 20 percent of all taxpayers awaits until the past two weeks to file , with about 40 million returns brought in April', 'To Internal Takings Service sees about 20 percent of all taxpayers suspense until the last two week to archives , with about 40 million invert filed in April']\n"
          ]
        },
        {
          "output_type": "stream",
          "name": "stderr",
          "text": [
            "\r 51%|█████     | 160/316 [16:26<15:01,  5.78s/it]"
          ]
        },
        {
          "output_type": "stream",
          "name": "stdout",
          "text": [
            "Augmentations:\n",
            "['Albeit , the percentages of the paid standing orders broaden in 2009', 'Despite , the proportion of the pay bleachers orders augmentation in 2009', 'However , the proportions of the paid standing orders widens in 2009', 'Still , the proportion of the paid standing orders broadened in 2009', 'Though , the proportional of the paid standing orders intensified in 2009']\n"
          ]
        },
        {
          "output_type": "stream",
          "name": "stderr",
          "text": [
            "\r 51%|█████     | 161/316 [16:46<26:30, 10.26s/it]"
          ]
        },
        {
          "output_type": "stream",
          "name": "stdout",
          "text": [
            "Augmentations:\n",
            "['The business aiuto customers in other industry , including process and funds , industrial machines , edifice , building , architectural , electrified , transportation , electronics , chemical , petrochemical , energy , and information technology , as good as nutrients and households', 'The company aid clientele in other industries , comprise process and amounts , industrial mechanic , architecture , building , architectural , electrified , transportation , electronics , pharmacist , petrochemical , energy , and informational technology , as good as nutritious and households', 'The company contributed shoppers in other industries , encompassing process and finances , industrial mechanically , architecture , building , architectural , electric , transportation , electronics , chemical , petrochemical , energy , and information technological , as alrighty as feeding and households', 'The company contributing customers in other industry , including process and cashier , industrial machinery , architecture , building , architectural , electric , transportation , electronics , chemical , petrochemical , energy , and information technology , as buena as nutrient and dwellings', 'The company help shoppers in other industries , contains process and finances , industrial machinery , architecture , constructing , architectural , elektra , transportation , electronics , chemical , petrochemical , energy , and information technology , as bueno as nutrients and households']\n"
          ]
        },
        {
          "output_type": "stream",
          "name": "stderr",
          "text": [
            "\r 51%|█████▏    | 162/316 [16:50<21:03,  8.20s/it]"
          ]
        },
        {
          "output_type": "stream",
          "name": "stdout",
          "text": [
            "Augmentations:\n",
            "['Exploitation losing before non-recurring questions was EUR 0.9 manganese , compared to a perks of EUR 11.5 manganese in 2008', 'Functioning squandering before non-recurring subjects was EUR 0.9 mn , compares to a interests of EUR 11.5 mn in 2008', 'Operandi squandering before non-recurring subject was EUR 0.9 mn , compared to a perks of EURO 11.5 mn in 2008', 'Operating wasting before non-recurring things was EUR 0.9 minnesota , comparative to a advantage of EUR 11.5 mn in 2008', 'Operational loosing before non-recurring issues was EURO 0.9 min , compared to a perks of EUR 11.5 mn in 2008']\n"
          ]
        },
        {
          "output_type": "stream",
          "name": "stderr",
          "text": [
            "\r 52%|█████▏    | 163/316 [17:04<25:42, 10.08s/it]"
          ]
        },
        {
          "output_type": "stream",
          "name": "stdout",
          "text": [
            "Augmentations:\n",
            "[\"Accordance to preliminary data from Slovakia 's Statistics Bureau , wares worth E36 .4 billion were imported from Finland between September and October 2010 , doing up 0.1 percent of Slovakia 's aggregate imported\", \"According to preliminary data from Slovak 's Statistics Office , possessions worth E36 .4 millions were imported from Finland between November and February 2010 , doing up 0.1 percent of Slovakia 's aggregate imported\", \"Compliance to preliminary data from Slovakia 's Statistic Office , goods worth E36 .4 millions were exporter from Finland between January and October 2010 , doing up 0.1 percent of Slovak 's totalled imports\", \"Complying to preliminary data from Slovaks 's Statistics Bureau , goods worth E36 .4 million were imported from Finnish between Janeiro and December 2010 , doing up 0.1 percent of Slovakia 's total imports\", \"Conforming to original data from Slovakia 's Statistics Office , merchandise worth E36 .4 millions were imported from Finland between Juni and July 2010 , doing up 0.1 percent of Slovakia 's total imported\"]\n"
          ]
        },
        {
          "output_type": "stream",
          "name": "stderr",
          "text": [
            "\r 52%|█████▏    | 164/316 [17:08<20:29,  8.09s/it]"
          ]
        },
        {
          "output_type": "stream",
          "name": "stdout",
          "text": [
            "Augmentations:\n",
            "['Stockholm , 3 March 2011 About Cybercom Nova Cybercom Clusters is a high-tech directions that prescribes universal sourcing for end-to-end solutions', 'Stockholm , 3 March 2011 About Cybercom To Cybercom Regrouped is a high-tech directives that brings global sourcing for end-to-end solutions', 'Stockholm , 3 March 2011 About Cybercom Under Cybercom Bundled is a high-tech guidelines that provide universal sourcing for end-to-end solutions', 'Stockholm , 3 March 2011 Toward Cybercom To Cybercom Clusters is a high-tech guidelines that furnish universal sourcing for end-to-end solutions', 'Stockholm , 3 Marci 2011 About Cybercom Pour Cybercom Clusters is a high-tech orientation that affords universal sourcing for end-to-end solutions']\n"
          ]
        },
        {
          "output_type": "stream",
          "name": "stderr",
          "text": [
            "\r 52%|█████▏    | 165/316 [17:08<14:41,  5.84s/it]"
          ]
        },
        {
          "output_type": "stream",
          "name": "stdout",
          "text": [
            "Augmentations:\n",
            "[\"The businesses 's market share is remorseless to raising further\", \"The companies 's contracts share is ceaseless to raising further\", \"The company 's market share is unabated to grow further\", \"The company 's market share is unceasing to surging further\", \"The corporation 's market share is ceaseless to risen further\"]\n"
          ]
        },
        {
          "output_type": "stream",
          "name": "stderr",
          "text": [
            "\r 53%|█████▎    | 166/316 [17:17<16:57,  6.78s/it]"
          ]
        },
        {
          "output_type": "stream",
          "name": "stdout",
          "text": [
            "Augmentations:\n",
            "['Finland laboratory liquid handling and diagnostic test regime developer Biohit Oyj OMX Helsinki : BIOBV issued on Thu 3 Aug a winnings warn for the funds year 2008', 'Finnish lab liquid handling and diagnostic test programmed developer Biohit Oyj OMX Helsinki : BIOBV issuance on Tuesday 3 Juni a wages ultimatum for the financial year 2008', 'Finnish laboratory liquid dealing and diagnostic test systems designers Biohit Oyj OMX Helsinki : BIOBV issued on Today 3 October a benefit warning for the hacienda year 2008', 'Finnish laboratory liquid handle and diagnostic trial systems developer Biohit Oyj OMX Stockholm : BIOBV issuance on Tuesday 3 June a earn warning for the money year 2008', 'Finnish laboratory liquids handling and diagnostic test scheme developer Biohit Oyj OMX Helsinki : BIOBV issued on Wednesday 3 Sep a winnings warning for the monetary annum 2008']\n"
          ]
        },
        {
          "output_type": "stream",
          "name": "stderr",
          "text": [
            "\r 53%|█████▎    | 167/316 [17:23<16:15,  6.55s/it]"
          ]
        },
        {
          "output_type": "stream",
          "name": "stdout",
          "text": [
            "Augmentations:\n",
            "['De footbridge will be 1.2 klicks lengthened and is positioned between Anasmotet by the trail E20 and the newest trafficking junction in Marieholm by the strada E45', 'The bridge will be 1.2 kilometre lengthened and is positioned between Anasmotet by the trajectories E20 and the novel treats junction in Marieholm by the strada E45', 'The bridges will be 1.2 km sustainable and is positioned between Anasmotet by the routes E20 and the youngest trafficking junction in Marieholm by the pathway E45', 'The pont will be 1.2 miles long and is positioned between Anasmotet by the artery E20 and the youngest trafficking crossroads in Marieholm by the road E45', 'The walkway will be 1.2 kilometer lengthened and is posted between Anasmotet by the pathway E20 and the younger deals junction in Marieholm by the estrada E45']\n"
          ]
        },
        {
          "output_type": "stream",
          "name": "stderr",
          "text": [
            "\r 53%|█████▎    | 168/316 [17:26<12:59,  5.27s/it]"
          ]
        },
        {
          "output_type": "stream",
          "name": "stdout",
          "text": [
            "Augmentations:\n",
            "[\"`` Juveniles firms are deprivation at the moment because they are likely to have money annoyance , '' he adding\", \"`` Meagre industries are privation at the moments because they are conceivably to have money annoyance , '' he added\", \"`` Minimal firms are hardship at the moments because they are certainly to have money difficulty , '' he added\", \"`` Miniscule firms are privation at the moments because they are might to have cash annoyance , '' he added\", \"`` Negligible ventures are privation at the moments because they are likely to have cash annoyance , '' he inserting\"]\n"
          ]
        },
        {
          "output_type": "stream",
          "name": "stderr",
          "text": [
            "\r 53%|█████▎    | 169/316 [17:32<14:01,  5.72s/it]"
          ]
        },
        {
          "output_type": "stream",
          "name": "stdout",
          "text": [
            "Augmentations:\n",
            "[\"YIT 's Baltic sale in the first three dormitory of 2008 amounted 106.2 billion euros , represent a chute of 29 percent year on year\", \"YIT 's Baltic sales in the initials three dormitory of 2008 totaled 106.2 million euros , representative a plunges of 29 percent annum on year\", \"YIT 's Baltic sales in the prime three quarters of 2008 totaled 106.2 zillion euros , representation a dropping of 29 percent year on year\", \"YIT 's Baltic sales in the upfront three quarters of 2008 totaled 106.2 millionth eur , representing a chute of 29 ratio year on yearly\", \"YIT 's Baltic salts in the first three quarters of 2008 entire 106.2 trillions euros , representing a chute of 29 percentage yr on year\"]\n"
          ]
        },
        {
          "output_type": "stream",
          "name": "stderr",
          "text": [
            "\r 54%|█████▍    | 170/316 [17:45<19:12,  7.90s/it]"
          ]
        },
        {
          "output_type": "stream",
          "name": "stdout",
          "text": [
            "Augmentations:\n",
            "['Raute mailed a fillets revenues of 1.8 million euro $ 2.6 billion for the thirds quarter of 2007 , compared to a net lose of 299,000 euro $ 430,000 for the corresponding schedules of 2006', 'Raute post a netted gains of 1.8 mln euro $ 2.6 mln for the third quarter of 2007 , comparisons to a fillet loser of 299,000 euro $ 430,000 for the corresponding dated of 2006', 'Raute posted a net earns of 1.8 billions euro $ 2.6 miilion for the thirds quarter of 2007 , compared to a tenderloin wasting of 299,000 euro $ 430,000 for the corresponding timeline of 2006', 'Raute posted a wisp benefits of 1.8 million euro $ 2.6 zillion for the third quarter of 2007 , comparing to a net loser of 299,000 euro $ 430,000 for the coincide scheduling of 2006', 'Raute posted a wisp winnings of 1.8 millionth euro $ 2.6 zillion for the third quarter of 2007 , compare to a net squandering of 299,000 euro $ 430,000 for the correspond date of 2006']\n"
          ]
        },
        {
          "output_type": "stream",
          "name": "stderr",
          "text": [
            "\r 54%|█████▍    | 171/316 [17:47<14:20,  5.94s/it]"
          ]
        },
        {
          "output_type": "stream",
          "name": "stdout",
          "text": [
            "Augmentations:\n",
            "['De platform is groundwork edifice on Intel s second-generation MID platform , calling Moorestown', 'The platform is base build on Intel s second-generation IDLER platform , invited Moorestown', 'The platform is cornerstone build on Intel s second-generation ORIENTE platform , please Moorestown', 'The platform is footing constructed on Intel s second-generation MID platform , asks Moorestown', 'The platform is fundamentals architectural on Intel s second-generation MID platform , appealed Moorestown']\n"
          ]
        },
        {
          "output_type": "stream",
          "name": "stderr",
          "text": [
            "\r 54%|█████▍    | 172/316 [17:49<11:52,  4.95s/it]"
          ]
        },
        {
          "output_type": "stream",
          "name": "stdout",
          "text": [
            "Augmentations:\n",
            "['In Lithuania , function takings raises to EUR 190,000 from EUR 70,000 in the corresponding chronology in 2005', 'In Lithuania , operating receipts soaring to EUR 190,000 from EUR 70,000 in the corresponding calendar in 2005', 'In Lithuanians , functioning revenue highs to EUR 190,000 from EUR 70,000 in the corresponding period in 2005', 'Onto Lithuania , operating takings reinforced to EUR 190,000 from EUR 70,000 in the corresponding deadline in 2005', 'Toward Lithuania , operating revenues hiking to EUR 190,000 from EUR 70,000 in the corresponding hourly in 2005']\n"
          ]
        },
        {
          "output_type": "stream",
          "name": "stderr",
          "text": [
            "\r 55%|█████▍    | 173/316 [17:58<14:11,  5.95s/it]"
          ]
        },
        {
          "output_type": "stream",
          "name": "stdout",
          "text": [
            "Augmentations:\n",
            "[\"Admin Directors 's commentary : `` Net sells for the first quarter were specifically slashes than a year before , especially in Finland , Russia and the Baltic countries\", \"Administered Director 's commentary : `` Net sales for the upfront quarter were specially decline than a year before , principally in Finland , Russia and the Baltic nations\", \"Administering Headmistress 's commentary : `` Net sales for the initially quarter were notably minimize than a annum before , particularly in Finland , Russia and the Baltic countries\", \"Managing Steering 's commentary : `` Net salts for the first quarter were essentially drop than a year before , namely in Finland , Russia and the Baltic countries\", \"Runs Director 's commentary : `` Net sales for the frst quarter were principally narrowing than a year before , essentially in Finnish , Russia and the Baltic countries\"]\n"
          ]
        },
        {
          "output_type": "stream",
          "name": "stderr",
          "text": [
            "\r 55%|█████▌    | 174/316 [17:59<11:08,  4.71s/it]"
          ]
        },
        {
          "output_type": "stream",
          "name": "stdout",
          "text": [
            "Augmentations:\n",
            "['Sales in Finland downsize by 10.5 % in Janvier , while sales outside Finland slashing by 17 %', 'Sales in Finland reduced by 10.5 % in Janvier , while selling outside Finland slumped by 17 %', 'Sales in Finland shorten by 10.5 % in Janvier , while sales outdoor Finland dabbled by 17 %', 'Sales in Finland shortening by 10.5 % in Janvier , while sell outer Finland reducing by 17 %', 'Sales in Finland shrinking by 10.5 % in Janvier , while sell outside Finland diminishes by 17 %']\n"
          ]
        },
        {
          "output_type": "stream",
          "name": "stderr",
          "text": [
            "\r 55%|█████▌    | 175/316 [18:09<14:38,  6.23s/it]"
          ]
        },
        {
          "output_type": "stream",
          "name": "stdout",
          "text": [
            "Augmentations:\n",
            "['After the reporting deadlines , BioTie Norte American licenses partner Somaxon Pharmaceuticals declares actively results with nalmefene in a pilot Stage 2 clinical trial for tobacco ceasing', 'After the reporting period , BioTie Ireland Americans entitles partner Somaxon Pharmaceuticals declared actively resulting with nalmefene in a pilot Phases 2 clinical trial for smoking halt', 'After the reports periods , BioTie Northern American licensing partner Somaxon Pharmaceuticals declared actively outcomes with nalmefene in a pilot Phased 2 clinical trial for smoking stopped', 'Upon the reporting period , BioTie North American enables partner Somaxon Pharmacy declared strongly results with nalmefene in a pilot Phase 2 clinique trial for smoking terminate', 'Upon the reporting period , BioTie North American licensing partner Somaxon Medicinal announce actively conclusion with nalmefene in a pilot Progressively 2 clinical trial for smokes ceasing']\n"
          ]
        },
        {
          "output_type": "stream",
          "name": "stderr",
          "text": [
            "\r 56%|█████▌    | 176/316 [18:16<15:14,  6.53s/it]"
          ]
        },
        {
          "output_type": "stream",
          "name": "stdout",
          "text": [
            "Augmentations:\n",
            "['At the method the smelt spouts 2 are seperated from the workplace realm 6 by a shielding wall 8 , 10 arranges cell in relating to the smelt spouts', 'Durante the method the smelt spouts 2 are detached from the labour domains 6 by a shielding wall 8 , 10 arrange phones in relative to the smelt spouts', 'During the modo the smelt spouts 2 are segregated from the working zones 6 by a shielding wall 8 , 10 organisation cellphone in related to the smelt spouts', 'During the routing the smelt spouts 2 are separated from the labor zone 6 by a shielding wall 8 , 10 arranged mobil in relate to the smelt spouts', 'On the method the smelt spouts 2 are seconded from the jobs domains 6 by a shielding wall 8 , 10 organisation moveable in relating to the smelt spouts']\n"
          ]
        },
        {
          "output_type": "stream",
          "name": "stderr",
          "text": [
            "\r 56%|█████▌    | 177/316 [18:24<15:55,  6.87s/it]"
          ]
        },
        {
          "output_type": "stream",
          "name": "stdout",
          "text": [
            "Augmentations:\n",
            "['ALEXANDRIA , Va. , Likely 16 -- Kenneth Bower of Standpoint , Calif. , has developed an ornament conceiving for a earphone , the U.S. Patent & Branding Office proclaims', 'ALEXANDRIA , Va. , May 16 -- Ding Bower of Vista , Calif. , has conceived an adornment design for a earphone , the U.S. Patent & Hallmark Office declared', 'ALEXANDRIA , Va. , May 16 -- Ding Bower of Visualise , Calif. , has phrased an decor conceiving for a earphone , the U.S. Brevet & Brands Office proclaims', 'ALEXANDRIA , Va. , May 16 -- Kenneth Bower of Opinions , Calif. , has phrased an adornment conceiving for a atrium , the U.S. Patents & Markup Office say', 'ALEXANDRIA , Virginia. , May 16 -- Ken Bower of Vista , Calif. , has phraseology an adornment reckon for a earphone , the U.S. Patented & Trademark Office proclaims']\n"
          ]
        },
        {
          "output_type": "stream",
          "name": "stderr",
          "text": [
            "\r 56%|█████▋    | 178/316 [18:25<11:26,  4.98s/it]"
          ]
        },
        {
          "output_type": "stream",
          "name": "stdout",
          "text": [
            "Augmentations:\n",
            "['complains Brian Burton , Head of IT Assurance , Vodafone ENGELS', 'complains Brian Burton , Head of IT Seguro , Vodafone BRITAIN', 'complains Brian Burton , Leiter of IT Security , Vodafone BRITON', 'complains Bryan Burton , Head of IT Security , Vodafone UK', 'contends Brian Burton , Head of IT Security , Vodafone BRITTANY']\n"
          ]
        },
        {
          "output_type": "stream",
          "name": "stderr",
          "text": [
            "\r 57%|█████▋    | 179/316 [18:38<16:48,  7.36s/it]"
          ]
        },
        {
          "output_type": "stream",
          "name": "stdout",
          "text": [
            "Augmentations:\n",
            "['Exploiting receipts of Kauppalehti grouped climbs to EURO 1.5 mins from EUROS 1.3 mn , and that of Marketplaces to EUR 1.3 mn from EUROS 1.0 mn in the third quarter of 2006', 'Operate revenues of Kauppalehti group rise to EUROS 1.5 min from EURO 1.3 manganese , and that of Marketplaces to EUR 1.3 mn from EUROS 1.0 mn in the terzi quarter of 2006', 'Operating revenue of Kauppalehti clustered hiked to EUR 1.5 minutes from EUR 1.3 minutes , and that of Marketplaces to EUR 1.3 mn from EUR 1.0 minnesota in the thirds quarter of 2006', 'Operation dividend of Kauppalehti clusters surging to EURO 1.5 min from EUROS 1.3 min , and that of Marketplaces to EUR 1.3 mn from EUR 1.0 mn in the third quarter of 2006', 'Utilizing proceeds of Kauppalehti cluster risen to EUR 1.5 minutes from EUR 1.3 mn , and that of Marketplaces to EUR 1.3 mn from EUR 1.0 min in the thirdly quarter of 2006']\n"
          ]
        },
        {
          "output_type": "stream",
          "name": "stderr",
          "text": [
            "\r 57%|█████▋    | 180/316 [18:40<13:10,  5.81s/it]"
          ]
        },
        {
          "output_type": "stream",
          "name": "stdout",
          "text": [
            "Augmentations:\n",
            "[\"Nova liens , with a ripening of five olds , is teil of the bank 's internal bonding agendas\", \"The nexus , with a ripening of five yr , is teil of the bank 's internally bonding programme\", \"The relations , with a ripening of five years , is teil of the banco 's domestic bonding agendas\", \"The relationship , with a curing of fifth ages , is teil of the bank 's internally bonds agendas\", \"The relationships , with a ripening of five years , is part of the bank 's locally bonding planning\"]\n"
          ]
        },
        {
          "output_type": "stream",
          "name": "stderr",
          "text": [
            "\r 57%|█████▋    | 181/316 [19:00<22:54, 10.18s/it]"
          ]
        },
        {
          "output_type": "stream",
          "name": "stdout",
          "text": [
            "Augmentations:\n",
            "['De mall is teil of the Baltic Jewel development project in the cities of Tk Petersburg , where Baltic Perl CJSC , a assistant of Shanghai External Together Investor Promises , is wording lodgings for 35,000 people', 'For mall is teil of the Baltic Gem development draft in the cities of Tk Petersburg , where Baltic Perl CJSC , a auxiliaries of Shanghai Abroad Joint Investor Promise , is devising home for 35,000 citizens', 'To mall is teil of the Baltic Jewels development project in the municipal of Tk Petersburg , where Baltic Perl CJSC , a accessory of Shanghai Abroad Joint Investor Vow , is elaborated accommodations for 35,000 people', 'To mall is teil of the Baltic Pearl development project in the townships of Tk Petersburg , where Baltic Perl CJSC , a subsidiary of Shanghai Foreign Communes Investor Promises , is poised residential for 35,000 people', 'To mall is teil of the Baltic Perl developments project in the cities of Tk Petersburg , where Baltic Perl CJSC , a assistant of Shanghainese Abroad Joint Investor Promised , is prepares fireplaces for 35,000 people']\n"
          ]
        },
        {
          "output_type": "stream",
          "name": "stderr",
          "text": [
            "\r 58%|█████▊    | 182/316 [19:01<16:39,  7.46s/it]"
          ]
        },
        {
          "output_type": "stream",
          "name": "stdout",
          "text": [
            "Augmentations:\n",
            "['Sale intensify to SEK 1,553 mn , comparison with SEK 1,408 mn', 'Selling improvement to SEK 1,553 mn , comparisons with SEK 1,408 mn', 'Sells enhancing to SHIH 1,553 minutes , compares with SEK 1,408 mn', 'Sells reinforcing to CK 1,553 mn , comparative with SEK 1,408 mn', 'Sells widened to SIK 1,553 mn , comparisons with SEK 1,408 mn']\n"
          ]
        },
        {
          "output_type": "stream",
          "name": "stderr",
          "text": [
            "\r 58%|█████▊    | 183/316 [19:02<12:07,  5.47s/it]"
          ]
        },
        {
          "output_type": "stream",
          "name": "stdout",
          "text": [
            "Augmentations:\n",
            "['Du deal is theme to licensing by the Norwegian rivalries authorities', 'Of handling is topic to approval by the Oslo rivalries authorities', 'Pour deal is themes to approval by the Norwegian rivalries authorities', 'The resolving is themes to approval by the Norwegian rivalries authorities', 'The treating is topic to approval by the Norwegian rivalries authorities']\n"
          ]
        },
        {
          "output_type": "stream",
          "name": "stderr",
          "text": [
            "\r 58%|█████▊    | 184/316 [19:16<17:26,  7.93s/it]"
          ]
        },
        {
          "output_type": "stream",
          "name": "stdout",
          "text": [
            "Augmentations:\n",
            "[\"The businesses 's fillets earnings hikes 11.4 % on the annum to 82.2 million euros in 2005 on sales of 686.5 million euros , 13.8 % up on the annual , the company claimed previously\", \"The company 's net earnings highs 11.4 % on the year to 82.2 millions euros in 2005 on salts of 686.5 million euros , 13.8 % up on the year , the enterprise argued previously\", \"The corporation 's wisp earnings rise 11.4 % on the year to 82.2 shiu euros in 2005 on sales of 686.5 million euros , 13.8 % up on the year , the business asserted prior\", \"The undertakings 's net recipes rises 11.4 % on the year to 82.2 million euros in 2005 on sales of 686.5 miilion euros , 13.8 % up on the year , the societies testified formerly\", \"The ventures 's wisp receipts climbs 11.4 % on the year to 82.2 million euros in 2005 on sales of 686.5 millions euros , 13.8 % up on the year , the firms avowed earlier\"]\n"
          ]
        },
        {
          "output_type": "stream",
          "name": "stderr",
          "text": [
            "\r 59%|█████▊    | 185/316 [19:18<13:32,  6.20s/it]"
          ]
        },
        {
          "output_type": "stream",
          "name": "stdout",
          "text": [
            "Augmentations:\n",
            "['A paper factory in the central Maine town of Lexington fastest will have a novel landlords', 'A paper moulin in the central Maine town of Lexington sooner will have a new landowner', 'A paper moulin in the central Maine town of Madison swiftest will have a nouveau landlord', 'A paper moulins in the central Maine town of Lexington quickened will have a nouvelle innkeeper', 'A paper plant in the central Maine town of Lexington prompt will have a nouvelle owners']\n"
          ]
        },
        {
          "output_type": "stream",
          "name": "stderr",
          "text": [
            "\r 59%|█████▉    | 186/316 [19:18<09:41,  4.47s/it]"
          ]
        },
        {
          "output_type": "stream",
          "name": "stdout",
          "text": [
            "Augmentations:\n",
            "['Du order also encompasses start-up and commissioning services', 'Nova order also implicates start-up and commissioning services', 'The decree also embraces start-up and commissioning services', 'The order additionally including start-up and commissioning services', 'The order also implicates start-up and commissioning service']\n"
          ]
        },
        {
          "output_type": "stream",
          "name": "stderr",
          "text": [
            "\r 59%|█████▉    | 187/316 [19:19<06:53,  3.20s/it]"
          ]
        },
        {
          "output_type": "stream",
          "name": "stdout",
          "text": [
            "Augmentations:\n",
            "['Near of such transaction took mise today', 'Nears of such transaction took mise today', 'Shut of such transaction took mise hoy', 'Shutdown of such transaction took putting today', 'Shuts of such transaction took place today']\n"
          ]
        },
        {
          "output_type": "stream",
          "name": "stderr",
          "text": [
            "\r 59%|█████▉    | 188/316 [19:27<10:28,  4.91s/it]"
          ]
        },
        {
          "output_type": "stream",
          "name": "stdout",
          "text": [
            "Augmentations:\n",
            "['Svyturys-Utenos Alus , which is overseeing by the Norte group Baltic Cocktails Organising ( BBH ) , posted a 6.1 percent widen in beers sales for January-September to 101.99 trillion liter', 'Svyturys-Utenos Alus , which is policed by the Nord clusters Baltic Beverages Organising ( BBH ) , posted a 6.1 percent enhance in beer sells for January-September to 101.99 trillion liters', 'Svyturys-Utenos Alus , which is policed by the Nordic gatherings Baltic Cocktails Arrange ( BBH ) , posted a 6.1 percent betterment in budweiser sells for January-September to 101.99 trillion liters', 'Svyturys-Utenos Alus , which is policed by the Nordic groups Baltic Cocktails Organiser ( BBH ) , posted a 6.1 percent widens in casket sale for January-September to 101.99 millions liters', 'Svyturys-Utenos Alus , which is surveillance by the Scandinavia conglomerates Baltic Cocktails Arranging ( BBH ) , posted a 6.1 percent widens in beer sells for January-September to 101.99 mln liters']\n"
          ]
        },
        {
          "output_type": "stream",
          "name": "stderr",
          "text": [
            "\r 60%|█████▉    | 189/316 [19:33<11:04,  5.23s/it]"
          ]
        },
        {
          "output_type": "stream",
          "name": "stdout",
          "text": [
            "Augmentations:\n",
            "['Decree intake ascent by 40 % year-on-year and 30 % year-on-year , respectively , to EUR 576 billions and EUR 1.7 billion for the respective January-September and July-September 2010 deadlines', 'Decree intake rise by 40 % year-on-year and 30 % year-on-year , respectively , to EUR 576 mln and EUROS 1.7 billion for the respective January-September and July-September 2010 scheduling', 'Decrees inward heightened by 40 % year-on-year and 30 % year-on-year , consecutive , to EUR 576 million and EUR 1.7 trillion for the respective January-September and July-September 2010 time', 'Edict intake heighten by 40 % year-on-year and 30 % year-on-year , resultant , to EUR 576 millionth and EUROS 1.7 billion for the respective January-September and July-September 2010 timeline', 'Order inlet hikes by 40 % year-on-year and 30 % year-on-year , separately , to EUR 576 mln and EUR 1.7 millions for the respective January-September and July-September 2010 timing']\n"
          ]
        },
        {
          "output_type": "stream",
          "name": "stderr",
          "text": [
            "\r 60%|██████    | 190/316 [19:37<10:02,  4.78s/it]"
          ]
        },
        {
          "output_type": "stream",
          "name": "stdout",
          "text": [
            "Augmentations:\n",
            "['De Baltimore Constables and Firefighters Pension , which has about $ 1.5 billion , outof about $ 3.5 billions in Madoff Ponzi systems', 'The Baltimore Gendarmerie and Firefighting Pension , which has about $ 1.5 thousandth , outof about $ 3.5 millionth in Madoff Ponzi programmes', 'The Baltimore Nypd and Chimney Retired , which has about $ 1.5 billions , outof about $ 3.5 million in Madoff Ponzi system', 'The Cincinnati Agents and Fire Pension , which has about $ 1.5 million , outof about $ 3.5 billions in Madoff Ponzi plans', 'The Cincinnati Policing and Flre Retire , which has about $ 1.5 billion , outof about $ 3.5 millions in Madoff Ponzi scheme']\n"
          ]
        },
        {
          "output_type": "stream",
          "name": "stderr",
          "text": [
            "\r 60%|██████    | 191/316 [19:39<08:08,  3.91s/it]"
          ]
        },
        {
          "output_type": "stream",
          "name": "stdout",
          "text": [
            "Augmentations:\n",
            "['Pour utensils would be inaugurated in the Chinese market in belated 2006 , the company declared', 'The devices would be commencement in the Chinese market in belated 2006 , the company tell', 'The tool would be initiation in the Chinese market in delay 2006 , the enterprises said', 'The tool would be start in the Chinese mercado in postpone 2006 , the company said', 'The tool would be starting in the Chinese market in iate 2006 , the company shown']\n"
          ]
        },
        {
          "output_type": "stream",
          "name": "stderr",
          "text": [
            "\r 61%|██████    | 192/316 [19:44<08:51,  4.28s/it]"
          ]
        },
        {
          "output_type": "stream",
          "name": "stdout",
          "text": [
            "Augmentations:\n",
            "['Exploiting winnings for the three-month timetable rebounds from EUR1 .2 m , while obtaining extending from EUR20 .2 m , as comparative to the corresponding synchronise in 2005', 'Function revenue for the three-month hourly rebound from EUR1 .2 m , while earning surge from EUR20 .2 m , as compared to the corresponding timing in 2005', 'Functioning profits for the three-month timetable rebound from EUR1 .2 m , while earning leaped from EUR20 .2 m , as compared to the corresponding synchronise in 2005', 'Operating profit for the three-month timetable rebounds from EUR1 .2 m , while earns provokes from EUR20 .2 m , as compares to the correspond timetables in 2005', 'Operating profit for the three-month timetable soars from EUR1 .2 m , while earns improved from EUR20 .2 m , as compared to the corresponding sync in 2005']\n"
          ]
        },
        {
          "output_type": "stream",
          "name": "stderr",
          "text": [
            "\r 61%|██████    | 193/316 [19:51<10:17,  5.02s/it]"
          ]
        },
        {
          "output_type": "stream",
          "name": "stdout",
          "text": [
            "Augmentations:\n",
            "['May 29 , 2010 ( CompaniesandMarkets.com handed by Newstex ) -- This rapport render principal particulars and enlightening on the meat , pez and poultry commercialized in Finland', 'May 29 , 2010 ( CompaniesandMarkets.com provided by Newstex ) -- This relationship affords instrumental data and enlightening on the steak , pez and poultry contract in Finland', 'May 29 , 2010 ( CompaniesandMarkets.com yielded by Newstex ) -- This liaison furnishes grandes data and enlightening on the meat , pez and poultry commercialized in Finland', 'May 29 , 2010 ( CompaniesandMarkets.com yielded by Newstex ) -- This reporting offering critical data and enlightening on the meat , goldfish and chickens market in Finland', 'May 29 , 2010 ( CompaniesandMarkets.coms given by Newstex ) -- This report deliver key data and enlightening on the meat , goldfish and poultry market in Finland']\n"
          ]
        },
        {
          "output_type": "stream",
          "name": "stderr",
          "text": [
            "\r 61%|██████▏   | 194/316 [19:52<08:00,  3.94s/it]"
          ]
        },
        {
          "output_type": "stream",
          "name": "stdout",
          "text": [
            "Augmentations:\n",
            "['Pour generals project duration is trois ages and it is evaluate at some EUR11 .5 m', 'To total project duration is trois ageing and it is measured at some EUR11 .5 m', 'To total project length is trois ageing and it is appraisals at some EUR11 .5 m', 'To total project lifespan is tres antique and it is estimate at some EUR11 .5 m', 'Under utter project period is trois ageing and it is assess at some EUR11 .5 m']\n"
          ]
        },
        {
          "output_type": "stream",
          "name": "stderr",
          "text": [
            "\r 62%|██████▏   | 195/316 [19:53<05:50,  2.90s/it]"
          ]
        },
        {
          "output_type": "stream",
          "name": "stdout",
          "text": [
            "Augmentations:\n",
            "['Denote of Businesses in which holdings have been gains : Citycon Oyj 2', 'Designation of Enterprising in which holdings have been widens : Citycon Oyj 2', 'Designation of Entrepreneurial in which holdings have been gains : Citycon Oyj 2', 'Designation of Entrepreneurial in which holdings have been win : Citycon Oyj 2', 'Nominate of Businessmen in which holdings have been profits : Citycon Oyj 2']\n"
          ]
        },
        {
          "output_type": "stream",
          "name": "stderr",
          "text": [
            "\r 62%|██████▏   | 196/316 [19:53<04:25,  2.21s/it]"
          ]
        },
        {
          "output_type": "stream",
          "name": "stdout",
          "text": [
            "Augmentations:\n",
            "['This agency will reckon the responsibly for operations in Russe', 'This bodies will devine the responsibly for operations in Russia', 'This organise will reckon the responsibly for operandi in Russia', 'This organization will supposing the responsibly for roles in Russia', 'This organization will thought the responsibly for operations in Federation']\n"
          ]
        },
        {
          "output_type": "stream",
          "name": "stderr",
          "text": [
            "\r 62%|██████▏   | 197/316 [20:13<14:48,  7.47s/it]"
          ]
        },
        {
          "output_type": "stream",
          "name": "stdout",
          "text": [
            "Augmentations:\n",
            "['( ADP News ) - Feb 11 , 2009 - Helsinki executive software solution retailers Ixonos Oyj ( HEL : XNS1V ) saying mon its net revenues improve to EUR 3.5 million ( DOLLAR 4.5 m ) for 2008 from EUR 3.1 billionth for 2007', '( ADP News ) - Janvier 11 , 2009 - Helsinki cadres software solutions vendors Ixonos Oyj ( HEL : XNS1V ) saying today its net receipts blossoming to EURO 3.5 mln ( DOLLAR 4.5 m ) for 2008 from EUR 3.1 zillion for 2007', '( ADP News ) - November 11 , 2009 - Helsinki managers software solving businessman Ixonos Oyj ( HEL : XNS1V ) saying tonight its net revenues boosts to EUR 3.5 billion ( DOLLAR 4.5 m ) for 2008 from EUROS 3.1 millionth for 2007', '( ADP News ) - October 11 , 2009 - Tampere managers software solutions distributor Ixonos Oyj ( HEL : XNS1V ) proverb saturday its net profits increases to EUR 3.5 million ( DOLLAR 4.5 m ) for 2008 from EUR 3.1 millionth for 2007', '( ADP News ) - Sept 11 , 2009 - Helsinki executives software solutions traders Ixonos Oyj ( HEL : XNS1V ) adage tonight its net revenues soared to EURO 3.5 million ( DOLLAR 4.5 m ) for 2008 from EURO 3.1 thousandth for 2007']\n"
          ]
        },
        {
          "output_type": "stream",
          "name": "stderr",
          "text": [
            "\r 63%|██████▎   | 198/316 [20:17<12:19,  6.27s/it]"
          ]
        },
        {
          "output_type": "stream",
          "name": "stdout",
          "text": [
            "Augmentations:\n",
            "[\"One burdens category is for demands on the preferable exploiter 's nets , and further for incites on other operators ' grills\", \"One burdens kind is for wondering on the favourites exploiter 's nets , and further for invitation on other operators ' networks\", \"One burdens kinds is for wondering on the preferred exploiter 's nets , and further for asks on other operators ' networks\", \"One expenses sort is for demands on the preferred exploiter 's filet , and further for call on other operators ' networks\", \"Uno burdening category is for demands on the favorite exploiter 's nets , and further for call on other operators ' networks\"]\n"
          ]
        },
        {
          "output_type": "stream",
          "name": "stderr",
          "text": [
            "\r 63%|██████▎   | 199/316 [20:17<08:57,  4.60s/it]"
          ]
        },
        {
          "output_type": "stream",
          "name": "stdout",
          "text": [
            "Augmentations:\n",
            "['De plant is predicted to enter merchandising activity by mid-2009', 'Nova plant is await to enter merchandising activity by mid-2009', 'The facility is forecast to enter merchandising activity by mid-2009', 'The plant is expects to entrance merchandising activity by mid-2009', 'The plant is foreseen to permeate merchandising activity by mid-2009']\n"
          ]
        },
        {
          "output_type": "stream",
          "name": "stderr",
          "text": [
            "\r 63%|██████▎   | 200/316 [20:18<06:26,  3.33s/it]"
          ]
        },
        {
          "output_type": "stream",
          "name": "stdout",
          "text": [
            "Augmentations:\n",
            "['Aux accord is worth some EURO 1 zillion', 'For agreement is worth some EURO 1 billion', 'To agreement is worth some EURO 1 million', 'To conventions is worth some EURO 1 millionth', 'To treaties is worth some EURO 1 billions']\n"
          ]
        },
        {
          "output_type": "stream",
          "name": "stderr",
          "text": [
            "\r 64%|██████▎   | 201/316 [20:19<04:58,  2.60s/it]"
          ]
        },
        {
          "output_type": "stream",
          "name": "stdout",
          "text": [
            "Augmentations:\n",
            "['The injunction is associated to reiterate the grids of the communicative operator', 'The injunction is connected to renewed the grids of the telecommunications operator', 'The injunction is related to renew the network of the communications operator', 'The injunction is relative to renewed the networking of the communicative exploiter', 'To injunction is thereto to renewed the web of the communicative operator']\n"
          ]
        },
        {
          "output_type": "stream",
          "name": "stderr",
          "text": [
            "\r 64%|██████▍   | 202/316 [20:20<04:16,  2.25s/it]"
          ]
        },
        {
          "output_type": "stream",
          "name": "stdout",
          "text": [
            "Augmentations:\n",
            "['The contract will take consequence in 2009 for a five or ten year days', 'The contract will take effect in 2009 for a five or tio year calendars', 'The contract will tomar repercussions in 2009 for a five or ten leto timetables', 'The contracting will take consequence in 2009 for a five or ten year periods', 'The contractual will take impacts in 2009 for a five or ten year calendar']\n"
          ]
        },
        {
          "output_type": "stream",
          "name": "stderr",
          "text": [
            "\r 64%|██████▍   | 203/316 [20:24<05:14,  2.79s/it]"
          ]
        },
        {
          "output_type": "stream",
          "name": "stdout",
          "text": [
            "Augmentations:\n",
            "['During the thirdly quarter of 2007 , net sales aggregate EUR 25.95 min , and operating gains EUR 3.88 mn', 'In the third quarter of 2007 , filet sales reached EUROS 25.95 mn , and functioning climbed EUR 3.88 mn', 'In the third quarter of 2007 , net sales achieved EURO 25.95 mn , and operating win EUR 3.88 manganese', 'In the third quarter of 2007 , tenderloin sells reached EUR 25.95 mn , and operative gains EUR 3.88 minute', 'Onto the third quarter of 2007 , net sales attained EUR 25.95 mn , and exploit gaining EUR 3.88 mn']\n"
          ]
        },
        {
          "output_type": "stream",
          "name": "stderr",
          "text": [
            "\r 65%|██████▍   | 204/316 [20:25<04:21,  2.33s/it]"
          ]
        },
        {
          "output_type": "stream",
          "name": "stdout",
          "text": [
            "Augmentations:\n",
            "['Marathon now has a 4.6 cent sequencing in PLX , it renews , according to Bloomberg', 'Marathon now has a 4.6 cent staking in PLX , it substantiate , virtue to Bloomberg', 'Marathon now has a 4.6 percent stake in PLX , it confirms , virtue to Bloomberg', 'Marathon now has a 4.6 percent stake in PLX , it renovation , virtue to Bloomberg', 'Marathon now has a 4.6 percent staking in PLX , it reiterate , pursuant to Bloomberg']\n"
          ]
        },
        {
          "output_type": "stream",
          "name": "stderr",
          "text": [
            "\r 65%|██████▍   | 205/316 [20:34<07:51,  4.25s/it]"
          ]
        },
        {
          "output_type": "stream",
          "name": "stdout",
          "text": [
            "Augmentations:\n",
            "[\"De shares shall be gained according to the Ordinances of NASDAQ OMX Tampere and further according to the rule related to acquisition of the enterprise 's own exchange\", \"Du shared shall be gaining according to the Bylaws of NASDAQ OMX Tampere and further complying to the bylaws pertaining to purchases of the corporation 's own shares\", \"Nova shares shall be winning accordance to the Statutes of NASDAQ OMX Tampere and further conforming to the bylaws related to acquisition of the ventures 's own shares\", \"The shares shall be acquiring according to the Rules of NASDAQ OMX Tampere and further pursuant to the bylaws related to acquisitions of the firms 's own share\", \"The shares shall be gain according to the Ordinances of NASDAQ OMX Tampere and further according to the legislate relating to purchasing of the undertakes 's own shares\"]\n"
          ]
        },
        {
          "output_type": "stream",
          "name": "stderr",
          "text": [
            "\r 65%|██████▌   | 206/316 [20:36<06:18,  3.44s/it]"
          ]
        },
        {
          "output_type": "stream",
          "name": "stdout",
          "text": [
            "Augmentations:\n",
            "[\"The pretax proceeds of the cluster 's life seguro business augmentation to EUR36m from EUR27m\", \"The pretax profit of the group 's life seguro corporation upswing to EUR36m from EUR27m\", \"The pretax profit of the reunion 's vie insurance business rebounds to EUR36m from EUR27m\", \"The pretax revenues of the panel 's llfe seguro business rebounds to EUR36m from EUR27m\", \"The pretax takings of the grouping 's life seguro corporations rebounds to EUR36m from EUR27m\"]\n"
          ]
        },
        {
          "output_type": "stream",
          "name": "stderr",
          "text": [
            "\r 66%|██████▌   | 207/316 [20:36<04:48,  2.65s/it]"
          ]
        },
        {
          "output_type": "stream",
          "name": "stdout",
          "text": [
            "Augmentations:\n",
            "['Du mechanisms enriches our long-term collaborating with Nokia Siemens Webs', 'Du mechanisms enriches our long-term working with Nokia Siemens Webs', 'Pour mechanisms enriches our long-term partnered with Nokia Siemens Webs', 'The mechanism enriches our long-term collaborated with Nokia Siemens Networking', 'The regime enriches our long-term concert with Nokia Siemens Webs']\n"
          ]
        },
        {
          "output_type": "stream",
          "name": "stderr",
          "text": [
            "\r 66%|██████▌   | 208/316 [20:40<05:28,  3.05s/it]"
          ]
        },
        {
          "output_type": "stream",
          "name": "stdout",
          "text": [
            "Augmentations:\n",
            "[\"`` Ours are ravi with the activities of both negotiated computers and listens forward to a productive furnace ages upcoming . '\", \"`` We are flattered with the activities of both talks computers and hears forward to a production four ages ahead . '\", \"`` We are pleased with the action of both negotiates pc and listens forward to a fecund four ages ahead . '\", \"`` We are raffi with the activities of both negotiated computers and listens forward to a fecund oven ages ahead . '\", \"`` We are ravi with the activities of both discussions computers and listens ahead to a fecund four ages forward . '\"]\n"
          ]
        },
        {
          "output_type": "stream",
          "name": "stderr",
          "text": [
            "\r 66%|██████▌   | 209/316 [20:42<04:47,  2.69s/it]"
          ]
        },
        {
          "output_type": "stream",
          "name": "stdout",
          "text": [
            "Augmentations:\n",
            "['Operandi outcome including non-recurring matter ascent to EUR 146mn from a loss of EURO 267mn in 2009', 'Operating outcome consisted non-recurring matters climbing to EUR 146mn from a loss of EUR 267mn in 2009', 'Operating result comprising non-recurring things rose to EUR 146mn from a losing of EUR 267mn in 2009', 'Operating resulting contains non-recurring items rose to EUR 146mn from a loss of EUR 267mn in 2009', 'Operations result encompassing non-recurring affairs raised to EUR 146mn from a loss of EUR 267mn in 2009']\n"
          ]
        },
        {
          "output_type": "stream",
          "name": "stderr",
          "text": [
            "\r 66%|██████▋   | 210/316 [20:51<07:44,  4.38s/it]"
          ]
        },
        {
          "output_type": "stream",
          "name": "stdout",
          "text": [
            "Augmentations:\n",
            "['Del these exchanged 14,747,084 are forced by the Company and the number of astonishing shares and suffrage rights attached to the shares volumes where to 161,256,847', 'Of these exchanging 14,747,084 are coerced by the Company and the number of wondrous exchange and ballot rights herewith to the shares volumes where to 161,256,847', 'Of these exchanging 14,747,084 are coerced by the Ventures and the number of grand shares and voting rights attach to the interchange volumes where to 161,256,847', 'Of these shared 14,747,084 are forcible by the Enterprise and the number of awesome share and ballots rights attached to the shares volumes where to 161,256,847', 'To these exchanged 14,747,084 are obliged by the Company and the number of great shares and voting rights attached to the shared quantity where to 161,256,847']\n"
          ]
        },
        {
          "output_type": "stream",
          "name": "stderr",
          "text": [
            "\r 67%|██████▋   | 211/316 [20:57<08:51,  5.06s/it]"
          ]
        },
        {
          "output_type": "stream",
          "name": "stdout",
          "text": [
            "Augmentations:\n",
            "[\"Exel 's advice of directors will suggests a payout of 0.2 euros $ 0.3 per exchanged for 2006 at the annual geral lectures on April 19 , 2007\", \"Exel 's board of administrator will suggestions a payout of 0.2 euro $ 0.3 at share for 2006 at the year holistic meeting on April 19 , 2007\", \"Exel 's board of directors will recommend a payout of 0.2 euros $ 0.3 at share for 2006 at the annual total faced on November 19 , 2007\", \"Exel 's board of headmaster will recommends a payout of 0.2 euro $ 0.3 per exchanges for 2006 at the year general encounter on April 19 , 2007\", \"Exel 's commission of headmaster will suggest a payout of 0.2 euro $ 0.3 at exchanging for 2006 at the annual general meetings on April 19 , 2007\"]\n"
          ]
        },
        {
          "output_type": "stream",
          "name": "stderr",
          "text": [
            "\r 67%|██████▋   | 212/316 [21:24<20:04, 11.58s/it]"
          ]
        },
        {
          "output_type": "stream",
          "name": "stdout",
          "text": [
            "Augmentations:\n",
            "['Finland IT solutions seller Affecto Oyj HEL : AFE1V emphasized presently its hopped to a net loss of EUR 115,000 USD 152,000 in the second quarter of 2010 from a earn of EUROS 845,000 in the corresponding timetables a year anterior', 'Finnish IT resolve givers Affecto Oyj HEL : AFE1V told fridays its climbs to a netted loss of EUR 115,000 USD 152,000 in the second quarter of 2010 from a dividend of EURO 845,000 in the corresponding timeframe a year earlier', 'Finnish IT solutions provider Affecto Oyj HEL : AFE1V said currently its bumped to a net loss of EUR 115,000 USD 152,000 in the second quarter of 2010 from a obtain of EUR 845,000 in the corresponding calendar a yearly previously', 'Helsinki IT solutions givers Affecto Oyj HEL : AFE1V asserted currently its skyrocketed to a net lost of EUR 115,000 USD 152,000 in the second quarter of 2010 from a dividend of EUR 845,000 in the corresponding timetables a year before', 'Helsinki IT solutions purveyor Affecto Oyj HEL : AFE1V tell currently its leaped to a net loss of EUR 115,000 USD 152,000 in the second quarter of 2010 from a perks of EUR 845,000 in the corresponding periods a olds before']\n"
          ]
        },
        {
          "output_type": "stream",
          "name": "stderr",
          "text": [
            "\r 67%|██████▋   | 213/316 [21:30<16:45,  9.77s/it]"
          ]
        },
        {
          "output_type": "stream",
          "name": "stdout",
          "text": [
            "Augmentations:\n",
            "['De decision reflect the underutilisation of the line , which produces nonwovens utilise in doctors and wipes applications as good as for the automotive industry', 'De decision reflects the underutilisation of the line , which engenders nonwovens used in medicinal and wipes requisition as good as for the automotive industry', 'Du decision displays the underutilisation of the line , which produces nonwovens resorted in medical and wipes applications as decent as for the automotive industria', 'The decision exemplifies the underutilisation of the iine , which produces nonwovens utilised in medical and swabs applications as buena as for the automotive industry', 'The decision reflect the underutilisation of the line , which generates nonwovens utilise in doktor and wipes request as good as for the automotive industry']\n"
          ]
        },
        {
          "output_type": "stream",
          "name": "stderr",
          "text": [
            "\r 68%|██████▊   | 214/316 [21:32<12:46,  7.51s/it]"
          ]
        },
        {
          "output_type": "stream",
          "name": "stdout",
          "text": [
            "Augmentations:\n",
            "[\"Into Finnish 's Pastimes Hall 's sales lessened by 10 % , and international salts shortening by 19 %\", \"Toward Finnish 's Hobby Hall 's sale softened by 10 % , and global sales decreases by 19 %\", \"Toward Finnish 's Hobby Hall 's sales fallen by 10 % , and worldwide sales allay by 19 %\", \"Toward Finnish 's Pastime Hall 's sales lowered by 10 % , and international sales shrinking by 19 %\", \"Toward Finnish 's Pastime Hall 's sold lessened by 10 % , and international selling dwindling by 19 %\"]\n"
          ]
        },
        {
          "output_type": "stream",
          "name": "stderr",
          "text": [
            "\r 68%|██████▊   | 215/316 [21:37<11:25,  6.78s/it]"
          ]
        },
        {
          "output_type": "stream",
          "name": "stdout",
          "text": [
            "Augmentations:\n",
            "['Oka specialises in new building , renewed working of household and non-residential building as bah as premises for industrial and logistical employs', 'Oka specialises in new construction , renewed cooperating of residence and non-residential building as bah as premises for industrial and logistical use', 'Oka specialises in new edifice , rejuvenate collaborating of households and non-residential edifice as bah as premises for industrial and logistical exploiting', 'Oka specialities in new edifice , renewing partnerships of residential and non-residential building as good as premises for industrial and logistical exploit', 'Oka specialties in new edifice , renewed alliances of accommodation and non-residential construct as bene as premises for industrial and logistical utilise']\n"
          ]
        },
        {
          "output_type": "stream",
          "name": "stderr",
          "text": [
            "\r 68%|██████▊   | 216/316 [21:39<08:50,  5.30s/it]"
          ]
        },
        {
          "output_type": "stream",
          "name": "stdout",
          "text": [
            "Augmentations:\n",
            "['Olli-Pekka Laine has been designated as the President and Erkki Pehu-Lehtonen as the Sleazy Chairwoman of the Goverment', 'Olli-Pekka Lana has been appointed as the Presidency and Erkki Pehu-Lehtonen as the Grubby Presided of the Administration', 'Olli-Pekka Lana has been appointed as the Presidency and Erkki Pehu-Lehtonen as the Unclean Chaired of the Goverment', 'Olli-Pekka Lana has been appoints as the Chairperson and Erkki Pehu-Lehtonen as the Disgusting Chairwoman of the Governments', 'Olli-Pekka Lana has been designate as the Chairman and Erkki Pehu-Lehtonen as the Seedy Presidente of the Govt']\n"
          ]
        },
        {
          "output_type": "stream",
          "name": "stderr",
          "text": [
            "\r 69%|██████▊   | 217/316 [21:43<08:07,  4.92s/it]"
          ]
        },
        {
          "output_type": "stream",
          "name": "stdout",
          "text": [
            "Augmentations:\n",
            "['Aux enterprise to be divested engenders consolidated apprehend sales of EUR 60 million annually and currently has some 640 employees', 'Aux societies to be divested engenders solidify net sales of EUR 60 miilion annually and currently has some 640 retainers', 'In business to be divested engenders solidify net sells of EUR 60 million annually and now has some 640 officials', 'Pour business to be divested produces strengthening net sales of EUR 60 million annually and currently has some 640 staffs', 'To corporations to be divested generate solidified net sales of EUR 60 gazillion annually and currently has some 640 employees']\n"
          ]
        },
        {
          "output_type": "stream",
          "name": "stderr",
          "text": [
            "\r 69%|██████▉   | 218/316 [21:47<07:53,  4.83s/it]"
          ]
        },
        {
          "output_type": "stream",
          "name": "stdout",
          "text": [
            "Augmentations:\n",
            "['According to Seikku , the retail sector in Finland is monitor by 3-4 humongous actors , while food constructors are still relatively teeny', 'According to Seikku , the retail sector in Finland is oversight by 3-4 tremendous actors , while alimentary manufacturer are still relatively scrawny', 'According to Seikku , the retail sector in Finland is supervision by 3-4 grands actors , while food industrialists are still rather little', 'According to Seikku , the retail sector in Finland is supervision by 3-4 monumental actors , while foodstuffs manufacturers are still relatively minuscule', 'According to Seikku , the retail sector in Finland is supervisor by 3-4 gros players , while comer manufacturers are still comparatively small']\n"
          ]
        },
        {
          "output_type": "stream",
          "name": "stderr",
          "text": [
            "\r 69%|██████▉   | 219/316 [21:51<07:16,  4.50s/it]"
          ]
        },
        {
          "output_type": "stream",
          "name": "stdout",
          "text": [
            "Augmentations:\n",
            "['Pretax benefit was EUROS 2.0 mins , compares to a wasting of EUR 159.2 mn in the fourth quarter of 2008', 'Pretax payout constituted EUROS 2.0 mn , compares to a losing of EUR 159.2 mn in the fourth quarter of 2008', 'Pretax perks aggregate EUROS 2.0 mn , comparison to a atrophy of EUR 159.2 min in the fourth quarter of 2008', 'Pretax profit totalled EUR 2.0 mn , comparison to a wasting of EUR 159.2 mn in the fourth quarter of 2008', 'Pretax winnings numbered EUROS 2.0 mn , comparative to a squander of EURO 159.2 mn in the fourth quarter of 2008']\n"
          ]
        },
        {
          "output_type": "stream",
          "name": "stderr",
          "text": [
            "\r 70%|██████▉   | 220/316 [21:54<06:27,  4.04s/it]"
          ]
        },
        {
          "output_type": "stream",
          "name": "stdout",
          "text": [
            "Augmentations:\n",
            "[\"Tekla Clusters 's filet filthy for 2006 were virtually 50 million euro and operating result 13.6 millionth euros\", \"Tekla Clusters 's filet pissant for 2006 were nigh 50 million euro and function result 13.6 trillion euros\", \"Tekla Groupings 's filet soiled for 2006 were nigh 50 million euro and function results 13.6 billion euros\", \"Tekla Grupo 's filet soiled for 2006 were nigh 50 millionth euro and function result 13.6 trillions euros\", \"Tekla Panels 's filet soiled for 2006 were almost 50 millions euro and function result 13.6 million euros\"]\n"
          ]
        },
        {
          "output_type": "stream",
          "name": "stderr",
          "text": [
            "\r 70%|██████▉   | 221/316 [22:00<07:16,  4.60s/it]"
          ]
        },
        {
          "output_type": "stream",
          "name": "stdout",
          "text": [
            "Augmentations:\n",
            "['Finland automated solutions developer Cencorp Corporation ( OMX Helsinki : CNC1V ) issue on Sunday ( 18 September ) a winnings warning for the third quarter of 2008', 'Finland computerised solutions bidder Cencorp Corporation ( OMX Helsinki : CNC1V ) issuance on Monday ( 18 July ) a benefit warning for the third quarter of 2008', 'Finnish automation solution creator Cencorp Companies ( OMX Helsinki : CNC1V ) issuance on Thursday ( 18 Feb ) a benefit warned for the third quarter of 2008', 'Finnish automation solutions developer Cencorp Entrepreneurs ( OMX Helsinki : CNC1V ) emit on Fri ( 18 Elf ) a benefit alerted for the third quarter of 2008', 'Finnish automation solutions promoter Cencorp Venture ( OMX Helsinki : CNC1V ) issuance on Fri ( 18 July ) a benefit alerted for the third quarter of 2008']\n"
          ]
        },
        {
          "output_type": "stream",
          "name": "stderr",
          "text": [
            "\r 70%|███████   | 222/316 [22:01<05:16,  3.37s/it]"
          ]
        },
        {
          "output_type": "stream",
          "name": "stdout",
          "text": [
            "Augmentations:\n",
            "['Pertti Ervi is independant from the Undertakings and its mammoth shareholders', 'Pertti Ervi is independent from the Corporation and its hefty shareholders', 'Pertti Ervi is independents from the Business and its major shareholders', 'Pertti Ervi is independents from the Companies and its formidable shareholders', 'Pertti Ervi is independents from the Companies and its redoubtable shareholders']\n"
          ]
        },
        {
          "output_type": "stream",
          "name": "stderr",
          "text": [
            "\r 71%|███████   | 223/316 [22:01<04:00,  2.59s/it]"
          ]
        },
        {
          "output_type": "stream",
          "name": "stdout",
          "text": [
            "Augmentations:\n",
            "['Following the moves , Stora Enso holding in NewPage will maintenance unchanged', 'Following the moves , Stora Enso organize in NewPage will conserving unchanged', 'Following the shifting , Stora Enso holding in NewPage will preservation unchangeable', 'Hereafter the moves , Stora Enso organising in NewPage will maintaining unchanged', 'Posterior the moves , Stora Enso holding in NewPage will preserves unchanged']\n"
          ]
        },
        {
          "output_type": "stream",
          "name": "stderr",
          "text": [
            "\r 71%|███████   | 224/316 [22:07<05:30,  3.59s/it]"
          ]
        },
        {
          "output_type": "stream",
          "name": "stdout",
          "text": [
            "Augmentations:\n",
            "[\"Outotec 's scope of delivery contains the talented , offering of unique team and service for a calcination plant with two disseminated liquefied bed calciners\", \"Outotec 's scope of delivery embraces the brilliance , supply of precise team and serving for a calcination facilities with deux circulating fluid bed calciners\", \"Outotec 's scope of delivery embraces the einstein , delivering of unmatched team and service for a calcination plant with deux outreach fluid bed calciners\", \"Outotec 's scope of delivery entails the genius , supply of unbeatable team and servicing for a calcination plant with deux aired fluid bed calciners\", \"Outotec 's scope of delivery includes the genius , supply of exclusive team and service for a calcination mills with two circulates fluid bedtime calciners\"]\n"
          ]
        },
        {
          "output_type": "stream",
          "name": "stderr",
          "text": [
            "\r 71%|███████   | 225/316 [22:19<09:03,  5.97s/it]"
          ]
        },
        {
          "output_type": "stream",
          "name": "stdout",
          "text": [
            "Augmentations:\n",
            "[\"Attire retail chains Sepp+ñl+ó 's resell ascend by 8 % to EUR 155.2 mn , and operation dividend rally to EUR 31.1 mn from EURO 17.1 min in 2004\", \"Dresses retail chain Sepp+ñl+ó 's sales soar by 8 % to EUR 155.2 mn , and operational earnings surges to EUR 31.1 mn from EURO 17.1 minute in 2004\", \"Garb traders string Sepp+ñl+ñ 's sales hiking by 8 % to EUR 155.2 manganese , and operation earn rebounds to EUR 31.1 mn from EURO 17.1 min in 2004\", \"Getup retail string Seep+ñl+ñ 's sales highs by 8 % to EUR 155.2 mn , and functioning dividend rebounds to EUR 31.1 mn from EUROS 17.1 minute in 2004\", \"Gown retail string Sepp+ñl+ó 's selling rises by 8 % to EUR 155.2 mn , and functioning dividend rose to EUR 31.1 mn from EURO 17.1 min in 2004\"]\n"
          ]
        },
        {
          "output_type": "stream",
          "name": "stderr",
          "text": [
            "\r 72%|███████▏  | 226/316 [22:20<07:02,  4.69s/it]"
          ]
        },
        {
          "output_type": "stream",
          "name": "stdout",
          "text": [
            "Augmentations:\n",
            "['It is a member of the OneWorld alliance , which comprised American Aviation and Britannica Airspace', 'It is a member of the OneWorld alliance , which implies American Airlift and British Aerial', 'It is a member of the OneWorld alliance , which includes American Airforce and Uk Airspace', 'It is a member of the OneWorld alliance , which involves Americano Aeroplane and British Airspace', 'It is a members of the OneWorld alliance , which covers American Aerial and British Airspace']\n"
          ]
        },
        {
          "output_type": "stream",
          "name": "stderr",
          "text": [
            "\r 72%|███████▏  | 227/316 [22:26<07:16,  4.90s/it]"
          ]
        },
        {
          "output_type": "stream",
          "name": "stdout",
          "text": [
            "Augmentations:\n",
            "['Earnings for share for the quarter were yet biggest year-on-year at 0.33 eur versus 0.27 , and above market predicted of 0.28 eur', 'Payrolls para interchange for the quarter were also grandest year-on-year at 0.33 eur versus 0.27 , and above marketed forecasting of 0.28 eur', 'Revenue per exchanges for the quarter were also greater year-on-year at 0.33 eur compared 0.27 , and above market expectations of 0.28 eur', 'Revenue per share for the quarter were additionally wide year-on-year at 0.33 euro versus 0.27 , and above market foresee of 0.28 eur', 'Wages para shares for the quarter were again grandest year-on-year at 0.33 eur vs 0.27 , and above market expectations of 0.28 eur']\n"
          ]
        },
        {
          "output_type": "stream",
          "name": "stderr",
          "text": [
            "\r 72%|███████▏  | 228/316 [22:39<10:53,  7.43s/it]"
          ]
        },
        {
          "output_type": "stream",
          "name": "stdout",
          "text": [
            "Augmentations:\n",
            "['Endangerment explanatory by Non-life Insurance  Moving 12-month  Expenses by functioning in Non-life Insurance disqualify costing for investment manage and burdened for other services rendered Non-life Insurance investment portfolio by allocatio', 'Peril exhibitions by Non-life Insurance  Moving 12-month  Expenses by function in Non-life Insurance disqualified costing for invested stewardship and burdened for other services rendered Non-life Insurance investment portfolio by allocatio', 'Risk exposure by Non-life Insurance  Moving 12-month  Expenses by function in Non-life Insurance excluding priced for investment executive and burdens for other service rendered Non-life Seguro investment portfolio by allocatio', 'Risk exposure by Non-life Security  Moving 12-month  Charge by function in Non-life Seguro excepted priced for investment management and burdened for other services rendered Non-life Insurance investments portfolio by allocatio', 'Threaten exposed by Non-life Insurance  Moving 12-month  Fares by function in Non-life Insurance disqualify costs for investor governing and saddled for other services rendered Non-life Insurance investment portfolio by allocatio']\n"
          ]
        },
        {
          "output_type": "stream",
          "name": "stderr",
          "text": [
            "\r 72%|███████▏  | 229/316 [22:48<11:21,  7.83s/it]"
          ]
        },
        {
          "output_type": "stream",
          "name": "stdout",
          "text": [
            "Augmentations:\n",
            "['Seven-month sales of Ragutis , which is control by the Finnish brewer Olvi , shrunk by 11.2 cent , to 15.41 zillion liters , and the corporation held 9.89 centigrade of the market', 'Seven-month sales of Ragutis , which is supervises by the Finnish brewery Olvi , dipping by 11.2 cent , to 15.41 million liters , and the business obligated 9.89 percent of the market', 'Seven-month salts of Ragutis , which is supervises by the Finnish brewery Olvi , mitigation by 11.2 percent , to 15.41 million quart , and the company hold 9.89 percentage of the mercado', 'Seven-month sells of Ragutis , which is surveilling by the Finnish brewery Olvi , downsized by 11.2 percent , to 15.41 zillion liters , and the company held 9.89 percent of the commercialized', 'Seven-month soiled of Ragutis , which is controlled by the Finnish brewery Olvi , reduction by 11.2 percent , to 15.41 billion gallon , and the venture held 9.89 percentage of the markets']\n"
          ]
        },
        {
          "output_type": "stream",
          "name": "stderr",
          "text": [
            "\r 73%|███████▎  | 230/316 [23:22<22:26, 15.65s/it]"
          ]
        },
        {
          "output_type": "stream",
          "name": "stdout",
          "text": [
            "Augmentations:\n",
            "[\"Du planet 's secondly greater stainless steel maker affirmed net profit in the three-month schedules until Dec. 31 leaped to euro603 billions OURS$ 781 millionth , or euro3 .33 US$ 4.31 per exchanged , from euro172 billion , or euro0 .94 per share , the anterior leto\", \"The planet 's second akbar stainless steel maker pled netted profit in the three-month period until Dec. 31 declined to euro603 billions US$ 781 thousandth , or euro3 .33 US$ 4.31 per shares , from euro172 billions , or euro0 .94 per sharing , the anterior leto\", \"The planet 's second broader stainless steel constructor affirmed net profit in the three-month hourly until Dec. 31 abated to euro603 billions NOUS$ 781 millionth , or euro3 .33 US$ 4.31 by share , from euro172 billion , or euro0 .94 per shares , the earlier leto\", \"The planet 's second broader stainless steel maker safeguard net benefit in the three-month scheduling until Dec. 31 dwindled to euro603 billions US$ 781 millions , or euro3 .33 US$ 4.31 per exchange , from euro172 million , or euro0 .94 per exchanged , the previous leto\", \"The planet 's second largest stainless steel maker reaffirmed net incomes in the three-month duration until Dec. 31 diminishing to euro603 millionth AMERICANS$ 781 billion , or euro3 .33 US$ 4.31 per share , from euro172 million , or euro0 .94 per share , the precedents annum\"]\n"
          ]
        },
        {
          "output_type": "stream",
          "name": "stderr",
          "text": [
            "\r 73%|███████▎  | 231/316 [23:23<15:48, 11.16s/it]"
          ]
        },
        {
          "output_type": "stream",
          "name": "stdout",
          "text": [
            "Augmentations:\n",
            "['Operating profit dampened to virtually EUR 1.7 mn , however', 'Operating profit mitigation to virtually EUR 1.7 mn , yet', 'Operating profit shortening to nearly EUR 1.7 mn , instead', 'Operating profit slashing to nearly EUR 1.7 mn , nevertheless', 'Operation profit lessened to nearly EUR 1.7 mn , however']\n"
          ]
        },
        {
          "output_type": "stream",
          "name": "stderr",
          "text": [
            "\r 73%|███████▎  | 232/316 [23:27<12:38,  9.03s/it]"
          ]
        },
        {
          "output_type": "stream",
          "name": "stdout",
          "text": [
            "Augmentations:\n",
            "[\"De fabricating of CPPs will be reopened at the existent Export Concentrate Unit EOU at Wartsila 's installations at Khopoli , foreseeable Calcutta\", \"Of fabricate of CPPs will be reopened at the existing Export Emphasis Unit EOU at Wartsila 's centers at Khopoli , foreseeable Madras\", \"The fabrication of CPPs will be reopened at the exists Export Centred Units EOU at Wartsila 's installations at Khopoli , foreseeable Bangalore\", \"The manufacture of CPPs will be reopened at the exist Exported Focuses Unit EOU at Wartsila 's installations at Khopoli , foreseeable Chandigarh\", \"The manufacturing of CPPs will be reopened at the existing Export Concentrating Unit EOU at Wartsila 's factory at Khopoli , predictable Madras\"]\n"
          ]
        },
        {
          "output_type": "stream",
          "name": "stderr",
          "text": [
            "\r 74%|███████▎  | 233/316 [23:29<09:38,  6.97s/it]"
          ]
        },
        {
          "output_type": "stream",
          "name": "stdout",
          "text": [
            "Augmentations:\n",
            "['Operating profits plummeting to EUROS 103.4 mn from EUR 23.2 in the correspond period in 2006', 'Operating receipts climb to EUR 103.4 mn from EUR 23.2 in the correspond deadlines in 2006', 'Operating takings climbs to EUR 103.4 mn from EUR 23.2 in the corresponds timetables in 2006', 'Operation gains hikes to EUR 103.4 mn from EUR 23.2 in the correspond intervals in 2006', 'Operations incomes hikes to EURO 103.4 mn from EUR 23.2 in the correspond deadlines in 2006']\n"
          ]
        },
        {
          "output_type": "stream",
          "name": "stderr",
          "text": [
            "\r 74%|███████▍  | 234/316 [24:15<25:42, 18.82s/it]"
          ]
        },
        {
          "output_type": "stream",
          "name": "stdout",
          "text": [
            "Augmentations:\n",
            "[\"At the request of Finland mid company Alma Milieu 's newspapers , research manager Jari Kaivo-oja at the Finns Futures Researching Geared at the Turku Education of Economics has lured up a upcoming screenplay for Finland 's national economically by employing a modelled developed by the College of Denver\", \"At the requisitions of Finnish media company Alma Milieu 's dailies , investigation manager Jari Kaivo-oja at the Finns Upcoming Research Centred at the Turku Educate of Economics has lured up a future screenplay for Finland 's nationwide economically by used a model worded by the University of Denver\", \"For the wondering of Finnish media entrepreneurial Alma Milieu 's newspapers , scrutinized manger Jari Kaivo-oja at the Finns Futures Research Centered at the Turku School of Economics has lured up a futur scenario for Finns 's national economy by using a mannequins developed by the University of Denver\", \"Into the request of Helsinki media enterprise Alma Milieu 's gazette , research admin Jari Kaivo-oja at the Finns Futures Research Centre at the Turku School of Savings has lured up a future scenarios for Finland 's national economies by using a templates developed by the Academia of Denver\", \"Mex the request of Helsinki media company Alma Milieu 's newspapers , researching manager Jari Kaivo-oja at the Finns Future Enquiry Centre at the Turku Ecole of Economics has lured up a imminent screenplay for Finland 's nation economy by using a model elaborate by the Universities of Denver\"]\n"
          ]
        },
        {
          "output_type": "stream",
          "name": "stderr",
          "text": [
            "\r 74%|███████▍  | 235/316 [24:16<17:56, 13.29s/it]"
          ]
        },
        {
          "output_type": "stream",
          "name": "stdout",
          "text": [
            "Augmentations:\n",
            "['Sale of security and system packed soars slightly', 'Sales of safeguarding and system packaging climb slightly', 'Sales of security and system bagging escalation slightly', 'Sales of security and system packaging increased faintly', 'Sales of warranty and system packaging soars weakly']\n"
          ]
        },
        {
          "output_type": "stream",
          "name": "stderr",
          "text": [
            "\r 75%|███████▍  | 236/316 [24:17<13:10,  9.88s/it]"
          ]
        },
        {
          "output_type": "stream",
          "name": "stdout",
          "text": [
            "Augmentations:\n",
            "['Kaupthing Bank will publication its annual upshot for 2007 before marketed open on Sundays 31 Janeiro', 'Kaupthing Bank will publications its everyyear outcomes for 2007 before markets opens on Saturday 31 Janeiro', 'Kaupthing Bank will publish its year impacts for 2007 before markets open on Saturday 31 Janeiro', 'Kaupthing Bank will publishing its yearly effects for 2007 before markets open on Monday 31 Janeiro', 'Kaupthing Banks will publication its annual outcome for 2007 before market open on Thu 31 Janeiro']\n"
          ]
        },
        {
          "output_type": "stream",
          "name": "stderr",
          "text": [
            "\r 75%|███████▌  | 237/316 [24:20<10:00,  7.60s/it]"
          ]
        },
        {
          "output_type": "stream",
          "name": "stdout",
          "text": [
            "Augmentations:\n",
            "['`` Marimekko admin in an industry in which amended in the enterprising climate are displayed in consumer demand', '`` Marimekko administers in an industry in which moves in the entrepreneurial climate are illustrated in consumer demand', '`` Marimekko manage in an industries in which move in the entrepreneurial climate are disclosed in consumer asked', '`` Marimekko manage in an industry in which shifting in the entrepreneurial climate are revealed in consumer asks', '`` Marimekko managerial in an industry in which shift in the company climate are testify in consumer asking']\n"
          ]
        },
        {
          "output_type": "stream",
          "name": "stderr",
          "text": [
            "\r 75%|███████▌  | 238/316 [24:22<07:37,  5.87s/it]"
          ]
        },
        {
          "output_type": "stream",
          "name": "stdout",
          "text": [
            "Augmentations:\n",
            "['Shift being advertises saturday will be efficacious after the tight of mercado on Today , June 19 , 2009', 'Shift being announces today will be efficacy after the tight of trade on Monday , June 19 , 2009', 'Shift being proclaim mondays will be effectiveness after the rigorous of trade on Friday , June 19 , 2009', 'Shift being proclaiming thursday will be efficacy after the tight of commercial on Fridays , June 19 , 2009', 'Shift being publish fri will be efficacious after the stringent of trade on Wednesday , June 19 , 2009']\n"
          ]
        },
        {
          "output_type": "stream",
          "name": "stderr",
          "text": [
            "\r 76%|███████▌  | 239/316 [24:32<09:09,  7.14s/it]"
          ]
        },
        {
          "output_type": "stream",
          "name": "stdout",
          "text": [
            "Augmentations:\n",
            "['Finland tissues and suits group Marimekko Oyj posted a net earnings of 7.99 million eur $ 10.4 mln for 2006 , comparative to 8.4 mln euro $ 10.9 mln for 2005', 'Finnish knit and sweaters clusters Marimekko Oyj posted a net benefits of 7.99 miilion euro $ 10.4 billion for 2006 , comparative to 8.4 miilion euro $ 10.9 mln for 2005', 'Finnish rag and costumes panels Marimekko Oyj posted a filet profit of 7.99 millions euro $ 10.4 mln for 2006 , compare to 8.4 trillion euro $ 10.9 mln for 2005', 'Finnish textiles and clothes grupo Marimekko Oyj posted a net revenue of 7.99 zillion euro $ 10.4 zillion for 2006 , comparative to 8.4 millions euro $ 10.9 millions for 2005', 'Finnish tissue and garments clustered Marimekko Oyj posted a wisp profits of 7.99 mln euro $ 10.4 trillions for 2006 , compared to 8.4 mln euro $ 10.9 mln for 2005']\n"
          ]
        },
        {
          "output_type": "stream",
          "name": "stderr",
          "text": [
            "\r 76%|███████▌  | 240/316 [24:37<08:16,  6.53s/it]"
          ]
        },
        {
          "output_type": "stream",
          "name": "stdout",
          "text": [
            "Augmentations:\n",
            "['Nova machinery now ordered will be brought in a newer factories with an year productive capability of 40 000 m3 of overlaid birch plywood', 'Nova mechanically now ordered will be filed in a nueva factories with an annual production talents of 40 000 m3 of overlaid birch plywood', 'Nova mechanised now ordered will be lodged in a newer factories with an year generate capable of 40 000 m3 of overlaid birch plywood', 'Nova mechanised now ordered will be posed in a nueva vegetation with an yr production capability of 40 000 m3 of overlaid birch plywood', 'Nova mechanism now instructed will be filed in a nuevo factories with an year production ability of 40 000 m3 of overlaid birch plywood']\n"
          ]
        },
        {
          "output_type": "stream",
          "name": "stderr",
          "text": [
            "\r 76%|███████▋  | 241/316 [24:50<10:47,  8.64s/it]"
          ]
        },
        {
          "output_type": "stream",
          "name": "stdout",
          "text": [
            "Augmentations:\n",
            "['Finnish banking Pohjola Banks Plc HEL : POH1S reaffirmed now that it will issue a EUROS 40 million GREENBACK 51.2 m index-linked bonded , Pohjola Tutkimuksen Tahdet VIII-2010 Pohjola Survey Shines VIII-2010 , on January 27 , 2010', 'Finns banco Pohjola Bank Plc HEL : POH1S reaffirmed now that it will problems a EUROS 40 million DOLLAR 51.2 m index-linked bond , Pohjola Tutkimuksen Tahdet VIII-2010 Pohjola Verified Star VIII-2010 , on December 27 , 2010', 'Finns banks Pohjola Banks Plc HEL : POH1S corroborating now that it will questions a EUROS 40 million DOLLAR 51.2 m index-linked bond , Pohjola Tutkimuksen Tahdet VIII-2010 Pohjola Inquiry Shines VIII-2010 , on September 27 , 2010', 'Helsinki bank Pohjola Banks Plc HEL : POH1S assert now that it will matter a EUROS 40 trillion DOLLAR 51.2 m index-linked bond , Pohjola Tutkimuksen Tahdet VIII-2010 Pohjola Enquiry Stars VIII-2010 , on Jul 27 , 2010', 'Tampere banque Pohjola Banks Plc HEL : POH1S affirming now that it will issue a EUROS 40 million DOLLAR 51.2 m index-linked bonds , Pohjola Tutkimuksen Tahdet VIII-2010 Pohjola Investigative Stars VIII-2010 , on Juni 27 , 2010']\n"
          ]
        },
        {
          "output_type": "stream",
          "name": "stderr",
          "text": [
            "\r 77%|███████▋  | 242/316 [25:00<11:08,  9.04s/it]"
          ]
        },
        {
          "output_type": "stream",
          "name": "stdout",
          "text": [
            "Augmentations:\n",
            "['YIT filed counter argue against Neste Oil totaling some EUR25m , particularly bases on work carried out under the contractual and additional royalty embark appropriately to prolongation of the draft', 'YIT lodged counter allege against Neste Hydrocarbon totals some EUR25m , foremost bases on cooperation carried out under the contract and additional costs hired suitably to prolongation of the draft', 'YIT lodged counter assert against Neste Oil totaling some EUR25m , foremost groundwork on cooperation made out under the contracts and additional costs perpetrated appropriately to prolongation of the draft', 'YIT lodged counter claim against Neste Oil totaling some EUR25m , primarily bases on partnered brought out under the contractual and additional levies undertaken adequate to prolongation of the draft', 'YIT made counter allege against Neste Petroleum totaling some EUR25m , primarily pillars on cooperatives carried out under the contracting and additional charging incurred appropriately to prolongation of the draft']\n"
          ]
        },
        {
          "output_type": "stream",
          "name": "stderr",
          "text": [
            "\r 77%|███████▋  | 243/316 [25:05<09:16,  7.62s/it]"
          ]
        },
        {
          "output_type": "stream",
          "name": "stdout",
          "text": [
            "Augmentations:\n",
            "[\"The agreement embraces the offer of mayfly heating equipment for LKAB 's novel pellet plant in Kiruna , in northern Sweden\", \"The contract consists the supply of temp heating equipment for LKAB 's new pellet factory in Kiruna , in ireland Sweden\", \"The contract consists the supply of temporary heat tools for LKAB 's new pellet plant in Kiruna , in northern Sweden\", \"The trade embraces the supply of temporary heating device for LKAB 's new lozenge plant in Kiruna , in irish Sweden\", \"The treaties embraces the offer of interim heating equipment for LKAB 's new pellet centers in Kiruna , in northern Sweden\"]\n"
          ]
        },
        {
          "output_type": "stream",
          "name": "stderr",
          "text": [
            "\r 77%|███████▋  | 244/316 [25:05<06:40,  5.57s/it]"
          ]
        },
        {
          "output_type": "stream",
          "name": "stdout",
          "text": [
            "Augmentations:\n",
            "['- Demand for chimney products was lessen than expected , especially in Germany', '- Demand for fireplace product was mitigation than expect , notably in Germany', '- Demand for mantel products was decreases than expected , especially in German', '- Demand for mantel products was downsized than expected , especially in German', '- Demand for mantelpiece products was abate than expecting , especially in Germany']\n"
          ]
        },
        {
          "output_type": "stream",
          "name": "stderr",
          "text": [
            "\r 78%|███████▊  | 245/316 [25:15<07:52,  6.65s/it]"
          ]
        },
        {
          "output_type": "stream",
          "name": "stdout",
          "text": [
            "Augmentations:\n",
            "[\"The building will accomodation , for example , Respecta Oy 's Jyvaskyla premises , as well as other enterprises to be heralding posterior , argues Samuel Koivisto , Steer of Technopolis activities in Jyvaskyla\", \"The building will bedroom , for example , Respecta Oy 's Jyvaskyla premises , as well as other undertaken to be proclaim afterwards , say Samuel Koivisto , Principals of Technopolis operations in Jyvaskyla\", \"The building will maison , for case , Respecta Oy 's Jyvaskyla premises , as well as other ventures to be heralding hind , asserting Samuel Koivisto , Steer of Technopolis operations in Jyvaskyla\", \"The construction will house , for prosecutions , Respecta Oy 's Jyvaskyla venues , as verywell as other companies to be heralding subsequently , says Samuel Koivisto , Director of Technopolis operation in Jyvaskyla\", \"To building will casa , for example , Respecta Oy 's Jyvaskyla premises , as well as other corporations to be announcement posterior , submits Samuel Koivisto , Director of Technopolis function in Jyvaskyla\"]\n"
          ]
        },
        {
          "output_type": "stream",
          "name": "stderr",
          "text": [
            "\r 78%|███████▊  | 246/316 [25:16<05:57,  5.10s/it]"
          ]
        },
        {
          "output_type": "stream",
          "name": "stdout",
          "text": [
            "Augmentations:\n",
            "['Affecto has competed in the agendas for the development of the Norwegian retiring regime since 2007', 'Affecto has competed in the pog for the development of the Norwegian retreats system because 2007', 'Affecto has competed in the program for the development of the Norway pension system since 2007', 'Affecto has competed in the programmed for the evolution of the Norwegian retire system because 2007', 'Affecto has competed in the programming for the development of the Norway retired regimes since 2007']\n"
          ]
        },
        {
          "output_type": "stream",
          "name": "stderr",
          "text": [
            "\r 78%|███████▊  | 247/316 [25:23<06:36,  5.74s/it]"
          ]
        },
        {
          "output_type": "stream",
          "name": "stdout",
          "text": [
            "Augmentations:\n",
            "[\"Budgetary Statements complicate the consolidating financial statements of the Group , the Council of Directors ' Relationship , the Auditors ' Report and the Entrepreneurial Administrative Statements\", \"Finances Statements complicate the consolidating financial declarations of the Group , the Board of Directors ' Reports , the Auditors ' Report and the Entrepreneurial Governance Speech\", \"Financials Declarations complicate the consolidating financially statements of the Group , the Board of Directors ' Report , the Auditors ' Reports and the Societies Executives Statements\", \"Financials Statements complicate the enhancement financially statements of the Group , the Board of Managers ' Report , the Auditors ' Report and the Companies Administered Discourse\", \"Funds Statements complicate the consolidating fundraising statements of the Bundled , the Council of Directors ' Report , the Auditors ' Report and the Companies Admin Statements\"]\n"
          ]
        },
        {
          "output_type": "stream",
          "name": "stderr",
          "text": [
            "\r 78%|███████▊  | 248/316 [25:26<05:29,  4.85s/it]"
          ]
        },
        {
          "output_type": "stream",
          "name": "stdout",
          "text": [
            "Augmentations:\n",
            "['Towards 2009 , net growing was EUR 3 mln and the entrepreneurial paid a dividends of EURO 1.30 apiece', 'Towards 2009 , net grows was EUR 3 million and the corporation remuneration a dividend of EURO 1.30 displays', 'Towards 2009 , net widening was EUR 3 zillion and the company pay a dividend of EURO 1.30 apiece', 'Towards 2009 , wisp gains was EUR 3 millionth and the enterprise paid a payout of EURO 1.30 apiece', 'Towards 2009 , wisp raises was EUR 3 million and the enterprises salary a dividend of EURO 1.30 apiece']\n"
          ]
        },
        {
          "output_type": "stream",
          "name": "stderr",
          "text": [
            "\r 79%|███████▉  | 249/316 [25:27<04:11,  3.76s/it]"
          ]
        },
        {
          "output_type": "stream",
          "name": "stdout",
          "text": [
            "Augmentations:\n",
            "['Athletics equipment sales also progress bah owing to the longstanding winter season', 'Sports equipment sales additionally progressed bah owing to the lang winter season', 'Sports equipment sales elsewhere progressed bah owing to the extended winter season', 'Sports equipment sells also advances alright owing to the prolonged winter season', 'Sports machines sales additionally progressed bene owing to the prolonged winter season']\n"
          ]
        },
        {
          "output_type": "stream",
          "name": "stderr",
          "text": [
            "\r 79%|███████▉  | 250/316 [25:33<04:45,  4.33s/it]"
          ]
        },
        {
          "output_type": "stream",
          "name": "stdout",
          "text": [
            "Augmentations:\n",
            "['According to the company , a rulings in the challenge will be waged in the hap of 2010 , at the tightest , and in the sommers of 2011 , at the another', 'According to the corporate , a determine in the disorder will be effected in the hsia of 2010 , at the nearer , and in the sommer of 2011 , at the lastly', 'According to the corporations , a decide in the problematic will be obtaining in the hsia of 2010 , at the nearer , and in the sommer of 2011 , at the latter', 'Depending to the entrepreneurial , a decide in the hassles will be achieved in the ronald of 2010 , at the closest , and in the summer of 2011 , at the recent', 'Pursuant to the companies , a determines in the difficulties will be performed in the hsia of 2010 , at the tightest , and in the sommer of 2011 , at the latest']\n"
          ]
        },
        {
          "output_type": "stream",
          "name": "stderr",
          "text": [
            "\r 79%|███████▉  | 251/316 [25:34<03:34,  3.30s/it]"
          ]
        },
        {
          "output_type": "stream",
          "name": "stdout",
          "text": [
            "Augmentations:\n",
            "['N-Viro operates processed facilities notwithstanding as bueno as in partnered with municipalities', 'N-Viro operates processed facilities though as good as in cooperation with municipalities', 'N-Viro operates processing facilities again as good as in cooperative with municipalities', 'N-Viro operates processing facilities though as good as in conjunction with towns', 'N-Viro operates processing installing notwithstanding as good as in collaborative with townships']\n"
          ]
        },
        {
          "output_type": "stream",
          "name": "stderr",
          "text": [
            "\r 80%|███████▉  | 252/316 [25:36<03:08,  2.95s/it]"
          ]
        },
        {
          "output_type": "stream",
          "name": "stdout",
          "text": [
            "Augmentations:\n",
            "['The move was aroused by brittle requesting for bois equipment and the ambiguous market situation', 'The move was aroused by brittle wondering for forestry apparatus and the uncertain commercialized situations', 'The move was aroused by brittle wondering for woodlands utensil and the uncertain market situation', 'The move was entice by brittle asks for forestry equipment and the suspect market situation', 'The wiggle was aroused by brittle wondering for timber equipment and the uncertain market situation']\n"
          ]
        },
        {
          "output_type": "stream",
          "name": "stderr",
          "text": [
            "\r 80%|████████  | 253/316 [25:50<06:27,  6.16s/it]"
          ]
        },
        {
          "output_type": "stream",
          "name": "stdout",
          "text": [
            "Augmentations:\n",
            "['Aux Board caused a Paying Commitee with following members : - Sari Baldauf President - Tapio Hintikka - Heikki Westerlund Towards addition , the Board deciding to appoint a Nomination Committees at a later ballpark', 'To Board aroused a Salary Commitee with later members : - Sari Baldauf Presiding - Tapio Hintikka - Heikki Westerlund Towards addition , the Board decision to christening a Nomination Committee at a later stadium', 'To Board caused a Wage Commitee with following members : - Sari Baldauf Chairman - Tapio Hintikka - Heikki Westerlund Into extra , the Board decision to appoints a Nomination Committees at a later ballpark', 'To Board wreaked a Remuneration Commitee with then member : - Sari Baldauf Presiding - Tapio Hintikka - Heikki Westerlund Toward addition , the Boards decision to appoint a Nomination Committee at a later stadium', 'To Boards caused a Recompense Commissions with following members : - Sari Baldauf Presiding - Tapio Hintikka - Heikki Westerlund At add , the Board decision to appoints a Nomination Committee at a later ballpark']\n"
          ]
        },
        {
          "output_type": "stream",
          "name": "stderr",
          "text": [
            "\r 80%|████████  | 254/316 [25:59<07:18,  7.07s/it]"
          ]
        },
        {
          "output_type": "stream",
          "name": "stdout",
          "text": [
            "Augmentations:\n",
            "['Metsaliitto , but , declined its net loss for the second quarter of 2007 to 5.0 billions euro $ 6.9 millionth from 61 million euro $ 83.7 miilion a year ago', 'Metsaliitto , furthermore , lowers its net loss for the second quarter of 2007 to 5.0 mln euro $ 6.9 mln from 61 trillions euro $ 83.7 mln a year ago', 'Metsaliitto , however , cutback its net loss for the secs quarter of 2007 to 5.0 trillion euro $ 6.9 millions from 61 billions euro $ 83.7 mln a annum ago', 'Metsaliitto , whereas , shrinking its net loss for the second quarter of 2007 to 5.0 mln euro $ 6.9 mln from 61 mln euro $ 83.7 miilion a year earlier', 'Metsaliitto , while , downsized its net loss for the second quarter of 2007 to 5.0 mln euros $ 6.9 mln from 61 millionth euro $ 83.7 trillions a year before']\n"
          ]
        },
        {
          "output_type": "stream",
          "name": "stderr",
          "text": [
            "\r 81%|████████  | 255/316 [26:00<05:16,  5.18s/it]"
          ]
        },
        {
          "output_type": "stream",
          "name": "stdout",
          "text": [
            "Augmentations:\n",
            "['During the ending of 2006 , the number of outlets will amplify to 60-70', 'In the closing of 2006 , the number of outlets will redouble to 60-70', 'Into the terminates of 2006 , the number of outlets will rises to 60-70', 'Into the terminating of 2006 , the number of outlets will augmented to 60-70', 'Towards the end of 2006 , the numero of outlets will widen to 60-70']\n"
          ]
        },
        {
          "output_type": "stream",
          "name": "stderr",
          "text": [
            "\r 81%|████████  | 256/316 [26:01<04:00,  4.01s/it]"
          ]
        },
        {
          "output_type": "stream",
          "name": "stdout",
          "text": [
            "Augmentations:\n",
            "[\"The deal will have no gargantuan complications on the acquired company 's equity ratio\", \"The deal will have no startling complications on the procurement company 's equity quota\", \"The deal will have no sublime complication on the buy company 's equity quotient\", \"The handling will have no tremendous complications on the purchased corporations 's equity quotient\", \"The tackle will have no astounding complications on the acquiring company 's equity quota\"]\n"
          ]
        },
        {
          "output_type": "stream",
          "name": "stderr",
          "text": [
            "\r 81%|████████▏ | 257/316 [26:02<03:03,  3.11s/it]"
          ]
        },
        {
          "output_type": "stream",
          "name": "stdout",
          "text": [
            "Augmentations:\n",
            "['The money will be distributed basically over 2011 and 2012 , the company says', 'The money will be distributed essentially over 2011 and 2012 , the entrepreneurial says', 'The money will be impart especially over 2011 and 2012 , the companies stated', 'The money will be outreach basically over 2011 and 2012 , the company alleges', 'The money will be spreading especially over 2011 and 2012 , the corporation said']\n"
          ]
        },
        {
          "output_type": "stream",
          "name": "stderr",
          "text": [
            "\r 82%|████████▏ | 258/316 [26:04<02:44,  2.84s/it]"
          ]
        },
        {
          "output_type": "stream",
          "name": "stdout",
          "text": [
            "Augmentations:\n",
            "[\"Du broker beginning UPM-Kymmene , Stora Enso and Sappi with ` equal-weight ' recommendation and Holmen and Norske Skog with ` underweight ' score\", \"Of mediator induction UPM-Kymmene , Stora Enso and Sappi with ` equal-weight ' recommendation and Holmen and Norske Skog with ` underweight ' evaluation\", \"The brokerage opening UPM-Kymmene , Stora Enso and Sappi with ` equal-weight ' proposed and Holmen and Norske Skog with ` underweight ' assessment\", \"The mediation opened UPM-Kymmene , Stora Enso and Sappi with ` equal-weight ' propositions and Holmen and Norske Skog with ` weights ' ratings\", \"The stockbroker fath UPM-Kymmene , Stora Enso and Sappi with ` equal-weight ' recommendations and Holmen and Norske Skog with ` weight ' rating\"]\n"
          ]
        },
        {
          "output_type": "stream",
          "name": "stderr",
          "text": [
            "\r 82%|████████▏ | 259/316 [26:05<02:04,  2.19s/it]"
          ]
        },
        {
          "output_type": "stream",
          "name": "stdout",
          "text": [
            "Augmentations:\n",
            "['Nova Corporations assisted around 3,000 shoppers in over 100 countries', 'The Company aid nearly 3,000 customer in over 100 countries', 'The Enterprise help circa 3,000 shoppers in over 100 countries', 'The Industries assisted virtually 3,000 shoppers in over 100 nation', 'To Firms assisted nearly 3,000 shoppers in over 100 countries']\n"
          ]
        },
        {
          "output_type": "stream",
          "name": "stderr",
          "text": [
            "\r 82%|████████▏ | 260/316 [26:07<02:04,  2.22s/it]"
          ]
        },
        {
          "output_type": "stream",
          "name": "stdout",
          "text": [
            "Augmentations:\n",
            "['A Helsinki : ELIiV currently signalled SPE of EUR1 .13 for 2009 , an enhancing over EPS of EUR1 .12 in 2008', 'A Helsinki : ELIiV now reported RCH of EUR1 .13 for 2009 , an improvements over EPS of EUR1 .12 in 2008', 'A Helsinki : ELIiV underway advised EPS of EUR1 .13 for 2009 , an amplified over SPE of EUR1 .12 in 2008', 'une Finnish : ELIiV currently reported EPS of EUR1 .13 for 2009 , an reinforced over EPS of EUR1 .12 in 2008', 'une Helsinki : ELIiV now said EPS of EUR1 .13 for 2009 , an augmentation over EPS of EUR1 .12 in 2008']\n"
          ]
        },
        {
          "output_type": "stream",
          "name": "stderr",
          "text": [
            "\r 83%|████████▎ | 261/316 [26:07<01:30,  1.64s/it]"
          ]
        },
        {
          "output_type": "stream",
          "name": "stdout",
          "text": [
            "Augmentations:\n",
            "['Disqualify non-recurring matters , pre-tax takings skyrocketed 45 % to EUR80m', 'Foreclose non-recurring items , pre-tax proceeds skyrocketed 45 % to EUR80m', 'Foreclose non-recurring themes , pre-tax profit skyrocketed 45 % to EUR80m', 'Foreclose non-recurring things , pre-tax takings grew 45 % to EUR80m', 'Preclude non-recurring items , pre-tax incomes skyrocketed 45 % to EUR80m']\n"
          ]
        },
        {
          "output_type": "stream",
          "name": "stderr",
          "text": [
            "\r 83%|████████▎ | 262/316 [26:08<01:13,  1.36s/it]"
          ]
        },
        {
          "output_type": "stream",
          "name": "stdout",
          "text": [
            "Augmentations:\n",
            "['Of combined prominence of the orders is tightest EUR 3mn', 'The blend importance of the edict is tightest EUR 3mn', 'The combined considerable of the wills is tightest EUR 3mn', 'The combined importance of the edict is tightest EUR 3mn', 'The combined importance of the order is tightest EURO 3mn']\n"
          ]
        },
        {
          "output_type": "stream",
          "name": "stderr",
          "text": [
            "\r 83%|████████▎ | 263/316 [26:18<03:29,  3.96s/it]"
          ]
        },
        {
          "output_type": "stream",
          "name": "stdout",
          "text": [
            "Augmentations:\n",
            "['Finnish Banker of +àland rapport its operating profits climbed to EURO 21.3 mn in the second quarter of 2009 from EUROS 6.1 mn in the correspond period in 2008', 'Finnish Banker of +àland reporting its operating earnings highs to EUR 21.3 mn in the ii quarter of 2009 from EUR 6.1 mn in the corresponding timetables in 2008', 'Finnish Banker of +àland reports its operations profits raises to EUR 21.3 manganese in the second quarter of 2009 from EUR 6.1 min in the correspond calendars in 2008', 'Finnish Banking of +àland reports its exploiting takings rise to EUR 21.3 min in the second quarter of 2009 from EUR 6.1 mn in the corresponding schedules in 2008', 'Helsinki Banker of +àland reports its operational revenue surge to EUROS 21.3 min in the second quarter of 2009 from EUR 6.1 mn in the corresponding timing in 2008']\n"
          ]
        },
        {
          "output_type": "stream",
          "name": "stderr",
          "text": [
            "\r 84%|████████▎ | 264/316 [26:22<03:22,  3.90s/it]"
          ]
        },
        {
          "output_type": "stream",
          "name": "stdout",
          "text": [
            "Augmentations:\n",
            "[\"The akbar vendors in the chain 's supermarkets in Finland are biological Pirkka leeks , carrots , eggs , and meat wares\", \"The hardest marketers in the chain 's supermarkets in Finland are biological Pirkka broccoli , nuclei , eggs , and meat merchandise\", \"The hugest sellers in the cord 's supermarkets in Finland are biological Pirkka paprika , carrots , eggs , and meat commodity\", \"The strongest sellers in the chain 's supermarkets in Finns are biology Pirkka onion , carrots , egg , and meat products\", \"The superior traders in the chain 's supermarkets in Finland are biological Pirkka onion , carrots , eggs , and meat products\"]\n"
          ]
        },
        {
          "output_type": "stream",
          "name": "stderr",
          "text": [
            "\r 84%|████████▍ | 265/316 [26:25<03:15,  3.83s/it]"
          ]
        },
        {
          "output_type": "stream",
          "name": "stdout",
          "text": [
            "Augmentations:\n",
            "['The order contains all generating lines for a plywood mill , corporations said in a statement received by Lesprom Networks', 'The order implicates all production lines for a plywood vegetation , corporate said in a statement received by Lesprom Network', 'The order implicates all productivity lines for a plywood plant , corporate said in a discourses received by Lesprom Network', 'The order implies all production pipelines for a plywood mill , society highlighted in a statement received by Lesprom Network', 'To edict implicates all produce lines for a plywood mill , societies said in a statement received by Lesprom Network']\n"
          ]
        },
        {
          "output_type": "stream",
          "name": "stderr",
          "text": [
            "\r 84%|████████▍ | 266/316 [26:29<03:10,  3.81s/it]"
          ]
        },
        {
          "output_type": "stream",
          "name": "stdout",
          "text": [
            "Augmentations:\n",
            "['Atria said its brings would give the Swedish company constants ownership and oversight of its slaughtering and chopped operations', 'Atria said its deliver would rendering the Swedish company sustained ownership and monitoring of its slaughtering and cutting operating', 'Atria said its offer would give the Swedish societies sustained monarchy and control of its slaughtering and severing operational', 'Atria said its offering would give the Swedish company continual owner and control of its slaughtering and cut operations', 'Atria tell its offer would give the Swedish ventures continuation ownership and supervised of its slaughtering and cutting operations']\n"
          ]
        },
        {
          "output_type": "stream",
          "name": "stderr",
          "text": [
            "\r 84%|████████▍ | 267/316 [26:32<02:57,  3.63s/it]"
          ]
        },
        {
          "output_type": "stream",
          "name": "stdout",
          "text": [
            "Augmentations:\n",
            "[\"Of economy statements releasing will be affordable after publishing on the Corporations 's internet pages at www.cargotec.coms\", \"The economics statements liberation will be affordable after publishing on the Company 's lnternet p at sss.cargotec.coms\", \"The economy statements emancipation will be reachable after publications on the Firms 's internet pages at www.cargotec.coms\", \"The economy statements empowerment will be affordable after published on the Company 's cyber pages at www.cargotec.coms\", \"To economy statements liberation will be affordable after publish on the Undertaking 's internet phosphorous at www.cargotec.coms\"]\n"
          ]
        },
        {
          "output_type": "stream",
          "name": "stderr",
          "text": [
            "\r 85%|████████▍ | 268/316 [26:34<02:25,  3.02s/it]"
          ]
        },
        {
          "output_type": "stream",
          "name": "stdout",
          "text": [
            "Augmentations:\n",
            "['Cost economic will then rebounds to some 20 trillions eur a annually from 2007 , OKO tell', 'Costing economic will then soars to some 20 trillion eur a year from 2007 , OKO said', 'Fee economics will then rebounds to some 20 trillions eur a year from 2007 , OKO underlined', 'Price rescue will then upswing to some 20 trillions eur a year from 2007 , OKO said', 'Pricing economics will then rebounds to some 20 millionth eur a yr from 2007 , OKO pointed']\n"
          ]
        },
        {
          "output_type": "stream",
          "name": "stderr",
          "text": [
            "\r 85%|████████▌ | 269/316 [26:37<02:27,  3.14s/it]"
          ]
        },
        {
          "output_type": "stream",
          "name": "stdout",
          "text": [
            "Augmentations:\n",
            "['De writing and published of Lemmink+ñinen -¦ s saga is a continuance of sooner partnerships between Antti Tuuri and the corporate', 'The handwriting and publication of Lemmink+ñinen -¦ s history is a lengthen of earlier cooperating between Antti Tuuri and the corporate', 'The handwriting and publication of Lemmink+ñinen -¦ s history is a lengthening of anterior collaborators between Antti Tuuri and the entrepreneurial', 'The writing and publishes of Lemmink+ñinen -¦ s history is a continuation of rapid cooperate between Antti Tuuri and the enterprise', 'To literary and publication of Lemmink+ñinen -¦ s history is a continuance of prompt partnership between Antti Tuuri and the entrepreneurs']\n"
          ]
        },
        {
          "output_type": "stream",
          "name": "stderr",
          "text": [
            "\r 85%|████████▌ | 270/316 [26:38<01:45,  2.30s/it]"
          ]
        },
        {
          "output_type": "stream",
          "name": "stdout",
          "text": [
            "Augmentations:\n",
            "['Also the developments of online businesses will persisted', 'Also the developments of online businessmen will persevere', 'Alternatively the development of online societies will persevere', 'Independently the development of online businesses will persevere', 'Otherwise the development of online enterprises will persevere']\n"
          ]
        },
        {
          "output_type": "stream",
          "name": "stderr",
          "text": [
            "\r 86%|████████▌ | 271/316 [26:38<01:18,  1.74s/it]"
          ]
        },
        {
          "output_type": "stream",
          "name": "stdout",
          "text": [
            "Augmentations:\n",
            "['De arrangements value volumes to EUR 2.4 billions', 'The contract assess volumes to EUR 2.4 trillion', 'The contractual value volumes to EUR 2.4 zillion', 'The marketed value volumes to EUR 2.4 billions', 'The markets valued volumes to EUR 2.4 billions']\n"
          ]
        },
        {
          "output_type": "stream",
          "name": "stderr",
          "text": [
            "\r 86%|████████▌ | 272/316 [26:55<04:31,  6.17s/it]"
          ]
        },
        {
          "output_type": "stream",
          "name": "stdout",
          "text": [
            "Augmentations:\n",
            "[\"Of sale , which will result in a gaining of some EUR 60 shiu in the second quarter of 2010 for Oriola-KD , affirms the Finnish corporation 's strategy to focus on pharmaceutical wholesale and retail efforts\", \"The sale , which will outcomes in a attained of some EUR 60 thousandth in the second quarter of 2010 for Oriola-KD , contends the Helsinki ventures 's strategy to accent on pharmaceutical wholesale and retail activity\", \"The sale , which will result in a receives of some EUR 60 zillion in the seconds quarter of 2010 for Oriola-KD , contends the Finnish enterprise 's strategy to concentration on pharmacies wholesale and retail steps\", \"The sales , which will result in a obtains of some EUR 60 billions in the sec quarter of 2010 for Oriola-KD , contends the Finnish entrepreneurs 's strategy to concentrated on chemist wholesale and retail action\", \"The sells , which will result in a obtains of some EUR 60 million in the secondly quarter of 2010 for Oriola-KD , contends the Finn entrepreneurs 's strategy to centred on pharmaceutical wholesale and retail attempts\"]\n"
          ]
        },
        {
          "output_type": "stream",
          "name": "stderr",
          "text": [
            "\r 86%|████████▋ | 273/316 [27:18<08:10, 11.40s/it]"
          ]
        },
        {
          "output_type": "stream",
          "name": "stdout",
          "text": [
            "Augmentations:\n",
            "['Finn dough and paper mechanistic craftsman Vaahto Groups Oyj swung to a 1.1 billions euro $ 1.4 miilion net proceeds in the budgetary 2005-06 , halts Augusta 31 , 2006 , from a 249,000 euro $ 319,000 net losing in the tax 2004-05', 'Finn macaroni and paper accoutrements craftsman Vaahto Group Oyj swung to a 1.1 millions euro $ 1.4 millions netted profits in the fiscal 2005-06 , hanging Augusta 31 , 2006 , from a 249,000 euro $ 319,000 net losing in the fiscal 2004-05', 'Finn pulp and paper appliances craftsman Vaahto Clusters Oyj differed to a 1.1 million euro $ 1.4 millions netted profit in the tax 2005-06 , halts Augusta 31 , 2006 , from a 249,000 euro $ 319,000 tenderloin loss in the financials 2004-05', 'Finn pulp and paper machinery craftsman Vaahto Group Oyj swung to a 1.1 billion euro $ 1.4 billion arrests benefit in the taxation 2005-06 , halted Augsburg 31 , 2006 , from a 249,000 euro $ 319,000 wisp loss in the taxation 2004-05', 'Finnish pulp and paper mechanised craftsman Vaahto Cluster Oyj swung to a 1.1 billions euro $ 1.4 shiu net dividend in the fiscal 2005-06 , stop Augusta 31 , 2006 , from a 249,000 euro $ 319,000 net loss in the financials 2004-05']\n"
          ]
        },
        {
          "output_type": "stream",
          "name": "stderr",
          "text": [
            "\r 87%|████████▋ | 274/316 [27:23<06:27,  9.23s/it]"
          ]
        },
        {
          "output_type": "stream",
          "name": "stdout",
          "text": [
            "Augmentations:\n",
            "['An earn-out payment of up to 4.0 miilion euros ( $ 5.3 trillion ) can again be salary relying on Intellibis funding performance in 2007', 'An earn-out payment of up to 4.0 mln eur ( $ 5.3 mln ) can again be paid depending on Intellibis cash performance in 2007', 'An earn-out payment of up to 4.0 trillions euro ( $ 5.3 shiu ) can again be recompense trustful on Intellibis finances performance in 2007', 'An earn-out payout of up to 4.0 billions eur ( $ 5.3 billions ) can again be paid trustful on Intellibis funding performance in 2007', 'An earn-out remittance of up to 4.0 million euro ( $ 5.3 mln ) can again be payroll relying on Intellibis funds performance in 2007']\n"
          ]
        },
        {
          "output_type": "stream",
          "name": "stderr",
          "text": [
            "\r 87%|████████▋ | 275/316 [27:24<04:47,  7.00s/it]"
          ]
        },
        {
          "output_type": "stream",
          "name": "stdout",
          "text": [
            "Augmentations:\n",
            "['During Juni solely , the market regressed by 10.2 percent year-on-year to 19.28 million litres', 'For September sole , the market regressed by 10.2 cent year-on-year to 19.28 zillion liters', 'In January solitude , the market regressed by 10.2 percent year-on-year to 19.28 millions pints', 'In Jul len , the mercado regressed by 10.2 percent year-on-year to 19.28 million quart', 'In September alone , the market slashed by 10.2 percent year-on-year to 19.28 million liters']\n"
          ]
        },
        {
          "output_type": "stream",
          "name": "stderr",
          "text": [
            "\r 87%|████████▋ | 276/316 [27:30<04:27,  6.69s/it]"
          ]
        },
        {
          "output_type": "stream",
          "name": "stdout",
          "text": [
            "Augmentations:\n",
            "['QPR ProcessGuide is achievable as a regime solve with centralized depot and managing of broached content as good as a standalone desktop version ; QPR ProcessGuide Xpress', 'QPR ProcessGuide is attainable as a program solution with centralized storage and administrators of treat content as good as a standalone desktop version ; QPR ProcessGuide Xpress', 'QPR ProcessGuide is attainable as a regime fixes with centrally shopping and governance of dealt content as good as a standalone desktop version ; QPR ProcessGuide Xpress', 'QPR ProcessGuide is attainable as a schemes solve with centralized warehouse and administrative of treatment content as good as a standalone desktop version ; QPR ProcessGuide Xpress', 'QPR ProcessGuide is possible as a system solutions with centralized shop and managerial of considered content as good as a standalone desktop version ; QPR ProcessGuide Xpress']\n"
          ]
        },
        {
          "output_type": "stream",
          "name": "stderr",
          "text": [
            "\r 88%|████████▊ | 277/316 [27:36<04:09,  6.40s/it]"
          ]
        },
        {
          "output_type": "stream",
          "name": "stdout",
          "text": [
            "Augmentations:\n",
            "['The surgery is aspect to a final accords between the part , approvals of their decision-making bodies and endorsement by the Helsinki Compete Authority', 'The surgery is thematic to a final arrangements between the part , approvals of their decision-making formations and endorsement by the Finns Competitiveness Authority', 'The surgery is topic to a definitive accord between the part , approbation of their decision-making bodies and accredited by the Finnish Competitiveness Authority', 'The surgery is topics to a concluding arrangement between the part , permitting of their decision-making bodies and endorsement by the Finnish Suitors Authority', 'The transact is problem to a definitive agreement between the teil , approvals of their decision-making body and endorsement by the Finnish Competition Authority']\n"
          ]
        },
        {
          "output_type": "stream",
          "name": "stderr",
          "text": [
            "\r 88%|████████▊ | 278/316 [27:38<03:09,  4.98s/it]"
          ]
        },
        {
          "output_type": "stream",
          "name": "stdout",
          "text": [
            "Augmentations:\n",
            "[\"The embark of the chat , relative to Glaston 's successfully program , was heralded in October\", \"The launching of the negotiate , relative to Glaston 's effectiveness agenda , was heralded in October\", \"The rookie of the negotiations , relatively to Glaston 's effectiveness programmed , was heralded in October\", \"The start of the negotiations , relate to Glaston 's effectiveness program , was heralded in Nov\", \"The waged of the negotiating , relative to Glaston 's efficiency program , was heralded in October\"]\n"
          ]
        },
        {
          "output_type": "stream",
          "name": "stderr",
          "text": [
            "\r 88%|████████▊ | 279/316 [27:40<02:33,  4.14s/it]"
          ]
        },
        {
          "output_type": "stream",
          "name": "stdout",
          "text": [
            "Augmentations:\n",
            "['According to Gallup Catering and Farm Facts , cows consuming general 99mn kilos in Finns in 2007', 'According to Gallup Comer and Industrialists Facts , cows exertion aggregate 99mn kms in Finland in 2007', 'According to Gallup Edible and Farm Facts , cows consuming totalled 99mn kilometers in Finland in 2007', 'According to Gallup Lunches and Farm Facts , cows consume aggregate 99mn kilometers in Finland in 2007', 'Virtue to Gallup Nutritional and Farm Facts , veal exertion aggregate 99mn kms in Finland in 2007']\n"
          ]
        },
        {
          "output_type": "stream",
          "name": "stderr",
          "text": [
            "\r 89%|████████▊ | 280/316 [27:41<01:52,  3.13s/it]"
          ]
        },
        {
          "output_type": "stream",
          "name": "stdout",
          "text": [
            "Augmentations:\n",
            "['At 2008 , the dealing is likely to bring saved of EUR 20mn-25mn', 'At 2008 , the processing is likely to bring rescues of EUROS 20mn-25mn', 'At 2008 , the tackle is likely to evokes saves of EUROS 20mn-25mn', 'Into 2008 , the deal is maybe to bring save of EUROS 20mn-25mn', 'Under 2008 , the deal is likely to bring savings of EURO 20mn-25mn']\n"
          ]
        },
        {
          "output_type": "stream",
          "name": "stderr",
          "text": [
            "\r 89%|████████▉ | 281/316 [27:43<01:40,  2.86s/it]"
          ]
        },
        {
          "output_type": "stream",
          "name": "stdout",
          "text": [
            "Augmentations:\n",
            "['In the building and home improvement trade , resell lessen by 6.3 % , totalling EUR 154.1 mn', 'In the building and homes improvement trade , sales reduce by 6.3 % , totalling EUR 154.1 manganese', 'In the building and sojourn redouble trade , sales lessen by 6.3 % , totalling EUR 154.1 mn', 'In the constructions and domicile improvement commercial , sales lowers by 6.3 % , totalling EUR 154.1 mn', 'Into the architectural and residency improvement trade , sales dwindled by 6.3 % , totalling EUR 154.1 mn']\n"
          ]
        },
        {
          "output_type": "stream",
          "name": "stderr",
          "text": [
            "\r 89%|████████▉ | 282/316 [27:48<02:00,  3.56s/it]"
          ]
        },
        {
          "output_type": "stream",
          "name": "stdout",
          "text": [
            "Augmentations:\n",
            "[\"At the first quarter of 2008 , Sacanfil 's net salts reached EUR 50.0 mn and its exploited winnings EUR 4.7 mn\", \"At the initially quarter of 2008 , Sacanfil 's tenderloin sales reached EUR 50.0 min and its operating perks EUR 4.7 mn\", \"In the originally quarter of 2008 , Sacanfil 's wisp sales attained EUR 50.0 mn and its exploitation triumphs EUR 4.7 mn\", \"In the primo quarter of 2008 , Sacanfil 's tenderloin sales reached EUR 50.0 manganese and its harnessed benefit EUR 4.7 minnesota\", \"Through the initial quarter of 2008 , Sacanfil 's wisp sales reached EUR 50.0 min and its operating profit EURO 4.7 mn\"]\n"
          ]
        },
        {
          "output_type": "stream",
          "name": "stderr",
          "text": [
            "\r 90%|████████▉ | 283/316 [27:51<01:54,  3.47s/it]"
          ]
        },
        {
          "output_type": "stream",
          "name": "stdout",
          "text": [
            "Augmentations:\n",
            "[\"Nova acquisition will astonishingly increases Kemira 's sales and market posture in the Russian metal industry coatings market\", \"The acquired will paradoxically increasing Kemira 's sales and commercialized position in the Russian metal industry coatings market\", \"The acquisition will abruptly broadening Kemira 's sales and mercado position in the Ross metal industry coatings market\", \"The acquisition will astonishingly widening Kemira 's sales and market outposts in the Russian metal sector coatings market\", \"The buy will appallingly growth Kemira 's sales and market stance in the Ross metal industry coatings market\"]\n"
          ]
        },
        {
          "output_type": "stream",
          "name": "stderr",
          "text": [
            "\r 90%|████████▉ | 284/316 [27:54<01:44,  3.27s/it]"
          ]
        },
        {
          "output_type": "stream",
          "name": "stdout",
          "text": [
            "Augmentations:\n",
            "['A. Le Coq Awesome was developed for the bicentenary of the venture and the marketplace marking , the brewery submits', 'A. Le Coq Special was drafting for the bicentenary of the corporate and the market flagged , the brewery says', 'A. Le Coq Special was elaborated for the bicentenary of the undertakings and the contract flagged , the brewery confirm', 'A. Le Coq Specializing was developed for the bicentenary of the entrepreneurs and the agreements marked , the brewery says', 'una. Le Coq Special was formulate for the bicentenary of the companies and the marketplace flagged , the brewery assures']\n"
          ]
        },
        {
          "output_type": "stream",
          "name": "stderr",
          "text": [
            "\r 90%|█████████ | 285/316 [27:58<01:50,  3.56s/it]"
          ]
        },
        {
          "output_type": "stream",
          "name": "stdout",
          "text": [
            "Augmentations:\n",
            "['Componenta is a metal sector entrepreneurial with worldwide activities and actionable facility localized in Finland , the Netherlands , Sweden and Turkic', 'Componenta is a metal sector entrepreneurial with worldwide operandi and fruitful mill located in Finland , the Antilles , Sweden and Turkic', 'Componenta is a metal sector entrepreneurial with worldwide operate and fruitful plants located in Finland , the Antilles , Sweden and Turkish', 'Componenta is a metallurgy sector company with worldwide operations and fecund plants localized in Finland , the Netherlands , Sweden and Turkic', 'Componenta is a mineral sector corporate with worldwide operate and fruitful plants locate in Finland , the Netherlands , Sweden and Turkic']\n"
          ]
        },
        {
          "output_type": "stream",
          "name": "stderr",
          "text": [
            "\r 91%|█████████ | 286/316 [28:01<01:36,  3.21s/it]"
          ]
        },
        {
          "output_type": "stream",
          "name": "stdout",
          "text": [
            "Augmentations:\n",
            "[\"Du disposal of Autotank will likewise improving Aspo 's capital structures , '' commented Gustav Nyberg , CEO of Aspo\", \"The disposal of Autotank will but consolidating Aspo 's capitalization structure , '' noted Gustav Nyberg , CEOS of Aspo\", \"The disposal of Autotank will likewise enhancing Aspo 's capitalism structured , '' commented Gustav Nyberg , CEO of Aspo\", \"The eradicating of Autotank will elsewhere consolidating Aspo 's capital architecture , '' pointed Gustav Nyberg , CEO of Aspo\", \"To delete of Autotank will also consolidating Aspo 's capitalism structure , '' commented Gustav Nyberg , CEO of Aspo\"]\n"
          ]
        },
        {
          "output_type": "stream",
          "name": "stderr",
          "text": [
            "\r 91%|█████████ | 287/316 [28:30<05:19, 11.03s/it]"
          ]
        },
        {
          "output_type": "stream",
          "name": "stdout",
          "text": [
            "Augmentations:\n",
            "['Du steelmaker said that the chute in benefit was interpret by the abiding economic uncertainty , mixed with the currently drought in bank lending , result in a slashed in requiring for its products as buyers discover it increasingly hardworking to fund operandi', 'Du steelmaker said that the chute in incomes was explained by the incessant economic uncertainty , mixes with the currently driest in bank lending , conclusions in a cutbacks in enquired for its products as customers unearth it increasingly difficult to fund operandi', 'Du steelmaker said that the dips in perks was explained by the unchangeable economic uncertainties , mixture with the currently drought in bank lending , findings in a reductions in invitation for its products as customers unearth it increasingly thorny to fund operandi', 'Du steelmaker said that the fall in profit was explained by the unending economic uncertainty , mixes with the nowadays droughts in banco lending , result in a diminishes in demands for its products as customers detecting it increasingly difficulty to fund operandi', 'Du steelmaker told that the chute in profit was clarify by the constant economic uncertainty , mixed with the currently drought in bank refinance , finding in a declines in asks for its products as customers unearth it increasingly complex to fund operated']\n"
          ]
        },
        {
          "output_type": "stream",
          "name": "stderr",
          "text": [
            "\r 91%|█████████ | 288/316 [28:55<07:06, 15.23s/it]"
          ]
        },
        {
          "output_type": "stream",
          "name": "stdout",
          "text": [
            "Augmentations:\n",
            "['561,470 new shared under 2003 replaces rights plan Packaging company Huhtamaki Oyj reported on Monday that a utter of 561,470 new shares of the company have been broadcasted basics on shares subscriptions under its 2003 replaced right plan', '561,470 new shares under 2003 supersede rights planning Bagged enterprise Huhtamaki Oyj reported on Saturday that a unmitigated of 561,470 newest share of the company have been dispensed base on interchange subscriptions under its 2003 superseded right plan', '561,470 new traded under 2003 replacing rights agendas Packet enterprise Huhtamaki Oyj reported on Saturday that a unmitigated of 561,470 new exchanging of the company have been dispensed base on share subscriptions under its 2003 option right regimen', '561,470 new traded under 2003 replacing rights plan Kits societies Huhtamaki Oyj knowledgeable on Saturday that a unmitigated of 561,470 nouveau shares of the firms have been dispensed foundations on share subscriptions under its 2003 alternates right scheme', '561,470 newer shares under 2003 replacement rights plan Packaging industries Huhtamaki Oyj reported on Saturday that a unmitigated of 561,470 nuevo shares of the company have been issued base on interchange subscriptions under its 2003 replacement right blueprint']\n"
          ]
        },
        {
          "output_type": "stream",
          "name": "stderr",
          "text": [
            "\r 91%|█████████▏| 289/316 [29:03<05:54, 13.11s/it]"
          ]
        },
        {
          "output_type": "stream",
          "name": "stdout",
          "text": [
            "Augmentations:\n",
            "['Finland KCI Konecranes has been allotted an warrant for four hot metallic ladle cranes by Indio steel fabrication Bhushan Steel & Bands to be delivered in 2007', 'Finn KCI Konecranes has been bestowed an injunction for four warming metallurgy ladle cranes by India steel manufacturer Bhushan Steel & Slivers to be delivered in 2007', 'Finnish KCI Konecranes has been afforded an injunction for four hot metallic ladle cranes by Indian steel grower Bhushan Steel & Ribbon to be presented in 2007', 'Finnish KCI Konecranes has been auctioned an injunction for quatro hottie metallic ladle cranes by Indians steel manufacturer Bhushan Steel & Bands to be rendered in 2007', 'Finnish KCI Konecranes has been awarded an confined for quatro sexiest metal ladle cranes by Indies steel manufacturer Bhushan Steel & Strip to be delivered in 2007']\n"
          ]
        },
        {
          "output_type": "stream",
          "name": "stderr",
          "text": [
            "\r 92%|█████████▏| 290/316 [29:06<04:18,  9.93s/it]"
          ]
        },
        {
          "output_type": "stream",
          "name": "stdout",
          "text": [
            "Augmentations:\n",
            "[\"De Packets 's turnover in 2006 was EUROS 39.2 miilion , and exploiting gains was EUR 3.9 millionth\", \"The Cluster 's turnover in 2006 was EUR 39.2 miilion , and operate gains was EUR 3.9 millionth\", \"The Group 's turnover in 2006 was EUR 39.2 billion , and functioned climbs was EURO 3.9 millionth\", \"The Group 's turnover in 2006 was EURO 39.2 zillion , and exploited winnings was EUR 3.9 millionth\", \"The Grupo 's turnover in 2006 was EURO 39.2 millions , and operating gains was EUR 3.9 millionth\"]\n"
          ]
        },
        {
          "output_type": "stream",
          "name": "stderr",
          "text": [
            "\r 92%|█████████▏| 291/316 [29:15<04:06,  9.84s/it]"
          ]
        },
        {
          "output_type": "stream",
          "name": "stdout",
          "text": [
            "Augmentations:\n",
            "['De six beaters logs a 5.2 percent exacerbate in domestic casket sale last yearly to 270.21 million liters , from 256.88 miilion litres selling in 2005', 'Nova six beaters record a 5.2 percent deteriorating in indoor casket sale latter annually to 270.21 zillion liters , from 256.88 million liters sold in 2005', 'Nova six breweries log a 5.2 percent aggravates in domestic casket sale latter annually to 270.21 billions liters , from 256.88 million liters sold in 2005', 'The six beaters record a 5.2 percent aggravate in indoor casket sale last annually to 270.21 billions litre , from 256.88 mln liters sold in 2005', 'The sixes beaters logs a 5.2 percent worsens in indoors casket sale last everyyear to 270.21 billion liters , from 256.88 million liters sold in 2005']\n"
          ]
        },
        {
          "output_type": "stream",
          "name": "stderr",
          "text": [
            "\r 92%|█████████▏| 292/316 [29:26<04:04, 10.17s/it]"
          ]
        },
        {
          "output_type": "stream",
          "name": "stdout",
          "text": [
            "Augmentations:\n",
            "[\"Net sales of Kyro 's enormous enterprising domain , Glaston Technologies , a constructor of glasses processing machines , slash to EUR 161.5 mn from EUR 164.1 mn in January-September 2005\", \"Net sales of Kyro 's grandes firms area , Glaston Technologies , a manufacturer of goggles treatment machines , downward to EUR 161.5 mn from EURO 164.1 mn in January-September 2005\", \"Net sales of Kyro 's main business fields , Glaston Technology , a growers of glass treated equipment , declining to EUR 161.5 mn from EUR 164.1 mn in January-September 2005\", \"Net sales of Kyro 's main firms zones , Glaston Technologies , a manufacturer of glasses processing device , mitigate to EURO 161.5 mn from EUR 164.1 mn in January-September 2005\", \"Net soiled of Kyro 's main business zone , Glaston Technology , a producer of glass processing appliances , minimise to EUR 161.5 mn from EUR 164.1 mn in January-September 2005\"]\n"
          ]
        },
        {
          "output_type": "stream",
          "name": "stderr",
          "text": [
            "\r 93%|█████████▎| 293/316 [29:29<03:04,  8.02s/it]"
          ]
        },
        {
          "output_type": "stream",
          "name": "stdout",
          "text": [
            "Augmentations:\n",
            "['In January-June 2010 , diluted losing paras shared reached at EUR0 .3 versus EUR0 .1 in the cranking half of 2009', 'In January-June 2010 , diluted loss by shared reached at EUR0 .3 vs EUR0 .1 in the commencing half of 2009', 'In January-June 2010 , diluted losses paras exchange attained at EUR0 .3 versus EUR0 .1 in the onset half of 2009', 'Into January-June 2010 , diluted loss paras commons earned at EUR0 .3 versus EUR0 .1 in the outset average of 2009', 'Into January-June 2010 , weakened loss paras shared attained at EUR0 .3 versus EUR0 .1 in the starter half of 2009']\n"
          ]
        },
        {
          "output_type": "stream",
          "name": "stderr",
          "text": [
            "\r 93%|█████████▎| 294/316 [29:45<03:47, 10.35s/it]"
          ]
        },
        {
          "output_type": "stream",
          "name": "stdout",
          "text": [
            "Augmentations:\n",
            "[\"The company 's transportation companies is made through Florida Boulder & Storehouse Lines , which is a Southeastern transportation entrepreneurial concentrations in the carrying by motorized carrier of liquid and drier bulk commodities\", \"The company 's transportation venture is accompli through Florida Rock & Storehouse Lines , which is a Southeastern transportation corporate accent in the ferrying by automobiles carrier of liquid and drier bulk foods\", \"The company 's transportation venture is doing through Fla Rock & Depository Piping , which is a Southeastern transportation corporations spotlight in the hauling by motor carrier of liquid and drier wholesale commodities\", \"The firms 's transportation corporations is accomplished through Florida Rattle & Reservoir Lines , which is a Eastern transportation entrepreneurial spotlight in the carriage by automotive carrier of liquid and desiccated bulk commodities\", \"The venture 's transportation venture is accomplished through Florida Rock & Reservoir Pipelines , which is a Eastward transportation companies concentrations in the hauling by automobiles carrier of liquid and dried bulk commodities\"]\n"
          ]
        },
        {
          "output_type": "stream",
          "name": "stderr",
          "text": [
            "\r 93%|█████████▎| 295/316 [29:45<02:34,  7.34s/it]"
          ]
        },
        {
          "output_type": "stream",
          "name": "stdout",
          "text": [
            "Augmentations:\n",
            "['`` Ask for jocks equipment was bueno in 2005', '`` Asked for athletes accoutrements was buena in 2005', '`` Call for sportsmen equipment was bueno in 2005', '`` Calls for athletes apparatus was bueno in 2005', '`` Wondering for athletes machines was bueno in 2005']\n"
          ]
        },
        {
          "output_type": "stream",
          "name": "stderr",
          "text": [
            "\r 94%|█████████▎| 296/316 [29:46<01:46,  5.30s/it]"
          ]
        },
        {
          "output_type": "stream",
          "name": "stdout",
          "text": [
            "Augmentations:\n",
            "['The agreement consists invites maintenance and support services', 'The agreement embraces asked conservation and support services', 'The contracts embraces demand maintenance and support services', 'The marketplace embraces requested keeping and support services', 'The prenup embraces prayed maintenance and support services']\n"
          ]
        },
        {
          "output_type": "stream",
          "name": "stderr",
          "text": [
            "\r 94%|█████████▍| 297/316 [29:49<01:29,  4.70s/it]"
          ]
        },
        {
          "output_type": "stream",
          "name": "stdout",
          "text": [
            "Augmentations:\n",
            "['Nova bank VTB24 delivers borrower loans to buy apartments in the knotty at 11-13 % per annually in rupees', 'The bank VTB24 affords mortgage loaning to buy apartments in the complicating at 11-13 % per annually in rupees', 'The bank VTB24 entails loans loans to acquisition apartments in the complex at 11-13 % per annum in rupees', 'The bank VTB24 poses refinance loans to procured villas in the intricate at 11-13 % per annually in rupees', 'The banker VTB24 brings refinance loans to procure condominium in the complex at 11-13 % per yearly in rupees']\n"
          ]
        },
        {
          "output_type": "stream",
          "name": "stderr",
          "text": [
            "\r 94%|█████████▍| 298/316 [29:51<01:05,  3.67s/it]"
          ]
        },
        {
          "output_type": "stream",
          "name": "stdout",
          "text": [
            "Augmentations:\n",
            "['Around 2008 , AVC Systemhaus had incarcerate sales of EUR 10 zillion USD 7.1 m', 'At 2008 , AVC Systemhaus had convict sales of EUR 10 millionth USD 7.1 m', 'In 2008 , AVC Systemhaus had nabbed sales of EUROS 10 mln TICKETS 7.1 m', 'Throughout 2008 , AVC Systemhaus had netted sales of EUR 10 millions USD 7.1 m', 'Travers 2008 , AVC Systemhaus had nabbed sales of EUR 10 millions USD 7.1 m']\n"
          ]
        },
        {
          "output_type": "stream",
          "name": "stderr",
          "text": [
            "\r 95%|█████████▍| 299/316 [29:56<01:10,  4.15s/it]"
          ]
        },
        {
          "output_type": "stream",
          "name": "stdout",
          "text": [
            "Augmentations:\n",
            "['Loss after funded matters totalled EUR 9.7 mn , compared to a profit of EUR 1.3 min in the corresponding dates in 2008', 'Loss after funded question amounted EUR 9.7 mn , compare to a winnings of EUR 1.3 mn in the corresponding timetables in 2008', 'Loss after funds items aggregate EUR 9.7 min , comparing to a profit of EURO 1.3 mn in the corresponding schedule in 2008', 'Losses after financials subject totalled EUR 9.7 mn , compare to a profit of EUR 1.3 minnesota in the corresponding calendars in 2008', 'Losses after financing items accounted EUR 9.7 mn , compare to a profit of EUR 1.3 mn in the correspond calendars in 2008']\n"
          ]
        },
        {
          "output_type": "stream",
          "name": "stderr",
          "text": [
            "\r 95%|█████████▍| 300/316 [30:28<03:18, 12.42s/it]"
          ]
        },
        {
          "output_type": "stream",
          "name": "stdout",
          "text": [
            "Augmentations:\n",
            "['8 May 2009 - Finland fluid handle products and diagnostic test systems growers Biohit Oyj ( HEL : BIOBV ) announces evening ( 8 May 2009 ) its wisp loss dwindled to EUR0 .1 m ( USD0 .14 m ) for the firstly quarter of 2009 from EUR0 .4 m for the same hours of 2008', '8 May 2009 - Finnish fluid handling products and diagnosed essays mechanism makers Biohit Oyj ( HEL : BIOBV ) said today ( 8 May 2009 ) its wisp loss fell to EUR0 .1 m ( USD0 .14 m ) for the initially quarter of 2009 from EUR0 .4 m for the same dates of 2008', '8 May 2009 - Finnish fluid treat products and diagnostic proofs diets grower Biohit Oyj ( HEL : BIOBV ) say today ( 8 May 2009 ) its net loss dwindled to EUR0 .1 m ( USD0 .14 m ) for the initially quarter of 2009 from EUR0 .4 m for the same timetables of 2008', '8 Maybe 2009 - Finnish liquids handling products and diagnostic essays plans producers Biohit Oyj ( HEL : BIOBV ) testified tuesday ( 8 May 2009 ) its wisp loss lowered to EUR0 .1 m ( USD0 .14 m ) for the originally quarter of 2009 from EUR0 .4 m for the same calendars of 2008', '8 Probable 2009 - Finnish fluid handling products and diagnostics essays schemes setters Biohit Oyj ( HEL : BIOBV ) pointed sunday ( 8 May 2009 ) its net loss slipped to EUR0 .1 m ( USD0 .14 m ) for the primo quarter of 2009 from EUR0 .4 m for the same period of 2008']\n"
          ]
        },
        {
          "output_type": "stream",
          "name": "stderr",
          "text": [
            "\r 95%|█████████▌| 301/316 [30:45<03:27, 13.83s/it]"
          ]
        },
        {
          "output_type": "stream",
          "name": "stdout",
          "text": [
            "Augmentations:\n",
            "['De upper degree of the veneer yield is calculated , based on the dimensions and grading of the veneer commodities , as good as by iterating the premises of the peeling axes and imitates the peeling process', 'The superior degrees of the veneer yield is computations , base on the dimensions and tier of the veneer goods , as well as by iterating the venues of the peeling axes and falsify the peeling process', 'The superior grading of the veneer yield is calculated , foundation on the dimensions and grade of the veneer products , as good as by iterating the venues of the peeling axle and reproduced the peeling process', 'The tertiary degrees of the veneer yield is appraisals , groundwork on the dimensions and grades of the veneer commodities , as bestest as by iterating the venues of the peeling axes and emulate the peeling procedural', 'The top level of the varnish yield is estimated , based on the dimensions and degree of the veneer merchandise , as good as by iterating the spaces of the peeling axes and emulate the peeling treat']\n"
          ]
        },
        {
          "output_type": "stream",
          "name": "stderr",
          "text": [
            "\r 96%|█████████▌| 302/316 [30:49<02:34, 11.05s/it]"
          ]
        },
        {
          "output_type": "stream",
          "name": "stdout",
          "text": [
            "Augmentations:\n",
            "['Drug commercialized in Pole Universally Enquiry & Data Services published recently a market analytical about the drug contracted in Poland', 'Drugs mercado in Pole Universally Inquiries & Data Services published recently a market analysis about the medical contracted in Poland', 'Medicated commercial in Pole Universally Studies & Data Services publication recently a market analysis about the drug contracted in Poland', 'Pharmaceutical market in Pole Universally Research & Data Serving publicized recently a market analytical about the drug contracted in Polaco', 'Pharmaceutical market in Poles International Research & Data Service published recently a commercial analysis about the drug contracted in Poland']\n"
          ]
        },
        {
          "output_type": "stream",
          "name": "stderr",
          "text": [
            "\r 96%|█████████▌| 303/316 [30:51<01:46,  8.18s/it]"
          ]
        },
        {
          "output_type": "stream",
          "name": "stdout",
          "text": [
            "Augmentations:\n",
            "['De brainchild of rescued electrified in data transfered is still a nouveau one', 'De inkling of ransoms electrified in data transfered is however a nouveau one', 'Nova inkling of saving electrified in data transfered is even a nouveau uno', 'The inkling of saving electrified in data transfers is still a novel eden', 'The inkling of saving electrified in particulars transfered is likewise a nouvelle one']\n"
          ]
        },
        {
          "output_type": "stream",
          "name": "stderr",
          "text": [
            "\r 96%|█████████▌| 304/316 [30:51<01:10,  5.88s/it]"
          ]
        },
        {
          "output_type": "stream",
          "name": "stdout",
          "text": [
            "Augmentations:\n",
            "['During his current position , Manty has collaboration since 1996', 'In his current position , Manty has cooperating after 1996', 'In his currently position , Manty has cooperating since 1996', 'In his presently position , Manty has works since 1996', 'In his presently views , Manty has cooperating since 1996']\n"
          ]
        },
        {
          "output_type": "stream",
          "name": "stderr",
          "text": [
            "\r 97%|█████████▋| 305/316 [30:52<00:48,  4.39s/it]"
          ]
        },
        {
          "output_type": "stream",
          "name": "stdout",
          "text": [
            "Augmentations:\n",
            "['`` Ils envy my credit postcard informations and my personal details', '`` They begrudge my credit cartes informations and my personal features', '`` They envy my appropriation graph informations and my personal information', '`` They envy my appropriations cards information and my personal details', '`` They jealousy my credit chart informations and my personal details']\n"
          ]
        },
        {
          "output_type": "stream",
          "name": "stderr",
          "text": [
            "\r 97%|█████████▋| 306/316 [30:55<00:39,  3.95s/it]"
          ]
        },
        {
          "output_type": "stream",
          "name": "stdout",
          "text": [
            "Augmentations:\n",
            "['Sale surged 10 pct to 566 zillion eur on the back of pompous quantity and propitious currency repercussions', 'Sales hiked 10 pct to 566 millionth eur on the back of pompous volume and propitious currencies complications', 'Sales raise 10 pct to 566 trillions eur on the back of pompous volume and propitious currency complications', 'Sales risen 10 pct to 566 trillion eur on the back of pompous volume and propitious currency consequence', 'Sell raises 10 pct to 566 mln eur on the back of pompous volume and positive currency impacting']\n"
          ]
        },
        {
          "output_type": "stream",
          "name": "stderr",
          "text": [
            "\r 97%|█████████▋| 307/316 [31:21<01:33, 10.42s/it]"
          ]
        },
        {
          "output_type": "stream",
          "name": "stdout",
          "text": [
            "Augmentations:\n",
            "['( ADP News ) - Elf 4 , 2009 - Finnish broadband data interacting system and solutions company Teleste Oyj ( HEL : TLT1V ) stated current its tenderloin earnings falls to EUR 5.5 trillions ( USD 7.2 m ) for 2008 from EUR 9.4 million for 20', '( ADP News ) - Feb 4 , 2009 - Finnish broadband data interactions systems and solutions business Teleste Oyj ( HEL : TLT1V ) told hoy its filet profit mitigating to EUR 5.5 billion ( USD 7.2 m ) for 2008 from EUR 9.4 zillion for 20', '( ADP News ) - Feb 4 , 2009 - Finns broadband data communication systems and solutions company Teleste Oyj ( HEL : TLT1V ) avowed today its net profit reducing to EUR 5.5 trillion ( DOLLARS 7.2 m ) for 2008 from EUR 9.4 trillion for 20', '( ADP News ) - Leprechaun 4 , 2009 - Finnish broadband data communicates schematics and solutions ventures Teleste Oyj ( HEL : TLT1V ) said today its netted earnings decline to EUR 5.5 million ( USD 7.2 m ) for 2008 from EUR 9.4 billion for 20', '( ADP Novice ) - Feb 4 , 2009 - Finnish broadband data communication systems and solutions businesses Teleste Oyj ( HEL : TLT1V ) said presently its wisp benefit receding to EUR 5.5 zillion ( USD 7.2 m ) for 2008 from EUR 9.4 thousandth for 20']\n"
          ]
        },
        {
          "output_type": "stream",
          "name": "stderr",
          "text": [
            "\r 97%|█████████▋| 308/316 [31:28<01:15,  9.41s/it]"
          ]
        },
        {
          "output_type": "stream",
          "name": "stdout",
          "text": [
            "Augmentations:\n",
            "['Earns before charging narrowed by 9 % to EUR 187.8 mn in the first nine months of 2008 , compared to EUR 207.1 mn a year preceding', 'Gaining before taxing slumps by 9 % to EURO 187.8 manganese in the first nine months of 2008 , compared to EUR 207.1 mn a year preceding', 'Interests before taxes shortening by 9 % to EUR 187.8 mn in the premiere nine month of 2008 , comparative to EUR 207.1 mn a yearly preceding', 'Profit before fee fallen by 9 % to EUR 187.8 minnesota in the introductory nine months of 2008 , comparisons to EUR 207.1 min a year earlier', 'Profit before taxes diminishing by 9 % to EUROS 187.8 mn in the initiating neuf months of 2008 , compared to EUR 207.1 mn a year anterior']\n"
          ]
        },
        {
          "output_type": "stream",
          "name": "stderr",
          "text": [
            "\r 98%|█████████▊| 309/316 [31:31<00:54,  7.71s/it]"
          ]
        },
        {
          "output_type": "stream",
          "name": "stdout",
          "text": [
            "Augmentations:\n",
            "['Du Web-Marela petition tampered invitations to quote , quotation comparisons , agreements , bribed , billed inspectors , inventory executive , and deliveries', 'Du Web-Marela praying tampered invitations to quote , quote comparisons , treaties , bribed , invoices inspectors , inventory management , and deliveries', 'The Web-Marela petition tampered invitations to quote , quoted comparing , contract , bribed , invoice inspectors , inventories management , and deliveries', 'The Web-Marela petition tampered invitations to quote , quotes compares , agreement , bribed , invoice inspectors , inventory management , and deliveries', 'The Web-Marela petition weathered invitations to quote , quote comparisons , contract , procured , invoice inspectors , inventory administering , and deliveries']\n"
          ]
        },
        {
          "output_type": "stream",
          "name": "stderr",
          "text": [
            "\r 98%|█████████▊| 310/316 [31:45<00:56,  9.34s/it]"
          ]
        },
        {
          "output_type": "stream",
          "name": "stdout",
          "text": [
            "Augmentations:\n",
            "[\"De floor zone of the Yliopistonrinne project will be 7,900 sq m and the building 's bruto area will total 12,800 lp m. una entire 25.1 % of the facilities have been leaving\", \"Nova floor area of the Yliopistonrinne projects will be 7,900 sq m and the building 's bruto zoning will everything 12,800 sq m. A totality 25.1 % of the facilities have been letting\", \"Nova floor realm of the Yliopistonrinne project will be 7,900 sq m and the constructing 's gross area will unmitigated 12,800 sq m. A reached 25.1 % of the centres have been left\", \"The floor area of the Yliopistonrinne project will be 7,900 sq m and the constructed 's gross kingdoms will aggregate 12,800 sq m. una generals 25.1 % of the facilities have been leaving\", \"The floor domains of the Yliopistonrinne draft will be 7,900 sq m and the building 's brute fields will absolute 12,800 sq m. A totalled 25.1 % of the facilities have been let\"]\n"
          ]
        },
        {
          "output_type": "stream",
          "name": "stderr",
          "text": [
            "\r 98%|█████████▊| 311/316 [31:50<00:40,  8.16s/it]"
          ]
        },
        {
          "output_type": "stream",
          "name": "stdout",
          "text": [
            "Augmentations:\n",
            "[\"We accomplishment in croissant our market exchanging of sold apartment '' , observations Signior Kari Kauniskangas , Heads of YIT International Constructs Services\", \"We achievement in croissant our market exchanging of sold apartments '' , comments Mr Carrey Kauniskangas , Chief of YIT International Erect Services\", \"We succeeded in croissant our market exchanges of sold apartment '' , comments Sirs Curry Kauniskangas , Leaders of YIT International Erect Services\", \"We succeeded in croissant our market interchange of sold condo '' , comments Mr Kari Kauniskangas , Heads of YIT Globally Erect Serving\", \"We succeeded in croissant our market sharing of sold apartment '' , comments Reimer Kari Kauniskangas , Heads of YIT Worldwide Constructing Services\"]\n"
          ]
        },
        {
          "output_type": "stream",
          "name": "stderr",
          "text": [
            "\r 99%|█████████▊| 312/316 [31:50<00:23,  5.88s/it]"
          ]
        },
        {
          "output_type": "stream",
          "name": "stdout",
          "text": [
            "Augmentations:\n",
            "[\"Sanoma News ' advertising sales reduce by 22 % during the yearly\", \"Sanoma News ' advertising sales slumps by 22 % during the yr\", \"Sanoma News ' announcement salts shortening by 22 % during the year\", \"Sanoma News ' publicity sales lessened by 22 % during the year\", \"Sanoma Novice ' advertising sales shortening by 22 % during the year\"]\n"
          ]
        },
        {
          "output_type": "stream",
          "name": "stderr",
          "text": [
            "\r 99%|█████████▉| 313/316 [31:55<00:16,  5.46s/it]"
          ]
        },
        {
          "output_type": "stream",
          "name": "stdout",
          "text": [
            "Augmentations:\n",
            "[\"Aux monetary influences is estimated to be an annum improved of EUR2 .0 m in the division 's outcomes , as of fiscal year 2008\", \"Du financial impact is calculate to be an annual enhancement of EUR2 .0 m in the division 's conclusions , as of taxation year 2008\", \"Du funds affected is estimated to be an annual improved of EUR2 .0 m in the division 's outcomes , as of finances year 2008\", \"The moneys impacting is estimated to be an annum enhancement of EUR2 .0 m in the schism 's results , as of fiscal year 2008\", \"To financial results is estimated to be an annual enhances of EUR2 .0 m in the division 's impacts , as of financials year 2008\"]\n"
          ]
        },
        {
          "output_type": "stream",
          "name": "stderr",
          "text": [
            "\r 99%|█████████▉| 314/316 [31:59<00:10,  5.06s/it]"
          ]
        },
        {
          "output_type": "stream",
          "name": "stdout",
          "text": [
            "Augmentations:\n",
            "[\"Finn Kemira Cluster 's CEO , Lasse Kurkilahti , says the Groups 's structural reorganisation will unceasingly for at weakest a year\", \"Finnish Kemira Cluster 's CEO , Lasse Kurkilahti , affirms the Group 's systematic reorganisation will remained for at weakest a year\", \"Finnish Kemira Clustered 's CEO , Lasse Kurkilahti , say the Grupo 's structural reorganisation will uninterrupted for at weakest a year\", \"Finnish Kemira Group 's CEO , Lasse Kurkilahti , say the Group 's structure reorganisation will persistent for at lesser a year\", \"Finnish Kemira Grouping 's CEO , Lasse Kurkilahti , says the Panels 's structural reorganisation will continuing for at less a year\"]\n"
          ]
        },
        {
          "output_type": "stream",
          "name": "stderr",
          "text": [
            "\r100%|█████████▉| 315/316 [32:13<00:07,  7.84s/it]"
          ]
        },
        {
          "output_type": "stream",
          "name": "stdout",
          "text": [
            "Augmentations:\n",
            "[\"Finland prints circuit boards ( PCBs ) industrial Aspocomp Grupo Oyj confirm on December 4 , 2006 it named Enrique Gilchrist top sex chair of the group 's Asian operational , as of Janeiro 8 , 2007\", \"Finn printed circuit boards ( PCBs ) industrialists Aspocomp Grupo Oyj affirms on Jul 4 , 2006 it named Enrique Gilchrist upper immodest president of the groups 's Asian operative , as of Janeiro 8 , 2007\", \"Finnish printed racetrack boards ( PCBs ) manufacturer Aspocomp Grupo Oyj affirms on Juni 4 , 2006 it named Enrique Gilchrist top lewd presidential of the groupings 's Asiatic operations , as of Janeiro 8 , 2007\", \"Finnish printout racetrack boards ( PCBs ) maker Aspocomp Grupo Oyj highlights on February 4 , 2006 it named Henryk Gilchrist top immodest chairs of the group 's Asian operations , as of Janeiro 8 , 2007\", \"Finns printed circuit boards ( PCBs ) producers Aspocomp Group Oyj affirms on December 4 , 2006 it named Enrique Gilchrist supremo obscene presidente of the panel 's Asian operating , as of Janeiro 8 , 2007\"]\n"
          ]
        },
        {
          "output_type": "stream",
          "name": "stderr",
          "text": [
            "100%|██████████| 316/316 [32:22<00:00,  6.15s/it]"
          ]
        },
        {
          "output_type": "stream",
          "name": "stdout",
          "text": [
            "Augmentations:\n",
            "['Amendments in the market situation and tougher costing competition have radically mitigation demand for bread packaging manufactures at the Kauhava plant , according to the company', 'Change in the market situation and tougher price competitiveness have impressively minimise demand for bread packaging manufactured at the Kauhava plant , according to the company', 'Changes in the market situation and tougher price competitiveness have immeasurably slumps requested for bread packaging manufactured at the Kauhava plant , according to the company', 'Changes in the traded situation and tougher price competitive have freakishly downsizing demand for bread bundle manufactured at the Kauhava plant , according to the company', 'Fourths in the market situation and tougher price competition have substantially diminishing demand for bread bundles manufactured at the Kauhava vegetation , complying to the company']\n"
          ]
        },
        {
          "output_type": "stream",
          "name": "stderr",
          "text": [
            "\n"
          ]
        }
      ],
      "source": [
        "from textattack.augmentation.augmenter import Augmenter\n",
        "from textattack.constraints.pre_transformation.stopword_modification import StopwordModification\n",
        "from textattack.shared.word_embeddings import WordEmbedding\n",
        "from textattack.augmentation import WordNetAugmenter\n",
        "from textattack.transformations import WordSwapEmbedding\n",
        "from textattack.constraints.overlap.max_words_perturbed import MaxWordsPerturbed\n",
        "from textattack.constraints.semantics.word_embedding_distance import WordEmbeddingDistance\n",
        "import csv\n",
        "from tqdm import tqdm\n",
        "\n",
        "\n",
        "#   (search_method): ImprovedGeneticAlgorithm(\n",
        "#     (pop_size):  60\n",
        "#     (max_iters):  20\n",
        "#     (temp):  0.3\n",
        "#     (give_up_if_no_improvement):  False\n",
        "#     (post_crossover_check):  False\n",
        "#     (max_crossover_retries):  20\n",
        "#     (max_replace_times_per_index):  5\n",
        "#   )\n",
        "#   (goal_function):  UntargetedClassification\n",
        "#   (transformation):  WordSwapEmbedding(\n",
        "#     (max_candidates):  50\n",
        "#     (embedding):  WordEmbedding\n",
        "#   )\n",
        "#   (constraints): \n",
        "#     (0): MaxWordsPerturbed(\n",
        "#         (max_percent):  0.2\n",
        "#         (compare_against_original):  True\n",
        "#       )\n",
        "#     (1): WordEmbeddingDistance(\n",
        "#         (embedding):  WordEmbedding\n",
        "#         (max_mse_dist):  0.5\n",
        "#         (cased):  False\n",
        "#         (include_unknown_words):  True\n",
        "#         (compare_against_original):  False\n",
        "#       )\n",
        "#     (2): StopwordModification\n",
        "#   (is_black_box):  True\n",
        "# ) \n",
        "\n",
        "\n",
        "transformation = WordSwapEmbedding(max_candidates=50)\n",
        "constraints = [MaxWordsPerturbed(max_percent=0.2, compare_against_original=True),\n",
        "               WordEmbeddingDistance(max_mse_dist=0.5, cased=False, include_unknown_words=True, compare_against_original=False),\n",
        "               StopwordModification()]\n",
        "               \n",
        "augmenter = Augmenter(transformation=transformation, constraints=constraints, pct_words_to_swap=0.4, transformations_per_example=5)\n",
        "# create dataframe\n",
        "f = csv.writer(open(\"improved_genetic_algo_augmented.csv\", \"w\"))\n",
        "# Write CSV Header\n",
        "f.writerow([\"id\", \"sentence\", \"sentiment\"])\n",
        "idx = 0\n",
        "\n",
        "for s, label in tqdm(fpb100_list):\n",
        "  results = augmenter.augment(s)\n",
        "  f.writerow([idx, s, label])\n",
        "  idx += 1\n",
        "  for augmented_s in results:\n",
        "    f.writerow([idx, augmented_s, label])\n",
        "    idx += 1\n",
        "  # print(f\"Average Augment USE Score: {results[2]['avg_attack_use_score']}\")\n",
        "  print(f\"Augmentations:\")\n",
        "  print(results)"
      ]
    }
  ],
  "metadata": {
    "colab": {
      "name": "FinBERT-Augmentation.ipynb",
      "provenance": [],
      "authorship_tag": "ABX9TyPpW0sSmiFPSu9CngK/w7ff",
      "include_colab_link": true
    },
    "kernelspec": {
      "display_name": "Python 3",
      "name": "python3"
    },
    "language_info": {
      "name": "python"
    }
  },
  "nbformat": 4,
  "nbformat_minor": 0
}