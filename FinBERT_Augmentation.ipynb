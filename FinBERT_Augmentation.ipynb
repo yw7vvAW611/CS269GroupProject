{
  "nbformat": 4,
  "nbformat_minor": 0,
  "metadata": {
    "colab": {
      "name": "FinBERT-Augmentation.ipynb",
      "provenance": [],
      "authorship_tag": "ABX9TyNsCXPTHNeVgggafHmp7jJd",
      "include_colab_link": true
    },
    "kernelspec": {
      "name": "python3",
      "display_name": "Python 3"
    },
    "language_info": {
      "name": "python"
    }
  },
  "cells": [
    {
      "cell_type": "markdown",
      "metadata": {
        "id": "view-in-github",
        "colab_type": "text"
      },
      "source": [
        "<a href=\"https://colab.research.google.com/github/yw7vvAW611/CS269GroupProject/blob/main/FinBERT_Augmentation.ipynb\" target=\"_parent\"><img src=\"https://colab.research.google.com/assets/colab-badge.svg\" alt=\"Open In Colab\"/></a>"
      ]
    },
    {
      "cell_type": "code",
      "execution_count": null,
      "metadata": {
        "colab": {
          "base_uri": "https://localhost:8080/"
        },
        "id": "NUA6DsDe2UqV",
        "outputId": "7f764843-3a4e-49ed-e7f2-7f7bf9ec5876"
      },
      "outputs": [
        {
          "output_type": "stream",
          "name": "stdout",
          "text": [
            "\u001b[31mERROR: pip's dependency resolver does not currently take into account all the packages that are installed. This behaviour is the source of the following dependency conflicts.\n",
            "datascience 0.10.6 requires folium==0.2.1, but you have folium 0.8.3 which is incompatible.\n",
            "albumentations 0.1.12 requires imgaug<0.2.7,>=0.2.5, but you have imgaug 0.2.9 which is incompatible.\u001b[0m\n"
          ]
        }
      ],
      "source": [
        "!pip install textattack[tensorflow] > /dev/null"
      ]
    },
    {
      "cell_type": "code",
      "source": [
        "!pip install tqdm"
      ],
      "metadata": {
        "colab": {
          "base_uri": "https://localhost:8080/"
        },
        "id": "r2hGFITEgM2w",
        "outputId": "93f2c45a-df13-48f1-b493-05d115daff02"
      },
      "execution_count": 20,
      "outputs": [
        {
          "output_type": "stream",
          "name": "stdout",
          "text": [
            "Requirement already satisfied: tqdm in /usr/local/lib/python3.7/dist-packages (4.49.0)\n"
          ]
        }
      ]
    },
    {
      "cell_type": "code",
      "source": [
        "# Example of sentiment-classification dataset\n",
        "import pandas\n",
        "import numpy as np\n",
        "\n",
        "\n",
        "fpb100_df = pandas.read_csv(\"drive/MyDrive/test.csv\", sep=\"\\t\")\n",
        "\n",
        "fpb100_array = np.array(fpb100_df)\n",
        "\n",
        "fpb100_list = []\n",
        "for idx in range(len(fpb100_array)):\n",
        "  true_label = 2\n",
        "  if \"positive\" == fpb100_array[idx, 2]:\n",
        "    true_label = 0\n",
        "  elif \"negative\" == fpb100_array[idx, 2]:\n",
        "    true_label = 1\n",
        "  else:\n",
        "    true_label = 2\n",
        "  fpb100_list.append((fpb100_array[idx, 1], true_label))\n",
        "\n",
        "print(len(fpb100_list))"
      ],
      "metadata": {
        "colab": {
          "base_uri": "https://localhost:8080/"
        },
        "id": "-j5NF7Xe1RD9",
        "outputId": "9bcb7577-c2b7-41b4-9d75-a819ca0d3f8a"
      },
      "execution_count": null,
      "outputs": [
        {
          "output_type": "stream",
          "name": "stdout",
          "text": [
            "453\n"
          ]
        }
      ]
    },
    {
      "cell_type": "markdown",
      "source": [
        "## 1. Improved Genetic Algorithm\n",
        " Use improved genetic algorithm augments text by replacing with synonyms from the WordNet thesaurus."
      ],
      "metadata": {
        "id": "iZhgQz7C15AC"
      }
    },
    {
      "cell_type": "code",
      "source": [
        "from textattack.augmentation.augmenter import Augmenter\n",
        "from textattack.constraints.pre_transformation.stopword_modification import StopwordModification\n",
        "from textattack.shared.word_embeddings import WordEmbedding\n",
        "from textattack.augmentation import WordNetAugmenter\n",
        "from textattack.transformations import WordSwapEmbedding\n",
        "from textattack.constraints.overlap.max_words_perturbed import MaxWordsPerturbed\n",
        "from textattack.constraints.semantics.word_embedding_distance import WordEmbeddingDistance\n",
        "import csv\n",
        "from tqdm import tqdm\n",
        "\n",
        "\n",
        "#   (search_method): ImprovedGeneticAlgorithm(\n",
        "#     (pop_size):  60\n",
        "#     (max_iters):  20\n",
        "#     (temp):  0.3\n",
        "#     (give_up_if_no_improvement):  False\n",
        "#     (post_crossover_check):  False\n",
        "#     (max_crossover_retries):  20\n",
        "#     (max_replace_times_per_index):  5\n",
        "#   )\n",
        "#   (goal_function):  UntargetedClassification\n",
        "#   (transformation):  WordSwapEmbedding(\n",
        "#     (max_candidates):  50\n",
        "#     (embedding):  WordEmbedding\n",
        "#   )\n",
        "#   (constraints): \n",
        "#     (0): MaxWordsPerturbed(\n",
        "#         (max_percent):  0.2\n",
        "#         (compare_against_original):  True\n",
        "#       )\n",
        "#     (1): WordEmbeddingDistance(\n",
        "#         (embedding):  WordEmbedding\n",
        "#         (max_mse_dist):  0.5\n",
        "#         (cased):  False\n",
        "#         (include_unknown_words):  True\n",
        "#         (compare_against_original):  False\n",
        "#       )\n",
        "#     (2): StopwordModification\n",
        "#   (is_black_box):  True\n",
        "# ) \n",
        "\n",
        "\n",
        "transformation = WordSwapEmbedding(max_candidates=50)\n",
        "constraints = [MaxWordsPerturbed(max_percent=0.2, compare_against_original=True),\n",
        "               WordEmbeddingDistance(max_mse_dist=0.5, cased=False, include_unknown_words=True, compare_against_original=False),\n",
        "               StopwordModification()]\n",
        "               \n",
        "augmenter = Augmenter(transformation=transformation, constraints=constraints, pct_words_to_swap=0.4, transformations_per_example=5)\n",
        "# create dataframe\n",
        "f = csv.writer(open(\"wordnet_augmented.csv\", \"w\"))\n",
        "# Write CSV Header\n",
        "f.writerow([\"id\", \"sentence\", \"sentiment\"])\n",
        "idx = 0\n",
        "\n",
        "for s, label in tqdm(fpb100_list):\n",
        "  results = augmenter.augment(s)\n",
        "  f.writerow([idx, s, label])\n",
        "  idx += 1\n",
        "  for augmented_s in results:\n",
        "    f.writerow([idx, augmented_s, label])\n",
        "    idx += 1\n",
        "  # print(f\"Average Augment USE Score: {results[2]['avg_attack_use_score']}\")\n",
        "  print(f\"Augmentations:\")\n",
        "  print(results)"
      ],
      "metadata": {
        "colab": {
          "base_uri": "https://localhost:8080/"
        },
        "id": "oTfhrybR3RiK",
        "outputId": "ac1f3fd5-56ee-4af7-adfa-9453e48e4822"
      },
      "execution_count": 28,
      "outputs": [
        {
          "output_type": "stream",
          "name": "stderr",
          "text": [
            "  0%|          | 1/453 [00:02<18:38,  2.47s/it]"
          ]
        },
        {
          "output_type": "stream",
          "name": "stdout",
          "text": [
            "Augmentations:\n",
            "['Cardona slowed her autos , turned around and comeback to the intersecting , where she called 911 ', 'Cardona slowed her car , turned around and repatriate to the intersecting , where she called 911 ', 'Cardona slowed her motors , turned nigh and repatriated to the intersection , where she called 911 ', 'Cardona slowed her vehicle , convert around and returned to the intersection , where she called 911 ', 'Cardona slowed her vehicle , revolved about and ballon to the intersection , where she called 911 ']\n"
          ]
        },
        {
          "output_type": "stream",
          "name": "stderr",
          "text": [
            "\r  0%|          | 2/453 [00:04<17:02,  2.27s/it]"
          ]
        },
        {
          "output_type": "stream",
          "name": "stdout",
          "text": [
            "Augmentations:\n",
            "['Market data and analytics are derived from primary and secondary inquiries ', 'Markets data and analytics are derived from elementary and secondary looking ', 'Trade data and analytics are derived from primary and secondary investigations ', 'Traded data and analytics are derived from primary and secondhand research ', 'Traded particulars and analytics are derived from elemental and secondary research ']\n",
            "Augmentations:\n",
            "['Exel is headquartered in Mantyharju in Finland ', 'Exel is headquartered in Mantyharju in Finland ', 'Exel is headquartered in Mantyharju in Finn ', 'Exel is headquartered in Mantyharju in Finns ', 'Exel is headquartered in Mantyharju in Helsinki ']\n"
          ]
        },
        {
          "output_type": "stream",
          "name": "stderr",
          "text": [
            "\r  1%|          | 4/453 [00:15<23:57,  3.20s/it]"
          ]
        },
        {
          "output_type": "stream",
          "name": "stdout",
          "text": [
            "Augmentations:\n",
            "['Both operandi benefit and netted sales for the three-month calendar leapt , respectively from EUR16 .0 m and EUR139m , as comparison to the corresponding quarter in 2006 ', 'Both operandi dividend and tenderloin sales for the three-month dates increased , consecutively from EUR16 .0 m and EUR139m , as comparisons to the corresponding quarter in 2006 ', 'Both operating obtaining and net sales for the three-month deadline rising , separately from EUR16 .0 m and EUR139m , as compares to the corresponding quarter in 2006 ', 'Both operation profit and filet sales for the three-month timing rebounds , respectively from EUR16 .0 m and EUR139m , as versus to the corresponding quarter in 2006 ', 'Both operation profit and wisp salts for the three-month period cultured , respectively from EUR16 .0 m and EUR139m , as comparative to the corresponding quarter in 2006 ']\n"
          ]
        },
        {
          "output_type": "stream",
          "name": "stderr",
          "text": [
            "\r  1%|          | 5/453 [00:21<30:07,  4.04s/it]"
          ]
        },
        {
          "output_type": "stream",
          "name": "stdout",
          "text": [
            "Augmentations:\n",
            "['Helsinki Science Parks is a Finnish company that owns , renting and builds office properties and it specialises in centers for technology-oriented societies ', 'Tampere Science Parks is a Finnish company that owns , rental and construct office possessions and it specializing in facilities for technology-oriented undertakings ', 'Tampere Scientifically Parks is a Finnish business that owning , leases and builds office properties and it specialises in establishments for technology-oriented enterprise ', 'Tampere Scientist Parks is a Finnish corporate that owns , leasing and builds office properties and it specialises in formations for technology-oriented industries ', 'Tampere Veda Parks is a Finnish company that owns , leasing and construction office properties and it specialises in installing for technology-oriented businesses ']\n"
          ]
        },
        {
          "output_type": "stream",
          "name": "stderr",
          "text": [
            "\r  1%|▏         | 6/453 [01:00<1:49:19, 14.67s/it]"
          ]
        },
        {
          "output_type": "stream",
          "name": "stdout",
          "text": [
            "Augmentations:\n",
            "['Du reales estate company posted a net loosing of +ó  x201a -¼ 59.3 million +ó  x201a -¼ 0.21 for share versus with a wisp soared of +ó  x201a -¼ 31 miilion +ó  x201a -¼ 0.11 by sharing for the corresponding quarter of 2007 ', 'Of truly estate businesses posted a net loss of +ó  x201a -¼ 59.3 zillion +ó  x201a -¼ 0.21 by share compared with a net advantage of +ó  x201a -¼ 31 million +ñ  x201a -¼ 0.11 per exchange for the correspond quarter of 2007 ', 'The actual estate company posted a net losing of +ó  x201a -¼ 59.3 millionth +ñ  x201a -¼ 0.21 paras share compared with a net dividend of +ó  x201a -¼ 31 millionth +ó  x201a -¼ 0.11 paras exchanging for the corresponding quarter of 2007 ', 'The real estate companies mailed a tenderloin loss of +ó  x201a -¼ 59.3 zillion +ó  x201a -¼ 0.21 per share likened with a net get of +ó  x201a -¼ 31 million +ó  x201a -¼ 0.11 at shares for the corresponding quarter of 2007 ', 'The real estate contractors posted a net loss of +ó  x201a -¼ 59.3 umpteenth +ó  x201a -¼ 0.21 at shares compare with a wisp benefit of +ñ  x201a -¼ 31 millionth +ó  x201a -¼ 0.11 per traded for the corresponding quarter of 2007 ']\n"
          ]
        },
        {
          "output_type": "stream",
          "name": "stderr",
          "text": [
            "\r  2%|▏         | 7/453 [01:03<1:22:39, 11.12s/it]"
          ]
        },
        {
          "output_type": "stream",
          "name": "stdout",
          "text": [
            "Augmentations:\n",
            "['Du Oxyview Pulse Oximeter is a common device to audited patient blood-oxygen saturation level and pulse ratios ', 'The Oxyview Pulse Oximeter is a common device to audit patient blood-oxygen saturation level and pulses accelerating ', 'The Oxyview Pulse Oximeter is a common equipment to audit patient blood-oxygen saturation level and pulse velocities ', 'The Oxyview Pulse Oximeter is a shared device to revisions patient blood-oxygen saturation level and pulse airspeed ', 'The Oxyview Pulses Oximeter is a commons devices to inspection patient blood-oxygen saturation level and pulse rate ']\n"
          ]
        },
        {
          "output_type": "stream",
          "name": "stderr",
          "text": [
            "\r  2%|▏         | 8/453 [01:25<1:47:31, 14.50s/it]"
          ]
        },
        {
          "output_type": "stream",
          "name": "stdout",
          "text": [
            "Augmentations:\n",
            "['Componenta has produce tube for similar-sized generate at Karkkila in Finland , at Weert in the Netherlands and at Orhangazi in Turkey , and these had a merged output of about 100,000 shitloads and fillet sales of EURO 135 billion in 2007 ', 'Componenta has produces lines for similar-sized produces at Karkkila in Finland , at Weert in the Netherlands and at Orhangazi in Turkey , and these had a conjugate output of hardly 100,000 tonne and fillet sales of EUR 135 billions in 2007 ', 'Componenta has production lines for similar-sized products at Karkkila in Finland , at Weert in the Dutch and at Orhangazi in Turkey , and these had a blending output of circa 100,000 ton and netting sales of EUROS 135 billions in 2007 ', 'Componenta has production pipes for similar-sized produced at Karkkila in Finland , at Weert in the Netherlands and at Orhangazi in Turkic , and these had a merges output of approximately 100,000 ton and tenderloin sell of EUR 135 million in 2007 ', 'Componenta has productivity lines for similar-sized products at Karkkila in Finland , at Weert in the Netherlands and at Orhangazi in Turkey , and these had a mixing output of practically 100,000 tonnes and wisp selling of EUR 135 billions in 2007 ']\n"
          ]
        },
        {
          "output_type": "stream",
          "name": "stderr",
          "text": [
            "\r  2%|▏         | 9/453 [01:58<2:27:43, 19.96s/it]"
          ]
        },
        {
          "output_type": "stream",
          "name": "stdout",
          "text": [
            "Augmentations:\n",
            "[\"De EU Commission say earlier it had fined ThyssenKrupp , Unified Technologies Corp 's Otis , Schindler AG and Kone Oyj a aggregate of 992.3 billion euros for supposed cartel activity in the lift mercado going back twelve years \", \"The EU Commission said ago it had fined ThyssenKrupp , Unidos Technological Corp 's Otis , Schindler AG and Kone Oyj a totalled of 992.3 mln euro for alleged cartel activity in the lifter interchange going back twelve yrs \", \"The EU Commitee said formerly it had fined ThyssenKrupp , United Technique Corp 's Otis , Schindler AG and Kone Oyj a whole of 992.3 millionth eur for presumption cartel activity in the elevation marketplace going back twelve years \", \"The UE Commission confirming before it had fined ThyssenKrupp , United Technologies Corp 's Otis , Schindler AG and Kone Oyj a whole of 992.3 mln eur for alleged cartel activity in the lifter marketed going back twelve years \", \"The UE Commission highlighting precedent it had fined ThyssenKrupp , United Technologies Corp 's Otis , Schindler AG and Kone Oyj a holistic of 992.3 millionth eur for alleged cartel operandi in the lift commercialized going back dozen years \"]\n"
          ]
        },
        {
          "output_type": "stream",
          "name": "stderr",
          "text": [
            "\r  2%|▏         | 10/453 [02:11<2:11:08, 17.76s/it]"
          ]
        },
        {
          "output_type": "stream",
          "name": "stdout",
          "text": [
            "Augmentations:\n",
            "[\"The business 's scheduled traffic , measured in revenue traveller kilos RPK , expand by just over 2 % and almost 3 % more passengers were carried on scheduled flights than in Aug 2009 \", \"The company 's anticipated traffic , measured in revenue passenger kilometres RPK , increases by just over 2 % and around 3 % more visitor were carried on envisioned flights than in July 2009 \", \"The company 's scheduled traffic , measured in earnings passenger kilometres RPK , heightened by just over 2 % and closest 3 % more visitors were carried on scheduled thefts than in September 2009 \", \"The company 's scheduled traffic , measured in revenue travellers kilometres RPK , growth by just over 2 % and circa 3 % more passengers were carried on prophesied hovering than in September 2009 \", \"The enterprise 's scheduled traffic , measured in proceeds passenger kms RPK , hops by just over 2 % and nearly 3 % more passengers were carried on predict larceny than in February 2009 \"]\n"
          ]
        },
        {
          "output_type": "stream",
          "name": "stderr",
          "text": [
            "\r  2%|▏         | 11/453 [02:12<1:35:51, 13.01s/it]"
          ]
        },
        {
          "output_type": "stream",
          "name": "stdout",
          "text": [
            "Augmentations:\n",
            "['Lai Lay succeed Walter G++nter and will be founded in Finland ', 'Lai Lay succeed Walter G++nter and will be predicated in Finland ', 'Le Lay succeeds Falter g++nter and will be basis in Finland ', 'Le Lay succeeds Walter grams++nter and will be footing in Finland ', 'Le Lay succeeds Walter sg++nter and will be founded in Finns ']\n"
          ]
        },
        {
          "output_type": "stream",
          "name": "stderr",
          "text": [
            "\r  3%|▎         | 12/453 [02:17<1:16:22, 10.39s/it]"
          ]
        },
        {
          "output_type": "stream",
          "name": "stdout",
          "text": [
            "Augmentations:\n",
            "['Du outright scope of the projects is about 38,000 galleria metres and it is valued at a total of about EUR75m ', 'The all scope of the project is about 38,000 square meters and it is values at a aggregate of roundabout EUR75m ', 'The entire scope of the project is about 38,000 square m and it is valued at a accounted of toward EUR75m ', 'The total scope of the draft is about 38,000 square yards and it is prized at a generals of about EUR75m ', 'To generals scope of the project is about 38,000 quadratic metres and it is valued at a unmitigated of throughout EUR75m ']\n"
          ]
        },
        {
          "output_type": "stream",
          "name": "stderr",
          "text": [
            "\r  3%|▎         | 13/453 [02:28<1:17:55, 10.63s/it]"
          ]
        },
        {
          "output_type": "stream",
          "name": "stdout",
          "text": [
            "Augmentations:\n",
            "['Du furnished airfare is $ 35 million , encompassing cash of $ 10 million as netted debt assumption of FACE , and $ 20 zillion worth of Cencorp shares to be issued to Savcor ', 'Du supply fares is $ 35 billions , including cash of $ 10 trillions as net debt assumption of FACE , and $ 20 million worth of Cencorp shares to be issued to Savcor ', 'The provide fare is $ 35 billion , embraces cash of $ 10 millionth as net debt assumption of FACE , and $ 20 million worth of Cencorp shares to be issued to Savcor ', 'The provide prix is $ 35 billion , including cash of $ 10 mln as net debt assumption of FACE , and $ 20 miilion worth of Cencorp shares to be issued to Savcor ', 'The supplying cost is $ 35 million , composed cash of $ 10 billions as net debt presumption of FACE , and $ 20 billion worth of Cencorp shares to be issued to Savcor ']\n"
          ]
        },
        {
          "output_type": "stream",
          "name": "stderr",
          "text": [
            "\r  3%|▎         | 14/453 [02:29<57:09,  7.81s/it]  "
          ]
        },
        {
          "output_type": "stream",
          "name": "stdout",
          "text": [
            "Augmentations:\n",
            "['Du acquisition is predicts to take place by the halted of August 2007 ', 'The acquisition is contemplated to taking place by the terminates of August 2007 ', 'The acquisition is prophesied to adopt place by the terminating of August 2007 ', 'The purchased is predictions to take place by the finalizing of August 2007 ', 'The purchases is contemplated to take place by the terminate of August 2007 ']\n"
          ]
        },
        {
          "output_type": "stream",
          "name": "stderr",
          "text": [
            "\r  3%|▎         | 15/453 [02:31<42:55,  5.88s/it]"
          ]
        },
        {
          "output_type": "stream",
          "name": "stdout",
          "text": [
            "Augmentations:\n",
            "['Pretax benefit hikes to EUR 17.8 mn from EUR 14.9 min in 2005 ', 'Pretax benefit intensify to EUR 17.8 mn from EUR 14.9 manganese in 2005 ', 'Pretax earns raised to EUR 17.8 mn from EUROS 14.9 mn in 2005 ', 'Pretax perks increased to EUR 17.8 minute from EUR 14.9 mn in 2005 ', 'Pretax win rocketed to EUROS 17.8 mn from EUR 14.9 mn in 2005 ']\n"
          ]
        },
        {
          "output_type": "stream",
          "name": "stderr",
          "text": [
            "\r  4%|▎         | 16/453 [02:34<37:32,  5.15s/it]"
          ]
        },
        {
          "output_type": "stream",
          "name": "stdout",
          "text": [
            "Augmentations:\n",
            "['After the sale , Savcor Group Inc will compound Savcor ART , a businesses function and an investment in Cencorp Company ', 'After the sale , Savcor Group Ltd will composing Savcor ARTE , a company function and an investment in Cencorp Company ', 'After the sale , Savcor Grouping Ltd will comprise Savcor ART , a corporations operating and an investors in Cencorp Corporation ', 'After the sale , Savcor Panel Ltd will comprising Savcor ART , a businesses operative and an investment in Cencorp Corporation ', 'Than the sale , Savcor Groups Ltd will comprise Savcor ART , a corporate function and an investor in Cencorp Corporation ']\n"
          ]
        },
        {
          "output_type": "stream",
          "name": "stderr",
          "text": [
            "\r  4%|▍         | 17/453 [02:40<40:05,  5.52s/it]"
          ]
        },
        {
          "output_type": "stream",
          "name": "stdout",
          "text": [
            "Augmentations:\n",
            "['An  of the contrivance , releases by the Patent Office , said : `` A non-coherent browse matrix is shape of said correlation operate matrix ', 'An  of the invention , freeing by the Patent Office , declared : `` A non-coherent searches matrix is trained of said correlation roles matrix ', 'An  of the invention , releasing by the Patent Office , pointed : `` A non-coherent searching matrix is trained of tell correlation function matrix ', 'An  of the inventor , emancipation by the Patented Office , said : `` A non-coherent searching matrix is formed of said correlation function matrix ', 'An  of the inventor , frees by the Patent Office , affirmed : `` A non-coherent quest matrix is formed of said correlation operations matrix ']\n"
          ]
        },
        {
          "output_type": "stream",
          "name": "stderr",
          "text": [
            "\r  4%|▍         | 18/453 [02:44<35:10,  4.85s/it]"
          ]
        },
        {
          "output_type": "stream",
          "name": "stdout",
          "text": [
            "Augmentations:\n",
            "['Jensen , Njastein and Geraldo Critch , the head of Dovre Northward America corporate unit , will report to Toivola ', 'Jensen , Njastein and Mich Critch , the heads of Dovre Northern America undertakings unit , will report to Toivola ', 'Jensen , Njastein and Mick Critch , the head of Dovre Scandinavia Latin enterprising unit , will report to Toivola ', 'Jensen , Njastein and Mike Critch , the heads of Dovre Norte Usa entrepreneurial unit , will report to Toivola ', 'Jensen , Njastein and Mike Critch , the leiter of Dovre Northerners Usa business unit , will report to Toivola ']\n"
          ]
        },
        {
          "output_type": "stream",
          "name": "stderr",
          "text": [
            "\r  4%|▍         | 19/453 [03:13<1:27:21, 12.08s/it]"
          ]
        },
        {
          "output_type": "stream",
          "name": "stdout",
          "text": [
            "Augmentations:\n",
            "['( ADP News ) - Aug 5 , 2008 - Finland electronic measurement products and solutions builder Vaisala Oyj ( OMX : VAIAS ) declared today that its netted profit increasing to EUR 18 million ( DOLLAR 23.1 m ) for the first nine months of 2008 from EUROS ', '( ADP News ) - January 5 , 2008 - Fein electronic measurement products and solutions industrialists Vaisala Oyj ( OMX : VAIAS ) said today that its fillet perks rose to EUR 18 million ( USD 23.1 m ) for the upfront nine mois of 2008 from EUROS ', '( ADP News ) - Juli 5 , 2008 - Helsinki electronic measurement produces and solves maker Vaisala Oyj ( OMX : VAIAS ) said today that its detaining profit rocketed to EUR 18 billion ( USD 23.1 m ) for the incipient nine months of 2008 from EUR ', '( ADP News ) - July 5 , 2008 - Finnish electronic measurement products and solutions producers Vaisala Oyj ( OMX : VAIAS ) announces presently that its wisp profits rose to EUR 18 million ( USD 23.1 m ) for the primo nine month of 2008 from EUR ', '( ADP Presse ) - Nov 5 , 2008 - Stockholm electronically measurements products and solution constructor Vaisala Oyj ( OMX : VAIAS ) said today that its net profit climbed to EUR 18 millions ( USD 23.1 m ) for the first nine months of 2008 from EUR ']\n"
          ]
        },
        {
          "output_type": "stream",
          "name": "stderr",
          "text": [
            "\r  4%|▍         | 20/453 [03:18<1:13:14, 10.15s/it]"
          ]
        },
        {
          "output_type": "stream",
          "name": "stdout",
          "text": [
            "Augmentations:\n",
            "['As such , the space has blond firewood floors ( unlike the rest of the drugstore ) and a particularly Scandinavian atmosphere ', 'As such , the space has blond wood floors ( unlike the resting of the drugstore ) and a notably Scandinavian vibration ', 'As such , the space has blond wood floors ( unlike the stays of the store ) and a interestingly Scandinavian ambiance ', 'As such , the space has brunettes sawing floors ( unlike the rest of the store ) and a principally Scandinavian vibe ', 'As such , the space has pallid wood flooring ( unlike the rest of the boutique ) and a predominantly Scandinavian vibe ']\n"
          ]
        },
        {
          "output_type": "stream",
          "name": "stderr",
          "text": [
            "\r  5%|▍         | 21/453 [03:36<1:29:10, 12.39s/it]"
          ]
        },
        {
          "output_type": "stream",
          "name": "stdout",
          "text": [
            "Augmentations:\n",
            "[\"Ramirent 's fillets sales in the second quarterended November 30 were EURO 128.7 miilion about U.S. $ 163 million , a 3.3-percent enhanced comparisons with EURO 124.6 million for thesecond quarter finally year \", \"Ramirent 's net sales in the second quarterended August 30 were EURO 128.7 mln about U.S. $ 163 million , a 3.3-percent climb compare with EURO 124.6 miilion for thesecond quarter last year \", \"Ramirent 's net sales in the secondly quarterended Sept 30 were EURO 128.7 million about U.S. $ 163 zillion , a 3.3-percent enhances versus with EUROS 124.6 million for thesecond quarter latest year \", \"Ramirent 's net sells in the second quarterended Nov 30 were EURO 128.7 mln about U.S. $ 163 millionth , a 3.3-percent ascended comparisons with EURO 124.6 million for thesecond quarter past year \", \"Ramirent 's net sells in the second quarterended September 30 were EUROS 128.7 million about U.S. $ 163 million , a 3.3-percent rise likened with EURO 124.6 mln for thesecond quarter last year \"]\n"
          ]
        },
        {
          "output_type": "stream",
          "name": "stderr",
          "text": [
            "\r  5%|▍         | 22/453 [03:43<1:17:29, 10.79s/it]"
          ]
        },
        {
          "output_type": "stream",
          "name": "stdout",
          "text": [
            "Augmentations:\n",
            "['Citigroup , Inc ( NYSE : C ) has announce that its Globally Transaction Services ( GTS ) companies has been recognise a new mandate by Finland-based Pohjola Bank Gatherings ', 'Citigroup , Inc ( NYSE : C ) has announced that its Global Transaction Service ( GTS ) businesses has been granted a nouveau mandate by Finland-based Pohjola Bank Groupings ', 'Citigroup , Inc ( NYSE : jim ) has advertises that its Internationally Transaction Services ( GTS ) enterprises has been awarded a nouveau mandate by Finland-based Pohjola Bank Group ', 'Citigroup , Lnc ( NYSE : C ) has advertises that its International Transaction Services ( GTS ) business has been ascribed a new mandate by Finland-based Pohjola Bank Grupo ', 'Citigroup , Ltd ( NYSE : C ) has proclaiming that its Worldwide Transactions Services ( GTS ) corporate has been awarded a new mandate by Finland-based Pohjola Bank Group ']\n"
          ]
        },
        {
          "output_type": "stream",
          "name": "stderr",
          "text": [
            "\r  5%|▌         | 23/453 [03:51<1:11:41, 10.00s/it]"
          ]
        },
        {
          "output_type": "stream",
          "name": "stdout",
          "text": [
            "Augmentations:\n",
            "['De Australia corporate Mirabela Nickel has awarded Outokumpu Techno a contract for grinding technology for its nickel sulfide draft in Bahia State , Brazil ', 'Du Aus corporate Mirabela Nickel has bestowed Outokumpu Technology a contract for grinding techs for its nickel sulfide project in Bahia State , Brazil ', 'Nova Australian company Mirabela Nicol has mapped Outokumpu Technology a contract for squeaking techno for its nickel sulfide project in Bahia State , Brazil ', 'The Australian company Mirabela Nickel has attributed Outokumpu Technicians a marketplace for grinding technology for its snug sulfide draft in Bahia State , Brazil ', 'The Australian company Mirabela Nickel has awarded Outokumpu Technology a markets for squeaking technology for its nickel sulfide draft in Bahia Estado , Brazil ']\n"
          ]
        },
        {
          "output_type": "stream",
          "name": "stderr",
          "text": [
            "\r  5%|▌         | 24/453 [04:03<1:16:29, 10.70s/it]"
          ]
        },
        {
          "output_type": "stream",
          "name": "stdout",
          "text": [
            "Augmentations:\n",
            "[\"Vaahto Batter & Paper , of Finnish Vaahto Group , has been allotted an order to renovate Finnish-Swedish forests industry company Stora Enso 's paperboard jukebox at the Ingerois Board Steelworks in Finnish \", \"Vaahto Macaroni & Paper , of Finnish Vaahto Group , has been conferred an order to renovate Finnish-Swedish forest industries enterprises Stora Enso 's paperboard delorean at the Ingerois Councils Mill in Finland \", \"Vaahto Macaroni & Paper , of Finns Vaahto Panel , has been awarded an injunction to rehabilitation Finnish-Swedish forest industry company Stora Enso 's paperboard machine at the Ingerois Board Moulin in Finland \", \"Vaahto Pasta & Papers , of Finnish Vaahto Clusters , has been accorded an order to renovating Finnish-Swedish forest industry firms Stora Enso 's paperboard machine at the Ingerois Board Mill in Finland \", \"Vaahto Pulp & Paper , of Finland Vaahto Groupings , has been awarded an order to resurrect Finnish-Swedish forest departments enterprises Stora Enso 's paperboard appliance at the Ingerois Board Mill in Finland \"]\n"
          ]
        },
        {
          "output_type": "stream",
          "name": "stderr",
          "text": [
            "\r  6%|▌         | 25/453 [04:05<57:34,  8.07s/it]  "
          ]
        },
        {
          "output_type": "stream",
          "name": "stdout",
          "text": [
            "Augmentations:\n",
            "['The capital structure of Solidium may be addendum by other funds tool in the future ', 'The capital structure of Solidium may be completes by other finance instruments in the forthcoming ', 'The capital structures of Solidium may be complemented by other financial paraphernalia in the futuristic ', 'The capital structures of Solidium may be complemented by other financial tool in the futur ', 'The kapital structural of Solidium may be complemented by other financial instrument in the future ']\n"
          ]
        },
        {
          "output_type": "stream",
          "name": "stderr",
          "text": [
            "\r  6%|▌         | 26/453 [04:14<58:01,  8.15s/it]"
          ]
        },
        {
          "output_type": "stream",
          "name": "stdout",
          "text": [
            "Augmentations:\n",
            "['The rationalization of the operandi seeks to achieve over EUR 1 million in yearly savings as from the secs quarter of the moderne monetary yrs ', 'The rationalization of the operandi tempted to achieve over EUR 1 million in yearly saved as from the second quarter of the current financed year ', 'The rationalization of the operations striving to achieve over EUR 1 millionth in yearly savings as from the second quarter of the current financials leto ', 'The simplify of the operations trying to achieve over EURO 1 million in yearly rescued as from the second quarter of the moderne financial year ', 'The uncomplicated of the operations seek to obtain over EUR 1 million in yr savings as from the secs quarter of the current financial year ']\n"
          ]
        },
        {
          "output_type": "stream",
          "name": "stderr",
          "text": [
            "\r  6%|▌         | 27/453 [04:14<41:57,  5.91s/it]"
          ]
        },
        {
          "output_type": "stream",
          "name": "stdout",
          "text": [
            "Augmentations:\n",
            "['The bank feels a potential for Getinge share to rallying ', 'The bank sees a possibilities for Getinge share to rise ', 'The bank sees a potential for Getinge interchange to ascension ', 'The bank sees a potential for Getinge shares to rise ', 'The banks sees a potential for Getinge share to escalates ']\n"
          ]
        },
        {
          "output_type": "stream",
          "name": "stderr",
          "text": [
            "\r  6%|▌         | 28/453 [04:25<52:31,  7.41s/it]"
          ]
        },
        {
          "output_type": "stream",
          "name": "stdout",
          "text": [
            "Augmentations:\n",
            "[\"De company 's plant in Russia will nonstop to make wheeled for its near marketplace , while the plant in Nokia in Finland will fabricating tyres for other commercialized \", \"Du societies 's plant in Russia will lifelong to make tyres for its near markets , while the plants in Nokia in Finland will manufacture tires for other contracting \", \"Nova societies 's plant in Russia will lifelong to make tyres for its closest contractual , while the centers in Nokia in Finland will manufacture tyres for other markets \", \"The corporations 's plant in Russia will persevere to make tyres for its nearest markets , while the plant in Nokia in Helsinki will manufacture tyres for other markets \", \"The undertakings 's installations in Russia will continued to make tyres for its near markets , while the facility in Nokia in Finns will manufacture tyres for other markets \"]\n"
          ]
        },
        {
          "output_type": "stream",
          "name": "stderr",
          "text": [
            "\r  6%|▋         | 29/453 [04:26<38:10,  5.40s/it]"
          ]
        },
        {
          "output_type": "stream",
          "name": "stdout",
          "text": [
            "Augmentations:\n",
            "['Burdening traffic fallen 1 % year-on-year to 8,561 tonnes in September 2009 ', 'Cargo traffic dipped 1 % year-on-year to 8,561 tonnes in September 2009 ', 'Cargo traffic shortening 1 % year-on-year to 8,561 tons in September 2009 ', 'Dispatches traffic dips 1 % year-on-year to 8,561 tonnes in September 2009 ', 'Loading traffic plunges 1 % year-on-year to 8,561 tonnes in September 2009 ']\n"
          ]
        },
        {
          "output_type": "stream",
          "name": "stderr",
          "text": [
            "\r  7%|▋         | 30/453 [04:46<1:08:30,  9.72s/it]"
          ]
        },
        {
          "output_type": "stream",
          "name": "stdout",
          "text": [
            "Augmentations:\n",
            "[\"Subscriber of China Unicom , the nation 's seconds wider mobile phone operator after China Mobile , are expected to liberating pictures , image and blog on the Onscreen via portable phones as of March 2008 \", \"Subscribers of China Unicom , the nation 's secondly greatest mobile tel operator after Hwa Cellphone , are expected to release pictures , photographer and blog on the Internet via mobile telephone as of March 2008 \", \"Subscribers of China Unicom , the nations 's second greatest mobiles phone operator after China Mobile , are expected to liberation photographer , videos and blog on the Web via mobil phones as of March 2008 \", \"Subscribers of Wa Unicom , the nations 's second most mobile phone operator after China Moveable , are foresee to release pictures , videos and blog on the Internet via notebooks cellphones as of March 2008 \", \"Subscription of China Unicom , the nationals 's second greater mobile phone operator after China Mobile , are expected to liberated stills , video and blog on the Internet via laptop phones as of March 2008 \"]\n"
          ]
        },
        {
          "output_type": "stream",
          "name": "stderr",
          "text": [
            "\r  7%|▋         | 31/453 [04:47<50:49,  7.23s/it]  "
          ]
        },
        {
          "output_type": "stream",
          "name": "stdout",
          "text": [
            "Augmentations:\n",
            "['Earnings expanding by 2 percent to  x20ac 580 mln $ 743 million , from  x20ac 569 million ', 'Incomes soared by 2 percent to  x20ac 580 million $ 743 mln , from  x20ac 569 million ', 'Revenue climb by 2 percent to  x20ac 580 billions $ 743 million , from  x20ac 569 million ', 'Revenue waves by 2 percent to  x20ac 580 billion $ 743 billions , from  x20ac 569 million ', 'Revenues boosts by 2 percent to  x20ac 580 million $ 743 million , from  x20ac 569 million ']\n"
          ]
        },
        {
          "output_type": "stream",
          "name": "stderr",
          "text": [
            "\r  7%|▋         | 32/453 [04:49<39:51,  5.68s/it]"
          ]
        },
        {
          "output_type": "stream",
          "name": "stdout",
          "text": [
            "Augmentations:\n",
            "[\"Du inaugural declarations will be allotted by Hannu Kyrolainen , Finland 's Ambassador to the Czech Republic \", \"The inaugural discourses will be conferred by Hannu Kyrolainen , Finland 's Ambassador to the Czech Republican \", \"The inauguration discourses will be given by Hannu Kyrolainen , Finns 's Ambassador to the Czech Republic \", \"The opened speeches will be conferred by Hannu Kyrolainen , Finland 's Ambassador to the Czech Republic \", \"To introductory speech will be given by Hannu Kyrolainen , Finland 's Ambassadors to the Czech Republican \"]\n"
          ]
        },
        {
          "output_type": "stream",
          "name": "stderr",
          "text": [
            "\r  7%|▋         | 33/453 [04:51<31:09,  4.45s/it]"
          ]
        },
        {
          "output_type": "stream",
          "name": "stdout",
          "text": [
            "Augmentations:\n",
            "['ALEXANDRIA , Va. , March 15 -- Jaakko Vilo of Turku , Finland , has developed a group press ', 'ALEXANDRIA , Va. , March 15 -- Jaakko Vilo of Turku , Finland , has draft a panel journalistic ', 'ALEXANDRIA , Va. , March 15 -- Jaakko Vilo of Turku , Finland , has elaborated a panel press ', 'ALEXANDRIA , Va. , March 15 -- Jaakko Vilo of Turku , Finland , has phrased a groupings journalistic ', 'ALEXANDRIA , Va. , Marci 15 -- Jaakko Vilo of Turku , Finland , has worded a panel columnist ']\n"
          ]
        },
        {
          "output_type": "stream",
          "name": "stderr",
          "text": [
            "\r  8%|▊         | 34/453 [05:03<47:40,  6.83s/it]"
          ]
        },
        {
          "output_type": "stream",
          "name": "stdout",
          "text": [
            "Augmentations:\n",
            "['SCANIA Morgan Stanley elevating the exchanges objectives on Swede heavy-duty truck and bus constructor Scania AB to 330 crowns ( $ 42.4 - 35.2 euro ) from 310 crowns ( $ 39.8 - 33.1 euro ) ', 'SCANIA Morgan Stanley hoist the share geared on Crown heavy-duty truck and bus producer Scania AB to 330 kronor ( $ 42.4 - 35.2 euro ) from 310 sek ( $ 39.8 - 33.1 euro ) ', 'SCANIA Morgan Stanley lifted the exchanged intending on Krone heavy-duty trucking and bus manufacturer Scania AB to 330 kronor ( $ 42.4 - 35.2 euro ) from 310 sek ( $ 39.8 - 33.1 euro ) ', 'SCANIA Morgan Stanley lifted the shares target on Swedes heavy-duty trucking and coach manufacturers Scania AB to 330 wreaths ( $ 42.4 - 35.2 eur ) from 310 crowns ( $ 39.8 - 33.1 euro ) ', 'SCANIA Morgana Stanley lifted the exchanges ambitions on Swedish heavy-duty truck and coach builder Scania AB to 330 crowns ( $ 42.4 - 35.2 eur ) from 310 garlands ( $ 39.8 - 33.1 euro ) ']\n"
          ]
        },
        {
          "output_type": "stream",
          "name": "stderr",
          "text": [
            "\r  8%|▊         | 35/453 [05:06<38:36,  5.54s/it]"
          ]
        },
        {
          "output_type": "stream",
          "name": "stdout",
          "text": [
            "Augmentations:\n",
            "['Finnish food industria company L+ñnnen Tehtaat is programs changes to its fish foodstuffs business ', 'Finnish food industry companies L+ñnnen Tehtaat is planning alterations to its fish product undertakings ', 'Finnish food industry company L+ñnnen Tehtaat is emissions changed to its fish product industries ', 'Finnish nourish industry corporations L+ñnnen Tehtaat is planning changes to its fish product undertake ', 'Finnish nutritional industry companies L+ñnnen Tehtaat is planning modifications to its fish product business ']\n"
          ]
        },
        {
          "output_type": "stream",
          "name": "stderr",
          "text": [
            "\r  8%|▊         | 36/453 [05:19<54:37,  7.86s/it]"
          ]
        },
        {
          "output_type": "stream",
          "name": "stdout",
          "text": [
            "Augmentations:\n",
            "[\"Cargotec 's business area furthermore include the container handling solutions business zoning Kalmar and the marine cargo handling and offshore load handling solutions societies sphere MacGREGOR \", \"Cargotec 's business areas also include the container handling solutions enterprising areas Kalmar and the marine freight deal and offshore load handling solutions ventures area MacGREGOR \", \"Cargotec 's business realms also include the container manipulating solutions business zoning Kalmar and the marine uploaded handling and offshore caseload handling solutions business area mcgregor \", \"Cargotec 's corporation zones also include the container handling solutions business area Kalmar and the navy burdens handling and offshore payload handling solutions business realms MacGREGOR \", \"Cargotec 's corporations sphere also comprise the container handling solutions business zona Kalmar and the seafaring cargo handling and offshore load handling solutions corporations area MacGREGOR \"]\n"
          ]
        },
        {
          "output_type": "stream",
          "name": "stderr",
          "text": [
            "\r  8%|▊         | 37/453 [05:21<42:39,  6.15s/it]"
          ]
        },
        {
          "output_type": "stream",
          "name": "stdout",
          "text": [
            "Augmentations:\n",
            "['Accordingly the method will cut working charge , and will fasten the regime and building processes ', 'Consequently the method will haircut partnered costs , and will fasten the planning and building processes ', 'Thus the method will cut conjunction priced , and will fasten the scheme and building processes ', 'Thus the method will cut cooperation costs , and will fasten the schemes and building processes ', 'Thus the methodology will cut working expense , and will fasten the regimen and building processes ']\n"
          ]
        },
        {
          "output_type": "stream",
          "name": "stderr",
          "text": [
            "\r  8%|▊         | 38/453 [05:23<33:05,  4.78s/it]"
          ]
        },
        {
          "output_type": "stream",
          "name": "stdout",
          "text": [
            "Augmentations:\n",
            "['Operate income enhancement to EUR 696.4 min from EUR 600.3 mn in 2009 ', 'Operate income widened to EUR 696.4 manganese from EUR 600.3 mn in 2009 ', 'Operated receipts climbs to EUR 696.4 mn from EUR 600.3 mn in 2009 ', 'Operating income enhanced to EUR 696.4 minnesota from EUR 600.3 manganese in 2009 ', 'Operating proceeds ascent to EUR 696.4 min from EUR 600.3 mn in 2009 ']\n"
          ]
        },
        {
          "output_type": "stream",
          "name": "stderr",
          "text": [
            "\r  9%|▊         | 39/453 [05:23<24:09,  3.50s/it]"
          ]
        },
        {
          "output_type": "stream",
          "name": "stdout",
          "text": [
            "Augmentations:\n",
            "['Finn media group Talentum has issued a profit warnings ', 'Finnish media group Talentum has issued a earnings cautionary ', 'Finnish media groups Talentum has issued a gains warning ', 'Finnish media grupo Talentum has issued a profit cautionary ', 'Finns media group Talentum has issued a profit warn ']\n"
          ]
        },
        {
          "output_type": "stream",
          "name": "stderr",
          "text": [
            "\r  9%|▉         | 40/453 [05:27<23:44,  3.45s/it]"
          ]
        },
        {
          "output_type": "stream",
          "name": "stdout",
          "text": [
            "Augmentations:\n",
            "['Danske Banco A-S DANSKE DC rises 3.7 percent to 133.4 kroner , rebounding from yesterday s 3.5 percent slider ', 'Danske Bank A-S DANSKE CC leaped 3.7 percent to 133.4 sek , rebounding from tuesdays s 3.5 centigrade slide ', 'Danske Bank A-S DANSKE DC banged 3.7 percent to 133.4 kronor , rebounding from yesterday s 3.5 percent slide ', 'Danske Bank A-S DANSKE DC soar 3.7 percent to 133.4 ek , rebounding from monday s 3.5 percent sliding ', 'Danske Banks A-S DANSKE DC dropped 3.7 percent to 133.4 corona , rebounding from yesterday s 3.5 percent slider ']\n"
          ]
        },
        {
          "output_type": "stream",
          "name": "stderr",
          "text": [
            "\r  9%|▉         | 41/453 [05:48<59:35,  8.68s/it]"
          ]
        },
        {
          "output_type": "stream",
          "name": "stdout",
          "text": [
            "Augmentations:\n",
            "[\"Among December sole , the member of the Lithuanian Brewers ' Association sold a aggregate of 20.3 million liters of coffin , an deepened of 1.9 cent from the sales of 19.92 million liters in Jul 2004 \", \"In Avril alone , the members of the Lithuanian Mixers ' Association sold a total of 20.3 trillions liters of coffin , an broadened of 1.9 percent from the sales of 19.92 mln quart in December 2004 \", \"In February solitary , the members of the Lithuanian Mixers ' Association sold a full of 20.3 trillions liters of beer , an jumped of 1.9 percent from the salts of 19.92 million liters in April 2004 \", \"In November alone , the members of the Lithuanian Brewers ' Association sold a totaled of 20.3 billions liter of casket , an enlarging of 1.9 percent from the salts of 19.92 million liter in December 2004 \", \"Into Avril seul , the members of the Lithuanian Brewers ' Association sold a amounted of 20.3 billions liters of casket , an soaring of 1.9 percent from the sales of 19.92 million liters in September 2004 \"]\n"
          ]
        },
        {
          "output_type": "stream",
          "name": "stderr",
          "text": [
            "\r  9%|▉         | 42/453 [05:48<43:05,  6.29s/it]"
          ]
        },
        {
          "output_type": "stream",
          "name": "stdout",
          "text": [
            "Augmentations:\n",
            "['Locals access to the blocking is prophecies to be from Aleksandri Street ', 'Reside access to the inhibit is planned to be from Aleksandri Thoroughfare ', 'Residents access to the blocks is foreseen to be from Aleksandri Thoroughfare ', 'Residents access to the hindering is anticipate to be from Aleksandri Street ', 'Residents access to the inhibition is planned to be from Aleksandri Street ']\n"
          ]
        },
        {
          "output_type": "stream",
          "name": "stderr",
          "text": [
            "\r  9%|▉         | 43/453 [05:50<33:21,  4.88s/it]"
          ]
        },
        {
          "output_type": "stream",
          "name": "stdout",
          "text": [
            "Augmentations:\n",
            "['Stichting Pensioenfonds ABP : 4 118 122 exchanges represent 5.19 % of the exchanging capital and voters rights ', 'Stichting Pensioenfonds ABP : 4 118 122 interchange representation 5.19 % of the shares capital and elections rights ', 'Stichting Pensioenfonds ABP : 4 118 122 interchange represented 5.19 % of the exchanged capitalism and voting rights ', 'Stichting Pensioenfonds ABP : 4 118 122 share representing 5.19 % of the swap capital and votes rights ', 'Stichting Pensioenfonds ABP : 4 118 122 shares represent 5.19 % of the share capitalization and vote right ']\n"
          ]
        },
        {
          "output_type": "stream",
          "name": "stderr",
          "text": [
            "\r 10%|▉         | 44/453 [05:51<25:12,  3.70s/it]"
          ]
        },
        {
          "output_type": "stream",
          "name": "stdout",
          "text": [
            "Augmentations:\n",
            "['Below are unaudited consolidated results for Aspocomp Group under IFRS report rule ', 'Below are unaudited consolidated upshot for Aspocomp Bundled under IFRS reporting norm ', 'Below are unaudited solidified outcome for Aspocomp Group under IFRS reporting standards ', 'Beneath are unaudited pooled results for Aspocomp Panels under IFRS reporting standards ', 'Hereafter are unaudited consolidated consequence for Aspocomp Panel under IFRS reporting standards ']\n"
          ]
        },
        {
          "output_type": "stream",
          "name": "stderr",
          "text": [
            "\r 10%|▉         | 45/453 [05:59<33:22,  4.91s/it]"
          ]
        },
        {
          "output_type": "stream",
          "name": "stdout",
          "text": [
            "Augmentations:\n",
            "['Amendment to the as-built models from the design were impart to the subcontractors to cater them into the steel and GRC glass refreshes concrete manufactures processed ', 'Changes to the as-built modelling from the worded were communicated to the subcontractors to accommodating them into the steel and GRC goblets solidify definitive fabrication process ', 'Changes to the as-built models from the conceptions were communicated to the contractors to accommodate them into the steel and GRC glass enhancement definite fabrication process ', 'Changing to the as-built models from the fathered were interacted to the subcontractors to fulfill them into the steel and GRC glass redouble concrete fabrication procedural ', 'Modified to the as-built modeling from the conceived were communicated to the subcontractors to accommodate them into the steel and GRC goblet reinforced watchful fabrication processed ']\n"
          ]
        },
        {
          "output_type": "stream",
          "name": "stderr",
          "text": [
            "\r 10%|█         | 46/453 [05:59<25:16,  3.73s/it]"
          ]
        },
        {
          "output_type": "stream",
          "name": "stdout",
          "text": [
            "Augmentations:\n",
            "['Clients consist hotels and grocery as well as wholesalers and some retailers ', 'Customers consist hotels and supper as well as wholesalers and some retailers ', 'Customers include hotels and diet as well as retailer and some sellers ', 'User include motel and caterer as well as wholesalers and some retailers ', 'Users include hotels and grocery as well as wholesalers and some vendor ']\n"
          ]
        },
        {
          "output_type": "stream",
          "name": "stderr",
          "text": [
            "\r 10%|█         | 47/453 [06:01<19:49,  2.93s/it]"
          ]
        },
        {
          "output_type": "stream",
          "name": "stdout",
          "text": [
            "Augmentations:\n",
            "['Among Finland , the five immense brands control 90 % of the beer markets ', 'In Finland , the five broader brands oversaw 90 % of the beer traded ', 'In Finland , the five taller brands supervisory 90 % of the beer traded ', 'Inter Finland , the five widest brands control 90 % of the casket market ', 'Throughout Finland , the five largest hallmark supervises 90 % of the beer market ']\n"
          ]
        },
        {
          "output_type": "stream",
          "name": "stderr",
          "text": [
            "\r 11%|█         | 48/453 [06:37<1:28:16, 13.08s/it]"
          ]
        },
        {
          "output_type": "stream",
          "name": "stdout",
          "text": [
            "Augmentations:\n",
            "[\"Motorola Inc. of the Reunification States arrived second with shipments of 217.4 million units for a 21.3 percent marketed shares , traced by South Korea 's Samsung Electron Co. with expeditions of 118.0 miilion units for an 11.6 percent shared \", \"Motorola Inc. of the Unite States came second with dispatches of 217.4 billions units for a 21.3 percent market exchanges , followed by Southerly Korea 's Samsung Electron Co. with relayed of 118.0 thousandth units for an 11.6 percent sharing \", \"Motorola Inc. of the United States arriving secondly with dispatching of 217.4 billions units for a 21.3 cent market commons , followed by Southerly Korea 's Samsung Electronics Co. with shipments of 118.0 zillion units for an 11.6 percent interchange \", \"Motorola Inc. of the United States became seconds with shipments of 217.4 millions units for a 21.3 percentage contracting exchanges , followed by Southern Korea 's Samsung Electronics Co. with shipments of 118.0 million unit for an 11.6 percent exchange \", \"Motorola Inc. of the United States came second with expeditions of 217.4 zillion units for a 21.3 percent contract shares , adhered by South Korean 's Samsung Electronics Co. with shipments of 118.0 trillions units for an 11.6 percent exchanges \"]\n"
          ]
        },
        {
          "output_type": "stream",
          "name": "stderr",
          "text": [
            "\r 11%|█         | 49/453 [06:46<1:19:56, 11.87s/it]"
          ]
        },
        {
          "output_type": "stream",
          "name": "stdout",
          "text": [
            "Augmentations:\n",
            "['De donations are assigned to Aalto University and the academia of Helsinki , Tampere , Turku , Eastern Finnish , Jyv+ñskyl+ñ , Oulu and Vaasa , and to polytechnics to be declare then ', 'Du donations are bestowed to Aalto Colleges and the academics of Helsinki , Tampere , Turku , Timor Finland , Jyv+ñskyl+ñ , Oulu and Vaasa , and to polytechnics to be heralding later ', 'Nova dons are yielded to Aalto University and the universities of Helsinki , Tampere , Turku , Eastern Finland , Jyv+ñskyl+ó , Oulu and Vaasa , and to polytechnics to be advertised thereafter ', 'The donate are gave to Aalto Academics and the universities of Helsinki , Tampere , Turku , Easterly Finland , Jyv+ñskyl+ñ , Oulu and Vaasa , and to polytechnics to be advertise following ', 'The gifts are awarded to Aalto Schools and the universities of Helsinki , Tampere , Turku , Northwards Finland , Jyv+ñskyl+ñ , Oulu and Vaasa , and to polytechnics to be heralded later ']\n"
          ]
        },
        {
          "output_type": "stream",
          "name": "stderr",
          "text": [
            "\r 11%|█         | 50/453 [07:06<1:35:31, 14.22s/it]"
          ]
        },
        {
          "output_type": "stream",
          "name": "stdout",
          "text": [
            "Augmentations:\n",
            "['Metsa-Botnia will finance the payment of dividends , the reimbursement of capital and the repurchase of its own interchange with the monies deriving from its divestment of the Uruguay operations , and exchanged in Pohjolan Voima , and by utilising its existing financed plant ', 'Metsa-Botnia will financed the payment of dividends , the reimbursed of capital and the repurchase of its own shares with the funds deriving from its divestment of the Uruguayan operations , and shared in Pohjolan Voima , and by utilising its existing funded centres ', 'Metsa-Botnia will funding the payment of dividends , the reimbursed of capital and the repurchase of its own swap with the sums deriving from its divestment of the Uruguay functioned , and shares in Pohjolan Voima , and by utilising its existing hacienda centre ', 'Metsa-Botnia will fundraising the payout of dividend , the refunds of capitals and the repurchase of its own exchanging with the volume deriving from its divestment of the Uruguay operations , and shares in Pohjolan Voima , and by utilising its existing funding centers ', 'Metsa-Botnia will monies the payment of dividend , the reimburse of kapital and the repurchase of its own share with the moneys deriving from its divestment of the Uruguay operations , and traded in Pohjolan Voima , and by utilising its existing finances installations ']\n"
          ]
        },
        {
          "output_type": "stream",
          "name": "stderr",
          "text": [
            "\r 11%|█▏        | 51/453 [07:21<1:37:36, 14.57s/it]"
          ]
        },
        {
          "output_type": "stream",
          "name": "stdout",
          "text": [
            "Augmentations:\n",
            "['( ADP News ) - Finland dealing systems provider Cargotec Oyj ( HEL : CGCBV ) announced on Wednesday it won decree worth EUR 10 trillions ( USD 13.2 m ) to deliver linkspans to Amman , Morocco and Ireland ', '( ADP News ) - Finn deal system provider Cargotec Oyj ( HEL : CGCBV ) declares on Friday it won edict worth EUR 10 million ( USD 13.2 m ) to providing linkspans to Jordan , Morocco and Ireland ', '( ADP News ) - Finnish handle systems sellers Cargotec Oyj ( HEL : CGCBV ) announced on Friday it won orders worth EUR 10 miilion ( USD 13.2 m ) to delivering linkspans to Giordano , Morocco and Irish ', '( ADP News ) - Finnish handled systems seller Cargotec Oyj ( HEL : CGCBV ) declares on Wednesday it won orders worth EUR 10 trillions ( USD 13.2 m ) to deliver linkspans to Jordan , Morocco and Nord ', '( ADP News ) - Finnish treating systems deliverer Cargotec Oyj ( HEL : CGCBV ) announcing on Friday it won edicts worth EUR 10 millionth ( USD 13.2 m ) to supplying linkspans to Aman , Morocco and Ireland ']\n"
          ]
        },
        {
          "output_type": "stream",
          "name": "stderr",
          "text": [
            "\r 11%|█▏        | 52/453 [07:23<1:10:40, 10.57s/it]"
          ]
        },
        {
          "output_type": "stream",
          "name": "stdout",
          "text": [
            "Augmentations:\n",
            "['Pour closed of the transaction is scheduled to take place on January 10 , 2008 ', 'The closures of the surgical is scheduled to take place on October 10 , 2008 ', 'The latch of the transact is anticipated to take place on January 10 , 2008 ', 'The shutdown of the transaction is envisage to take place on January 10 , 2008 ', 'To closing of the transaction is expected to take place on October 10 , 2008 ']\n"
          ]
        },
        {
          "output_type": "stream",
          "name": "stderr",
          "text": [
            "\r 12%|█▏        | 53/453 [07:28<1:00:28,  9.07s/it]"
          ]
        },
        {
          "output_type": "stream",
          "name": "stdout",
          "text": [
            "Augmentations:\n",
            "['Its board of administrators will proposed a earnings of EUR0 .12 per shared for 2010 , up from the EUR0 .08 paras share paid in 2009 ', 'Its board of directors will proposed a dividend of EUR0 .12 per exchanging for 2010 , up from the EUR0 .08 per communal credited in 2009 ', 'Its board of directors will recommends a dividend of EUR0 .12 para exchanges for 2010 , up from the EUR0 .08 per swaps salaried in 2009 ', 'Its boards of directors will proposals a dividend of EUR0 .12 per share for 2010 , up from the EUR0 .08 para interchange payroll in 2009 ', 'Its governments of chiefs will propose a dividend of EUR0 .12 per share for 2010 , up from the EUR0 .08 at shares payroll in 2009 ']\n"
          ]
        },
        {
          "output_type": "stream",
          "name": "stderr",
          "text": [
            "\r 12%|█▏        | 54/453 [07:30<46:11,  6.95s/it]  "
          ]
        },
        {
          "output_type": "stream",
          "name": "stdout",
          "text": [
            "Augmentations:\n",
            "['The enterprise tell that the results of the third quarter do not incorporate non-recurring items ', 'The enterprise testified that the results of the third quarter do not consist non-recurring items ', 'The enterprises said that the outcomes of the third quarter do not consist non-recurring items ', 'The entrepreneurial said that the results of the thirdly quarter do not involve non-recurring items ', 'The venture said that the results of the third quarter do not contains non-recurring themes ']\n"
          ]
        },
        {
          "output_type": "stream",
          "name": "stderr",
          "text": [
            "\r 12%|█▏        | 55/453 [07:35<42:11,  6.36s/it]"
          ]
        },
        {
          "output_type": "stream",
          "name": "stdout",
          "text": [
            "Augmentations:\n",
            "[\"De the companies 's filet sales , 38 % was purchased in Finland , 21 % in other European countries , 40 % in Asia , and 1 % in the US \", \"Du the company 's net selling , 38 % was cumulative in Finland , 21 % in other European countries , 40 % in Asia , and 1 % in the AMERICANS \", \"Du the corporate 's net sells , 38 % was purchased in Finland , 21 % in other European countries , 40 % in Asian , and 1 % in the US \", \"Of the enterprising 's wisp sales , 38 % was purchasing in Finland , 21 % in other European nation , 40 % in Asia , and 1 % in the US \", \"To the company 's net sales , 38 % was buys in Finland , 21 % in other European countries , 40 % in Asian , and 1 % in the USA \"]\n"
          ]
        },
        {
          "output_type": "stream",
          "name": "stderr",
          "text": [
            "\r 12%|█▏        | 56/453 [07:40<39:15,  5.93s/it]"
          ]
        },
        {
          "output_type": "stream",
          "name": "stdout",
          "text": [
            "Augmentations:\n",
            "['A maximum of 666,104 new shares can further be concurred for by exercises B surrogates under the 2004 stock surrogate schemes ', 'A maximum of 666,104 new shares can further be subscribed for by workouts B surrogates under the 2004 stockpiled option planning ', 'A maximum of 666,104 nueva share can further be subscribed for by exercising B substitutions under the 2004 stock option schematics ', 'A maximum of 666,104 nueva shares can further be subscribed for by exert ii options under the 2004 stock lieu planning ', 'une maximum of 666,104 new shares can further be subscribed for by practise B options under the 2004 stock choices scheme ']\n"
          ]
        },
        {
          "output_type": "stream",
          "name": "stderr",
          "text": [
            "\r 13%|█▎        | 57/453 [07:41<28:26,  4.31s/it]"
          ]
        },
        {
          "output_type": "stream",
          "name": "stdout",
          "text": [
            "Augmentations:\n",
            "['Nova enlarging is to be conclude in the autumn of 2009 ', 'Nova expanded is to be finalized in the autumn of 2009 ', 'Nova grew is to be conclude in the autumn of 2009 ', 'The broadened is to be finalize in the fall of 2009 ', 'The prolonging is to be settle in the autumn of 2009 ']\n"
          ]
        },
        {
          "output_type": "stream",
          "name": "stderr",
          "text": [
            "\r 13%|█▎        | 58/453 [08:10<1:17:04, 11.71s/it]"
          ]
        },
        {
          "output_type": "stream",
          "name": "stdout",
          "text": [
            "Augmentations:\n",
            "['( ADP News ) - Sep 30 , 2008 - Finland insure and secrets software solutions builder Stonesoft Oyj said monday that it won a USD 1.9 million ( EUR 1.3 m ) decree to deliver its StoneGate network security commodities to an undiscovered Ruble t', '( ADP News ) - Sep 30 , 2008 - Finnish insurance and privacy software solutions developer Stonesoft Oyj pointed thu that it won a USD 1.9 billion ( EUROS 1.3 m ) edict to delivering its StoneGate network security produce to an unfamiliar Russian t', '( ADP News ) - Sep 30 , 2008 - Finnish secured and privacy software solutions promoter Stonesoft Oyj tells sunday that it won a BUCKS 1.9 million ( EUR 1.3 m ) order to supplying its StoneGate network security product to an unsung Ruble t', '( ADP News ) - Sep 30 , 2008 - Finnish security and privacy software settle designer Stonesoft Oyj declared presently that it won a USD 1.9 billions ( EUR 1.3 m ) decrees to render its StoneGate network assurance products to an unheard Russian t', '( ADP Presse ) - Sep 30 , 2008 - Finnish insure and privacy software solutions developer Stonesoft Oyj said currently that it won a USD 1.9 million ( EURO 1.3 m ) order to deliver its StoneGate network safe products to an unrecognized Soviets t']\n"
          ]
        },
        {
          "output_type": "stream",
          "name": "stderr",
          "text": [
            "\r 13%|█▎        | 59/453 [08:14<1:01:37,  9.39s/it]"
          ]
        },
        {
          "output_type": "stream",
          "name": "stdout",
          "text": [
            "Augmentations:\n",
            "['Net advantages fell by circa half to +mesmo 5.5 million from +é 9.4 million at the conclusion of 2007 ', 'Net profit autumn by practically averages to +só 5.5 million from +é 9.4 million at the terminating of 2007 ', 'Net profit slumped by circa half to +esse 5.5 trillion from +ele 9.4 million at the end of 2007 ', 'Net revenue fall by almost half to +é 5.5 millions from +melhor 9.4 million at the termination of 2007 ', 'Netted profit lowered by circa half to +é 5.5 billion from +mesmo 9.4 million at the end of 2007 ']\n"
          ]
        },
        {
          "output_type": "stream",
          "name": "stderr",
          "text": [
            "\r 13%|█▎        | 60/453 [08:16<47:10,  7.20s/it]  "
          ]
        },
        {
          "output_type": "stream",
          "name": "stdout",
          "text": [
            "Augmentations:\n",
            "['Operandi benefits intensify by 44.0 % to ER 4.7 mn from EUR 3.3 mn in 2004 ', 'Operated climbs best by 44.0 % to ER 4.7 mn from EUR 3.3 min in 2004 ', 'Operating earnings improvements by 44.0 % to ER 4.7 minnesota from EUR 3.3 mn in 2004 ', 'Operating profit reinforce by 44.0 % to ER 4.7 minnesota from EUROS 3.3 minnesota in 2004 ', 'Operational winnings improving by 44.0 % to ER 4.7 mn from EUR 3.3 minutes in 2004 ']\n"
          ]
        },
        {
          "output_type": "stream",
          "name": "stderr",
          "text": [
            "\r 13%|█▎        | 61/453 [08:18<37:55,  5.80s/it]"
          ]
        },
        {
          "output_type": "stream",
          "name": "stdout",
          "text": [
            "Augmentations:\n",
            "['Viking will pays EUR 130 billion for the novo ship , which will be finalise in January 2008 ', 'Viking will pays EUR 130 miilion for the novo ship , which will be complete in January 2008 ', 'Viking will salaries EUR 130 million for the new ship , which will be finalizing in December 2008 ', 'Viking will salary EUR 130 trillions for the new vessels , which will be completed in September 2008 ', 'Viking will wages EUR 130 million for the newest warships , which will be iend in January 2008 ']\n"
          ]
        },
        {
          "output_type": "stream",
          "name": "stderr",
          "text": [
            "\r 14%|█▎        | 62/453 [08:25<39:20,  6.04s/it]"
          ]
        },
        {
          "output_type": "stream",
          "name": "stdout",
          "text": [
            "Augmentations:\n",
            "['Amounts flow from operandi in January-December 2008 was a unfavorable EURO 18.1 mn compared to EUR 39.0 mn in the corresponding timing in 2007 ', 'Cash creek from operations in January-December 2008 was a negative EUR 18.1 manganese compare to EUR 39.0 mn in the coincide calendars in 2007 ', 'Cash flow from efforts in January-December 2008 was a noxious EUR 18.1 minnesota compared to EURO 39.0 manganese in the corresponding time in 2007 ', 'Cash flow from operations in January-December 2008 was a untoward EUR 18.1 mn likened to EUROS 39.0 mn in the corresponding periods in 2007 ', 'Cash streams from try in January-December 2008 was a counterproductive EUR 18.1 mn comparisons to EUR 39.0 mn in the corresponding period in 2007 ']\n"
          ]
        },
        {
          "output_type": "stream",
          "name": "stderr",
          "text": [
            "\r 14%|█▍        | 63/453 [08:32<41:35,  6.40s/it]"
          ]
        },
        {
          "output_type": "stream",
          "name": "stdout",
          "text": [
            "Augmentations:\n",
            "['Of extracted filtrates are very superiors in clarity while the dried filter cakes meet obligated transport humid restrains (TMLs)for their ore grades ', 'The extracted filtrates are very haut in clarity while the dried filter breads answering indispensable transport moist limits (TMLs)for their ore grades ', 'The extracted filtrates are very high in clarity while the dried strainer cakes meet required transport humid limits (TMLs)for their rudy grading ', 'The extracted filtrates are very superiors in clarity while the dried filter cakes cater needed transport moisture limits (TMLs)for their rade ranking ', 'The mined filtrates are very high in clarity while the dried filter cakes fulfil requiring transports wetter limits (TMLs)for their ore grades ']\n"
          ]
        },
        {
          "output_type": "stream",
          "name": "stderr",
          "text": [
            "\r 14%|█▍        | 64/453 [08:33<31:00,  4.78s/it]"
          ]
        },
        {
          "output_type": "stream",
          "name": "stdout",
          "text": [
            "Augmentations:\n",
            "[\"Koff 's contract share of the quantity of the market was 23.4 % , Karhu 's 21.4 % \", \"Koff 's mercantile share of the volume of the shares was 23.4 % , Karhu 's 21.4 % \", \"Koff 's swapped interchange of the volume of the marketplace was 23.4 % , Karhu 's 21.4 % \", \"Koff 's trade exchanged of the volumes of the trade was 23.4 % , Karhu 's 21.4 % \", \"Koff 's traded sharing of the volumes of the trade was 23.4 % , Karhu 's 21.4 % \"]\n"
          ]
        },
        {
          "output_type": "stream",
          "name": "stderr",
          "text": [
            "\r 14%|█▍        | 65/453 [08:35<25:26,  3.93s/it]"
          ]
        },
        {
          "output_type": "stream",
          "name": "stdout",
          "text": [
            "Augmentations:\n",
            "['Dilute profits per share ( EPS ) stood at EUR 0.25 versus EUR 0.42 ', 'Diluted earnings for interchange ( EPS ) stood at EUR 0.25 vs EUR 0.42 ', 'Diluted pay per shared ( EPS ) was at EUR 0.25 versus EUR 0.42 ', 'Diluted profit per share ( SPE ) amounted at EUR 0.25 versus EUR 0.42 ', 'Emasculate pays per exchanged ( EPS ) stood at EUR 0.25 versus EUR 0.42 ']\n"
          ]
        },
        {
          "output_type": "stream",
          "name": "stderr",
          "text": [
            "\r 15%|█▍        | 66/453 [09:00<1:05:38, 10.18s/it]"
          ]
        },
        {
          "output_type": "stream",
          "name": "stdout",
          "text": [
            "Augmentations:\n",
            "[\"Kalnapilio-Tauro Grupe ( Kalnapilis-Tauras Group ) , which is owned by Danes 's Royalist Unibrew , soars its markets share to 25.18 percent from 23.74 percent , as lager sales for the seven month rocketed by 14.5 percent to 40.5 billion pints \", \"Kalnapilio-Tauro Grupe ( Kalnapilis-Tauras Group ) , which is owned by Danish 's Regal Unibrew , surged its commercialized exchanged to 25.18 percent from 23.74 percentage , as beer sales for the seven month vaulted by 14.5 percent to 40.5 million quart \", \"Kalnapilio-Tauro Grupe ( Kalnapilis-Tauras Group ) , which is owned by Denmark 's Royal Unibrew , raise its markets share to 25.18 percent from 23.74 percent , as beer sold for the seven months climbed by 14.5 percent to 40.5 million liter \", \"Kalnapilio-Tauro Grupe ( Kalnapilis-Tauras Packed ) , which is belonged by Denmark 's Buildings Unibrew , gaining its traded share to 25.18 percent from 23.74 percent , as beer sales for the seven mois leapt by 14.5 percent to 40.5 million liters \", \"Kalnapilio-Tauro Grupe ( Kalnapilis-Tauras Panels ) , which is belonged by Denmark 's Royal Unibrew , raised its market shared to 25.18 percentage from 23.74 percent , as budweiser salts for the seven months increased by 14.5 percent to 40.5 billion litres \"]\n"
          ]
        },
        {
          "output_type": "stream",
          "name": "stderr",
          "text": [
            "\r 15%|█▍        | 67/453 [09:04<53:05,  8.25s/it]  "
          ]
        },
        {
          "output_type": "stream",
          "name": "stdout",
          "text": [
            "Augmentations:\n",
            "['Du transaction is planned to be financed with a EUR40m market-based lending blame by Standard Carta Bank Hong Kong ', 'Du transaction is planned to be subsidized with a EUR40m market-based loan concede by Standard Chartered Banco Hong Kong ', 'The transaction is prediction to be financed with a EUR40m market-based loan auctioned by Standard Chartered Bank Hong Hk ', 'The transaction is prediction to be financed with a EUR40m market-based loaned granted by Standard Charter Banker Hong Kong ', 'The transaction is stipulate to be finance with a EUR40m market-based loan granted by Standards Chartered Bank Hong Hk ']\n"
          ]
        },
        {
          "output_type": "stream",
          "name": "stderr",
          "text": [
            "\r 15%|█▌        | 68/453 [09:08<45:40,  7.12s/it]"
          ]
        },
        {
          "output_type": "stream",
          "name": "stdout",
          "text": [
            "Augmentations:\n",
            "['Production levels have been agreed with producers a prolonged time formerly , so a slashed in consumption will lead to losses ', 'Production levels have been agreed with shepherds a long hours earlier , so a fall in consumerism will lead to losses ', 'Production levels have been approves with maker a prolonged periods ago , so a fall in consumption will lead to losses ', 'Production levels have been consented with manufactures a long moment ago , so a decreased in consumption will lead to losses ', 'Production niveau have been agreed with producers a long timeline precedents , so a fall in consumption will lead to losses ']\n"
          ]
        },
        {
          "output_type": "stream",
          "name": "stderr",
          "text": [
            "\r 15%|█▌        | 69/453 [09:08<32:28,  5.08s/it]"
          ]
        },
        {
          "output_type": "stream",
          "name": "stdout",
          "text": [
            "Augmentations:\n",
            "['De value of the instructing is EUR 4mn ', 'Nova value of the order is EUR 4mn ', 'Nova value of the orders is EUR 4mn ', 'The values of the orders is EUR 4mn ', 'To value of the order is EUROS 4mn ']\n"
          ]
        },
        {
          "output_type": "stream",
          "name": "stderr",
          "text": [
            "\r 15%|█▌        | 70/453 [09:09<23:20,  3.66s/it]"
          ]
        },
        {
          "output_type": "stream",
          "name": "stdout",
          "text": [
            "Augmentations:\n",
            "['The beers deviate marginally from mainstream beers ', 'The beers deviate slightly from mainstream pints ', 'The beers differ faintly from mainstream coffins ', 'The beers differ mildly from integrating beers ', 'The beers differ slightly from incorporation beers ']\n"
          ]
        },
        {
          "output_type": "stream",
          "name": "stderr",
          "text": [
            "\r 16%|█▌        | 71/453 [09:09<17:15,  2.71s/it]"
          ]
        },
        {
          "output_type": "stream",
          "name": "stdout",
          "text": [
            "Augmentations:\n",
            "['Nova size of a cider bottle will preserve unchanged ', 'Nova size of a cider bottle will remains unchanged ', 'Nova stature of a cider bottle will remain unchanged ', 'The greatness of a cider bottle will remain immutable ', 'The size of a cider bottle will conserve immutable ']\n"
          ]
        },
        {
          "output_type": "stream",
          "name": "stderr",
          "text": [
            "\r 16%|█▌        | 72/453 [09:13<20:04,  3.16s/it]"
          ]
        },
        {
          "output_type": "stream",
          "name": "stdout",
          "text": [
            "Augmentations:\n",
            "['Market exchanges fallen on the trails between Helsinki in Finns and Tallinn in Estonia by 0.1 percentage points to 24.8 % ', 'Market share declines on the route between Helsinki in Finns and Tallinn in Estonia by 0.1 percent points to 24.8 % ', 'Market share rundown on the path between Helsinki in Finland and Tallinn in Estonia by 0.1 fractions dots to 24.8 % ', 'Market share slash on the route between Tampere in Finnish and Tallinn in Estonian by 0.1 proportions points to 24.8 % ', 'Markets exchanging reductions on the way between Helsinki in Finland and Tallinn in Estonia by 0.1 celsius points to 24.8 % ']\n"
          ]
        },
        {
          "output_type": "stream",
          "name": "stderr",
          "text": [
            "\r 16%|█▌        | 73/453 [09:16<19:35,  3.09s/it]"
          ]
        },
        {
          "output_type": "stream",
          "name": "stdout",
          "text": [
            "Augmentations:\n",
            "['Functioned benefits grew to EUR 13.5 mn from EUR 9.7 mn in the corresponding calendar in 2006 ', 'Functioning winnings rose to EUR 13.5 mn from EURO 9.7 mn in the corresponding chronology in 2006 ', 'Mobilized revenue surged to EUR 13.5 mn from EURO 9.7 mn in the corresponding period in 2006 ', 'Operating perks increase to EUR 13.5 mn from EUR 9.7 mn in the corresponding timetable in 2006 ', 'Operation profit spiralling to EUR 13.5 mn from EUR 9.7 mn in the corresponding time in 2006 ']\n"
          ]
        },
        {
          "output_type": "stream",
          "name": "stderr",
          "text": [
            "\r 16%|█▋        | 74/453 [09:18<16:05,  2.55s/it]"
          ]
        },
        {
          "output_type": "stream",
          "name": "stdout",
          "text": [
            "Augmentations:\n",
            "['Filmiteollisuus Bon Alta will be transferred to Talentum Oyj in the form of a ancillary ', 'Filmiteollisuus Fines Alta will be transference to Talentum Oyj in the form of a subsidiary ', 'Filmiteollisuus Fines Saskatchewan will be hauling to Talentum Oyj in the form of a subsidiary ', 'Filmiteollisuus Penalty Alta will be transfered to Talentum Oyj in the form of a subsidiary ', 'Filmiteollisuus Sublime Ab will be transferred to Talentum Oyj in the shapes of a auxiliary ']\n"
          ]
        },
        {
          "output_type": "stream",
          "name": "stderr",
          "text": [
            "\r 17%|█▋        | 75/453 [09:22<19:33,  3.10s/it]"
          ]
        },
        {
          "output_type": "stream",
          "name": "stdout",
          "text": [
            "Augmentations:\n",
            "['Its buyers inclusion local societies Slo Oy , Kiilto Oy , Toptronics Oy , Normark Suomi Oy , Pellonpaja Oy and Mansner Oy ', 'Its client include local societies Slo Oy , Kiilto Oy , Toptronics Oy , Normark Suomi Oy , Pellonpaja Oy and Mansner Oy ', 'Its clientele contains local business Slo Oy , Kiilto Oy , Toptronics Oy , Normark Suomi Oi , Pellonpaja Oy and Mansner Oy ', 'Its clients containing locale companies Slo Oy , Kiilto Oy , Toptronics Oy , Normark Suomi Oy , Pellonpaja Oy and Mansner Oy ', 'Its clients incorporated local undertakings Slo Oy , Kiilto Oy , Toptronics Oy , Normark Suomi Oy , Pellonpaja Oy and Mansner Oy ']\n"
          ]
        },
        {
          "output_type": "stream",
          "name": "stderr",
          "text": [
            "\r 17%|█▋        | 76/453 [09:23<15:56,  2.54s/it]"
          ]
        },
        {
          "output_type": "stream",
          "name": "stdout",
          "text": [
            "Augmentations:\n",
            "['De immovable , with about 40 condominiums each , will be architectural in 4 or 5 stages ', 'Du buildings , with about 40 appartment each , will be built in 4 or 5 stage ', 'Du buildings , with about 40 plat each , will be built in 4 or 5 step ', 'Du buildings , with about 40 townhouse each , will be constructs in 4 or 5 stages ', 'Nova buildings , with about 40 condominiums each , will be construction in 4 or 5 ballpark ']\n"
          ]
        },
        {
          "output_type": "stream",
          "name": "stderr",
          "text": [
            "\r 17%|█▋        | 77/453 [09:41<44:57,  7.17s/it]"
          ]
        },
        {
          "output_type": "stream",
          "name": "stdout",
          "text": [
            "Augmentations:\n",
            "['Finland construction group Lemminkainen Oyj HEL : LEM1S told today it has won a marketplace to delivering techno services for the Nevsky Centre shopping mall to be opened in Janvier in St Petersburg , Russia ', 'Finn construction group Lemminkainen Oyj HEL : LEM1S said today it has won a contract to furnished technologies services for the Nevsky Centres boutique mall to be commencing in Nov in St Petersburg , Russia ', 'Finnish construction clusters Lemminkainen Oyj HEL : LEM1S commented today it has won a contract to render technical services for the Nevsky Centering buyer supermarket to be opened in November in Saint Petersburg , Russia ', 'Finnish construction group Lemminkainen Oyj HEL : LEM1S showed today it has won a contract to offers techniques services for the Nevsky Center shopping malls to be open in July in St Petersburg , Russia ', 'Finnish edifice panel Lemminkainen Oyj HEL : LEM1S stated thursday it has won a contract to provide technician servicing for the Nevsky Centre purchasing mall to be opened in November in St Petersburg , Russia ']\n"
          ]
        },
        {
          "output_type": "stream",
          "name": "stderr",
          "text": [
            "\r 17%|█▋        | 78/453 [09:42<33:02,  5.29s/it]"
          ]
        },
        {
          "output_type": "stream",
          "name": "stdout",
          "text": [
            "Augmentations:\n",
            "['An EU law on the issuing may be made roughly 2010 ', 'An EU law on the thematic may be introduced roundabout 2010 ', 'An EU statute on the trouble may be presented around 2010 ', 'An EU statutory on the issue may be introduced toward 2010 ', 'An EUROPE ley on the issue may be introduced virtually 2010 ']\n"
          ]
        },
        {
          "output_type": "stream",
          "name": "stderr",
          "text": [
            "\r 17%|█▋        | 79/453 [09:50<37:48,  6.07s/it]"
          ]
        },
        {
          "output_type": "stream",
          "name": "stdout",
          "text": [
            "Augmentations:\n",
            "['Across the fourth quarter of 2006 , OKO Banks waits the operational environment for Banque and Investment Services to remain comparable to that in January-September 2006 ', 'De the fourth quarter of 2006 , OKO Banks awaiting the operating environs for Banking and Investing Servicing to remain similar to that in January-September 2006 ', 'In the fourth quarter of 2006 , OKO Banks looks the operation environment for Banco and Investment Services to continues identical to that in January-September 2006 ', 'In the fourth quarter of 2006 , OKO Banks sees the functionality surroundings for Banco and Investment Services to remain analog to that in January-September 2006 ', 'Into the fourth quarter of 2006 , OKO Banks expecting the operating outskirts for Banking and Investment Services to stay like to that in January-September 2006 ']\n"
          ]
        },
        {
          "output_type": "stream",
          "name": "stderr",
          "text": [
            "\r 18%|█▊        | 80/453 [09:52<29:14,  4.70s/it]"
          ]
        },
        {
          "output_type": "stream",
          "name": "stdout",
          "text": [
            "Augmentations:\n",
            "['Following the inscriptions , the number of issued and delightful shares of Basware is 12,890,829 ', 'Following the registering , the number of issued and glorious shares of Basware is 12,890,829 ', 'Following the registration , the number of issued and striking shares of Basware is 12,890,829 ', 'Following the registration , the number of issued and unbelievable sharing of Basware is 12,890,829 ', 'Following the taping , the number of issuing and startling exchanged of Basware is 12,890,829 ']\n"
          ]
        },
        {
          "output_type": "stream",
          "name": "stderr",
          "text": [
            "\r 18%|█▊        | 81/453 [09:54<25:23,  4.10s/it]"
          ]
        },
        {
          "output_type": "stream",
          "name": "stdout",
          "text": [
            "Augmentations:\n",
            "[\"Tieto 's service is also usage to relayed , proceeding and receive hardware related to absentee voting \", \"Tieto 's service is also utilize to send , process and get materials related to absentee polling \", \"Tieto 's service is also utilizes to send , process and acquires materials related to absentee electoral \", \"Tieto 's service is besides used to shipment , process and receive documents related to absentee electoral \", \"Tieto 's serving is also used to send , process and collects documenting related to absentee votes \"]\n"
          ]
        },
        {
          "output_type": "stream",
          "name": "stderr",
          "text": [
            "\r 18%|█▊        | 82/453 [09:55<18:40,  3.02s/it]"
          ]
        },
        {
          "output_type": "stream",
          "name": "stdout",
          "text": [
            "Augmentations:\n",
            "['De value of the three-year contract is calculates at EUR40m ', 'The important of the three-year contractual is estimated at EUR40m ', 'The value of the three-year markets is believed at EUR40m ', 'The value of the three-year prenup is estimating at EUR40m ', 'The valuing of the three-year contracting is estimated at EUR40m ']\n"
          ]
        },
        {
          "output_type": "stream",
          "name": "stderr",
          "text": [
            "\r 18%|█▊        | 83/453 [09:58<19:08,  3.10s/it]"
          ]
        },
        {
          "output_type": "stream",
          "name": "stdout",
          "text": [
            "Augmentations:\n",
            "['The Hayward , Calif.-cornerstone target designs proactive , casual and clothe sneaker , as well as boots and sandals ', 'The Hayward , Calif.-foundation intending conceptions active , casual and dress footwear , as well as boots and sandals ', 'The Hayward , Calif.-founded intent conceived active , casual and dress footwear , as well as boots and sandals ', 'The Hayward , Calif.-predicated goals designs active , casual and toga footwear , as well as initiating and sandals ', 'To Hayward , Calif.-based targeted designs dynamics , casual and frock footwear , as well as boots and sandals ']\n"
          ]
        },
        {
          "output_type": "stream",
          "name": "stderr",
          "text": [
            "\r 19%|█▊        | 84/453 [10:06<27:17,  4.44s/it]"
          ]
        },
        {
          "output_type": "stream",
          "name": "stdout",
          "text": [
            "Augmentations:\n",
            "['Finland developer and manufacturer of portable phone chargers Salcomp Plc OMX Helsinki : SAL1V on Wednesday 19 November reduces its full-year net sales evaluated ', 'Finnish advocating and producers of movable phone chargers Salcomp Plc OMX Helsinki : SAL1V on Wednesday 19 November lessened its full-year net sales estimates ', 'Finnish builder and manufacturer of mobile phone chargers Salcomp Plc OMX Helsinki : SAL1V on Wednesday 19 September decrease its full-year wisp sells estimate ', 'Finnish developer and manufacturer of movable phones chargers Salcomp Plc OMX Helsinki : SAL1V on Tuesday 19 November shrinking its full-year net sales evaluations ', 'Finnish developer and strategists of mobile phone chargers Salcomp Plc OMX Helsinki : SAL1V on Mon 19 November shrinking its full-year net sells estimated ']\n"
          ]
        },
        {
          "output_type": "stream",
          "name": "stderr",
          "text": [
            "\r 19%|█▉        | 85/453 [10:14<33:53,  5.52s/it]"
          ]
        },
        {
          "output_type": "stream",
          "name": "stdout",
          "text": [
            "Augmentations:\n",
            "[\"For the cranking nine mes of 2010 , Talvivaara 's net losing lowering to EUR 8.3 million from EUR 21.9 zillion for the same times of 2009 \", \"For the first neuf mes of 2010 , Talvivaara 's net loss diminished to EUR 8.3 trillion from EUR 21.9 billions for the same dates of 2009 \", \"For the firstly neuf monthly of 2010 , Talvivaara 's net losing narrowed to EUR 8.3 zillion from EUR 21.9 million for the same schedule of 2009 \", \"Onto the first nine months of 2010 , Talvivaara 's netted loss mitigation to EUR 8.3 millions from EUR 21.9 million for the same times of 2009 \", \"Toward the first nine mes of 2010 , Talvivaara 's net loss shortening to EURO 8.3 billion from EUR 21.9 million for the same hourly of 2009 \"]\n"
          ]
        },
        {
          "output_type": "stream",
          "name": "stderr",
          "text": [
            "\r 19%|█▉        | 86/453 [10:15<26:14,  4.29s/it]"
          ]
        },
        {
          "output_type": "stream",
          "name": "stdout",
          "text": [
            "Augmentations:\n",
            "['Although Honkarakenne begin production there , it will requires a partner for sawmill operations ', 'If Honkarakenne began production there , it will necessity a partner for sawmill operational ', 'If Honkarakenne lancer production there , it will need a teammate for sawmill operating ', 'If Honkarakenne opens production there , it will necessary a partner for timber operations ', 'Unless Honkarakenne commence production there , it will need a partner for sawmill operational ']\n"
          ]
        },
        {
          "output_type": "stream",
          "name": "stderr",
          "text": [
            "\r 19%|█▉        | 87/453 [10:17<22:18,  3.66s/it]"
          ]
        },
        {
          "output_type": "stream",
          "name": "stdout",
          "text": [
            "Augmentations:\n",
            "[\"Subject-matter of the innovative alternately is the used of the cyclone for separating partly melt particles . '\", \"Subject-matter of the invention besides is the using of the tornadoes for insulate partly molten particles . '\", \"Subject-matter of the invention meanwhile is the use of the cyclone for separated partly smelting particles . '\", \"Subject-matter of the invention separately is the exploited of the cyclone for detaching partly molten particles . '\", \"Subject-matter of the inventor furthermore is the use of the tempest for separating partly fused particles . '\"]\n"
          ]
        },
        {
          "output_type": "stream",
          "name": "stderr",
          "text": [
            "\r 19%|█▉        | 88/453 [10:17<16:03,  2.64s/it]"
          ]
        },
        {
          "output_type": "stream",
          "name": "stdout",
          "text": [
            "Augmentations:\n",
            "['The decrees was values at USD12 .2 m', 'The decrees was valuing at USD12 .2 m', 'The edict was value at USD12 .2 m', 'The edicts was value at USD12 .2 m', 'The justifies was valued at USD12 .2 m']\n"
          ]
        },
        {
          "output_type": "stream",
          "name": "stderr",
          "text": [
            "\r 20%|█▉        | 89/453 [10:20<15:23,  2.54s/it]"
          ]
        },
        {
          "output_type": "stream",
          "name": "stdout",
          "text": [
            "Augmentations:\n",
            "[\"Apparel string Sepp+ñl+ñ 's tenderloin sales increased by 7.0 % to EUR 30.8 mn \", \"Clothing padlock Sepp+ñl+ñ 's tenderloin sales upward by 7.0 % to EUR 30.8 manganese \", \"Clothing string Sepp+ñl+ñ 's wisp sales broadening by 7.0 % to EURO 30.8 mn \", \"Clothing strings Sepp+ñl+ñ 's net resell intensifies by 7.0 % to EUR 30.8 mn \", \"Dresses chain Sepp+ñl+ñ 's tenderloin sales rise by 7.0 % to EUR 30.8 minnesota \"]\n"
          ]
        },
        {
          "output_type": "stream",
          "name": "stderr",
          "text": [
            "\r 20%|█▉        | 90/453 [10:21<13:03,  2.16s/it]"
          ]
        },
        {
          "output_type": "stream",
          "name": "stdout",
          "text": [
            "Augmentations:\n",
            "['De interim report for the upfront quarter is published on Maybe 8 , 2009 ', 'Di interim rapport for the first quarter is publish on May 8 , 2009 ', 'Nova interim rapport for the frst quarter is published on May 8 , 2009 ', 'The provisional report for the premiere quarter is published on May 8 , 2009 ', 'The transitory report for the fiirst quarter is publications on May 8 , 2009 ']\n"
          ]
        },
        {
          "output_type": "stream",
          "name": "stderr",
          "text": [
            "\r 20%|██        | 91/453 [10:23<12:49,  2.13s/it]"
          ]
        },
        {
          "output_type": "stream",
          "name": "stdout",
          "text": [
            "Augmentations:\n",
            "[\"Into the transactions agreement , Metsaliitto will buy 24.7 % of Metsa-Botnia 's shares from UPM and 3 % from M-real \", \"Per the transaction treaties , Metsaliitto will acquire 24.7 % of Metsa-Botnia 's sharing from UPM and 3 % from M-real \", \"Pour the surgery arrangements , Metsaliitto will purchase 24.7 % of Metsa-Botnia 's exchanging from UPM and 3 % from M-real \", \"Under the transaction accord , Metsaliitto will pimping 24.7 % of Metsa-Botnia 's sharing from UPM and 3 % from M-real \", \"Under the transactions contractual , Metsaliitto will procured 24.7 % of Metsa-Botnia 's shares from UPM and 3 % from M-real \"]\n"
          ]
        },
        {
          "output_type": "stream",
          "name": "stderr",
          "text": [
            "\r 20%|██        | 92/453 [10:24<10:55,  1.81s/it]"
          ]
        },
        {
          "output_type": "stream",
          "name": "stdout",
          "text": [
            "Augmentations:\n",
            "['Marathon assessed the value of its remaining stake in Protalix at $ 27 trillions ', 'Marathon estimates the evaluated of its diner stake in Protalix at $ 27 miilion ', 'Marathon estimates the importance of its remaining keno in Protalix at $ 27 million ', 'Marathon estimates the value of its remain stake in Protalix at $ 27 trillion ', 'Marathon reckoning the value of its surplus stake in Protalix at $ 27 million ']\n"
          ]
        },
        {
          "output_type": "stream",
          "name": "stderr",
          "text": [
            "\r 21%|██        | 93/453 [10:37<31:32,  5.26s/it]"
          ]
        },
        {
          "output_type": "stream",
          "name": "stdout",
          "text": [
            "Augmentations:\n",
            "['industry in Asia +ó Karachi , Malaysia , Formosa and Philippines Monday , Universal Research & Data Services is going to publish several market analyzed about the cement market in Asia ', 'industry in Asia +ó Pakistan , Malaysia , Taiwan and Philippines Mon , Global Research & Data Services is gonna to published many market analyzes about the cement markets in Asia ', 'industry in Asia +ó Pakistan , Malaysia , Taiwan and Philippines Sundays , Global Researches & Particulars Services is going to publish multitude markets analyses about the cement contract in Asia ', 'industry in Asia +ó Pakistan , Malaysia , Taiwan and Philippines Wednesday , Internationally Examine & Data Services is gonna to publish several market analysing about the cement contracting in Asia ', 'industry in Asian +ó Pakistan , Malaysia , Taiwan and Philippines Today , Global Study & Data Services is going to publishes myriad traded analyses about the cement market in Asia ']\n"
          ]
        },
        {
          "output_type": "stream",
          "name": "stderr",
          "text": [
            "\r 21%|██        | 94/453 [10:58<59:35,  9.96s/it]"
          ]
        },
        {
          "output_type": "stream",
          "name": "stdout",
          "text": [
            "Augmentations:\n",
            "[\"Local council commissioner of +àm+Ñl , Kurt Svensson , says he will contact the managerial of Helsinki company Componenta to revealed out if there are any lieu to the societies 's decision to closed down its steelworks in +àm+Ñl \", \"Local government commissioner of +àm+Ñl , Curt Svensson , says he will contact the management of Helsinki entrepreneurial Componenta to deems out if there are any other to the company 's decision to closeness down its mills in +àm+Ñl \", \"Local government commissioner of +àm+Ñl , Kurt Svensson , affirms he will contacted the administration of Finnish enterprise Componenta to discovers out if there are any alternative to the enterprising 's decision to close down its plant in +àm+Ñl \", \"Local governmental commissioner of +àm+Ñl , Kurt Svensson , says he will phoning the administrative of Finn industries Componenta to discovering out if there are any alternates to the company 's decision to close down its factory in +àm+Ñl \", \"Local governments commissioner of +àm+Ñl , Kurt Svensson , says he will linking the administration of Finnish company Componenta to find out if there are any alternative to the ventures 's decide to clasps down its herbal in +àm+Ñl \"]\n"
          ]
        },
        {
          "output_type": "stream",
          "name": "stderr",
          "text": [
            "\r 21%|██        | 95/453 [11:26<1:31:04, 15.26s/it]"
          ]
        },
        {
          "output_type": "stream",
          "name": "stdout",
          "text": [
            "Augmentations:\n",
            "['( ADPnews ) - Maggio 4 , 2010 - Finn cutlery and hand tools grower Fiskars Oyj Abp ( HEL : FISAS ) affirms today its net interests shrunk to EUR 12.9 millionth ( USD 17m ) in the prima quarter of 2010 from EUR 17 millions in the correspon', '( ADPnews ) - May 4 , 2010 - Finland cutlery and hand instrument generators Fiskars Oyj Abp ( HEL : FISAS ) pointed today its wisp profit slumped to EUR 12.9 million ( DOLLARS 17m ) in the initial quarter of 2010 from EUR 17 trillion in the correspon', '( ADPnews ) - May 4 , 2010 - Finnish cutlery and hand tools manufacturers Fiskars Oyj Abp ( HEL : FISAS ) said monday its net virtues fade to EUR 12.9 billion ( USD 17m ) in the primo quarter of 2010 from EURO 17 trillion in the correspon', '( ADPnews ) - May 4 , 2010 - Finns cutlery and hand tools grower Fiskars Oyj Abp ( HEL : FISAS ) said presently its filet profit retreated to EUR 12.9 zillion ( USD 17m ) in the lancer quarter of 2010 from EUR 17 millionth in the correspon', '( ADPnews ) - May 4 , 2010 - Helsinki cutlery and hand instrument maker Fiskars Oyj Abp ( HEL : FISAS ) enacted presently its net profit dips to EUROS 12.9 zillion ( DOLLARS 17m ) in the primo quarter of 2010 from EUR 17 million in the correspon']\n"
          ]
        },
        {
          "output_type": "stream",
          "name": "stderr",
          "text": [
            "\r 21%|██        | 96/453 [11:34<1:17:11, 12.97s/it]"
          ]
        },
        {
          "output_type": "stream",
          "name": "stdout",
          "text": [
            "Augmentations:\n",
            "['HELSINKI AFX - Salcomp , the laptops tel charger builder , stated it has appointed Markku Hangasjarvi as its new CEO , following the forsaken of Mats Eriksson ', 'HELSINKI AFX - Salcomp , the mobile phone charger maker , declared it has appointed Markku Hangasjarvi as its nuevo CEO , following the resign of Carpets Eriksson ', 'HELSINKI AFX - Salcomp , the mobile phone charger manufacturers , insisted it has nominating Markku Hangasjarvi as its new CEO , following the resign of Carpeting Eriksson ', 'HELSINKI AFX - Salcomp , the mobile phone mag constructor , say it has nominations Markku Hangasjarvi as its new CEO , following the resignation of Mats Ericsson ', 'HELSINKI AFX - Salcomp , the portable telefono charger producers , says it has appointed Markku Hangasjarvi as its new CEO , following the resignation of Pigtails Eriksson ']\n"
          ]
        },
        {
          "output_type": "stream",
          "name": "stderr",
          "text": [
            "\r 21%|██▏       | 97/453 [11:39<1:02:40, 10.56s/it]"
          ]
        },
        {
          "output_type": "stream",
          "name": "stdout",
          "text": [
            "Augmentations:\n",
            "['He is a Authorised Accountant in British Columbia and Alberta as well as a Attest Public Accounting in Washington State ', 'He is a Chartered Accountant in Britannica Columbia and Alberta as well as a Certified Pubic Bookkeeper in Washington State ', 'He is a Chartered Ledger in British Columbia and Alberta as well as a Certifies Population Account in Washington State ', 'Him is a Carte Bookkeeper in British Columbia and Alberta as well as a Empowered Public Accountant in Washington State ', 'Him is a Chartered Accountant in Uk Colombiana and Alberta as decent as a Certified Public Accountant in Washington State ']\n"
          ]
        },
        {
          "output_type": "stream",
          "name": "stderr",
          "text": [
            "\r 22%|██▏       | 98/453 [11:43<51:53,  8.77s/it]  "
          ]
        },
        {
          "output_type": "stream",
          "name": "stdout",
          "text": [
            "Augmentations:\n",
            "['The five-storey , eco-efficient building will have a flagrant flooring zoning of about 15,000 sq m. It will nevertheless involving apartments ', 'The five-storey , eco-efficient building will have a gross floor regions of about 15,000 sq m. It will meanwhile encompassing condominiums ', 'The five-storey , eco-efficient building will have a palpable floor zone of about 15,000 sq m. It will further covering townhouse ', 'The five-storey , eco-efficient constructions will have a glaring floor zones of about 15,000 sq m. It will also comprising apartment ', 'The five-storey , eco-efficient erect will have a blatant floor sphere of about 15,000 sq m. It will also include apartments ']\n"
          ]
        },
        {
          "output_type": "stream",
          "name": "stderr",
          "text": [
            "\r 22%|██▏       | 99/453 [11:44<38:08,  6.47s/it]"
          ]
        },
        {
          "output_type": "stream",
          "name": "stdout",
          "text": [
            "Augmentations:\n",
            "['Finnish Outokumpu Tech has been awarded several new chipping technology contracting ', 'Finnish Outokumpu Technician has been awarded variety newer grinding technology contracts ', 'Finnish Outokumpu Technology has been allotted several new grinding technicians contracts ', 'Finnish Outokumpu Technology has been awarded innumerable novel grinding technology markets ', 'Finnish Outokumpu Techs has been awarded several new grind technology contracting ']\n"
          ]
        },
        {
          "output_type": "stream",
          "name": "stderr",
          "text": [
            "\r 22%|██▏       | 100/453 [11:49<34:42,  5.90s/it]"
          ]
        },
        {
          "output_type": "stream",
          "name": "stdout",
          "text": [
            "Augmentations:\n",
            "['De investing and operational modified enable additional optimisation of the collaborator hour and thereby further cost savings of some 7 % -9 % ', 'The investments and operational amended enable addition optimisation of the labour timeline and therefore further cost savings of some 7 % -9 % ', 'The investments and operational shift enable additional optimisation of the works hours and so further cost rescue of some 7 % -9 % ', 'The investments and operational shift lets extras optimisation of the working hours and accordingly further expense savings of some 7 % -9 % ', 'To investments and operational changes enables additional optimisation of the partnered hours and so further fee savings of some 7 % -9 % ']\n"
          ]
        },
        {
          "output_type": "stream",
          "name": "stderr",
          "text": [
            "\r 22%|██▏       | 101/453 [11:55<34:10,  5.83s/it]"
          ]
        },
        {
          "output_type": "stream",
          "name": "stdout",
          "text": [
            "Augmentations:\n",
            "['However , sales quantity in the meals industry are expected to stay at fairly good levels in Finland and in Scandinavia , Atria declared ', 'However , sales volumes in the food industry are predicted to remain at relatively better echelon in Finland and in Norden , Atria say ', 'Instead , sales sums in the food industry are expected to remain at comparatively buena levels in Finland and in Scandinavia , Atria pointed ', 'Notwithstanding , sales amount in the comer industry are stipulated to remain at relatively good levels in Finland and in Scandinavia , Atria asserted ', 'Though , sales quantity in the edible industry are expected to remain at relatively buena echelon in Finland and in Scandinavia , Atria said ']\n"
          ]
        },
        {
          "output_type": "stream",
          "name": "stderr",
          "text": [
            "\r 23%|██▎       | 102/453 [11:56<25:52,  4.42s/it]"
          ]
        },
        {
          "output_type": "stream",
          "name": "stdout",
          "text": [
            "Augmentations:\n",
            "['No alteration in media activities were seen in October compares with September ', 'No altering in media activity were seen in October compared with July ', 'No changes in media activity were watched in January compared with September ', 'No modifying in media activity were perceived in October compared with November ', 'Without amendment in media activity were watched in October compared with September ']\n"
          ]
        },
        {
          "output_type": "stream",
          "name": "stderr",
          "text": [
            "\r 23%|██▎       | 103/453 [11:59<23:16,  3.99s/it]"
          ]
        },
        {
          "output_type": "stream",
          "name": "stdout",
          "text": [
            "Augmentations:\n",
            "['Classy Dans on the move FAB Glasgow don and interiors stockpiling Fancy Dans is moving ', 'Fancy Dans on the move FAB Glasgow donations and interiors shops Fancy Dans is moving ', 'Fancy Dans on the move FAB Midlands gift and interiors stockpiling Classy Dans is moving ', 'Fancy Dans on the move FAB Torquay gift and interiors dispensary Fancy Dans is move ', 'Fancy Dans on the shifting FAB Glasgow donate and interior store Fancy Dans is moving ']\n"
          ]
        },
        {
          "output_type": "stream",
          "name": "stderr",
          "text": [
            "\r 23%|██▎       | 104/453 [12:01<19:55,  3.43s/it]"
          ]
        },
        {
          "output_type": "stream",
          "name": "stdout",
          "text": [
            "Augmentations:\n",
            "[\"Both the net sales and operating benefit were record top in the societies 's history \", \"Both the net sales and operating profit were record higher in the corporation 's stories \", \"Both the net sales and operations profit were record superior in the company 's story \", \"Both the net selling and operation profit were record highest in the company 's history \", \"Both the netting sales and operate profit were record high in the company 's epic \"]\n"
          ]
        },
        {
          "output_type": "stream",
          "name": "stderr",
          "text": [
            "\r 23%|██▎       | 105/453 [12:04<19:07,  3.30s/it]"
          ]
        },
        {
          "output_type": "stream",
          "name": "stdout",
          "text": [
            "Augmentations:\n",
            "['Exploiting incomes totaled EUR 6.7 manganese , down from EUR 7.2 mn in the corresponding timeline in 2005 ', 'Operating advantage totaled EUR 6.7 minnesota , down from EUROS 7.2 mn in the corresponding period in 2005 ', 'Operating dividend totaled EUR 6.7 mn , down from EUR 7.2 mn in the corresponding schedules in 2005 ', 'Operating incomes holistic EUR 6.7 mn , down from EUR 7.2 mn in the corresponding timetables in 2005 ', 'Operational earn totaled EUR 6.7 mn , down from EURO 7.2 mn in the corresponding timeframe in 2005 ']\n"
          ]
        },
        {
          "output_type": "stream",
          "name": "stderr",
          "text": [
            "\r 23%|██▎       | 106/453 [12:10<25:00,  4.32s/it]"
          ]
        },
        {
          "output_type": "stream",
          "name": "stdout",
          "text": [
            "Augmentations:\n",
            "[\"` Exponentially recommendable ' is the Nokian Z G2 according to the ` ADAC judgments ' in the latest hsia tyre essay of the Hessian vehicle association ADAC \", \"` Exponentially recommendable ' is the Nokian Z G2 according to the ` ADAC verdicts ' in the newest summer tyre proof of the Germany automobile association ADAC \", \"` Greatly recommendable ' is the Nokian Z G2 according to the ` ADAC judgments ' in the latest summer casters test of the German autos association ADAC \", \"` Highly recommendable ' is the Nokian Z G2 according to the ` ADAC judgments ' in the another summer tyre test of the German automobile association ADAC \", \"` Strikingly recommendable ' is the Nokian Z G2 according to the ` ADAC stoppage ' in the latest hsia tyre test of the Deutsch automobile associations ADAC \"]\n"
          ]
        },
        {
          "output_type": "stream",
          "name": "stderr",
          "text": [
            "\r 24%|██▎       | 107/453 [12:14<23:42,  4.11s/it]"
          ]
        },
        {
          "output_type": "stream",
          "name": "stdout",
          "text": [
            "Augmentations:\n",
            "['Augmentation for the dates totalled EUR 1.1 minnesota , down from EUR 1.6 mn in the third quarter of 2008 ', 'Benefit for the timeline totalled EUR 1.1 mn , down from EUROS 1.6 mn in the third quarter of 2008 ', 'Getting for the dates totalled EURO 1.1 mn , down from EUR 1.6 mn in the third quarter of 2008 ', 'Paycheck for the lifespan totalled EUROS 1.1 mn , down from EUROS 1.6 mn in the third quarter of 2008 ', 'Profits for the schedules accounted EUR 1.1 mn , down from EUR 1.6 mn in the thirds quarter of 2008 ']\n"
          ]
        },
        {
          "output_type": "stream",
          "name": "stderr",
          "text": [
            "\r 24%|██▍       | 108/453 [12:40<1:01:24, 10.68s/it]"
          ]
        },
        {
          "output_type": "stream",
          "name": "stdout",
          "text": [
            "Augmentations:\n",
            "['Nova company notified a advantages of 800,000 euro ($ 1.2 miilion)on the sells of its Varesvuo Ally sub-group and a loss of 400,000 euro $ 623,000 caused by the sale of its agenda production subsidiary Oy Filmiteollisuus Belle Ab ', 'The companies reported a dividends of 800,000 euro ($ 1.2 miilion)on the sold of its Varesvuo Allies sub-group and a loss of 400,000 euro $ 623,000 sparked by the sale of its emission generate subsidiary Oy Filmiteollisuus Fine Alberta ', 'The corporations informed a revenue of 800,000 eur ($ 1.2 trillions)on the resale of its Varesvuo Partners sub-group and a loss of 400,000 euro $ 623,000 caused by the sold of its scheme production subsidiary Oy Filmiteollisuus Punishments Ab ', 'The firms signalled a obtaining of 800,000 euro ($ 1.2 zillion)on the sales of its Varesvuo Partners sub-group and a losses of 400,000 euro $ 623,000 caused by the sale of its program production auxiliary Oy Filmiteollisuus Thin Ab ', 'The society counseled a profit of 800,000 euros ($ 1.2 mln)on the sale of its Varesvuo Partners sub-group and a losing of 400,000 euro $ 623,000 created by the resell of its planning production subsidiary Oy Filmiteollisuus Gentil Ab ']\n"
          ]
        },
        {
          "output_type": "stream",
          "name": "stderr",
          "text": [
            "\r 24%|██▍       | 109/453 [12:45<50:57,  8.89s/it]  "
          ]
        },
        {
          "output_type": "stream",
          "name": "stdout",
          "text": [
            "Augmentations:\n",
            "['The addressing includes the entire personnel of PlanMill Oy , who will transfered to the new societies as so-called longtime employees ', 'The deal encompasses the entire staff of PlanMill Oy , who will transfer to the new company as so-called antigua employees ', 'The deal includes the entire staffs of PlanMill Oy , who will transfer to the novel company as so-called longtime servant ', 'The tackle includes the totals personnel of PlanMill Oy , who will transfer to the new company as so-called old earners ', 'The treating includes the full officer of PlanMill Oy , who will transfer to the nouvelle company as so-called old employees ']\n"
          ]
        },
        {
          "output_type": "stream",
          "name": "stderr",
          "text": [
            "\r 24%|██▍       | 110/453 [12:49<42:16,  7.40s/it]"
          ]
        },
        {
          "output_type": "stream",
          "name": "stdout",
          "text": [
            "Augmentations:\n",
            "['Operate winnings amounted EUR 7.0 manganese , up from a losses of EUR 4.0 mn in the second quarter of 2009 ', 'Operated benefits totalled EUROS 7.0 mn , up from a loss of EURO 4.0 mins in the second quarter of 2009 ', 'Operating income holistic EURO 7.0 minnesota , up from a loss of EUR 4.0 mn in the secondly quarter of 2009 ', 'Operative incomes stood EUR 7.0 mn , up from a loss of EUR 4.0 mn in the secs quarter of 2009 ', 'Worked dividend totalled EUR 7.0 manganese , up from a loss of EUR 4.0 minutes in the secondly quarter of 2009 ']\n"
          ]
        },
        {
          "output_type": "stream",
          "name": "stderr",
          "text": [
            "\r 25%|██▍       | 111/453 [12:52<35:25,  6.21s/it]"
          ]
        },
        {
          "output_type": "stream",
          "name": "stdout",
          "text": [
            "Augmentations:\n",
            "['Tikkurila Dusts Coatings has some 50 retainers at its heaters paint vegetable , which generated proceeds of EUR2 .4 m USD3 .3 m in 2010 ', 'Tikkurila Powder Coatings has some 50 staff at its four canvasses factory , which generated profit of EUR2 .4 m USD3 .3 m in 2010 ', 'Tikkurila Powdered Coatings has some 50 employees at its quatro paint installation , which wreaked takings of EUR2 .4 m USD3 .3 m in 2010 ', 'Tikkurila Powdery Coatings has some 50 earners at its four lacquer plants , which generated salaries of EUR2 .4 m USD3 .3 m in 2010 ', 'Tikkurila Powdery Coatings has some 50 employees at its four repainted plant , which wreaked takings of EUR2 .4 m USD3 .3 m in 2010 ']\n"
          ]
        },
        {
          "output_type": "stream",
          "name": "stderr",
          "text": [
            "\r 25%|██▍       | 112/453 [12:55<29:11,  5.14s/it]"
          ]
        },
        {
          "output_type": "stream",
          "name": "stdout",
          "text": [
            "Augmentations:\n",
            "['Tecnomen , headquartered in Espoo , Finland , developing messaging and charge solutions for telecomms operators and service supplier worldwide ', 'Tecnomen , headquartered in Espoo , Finland , develops courier and uploading solutions for telecomms operators and service vendors worldwide ', 'Tecnomen , headquartered in Espoo , Finland , develops message and burdens solutions for telecomms operators and service suppliers international ', 'Tecnomen , headquartered in Espoo , Finland , formulate messages and expenses solutions for telecomms operators and service providers universally ', 'Tecnomen , headquartered in Espoo , Finland , preparation messaging and expenses solutions for telecomms operators and service provider worldwide ']\n"
          ]
        },
        {
          "output_type": "stream",
          "name": "stderr",
          "text": [
            "\r 25%|██▍       | 113/453 [13:07<41:30,  7.33s/it]"
          ]
        },
        {
          "output_type": "stream",
          "name": "stdout",
          "text": [
            "Augmentations:\n",
            "['Finnish software developer Done Solutions Oyj explained its filet winnings skyrocketed to 3.5 miilion euro ( $ 4.6 mln ) in 2006 from 2.3 mln euro ( $ 3.0 billions ) in 2005 ', 'Finnish software promoter Iend Solutions Oyj described its net benefits soars to 3.5 mln euro ( $ 4.6 millions ) in 2006 from 2.3 mln euro ( $ 3.0 miilion ) in 2005 ', 'Finnish software proponent Done Solutions Oyj tell its net revenues risen to 3.5 millions euro ( $ 4.6 mln ) in 2006 from 2.3 mln euros ( $ 3.0 miilion ) in 2005 ', 'Finns software designer Ended Solutions Oyj argued its net virtues increased to 3.5 mln euros ( $ 4.6 mln ) in 2006 from 2.3 mln euro ( $ 3.0 trillions ) in 2005 ', 'Helsinki software developer Done Solutions Oyj testified its net benefit grown to 3.5 million euro ( $ 4.6 mln ) in 2006 from 2.3 mln euros ( $ 3.0 trillion ) in 2005 ']\n"
          ]
        },
        {
          "output_type": "stream",
          "name": "stderr",
          "text": [
            "\r 25%|██▌       | 114/453 [13:16<43:35,  7.72s/it]"
          ]
        },
        {
          "output_type": "stream",
          "name": "stdout",
          "text": [
            "Augmentations:\n",
            "[\"Covenants had been hoping a poor performance , and the firms 's stocks was up 6 ratios at  x20ac 23.89 US$ 33.84 in swifter afternoon trading in Helsinki \", \"Market had been sufferance a poor performance , and the corporate 's stocks was up 6 percent at  x20ac 23.89 OURS$ 33.84 in quick afternoon trading in Helsinki \", \"Markets had been expectation a poor performance , and the company 's stockpiling was up 6 percent at  x20ac 23.89 US$ 33.84 in readily midday trading in Helsinki \", \"Markets had been hoped a poor performance , and the venture 's stock was up 6 cent at  x20ac 23.89 US$ 33.84 in swifter afternoon trading in Stockholm \", \"Markets had been pending a poorer performance , and the company 's stocks was up 6 percent at  x20ac 23.89 NOUS$ 33.84 in readily afternoon commercial in Helsinki \"]\n"
          ]
        },
        {
          "output_type": "stream",
          "name": "stderr",
          "text": [
            "\r 25%|██▌       | 115/453 [13:16<31:25,  5.58s/it]"
          ]
        },
        {
          "output_type": "stream",
          "name": "stdout",
          "text": [
            "Augmentations:\n",
            "['Fillets sell revenue per passenger is expected to increase ', 'Net sales incomes per passenger is anticipated to increase ', 'Net sales profits per passenger is expected to heightened ', 'Net sales revenues per passenger is await to increase ', 'Net sells revenue per passenger is expected to increasing ']\n"
          ]
        },
        {
          "output_type": "stream",
          "name": "stderr",
          "text": [
            "\r 26%|██▌       | 116/453 [13:18<24:17,  4.32s/it]"
          ]
        },
        {
          "output_type": "stream",
          "name": "stdout",
          "text": [
            "Augmentations:\n",
            "['De EUR 0.7 million non-recurring charging have been enrolled for the third quarter ', 'De EUR 0.7 trillion non-recurring charges have been recorded for the third quarter ', 'Du EUR 0.7 million non-recurring spend have been taped for the third quarter ', 'The EUR 0.7 millions non-recurring prosecute have been embossed for the third quarter ', 'To EUR 0.7 trillion non-recurring expenses have been recording for the third quarter ']\n"
          ]
        },
        {
          "output_type": "stream",
          "name": "stderr",
          "text": [
            "\r 26%|██▌       | 117/453 [13:20<20:26,  3.65s/it]"
          ]
        },
        {
          "output_type": "stream",
          "name": "stdout",
          "text": [
            "Augmentations:\n",
            "['The transactions should rose earnings per sharing in the first quarter by some EUR0 .28 ', 'The transactions would ascendant earnings paras share in the premiere quarter by some EUR0 .28 ', 'The transactions would betterment earnings at exchanging in the first quarter by some EUR0 .28 ', 'The transactions would extension winnings at share in the first quarter by some EUR0 .28 ', 'The transactions would rebound earnings by exchanges in the first quarter by some EUR0 .28 ']\n"
          ]
        },
        {
          "output_type": "stream",
          "name": "stderr",
          "text": [
            "\r 26%|██▌       | 118/453 [13:32<34:16,  6.14s/it]"
          ]
        },
        {
          "output_type": "stream",
          "name": "stdout",
          "text": [
            "Augmentations:\n",
            "[\"S Clustered 's faithful customer magazine Yhteishyv+ñ came sec with 1,629,000 readers and Sanoma Corporation 's daily newspaper Helsingin Sanomat was thirds with 1,097,000 readers \", \"S Group 's sincere client magazine Yhteishyv+ó came second with 1,629,000 readership and Sanoma Corporation 's daily diaries Helsingin Sanomat was third with 1,097,000 audiences \", \"S Grouped 's faithful shoppers magazine Yhteishyv+ñ came seconds with 1,629,000 readership and Sanoma Company 's daily newspaper Helsingin Sanomat was third with 1,097,000 readers \", \"S Grupo 's honest customer magazine Yhteishyv+ñ arrive ii with 1,629,000 readers and Sanoma Enterprises 's daily diaries Helsingin Sanomat was third with 1,097,000 readers \", \"S Pool 's fiel consumer magazine Yhteishyv+ñ came second with 1,629,000 readers and Sanoma Corporation 's daily diary Helsingin Sanomat was third with 1,097,000 readers \"]\n"
          ]
        },
        {
          "output_type": "stream",
          "name": "stderr",
          "text": [
            "\r 26%|██▋       | 119/453 [13:32<24:40,  4.43s/it]"
          ]
        },
        {
          "output_type": "stream",
          "name": "stdout",
          "text": [
            "Augmentations:\n",
            "['- Dividend before taxes was EUR 105.9 82.7 billions ', '- Incomes before cargoes was EUR 105.9 82.7 million ', '- Incomes before taxes was EUR 105.9 82.7 million ', '- Obtaining before taxes was EUR 105.9 82.7 millions ', '- Revenue before prices was EUR 105.9 82.7 million ']\n"
          ]
        },
        {
          "output_type": "stream",
          "name": "stderr",
          "text": [
            "\r 26%|██▋       | 120/453 [13:36<22:35,  4.07s/it]"
          ]
        },
        {
          "output_type": "stream",
          "name": "stdout",
          "text": [
            "Augmentations:\n",
            "['The number of consumers is one of the most important parameters in discovering the prices of power networks ', 'The number of customers is one of the most considerable parameter in determines the fares of electricity networks ', 'The number of customers is one of the most critical parameters in defined the price of electrical networks ', 'The number of customers is one of the most overwhelming parameters in decide the fare of electricity webs ', 'The numero of customers is one of the most grande parameters in determining the banknote of electrics networks ']\n"
          ]
        },
        {
          "output_type": "stream",
          "name": "stderr",
          "text": [
            "\r 27%|██▋       | 121/453 [13:40<22:34,  4.08s/it]"
          ]
        },
        {
          "output_type": "stream",
          "name": "stdout",
          "text": [
            "Augmentations:\n",
            "['Exploit gains was EUR 9.8 minnesota , compared to a loss of EUR 12.7 mn in the corresponding timeframe in 2009 ', 'Measuring benefits was EURO 9.8 mn , compared to a losses of EUR 12.7 mn in the corresponding schedules in 2009 ', 'Operandi benefits was EUR 9.8 mn , compared to a loss of EUR 12.7 mn in the corresponding schedule in 2009 ', 'Operandi hike was EUR 9.8 mn , compare to a loss of EUROS 12.7 mn in the corresponding schedules in 2009 ', 'Operational earns was EUR 9.8 mn , compare to a loss of EUR 12.7 mn in the corresponding calendar in 2009 ']\n"
          ]
        },
        {
          "output_type": "stream",
          "name": "stderr",
          "text": [
            "\r 27%|██▋       | 122/453 [13:44<23:44,  4.30s/it]"
          ]
        },
        {
          "output_type": "stream",
          "name": "stdout",
          "text": [
            "Augmentations:\n",
            "[\"Across January-November 2009 , the grouping 's sell totalled EUR 7,801.7 mn , which was a subsided of 12.6 % from the same timetables of 2008 \", \"En January-November 2009 , the panel 's selling totalled EURO 7,801.7 mn , which was a declines of 12.6 % from the same period of 2008 \", \"For January-November 2009 , the group 's sold total EUROS 7,801.7 mn , which was a slash of 12.6 % from the same period of 2008 \", \"In January-November 2009 , the group 's sales total EURO 7,801.7 minnesota , which was a tumble of 12.6 % from the same timetable of 2008 \", \"Onto January-November 2009 , the group 's sales accounted EUROS 7,801.7 mn , which was a slumped of 12.6 % from the same calendars of 2008 \"]\n"
          ]
        },
        {
          "output_type": "stream",
          "name": "stderr",
          "text": [
            "\r 27%|██▋       | 123/453 [13:50<26:16,  4.78s/it]"
          ]
        },
        {
          "output_type": "stream",
          "name": "stdout",
          "text": [
            "Augmentations:\n",
            "[\"The fixed-term contract of Massa. Jarmo Ukonaho , the current General Manager of Incap 's Indianapolis activities , will terminates by the end of the annual \", \"The fixed-term marketed of Signor. Jarmo Ukonaho , the current Holistic Manager of Incap 's Indians operations , will finalizing by the end of the year \", \"The fixed-term marketplace of Mr. Jarmo Ukonaho , the continuously General Manager of Incap 's Indians operandi , will completes by the end of the year \", \"The fixed-term markets of Monsieur. Jarmo Ukonaho , the current Plenary Manager of Incap 's Indian operational , will finish by the end of the yearly \", \"The fixed-term pact of Mr. Jarmo Ukonaho , the being General Manager of Incap 's Indian operation , will completion by the ends of the year \"]\n"
          ]
        },
        {
          "output_type": "stream",
          "name": "stderr",
          "text": [
            "\r 27%|██▋       | 124/453 [13:52<21:36,  3.94s/it]"
          ]
        },
        {
          "output_type": "stream",
          "name": "stdout",
          "text": [
            "Augmentations:\n",
            "['Its produces portfolio implicates harvesters , forwarders , harvester directors , as well as cranes and loaders ', 'Its product portfolio comprises angler , forwarders , fisheries head , as well as cranes and loaders ', 'Its product portfolio consists whalers , forwarders , harvester heads , as well as cranes and loaders ', 'Its product portfolios comprises gatherers , forwarders , harvester chiefs , as well as cranes and loaders ', 'Its product portfolios implicates harvesters , forwarders , harvester heads , as well as cranes and bearers ']\n"
          ]
        },
        {
          "output_type": "stream",
          "name": "stderr",
          "text": [
            "\r 28%|██▊       | 125/453 [13:53<15:34,  2.85s/it]"
          ]
        },
        {
          "output_type": "stream",
          "name": "stdout",
          "text": [
            "Augmentations:\n",
            "['Du enhance range will vary up to 10 % ', 'The ascension range will vary up to 10 % ', 'The expands range will differ up to 10 % ', 'The increases ranges will vary up to 10 % ', 'The rise ranges will vary up to 10 % ']\n"
          ]
        },
        {
          "output_type": "stream",
          "name": "stderr",
          "text": [
            "\r 28%|██▊       | 126/453 [13:58<20:23,  3.74s/it]"
          ]
        },
        {
          "output_type": "stream",
          "name": "stdout",
          "text": [
            "Augmentations:\n",
            "['Du CVs of the proposes deputies are available for visualize from 12 March 2008 onwards on the Internet at www.sampo.com/infrared ', 'Nova CVs of the recommended member are available for view from 12 March 2008 onwards on the Internet at sss.sampo.com/ir ', 'The CVs of the proposes deputies are available for visualization from 12 March 2008 onwards on the Internet at www.sampo.com/infrared ', 'The CVs of the recommend members are available for viewpoint from 12 Marci 2008 onwards on the Network at www.sampo.kom/ir ', 'The CVs of the recommended members are reachable for visualizing from 12 March 2008 onwards on the Web at www.sampo.coms/ir ']\n"
          ]
        },
        {
          "output_type": "stream",
          "name": "stderr",
          "text": [
            "\r 28%|██▊       | 127/453 [14:00<17:20,  3.19s/it]"
          ]
        },
        {
          "output_type": "stream",
          "name": "stdout",
          "text": [
            "Augmentations:\n",
            "['Altogether 150 questions with lightly elevated cholesterol levels participated in the four-month long intervention ', 'Altogether 150 subject with marginally elevated cholesterol levels participated in the four-month longer intervention ', 'Altogether 150 subjects with mildly elevated cholesterol echelon participant in the four-month long interfering ', 'Altogether 150 things with mildly elevated cholesterol echelon participating in the four-month long intervention ', 'Altogether 150 topic with mildly elevated cholesterol grade participated in the four-month largo intervention ']\n"
          ]
        },
        {
          "output_type": "stream",
          "name": "stderr",
          "text": [
            "\r 28%|██▊       | 128/453 [14:02<14:54,  2.75s/it]"
          ]
        },
        {
          "output_type": "stream",
          "name": "stdout",
          "text": [
            "Augmentations:\n",
            "['Dilute earnings per share ( EPS ) rising to EUR 0.52 against EUR 0.09 ', 'Diluted dividend per share ( SPE ) airwaves to EUR 0.52 versus EUR 0.09 ', 'Diluted earnings per exchanging ( EPS ) raising to EUR 0.52 versus EURO 0.09 ', 'Diluted wages per exchanging ( EPS ) rose to EUR 0.52 versus EUR 0.09 ', 'Emasculate earns per share ( EPS ) soared to EUR 0.52 versus EUR 0.09 ']\n"
          ]
        },
        {
          "output_type": "stream",
          "name": "stderr",
          "text": [
            "\r 28%|██▊       | 129/453 [14:28<51:38,  9.56s/it]"
          ]
        },
        {
          "output_type": "stream",
          "name": "stdout",
          "text": [
            "Augmentations:\n",
            "['The Tecnomen Convergent Burden resolution includes functionality for prepaid and post-paid billing , loaded and rating of voice asked , photographer demands , raw data traffic and any type of content services in both mobile and fixed networking ', 'The Tecnomen Convergent Charging settled includes functionality for prepaid and post-paid invoice , expense and score of voice calls , video guests , raw data traffic and any type of pleased services in both mobil and fixed networks ', 'The Tecnomen Convergent Charging solution consists functionality for prepaid and post-paid bills , fees and rating of voice calls , video requests , raw data trafficking and any type of content services in both notebooks and fixed networking ', 'The Tecnomen Convergent Royalty settles therein functionality for prepaid and post-paid billing , charging and assessing of voice calls , videotape invitations , raw data traffic and any type of content services in both mobile and landline networks ', 'The Tecnomen Convergent Upload solution consisted proficiency for prepaid and post-paid billing , charging and score of voice urge , video calls , raw data traffic and any genus of content service in both mobile and fixed networks ']\n"
          ]
        },
        {
          "output_type": "stream",
          "name": "stderr",
          "text": [
            "\r 29%|██▊       | 130/453 [15:14<1:50:53, 20.60s/it]"
          ]
        },
        {
          "output_type": "stream",
          "name": "stdout",
          "text": [
            "Augmentations:\n",
            "['Crucial shareholders of Finnish IT services provider TietoEnator Oyj on Friday denial a inhospitable EUR1 .08 millionth $ 1.67 million offer from buyout shop Nordic Capital , giving new life to a possible counter furnished from Blackstone Group LP and Norwegian communication Telenor SAA ', 'Indispensable shareholder of Helsinki IT services supplier TietoEnator Oyj on Friday deny a hostile EUR1 .08 billion $ 1.67 trillion offer from buyout shop Nordic Capital , giving new life to a might counter provide from Blackstone Panels LP and Norwegian telecom Telenor ASA ', 'Key shareholders of Finnish IT services dealers TietoEnator Oyj on Sunday refute a hostile EUR1 .08 million $ 1.67 billion provide from buyout shop Nordic Capital , giving nouveau iife to a achievable counter offer from Blackstone Group LP and Norwegian telecommunications Telenor ASA ', 'Key shareholders of Finnish IT services supplier TietoEnator Oyj on Mons refused a enmity EUR1 .08 zillion $ 1.67 billions offer from redemption shop Nordic Capital , giving new life to a possible counter tenders from Blackstone Group LP and Norwegian communications Telenor ASA ', 'Pivotal shareholders of Finnish IT services supplier TietoEnator Oyj on Friday rejected a inhospitable EUR1 .08 billion $ 1.67 billion brings from buyout shop Nordic Capital , giving nuevo living to a maybe counter furnishes from Blackstone Panels LP and Norwegian telecom Telenor ASA ']\n"
          ]
        },
        {
          "output_type": "stream",
          "name": "stderr",
          "text": [
            "\r 29%|██▉       | 131/453 [15:28<1:40:27, 18.72s/it]"
          ]
        },
        {
          "output_type": "stream",
          "name": "stdout",
          "text": [
            "Augmentations:\n",
            "[\"Almost the latter quarter of 2010 , Componenta 's filet sales duplicates to EUR131m from EUR76m for the same timing a yr earlier , while it moved to a void pre-tax profit from a pre-tax loss of EUR7m \", \"At the final quarter of 2010 , Componenta 's incarceration sales duplicates to EUR131m from EUR76m for the same hourly a year beforehand , while it moved to a nought pre-tax revenue from a pre-tax loss of EUR7m \", \"For the last quarter of 2010 , Componenta 's detaining resell double to EUR131m from EUR76m for the same calendar a year ago , while it moved to a zilch pre-tax benefits from a pre-tax losses of EUR7m \", \"Into the enfin quarter of 2010 , Componenta 's net sales doubled to EUR131m from EUR76m for the same timetables a annum formerly , while it modifying to a nos pre-tax profit from a pre-tax loss of EUR7m \", \"Per the final quarter of 2010 , Componenta 's net vending doubling to EUR131m from EUR76m for the same period a year before , while it transference to a not pre-tax dividend from a pre-tax loss of EUR7m \"]\n"
          ]
        },
        {
          "output_type": "stream",
          "name": "stderr",
          "text": [
            "\r 29%|██▉       | 132/453 [15:30<1:13:40, 13.77s/it]"
          ]
        },
        {
          "output_type": "stream",
          "name": "stdout",
          "text": [
            "Augmentations:\n",
            "['Activity winnings excluding non-recurring items was EUR 7.8 million likened to EUR 11.2 billion ', 'Exploiting profit excluding non-recurring items was EUR 7.8 zillion comparative to EUR 11.2 millions ', 'Function proceeds foreclose non-recurring items was EUR 7.8 million compares to EUR 11.2 million ', 'Operate profit excluding non-recurring matters was EUR 7.8 million likened to EUR 11.2 million ', 'Operating profit excluding non-recurring topics was EUR 7.8 trillions compared to EUR 11.2 million ']\n"
          ]
        },
        {
          "output_type": "stream",
          "name": "stderr",
          "text": [
            "\r 29%|██▉       | 133/453 [15:31<51:45,  9.70s/it]  "
          ]
        },
        {
          "output_type": "stream",
          "name": "stdout",
          "text": [
            "Augmentations:\n",
            "['Scanfil has also issuance a profit warns ', 'Scanfil has also issued a dividend caveat ', 'Scanfil has also issued a profit ultimatums ', 'Scanfil has further issued a profit warnings ', 'Scanfil has otherwise issued a gains warning ']\n"
          ]
        },
        {
          "output_type": "stream",
          "name": "stderr",
          "text": [
            "\r 30%|██▉       | 134/453 [15:41<51:53,  9.76s/it]"
          ]
        },
        {
          "output_type": "stream",
          "name": "stdout",
          "text": [
            "Augmentations:\n",
            "['Du key breweries jumped their domestic brew sales by 4.5 per cent last year , to 256.88 million litres from 245.92 mln quart in 2004 ', 'Du principal breweries intensifying their domestic beer sell by 4.5 per cent last year , to 256.88 trillions litre from 245.92 million litres in 2004 ', 'The important breweries enhance their interior beer sales by 4.5 by cents last year , to 256.88 billions litres from 245.92 million litres in 2004 ', 'The major breweries climb their hinterland beer sales by 4.5 per dime lastly year , to 256.88 million litres from 245.92 trillions litre in 2004 ', 'The serious breweries augmentation their domestic beer sold by 4.5 per cent final year , to 256.88 trillion litres from 245.92 million quart in 2004 ']\n"
          ]
        },
        {
          "output_type": "stream",
          "name": "stderr",
          "text": [
            "\r 30%|██▉       | 135/453 [15:46<44:51,  8.46s/it]"
          ]
        },
        {
          "output_type": "stream",
          "name": "stdout",
          "text": [
            "Augmentations:\n",
            "['Across Sweden , operational victoire for the timeframe under browse totaled EUR 3.4 mn , up 30.8 % from the corresponding period in 2005 ', 'During Sweden , operating perks for the scheduling under examined totaled EUR 3.4 mn , up 30.8 % from the corresponding duration in 2005 ', 'In Sweden , function augmentation for the period under review amounted EUR 3.4 minnesota , up 30.8 % from the corresponding deadline in 2005 ', 'In Sweden , operating paying for the period under examinations totaled EUR 3.4 mn , up 30.8 % from the corresponding timetables in 2005 ', 'Into Sweden , operating profit for the periods under checking totaled EUR 3.4 mn , up 30.8 % from the corresponding periods in 2005 ']\n"
          ]
        },
        {
          "output_type": "stream",
          "name": "stderr",
          "text": [
            "\r 30%|███       | 136/453 [15:53<42:49,  8.11s/it]"
          ]
        },
        {
          "output_type": "stream",
          "name": "stdout",
          "text": [
            "Augmentations:\n",
            "['Any investing or investment endeavors to which this imparted relates is only availability to relevant persona and will be engaged in only with relevant persons ', 'Any investment or invested activity to which this telecommunications mentions is only available to pertinent person and will be engaged in only with relevant persons ', 'Any investment or investing activity to which this disseminate relates is only available to relevant individuals and will be implicated in only with germane persons ', 'Any investors or investment activity to which this communicates comprises is only available to pertinent persons and will be initiation in only with relevant persons ', 'Every invested or investment measurement to which this communication relates is only available to relevant personas and will be competed in only with relevant persons ']\n"
          ]
        },
        {
          "output_type": "stream",
          "name": "stderr",
          "text": [
            "\r 30%|███       | 137/453 [16:00<41:02,  7.79s/it]"
          ]
        },
        {
          "output_type": "stream",
          "name": "stdout",
          "text": [
            "Augmentations:\n",
            "[\"According to Norse Line 's Managing Superintendent , Nils-Erik Eklund , the societal 's Board of Directors is very thrilled with Viking Linea 's performance \", \"According to Viking Line 's Management Administrators , Nils-Erik Eklund , the venture 's Board of Directors is very delighted with Viking Linea 's performance \", \"According to Viking Line 's Managerial Director , Nils-Erik Eklund , the corporations 's Board of Principals is very glad with Viking Line 's performance \", \"Pursuant to Viking Iine 's Administers Director , Nils-Erik Eklund , the society 's Board of Directors is very flattered with Viking Line 's performance \", \"Virtue to Scandinavian Line 's Management Director , Nils-Erik Eklund , the company 's Board of Directors is very satisfied with Viking Iine 's yields \"]\n"
          ]
        },
        {
          "output_type": "stream",
          "name": "stderr",
          "text": [
            "\r 30%|███       | 138/453 [16:02<30:50,  5.87s/it]"
          ]
        },
        {
          "output_type": "stream",
          "name": "stdout",
          "text": [
            "Augmentations:\n",
            "['That ca be an widened from estimated sales of 117 million last year ', 'That should be an expanding from estimated sales of 117 million finals year ', 'That would be an increase from assessing sales of 117 trillions last leto ', 'That would be an soaring from estimated sales of 117 mln last annual ', 'That would be an strengthen from estimated sales of 117 trillions last year ']\n",
            "Augmentations:\n",
            "['Registered is required ', 'Registers is required ', 'Registration is compelled ', 'Registration is obliged ', 'Registration is requisite ']\n"
          ]
        },
        {
          "output_type": "stream",
          "name": "stderr",
          "text": [
            "\r 31%|███       | 140/453 [16:04<23:13,  4.45s/it]"
          ]
        },
        {
          "output_type": "stream",
          "name": "stdout",
          "text": [
            "Augmentations:\n",
            "[\"Sanoma Magazine Finland 's net salts expanded to EUR 140.1 mn from EUR 131.8 mn \", \"Sanoma Magazines Finland 's filet sales redouble to EUR 140.1 mn from EURO 131.8 manganese \", \"Sanoma Magazines Finland 's net sales rises to EUR 140.1 mn from EUR 131.8 min \", \"Sanoma Magazines Finland 's net sold increased to EUR 140.1 mn from EUR 131.8 mn \", \"Sanoma Magazines Finland 's tenderloin sales jumps to EUR 140.1 min from EUR 131.8 mn \"]\n"
          ]
        },
        {
          "output_type": "stream",
          "name": "stderr",
          "text": [
            "\r 31%|███       | 141/453 [16:14<31:55,  6.14s/it]"
          ]
        },
        {
          "output_type": "stream",
          "name": "stdout",
          "text": [
            "Augmentations:\n",
            "['U.S.-base ton Corp. is in talking with Scandinavian telecoms firms TeliaSonera to sell its staking in Uzbek notebooks operator Coscom , an executive at Coscom told Interfax ', 'U.S.-based T Corp. is in conversation with Scandinavian telecoms corporations TeliaSonera to selling its games in Uzbek laptop operator Coscom , an executive at Coscom tells Interfax ', 'U.S.-based T Corp. is in conversation with Scandinavian telecoms undertaking TeliaSonera to sale its stake in Uzbek laptops operator Coscom , an executive at Coscom told Interfax ', 'U.S.-founded T Corp. is in chitchat with Scandinavian telecoms businesses TeliaSonera to sales its stake in Uzbek notebooks operator Coscom , an stewardship at Coscom told Interfax ', 'U.S.-predicated T Corp. is in debates with Normans telecoms entrepreneurial TeliaSonera to sell its stake in Uzbek cellphone operator Coscom , an managerial at Coscom told Interfax ']\n"
          ]
        },
        {
          "output_type": "stream",
          "name": "stderr",
          "text": [
            "\r 31%|███▏      | 142/453 [16:24<37:20,  7.20s/it]"
          ]
        },
        {
          "output_type": "stream",
          "name": "stdout",
          "text": [
            "Augmentations:\n",
            "['Vehvilainen , who is contemporary the leader operating patrolman at Nokia Siemens Networks , will joining Finnair on 5 January 2010 and pick over as CEO effective 1 December 2010 ', 'Vehvilainen , who is currently the chief exploiting servant at Nokia Siemens Webs , will join Finnair on 5 January 2010 and choices over as CEO potency 1 Nov 2010 ', 'Vehvilainen , who is currently the chief operandi policemen at Nokia Siemens Network , will join Finnair on 5 January 2010 and take over as AAR efficient 1 Feb 2010 ', 'Vehvilainen , who is currently the head operational agent at Nokia Siemens Networks , will join Finnair on 5 October 2010 and taking over as CEO effective 1 Feb 2010 ', 'Vehvilainen , who is thu the jefe operation employees at Nokia Siemens Networks , will join Finnair on 5 January 2010 and take over as CEOS effectively 1 February 2010 ']\n"
          ]
        },
        {
          "output_type": "stream",
          "name": "stderr",
          "text": [
            "\r 32%|███▏      | 143/453 [16:34<41:49,  8.10s/it]"
          ]
        },
        {
          "output_type": "stream",
          "name": "stdout",
          "text": [
            "Augmentations:\n",
            "[\"LONDON AFX - Exchange in Rautaruukki Corp have been upgraded to ` hold ' from ` sells ' by ABN Amro , with the price objectives amplify to 25.75 eur from 14.5 , pointed distributors \", \"LONDON AFX - Shares in Rautaruukki Corp have been freshen to ` hold ' from ` sells ' by ABN Amro , with the prices aims expanding to 25.75 eur from 14.5 , said traffickers \", \"LONDON AFX - Shares in Rautaruukki Corp have been retrofitted to ` hold ' from ` sell ' by ABN Amro , with the price ambitions improve to 25.75 eur from 14.5 , avowed traffickers \", \"LONDON AFX - Shares in Rautaruukki Corp have been updating to ` hold ' from ` sell ' by ABN Amro , with the cost purpose growing to 25.75 euros from 14.5 , testified salesmen \", \"LONDON AFX - Swapped in Rautaruukki Corp have been upgraded to ` hold ' from ` resell ' by ABN Amro , with the priced targeted increased to 25.75 eur from 14.5 , said smugglers \"]\n",
            "Augmentations:\n",
            "['ND = No disclosed ', 'ND = None disclosed ', 'ND = Not revealed ', 'ND = Not unveiled ', 'ND = Nothing disclosed ']\n"
          ]
        },
        {
          "output_type": "stream",
          "name": "stderr",
          "text": [
            "\r 32%|███▏      | 145/453 [16:36<30:19,  5.91s/it]"
          ]
        },
        {
          "output_type": "stream",
          "name": "stdout",
          "text": [
            "Augmentations:\n",
            "['The final costing will be specified by 14 Presumably 2010 , the acquiring company told ', 'The final costs will be specified by 14 May 2010 , the buy enterprises said ', 'The final costs will be specified by 14 May 2010 , the buying corporate said ', 'The final pricing will be specified by 14 May 2010 , the bought undertakings said ', 'The finale prix will be specified by 14 May 2010 , the acquiring company told ']\n"
          ]
        },
        {
          "output_type": "stream",
          "name": "stderr",
          "text": [
            "\r 32%|███▏      | 146/453 [16:37<23:49,  4.66s/it]"
          ]
        },
        {
          "output_type": "stream",
          "name": "stdout",
          "text": [
            "Augmentations:\n",
            "['Dragonfly Adores is another video shot from beginnings to finish using the Nokia N8 ', 'Dragonfly Adores is another video shot from lancer to ended using the Nokia N8 ', 'Dragonfly Iike is another video shot from undertook to closing using the Nokia N8 ', 'Dragonfly Love is another video filmed from commences to finish using the Nokia N8 ', 'Dragonfly Love is another video gunshot from opens to finish using the Nokia N8 ']\n"
          ]
        },
        {
          "output_type": "stream",
          "name": "stderr",
          "text": [
            "\r 32%|███▏      | 147/453 [16:38<17:46,  3.49s/it]"
          ]
        },
        {
          "output_type": "stream",
          "name": "stdout",
          "text": [
            "Augmentations:\n",
            "['For gains after royalties was EUR 57.7 11.1 million ', 'Of revenues after fees was EUR 57.7 11.1 million ', 'The gains after burden was EUR 57.7 11.1 millions ', 'The obtaining after royalties was EUROS 57.7 11.1 million ', 'To profit after tax was EUR 57.7 11.1 trillion ']\n"
          ]
        },
        {
          "output_type": "stream",
          "name": "stderr",
          "text": [
            "\r 33%|███▎      | 148/453 [16:44<21:36,  4.25s/it]"
          ]
        },
        {
          "output_type": "stream",
          "name": "stdout",
          "text": [
            "Augmentations:\n",
            "['Finnish Suominen Business that makes wipes , nonwovens , and flexible packs , has a plant near Warsaw , in Poland , that makes flexible bundles ', 'Finnish Suominen Enterprises that makes wiping , nonwovens , and flexible packages , has a plant closed Warsaw , in Poland , that makes flexible bundle ', 'Finnish Suominen Undertakings that makes wipes , nonwovens , and pliable packaging , has a factory near Warsaw , in Poland , that makes flexible packages ', 'Finns Suominen Corporation that makes wipes , nonwovens , and flexible bundles , has a installation approaching Warsaw , in Poland , that makes elastic packaging ', 'Helsinki Suominen Firms that makes wipes , nonwovens , and flexible packed , has a plant shuts Warsaw , in Poland , that makes flexible bagged ']\n"
          ]
        },
        {
          "output_type": "stream",
          "name": "stderr",
          "text": [
            "\r 33%|███▎      | 149/453 [16:45<16:43,  3.30s/it]"
          ]
        },
        {
          "output_type": "stream",
          "name": "stdout",
          "text": [
            "Augmentations:\n",
            "['Aux company will propose a dividend of EUR0 .12 for share for 2008 ', 'The businesses will recommendations a wage of EUR0 .12 per share for 2008 ', 'The company will proposals a dividend of EUR0 .12 per share for 2008 ', 'The enterprise will proposed a dividend of EUR0 .12 para share for 2008 ', 'The entrepreneurs will recommended a dividends of EUR0 .12 per share for 2008 ']\n"
          ]
        },
        {
          "output_type": "stream",
          "name": "stderr",
          "text": [
            "\r 33%|███▎      | 150/453 [16:52<21:23,  4.24s/it]"
          ]
        },
        {
          "output_type": "stream",
          "name": "stdout",
          "text": [
            "Augmentations:\n",
            "['UPM-Kymmene www.upm-kymmene.com begets magazine papers and newsprint , as alright as fine and specialty papers , translate materials and bois merchandise ', 'UPM-Kymmene www.upm-kymmene.com produces magazine papers and newsprint , as well as fines and specialised papers , converting materials and timber product ', 'UPM-Kymmene www.upm-kymmene.com produces magazine papers and newsprint , as well as gentil and speciality papers , conversion materials and wooden products ', 'UPM-Kymmene www.upm-kymmene.com products magazine papers and dailies , as allright as fine and specialty papers , converting materials and woodlands products ', 'UPM-Kymmene www.upm-kymmene.kom produced magazine papers and newsprint , as bah as fine and specialty papers , transformations materials and wood merchandise ']\n"
          ]
        },
        {
          "output_type": "stream",
          "name": "stderr",
          "text": [
            "\r 33%|███▎      | 151/453 [16:56<21:45,  4.32s/it]"
          ]
        },
        {
          "output_type": "stream",
          "name": "stdout",
          "text": [
            "Augmentations:\n",
            "['`` This boat order will help Aspo securing the long-term rivalry of its fleet , both in terms of technique and fee ', '`` This freighter order will supportive Aspo safe the long-term competitiveness of its fleet , both in terms of technicians and prize ', '`` This ships orders will help Aspo secure the long-term competitiveness of its flotilla , both in terms of techniques and fees ', '`` This vessel decree will succour Aspo safeguarding the long-term competitiveness of its fleet , both in terms of technological and price ', '`` This vessel order will aided Aspo warranty the long-term competitiveness of its fleet , both in terminology of techs and prizes ']\n"
          ]
        },
        {
          "output_type": "stream",
          "name": "stderr",
          "text": [
            "\r 34%|███▎      | 152/453 [17:02<23:39,  4.72s/it]"
          ]
        },
        {
          "output_type": "stream",
          "name": "stdout",
          "text": [
            "Augmentations:\n",
            "['Filet sales broadened by 18.5 % to EUR167 .8 m. Teleste asserted that EUR20 .4 m , or 12.2 % , of the sell happened from the acquisitions made in 2009 ', 'Fillets sales increase by 18.5 % to EUR167 .8 m. Teleste tell that EUR20 .4 m , or 12.2 % , of the selling arrived from the acquisitions made in 2009 ', 'Net sales reinforce by 18.5 % to EUR167 .8 m. Teleste reaffirmed that EUR20 .4 m , or 12.2 % , of the sales transpired from the acquisitions tabled in 2009 ', 'Wisp sales gains by 18.5 % to EUR167 .8 m. Teleste said that EUR20 .4 m , or 12.2 % , of the marketing came from the acquiring executed in 2009 ', 'Wisp sales soaring by 18.5 % to EUR167 .8 m. Teleste asserted that EUR20 .4 m , or 12.2 % , of the salts came from the buying made in 2009 ']\n"
          ]
        },
        {
          "output_type": "stream",
          "name": "stderr",
          "text": [
            "\r 34%|███▍      | 153/453 [17:10<28:06,  5.62s/it]"
          ]
        },
        {
          "output_type": "stream",
          "name": "stdout",
          "text": [
            "Augmentations:\n",
            "[\"Kauko-Telko 's centralized admin will be dissolved and suitable parts of it will be transferred to operative activities and Grupo stewardship by the end of the annum \", \"Kauko-Telko 's centralized administration will be disassembled and appropriate parts of it will be transferred to cooperation measures and Groups administrative by the end of the leto \", \"Kauko-Telko 's centralized administration will be dissolved and presentable parts of it will be transports to operating actions and Grouping govern by the ending of the year \", \"Kauko-Telko 's centralized governance will be dissolved and appropriate parts of it will be transference to operating activities and Reunion managers by the expires of the yr \", \"Kauko-Telko 's centralized management will be dissolved and decent parts of it will be transferred to operating endeavors and Group administer by the completion of the annually \"]\n"
          ]
        },
        {
          "output_type": "stream",
          "name": "stderr",
          "text": [
            "\r 34%|███▍      | 154/453 [17:39<1:03:20, 12.71s/it]"
          ]
        },
        {
          "output_type": "stream",
          "name": "stdout",
          "text": [
            "Augmentations:\n",
            "['Global sporting equipments makers Emir Sport Corp. , whose marca include Atomic , Salomon and Wilson , regarded a 64 percent widens in third-quarter net profit to EURO 47.4 million $ 65 million on strong sales and cost cuts ', 'Global sports apparatus maker Amer Athletics Corp. , whose brand include Atomic , Salomon and Wilson , seen a 64 percent increase in third-quarter net incomes to EURO 47.4 zillion $ 65 million on strong sales and expenditures slash ', 'Global sports equipment maker Amer Athletes Corp. , whose hallmark include Atomic , Salomon and Wilson , saw a 64 percent soar in third-quarter net pays to EUROS 47.4 millionth $ 65 miilion on strong sales and fees cuts ', 'International jocks apparatus constructor Amer Sports Corp. , whose brands composing Atomic , Salomon and Wilson , saw a 64 percent raising in third-quarter net benefit to EURO 47.4 million $ 65 million on powerful sales and cost cuts ', 'Overall athletic equipment constructor Amer Sports Corp. , whose branded include Atomic , Salomon and Wilson , saw a 64 percent fortify in third-quarter net benefits to EURO 47.4 million $ 65 million on vigorous sales and cost compressions ']\n"
          ]
        },
        {
          "output_type": "stream",
          "name": "stderr",
          "text": [
            "\r 34%|███▍      | 155/453 [17:47<56:30, 11.38s/it]  "
          ]
        },
        {
          "output_type": "stream",
          "name": "stdout",
          "text": [
            "Augmentations:\n",
            "['- Net marketing for the duration are expected to reduced well below that of latest year and the results after non-recurring topics is expected to be in the red ', '- Net sale for the timetables are expects to slumps well below that of last year and the finding after non-recurring items is expects to be in the red ', '- Net sales for the deadline are expected to diminish buena below that of last leto and the consequence after non-recurring topic is expected to be in the red ', '- Wisp sales for the calendar are expected to waterfalls well below that of last year and the result after non-recurring topics is hoped to be in the tinto ', '- Wisp sales for the timing are expected to fall well below that of last year and the findings after non-recurring items is desire to be in the rouge ']\n"
          ]
        },
        {
          "output_type": "stream",
          "name": "stderr",
          "text": [
            "\r 34%|███▍      | 156/453 [17:48<40:36,  8.20s/it]"
          ]
        },
        {
          "output_type": "stream",
          "name": "stdout",
          "text": [
            "Augmentations:\n",
            "['On initials assessing , the hotel will operation under the brand Novotel ', 'On preliminary calculation , the hotel will operational under the brand Novotel ', 'On preliminary estimating , the hotel will operate under the branding Novotel ', 'On preliminary valuation , the hotel will operate under the brands Novotel ', 'Regarding emergent valuation , the hotel will operate under the brand Novotel ']\n"
          ]
        },
        {
          "output_type": "stream",
          "name": "stderr",
          "text": [
            "\r 35%|███▍      | 157/453 [18:03<50:11, 10.17s/it]"
          ]
        },
        {
          "output_type": "stream",
          "name": "stdout",
          "text": [
            "Augmentations:\n",
            "[\"down to EUR5 .9 m H1 '09 3 August 2009 - Finnish mediums groupings Ilkka-Yhtyma Oyj ( HEL : ILK2S ) tells sunday its net revenues downfall 45 % on the year to EUR5 .9 m in the initiating half of 2009 \", \"down to EUR5 .9 m H1 '09 3 August 2009 - Finnish milieu grouping Ilkka-Yhtyma Oyj ( HEL : ILK2S ) mentioned today its filet dividend leapt 45 % on the everyyear to EUR5 .9 m in the premiere half of 2009 \", \"down to EUR5 .9 m H1 '09 3 Augusta 2009 - Finnish median group Ilkka-Yhtyma Oyj ( HEL : ILK2S ) testified thu its net interests dip 45 % on the annual to EUR5 .9 m in the upfront half of 2009 \", \"down to EUR5 .9 m H1 '09 3 Augusto 2009 - Finnish medias groups Ilkka-Yhtyma Oyj ( HEL : ILK2S ) stated nowadays its net profit tumbles 45 % on the year to EUR5 .9 m in the premiere average of 2009 \", \"down to EUR5 .9 m H1 '09 3 Augustus 2009 - Finnish media cluster Ilkka-Yhtyma Oyj ( HEL : ILK2S ) declared fridays its net profit dropped 45 % on the yearly to EUR5 .9 m in the initial half of 2009 \"]\n"
          ]
        },
        {
          "output_type": "stream",
          "name": "stderr",
          "text": [
            "\r 35%|███▍      | 158/453 [18:04<37:30,  7.63s/it]"
          ]
        },
        {
          "output_type": "stream",
          "name": "stdout",
          "text": [
            "Augmentations:\n",
            "['ABN : 59 087 901 620 now constitute 5.10 % of the chooses rights and share capitalist of Citycon Oyj ', 'ABN : 59 087 901 620 now constituted 5.10 % of the voting right and interchange capital of Citycon Oyj ', 'ABN : 59 087 901 620 now embody 5.10 % of the voting rights and interchange capital of Citycon Oyj ', 'ABN : 59 087 901 620 now poses 5.10 % of the suffrage rights and sharing capital of Citycon Oyj ', 'ABN : 59 087 901 620 now represent 5.10 % of the polling rights and share capital of Citycon Oyj ']\n"
          ]
        },
        {
          "output_type": "stream",
          "name": "stderr",
          "text": [
            "\r 35%|███▌      | 159/453 [18:06<27:57,  5.71s/it]"
          ]
        },
        {
          "output_type": "stream",
          "name": "stdout",
          "text": [
            "Augmentations:\n",
            "['Nova shopkeepers include 40 shareholders , including Intellibis management , retainers and other investors ', 'The dealers consisting 40 shareholders , including Intellibis management , employees and other capitalists ', 'The providers include 40 shareholders , including Intellibis administering , officials and other investors ', 'The retailer consisting 40 shareholders , including Intellibis administered , employees and other investors ', 'The sellers comprising 40 shareholders , including Intellibis management , agent and other investors ']\n"
          ]
        },
        {
          "output_type": "stream",
          "name": "stderr",
          "text": [
            "\r 35%|███▌      | 160/453 [18:07<21:48,  4.47s/it]"
          ]
        },
        {
          "output_type": "stream",
          "name": "stdout",
          "text": [
            "Augmentations:\n",
            "['Commenting on the fought , Shane Lennon , SVP of Marketing & Product Development at GyPSii asserted : ', 'Commenting on the processing , Shane Lennon , SVP of Merchandising & Product Development at GyPSii declared : ', 'Commenting on the readjust , Shane Lennon , SVP of Marketing & Products Development at GyPSii declared : ', 'Commenting on the solved , Shane Lennon , SVP of Marketing & Wares Development at GyPSii declared : ', 'Commenting on the tackling , Shane Lennon , SVP of Marketing & Product Developments at GyPSii outlined : ']\n"
          ]
        },
        {
          "output_type": "stream",
          "name": "stderr",
          "text": [
            "\r 36%|███▌      | 161/453 [18:14<25:20,  5.21s/it]"
          ]
        },
        {
          "output_type": "stream",
          "name": "stdout",
          "text": [
            "Augmentations:\n",
            "['Oj the taped of the shares subscribed in a directed share issue , the new number of Panostaja shares and polling right is 41,733,110 ', 'Since the checkin of the shares subscribed in a directed exchanges subject , the novel number of Panostaja shares and votes rights is 41,733,110 ', 'Since the recordings of the shares subscribed in a directed exchange issue , the newer number of Panostaja shares and ballots rights is 41,733,110 ', 'Since the records of the shares subscribed in a guided traded issue , the new numero of Panostaja shares and polling rights is 41,733,110 ', 'Upon the checkin of the shares subscribed in a directed shared items , the new number of Panostaja shares and voter rights is 41,733,110 ']\n"
          ]
        },
        {
          "output_type": "stream",
          "name": "stderr",
          "text": [
            "\r 36%|███▌      | 162/453 [18:15<19:42,  4.06s/it]"
          ]
        },
        {
          "output_type": "stream",
          "name": "stdout",
          "text": [
            "Augmentations:\n",
            "['Du resting amount will be funded through debt , the Danish banco said ', 'The remaining volumes will be funded through debt , the Danish bank said ', 'The surplus amount will be funded through debt , the Danish banker mentioned ', 'To remaining amount will be financing through debt , the Danish banking said ', 'To remaining amount will be funded through debt , the Dane bank said ']\n"
          ]
        },
        {
          "output_type": "stream",
          "name": "stderr",
          "text": [
            "\r 36%|███▌      | 163/453 [18:35<42:51,  8.87s/it]"
          ]
        },
        {
          "output_type": "stream",
          "name": "stdout",
          "text": [
            "Augmentations:\n",
            "[\"POYRY PLCCompany Ads 10 January 2010 at 4.10 p.m. Pursuant to Poyry PLC 's stock option programme 2004 , 63 792 new interchange of the venture have been subscribed since 27 April 2010 with stockpiled choosing 2004B \", \"POYRY PLCCompany Advertisements 10 Avril 2010 at 4.10 p.m. Pursuant to Poyry PLC 's stockpiles option curriculum 2004 , 63 792 novel shared of the company have been autographed already 27 October 2010 with stock options 2004B \", \"POYRY PLCCompany Advertising 10 December 2010 at 4.10 p.m. Conformity to Poyry PLC 's stock alternatives programme 2004 , 63 792 newest shares of the company have been signed since 27 November 2010 with stocks options 2004B \", \"POYRY PLCCompany Announcement 10 Jan 2010 at 4.10 phosphorous.m. Pursuant to Poyry PLC 's stockpiles options agendas 2004 , 63 792 nouvelle shares of the company have been signature since 27 October 2010 with stock selected 2004B \", \"POYRY PLCCompany Announcement 10 September 2010 at 4.10 phosphorous.m. Conformity to Poyry PLC 's stock option planning 2004 , 63 792 newer shares of the company have been subscribed since 27 September 2010 with stockpiled alternating 2004B \"]\n"
          ]
        },
        {
          "output_type": "stream",
          "name": "stderr",
          "text": [
            "\r 36%|███▌      | 164/453 [18:43<40:57,  8.50s/it]"
          ]
        },
        {
          "output_type": "stream",
          "name": "stdout",
          "text": [
            "Augmentations:\n",
            "['The power supplies , DC power schematics and inverters designs and fabricate by Efore , and plan incorporating them are used in many accessories applications ', 'The power supplies , DC power systems and inverters designed and fabricated by Efore , and systems incorporating them are used in many varied motion ', 'The power supplies , DC power systems and inverters designed and manufactured by Efore , and systems integrate them are using in multiple varying ask ', 'The wattage supplies , CC power schemes and inverters drawings and manufactured by Efore , and systems incorporating them are used in many varied applications ', 'The wattage supplies , DC power systems and inverters established and manufactured by Efore , and systems encompass them are used in much different petitions ']\n"
          ]
        },
        {
          "output_type": "stream",
          "name": "stderr",
          "text": [
            "\r 36%|███▋      | 165/453 [18:49<37:19,  7.78s/it]"
          ]
        },
        {
          "output_type": "stream",
          "name": "stdout",
          "text": [
            "Augmentations:\n",
            "[\"Sampo Abode Lending Bank , a unit of Finland 's Sampo Bank , has spending its EUR1bn ( USD1 .3 bn ) bond at 99.889 % , Reuters advised \", \"Sampo Abode Loan Bank , a unit of Finnish 's Sampo Banker , has priced its EUR1bn ( USD1 .3 bn ) bondage at 99.889 % , Reuters inform \", \"Sampo Houses Loan Banco , a unit of Finland 's Sampo Banque , has priced its EUR1bn ( USD1 .3 bn ) bond at 99.889 % , Reuters reported \", \"Sampo Sanctuaries Loaned Bank , a unit of Finland 's Sampo Banks , has price its EUR1bn ( USD1 .3 bn ) bonds at 99.889 % , Reuters reported \", \"Sampo Shelters Loans Banker , a unit of Finland 's Sampo Bank , has charge its EUR1bn ( USD1 .3 bn ) bond at 99.889 % , Reuters apprised \"]\n"
          ]
        },
        {
          "output_type": "stream",
          "name": "stderr",
          "text": [
            "\r 37%|███▋      | 166/453 [18:50<27:31,  5.75s/it]"
          ]
        },
        {
          "output_type": "stream",
          "name": "stdout",
          "text": [
            "Augmentations:\n",
            "['It estimates the operandi profit to further consolidation from the third quarter ', 'It estimates the operating profit to further refinements from the third quarter ', 'It estimates the operating profit to further solidified from the third quarter ', 'It estimates the operations profits to further boosting from the third quarter ', 'It estimating the operating incomes to further improve from the third quarter ']\n"
          ]
        },
        {
          "output_type": "stream",
          "name": "stderr",
          "text": [
            "\r 37%|███▋      | 167/453 [18:53<23:24,  4.91s/it]"
          ]
        },
        {
          "output_type": "stream",
          "name": "stdout",
          "text": [
            "Augmentations:\n",
            "['Rapala VMC Corporation ( Rapala ) is a Finland-based business incurred in the manufacture and distribution of marten appliance and accessories ', 'Rapala VMC Corporation ( Rapala ) is a Finland-based company embarked in the manufacture and circulated of peaches equipment and accessories ', 'Rapala VMC Corporation ( Rapala ) is a Finland-based company hired in the manufacture and distribution of pesca equipment and furnishings ', 'Rapala VMC Corporations ( Rapala ) is a Finland-based company engaged in the fabricate and distribution of fishery equipments and accessories ', 'Rapala VMC Ventures ( Rapala ) is a Finland-based company participant in the manufacturing and distribution of fishing tooling and accessories ']\n"
          ]
        },
        {
          "output_type": "stream",
          "name": "stderr",
          "text": [
            "\r 37%|███▋      | 168/453 [19:04<31:25,  6.62s/it]"
          ]
        },
        {
          "output_type": "stream",
          "name": "stdout",
          "text": [
            "Augmentations:\n",
            "['Ago , EB filed a custom solution for LG Electronics and now is making it commercially available for other laptop terminal vendors as well as to wireless operators ', 'Previous , EB handed a customize solution for LG Electronics and now is making it commercially available for other cellphone terminal suppliers as bah as to wireless operators ', 'Previously , EB delivered a custom resolving for LG Electronic and now is doing it mercantile doable for other mobile terminal supplier as well as to wireless operators ', 'Previously , EB delivered a custom solution for LG Electronic and now is making it mercantile available for other mobil termini vendors as allright as to cordless operators ', 'Previously , EB delivered a custom solve for LG Electronics and now is making it commercially reachable for other notepad piers suppliers as well as to wireless operators ']\n"
          ]
        },
        {
          "output_type": "stream",
          "name": "stderr",
          "text": [
            "\r 37%|███▋      | 169/453 [19:15<38:27,  8.13s/it]"
          ]
        },
        {
          "output_type": "stream",
          "name": "stdout",
          "text": [
            "Augmentations:\n",
            "['Finnish Banking of +àland reports its operating winnings slumped to EUR 4.9 min in the third quarter of 2007 from EUROS 5.6 mn in the third quarter of 2006 ', 'Finnish Banque of +àland reports its operation interests lowering to EUR 4.9 mn in the third quarter of 2007 from EUR 5.6 mn in the third quarter of 2006 ', 'Helsinki Bank of +àland reports its operational dividend shrinking to EUR 4.9 min in the third quarter of 2007 from EURO 5.6 mn in the third quarter of 2006 ', 'Helsinki Bank of +àland reports its operational enhanced falls to EUR 4.9 mn in the third quarter of 2007 from EUR 5.6 mn in the terzi quarter of 2006 ', 'Helsinki Banking of +àland report its operative virtues falls to EUR 4.9 mn in the third quarter of 2007 from EUR 5.6 mn in the third quarter of 2006 ']\n"
          ]
        },
        {
          "output_type": "stream",
          "name": "stderr",
          "text": [
            "\r 38%|███▊      | 170/453 [19:19<31:23,  6.65s/it]"
          ]
        },
        {
          "output_type": "stream",
          "name": "stdout",
          "text": [
            "Augmentations:\n",
            "['Ago to the surgery , whose financial terms have not been unveil , Alma Media owned 40 % of Kotikokki net ', 'Ago to the transactions , whose financial terms have not been uncovered , Alma Media possessed 40 % of Kotikokki net ', 'Precedent to the transaction , whose financial terms have not been disclosed , Alma Media own 40 % of Kotikokki wisp ', 'Prior to the transact , whose financing terms have not been disclosed , Soul Media owned 40 % of Kotikokki net ', 'Prior to the transactions , whose financial lexicon have not been disclosed , Lifeblood Journalists owned 40 % of Kotikokki net ']\n"
          ]
        },
        {
          "output_type": "stream",
          "name": "stderr",
          "text": [
            "\r 38%|███▊      | 171/453 [19:40<51:40, 11.00s/it]"
          ]
        },
        {
          "output_type": "stream",
          "name": "stdout",
          "text": [
            "Augmentations:\n",
            "['Fein department store chain Stockmann Oyj Abp net interests intensify to 39.8 mln euro ( $ 56.8 miilion ) for the frst nine month of 2007 from 37.4 miilion euro ( $ 53.4 mln ) for the same moments of 2006 ', 'Fein ministry stores chain Stockmann Oyj Abp net profit boosts to 39.8 millions euro ( $ 56.8 mln ) for the first nine months of 2007 from 37.4 billions euro ( $ 53.4 miilion ) for the same time of 2006 ', 'Finnish department shop chain Stockmann Oyj Abp net benefits soar to 39.8 mln euro ( $ 56.8 mln ) for the originally neuf mois of 2007 from 37.4 mln eur ( $ 53.4 mln ) for the same periods of 2006 ', 'Finnish ministers boutiques chain Stockmann Oyj Abp tenderloin perks rose to 39.8 zillion euro ( $ 56.8 mln ) for the initially nine monthly of 2007 from 37.4 mln euro ( $ 53.4 mln ) for the same calendars of 2006 ', 'Finns department shop strings Stockmann Oyj Abp net won surging to 39.8 mln euro ( $ 56.8 mln ) for the frst nine months of 2007 from 37.4 millions euro ( $ 53.4 mln ) for the same schedules of 2006 ']\n"
          ]
        },
        {
          "output_type": "stream",
          "name": "stderr",
          "text": [
            "\r 38%|███▊      | 172/453 [19:41<37:33,  8.02s/it]"
          ]
        },
        {
          "output_type": "stream",
          "name": "stdout",
          "text": [
            "Augmentations:\n",
            "['The appointing will be in force until the nuevo EXECS has been appointed ', 'The appointments will be in force until the novo CEO has been nominate ', 'The designation will be in force until the nouvelle CEO has been designation ', 'The nominating will be in kraft until the new CEO has been appoint ', 'The rendezvous will be in force until the nouveau CEO has been naming ']\n"
          ]
        },
        {
          "output_type": "stream",
          "name": "stderr",
          "text": [
            "\r 38%|███▊      | 173/453 [19:55<46:32,  9.97s/it]"
          ]
        },
        {
          "output_type": "stream",
          "name": "stdout",
          "text": [
            "Augmentations:\n",
            "['Finnish high tech provider Vaahto Group reports net sales of EUR 41.8 mn in the account period Janvier 2007 - July 2008 , an growing of 11.2 % from a yr earlier ', 'Finnish high technology retailers Vaahto Groupings reports net sales of EUR 41.8 mn in the gl schedules Avril 2007 - February 2008 , an deepened of 11.2 % from a year earlier ', 'Finnish higher techno vendors Vaahto Group reports net sales of EUROS 41.8 mn in the bookkeeper hourly September 2007 - December 2008 , an increase of 11.2 % from a year earlier ', 'Finnish supreme techniques purveyor Vaahto Group rapport net sales of EUR 41.8 mn in the accounting timetable September 2007 - February 2008 , an increasing of 11.2 % from a annual earlier ', 'Helsinki haut technology provider Vaahto Clustered reports net sells of EUR 41.8 mn in the accounting timeframe September 2007 - July 2008 , an enhance of 11.2 % from a year earlier ']\n"
          ]
        },
        {
          "output_type": "stream",
          "name": "stderr",
          "text": [
            "\r 38%|███▊      | 174/453 [20:39<1:33:02, 20.01s/it]"
          ]
        },
        {
          "output_type": "stream",
          "name": "stdout",
          "text": [
            "Augmentations:\n",
            "['The Annual Ensemble Reunions authorized that the yearly payrolls for the members of the Commission of Principals shall persist at EUR 40.000 for the President of the Board , EUROS 30.000 for the Deputy Chairman of the Board and EURO 20.000 for other members of the Board ', 'The Annual General Meeting ratification that the leto wages for the member of the Boards of Directors shall perpetual at EUR 40.000 for the Chairs of the Committees , EUR 30.000 for the Deputy Chairman of the Board and EUR 20.000 for other members of the Boards ', 'The Annual Total Meeting endorsed that the yearly paid for the deputies of the Commission of Directors shall sojourn at EUROS 40.000 for the Chairmen of the Board , EUR 30.000 for the Deputy Wheelchairs of the Board and EUR 20.000 for other member of the Board ', 'The Annum Comprehensive Meeting adopted that the yearly salaried for the members of the Board of Directors shall remain at EUR 40.000 for the Presidents of the Board , EUR 30.000 for the Deputy Presidents of the Commission and EUROS 20.000 for other deputies of the Board ', 'The Yearly Overall Meeting ratification that the yearly treatments for the members of the Board of Leadership shall persist at EUR 40.000 for the Presides of the Board , EUR 30.000 for the Undersecretary President of the Board and EUR 20.000 for other members of the Board ']\n"
          ]
        },
        {
          "output_type": "stream",
          "name": "stderr",
          "text": [
            "\r 39%|███▊      | 175/453 [20:40<1:06:51, 14.43s/it]"
          ]
        },
        {
          "output_type": "stream",
          "name": "stdout",
          "text": [
            "Augmentations:\n",
            "['The aggregate floor area of the plant expansion is 29,000 square metres ', 'The total floor area of the facility broadening is 29,000 square meter ', 'The total floor domains of the factories widen is 29,000 square metres ', 'The totalled floor area of the plants augmentation is 29,000 square metres ', 'The whole floor area of the vegetable enlarge is 29,000 square metres ']\n"
          ]
        },
        {
          "output_type": "stream",
          "name": "stderr",
          "text": [
            "\r 39%|███▉      | 176/453 [20:46<54:38, 11.83s/it]  "
          ]
        },
        {
          "output_type": "stream",
          "name": "stdout",
          "text": [
            "Augmentations:\n",
            "['Cash flow from functioning full EUR 7.4 manganese , compared to a rotten EUROS 68.6 mn in the second quarter of 2008 ', 'Cash flow from operating totalled EUR 7.4 mn , compare to a harmful EURO 68.6 minneapolis in the second quarter of 2008 ', 'Cash flow from operational accounted EUR 7.4 mn , likened to a unwholesome EUR 68.6 manganese in the second quarter of 2008 ', 'Cash flow from operations overall EUR 7.4 minnesota , compared to a unfavourable EURO 68.6 mn in the second quarter of 2008 ', 'Cash stream from operations totaled EUR 7.4 manganese , comparisons to a mala EUR 68.6 mn in the second quarter of 2008 ']\n"
          ]
        },
        {
          "output_type": "stream",
          "name": "stderr",
          "text": [
            "\r 39%|███▉      | 177/453 [20:47<40:01,  8.70s/it]"
          ]
        },
        {
          "output_type": "stream",
          "name": "stdout",
          "text": [
            "Augmentations:\n",
            "['Juha Haapakoski will continued as Editor-in-Chief with budget duty also with the new publishers ', 'Juha Haapakoski will continuously as Editor-in-Chief with budget burden also with the novel publisher ', 'Juha Haapakoski will persevere as Editor-in-Chief with budget responsible furthermore with the new publisher ', 'Juha Haapakoski will persisted as Editor-in-Chief with budget load elsewhere with the new publisher ', 'Juha Haapakoski will uninterrupted as Editor-in-Chief with budget responsibility moreover with the nouvelle publisher ']\n"
          ]
        },
        {
          "output_type": "stream",
          "name": "stderr",
          "text": [
            "\r 39%|███▉      | 178/453 [20:50<31:23,  6.85s/it]"
          ]
        },
        {
          "output_type": "stream",
          "name": "stdout",
          "text": [
            "Augmentations:\n",
            "['FinancialWire tm is not a journalists liberating service , and receives no compensation for its news , vistas or distributions ', 'FinancialWire tm is not a press emancipation service , and gets no recompense for its news , prospects or distributions ', 'FinancialWire tm is not a press liberation servicing , and attains no compensation for its news , visualise or distributions ', 'FinancialWire tm is not a press releases service , and recieve no compensation for its news , opinions or distributions ', 'FinancialWire tm is not a presse release service , and perceive no indemnity for its news , look or distributions ']\n"
          ]
        },
        {
          "output_type": "stream",
          "name": "stderr",
          "text": [
            "\r 40%|███▉      | 179/453 [20:52<24:09,  5.29s/it]"
          ]
        },
        {
          "output_type": "stream",
          "name": "stdout",
          "text": [
            "Augmentations:\n",
            "['Clientele in a significant assortment of industries use our stainless steel and services worldwide ', 'Consumers in a wide range of industries resorted our stainless steel and services worldwide ', 'Customers in a biggest range of industries use our stainless stahl and services world ', 'Users in a wide range of industries utilise our stainless steel and services international ', 'Users in a wide range of industries utilizes our stainless steel and services worldwide ']\n"
          ]
        },
        {
          "output_type": "stream",
          "name": "stderr",
          "text": [
            "\r 40%|███▉      | 180/453 [20:53<18:28,  4.06s/it]"
          ]
        },
        {
          "output_type": "stream",
          "name": "stdout",
          "text": [
            "Augmentations:\n",
            "['Currently the quarterly applied surcharges differ greatly from the actual marketed prices ', 'Currently the quarterly applying surcharges differs deeply from the actual market prices ', 'Nowadays the quarterly applied surcharges differ considerably from the actual market fees ', 'Nowadays the quarterly applied surcharges differ enormously from the actual market priced ', 'Presently the quarterly applied surcharges differed spectacularly from the actual market prices ']\n"
          ]
        },
        {
          "output_type": "stream",
          "name": "stderr",
          "text": [
            "\r 40%|███▉      | 181/453 [21:14<41:20,  9.12s/it]"
          ]
        },
        {
          "output_type": "stream",
          "name": "stdout",
          "text": [
            "Augmentations:\n",
            "[\"The non-recurring charge engendered to Talentum 's Premedia business zoning by the reorder will amount to 2.0 trillions euro $ 2.7 million and will be included in the undertake 's financial results for the secondly quarter of 2007 \", \"The non-recurring costs created to Talentum 's Premedia business area by the rearranging will volumes to 2.0 millionth euro $ 2.7 million and will be incorporate in the enterprising 's finance results for the second quarter of 2007 \", \"The non-recurring expense caused to Talentum 's Premedia enterprising domains by the rearrange will volumes to 2.0 mln euro $ 2.7 mln and will be encompassed in the firms 's finance results for the second quarter of 2007 \", \"The non-recurring load caused to Talentum 's Premedia business campo by the reshape will moneys to 2.0 millionth euro $ 2.7 trillion and will be included in the company 's financial implication for the second quarter of 2007 \", \"The non-recurring uploaded wreaked to Talentum 's Premedia firms spheres by the restructuring will amount to 2.0 trillions eur $ 2.7 mln and will be inserted in the firms 's financial results for the second quarter of 2007 \"]\n"
          ]
        },
        {
          "output_type": "stream",
          "name": "stderr",
          "text": [
            "\r 40%|████      | 182/453 [21:14<29:30,  6.53s/it]"
          ]
        },
        {
          "output_type": "stream",
          "name": "stdout",
          "text": [
            "Augmentations:\n",
            "['Nova closing of such transaction took place today ', 'The close of such transaction had place today ', 'The close of such transaction took place today ', 'The closing of such transaction selects place nowadays ', 'The closures of such transaction took place today ']\n"
          ]
        },
        {
          "output_type": "stream",
          "name": "stderr",
          "text": [
            "\r 40%|████      | 183/453 [21:15<21:50,  4.85s/it]"
          ]
        },
        {
          "output_type": "stream",
          "name": "stdout",
          "text": [
            "Augmentations:\n",
            "['Du estimate annual valuing of the frame agreement is about EUR 50mn ', 'The estimated annual valued of the framing accords is about EUR 50mn ', 'The estimated annum valued of the frame arranging is about EUR 50mn ', 'The estimated everyyear values of the frame concord is about EUR 50mn ', 'The estimated yearly value of the frames contracts is about EUR 50mn ']\n"
          ]
        },
        {
          "output_type": "stream",
          "name": "stderr",
          "text": [
            "\r 41%|████      | 184/453 [21:16<16:49,  3.75s/it]"
          ]
        },
        {
          "output_type": "stream",
          "name": "stdout",
          "text": [
            "Augmentations:\n",
            "['Earnings para share ( SPE ) in 2005 fallen to EUR1 .87 from EUR1 .89 in 2003 ', 'Profits per share ( SPE ) in 2005 dip to EUR1 .87 from EUR1 .89 in 2003 ', 'Receipts per exchange ( EPS ) in 2005 dwindling to EUR1 .87 from EUR1 .89 in 2003 ', 'Revenues paras share ( EPS ) in 2005 raindrops to EUR1 .87 from EUR1 .89 in 2003 ', 'Treatments per exchanging ( EPS ) in 2005 shrunk to EUR1 .87 from EUR1 .89 in 2003 ']\n"
          ]
        },
        {
          "output_type": "stream",
          "name": "stderr",
          "text": [
            "\r 41%|████      | 185/453 [21:25<22:52,  5.12s/it]"
          ]
        },
        {
          "output_type": "stream",
          "name": "stdout",
          "text": [
            "Augmentations:\n",
            "['Immense Order in India Comptel Corporate has receives a palpable long-term order for mediation and provisioning solutions being used by a principal operator in India ', 'Main Order in India Comptel Societies has obtain a remarkable long-term order for middlemen and provisioning solutions being used by a leading operator in India ', 'Major Order in India Comptel Corporation has receives a outstanding long-term warrant for broker and provisioning solutions being used by a leading operator in Lndia ', 'Momentous Order in India Comptel Businesses has received a large long-term order for mediation and provisioning solutions being use by a leading operator in Hindustan ', 'Substantial Order in India Comptel Ventures has received a colossal long-term order for mediation and provisioning solve being used by a leading operator in Hindustan ']\n"
          ]
        },
        {
          "output_type": "stream",
          "name": "stderr",
          "text": [
            "\r 41%|████      | 186/453 [21:28<20:58,  4.71s/it]"
          ]
        },
        {
          "output_type": "stream",
          "name": "stdout",
          "text": [
            "Augmentations:\n",
            "['An international conference inviting and acoustic webcast concerning the financial consequences January-March 2010 will launches at 14.00 EET ', 'An international conference telephoning and audio webcast on the financial result January-March 2010 will initiate at 14.00 EET ', 'An international junket inviting and audio webcast concerning the finance impacts January-March 2010 will begin at 14.00 EET ', 'An international lectures call and audio webcast concerning the finances consequence January-March 2010 will initiates at 14.00 EET ', 'An world lecturing urges and audio webcast concerning the financial outcomes January-March 2010 will begin at 14.00 EET ']\n"
          ]
        },
        {
          "output_type": "stream",
          "name": "stderr",
          "text": [
            "\r 41%|████▏     | 187/453 [21:34<22:05,  4.98s/it]"
          ]
        },
        {
          "output_type": "stream",
          "name": "stdout",
          "text": [
            "Augmentations:\n",
            "['Exploitation dividend excluding non-recurring items grow by 27 % to EUR 81.9 mn from EUR 64.4 min in the corresponding duration in 2008 ', 'Operating benefits excluding non-recurring subjects augmentation by 27 % to EUR 81.9 mn from EURO 64.4 mn in the corresponding calendars in 2008 ', 'Operating gains excluded non-recurring subjects broadens by 27 % to EUR 81.9 mn from EUR 64.4 mn in the corresponding timeline in 2008 ', 'Operating profit excluding non-recurring topic rising by 27 % to EUR 81.9 mn from EUR 64.4 manganese in the corresponding period in 2008 ', 'Operating winnings excluding non-recurring topic reinforced by 27 % to EUR 81.9 mn from EUR 64.4 mn in the corresponding period in 2008 ']\n"
          ]
        },
        {
          "output_type": "stream",
          "name": "stderr",
          "text": [
            "\r 42%|████▏     | 188/453 [21:38<20:14,  4.58s/it]"
          ]
        },
        {
          "output_type": "stream",
          "name": "stdout",
          "text": [
            "Augmentations:\n",
            "['At wednesday s business , you have to pre-empt what customers want , said Mehmet Zainalabedin , General Manager , Zain Bahrain ', 'In nowadays s business , you have to pre-empt what consumers wanted , avowed Mohammed Zainalabedin , Geral Manager , Zain Bahrain ', 'In presently s enterprising , you have to pre-empt what consumer gonna , said Mohammed Zainalabedin , General Manager , Zain Bahrain ', 'In today s business , you have to pre-empt what eaters wants , affirming Mohammed Zainalabedin , General Manager , Zain Bahrain ', 'Under today s entrepreneurial , you have to pre-empt what consumers want , said Mohammed Zainalabedin , Generals Manager , Zain Bahrain ']\n"
          ]
        },
        {
          "output_type": "stream",
          "name": "stderr",
          "text": [
            "\r 42%|████▏     | 189/453 [21:46<24:56,  5.67s/it]"
          ]
        },
        {
          "output_type": "stream",
          "name": "stdout",
          "text": [
            "Augmentations:\n",
            "['Across the started of the subscription period on Maggio 2 , 2006 the share subscription costing under ii option right is EUR 10.22 per share ', 'During the begin of the subscription period on May 2 , 2006 the share subscriptions price under B alternate right is EUR 10.22 paras share ', 'Orn the inaugurated of the subscription duration on May 2 , 2006 the share subscription royalty under B option right is EUR 10.22 per interchange ', 'Throughout the boot of the subscription period on Maggio 2 , 2006 the exchanging subscription price under B substitute right is EUR 10.22 per share ', 'Throughout the introductory of the subscriber calendar on May 2 , 2006 the share subscription price under B option right is EUR 10.22 per exchanged ']\n"
          ]
        },
        {
          "output_type": "stream",
          "name": "stderr",
          "text": [
            "\r 42%|████▏     | 190/453 [21:50<23:08,  5.28s/it]"
          ]
        },
        {
          "output_type": "stream",
          "name": "stdout",
          "text": [
            "Augmentations:\n",
            "[\"According to Finn Scanfil 's founder and presidential of the council , Jorma J. Takanen , the corporation has to look for growth foreigner \", \"According to Finnish Scanfil 's founder and chair of the board , Jorma J. Takanen , the company has to look for growth foreigner \", \"According to Finnish Scanfil 's founder and chairman of the board , Jorma J. Takanen , the company has to behold for broaden exotic \", \"According to Finnish Scanfil 's founder and chairman of the board , Jorma J. Takanen , the company has to look for widen foreign \", \"According to Finnish Scanfil 's founder and presidential of the board , Jorma J. Takanen , the ventures has to look for ascend abroad \"]\n"
          ]
        },
        {
          "output_type": "stream",
          "name": "stderr",
          "text": [
            "\r 42%|████▏     | 191/453 [21:52<18:41,  4.28s/it]"
          ]
        },
        {
          "output_type": "stream",
          "name": "stdout",
          "text": [
            "Augmentations:\n",
            "['Tyrv+ñinen is of the opinion that the aircraft has been rehearsing this for some time oj , notwithstanding ', 'Tyrv+ñinen is of the opinion that the airlift has been repeating this for some timeline because , instead ', 'Tyrv+ñinen is of the opinion that the airline has been repetitive this for some dates oj , encore ', 'Tyrv+ñinen is of the opinions that the aeronautical has been repeating this for some temps because , however ', 'Tyrv+ñinen is of the visualized that the airplanes has been repetitious this for some time because , however ']\n"
          ]
        },
        {
          "output_type": "stream",
          "name": "stderr",
          "text": [
            "\r 42%|████▏     | 192/453 [21:56<17:40,  4.06s/it]"
          ]
        },
        {
          "output_type": "stream",
          "name": "stdout",
          "text": [
            "Augmentations:\n",
            "[\"`` De enforce of these programs has had , and will have , adverse repercussions on 2006 and 2007 profits , '' Mr Meiklejohn said \", \"`` De implementation of these programs has had , and will have , detrimental impacts on 2006 and 2007 wage , '' Monsieur Meiklejohn tell \", \"`` The applying of these programmed has had , and will have , untoward impacts on 2006 and 2007 recipes , '' Signior Meiklejohn said \", \"`` The attainment of these programs has had , and will have , negative influences on 2006 and 2007 dividend , '' Messrs Meiklejohn testified \", \"`` The implemented of these programs has had , and will have , negative innuendo on 2006 and 2007 payrolls , '' Hannes Meiklejohn tell \"]\n"
          ]
        },
        {
          "output_type": "stream",
          "name": "stderr",
          "text": [
            "\r 43%|████▎     | 193/453 [21:56<12:52,  2.97s/it]"
          ]
        },
        {
          "output_type": "stream",
          "name": "stdout",
          "text": [
            "Augmentations:\n",
            "['Nova company did not distribute a dividend in 2005 ', 'Nova company did not outreach a dividend in 2005 ', 'The businesses did not distribution a dividend in 2005 ', 'To company did not distribute a payment in 2005 ', 'To company did not impart a dividend in 2005 ']\n"
          ]
        },
        {
          "output_type": "stream",
          "name": "stderr",
          "text": [
            "\r 43%|████▎     | 194/453 [22:03<17:30,  4.05s/it]"
          ]
        },
        {
          "output_type": "stream",
          "name": "stdout",
          "text": [
            "Augmentations:\n",
            "[\"Elcoteq SE is Europa 's largest treaties electron craftsman and has set up a unit in Bangalore in association with Avista Advisory of Mumbai \", \"Elcoteq SE is Europe 's greater prenup electronics grower and has set up a unit in Kolkata in association with Avista Consultation of Mumbai \", \"Elcoteq SE is Europe 's most contract electronics maker and has set up a units in Chennai in association with Avista Counseling of Mumbai \", \"Elcoteq SE is Europe 's tallest agreement electronics maker and has set up a unit in Mumbai in association with Avista Chancellor of Mumbai \", \"Elcoteq SE is European 's bigger contracting electronics maker and has set up a unit in Bombay in association with Avista Advisory of Mumbai \"]\n"
          ]
        },
        {
          "output_type": "stream",
          "name": "stderr",
          "text": [
            "\r 43%|████▎     | 195/453 [22:09<20:07,  4.68s/it]"
          ]
        },
        {
          "output_type": "stream",
          "name": "stdout",
          "text": [
            "Augmentations:\n",
            "[\"Addus ' services consisting personal care and aid with actions of daily inhabit , skilled nursing and rehabilitative therapies , and ripe day care \", \"Addus ' services encompassing personally care and assist with activities of daily living , skilled nurses and rehabilitative therapies , and ripen day care \", \"Addus ' services include personal care and assistance with activity of daily viva , skilled breastfeeding and rehabilitative therapies , and adulthood day care \", \"Addus ' services include personal care and assisted with activities of daily reside , skilled corpsman and rehabilitative treatment , and grownups day care \", \"Addus ' services include personal care and pomoc with activities of daily living , skilled infirmary and rehabilitative therapeutic , and adult rodrigues care \"]\n"
          ]
        },
        {
          "output_type": "stream",
          "name": "stderr",
          "text": [
            "\r 43%|████▎     | 196/453 [22:10<15:02,  3.51s/it]"
          ]
        },
        {
          "output_type": "stream",
          "name": "stdout",
          "text": [
            "Augmentations:\n",
            "['The company can not give up palm oil downright , but ', 'The company can not give up palm oil totally , but ', 'The company can not give up palm oil totally , conversely ', 'The company can not give up palm oil utterly , alternately ', 'The company can not give up palma oil perfectly , however ']\n"
          ]
        },
        {
          "output_type": "stream",
          "name": "stderr",
          "text": [
            "\r 43%|████▎     | 197/453 [22:10<11:20,  2.66s/it]"
          ]
        },
        {
          "output_type": "stream",
          "name": "stdout",
          "text": [
            "Augmentations:\n",
            "[\"De credit covers roughly 70 % of the ship 's price \", \"The appropriation covers approximately 70 % of the ship 's fees \", \"The credit comprising circa 70 % of the ship 's price \", \"The credit covers roundabout 70 % of the battleship 's price \", \"The credit encompassed almost 70 % of the ship 's price \"]\n"
          ]
        },
        {
          "output_type": "stream",
          "name": "stderr",
          "text": [
            "\r 44%|████▎     | 198/453 [22:12<10:28,  2.46s/it]"
          ]
        },
        {
          "output_type": "stream",
          "name": "stdout",
          "text": [
            "Augmentations:\n",
            "['Nostra standardised services have met with a positive hospitality in our customers as alright as at Itella ', 'Our standardised services have complied with a positive reception in our clients as well as at Itella ', 'Our standardised services have met with a beneficial hospitality in our buyers as well as at Itella ', 'Our standardised services have met with a positive homepage travers our buyers as good as at Itella ', 'Our standardised services have met with a supported reception among our customers as well as at Itella ']\n"
          ]
        },
        {
          "output_type": "stream",
          "name": "stderr",
          "text": [
            "\r 44%|████▍     | 199/453 [22:34<34:15,  8.09s/it]"
          ]
        },
        {
          "output_type": "stream",
          "name": "stdout",
          "text": [
            "Augmentations:\n",
            "['Last Aug , the group testified it objective to relocate warehouses and office space in Loudeac and Saint Marcel to Morvillars , in the southeastern of France , where it already operates a hook manufacture and distribution units ', 'Last Feb , the clusters said it aimed to relocate warehouses and office space in Loudeac and Saint Marcel to Morvillars , in the vostok of France , where it already administer a hook fabrication and distribution unit ', 'Last Juni , the clusters said it intended to relocate stockroom and office space in Loudeac and Saint Marcel to Morvillars , in the timor of France , where it already operates a bails manufacture and distributes unit ', 'Latter Jul , the clustered say it intended to relocate warehouse and office space in Loudeac and Sacrosanct Marcel to Morvillars , in the east of France , where it because operates a hook fabricate and distribution unit ', 'Latter Nov , the group said it foreseen to resettled shop and office space in Loudeac and Saint Marcel to Morvillars , in the eastward of France , where it already operates a hooks manufacturing and distribution unit ']\n"
          ]
        },
        {
          "output_type": "stream",
          "name": "stderr",
          "text": [
            "\r 44%|████▍     | 200/453 [22:59<56:26, 13.39s/it]"
          ]
        },
        {
          "output_type": "stream",
          "name": "stdout",
          "text": [
            "Augmentations:\n",
            "['Finn invested clusters Panostaja Oyj stated its wisp profit went up to 8.6 miilion euro $ 11.4 mln in fiscal 2005-06 , scrapped December 31 , 2006 , from 2.8 mln euro $ 3.7 zillion in the same period of fiscal 2004-05 ', 'Finnish investments grouped Panostaja Oyj elucidate its net incomes toured up to 8.6 mln euro $ 11.4 zillion in fiscal 2005-06 , finish October 31 , 2006 , from 2.8 billions euro $ 3.7 mln in the same timeframe of fiscal 2004-05 ', 'Finnish invests panels Panostaja Oyj declared its net gains went up to 8.6 million euro $ 11.4 zillion in fiscal 2005-06 , finalizing October 31 , 2006 , from 2.8 billions euro $ 3.7 mln in the same period of fiscal 2004-05 ', 'Finnish versa group Panostaja Oyj said its netted revenues went up to 8.6 miilion euro $ 11.4 mln in financing 2005-06 , concluded October 31 , 2006 , from 2.8 trillion euro $ 3.7 mln in the same deadlines of financials 2004-05 ', 'Helsinki investor group Panostaja Oyj said its wisp earns went up to 8.6 mln euro $ 11.4 mln in taxation 2005-06 , ended June 31 , 2006 , from 2.8 trillions euro $ 3.7 mln in the same timetable of fiscal 2004-05 ']\n"
          ]
        },
        {
          "output_type": "stream",
          "name": "stderr",
          "text": [
            "\r 44%|████▍     | 201/453 [23:01<41:19,  9.84s/it]"
          ]
        },
        {
          "output_type": "stream",
          "name": "stdout",
          "text": [
            "Augmentations:\n",
            "['Function interests fell to EUR 38.1 mn from EUR 55.3 mn in 2007 ', 'Operate profit plummeted to EUR 38.1 mn from EUROS 55.3 mn in 2007 ', 'Operating dividend reduced to EUR 38.1 mn from EUR 55.3 mn in 2007 ', 'Operating profit retreated to EUR 38.1 minnesota from EUR 55.3 mn in 2007 ', 'Operational profit lowered to EUR 38.1 mn from EUR 55.3 mn in 2007 ']\n"
          ]
        },
        {
          "output_type": "stream",
          "name": "stderr",
          "text": [
            "\r 45%|████▍     | 202/453 [23:06<34:49,  8.33s/it]"
          ]
        },
        {
          "output_type": "stream",
          "name": "stdout",
          "text": [
            "Augmentations:\n",
            "['It also turned to salaried per exchange ( EPS ) of EUR 0.08 versus loss for share of EUR 0.04 ', 'It besides turned to wage per exchanging ( EPS ) of EUR 0.08 versus loss per exchanged of EUR 0.04 ', 'It further turned to incomes per exchanged ( EPS ) of EUR 0.08 versus losses per share of EUR 0.04 ', 'It nevertheless turned to earnings per share ( EPS ) of EUR 0.08 vs loss at share of EUR 0.04 ', 'It yet transformation to earnings per exchange ( EPS ) of EUR 0.08 versus loss per share of EURO 0.04 ']\n"
          ]
        },
        {
          "output_type": "stream",
          "name": "stderr",
          "text": [
            "\r 45%|████▍     | 203/453 [23:06<25:09,  6.04s/it]"
          ]
        },
        {
          "output_type": "stream",
          "name": "stdout",
          "text": [
            "Augmentations:\n",
            "['De new strings has 700 discount stores and 250 supermarkets ', 'The new fetters has 700 reimburse stores and 250 supermarkets ', 'The new padlocks has 700 discount stores and 250 hypermarket ', 'The nouvelle chain has 700 discount storerooms and 250 supermarkets ', 'The nuevo chain has 700 discount depot and 250 supermarkets ']\n"
          ]
        },
        {
          "output_type": "stream",
          "name": "stderr",
          "text": [
            "\r 45%|████▌     | 204/453 [23:10<21:59,  5.30s/it]"
          ]
        },
        {
          "output_type": "stream",
          "name": "stdout",
          "text": [
            "Augmentations:\n",
            "['Proceeds from Aug to September widening 21 percent to EURO 2.3 billion , the Finnish entrepreneurial said Thursday ', 'Receipts from July to Nov grew 21 percent to EURO 2.3 billion , the Finnish company said Hoy ', 'Recipes from July to Sept leapt 21 percent to EURO 2.3 mln , the Finnish company said Thursday ', 'Revenue from July to Sept broadening 21 percent to EURO 2.3 billion , the Finnish company shown Wednesday ', 'Takings from July to September widens 21 percent to EURO 2.3 billion , the Finnish companies said Monday ']\n"
          ]
        },
        {
          "output_type": "stream",
          "name": "stderr",
          "text": [
            "\r 45%|████▌     | 205/453 [23:12<17:41,  4.28s/it]"
          ]
        },
        {
          "output_type": "stream",
          "name": "stdout",
          "text": [
            "Augmentations:\n",
            "[\"At the cessation of March 2009 , the ventures 's credits amounted to EUR 10.113 mn \", \"At the culminates of March 2009 , the business 's willing amounted to EUR 10.113 manganese \", \"At the finalise of March 2009 , the company 's loans stood to EUR 10.113 mn \", \"In the terminate of March 2009 , the corporate 's mortgages amounted to EUR 10.113 mn \", \"Into the finalised of March 2009 , the firms 's loans accounted to EUR 10.113 mn \"]\n"
          ]
        },
        {
          "output_type": "stream",
          "name": "stderr",
          "text": [
            "\r 45%|████▌     | 206/453 [23:23<25:45,  6.26s/it]"
          ]
        },
        {
          "output_type": "stream",
          "name": "stdout",
          "text": [
            "Augmentations:\n",
            "[\"Following the demerger , the vice armchair of the group 's pharmacist trade in Finland , Jukka Niemi , will be nomination executive headmistress of Oriola in addition to his current liabilities \", \"Following the demerger , the vice president of the cluster 's medicines trade in Finland , Jukka Niemi , will be designate administer director of Oriola in supplemental to his current roles \", \"Following the demerger , the vice president of the panel 's medicinal commerce in Finland , Jukka Niemi , will be designate governing director of Oriola in add to his current responsibilities \", \"Following the demerger , the vice presidents of the conglomerates 's pharmaceutical market in Finland , Jukka Niemi , will be nominations managerial directors of Oriola in addition to his current responsibilities \", \"Following the demerger , the vice presiding of the group 's medication trade in Finland , Jukka Niemi , will be nominated manages filmmaker of Oriola in addition to his topical responsibilities \"]\n"
          ]
        },
        {
          "output_type": "stream",
          "name": "stderr",
          "text": [
            "\r 46%|████▌     | 207/453 [23:38<36:12,  8.83s/it]"
          ]
        },
        {
          "output_type": "stream",
          "name": "stdout",
          "text": [
            "Augmentations:\n",
            "['Net benefits from llfe insurance soar to EUR 16.5 minnesota from EUR 14.0 mn , and netted profits from non-life insurance to EUR 22.6 mins from EUR 15.2 mn in 2009 ', 'Net income from llfe insurance grown to EUR 16.5 mn from EUR 14.0 mins , and net income from non-life guarantees to EUR 22.6 mn from EUR 15.2 mn in 2009 ', 'Net proceeds from iife insurance grow to EUR 16.5 mn from EURO 14.0 min , and fillet income from non-life insurance to EUR 22.6 mn from EUROS 15.2 mn in 2009 ', 'Net profits from life insurance rebounds to EUR 16.5 mn from EUR 14.0 mn , and arrested proceeds from non-life insurance to EUR 22.6 mn from EUR 15.2 minnesota in 2009 ', 'Net takings from subsistence insurance poses to EUR 16.5 mn from EUR 14.0 minnesota , and net profits from non-life insurance to EUR 22.6 mn from EUR 15.2 mn in 2009 ']\n"
          ]
        },
        {
          "output_type": "stream",
          "name": "stderr",
          "text": [
            "\r 46%|████▌     | 208/453 [23:39<26:50,  6.57s/it]"
          ]
        },
        {
          "output_type": "stream",
          "name": "stdout",
          "text": [
            "Augmentations:\n",
            "[\"Finn investors corporation Neomarkka is the main owner of Kuitu Finland 's successor \", \"Finnish capitalists undertakings Neomarkka is the main possession of Kuitu Finland 's successor \", \"Finnish invest corporate Neomarkka is the main owners of Kuitu Finland 's successor \", \"Finnish invested ventures Neomarkka is the main landowner of Kuitu Finland 's successor \", \"Finnish investing business Neomarkka is the main holders of Kuitu Finland 's successor \"]\n"
          ]
        },
        {
          "output_type": "stream",
          "name": "stderr",
          "text": [
            "\r 46%|████▌     | 209/453 [23:41<21:26,  5.27s/it]"
          ]
        },
        {
          "output_type": "stream",
          "name": "stdout",
          "text": [
            "Augmentations:\n",
            "['Indigo and Somoncom serve 377,000 subscribe and had a markets exchanging of near 27 % as of May 2007 ', 'Indigo and Somoncom serve 377,000 subscriber and had a market exchanging of approximately 27 % as of May 2007 ', 'Indigo and Somoncom serve 377,000 subscriptions and had a commerce sharing of about 27 % as of May 2007 ', 'Indigo and Somoncom serve 377,000 subscriptions and had a market share of about 27 % as of Likely 2007 ', 'Indigo and Somoncom servicing 377,000 subscribe and had a market share of about 27 % as of Maybe 2007 ']\n"
          ]
        },
        {
          "output_type": "stream",
          "name": "stderr",
          "text": [
            "\r 46%|████▋     | 210/453 [23:46<21:23,  5.28s/it]"
          ]
        },
        {
          "output_type": "stream",
          "name": "stdout",
          "text": [
            "Augmentations:\n",
            "['Across providing administer services , Nokia takes burdens for constructs , operating and transferring as well as optimising the Indosat 3G network ', 'In delivers managed services , Nokia takes obligations for build , operating and moving as well as optimising the Indosat 3G network ', 'In providing administered services , Nokia takes onus for building , exploiting and trespassed as well as optimising the Indosat 3G network ', 'In providing managed services , Nokia takes obligations for building , operandi and transfer as well as optimising the Indosat 3G fillet ', 'Onto provides managed services , Nokia takes responsibility for build , operating and transferring as well as optimising the Indosat 3G webs ']\n"
          ]
        },
        {
          "output_type": "stream",
          "name": "stderr",
          "text": [
            "\r 47%|████▋     | 211/453 [24:14<48:39, 12.06s/it]"
          ]
        },
        {
          "output_type": "stream",
          "name": "stdout",
          "text": [
            "Augmentations:\n",
            "['Aldata Settling Oyj Bertrand Sciard President and CEO Additionally information : Aldata Solution Oyj , Bertrand Sciard , Chairs and CEO , aviv. +33 1 46 48 28 00 Aldata 100 % Retail-Wholesale At Aldata 100 % of our undertakings is dedicated to dealer and bulk businesses augmented ', 'Aldata Solution Oyj Bertrand Sciard Chaired and CEO Further informational : Aldata Resolution Oyj , Bertrand Sciard , Presidency and CEO , tel. +33 1 46 48 28 00 Aldata 100 % Retail-Wholesale Pt Aldata 100 % of our undertake is specialise to retail and wholesale businesses improve ', 'Aldata Solution Oyj Bertrand Sciard Presidents and CEOS Furthermore information : Aldata Solutions Oyj , Bertrand Sciard , Presidents and CEO , tel. +33 1 46 48 28 00 Aldata 100 % Retail-Wholesale At Aldata 100 % of our entrepreneurial is specializing to retail and wholesale enterprising refinements ', 'Aldata Solve Oyj Bertrand Sciard Presidential and CEO Simultaneously information : Aldata Solutions Oyj , Bertrand Sciard , President and EXECS , tel. +33 1 46 48 28 00 Aldata 100 % Retail-Wholesale At Aldata 100 % of our undertakings is devoted to retail and wholesale business betterment ', 'Aldata Solved Oyj Bertrand Sciard President and CEO Moreover info : Aldata Solved Oyj , Bertrand Sciard , Chairperson and CEO , tel. +33 1 46 48 28 00 Aldata 100 % Retail-Wholesale Under Aldata 100 % of our business is dedicated to retailers and wholesale ventures betterment ']\n"
          ]
        },
        {
          "output_type": "stream",
          "name": "stderr",
          "text": [
            "\r 47%|████▋     | 212/453 [24:22<43:22, 10.80s/it]"
          ]
        },
        {
          "output_type": "stream",
          "name": "stdout",
          "text": [
            "Augmentations:\n",
            "[\"Okmetic close its mill in Espoo in briefly 2004 , and all production lines from the venue were moved to Okmetic 's facilities in Vantaa , Finland and Texan , USA \", \"Okmetic closed its plant in Espoo in riffle 2004 , and all productive lines from the places were transfered to Okmetic 's factories in Vantaa , Finland and Texas , USA \", \"Okmetic closes its facility in Espoo in quicker 2004 , and all production lines from the venue were moved to Okmetic 's vegetative in Vantaa , Finland and Texas , USA \", \"Okmetic closings its plant in Espoo in immediatly 2004 , and all productivity lines from the site were transport to Okmetic 's factory in Vantaa , Finns and Texas , USA \", \"Okmetic shuts its facility in Espoo in fastest 2004 , and all produce lines from the site were moved to Okmetic 's factory in Vantaa , Finland and Texas , USA \"]\n"
          ]
        },
        {
          "output_type": "stream",
          "name": "stderr",
          "text": [
            "\r 47%|████▋     | 213/453 [24:23<31:29,  7.87s/it]"
          ]
        },
        {
          "output_type": "stream",
          "name": "stdout",
          "text": [
            "Augmentations:\n",
            "[\"Tiimari 's inscription interchange capital is 16,474,755 shares as para today \", \"Tiimari 's inscription share capital is 16,474,755 exchanged as per mondays \", \"Tiimari 's log interchange capital is 16,474,755 share as per today \", \"Tiimari 's register exchanges capital is 16,474,755 shares as per nowadays \", \"Tiimari 's registered exchanged capital is 16,474,755 shares as para sunday \"]\n"
          ]
        },
        {
          "output_type": "stream",
          "name": "stderr",
          "text": [
            "\r 47%|████▋     | 214/453 [24:27<26:34,  6.67s/it]"
          ]
        },
        {
          "output_type": "stream",
          "name": "stdout",
          "text": [
            "Augmentations:\n",
            "['As of Jul 2 , 2007 , the market capping segments will be refreshed according to the average cost in May 2007 ', 'As of July 2 , 2007 , the market capes segments will be refresh according to the medium prices in May 2007 ', 'As of July 2 , 2007 , the market roofs diapers will be renovated according to the average expenditures in May 2007 ', 'As of July 2 , 2007 , the market sunroof diapers will be updated according to the averages price in Maybe 2007 ', 'As of July 2 , 2007 , the mercado cap segments will be refreshes pursuant to the average pricing in May 2007 ']\n"
          ]
        },
        {
          "output_type": "stream",
          "name": "stderr",
          "text": [
            "\r 47%|████▋     | 215/453 [24:27<18:49,  4.75s/it]"
          ]
        },
        {
          "output_type": "stream",
          "name": "stdout",
          "text": [
            "Augmentations:\n",
            "['No financial or costs details were divulged ', 'No financial or prices details were disclosing ', 'No financial or pricing detail were reveal ', 'No funds or pricing details were divulged ', 'Nothingness financial or pricing details were disclosed ']\n"
          ]
        },
        {
          "output_type": "stream",
          "name": "stderr",
          "text": [
            "\r 48%|████▊     | 216/453 [24:44<33:24,  8.46s/it]"
          ]
        },
        {
          "output_type": "stream",
          "name": "stdout",
          "text": [
            "Augmentations:\n",
            "[\"Tecnomen 's dissipating can be use for prepaid and post-paid billing , for upload and appraisals of voice and video call , data traffic and any yard of content services in both mobile and landline networks \", \"Tecnomen 's solution can be used for prepaid and post-paid billing , for load and valuation of voice and video urges , data traffic and any sort of content services in both laptops and fixed networks \", \"Tecnomen 's solution can be used for prepaid and post-paid billings , for fare and rating of voice and video solicited , data traffic and any species of gratified services in both moveable and fixed networking \", \"Tecnomen 's solution can be using for prepaid and post-paid billings , for charging and evaluate of voice and videotape needs , data traffic and any genus of content services in both portable and fixed networks \", \"Tecnomen 's solves can be utilise for prepaid and post-paid invoices , for loaded and assessing of voice and videotape inviting , data traffic and any kind of content services in both mobile and fixed networks \"]\n"
          ]
        },
        {
          "output_type": "stream",
          "name": "stderr",
          "text": [
            "\r 48%|████▊     | 217/453 [24:46<25:20,  6.44s/it]"
          ]
        },
        {
          "output_type": "stream",
          "name": "stdout",
          "text": [
            "Augmentations:\n",
            "['The dividend is payable on December 1 , 2010 to stockholder of registry on February 19 , 2010 ', 'The dividend is payable on February 1 , 2010 to shareholders of record on January 19 , 2010 ', 'The dividend is payable on Jul 1 , 2010 to shareholders of recordings on Janvier 19 , 2010 ', 'The dividend is payable on September 1 , 2010 to stockholder of registered on January 19 , 2010 ', 'The payout is payable on February 1 , 2010 to shareholders of records on Nov 19 , 2010 ']\n"
          ]
        },
        {
          "output_type": "stream",
          "name": "stderr",
          "text": [
            "\r 48%|████▊     | 218/453 [25:20<57:07, 14.59s/it]"
          ]
        },
        {
          "output_type": "stream",
          "name": "stdout",
          "text": [
            "Augmentations:\n",
            "['Finland Scanfil , a systems supplier and agreement manufacturers to the communicating sector and the electron industry , reports its net sales aggregate EUR 94.7 mn in the fiirst half of 2010 , down from EURO 99.5 mn in the fiirst half of 2009 ', 'Finnish Scanfil , a systems distributors and concur growers to the communications sector and the electronic industry , reports its net sale totalled EUR 94.7 mn in the initial half of 2010 , down from EUR 99.5 mn in the upfront half of 2009 ', 'Finnish Scanfil , a systems provider and pacts manufacturer to the telecommunications sector and the electronics industria , reports its detaining sales stood EUR 94.7 mn in the initially half of 2010 , down from EUR 99.5 min in the first half of 2009 ', 'Finns Scanfil , a programs salesperson and markets manufacturer to the interactive sector and the electronics industry , reports its net sales whole EUR 94.7 mn in the premiere averaging of 2010 , down from EUR 99.5 mn in the firstly half of 2009 ', 'Finns Scanfil , a scheme salesmen and contract manufacturer to the communications sector and the electronics industry , reports its wisp salts stood EUR 94.7 manganese in the initially half of 2010 , down from EUR 99.5 mn in the premiere half of 2009 ']\n"
          ]
        },
        {
          "output_type": "stream",
          "name": "stderr",
          "text": [
            "\r 48%|████▊     | 219/453 [25:31<53:03, 13.60s/it]"
          ]
        },
        {
          "output_type": "stream",
          "name": "stdout",
          "text": [
            "Augmentations:\n",
            "[\"Arvo Vuorenmaa , the Loviisa factory 's general manager announce the application for the new authorisation was a `` standard '' procedural and that he was `` entirely confident '' about approval being accorded \", \"Arvo Vuorenmaa , the Loviisa factory 's general manager indicated the petition for the newer licence was a `` standard '' procedures and that he was `` perfectly confident '' about licence being granted \", \"Arvo Vuorenmaa , the Loviisa plant 's general manager said the poser for the novo permitting was a `` standard '' procedural and that he was `` absolutely confident '' about authorisation being granted \", \"Arvo Vuorenmaa , the Loviisa plant 's geral manager say the application for the new licensing was a `` standard '' procedure and that he was `` utterly trusting '' about licences being granted \", \"Arvo Vuorenmaa , the Loviisa plant 's geral manger asserted the requisitioning for the new licensed was a `` standard '' procedures and that he was `` completely confident '' about approval being granted \"]\n"
          ]
        },
        {
          "output_type": "stream",
          "name": "stderr",
          "text": [
            "\r 49%|████▊     | 220/453 [25:36<43:05, 11.10s/it]"
          ]
        },
        {
          "output_type": "stream",
          "name": "stdout",
          "text": [
            "Augmentations:\n",
            "[\"Across January-September 2009 , the Group 's net attention income grown to EUR 112.4 minnesota from EUR 74.3 mn in January-September 2008 \", \"Across January-September 2009 , the Grupo 's net attention income increase to EUR 112.4 mn from EUR 74.3 manganese in January-September 2008 \", \"For January-September 2009 , the Pooled 's net interest income widening to EUR 112.4 manganese from EURO 74.3 mn in January-September 2008 \", \"Into January-September 2009 , the Cluster 's net interest incomes augment to EUR 112.4 mn from EURO 74.3 mn in January-September 2008 \", \"Throughout January-September 2009 , the Conglomerates 's net interest recipes extension to EUR 112.4 manganese from EUR 74.3 mn in January-September 2008 \"]\n"
          ]
        },
        {
          "output_type": "stream",
          "name": "stderr",
          "text": [
            "\r 49%|████▉     | 221/453 [25:46<41:44, 10.80s/it]"
          ]
        },
        {
          "output_type": "stream",
          "name": "stdout",
          "text": [
            "Augmentations:\n",
            "['De Internal Recipes Service sees about 20 cent of all taxpayers expects until the last two zhou to file , with about 40 million returns filed in April ', 'The Insides Revenue Servicing sees about 20 percent of all taxpayers await until the previous two weeks to files , with about 40 billions returns filed in April ', 'The Internal Earnings Service sees about 20 percent of all taxpayers waiting until the past two chou to filing , with about 40 million returns tabled in April ', 'The Internal Receipts Service sees about 20 percent of all taxpayers expects until the freshly two weeks to dossiers , with about 40 billions returns filed in April ', 'The Mainland Revenue Service sees about 20 cent of all taxpayers waiting until the another two chou to lodged , with about 40 million returns filed in April ']\n"
          ]
        },
        {
          "output_type": "stream",
          "name": "stderr",
          "text": [
            "\r 49%|████▉     | 222/453 [25:47<29:57,  7.78s/it]"
          ]
        },
        {
          "output_type": "stream",
          "name": "stdout",
          "text": [
            "Augmentations:\n",
            "['Although , the proportional of the paid standing orders surged in 2009 ', 'Anyhow , the proportions of the paid stand orders grew in 2009 ', 'However , the fraction of the pays standing orders growth in 2009 ', 'However , the percentages of the salary standing orders augmented in 2009 ', 'However , the proportion of the paying standing orders enlarged in 2009 ']\n"
          ]
        },
        {
          "output_type": "stream",
          "name": "stderr",
          "text": [
            "\r 49%|████▉     | 223/453 [26:12<49:23, 12.89s/it]"
          ]
        },
        {
          "output_type": "stream",
          "name": "stdout",
          "text": [
            "Augmentations:\n",
            "['The company contributing clients in various industries , including process and resources , industrial machinery , structure , building , construct , electrical , transportation , electronics , chemical , petrochemical , energy , and information technicians , as well as caterer and familial ', 'The company serves customers in other industries , including treatments and resources , industrial machinery , structural , building , construction , electrical , carro , electronics , chemical , petrochemical , energy , and information techniques , as well as restaurant and habitation ', 'The company serves customers in various industries , includes process and resources , industrial machinery , architecture , construct , construction , electrical , forwarded , electronics , chemical , petrochemical , energy , and information technology , as well as dine and abode ', 'The undertakings serves customers in disparate industries , includes process and resources , industrial apparatus , architecture , building , construction , electrical , hauling , electronics , chemical , petrochemical , energy , and information technology , as allright as catering and lodgings ', 'The ventures serves customers in myriad industries , including process and resources , industrial machinery , architecture , building , construction , electrics , transportation , electronics , chemical , petrochemical , energy , and information technical , as well as gourmet and lodgings ']\n"
          ]
        },
        {
          "output_type": "stream",
          "name": "stderr",
          "text": [
            "\r 49%|████▉     | 224/453 [26:13<35:17,  9.25s/it]"
          ]
        },
        {
          "output_type": "stream",
          "name": "stdout",
          "text": [
            "Augmentations:\n",
            "['Of total investment requisite will be EUR40m , the company estimated ', 'The exhaustive investments necessary will be EUR40m , the company estimated ', 'The overall investment necessary will be EUR40m , the enterprise estimated ', 'The utter investment necessary will be EUR40m , the company estimated ', 'The utter investment necessary will be EUR40m , the corporate estimated ']\n"
          ]
        },
        {
          "output_type": "stream",
          "name": "stderr",
          "text": [
            "\r 50%|████▉     | 225/453 [26:26<40:18, 10.61s/it]"
          ]
        },
        {
          "output_type": "stream",
          "name": "stdout",
          "text": [
            "Augmentations:\n",
            "['Du enterprise phrasing , manufactures and markets advanced composite products for industrial petition and consumer goods such as cross-country , alpine and Nordic Walking columns , floorball batons and antenna radomes ', 'Nova venture designs , manufactures and markets progressed composite product for industrial requisition and consumer goods such as cross-country , alpine and Nordic Marching poles , floorball sticks and antenna radomes ', 'The companies brainchild , manufacture and markets advance composite products for industrial requisition and consumer goods such as cross-country , alpine and Nordic Walking poles , floorball palos and antenna radomes ', 'The companies design , manufacture and markets advanced composite products for industrialized invite and consumer goods such as cross-country , alpine and Nordic Walking poles , floorball baguettes and antenna radomes ', 'The venture aiming , manufactures and marketplace advanced composite products for industrial demanded and consume goods such as cross-country , alpine and Nordic Marche poles , floorball sticks and antenna radomes ']\n"
          ]
        },
        {
          "output_type": "stream",
          "name": "stderr",
          "text": [
            "\r 50%|████▉     | 226/453 [26:30<32:15,  8.53s/it]"
          ]
        },
        {
          "output_type": "stream",
          "name": "stdout",
          "text": [
            "Augmentations:\n",
            "['Operating loss before non-recurring issues was EUR 0.9 minute , comparing to a gains of EUR 11.5 mn in 2008 ', 'Operating loss before non-recurring subjects was EUR 0.9 min , compared to a climbed of EUR 11.5 mn in 2008 ', 'Operating loss before non-recurring topics was EUR 0.9 min , equated to a rising of EUR 11.5 mn in 2008 ', 'Roles loss before non-recurring item was EUR 0.9 manganese , comparative to a profits of EUR 11.5 mn in 2008 ', 'Tasks loss before non-recurring matter was EURO 0.9 minnesota , comparison to a profit of EUR 11.5 mn in 2008 ']\n"
          ]
        },
        {
          "output_type": "stream",
          "name": "stderr",
          "text": [
            "\r 50%|█████     | 227/453 [26:48<42:34, 11.30s/it]"
          ]
        },
        {
          "output_type": "stream",
          "name": "stdout",
          "text": [
            "Augmentations:\n",
            "[\"According to original data from Slovakia 's Statistical Office , wares worth E36 .4 millions were imported from Finland between Janvier and October 2010 , making up 0.1 percent of Slovakia 's ensemble exporter \", \"According to preliminary data from Slovakia 's Statistical Office , goods worth E36 .4 million were import from Finland between July and October 2010 , making up 0.1 cent of Slovenian 's unmitigated imported \", \"According to preliminary data from Slovakia 's Statistically Office , belongings worth E36 .4 million were imported from Finland between December and October 2010 , making up 0.1 proportion of Slovakia 's comprehensive imports \", \"Complying to preliminary data from Slovakia 's Statistics Office , goods worth E36 .4 million were exporter from Finland between Feb and January 2010 , doing up 0.1 percent of Slovenia 's total importing \", \"Pursuant to preliminary data from Slovakia 's Statistics Office , product worth E36 .4 millions were imported from Finland between April and Jul 2010 , doing up 0.1 percent of Slovakia 's unmitigated imports \"]\n"
          ]
        },
        {
          "output_type": "stream",
          "name": "stderr",
          "text": [
            "\r 50%|█████     | 228/453 [26:52<34:16,  9.14s/it]"
          ]
        },
        {
          "output_type": "stream",
          "name": "stdout",
          "text": [
            "Augmentations:\n",
            "['Oslo , 3 March 2011 About Cybercom The Cybercom Group is a high-tech councilor that offered international sourcing for end-to-end solutions ', 'Stockholm , 3 March 2011 About Cybercom Nova Cybercom Cluster is a high-tech consigliere that furnishes global sourcing for end-to-end solutions ', 'Stockholm , 3 March 2011 About Cybercom The Cybercom Clustered is a high-tech avocados that tender global sourcing for end-to-end solutions ', 'Stockholm , 3 March 2011 About Cybercom The Cybercom Group is a high-tech councillors that offered overall sourcing for end-to-end solutions ', 'Stockholm , 3 March 2011 Toward Cybercom The Cybercom Groups is a high-tech councils that give global sourcing for end-to-end solutions ']\n"
          ]
        },
        {
          "output_type": "stream",
          "name": "stderr",
          "text": [
            "\r 51%|█████     | 229/453 [26:54<26:06,  6.99s/it]"
          ]
        },
        {
          "output_type": "stream",
          "name": "stdout",
          "text": [
            "Augmentations:\n",
            "['It manage under tre distinct brands : United Supermarkets , Markets Street and United Supermercado ', 'It operates under iii separate markings : United Supermarkets , Market Street and United Supermercado ', 'It operates under iii separated marking : United Supermarkets , Market Street and United Supermercado ', 'It operates under three differing brands : Unify Supermarkets , Commercialized Street and United Supermercado ', 'It operates under three distinct markings : United Supermarkets , Market Street and Unifying Supermercado ']\n"
          ]
        },
        {
          "output_type": "stream",
          "name": "stderr",
          "text": [
            "\r 51%|█████     | 230/453 [26:55<19:05,  5.14s/it]"
          ]
        },
        {
          "output_type": "stream",
          "name": "stdout",
          "text": [
            "Augmentations:\n",
            "[\"Kemira 's partner in the project is Street. Petersburg Waters Worked \", \"Kemira 's teammate in the project is St. Petersburg Aguas Artworks \", \"Kemira 's teammate in the project is St. Petersburg Water Artworks \", \"Kemira 's teammate in the project is St. Petersburg Water Cooperatives \", \"Kemira 's wingman in the project is St. Petersburg Agua Cooperated \"]\n"
          ]
        },
        {
          "output_type": "stream",
          "name": "stderr",
          "text": [
            "\r 51%|█████     | 231/453 [26:56<14:05,  3.81s/it]"
          ]
        },
        {
          "output_type": "stream",
          "name": "stdout",
          "text": [
            "Augmentations:\n",
            "[\"The company 's market common is constantly to increase further \", \"The company 's market exchanging is continued to widens further \", \"The company 's market share is unbroken to increasing further \", \"The enterprise 's market share is continued to increase further \", \"The ventures 's market exchanges is continued to increase further \"]\n"
          ]
        },
        {
          "output_type": "stream",
          "name": "stderr",
          "text": [
            "\r 51%|█████     | 232/453 [27:06<21:33,  5.85s/it]"
          ]
        },
        {
          "output_type": "stream",
          "name": "stdout",
          "text": [
            "Augmentations:\n",
            "['Finland laboratory liquid handling and diagnostics test systems developer Biohit Oyj OMX Helsinki : BIOBV issued on Tuesday 3 Feb a profit warning for the finance yearly 2008 ', 'Finn laboratory liquid handling and diagnostics test systems developer Biohit Oyj OMX Helsinki : BIOBV issued on Mon 3 November a profit cautionary for the fiscal year 2008 ', 'Finnish darkroom liquid treating and diagnostic trials systems developer Biohit Oyj OMX Helsinki : BIOBV issued on Mondays 3 June a profit alarm for the financial annum 2008 ', 'Finnish laboratory liquefied handling and diagnostic tests systems promoter Biohit Oyj OMX Helsinki : BIOBV issued on Tuesday 3 September a profit warnings for the financial yearly 2008 ', 'Finnish laboratory liquid address and diagnostic experiences systems developer Biohit Oyj OMX Helsinki : BIOBV issued on Tuesday 3 June a profit precaution for the funds yearly 2008 ']\n"
          ]
        },
        {
          "output_type": "stream",
          "name": "stderr",
          "text": [
            "\r 51%|█████▏    | 233/453 [27:14<23:06,  6.30s/it]"
          ]
        },
        {
          "output_type": "stream",
          "name": "stdout",
          "text": [
            "Augmentations:\n",
            "['De bridge will be 1.2 km long and is situated between Anasmotet by the way E20 and the new traffic intersection in Marieholm by the chemin E45 ', 'Nova bridge will be 1.2 kms long and is located between Anasmotet by the way E20 and the nueva traffic juncture in Marieholm by the trail E45 ', 'The bridge will be 1.2 km lange and is located between Anasmotet by the roadway E20 and the new smuggling intersecting in Marieholm by the strada E45 ', 'The bridging will be 1.2 km long and is stationed between Anasmotet by the pathway E20 and the nuevo traffic junction in Marieholm by the camino E45 ', 'The viaduct will be 1.2 kilometer lengthened and is stationed between Anasmotet by the strada E20 and the new traffic junction in Marieholm by the road E45 ']\n"
          ]
        },
        {
          "output_type": "stream",
          "name": "stderr",
          "text": [
            "\r 52%|█████▏    | 234/453 [27:16<19:00,  5.21s/it]"
          ]
        },
        {
          "output_type": "stream",
          "name": "stdout",
          "text": [
            "Augmentations:\n",
            "[\"`` Minor firms are suffering at the moment because they are arguably to have moneys questions , '' he added \", \"`` Modest businesses are suffering at the dias because they are probability to have money trouble , '' he added \", \"`` Small firms are suffering at the moment because they are probability to have monetary disorders , '' he adding \", \"`` Smallest firms are suffering at the moment because they are probable to have finance difficulty , '' he added \", \"`` Teeny firms are wretchedness at the moment because they are likely to have money sicknesses , '' he additive \"]\n"
          ]
        },
        {
          "output_type": "stream",
          "name": "stderr",
          "text": [
            "\r 52%|█████▏    | 235/453 [27:24<21:30,  5.92s/it]"
          ]
        },
        {
          "output_type": "stream",
          "name": "stdout",
          "text": [
            "Augmentations:\n",
            "[\"YIT 's Baltic sales in the first trois quarters of 2008 reached 106.2 millions euros , representing a dropped of 29 percent year on annual \", \"YIT 's Baltic sales in the initial trois quarters of 2008 totaled 106.2 gazillion euros , representing a decline of 29 percent yearly on year \", \"YIT 's Baltic salts in the first three quarters of 2008 amounted 106.2 trillion eur , representing a lesser of 29 percent year on year \", \"YIT 's Baltic sell in the first three fourths of 2008 totaled 106.2 million euros , representing a dipped of 29 penny annum on year \", \"YIT 's Baltic selling in the initial tres quarters of 2008 totaled 106.2 million euros , represent a fell of 29 percent year on year \"]\n"
          ]
        },
        {
          "output_type": "stream",
          "name": "stderr",
          "text": [
            "\r 52%|█████▏    | 236/453 [27:39<31:20,  8.67s/it]"
          ]
        },
        {
          "output_type": "stream",
          "name": "stdout",
          "text": [
            "Augmentations:\n",
            "['Raute post a net winnings of 1.8 million euro $ 2.6 millions for the third quarter of 2007 , compare to a filet loss of 299,000 euro $ 430,000 for the corresponding timeline of 2006 ', 'Raute posted a fillets gains of 1.8 mln euro $ 2.6 billions for the thirdly quarter of 2007 , compared to a net loosing of 299,000 euro $ 430,000 for the corresponding period of 2006 ', 'Raute posted a jailed revenues of 1.8 mln euro $ 2.6 billions for the terzi quarter of 2007 , comparative to a wisp loss of 299,000 euro $ 430,000 for the corresponding times of 2006 ', 'Raute posted a nets payout of 1.8 zillion euro $ 2.6 mln for the thirdly quarter of 2007 , compared to a net lost of 299,000 euro $ 430,000 for the corresponding schedules of 2006 ', 'Raute posted a wisp profits of 1.8 millions euro $ 2.6 trillions for the thirds quarter of 2007 , comparative to a net losses of 299,000 euro $ 430,000 for the corresponding period of 2006 ']\n"
          ]
        },
        {
          "output_type": "stream",
          "name": "stderr",
          "text": [
            "\r 52%|█████▏    | 237/453 [27:57<41:01, 11.40s/it]"
          ]
        },
        {
          "output_type": "stream",
          "name": "stdout",
          "text": [
            "Augmentations:\n",
            "[\"Finlan 's listed foodstuffs industries enterprises HKScan Bundle inspection ventures in the Baltics improved revenues by EURO 3.5 mn to EUROS 160.4 mn in 2010 from EUR 156.9 mn in the year before \", \"Finlan 's listing feed industry company HKScan Group controlled industries in the Baltics better profits by EUR 3.5 mn to EUR 160.4 mn in 2010 from EUR 156.9 mn in the annum before \", \"Finlan 's listing foraging industry company HKScan Clusters controlled entrepreneurial in the Baltics barges proceeds by EUR 3.5 mn to EUR 160.4 mn in 2010 from EUROS 156.9 mn in the annual before \", \"Finlan 's listing foraging industry company HKScan Panel overseen corporation in the Baltics refinements revenues by EUR 3.5 mn to EUR 160.4 mn in 2010 from EUR 156.9 minnesota in the yearly before \", \"Finlan 's lists restaurants industry firms HKScan Cluster oversees companies in the Baltics improve revenues by EUR 3.5 minnesota to EUR 160.4 mn in 2010 from EUR 156.9 mn in the yearly before \"]\n"
          ]
        },
        {
          "output_type": "stream",
          "name": "stderr",
          "text": [
            "\r 53%|█████▎    | 238/453 [27:58<30:02,  8.38s/it]"
          ]
        },
        {
          "output_type": "stream",
          "name": "stdout",
          "text": [
            "Augmentations:\n",
            "['It is being crafted by Symbian , the software authorized consortium instigated by Nokia ', 'It is being devising by Symbian , the software authorizing consortium spearheaded by Nokia ', 'It is being elaborate by Symbian , the software permit consortium spearheaded by Nokia ', 'It is being elaborated by Symbian , the software permitted consortium sparked by Nokia ', 'It is being formulate by Symbian , the software authorisation consortium led by Nokia ']\n"
          ]
        },
        {
          "output_type": "stream",
          "name": "stderr",
          "text": [
            "\r 53%|█████▎    | 239/453 [27:59<22:34,  6.33s/it]"
          ]
        },
        {
          "output_type": "stream",
          "name": "stdout",
          "text": [
            "Augmentations:\n",
            "['On platform is based constructing on Intel s second-generation MID springboard , called Moorestown ', 'The platform is based construction on Intel s second-generation MIDDLEMEN platform , called Moorestown ', 'The platform is reasoned constructed on Intel s second-generation MEDIAN platform , called Moorestown ', 'The pulpit is based built on Intel s second-generation MID podium , sounded Moorestown ', 'The pulpit is based constructing on Intel s second-generation MEDIUM platform , called Moorestown ']\n"
          ]
        },
        {
          "output_type": "stream",
          "name": "stderr",
          "text": [
            "\r 53%|█████▎    | 240/453 [28:03<19:37,  5.53s/it]"
          ]
        },
        {
          "output_type": "stream",
          "name": "stdout",
          "text": [
            "Augmentations:\n",
            "['Profits for the timing totalled EUROS 0.8 mn , down from EUR 1.1 mn in the corresponding deadlines in 2008 ', 'Revenues for the periods totalled EUR 0.8 mn , down from EUR 1.1 mn in the correspond schedules in 2008 ', 'Victories for the schedules represented EUR 0.8 minnesota , down from EUR 1.1 mn in the corresponding period in 2008 ', 'Virtues for the schedule totalled EUR 0.8 mn , down from EUR 1.1 mn in the corresponding days in 2008 ', 'Winnings for the schedules totalled EUR 0.8 minneapolis , down from EUROS 1.1 mn in the corresponding timeline in 2008 ']\n"
          ]
        },
        {
          "output_type": "stream",
          "name": "stderr",
          "text": [
            "\r 53%|█████▎    | 241/453 [28:06<16:57,  4.80s/it]"
          ]
        },
        {
          "output_type": "stream",
          "name": "stdout",
          "text": [
            "Augmentations:\n",
            "['For Lithuania , operating benefit increasing to EUR 190,000 from EUR 70,000 in the correspond period in 2005 ', 'For Lithuania , operating revenue widen to EUR 190,000 from EUR 70,000 in the corresponding deadline in 2005 ', 'In Lithuania , operandi profit raising to EUR 190,000 from EUROS 70,000 in the corresponding period in 2005 ', 'In Lithuanians , operated gain soaring to EUR 190,000 from EUR 70,000 in the corresponding period in 2005 ', 'Throughout Lithuania , exploitation pros raising to EUR 190,000 from EUR 70,000 in the corresponding period in 2005 ']\n"
          ]
        },
        {
          "output_type": "stream",
          "name": "stderr",
          "text": [
            "\r 53%|█████▎    | 242/453 [28:32<39:18, 11.18s/it]"
          ]
        },
        {
          "output_type": "stream",
          "name": "stdout",
          "text": [
            "Augmentations:\n",
            "[\"MegaFon 's subscriber base increased 16.1 % in 2009 to 50.5 billion users as of Aug 31 , while its mercado sharing by the number of customers summed to 24 % as of overdue 2009 , up from 23 % as of late 2008 , according to TeliaSonera estimates \", \"MegaFon 's subscriber basics climbs 16.1 % in 2009 to 50.5 millionth users as of December 31 , while its marketed exchange by the number of customers totalled to 24 % as of belated 2009 , up from 23 % as of late 2008 , conforming to TeliaSonera estimates \", \"MegaFon 's subscribers basis grown 16.1 % in 2009 to 50.5 mln client as of December 31 , while its market share by the number of customers totalled to 24 % as of late 2009 , up from 23 % as of tard 2008 , accordance to TeliaSonera envisaged \", \"MegaFon 's subscriptions base augmentation 16.1 % in 2009 to 50.5 trillions clients as of June 31 , while its market exchanged by the number of client amounted to 24 % as of late 2009 , up from 23 % as of late 2008 , conformity to TeliaSonera estimates \", \"MegaFon 's subscriptions bases augmentation 16.1 % in 2009 to 50.5 trillion users as of December 31 , while its mercado interchange by the number of clientele amounted to 24 % as of late 2009 , up from 23 % as of late 2008 , conformity to TeliaSonera calculates \"]\n"
          ]
        },
        {
          "output_type": "stream",
          "name": "stderr",
          "text": [
            "\r 54%|█████▎    | 243/453 [28:48<44:17, 12.65s/it]"
          ]
        },
        {
          "output_type": "stream",
          "name": "stdout",
          "text": [
            "Augmentations:\n",
            "['Around the sinter plant , limestone and coke breeze are blend with the iron ore concentrate and sintered into lump forms or sinter for utilize in the explodes furnace as a raw hardware for iron-making ', 'In the sinter centers , chalk and cocaine breeze are cocktail with the iron ore concentrates and sintered into lump form or sinter for utilized in the shattering furnaces as a raw material for iron-making ', 'In the sinter factories , limestone and coke breeze are mixed with the iron ore concentrated and sintered into lump forme or sinter for used in the blowup furnace as a raw material for iron-making ', 'In the sinter installations , limestone and coke shatter are blend with the iron ore concentrate and sintered into lump shaping or sinter for exploit in the struck fours as a raw material for iron-making ', 'Into the sinter plant , limestone and coke breeze are blending with the railroads ore concentrated and sintered into lump form or sinter for used in the shattering boilers as a raw material for iron-making ']\n"
          ]
        },
        {
          "output_type": "stream",
          "name": "stderr",
          "text": [
            "\r 54%|█████▍    | 244/453 [28:54<36:29, 10.47s/it]"
          ]
        },
        {
          "output_type": "stream",
          "name": "stdout",
          "text": [
            "Augmentations:\n",
            "['EXEL COMPOSITES AT SUCCINCT Exel Composites is a techno enterprises which designs , manufactures and markets composite profiles and tubes for industrial application ', 'EXEL COMPOSITES FOR ANYHOW Exel Composites is a technology company which braced , manufactures and markets compounds profiles and tubes for industrialists applications ', 'EXEL COMPOSITES IN BRIEF Exel Composites is a technology company which designs , manufacturing and markets composite profiling and pipeline for industrial requisitioning ', 'EXEL COMPOSITES IN BRIEFING Exel Composites is a technologies firms which designs , fabrication and markets composite profiles and tubes for industrial motions ', 'EXEL COMPOSITES IN BRIEFLY Exel Composites is a technology ventures which designs , manufacturing and trade composite profiles and tubing for industrial applications ']\n"
          ]
        },
        {
          "output_type": "stream",
          "name": "stderr",
          "text": [
            "\r 54%|█████▍    | 245/453 [29:03<35:28, 10.23s/it]"
          ]
        },
        {
          "output_type": "stream",
          "name": "stdout",
          "text": [
            "Augmentations:\n",
            "[\"Administer Rector 's remark : `` Net sales for the first quarter were particularly reduced than a year before , specially in Finland , Russia and the Baltic countries \", \"Administered Rector 's comments : `` Tenderloin sales for the prima quarter were notably lessened than a year before , uncommonly in Finland , Russia and the Baltic countries \", \"Managing Director 's commentary : `` Net sales for the initial quarter were specially minimal than a year before , essentially in Finland , Russia and the Baltic nations \", \"Managing Director 's observations : `` Net sales for the first quarter were primarily reducing than a year before , predominantly in Finland , Russian and the Baltic country \", \"Managing Filmmaker 's comments : `` Net sales for the initially quarter were notably declines than a year before , concretely in Finland , Russkies and the Baltic nation \"]\n"
          ]
        },
        {
          "output_type": "stream",
          "name": "stderr",
          "text": [
            "\r 54%|█████▍    | 246/453 [29:05<26:47,  7.76s/it]"
          ]
        },
        {
          "output_type": "stream",
          "name": "stdout",
          "text": [
            "Augmentations:\n",
            "['Sales in Finland decreased by 10.5 % in October , while sales outer Finland retreated by 17 % ', 'Sales in Finland lessened by 10.5 % in January , while sales outer Finland crept by 17 % ', 'Sales in Finland shrunk by 10.5 % in November , while sales outside Finland dipped by 17 % ', 'Sales in Finland slashes by 10.5 % in January , while resell outside Finland declined by 17 % ', 'Selling in Finland dilutes by 10.5 % in January , while sales outside Finland shrunk by 17 % ']\n"
          ]
        },
        {
          "output_type": "stream",
          "name": "stderr",
          "text": [
            "\r 55%|█████▍    | 247/453 [29:17<30:03,  8.76s/it]"
          ]
        },
        {
          "output_type": "stream",
          "name": "stdout",
          "text": [
            "Augmentations:\n",
            "['After the rapport deadline , BioTie North American licensing partner Somaxon Drug proclaims positive conclusions with nalmefene in a pilot Ballpark 2 clinical trial for smoking cessation ', 'After the reporting period , BioTie Norden Americas licensing partner Somaxon Medications announced positive implications with nalmefene in a empirical Phase 2 clinical trial for smoking suspending ', 'After the reporting period , BioTie North American permissions partner Somaxon Pharmaceutical advertisement positive outcome with nalmefene in a pilot Phase 2 clinical trial for smoking stopping ', 'After the reporting time , BioTie North American licenses partner Somaxon Pharmaceuticals says positive conclusions with nalmefene in a pilot Phase 2 clinical trial for smoking ceasing ', 'Later the reporting period , BioTie North American authorizing partner Somaxon Doctors heralded positive findings with nalmefene in a pilot Phase 2 clinical trial for smoking cessation ']\n"
          ]
        },
        {
          "output_type": "stream",
          "name": "stderr",
          "text": [
            "\r 55%|█████▍    | 248/453 [29:18<22:06,  6.47s/it]"
          ]
        },
        {
          "output_type": "stream",
          "name": "stdout",
          "text": [
            "Augmentations:\n",
            "['Benefits before fees was EUROS 4.0 mn , down from EUR 4.9 mn ', 'Earnings before royalty was EURO 4.0 mn , down from EUR 4.9 mn ', 'Gains before cost was EUROS 4.0 mn , down from EUR 4.9 mn ', 'Incomes before expenses was EUR 4.0 mn , down from EUR 4.9 minnesota ', 'Recipes before onus was EUR 4.0 minnesota , down from EUR 4.9 mn ']\n"
          ]
        },
        {
          "output_type": "stream",
          "name": "stderr",
          "text": [
            "\r 55%|█████▍    | 249/453 [29:26<24:12,  7.12s/it]"
          ]
        },
        {
          "output_type": "stream",
          "name": "stdout",
          "text": [
            "Augmentations:\n",
            "['Among the methodology the smelt spouts 2 are separated from the work regions 6 by a armor wall 8 , 10 holding movable in relation to the smelt spouts ', 'Around the ways the smelt spouts 2 are separated from the jobs spheres 6 by a armored wall 8 , 10 arranges movable in relation to the smelt spouts ', 'At the method the smelt spouts 2 are separate from the workplace realm 6 by a sonic wall 8 , 10 organised movable in relation to the smelt spouts ', 'During the method the smelt spouts 2 are apartheid from the work zona 6 by a shielding mur 8 , 10 arranged cellphone in relation to the smelt spouts ', 'In the method the smelt spouts 2 are separated from the worker areas 6 by a armored wall 8 , 10 organise movable in relative to the smelt spouts ']\n"
          ]
        },
        {
          "output_type": "stream",
          "name": "stderr",
          "text": [
            "\r 55%|█████▌    | 250/453 [29:35<25:19,  7.48s/it]"
          ]
        },
        {
          "output_type": "stream",
          "name": "stdout",
          "text": [
            "Augmentations:\n",
            "['ALEXANDRIA , Va. , May 16 -- Kenneth Bower of Vista , Calif. , has crafted an ornamentation design for a handset , the U.S. Patents & Trademarks Office advertised ', 'ALEXANDRIA , Va. , May 16 -- Kenneth Bower of Vista , Calif. , has developed an ornamental predicted for a headphones , the U.S. Patent & Trademark Office advertises ', 'ALEXANDRIA , Va. , May 16 -- Kenneth Bower of Vista , Calif. , has phrased an ornament design for a atrium , the U.S. Patent & Hallmark Office declares ', 'ALEXANDRIA , Va. , Maybe 16 -- Kenneth Bower of Sight , Calif. , has developed an ornamental design for a handset , the U.S. Patent & Dial Bureau declares ', 'ALEXANDRIA , Virginia. , May 16 -- Kenneth Bower of Perspective , Calif. , has developed an ornamental conceive for a earpiece , the U.S. Patent & Trademarks Office announced ']\n"
          ]
        },
        {
          "output_type": "stream",
          "name": "stderr",
          "text": [
            "\r 55%|█████▌    | 251/453 [29:35<18:15,  5.42s/it]"
          ]
        },
        {
          "output_type": "stream",
          "name": "stdout",
          "text": [
            "Augmentations:\n",
            "['announced Brian Burton , Head of IT Security , Vodafone UK ', 'declares Brian Burton , Head of IT Security , Vodafone UK ', 'says Brian Burton , Heads of IT Guarantees , Vodafone UK ', 'says Bryan Burton , Head of IT Seguro , Vodafone UK ', 'told Brian Burton , Head of IT Security , Vodafone ENGLAND ']\n"
          ]
        },
        {
          "output_type": "stream",
          "name": "stderr",
          "text": [
            "\r 56%|█████▌    | 252/453 [29:50<27:39,  8.26s/it]"
          ]
        },
        {
          "output_type": "stream",
          "name": "stdout",
          "text": [
            "Augmentations:\n",
            "['Exploiting revenues of Kauppalehti group omitting to EUR 1.5 mn from EUROS 1.3 mn , and that of Marketplaces to EUR 1.3 min from EUROS 1.0 manganese in the thirdly quarter of 2006 ', 'Operandi profit of Kauppalehti pooling soaring to EUR 1.5 minnesota from EUR 1.3 minnesota , and that of Marketplaces to EUR 1.3 min from EUR 1.0 minneapolis in the terzi quarter of 2006 ', 'Operandi revenue of Kauppalehti panels climbed to EUROS 1.5 mn from EURO 1.3 mn , and that of Marketplaces to EUR 1.3 minnesota from EUROS 1.0 mn in the third quarter of 2006 ', 'Operative dividend of Kauppalehti clusters risen to EUROS 1.5 mn from EUR 1.3 mn , and that of Marketplaces to EUR 1.3 minnesota from EUR 1.0 mn in the third quarter of 2006 ', 'Operative income of Kauppalehti group jumped to EUR 1.5 mn from EUR 1.3 mn , and that of Marketplaces to EURO 1.3 mn from EUR 1.0 mn in the terzi quarter of 2006 ']\n"
          ]
        },
        {
          "output_type": "stream",
          "name": "stderr",
          "text": [
            "\r 56%|█████▌    | 253/453 [29:53<21:54,  6.57s/it]"
          ]
        },
        {
          "output_type": "stream",
          "name": "stdout",
          "text": [
            "Augmentations:\n",
            "[\"De bond , with a maturity of five years , is fractions of the bank 's locally bond pog \", \"The bond , with a expiry of five years , is teil of the banking 's homeland bond program \", \"The bond , with a maturing of five years , is part of the bank 's domestic bonds programmed \", \"The bond , with a maturity of five aged , is teil of the bank 's internally bond pog \", \"The bond , with a maturity of five yrs , is servings of the bank 's domestic bonding programs \"]\n"
          ]
        },
        {
          "output_type": "stream",
          "name": "stderr",
          "text": [
            "\r 56%|█████▌    | 254/453 [29:55<17:15,  5.20s/it]"
          ]
        },
        {
          "output_type": "stream",
          "name": "stdout",
          "text": [
            "Augmentations:\n",
            "[\"Following the issue , the new shares will accounted 10 percent of the firm 's capitalism \", \"Following the issue , the novo shares will constitute 10 percentage of the firm 's kapital \", \"Following the issue , the recent interchange will accounted 10 percent of the firm 's capital \", \"Following the matter , the new shares will represents 10 percent of the firm 's capital \", \"Following the topic , the recent shares will accounted 10 percent of the firm 's capital \"]\n"
          ]
        },
        {
          "output_type": "stream",
          "name": "stderr",
          "text": [
            "\r 56%|█████▋    | 255/453 [30:18<35:22, 10.72s/it]"
          ]
        },
        {
          "output_type": "stream",
          "name": "stdout",
          "text": [
            "Augmentations:\n",
            "['The mall is part of the Baltic Pearl development project in the ciudad of St Petersburg , where Baltic Marvel CJSC , a subsidiary of Shanghai Foreign Jointly Invested Business , is devising homes for 35,000 pueblo ', 'The mall is part of the Baltic Pearl development projects in the urban of St Petersburg , where Baltic Perla CJSC , a subsidiary of Shanghai Exotic Joint Investors Company , is preparing homing for 35,000 people ', 'The mall is part of the Baltic Stones development draft in the stadt of Tk Petersburg , where Baltic Perl CJSC , a subsidiary of Shanghai Foreigner Joint Investment Company , is devise homes for 35,000 people ', 'The mall is segment of the Baltic Pearl development project in the towns of St Petersburg , where Baltic Pearl CJSC , a subsidiary of Shanghai Outer Joint Invest Companies , is preparations house for 35,000 people ', 'The malls is part of the Baltic Jewellery development project in the urban of St Petersburg , where Baltic Pearl CJSC , a subsidiary of Shanghai Outsiders Jointly Investor Company , is developing residence for 35,000 people ']\n"
          ]
        },
        {
          "output_type": "stream",
          "name": "stderr",
          "text": [
            "\r 57%|█████▋    | 256/453 [30:19<25:01,  7.62s/it]"
          ]
        },
        {
          "output_type": "stream",
          "name": "stdout",
          "text": [
            "Augmentations:\n",
            "['M. and a Master of Corporate Administering MBA ', 'M. and a Master of Enterprising Administration MBA ', 'm. and a Master of Business Administer MBA ', 'metre. and a Master of Companies Administration MBA ', 'metres. and a Master of Undertakings Administration MBA ']\n"
          ]
        },
        {
          "output_type": "stream",
          "name": "stderr",
          "text": [
            "\r 57%|█████▋    | 257/453 [30:20<18:41,  5.72s/it]"
          ]
        },
        {
          "output_type": "stream",
          "name": "stdout",
          "text": [
            "Augmentations:\n",
            "['About 36 % of this come from Aspo Chemicals , 39 % from Aspo Sending and 25 % from Aspo Regimes ', 'Almost 36 % of this arrived from Aspo Chemicals , 39 % from Aspo Seafaring and 25 % from Aspo Schemes ', 'For 36 % of this came from Aspo Chemical , 39 % from Aspo Dispatch and 25 % from Aspo Systems ', 'Roughly 36 % of this come from Aspo Chemicals , 39 % from Aspo Shipping and 25 % from Aspo Plan ', 'Roundabout 36 % of this arrived from Aspo Chemicals , 39 % from Aspo Shipping and 25 % from Aspo Systems ']\n"
          ]
        },
        {
          "output_type": "stream",
          "name": "stderr",
          "text": [
            "\r 57%|█████▋    | 258/453 [30:21<14:09,  4.36s/it]"
          ]
        },
        {
          "output_type": "stream",
          "name": "stdout",
          "text": [
            "Augmentations:\n",
            "['Sales improves to SEK 1,553 mn , comparison with SIK 1,408 mn ', 'Sales strengthening to CK 1,553 manganese , compared with SEK 1,408 mn ', 'Salts improved to CK 1,553 mn , compared with SEK 1,408 manganese ', 'Selling improved to SEK 1,553 manganese , compared with KC 1,408 mn ', 'Vending better to SEK 1,553 mn , comparative with SEK 1,408 mn ']\n"
          ]
        },
        {
          "output_type": "stream",
          "name": "stderr",
          "text": [
            "\r 57%|█████▋    | 259/453 [30:22<10:48,  3.34s/it]"
          ]
        },
        {
          "output_type": "stream",
          "name": "stdout",
          "text": [
            "Augmentations:\n",
            "['Nova processing is subject to approval by the Norwegian competition authorities ', 'The deal is subject to authorise by the Swedish competition authorities ', 'The deal is subject to endorsement by the Norwegian competitiveness governments ', 'The processed is themes to approval by the Norwegian rivalries authorities ', 'The solve is subject to approval by the Norwegian rivalry authorities ']\n"
          ]
        },
        {
          "output_type": "stream",
          "name": "stderr",
          "text": [
            "\r 57%|█████▋    | 260/453 [30:38<22:18,  6.94s/it]"
          ]
        },
        {
          "output_type": "stream",
          "name": "stdout",
          "text": [
            "Augmentations:\n",
            "[\"The businesses 's net revenues rocketed 11.4 % on the year to 82.2 millions euros in 2005 on sales of 686.5 million euros , 13.8 % up on the annual , the company stressed before \", \"The company 's net proceeds increasing 11.4 % on the year to 82.2 million euros in 2005 on sales of 686.5 million eur , 13.8 % up on the yearly , the enterprises say prior \", \"The corporate 's net pros hiking 11.4 % on the leto to 82.2 billions euros in 2005 on sales of 686.5 million euros , 13.8 % up on the leto , the company tell earlier \", \"The enterprises 's net revenue skyrocketed 11.4 % on the year to 82.2 millions euros in 2005 on selling of 686.5 million euros , 13.8 % up on the year , the corporations say earlier \", \"The firms 's net profit intensify 11.4 % on the everyyear to 82.2 mln euros in 2005 on sales of 686.5 million euros , 13.8 % up on the leto , the societies said before \"]\n"
          ]
        },
        {
          "output_type": "stream",
          "name": "stderr",
          "text": [
            "\r 58%|█████▊    | 261/453 [30:40<17:58,  5.62s/it]"
          ]
        },
        {
          "output_type": "stream",
          "name": "stdout",
          "text": [
            "Augmentations:\n",
            "[\"Last year 's fillet sale increases to EUR 68.3 million from EUR 62.2 million \", \"Last year 's fillet sell increases to EUR 68.3 million from EUR 62.2 million \", \"Last year 's net sales growth to EUR 68.3 million from EURO 62.2 million \", \"Last year 's net sales spiraling to EUR 68.3 million from EUR 62.2 million \", \"Last year 's net salts rose to EUR 68.3 thousandth from EUR 62.2 millions \"]\n"
          ]
        },
        {
          "output_type": "stream",
          "name": "stderr",
          "text": [
            "\r 58%|█████▊    | 262/453 [30:44<16:30,  5.18s/it]"
          ]
        },
        {
          "output_type": "stream",
          "name": "stdout",
          "text": [
            "Augmentations:\n",
            "['The equality value of the investment properties stood EUR 2,534.9 mn , up from EUR 2,455.1 mn in 2006 ', 'The equitable prized of the investing properties totalled EUR 2,534.9 mn , up from EUR 2,455.1 min in 2006 ', 'The fair valued of the investments properties totaled EUR 2,534.9 minnesota , up from EURO 2,455.1 manganese in 2006 ', 'The impartiality value of the invests ownership amounted EUR 2,534.9 mn , up from EUROS 2,455.1 mn in 2006 ', 'The justo value of the converse properties totaled EUR 2,534.9 mn , up from EUR 2,455.1 minnesota in 2006 ']\n"
          ]
        },
        {
          "output_type": "stream",
          "name": "stderr",
          "text": [
            "\r 58%|█████▊    | 263/453 [30:47<13:53,  4.39s/it]"
          ]
        },
        {
          "output_type": "stream",
          "name": "stdout",
          "text": [
            "Augmentations:\n",
            "['A book mill in the amidst Maine municipal of Madison soon will have a new malek ', 'A paper factories in the amidst Maine cities of Madison shortly will have a new owner ', 'A paper steelworks in the amidst Maine town of Madison soon will have a newest proprietor ', 'una paper mill in the central Maine town of Madison punctual will have a new possessor ', 'une paper factories in the central Maine town of Madison speedily will have a new landowner ']\n"
          ]
        },
        {
          "output_type": "stream",
          "name": "stderr",
          "text": [
            "\r 58%|█████▊    | 264/453 [30:47<10:11,  3.23s/it]"
          ]
        },
        {
          "output_type": "stream",
          "name": "stdout",
          "text": [
            "Augmentations:\n",
            "['Du order also involves start-up and commissioning services ', 'The order also include start-up and commissioning servicing ', 'The order equally understands start-up and commissioning services ', 'The order similarly includes start-up and commissioning services ', 'The order similarly including start-up and commissioning services ']\n"
          ]
        },
        {
          "output_type": "stream",
          "name": "stderr",
          "text": [
            "\r 58%|█████▊    | 265/453 [30:48<07:21,  2.35s/it]"
          ]
        },
        {
          "output_type": "stream",
          "name": "stdout",
          "text": [
            "Augmentations:\n",
            "['Closing of such transaction picked place hoy ', 'Closings of such transaction took place yesterday ', 'Closure of such transaction took place monday ', 'Finish of such transaction were place today ', 'Nears of such transaction took place presently ']\n"
          ]
        },
        {
          "output_type": "stream",
          "name": "stderr",
          "text": [
            "\r 59%|█████▊    | 266/453 [30:55<12:14,  3.93s/it]"
          ]
        },
        {
          "output_type": "stream",
          "name": "stdout",
          "text": [
            "Augmentations:\n",
            "['Finnish financials cluster Aktia reports operating profits of EUR 44.4 manganese in January-September 2009 , up from EUR 37.3 mn in the corresponding schedules in 2008 ', 'Finnish funding group Aktia rapport operate winnings of EUR 44.4 minnesota in January-September 2009 , up from EUR 37.3 mn in the corresponding timetable in 2008 ', 'Finnish funding groups Aktia reports operate incomes of EUROS 44.4 mn in January-September 2009 , up from EUR 37.3 mn in the corresponding timing in 2008 ', 'Finnish funds panel Aktia reports exploitation incomes of EUR 44.4 mn in January-September 2009 , up from EUR 37.3 manganese in the corresponding times in 2008 ', 'Finnish resources cluster Aktia report operated profit of EUR 44.4 mn in January-September 2009 , up from EUR 37.3 minnesota in the corresponding deadlines in 2008 ']\n"
          ]
        },
        {
          "output_type": "stream",
          "name": "stderr",
          "text": [
            "\r 59%|█████▉    | 267/453 [31:05<18:03,  5.83s/it]"
          ]
        },
        {
          "output_type": "stream",
          "name": "stdout",
          "text": [
            "Augmentations:\n",
            "['Svyturys-Utenos Alus , which is controlled by the Norden panel Baltic Booze Organize ( BBH ) , posted a 6.1 percent improve in beer sales for January-September to 101.99 trillions liters ', 'Svyturys-Utenos Alus , which is controlled by the Norse clusters Baltic Cups Holding ( BBH ) , posted a 6.1 percent rises in beer sales for January-September to 101.99 trillions liters ', 'Svyturys-Utenos Alus , which is controlled by the North pooling Baltic Alcoholism Holding ( BBH ) , posted a 6.1 percent climbing in beer sale for January-September to 101.99 trillion liters ', 'Svyturys-Utenos Alus , which is monitored by the Scandinavia groupings Baltic Beverages Holding ( BBH ) , posted a 6.1 percent risen in beer sells for January-September to 101.99 millions liters ', 'Svyturys-Utenos Alus , which is overseeing by the Nordic group Baltic Alcohol Organised ( BBH ) , posted a 6.1 percent increasing in beer sales for January-September to 101.99 trillion liters ']\n"
          ]
        },
        {
          "output_type": "stream",
          "name": "stderr",
          "text": [
            "\r 59%|█████▉    | 268/453 [31:12<18:48,  6.10s/it]"
          ]
        },
        {
          "output_type": "stream",
          "name": "stdout",
          "text": [
            "Augmentations:\n",
            "['Decree intake increased by 40 % year-on-year and 30 % year-on-year , respectively , to EUR 576 billion and EUR 1.7 billion for the respective January-September and July-September 2010 deadlines ', 'Decree intake intensify by 40 % year-on-year and 30 % year-on-year , straight , to EURO 576 shiu and EUR 1.7 billion for the respective January-September and July-September 2010 timetable ', 'Order intake climbed by 40 % year-on-year and 30 % year-on-year , respectively , to EUR 576 millions and EUROS 1.7 billion for the respective January-September and July-September 2010 intervals ', 'Orders intake widened by 40 % year-on-year and 30 % year-on-year , respectively , to EUR 576 millions and EUR 1.7 billion for the respective January-September and July-September 2010 times ', 'Stipulations intake intensifying by 40 % year-on-year and 30 % year-on-year , singly , to EUR 576 million and EUR 1.7 billion for the respective January-September and July-September 2010 calendars ']\n"
          ]
        },
        {
          "output_type": "stream",
          "name": "stderr",
          "text": [
            "\r 59%|█████▉    | 269/453 [31:16<16:54,  5.51s/it]"
          ]
        },
        {
          "output_type": "stream",
          "name": "stdout",
          "text": [
            "Augmentations:\n",
            "['De Baltimore Gendarme and Bonfire Pension , which has about $ 1.5 billion , outof about $ 3.5 mln in Madoff Ponzi scheme ', 'Nova Baltimore Cops and Burns Pension , which has about $ 1.5 billions , lost about $ 3.5 million in Madoff Ponzi schemes ', 'Nova Baltimore Police and Firefighting Pension , which has about $ 1.5 billions , outof about $ 3.5 million in Madoff Ponzi systems ', 'Nova Baltimore Policemen and Fire Pensions , which has about $ 1.5 mln , forfeited about $ 3.5 million in Madoff Ponzi scheme ', 'The Cincinnati Cop and Flame Pension , which has about $ 1.5 billion , outof about $ 3.5 million in Madoff Ponzi regime ']\n"
          ]
        },
        {
          "output_type": "stream",
          "name": "stderr",
          "text": [
            "\r 60%|█████▉    | 270/453 [31:19<13:47,  4.52s/it]"
          ]
        },
        {
          "output_type": "stream",
          "name": "stdout",
          "text": [
            "Augmentations:\n",
            "['The devices would be incurred in the Chinese market in iate 2006 , the enterprise said ', 'The devices would be initiating in the Chinese market in late 2006 , the undertaking highlighted ', 'The devices would be initiation in the Chinese traded in late 2006 , the company avowed ', 'The devices would be launched in the Chino market in iate 2006 , the ventures said ', 'The mechanism would be instituted in the Chinese market in iate 2006 , the company said ']\n"
          ]
        },
        {
          "output_type": "stream",
          "name": "stderr",
          "text": [
            "\r 60%|█████▉    | 271/453 [31:24<14:58,  4.94s/it]"
          ]
        },
        {
          "output_type": "stream",
          "name": "stdout",
          "text": [
            "Augmentations:\n",
            "['Exploitation advantage for the three-month time grown from EUR1 .2 m , while revenue climbs from EUR20 .2 m , as compared to the corresponding schedules in 2005 ', 'Operate incomes for the three-month times enhancing from EUR1 .2 m , while revenue heighten from EUR20 .2 m , as comparative to the corresponding period in 2005 ', 'Operating gains for the three-month period increases from EUR1 .2 m , while receipts spiraling from EUR20 .2 m , as compared to the correspond schedule in 2005 ', 'Operation winnings for the three-month deadline expanded from EUR1 .2 m , while revenue increasing from EUR20 .2 m , as compared to the corresponding period in 2005 ', 'Operational profit for the three-month period increase from EUR1 .2 m , while revenue climb from EUR20 .2 m , as compared to the corresponding timetable in 2005 ']\n"
          ]
        },
        {
          "output_type": "stream",
          "name": "stderr",
          "text": [
            "\r 60%|██████    | 272/453 [31:32<17:14,  5.72s/it]"
          ]
        },
        {
          "output_type": "stream",
          "name": "stdout",
          "text": [
            "Augmentations:\n",
            "['May 29 , 2010 ( CompaniesandMarkets.com gave by Newstex ) -- This rapport providing principal data and information on the meat , fish and seabirds market in Finland ', 'May 29 , 2010 ( CompaniesandMarkets.com gave by Newstex ) -- This report furnishes root data and info on the meat , fish and hoes market in Finland ', 'May 29 , 2010 ( CompaniesandMarkets.com given by Newstex ) -- This report provides indispensable data and informations on the meat , fish and fowl marketed in Finland ', 'May 29 , 2010 ( CompaniesandMarkets.com provided by Newstex ) -- This report furnishes decisive data and information on the meat , fish and fowls mercado in Finland ', 'May 29 , 2010 ( CompaniesandMarkets.coms handed by Newstex ) -- This report provides keys data and information on the meat , fish and chickens market in Stockholm ']\n"
          ]
        },
        {
          "output_type": "stream",
          "name": "stderr",
          "text": [
            "\r 60%|██████    | 273/453 [31:34<13:28,  4.49s/it]"
          ]
        },
        {
          "output_type": "stream",
          "name": "stdout",
          "text": [
            "Augmentations:\n",
            "['Nova totality project lifespan is three years and it is valued at some EUR11 .5 m', 'The full project duration is trois years and it is assessment at some EUR11 .5 m', 'The generals project duration is tres yr and it is valued at some EUR11 .5 m', 'The outright project laps is trois years and it is prized at some EUR11 .5 m', 'The total projects chronology is tre aged and it is valued at some EUR11 .5 m']\n"
          ]
        },
        {
          "output_type": "stream",
          "name": "stderr",
          "text": [
            "\r 60%|██████    | 274/453 [31:34<09:51,  3.31s/it]"
          ]
        },
        {
          "output_type": "stream",
          "name": "stdout",
          "text": [
            "Augmentations:\n",
            "['Appointing of Venture in which holdings have been acquiring : Citycon Oyj 2 ', 'Name of Company in which holdings have been acquisition : Citycon Oyj 2 ', 'Name of Enterprise in which holdings have been acquired : Citycon Oyj 2 ', 'Name of Enterprising in which holdings have been earned : Citycon Oyj 2 ', 'Names of Corporation in which holdings have been earned : Citycon Oyj 2 ']\n"
          ]
        },
        {
          "output_type": "stream",
          "name": "stderr",
          "text": [
            "\r 61%|██████    | 275/453 [31:56<26:17,  8.86s/it]"
          ]
        },
        {
          "output_type": "stream",
          "name": "stdout",
          "text": [
            "Augmentations:\n",
            "['Finnish Scanfil , a agreement manufacturer and plans dealer for communicates and industrial electronically reports net sales of EUR 108.7 mn in the first half of 2008 , down from EUR 111.1 mn a year previous ', 'Finnish Scanfil , a contract grower and program provider for communicates and industrial electronics reports arresting sales of EUR 108.7 mn in the premiere mid of 2008 , down from EUR 111.1 mn a year formerly ', 'Finnish Scanfil , a contract maker and scheme givers for telecommunications and industrial electronics reports net selling of EURO 108.7 mn in the first averaging of 2008 , down from EUR 111.1 mn a yrs earlier ', 'Finnish Scanfil , a contract manufacturer and system vendors for interacting and industrial electronics reports net selling of EUR 108.7 mn in the first half of 2008 , down from EUROS 111.1 mn a year precedents ', 'Finns Scanfil , a contract manufacturer and arrangements vendors for communication and industrial electronics reports net sales of EUR 108.7 minnesota in the first half of 2008 , down from EUR 111.1 mn a leto avant ']\n"
          ]
        },
        {
          "output_type": "stream",
          "name": "stderr",
          "text": [
            "\r 61%|██████    | 276/453 [31:57<18:57,  6.43s/it]"
          ]
        },
        {
          "output_type": "stream",
          "name": "stdout",
          "text": [
            "Augmentations:\n",
            "['Cette organization will assume the functioning for operations in Russia ', 'This organising will assume the responsibility for operations in Russian ', 'This organizational will assume the liabilities for operations in Russia ', 'This organizations will assume the responsibility for operating in Russia ', 'This organized will assume the burdened for operations in Russia ']\n"
          ]
        },
        {
          "output_type": "stream",
          "name": "stderr",
          "text": [
            "\r 61%|██████    | 277/453 [32:20<33:34, 11.45s/it]"
          ]
        },
        {
          "output_type": "stream",
          "name": "stdout",
          "text": [
            "Augmentations:\n",
            "['( ADP News ) - Elf 11 , 2009 - Finnish govern software solutions dealer Ixonos Oyj ( HEL : XNS1V ) stated nowadays its net dividend increasing to EUR 3.5 million ( YUAN 4.5 m ) for 2008 from EUR 3.1 million for 2007 ', '( ADP News ) - Feb 11 , 2009 - Finnish administering software solutions provider Ixonos Oyj ( HEL : XNS1V ) avowed mondays its net dividend enlarging to EUROS 3.5 mln ( USD 4.5 m ) for 2008 from EUR 3.1 millions for 2007 ', '( ADP News ) - Feb 11 , 2009 - Finnish administrative software solutions salesperson Ixonos Oyj ( HEL : XNS1V ) stated today its net perks rose to EUR 3.5 million ( DOLLARS 4.5 m ) for 2008 from EUR 3.1 millions for 2007 ', '( ADP News ) - Feb 11 , 2009 - Finnish governance software solutions sellers Ixonos Oyj ( HEL : XNS1V ) reported today its net earn jumps to EURO 3.5 million ( USD 4.5 m ) for 2008 from EUR 3.1 million for 2007 ', '( ADP News ) - June 11 , 2009 - Finnish management software solutions deliverer Ixonos Oyj ( HEL : XNS1V ) said hoy its net gains rising to EUR 3.5 mln ( USD 4.5 m ) for 2008 from EUROS 3.1 million for 2007 ']\n"
          ]
        },
        {
          "output_type": "stream",
          "name": "stderr",
          "text": [
            "\r 61%|██████▏   | 278/453 [32:25<27:27,  9.41s/it]"
          ]
        },
        {
          "output_type": "stream",
          "name": "stdout",
          "text": [
            "Augmentations:\n",
            "[\"One price categories is for application on the prefers operator 's network , and another for calls on other operators ' webs \", \"One price category is for invites on the preferable operator 's networking , and another for demands on other operators ' networks \", \"One price category is for inviting on the preferably operator 's networking , and another for telephoning on other operators ' networks \", \"One prix kinds is for calls on the preferred operator 's grids , and another for invites on other operators ' networks \", \"One tariffs category is for calls on the preferably operator 's network , and another for appealed on other operators ' networks \"]\n"
          ]
        },
        {
          "output_type": "stream",
          "name": "stderr",
          "text": [
            "\r 62%|██████▏   | 279/453 [32:25<19:44,  6.81s/it]"
          ]
        },
        {
          "output_type": "stream",
          "name": "stdout",
          "text": [
            "Augmentations:\n",
            "['The installation is awaited to enter commercial operation by mid-2009 ', 'The plant is awaiting to enter trading operation by mid-2009 ', 'The plant is awaiting to sneak commercial operation by mid-2009 ', 'The plant is envisage to enter commercial operation by mid-2009 ', 'The plant is stipulated to enter commercial operations by mid-2009 ']\n"
          ]
        },
        {
          "output_type": "stream",
          "name": "stderr",
          "text": [
            " 62%|██████▏   | 281/453 [32:26<09:56,  3.47s/it]"
          ]
        },
        {
          "output_type": "stream",
          "name": "stdout",
          "text": [
            "Augmentations:\n",
            "['Nova contracts is worth some EUR 1 million ', 'The agreement is worth some EUR 1 millions ', 'The contracts is worth some EUROS 1 million ', 'The conventions is worth some EUR 1 trillion ', 'The treaties is worth some EUR 1 billions ']\n",
            "Augmentations:\n",
            "['Guarantee policies should be simple ', 'Insurance policies should be simple ', 'Insurance policies should be uncomplicated ', 'Insurance political should be simple ', 'Insurance politically should be simple ']\n"
          ]
        },
        {
          "output_type": "stream",
          "name": "stderr",
          "text": [
            "\r 62%|██████▏   | 282/453 [32:27<07:48,  2.74s/it]"
          ]
        },
        {
          "output_type": "stream",
          "name": "stdout",
          "text": [
            "Augmentations:\n",
            "['Nova instructing is related to renovate the network of the telecommunications operator ', 'The decrees is intertwined to renewing the nets of the telecommunications operator ', 'The order is associated to refurbishing the web of the telecommunications operator ', 'The order is relating to renewal the network of the telecommunications operator ', 'The orders is thereto to renewing the nets of the telecommunications operator ']\n"
          ]
        },
        {
          "output_type": "stream",
          "name": "stderr",
          "text": [
            "\r 62%|██████▏   | 283/453 [32:28<06:41,  2.36s/it]"
          ]
        },
        {
          "output_type": "stream",
          "name": "stdout",
          "text": [
            "Augmentations:\n",
            "['De prenup will take repercussions in 2009 for a five or ten year period ', 'Du contract will take consequence in 2009 for a five or dez year period ', 'Nova contract will taken affect in 2009 for a five or ten year period ', 'The accord will take effect in 2009 for a five or tens year timing ', 'The contracting will take effect in 2009 for a five or tio yearly period ']\n"
          ]
        },
        {
          "output_type": "stream",
          "name": "stderr",
          "text": [
            "\r 63%|██████▎   | 284/453 [32:35<10:03,  3.57s/it]"
          ]
        },
        {
          "output_type": "stream",
          "name": "stdout",
          "text": [
            "Augmentations:\n",
            "['18:30 Banquets The lectures systems can also be saw as a live acoustics webcast through the internet pages at www.citycon.com ', '18:30 Breakfast The conference pog can equally be viewed as a iife sound webcast through the internet pages at www.citycon.com ', '18:30 Dinner The conference programming can yet be viewed as a vive audio webcast through the web pages at www.citycon.com ', '18:30 Lunch The conference curriculum can alternately be seen as a alive audio webcast through the internet pages at www.citycon.com ', '18:30 Supper The conference programme can even be viewed as a lively audible webcast through the internet pages at www.citycon.com ']\n"
          ]
        },
        {
          "output_type": "stream",
          "name": "stderr",
          "text": [
            "\r 63%|██████▎   | 285/453 [32:35<07:15,  2.59s/it]"
          ]
        },
        {
          "output_type": "stream",
          "name": "stdout",
          "text": [
            "Augmentations:\n",
            "['Nova duration of the markets is 37 months ', 'The duration of the contracting is 37 month ', 'The duration of the contractual is 37 months ', 'The duration of the treaties is 37 monthly ', 'The lifespan of the contract is 37 mes ']\n"
          ]
        },
        {
          "output_type": "stream",
          "name": "stderr",
          "text": [
            "\r 63%|██████▎   | 286/453 [32:40<09:06,  3.27s/it]"
          ]
        },
        {
          "output_type": "stream",
          "name": "stdout",
          "text": [
            "Augmentations:\n",
            "['Durant the third quarter of 2007 , net sales totalled EUR 25.95 mn , and operation advantage EUR 3.88 mn ', 'In the terzi quarter of 2007 , wisp sales generals EUR 25.95 mn , and operating benefit EUR 3.88 mn ', 'In the third quarter of 2007 , net sales general EUROS 25.95 mn , and operated profit EUR 3.88 minneapolis ', 'In the third quarter of 2007 , net sales totaled EUROS 25.95 mn , and exploitation profit EUR 3.88 manganese ', 'In the third quarter of 2007 , net salts totaled EUR 25.95 manganese , and operating gaining EUR 3.88 mn ']\n"
          ]
        },
        {
          "output_type": "stream",
          "name": "stderr",
          "text": [
            "\r 63%|██████▎   | 287/453 [32:52<16:12,  5.86s/it]"
          ]
        },
        {
          "output_type": "stream",
          "name": "stdout",
          "text": [
            "Augmentations:\n",
            "[\"The market exchanged of Volkswagen traveller vehicles in Finland was 10.1 percent , Volkswagen had a market exchanging of 3.1 percent and Seat 's exchange was 0.9 percent \", \"The market exchanging of Vw passenger cars in Finland was 10.1 percent , Audi had a contracts share of 3.1 percent and Seating 's exchanging was 0.9 proportions \", \"The market share of Lamborghini passenger car in Finland was 10.1 percent , Chrysler had a marketplace share of 3.1 percent and Seating 's sharing was 0.9 percent \", \"The marketplace commons of Volkswagen travelers cars in Finland was 10.1 percent , Audi had a marketed shares of 3.1 percent and Seat 's exchanged was 0.9 percent \", \"To mercado switch of Audi passenger motors in Finland was 10.1 percent , Audi had a market interchange of 3.1 percent and Seat 's share was 0.9 percent \"]\n"
          ]
        },
        {
          "output_type": "stream",
          "name": "stderr",
          "text": [
            "\r 64%|██████▎   | 288/453 [33:06<22:34,  8.21s/it]"
          ]
        },
        {
          "output_type": "stream",
          "name": "stdout",
          "text": [
            "Augmentations:\n",
            "['Tekla will arranged an information reunions for analysts and media at WTC Helsinki Marski meeting sala , Aleksanterinkatu 17 , the same day at 12:30 - 1:30 pages.m. Illumination dined will be done ', 'Tekla will arranges an info reunions for analysts and media at WTC Finnish Marski meeting rooms , Aleksanterinkatu 17 , the same day at 12:30 - 1:30 phosphorus.m. Light catering will be served ', 'Tekla will coordinates an particulars meeting for analysts and media at WTC Tampere Marski meeting room , Aleksanterinkatu 17 , the same day at 12:30 - 1:30 p.m. Incandescent dinner will be served ', 'Tekla will organising an detail meeting for analysts and milieu at WTC Finnish Marski meeting room , Aleksanterinkatu 17 , the same day at 12:30 - 1:30 phosphorous.m. Lights luncheons will be served ', 'Tekla will organizer an information meeting for analysts and medias at WTC Helsinki Marski meeting house , Aleksanterinkatu 17 , the same day at 12:30 - 1:30 p.m. Light lunches will be served ']\n"
          ]
        },
        {
          "output_type": "stream",
          "name": "stderr",
          "text": [
            "\r 64%|██████▍   | 289/453 [33:08<17:28,  6.39s/it]"
          ]
        },
        {
          "output_type": "stream",
          "name": "stdout",
          "text": [
            "Augmentations:\n",
            "[\"The new placements is n't the only amends Wellmont has in store for its airbase carriage service \", \"The newest location is n't the only amendments Wellmont has in store for its airborne transport service \", \"The nouveau location is n't the only change Wellmont has in shop for its flying transport service \", \"The nueva location is n't the only amendment Wellmont has in store for its aeronautics transport service \", \"To new location is n't the only modified Wellmont has in memorize for its airforce transport service \"]\n"
          ]
        },
        {
          "output_type": "stream",
          "name": "stderr",
          "text": [
            "\r 64%|██████▍   | 290/453 [33:09<13:17,  4.89s/it]"
          ]
        },
        {
          "output_type": "stream",
          "name": "stdout",
          "text": [
            "Augmentations:\n",
            "['Marathon now has a 4.6 cents play in PLX , it said , conforming to Bloomberg ', 'Marathon now has a 4.6 percent games in PLX , it proclaims , complying to Bloomberg ', 'Marathon now has a 4.6 percent play in PLX , it said , according to Bloomberg ', 'Marathon now has a 4.6 percent pyre in PLX , it alleges , according to Bloomberg ', 'Marathon now has a 4.6 percent stake in PLX , it avowed , virtue to Bloomberg ']\n"
          ]
        },
        {
          "output_type": "stream",
          "name": "stderr",
          "text": [
            "\r 64%|██████▍   | 291/453 [33:20<18:08,  6.72s/it]"
          ]
        },
        {
          "output_type": "stream",
          "name": "stdout",
          "text": [
            "Augmentations:\n",
            "[\"De shares shall be acquired according to the Rules of NASDAQ OMX Helsinki and otherwise according to the rule related to acquire of the company 's own sharing \", \"The interchange shall be earn according to the Rule of NASDAQ OMX Stockholm and moreover according to the provisions related to acquisition of the company 's own shares \", \"The share shall be acquired according to the Regulations of NASDAQ OMX Helsinki and otherwise according to the rules connected to shopping of the enterprising 's own shares \", \"The share shall be acquiring according to the Provisions of NASDAQ OMX Helsinki and otherwise according to the rules related to buying of the company 's own exchange \", \"The shares shall be bought according to the Rules of NASDAQ OMX Tampere and otherwise according to the ordinance tied to purchases of the company 's own shares \"]\n"
          ]
        },
        {
          "output_type": "stream",
          "name": "stderr",
          "text": [
            "\r 64%|██████▍   | 292/453 [33:22<14:02,  5.23s/it]"
          ]
        },
        {
          "output_type": "stream",
          "name": "stdout",
          "text": [
            "Augmentations:\n",
            "[\"The pretax perks of the group 's life insurance entrepreneurial increasing to EUR36m from EUR27m \", \"The pretax profit of the clusters 's life insurance corporation expansion to EUR36m from EUR27m \", \"The pretax profit of the group 's vie insurance enterprise soared to EUR36m from EUR27m \", \"The pretax profits of the groups 's life insurance business intensified to EUR36m from EUR27m \", \"The pretax winnings of the group 's perpetuity insurance business climbed to EUR36m from EUR27m \"]\n"
          ]
        },
        {
          "output_type": "stream",
          "name": "stderr",
          "text": [
            "\r 65%|██████▍   | 293/453 [33:23<10:33,  3.96s/it]"
          ]
        },
        {
          "output_type": "stream",
          "name": "stdout",
          "text": [
            "Augmentations:\n",
            "['De agreement strengthens our long-term teamed with Nokia Siemens Networks ', 'The arrangements strengthens our long-term collaborating with Nokia Siemens Networks ', 'The arrangements strengthens our long-term worked with Nokia Siemens Networks ', 'The contracted strengthens our long-term cooperating with Nokia Siemens Networks ', 'The contracts strengthens our long-term conjunction with Nokia Siemens Networks ']\n"
          ]
        },
        {
          "output_type": "stream",
          "name": "stderr",
          "text": [
            "\r 65%|██████▍   | 294/453 [33:48<27:20, 10.32s/it]"
          ]
        },
        {
          "output_type": "stream",
          "name": "stdout",
          "text": [
            "Augmentations:\n",
            "[\"Across virtue with the terms and conditions of Alma Media 's 2006 electing planning , the exchanging subscription tariffs for the 2006A selection rights was EUR 4.88 per exchanged and the book countervalue EUR 0.60 per share \", \"Among accordance with the terminology and conditions of Alma Media 's 2006 option planning , the share subscribe tolling for the 2006A option rights was EUR 4.88 per common and the livre countervalue EUR 0.60 per exchanging \", \"Around accordance with the terms and conditions of Alma Median 's 2006 option pog , the share subscribe price for the 2006A option rights was EUROS 4.88 per share and the books countervalue EUR 0.60 per exchanging \", \"Between accordance with the terms and conditions of Alma Media 's 2006 pick programs , the share subscription priced for the 2006A alternating rights was EUR 4.88 per shares and the books countervalue EUR 0.60 per share \", \"During accordance with the terms and conditions of Soul Mediums 's 2006 opting programs , the share subscription price for the 2006A substitute rights was EUROS 4.88 per share and the book countervalue EUR 0.60 per exchanges \"]\n"
          ]
        },
        {
          "output_type": "stream",
          "name": "stderr",
          "text": [
            "\r 65%|██████▌   | 295/453 [33:52<22:27,  8.53s/it]"
          ]
        },
        {
          "output_type": "stream",
          "name": "stdout",
          "text": [
            "Augmentations:\n",
            "[\"`` We are glad with the efforts of both negotiations teams and look forward to a fruitful four annum ahead . '\", \"`` We are glad with the endeavour of both negotiating teams and look forward to a productive fours years futures . '\", \"`` We are hailing with the effort of both haggle teams and look forward to a production four years ahead . '\", \"`` We are pleased with the efforts of both negotiates teams and peek forward to a production four years forthcoming . '\", \"`` We are pleased with the endeavour of both negotiating teams and look forward to a productive four olds imminent . '\"]\n"
          ]
        },
        {
          "output_type": "stream",
          "name": "stderr",
          "text": [
            "\r 65%|██████▌   | 296/453 [33:54<17:19,  6.62s/it]"
          ]
        },
        {
          "output_type": "stream",
          "name": "stdout",
          "text": [
            "Augmentations:\n",
            "['Functioning result comprised non-recurring items evokes to EUR 146mn from a loss of EUR 267mn in 2009 ', 'Operate result containing non-recurring matters growth to EUR 146mn from a loss of EUR 267mn in 2009 ', 'Operate result include non-recurring items rising to EUR 146mn from a losses of EUR 267mn in 2009 ', 'Operating outcome therein non-recurring topics risen to EUR 146mn from a loss of EUR 267mn in 2009 ', 'Operational outcome containing non-recurring items soar to EUR 146mn from a loss of EUR 267mn in 2009 ']\n"
          ]
        },
        {
          "output_type": "stream",
          "name": "stderr",
          "text": [
            "\r 66%|██████▌   | 297/453 [34:05<20:12,  7.77s/it]"
          ]
        },
        {
          "output_type": "stream",
          "name": "stdout",
          "text": [
            "Augmentations:\n",
            "['Di these interchange 14,747,084 are held by the Company and the numero of awesome shares and suffrage rights attached to the shares amounts so to 161,256,847 ', 'Of these exchange 14,747,084 are held by the Undertakings and the number of grand shares and suffrage rights herewith to the shares amounts then to 161,256,847 ', 'Of these exchanged 14,747,084 are hold by the Enterprises and the number of grand shares and voting rights attached to the shares monetary where to 161,256,847 ', 'Of these exchanging 14,747,084 are held by the Companies and the number of wonderful share and voting rights attached to the interchange amounts thereby to 161,256,847 ', 'Of these shares 14,747,084 are held by the Venture and the number of prodigious shares and polling rights annexed to the shares amounts therefore to 161,256,847 ']\n"
          ]
        },
        {
          "output_type": "stream",
          "name": "stderr",
          "text": [
            "\r 66%|██████▌   | 298/453 [34:12<19:43,  7.63s/it]"
          ]
        },
        {
          "output_type": "stream",
          "name": "stdout",
          "text": [
            "Augmentations:\n",
            "[\"Exel 's board of director will proposes a dividend of 0.2 euro $ 0.3 for share for 2006 at the annual overall meetings on September 19 , 2007 \", \"Exel 's board of directors will proposing a dividend of 0.2 eur $ 0.3 para exchange for 2006 at the everyyear overall meeting on April 19 , 2007 \", \"Exel 's board of headmaster will propositions a dividend of 0.2 euro $ 0.3 by commons for 2006 at the annual geral meetings on April 19 , 2007 \", \"Exel 's board of superintendent will suggestions a dividend of 0.2 euro $ 0.3 per shares for 2006 at the everyyear holistic gatherings on April 19 , 2007 \", \"Exel 's commission of managers will recommends a dividend of 0.2 euro $ 0.3 by exchange for 2006 at the annually general meeting on April 19 , 2007 \"]\n"
          ]
        },
        {
          "output_type": "stream",
          "name": "stderr",
          "text": [
            "\r 66%|██████▌   | 299/453 [34:44<37:48, 14.73s/it]"
          ]
        },
        {
          "output_type": "stream",
          "name": "stdout",
          "text": [
            "Augmentations:\n",
            "['Finnish IT solution middleman Affecto Oyj HEL : AFE1V indicate sunday its slipped to a net loss of EUR 115,000 USD 152,000 in the second quarter of 2010 from a benefit of EUR 845,000 in the corresponding timetable a annually earlier ', 'Finnish IT solutions trader Affecto Oyj HEL : AFE1V indicated hoy its minimize to a net loss of EUR 115,000 USD 152,000 in the second quarter of 2010 from a winnings of EUR 845,000 in the corresponding calendar a year precedent ', 'Finnish IT solutions traders Affecto Oyj HEL : AFE1V testified sundays its slumped to a net loss of EURO 115,000 USD 152,000 in the ii quarter of 2010 from a advantages of EUR 845,000 in the corresponding duration a year before ', 'Finnish IT solutions vendors Affecto Oyj HEL : AFE1V said today its tripped to a wisp loss of EUR 115,000 USD 152,000 in the sec quarter of 2010 from a climbing of EUROS 845,000 in the corresponding period a yearly earlier ', 'Helsinki IT solutions retailer Affecto Oyj HEL : AFE1V stated tuesday its bounced to a wisp losses of EUR 115,000 USD 152,000 in the second quarter of 2010 from a receipts of EUR 845,000 in the corresponding period a year earlier ']\n"
          ]
        },
        {
          "output_type": "stream",
          "name": "stderr",
          "text": [
            "\r 66%|██████▌   | 300/453 [34:50<31:10, 12.22s/it]"
          ]
        },
        {
          "output_type": "stream",
          "name": "stdout",
          "text": [
            "Augmentations:\n",
            "['The decision poses the underutilisation of the iine , which merchandise nonwovens utilize in medical and wipes applications as pleasant as for the automotive industry ', 'The decision reflects the underutilisation of the bloodline , which produces nonwovens utilizes in medical and wipes demand as well as for the vehicle industries ', 'The decision reflects the underutilisation of the line , which generate nonwovens used in drugs and wipes apps as okay as for the autos industry ', 'The decision reflects the underutilisation of the line , which generated nonwovens used in medically and stabs petition as well as for the automotive industry ', 'The decision reflects the underutilisation of the line , which products nonwovens used in medicine and wiping urge as bah as for the automotive industry ']\n"
          ]
        },
        {
          "output_type": "stream",
          "name": "stderr",
          "text": [
            "\r 66%|██████▋   | 301/453 [34:51<22:47,  9.00s/it]"
          ]
        },
        {
          "output_type": "stream",
          "name": "stdout",
          "text": [
            "Augmentations:\n",
            "['The product advice does not apply to any other Nokia-branded stack , the company said ', 'The product advisory does not apply to any other Nokia-branded batteries , the corporations asserted ', 'The product councillors does not apply to any other Nokia-branded batteries , the company advertise ', 'The product counsellors does not apply to any other Nokia-branded piles , the company said ', 'The products councillors does not apply to any other Nokia-branded battery , the entrepreneur said ']\n"
          ]
        },
        {
          "output_type": "stream",
          "name": "stderr",
          "text": [
            "\r 67%|██████▋   | 302/453 [34:54<17:38,  7.01s/it]"
          ]
        },
        {
          "output_type": "stream",
          "name": "stdout",
          "text": [
            "Augmentations:\n",
            "[\"En Finns 's Hobby Hall 's salts shrunk by 10 % , and international sales fell by 19 % \", \"In Finland 's Hobbies Hall 's sell reduced by 10 % , and international salts fell by 19 % \", \"In Finland 's Hobby Hall 's sales reducing by 10 % , and international sales shrunk by 19 % \", \"In Finland 's Hobby Hall 's sales tumbled by 10 % , and world selling plummeted by 19 % \", \"In Finland 's Pastime Hall 's sales shrank by 10 % , and international sale slid by 19 % \"]\n"
          ]
        },
        {
          "output_type": "stream",
          "name": "stderr",
          "text": [
            "\r 67%|██████▋   | 303/453 [35:00<16:46,  6.71s/it]"
          ]
        },
        {
          "output_type": "stream",
          "name": "stdout",
          "text": [
            "Augmentations:\n",
            "['Oka specialised in new construction , renovation jobs of homes and non-residential building as well as premises for industrial and logistic employs ', 'Oka specialises in new constructions , renovations work of residential and non-residential edifice as bah as premises for industrial and logistical use ', 'Oka specialises in nuevo edifice , rehabilitated work of household and non-residential building as well as premises for industrial and logistical using ', 'Oka specializes in new constructed , renovation conjunction of residential and non-residential constructions as well as premises for industrial and logistical use ', 'Oka specializes in new construction , renovation work of refuge and non-residential building as well as premises for industrial and logistics consumes ']\n"
          ]
        },
        {
          "output_type": "stream",
          "name": "stderr",
          "text": [
            "\r 67%|██████▋   | 304/453 [35:02<13:10,  5.31s/it]"
          ]
        },
        {
          "output_type": "stream",
          "name": "stdout",
          "text": [
            "Augmentations:\n",
            "['Olli-Pekka Fleece has been appoints as the Chairman and Erkki Pehu-Lehtonen as the Vice Chairperson of the Councils ', 'Olli-Pekka Laine has been appointing as the Chairwoman and Erkki Pehu-Lehtonen as the Vice Presidency of the Board ', 'Olli-Pekka Laine has been nominate as the Chairmanship and Erkki Pehu-Lehtonen as the Vice Wheelchairs of the Boards ', 'Olli-Pekka Lana has been appointed as the Presidents and Erkki Pehu-Lehtonen as the Salacious Presidential of the Board ', 'Olli-Pekka Wool has been nominating as the Chairs and Erkki Pehu-Lehtonen as the Vice Presiding of the Board ']\n"
          ]
        },
        {
          "output_type": "stream",
          "name": "stderr",
          "text": [
            "\r 67%|██████▋   | 305/453 [35:06<12:24,  5.03s/it]"
          ]
        },
        {
          "output_type": "stream",
          "name": "stdout",
          "text": [
            "Augmentations:\n",
            "['The business to be divested generates consolidated netting sales of EUR 60 billion annum and today has some 640 employees ', 'The business to be divested produces consolidation detentions sell of EUR 60 million annually and currently has some 640 employees ', 'The undertakings to be divested generates consolidated netted sales of EUR 60 thousandth annually and currently has some 640 staff ', 'The ventures to be divested breeds consolidated net sells of EUR 60 million annually and currently has some 640 staffs ', 'The ventures to be divested engenders consolidated net sales of EUR 60 millionth annually and currently has some 640 employee ']\n"
          ]
        },
        {
          "output_type": "stream",
          "name": "stderr",
          "text": [
            "\r 68%|██████▊   | 306/453 [35:10<11:33,  4.72s/it]"
          ]
        },
        {
          "output_type": "stream",
          "name": "stdout",
          "text": [
            "Augmentations:\n",
            "['Alfa cluster will have 43.9 % of voted stock in the nouveau societal and Telenor 35.4 % with a free float of 20.7 % ', 'Alfa group will have 43.9 % of vote stockpiles in the new company and Telenor 35.4 % with a liberty flotation of 20.7 % ', 'Alfa grouped will have 43.9 % of votes stock in the new societies and Telenor 35.4 % with a extricate buoyancy of 20.7 % ', 'Alfa grouping will have 43.9 % of voting directories in the nouvelle business and Telenor 35.4 % with a free float of 20.7 % ', 'Alfa panel will have 43.9 % of ballots inventories in the newer societal and Telenor 35.4 % with a free float of 20.7 % ']\n"
          ]
        },
        {
          "output_type": "stream",
          "name": "stderr",
          "text": [
            "\r 68%|██████▊   | 307/453 [35:15<11:51,  4.87s/it]"
          ]
        },
        {
          "output_type": "stream",
          "name": "stdout",
          "text": [
            "Augmentations:\n",
            "['According to Seikku , the retail sector in Finland is controlled by 3-4 enormous actors , while food manufacturers are still rather small ', 'According to Seikku , the retail sector in Finland is controlled by 3-4 monumental actors , while nutritious setters are nonetheless comparatively small ', 'According to Seikku , the retail sector in Finland is controlled by 3-4 redoubtable players , while feeding manufacturer are still relatively klein ', 'According to Seikku , the retail sectors in Finland is controlled by 3-4 principal actors , while foraging manufacturers are nonetheless relatively small ', 'According to Seikku , the retailers sectors in Finland is controlled by 3-4 vast actors , while malnutrition manufacturers are still relatively littlest ']\n"
          ]
        },
        {
          "output_type": "stream",
          "name": "stderr",
          "text": [
            "\r 68%|██████▊   | 308/453 [35:20<11:26,  4.73s/it]"
          ]
        },
        {
          "output_type": "stream",
          "name": "stdout",
          "text": [
            "Augmentations:\n",
            "['Pretax benefit totalled EURO 2.0 min , compares to a loosing of EUR 159.2 mn in the fourth quarter of 2008 ', 'Pretax earnings totalled EUR 2.0 minute , compare to a loss of EUROS 159.2 minutes in the fourth quarter of 2008 ', 'Pretax gains obtain EURO 2.0 minnesota , likened to a loss of EUR 159.2 mn in the fourth quarter of 2008 ', 'Pretax incomes reached EUR 2.0 mn , comparative to a loss of EUROS 159.2 min in the fourth quarter of 2008 ', 'Pretax triomphe aggregate EUROS 2.0 mn , compares to a loss of EUR 159.2 mn in the fourth quarter of 2008 ']\n"
          ]
        },
        {
          "output_type": "stream",
          "name": "stderr",
          "text": [
            "\r 68%|██████▊   | 309/453 [35:23<10:24,  4.34s/it]"
          ]
        },
        {
          "output_type": "stream",
          "name": "stdout",
          "text": [
            "Augmentations:\n",
            "[\"Tekla Clustered 's net sales for 2006 were approximately 50 miilion euros and operational outcomes 13.6 million euros \", \"Tekla Clusters 's wisp sales for 2006 were foreseeable 50 miilion euros and operating result 13.6 million euros \", \"Tekla Group 's net sales for 2006 were approximately 50 trillion euros and operating result 13.6 millions euro \", \"Tekla Grouped 's net salts for 2006 were approximately 50 trillion euros and operating result 13.6 miilion euros \", \"Tekla Groups 's net sales for 2006 were approximately 50 billion euros and operating results 13.6 mln euros \"]\n"
          ]
        },
        {
          "output_type": "stream",
          "name": "stderr",
          "text": [
            "\r 68%|██████▊   | 310/453 [35:53<28:25, 11.93s/it]"
          ]
        },
        {
          "output_type": "stream",
          "name": "stdout",
          "text": [
            "Augmentations:\n",
            "['( ADP News ) - Neo 29 , 2008 - Finnish lifter equipment maker Konecranes Oyj ( OMX : KCR1V ) highlights today that its net profit grew to EUR 116.6 millionth ( DOLLARS 149.1 m ) in the initiation nine mois of 2008 from EUR 73.6 millionth for the ', '( ADP News ) - Oct 29 , 2008 - Finnish lifting equipments maker Konecranes Oyj ( OMX : KCR1V ) said tonight that its net earnings rose to EUR 116.6 trillions ( DOLLARS 149.1 m ) in the fiirst nine month of 2008 from EUR 73.6 million for the ', '( ADP News ) - Oct 29 , 2008 - Finnish lifting instrument producer Konecranes Oyj ( OMX : KCR1V ) told wednesday that its wisp revenues raise to EUR 116.6 million ( USD 149.1 m ) in the firstly nine mois of 2008 from EUR 73.6 million for the ', '( ADP News ) - Ptu 29 , 2008 - Finn escalators appliances maker Konecranes Oyj ( OMX : KCR1V ) avowed today that its net benefit rise to EUR 116.6 millions ( USD 149.1 m ) in the primo nine months of 2008 from EUR 73.6 million for the ', '( ADP News ) - Ptu 29 , 2008 - Finnish canceled machinery maker Konecranes Oyj ( OMX : KCR1V ) say today that its net earn amplified to EUR 116.6 millions ( USD 149.1 m ) in the first nine monthly of 2008 from EUR 73.6 millionth for the ']\n"
          ]
        },
        {
          "output_type": "stream",
          "name": "stderr",
          "text": [
            "\r 69%|██████▊   | 311/453 [35:56<21:52,  9.24s/it]"
          ]
        },
        {
          "output_type": "stream",
          "name": "stdout",
          "text": [
            "Augmentations:\n",
            "['The new B shared carries the right to dividend and other shareholder rights with upshot from today ', 'The new B shares bears the right to dividends and other shareholder rights with affecting from thursday ', 'The new B swaps xiong the rights to dividend and other shareholder rights with effect from presently ', 'The newest B shares portage the right to dividends and other shareholder rights with influences from today ', 'The novel B sharing carry the right to dividend and other shareholder rights with implications from presently ']\n"
          ]
        },
        {
          "output_type": "stream",
          "name": "stderr",
          "text": [
            "\r 69%|██████▉   | 312/453 [36:01<18:30,  7.88s/it]"
          ]
        },
        {
          "output_type": "stream",
          "name": "stdout",
          "text": [
            "Augmentations:\n",
            "['Rohwedder Group is an automotive supplies , telecommunications and electronic industry givers for shoppers in Europe , Upstate America and Asia ', 'Rohwedder Group is an cars supplies , telecommunications and electronics industry suppliers for customers in Europe , Upstate Usa and Asia ', 'Rohwedder Grouped is an automotive supplies , communicates and electronics industria provider for customers in Europe , Norden America and Asia ', 'Rohwedder Groupings is an motors supplies , communications and electronics industry sellers for customers in Europe , North America and Asia ', 'Rohwedder Panels is an automotive supplies , relationships and electronics industry salesperson for customers in Europe , Northern America and Asia ']\n"
          ]
        },
        {
          "output_type": "stream",
          "name": "stderr",
          "text": [
            "\r 69%|██████▉   | 313/453 [36:07<17:42,  7.59s/it]"
          ]
        },
        {
          "output_type": "stream",
          "name": "stdout",
          "text": [
            "Augmentations:\n",
            "['Finnish automation solutions developer Cencorp Businesses ( OMX Helsinki : CNC1V ) issued on Mondays ( 18 Juli ) a incomes disclaimer for the third quarter of 2008 ', 'Finnish automation solutions developer Cencorp Corporation ( OMX Helsinki : CNC1V ) issued on Today ( 18 Seven ) a gains alert for the thirds quarter of 2008 ', 'Finnish automation solutions developer Cencorp Enterprises ( OMX Helsinki : CNC1V ) distributed on Thursday ( 18 Sept ) a profits cautioned for the third quarter of 2008 ', 'Finnish automation solutions promoter Cencorp Corporation ( OMX Finnish : CNC1V ) dispensed on Thursday ( 18 September ) a profits alarm for the third quarter of 2008 ', 'Finnish computerized solutions developer Cencorp Corporation ( OMX Stockholm : CNC1V ) issued on Tonight ( 18 Nov ) a interests warning for the third quarter of 2008 ']\n"
          ]
        },
        {
          "output_type": "stream",
          "name": "stderr",
          "text": [
            "\r 69%|██████▉   | 314/453 [36:24<23:57, 10.34s/it]"
          ]
        },
        {
          "output_type": "stream",
          "name": "stdout",
          "text": [
            "Augmentations:\n",
            "['En the Baltic states the businesses reports netted salts of EUR 11.9 manganese , down from EUR 14.2 mn , and an operative EBIT of EUR -2.2 manganese , down from EURO -1.7 mn ', 'On the Baltic states the firms reports net sold of EUR 11.9 mn , down from EUR 14.2 mn , and an exploitation EBIT of EUR -2.2 mn , down from EURO -1.7 manganese ', 'Onto the Baltic states the enterprises report filet sales of EUR 11.9 mn , down from EUR 14.2 manganese , and an operate EBIT of EUR -2.2 mn , down from EURO -1.7 mn ', 'Regarding the Baltic states the corporate reports nabbed sold of EUR 11.9 mn , down from EUR 14.2 manganese , and an operative EBIT of EUROS -2.2 mn , down from EUR -1.7 manganese ', 'Throughout the Baltic states the venture reports net sales of EUR 11.9 mn , down from EUR 14.2 minneapolis , and an function EBIT of EUR -2.2 minnesota , down from EUROS -1.7 minnesota ']\n"
          ]
        },
        {
          "output_type": "stream",
          "name": "stderr",
          "text": [
            "\r 70%|██████▉   | 315/453 [36:53<36:42, 15.96s/it]"
          ]
        },
        {
          "output_type": "stream",
          "name": "stdout",
          "text": [
            "Augmentations:\n",
            "[\"Teleste 's hybrid TV corrects implicates component for the whole processed of deliver video services to consumers from pleased purchasing and service establishment to delivery through a range of access solutions , including HFC ( hybrid fibre-coaxial ) , xDSL , EttH , and FttH \", \"Teleste 's hybrid TV liquidate contains components for the entirety procedures of delivering video services to consumers from content acquisition and services creation to delivery through a assortment of accessed solutions , consisted HFC ( hybrid fibre-coaxial ) , xDSL , EttH , and FttH \", \"Teleste 's hybrid TV resolved implicates ingredient for the whole procedure of delivering video services to shoppers from content procure and service forming to delivery through a range of accessing solutions , including HFC ( hybrid fibre-coaxial ) , xDSL , EttH , and FttH \", \"Teleste 's hybrid TV solution includes components for the totals process of offerings filmed services to users from glad acquisition and service establishing to delivery through a range of accessing solutions , including HFC ( hybrids fibre-coaxial ) , xDSL , EttH , and FttH \", \"Teleste 's hybrids TV solution includes components for the general process of offered video service to consumers from content procurement and service create to delivery through a ranging of access solutions , comprises HFC ( hybrid fibre-coaxial ) , xDSL , EttH , and FttH \"]\n"
          ]
        },
        {
          "output_type": "stream",
          "name": "stderr",
          "text": [
            "\r 70%|██████▉   | 316/453 [36:56<27:08, 11.88s/it]"
          ]
        },
        {
          "output_type": "stream",
          "name": "stdout",
          "text": [
            "Augmentations:\n",
            "['Cette releases is not an gives of securities for sale into the United States or elsewhere ', 'This emancipate is not an supplying of securities for sale into the Unified States or otherwise ', 'This freed is not an offer of securities for resell into the United States or elsewhere ', 'This freed is not an offer of securities for sales into the United States or elsewhere ', 'This release is not an delivering of securities for sell into the Unified States or elsewhere ']\n"
          ]
        },
        {
          "output_type": "stream",
          "name": "stderr",
          "text": [
            "\r 70%|██████▉   | 317/453 [36:56<19:13,  8.48s/it]"
          ]
        },
        {
          "output_type": "stream",
          "name": "stdout",
          "text": [
            "Augmentations:\n",
            "['Pertti Ervi is freelance from the Venture and its significant shareholders ', 'Pertti Ervi is independent from the Business and its gigantic shareholders ', 'Pertti Ervi is independent from the Company and its mammoth shareholders ', 'Pertti Ervi is independent from the Undertakings and its grande shareholder ', 'Pertti Ervi is independents from the Company and its monumental stockholder ']\n"
          ]
        },
        {
          "output_type": "stream",
          "name": "stderr",
          "text": [
            "\r 70%|███████   | 318/453 [36:57<13:48,  6.14s/it]"
          ]
        },
        {
          "output_type": "stream",
          "name": "stdout",
          "text": [
            "Augmentations:\n",
            "['Following the move , Stora Enso arranging in NewPage will remain constant ', 'Following the move , Stora Enso holding in NewPage will continuing immutable ', 'Following the move , Stora Enso holding in NewPage will retaining unchanged ', 'Following the shift , Stora Enso holding in NewPage will remain unchangeable ', 'Following the wiggle , Stora Enso organize in NewPage will stays unchanged ']\n"
          ]
        },
        {
          "output_type": "stream",
          "name": "stderr",
          "text": [
            "\r 70%|███████   | 319/453 [37:02<13:15,  5.93s/it]"
          ]
        },
        {
          "output_type": "stream",
          "name": "stdout",
          "text": [
            "Augmentations:\n",
            "['De 2500-passenger ferry will have dimensional of 185 m length holistic , 170 m lifespan between perpendiculars , 27.70 m amplitude and 6.55 m styled draught ', 'De 2500-passenger ferry will have dimensions of 185 m length total , 170 m length between perpendiculars , 27.70 m width and 6.55 m envision draught ', 'Du 2500-passenger ferry will have dimensions of 185 m duration ensemble , 170 m length between perpendiculars , 27.70 m magnitude and 6.55 m devise draught ', 'Of 2500-passenger ferry will have dimensions of 185 m length comprehensive , 170 m duration between perpendiculars , 27.70 m breadth and 6.55 m conceived draught ', 'Per 2500-passenger ferry will have dimensions of 185 m lengths total , 170 m lifetime between perpendiculars , 27.70 m breadth and 6.55 m designed draught ']\n"
          ]
        },
        {
          "output_type": "stream",
          "name": "stderr",
          "text": [
            "\r 71%|███████   | 320/453 [37:09<13:48,  6.23s/it]"
          ]
        },
        {
          "output_type": "stream",
          "name": "stdout",
          "text": [
            "Augmentations:\n",
            "[\"Outotec 's scope of delivering understands the engineering , supply of special utensil and services for a calcination factories with two impart fluid bed calciners \", \"Outotec 's scope of delivery covers the engineering , supply of specially equipment and services for a calcination vegetation with two propagate lubricating sleeper calciners \", \"Outotec 's scope of delivery understands the engineering , supply of specializing machines and services for a calcination installing with two circulating fluid bedside calciners \", \"Outotec 's scope of delivery which the engineering , supply of peculiar devices and services for a calcination factories with two circulating watery bed calciners \", \"Outotec 's scope of prescribes covers the jinn , supply of marvellous machine and services for a calcination plant with two distributed fluid bed calciners \"]\n"
          ]
        },
        {
          "output_type": "stream",
          "name": "stderr",
          "text": [
            "\r 71%|███████   | 321/453 [37:23<18:30,  8.41s/it]"
          ]
        },
        {
          "output_type": "stream",
          "name": "stdout",
          "text": [
            "Augmentations:\n",
            "[\"Apparel retail chain Seep+ñl+ñ 's salts rose by 8 % to EUR 155.2 mn , and operative profit rose to EUR 31.1 mn from EUROS 17.1 minnesota in 2004 \", \"Clothe retail chain Sepp+ñl+ñ 's sales higher by 8 % to EUR 155.2 min , and operation revenue upswing to EURO 31.1 mn from EUR 17.1 mn in 2004 \", \"Clothing retail chaining Sepp+ñl+ñ 's sell enlargement by 8 % to EUR 155.2 mn , and operations earns leapt to EUR 31.1 minnesota from EUR 17.1 mn in 2004 \", \"Clothing retail chains Seep+ñl+ñ 's selling cultivated by 8 % to EUROS 155.2 mn , and operating profit climbed to EUR 31.1 mn from EUR 17.1 mn in 2004 \", \"Frock retail chain Sepp+ñl+ó 's sales growth by 8 % to EUROS 155.2 mn , and operated benefit gains to EUR 31.1 mn from EUR 17.1 mn in 2004 \"]\n"
          ]
        },
        {
          "output_type": "stream",
          "name": "stderr",
          "text": [
            "\r 71%|███████   | 322/453 [37:25<14:13,  6.52s/it]"
          ]
        },
        {
          "output_type": "stream",
          "name": "stdout",
          "text": [
            "Augmentations:\n",
            "['It is a lawmakers of the OneWorld alliance , which encompasses Usa Airlines and British Airways ', 'It is a member of the OneWorld alliance , which comprises American Airways and British Aeronautics ', 'It is a member of the OneWorld alliance , which entails American Airlines and Britons Midair ', 'It is a member of the OneWorld alliance , which includes Americano Airways and England Airways ', 'It is a member of the OneWorld alliance , which therein American Aviation and British Jet ']\n"
          ]
        },
        {
          "output_type": "stream",
          "name": "stderr",
          "text": [
            "\r 71%|███████▏  | 323/453 [37:31<14:06,  6.51s/it]"
          ]
        },
        {
          "output_type": "stream",
          "name": "stdout",
          "text": [
            "Augmentations:\n",
            "['Advantages at share for the quarter were alternately higher year-on-year at 0.33 eur versus 0.27 , and above marketed prognosis of 0.28 eur ', 'Income per share for the quarter were similarly superior year-on-year at 0.33 eur versus 0.27 , and above traded expectations of 0.28 eur ', 'Receipts per shared for the quarter were also more year-on-year at 0.33 eur versus 0.27 , and above contract outlook of 0.28 eur ', 'Revenues for interchange for the quarter were independently higher year-on-year at 0.33 eur versus 0.27 , and above commerce expectations of 0.28 eur ', 'Revenues per share for the quarter were elsewhere larger year-on-year at 0.33 eur compared 0.27 , and above market projections of 0.28 eur ']\n"
          ]
        },
        {
          "output_type": "stream",
          "name": "stderr",
          "text": [
            "\r 72%|███████▏  | 324/453 [37:47<20:05,  9.35s/it]"
          ]
        },
        {
          "output_type": "stream",
          "name": "stdout",
          "text": [
            "Augmentations:\n",
            "['Dangers exposure by Non-life Insurance  Moving 12-month  Tolls by functionality in Non-life Insurance excluding spends for investment admin and expenditures for other services rendered Non-life Insurance investment portfolio by allocatio', 'Risk exhibits by Non-life Insurance  Moving 12-month  Indict by operative in Non-life Insurance excluding expense for investment admin and expenses for other services rendered Non-life Insurance investing portfolio by allocatio', 'Risk presentations by Non-life Insurance  Displacement 12-month  Costing by function in Non-life Insurance excluding expenses for investment administered and spending for other services confer Non-life Insurance investment portfolio by allocatio', 'Risks exposure by Non-life Insurance  Relocating 12-month  Burdening by function in Non-life Insurance excluding outlay for investment bureaucratic and charging for other services rendered Non-life Insurance investment portfolio by allocatio', 'Threat exposure by Non-life Insurance  Moving 12-month  Charging by function in Non-life Insurance exclusion cost for investment management and burdened for other services rendered Non-life Insurance investment portfolio by allocatio']\n"
          ]
        },
        {
          "output_type": "stream",
          "name": "stderr",
          "text": [
            "\r 72%|███████▏  | 325/453 [37:58<20:32,  9.63s/it]"
          ]
        },
        {
          "output_type": "stream",
          "name": "stdout",
          "text": [
            "Augmentations:\n",
            "['Seven-month sales of Ragutis , which is controlled by the Finnish brewing Olvi , fallen by 11.2 percentage , to 15.41 miilion quarts , and the societies held 9.89 percent of the marketed ', 'Seven-month sales of Ragutis , which is supervisor by the Finnish brewery Olvi , subsided by 11.2 percent , to 15.41 million litres , and the companies obligated 9.89 percent of the market ', 'Seven-month sales of Ragutis , which is supervisory by the Finnish malt Olvi , dips by 11.2 percent , to 15.41 billion liters , and the corporations hold 9.89 percent of the traded ', 'Seven-month sales of Ragutis , which is verifying by the Finnish brewery Olvi , descending by 11.2 percent , to 15.41 millionth quart , and the companies holds 9.89 percent of the market ', 'Seven-month salts of Ragutis , which is controls by the Finns brewery Olvi , dunked by 11.2 percent , to 15.41 million litre , and the company need 9.89 percent of the marketed ']\n"
          ]
        },
        {
          "output_type": "stream",
          "name": "stderr",
          "text": [
            "\r 72%|███████▏  | 326/453 [38:36<38:43, 18.30s/it]"
          ]
        },
        {
          "output_type": "stream",
          "name": "stdout",
          "text": [
            "Augmentations:\n",
            "[\"Nova cosmos 's second big stainless steel producers said net profit in the three-month period until Dec. 31 surged to euro603 million US$ 781 billion , or euro3 .33 USA$ 4.31 per share , from euro172 zillion , or euro0 .94 per share , the bygone leto \", \"The monde 's second most stainless steel producer said net earn in the three-month schedules until Dec. 31 bumped to euro603 million US$ 781 million , or euro3 .33 US$ 4.31 per share , from euro172 million , or euro0 .94 per interchange , the previous year \", \"The world 's second largest stainless steel maker affirmed net earns in the three-month period until Ced. 31 surged to euro603 billions US$ 781 miilion , or euro3 .33 US$ 4.31 paras shares , from euro172 billions , or euro0 .94 paras share , the previous year \", \"The world 's second supreme stainless steel maker said net won in the three-month period until Dec. 31 reinforcement to euro603 million US$ 781 miilion , or euro3 .33 NOUS$ 4.31 per exchanged , from euro172 trillion , or euro0 .94 at share , the past year \", \"The world 's secs strictest stainless steel maker said tenderloin benefits in the three-month scheduling until Dec. 31 increase to euro603 million US$ 781 trillions , or euro3 .33 US$ 4.31 per share , from euro172 million , or euro0 .94 per exchanges , the bygone year \"]\n"
          ]
        },
        {
          "output_type": "stream",
          "name": "stderr",
          "text": [
            "\r 72%|███████▏  | 327/453 [38:40<29:11, 13.90s/it]"
          ]
        },
        {
          "output_type": "stream",
          "name": "stdout",
          "text": [
            "Augmentations:\n",
            "['Sponda is a property invested company , specialising in commercial possessions in the greater cities in Finland and Russia ', 'Sponda is a property investment companies , specialty in commercial properties in the largest city in Finland and Russia ', 'Sponda is a property investment company , speciality in mercantile assets in the fatter cities in Finland and Russia ', 'Sponda is a property investment corporations , specialising in mercantile properties in the tighter urban in Finland and Russia ', 'Sponda is a property investment enterprises , specialities in commercial assets in the higher cities in Finland and Russia ']\n"
          ]
        },
        {
          "output_type": "stream",
          "name": "stderr",
          "text": [
            "\r 72%|███████▏  | 328/453 [38:43<22:01, 10.57s/it]"
          ]
        },
        {
          "output_type": "stream",
          "name": "stdout",
          "text": [
            "Augmentations:\n",
            "['Exploitation takings counted EUR 0.4 mn , up from an operate loss of EUR 0.8 mn year-on-year ', 'Functions gaining attained EUR 0.4 mn , up from an operating loss of EUR 0.8 mn year-on-year ', 'Operation earn totalled EURO 0.4 mn , up from an operating loss of EUROS 0.8 mn year-on-year ', 'Operational dividend totalled EUR 0.4 mn , up from an operating losses of EUR 0.8 mn year-on-year ', 'Operative dividend totalled EUR 0.4 mn , up from an roles loss of EUR 0.8 min year-on-year ']\n"
          ]
        },
        {
          "output_type": "stream",
          "name": "stderr",
          "text": [
            "\r 73%|███████▎  | 329/453 [38:45<16:33,  8.01s/it]"
          ]
        },
        {
          "output_type": "stream",
          "name": "stdout",
          "text": [
            "Augmentations:\n",
            "['Lemmink+ñinen commenced the manufacture of roofing sensed in 1920 and the production of asphalt in the 1930s ', 'Lemmink+ñinen embarked the manufacturing of roofing felt in 1920 and the create of footpath in the 1930s ', 'Lemmink+ñinen induction the fabrication of roofing smelled in 1920 and the productive of asphalt in the 1930s ', 'Lemmink+ñinen initiating the manufactures of roofing considered in 1920 and the production of asphalt in the 1930s ', 'Lemmink+ñinen starts the manufacturing of roofing felt in 1920 and the production of asphalt in the 1930s ']\n"
          ]
        },
        {
          "output_type": "stream",
          "name": "stderr",
          "text": [
            "\r 73%|███████▎  | 330/453 [38:46<12:07,  5.91s/it]"
          ]
        },
        {
          "output_type": "stream",
          "name": "stdout",
          "text": [
            "Augmentations:\n",
            "['Operated profit was EUR -0.1 mn , down from EUR 1.3 minnesota ', 'Operating advantages was EUR -0.1 min , down from EUR 1.3 mins ', 'Operating wages was EURO -0.1 min , down from EUR 1.3 mn ', 'Operation attain was EUR -0.1 mn , down from EUR 1.3 mn ', 'Operational profits was EUR -0.1 mn , down from EUR 1.3 mn ']\n"
          ]
        },
        {
          "output_type": "stream",
          "name": "stderr",
          "text": [
            "\r 73%|███████▎  | 331/453 [38:47<08:57,  4.41s/it]"
          ]
        },
        {
          "output_type": "stream",
          "name": "stdout",
          "text": [
            "Augmentations:\n",
            "['Operandi profit slash to nearly EUR 1.7 mn , however ', 'Operating profit declined to nearly EUR 1.7 minnesota , however ', 'Operating profit falling to nearly EUR 1.7 mn , nonetheless ', 'Operating revenues decreased to nearly EUR 1.7 mn , however ', 'Operating wins decreased to towards EUR 1.7 mn , however ']\n"
          ]
        },
        {
          "output_type": "stream",
          "name": "stderr",
          "text": [
            "\r 73%|███████▎  | 332/453 [38:47<06:39,  3.30s/it]"
          ]
        },
        {
          "output_type": "stream",
          "name": "stdout",
          "text": [
            "Augmentations:\n",
            "['The contract includes software authorizing , application maintenance and training ', 'The contract includes software licence , application upkeep and training ', 'The contract includes software licences , asked upkeep and training ', 'The contract includes software licences , petition maintenance and training ', 'The contract includes software licenses , application retaining and training ']\n"
          ]
        },
        {
          "output_type": "stream",
          "name": "stderr",
          "text": [
            "\r 74%|███████▎  | 333/453 [38:51<07:11,  3.59s/it]"
          ]
        },
        {
          "output_type": "stream",
          "name": "stdout",
          "text": [
            "Augmentations:\n",
            "[\"Nova manufacture of CPPs will be firms at the existing Export Oriented Unit EOU at Wartsila 's factory at Khopoli , closest Bangalore \", \"The fabrication of CPPs will be undertaken at the existing Importer Guided Unit EOU at Wartsila 's plant at Khopoli , near Mumbai \", \"The manufacture of CPPs will be undertaken at the existing Exported Geared Unit EOU at Wartsila 's facilities at Khopoli , almost Chandigarh \", \"The manufacture of CPPs will be undertook at the existent Export Oriented Unit EOU at Wartsila 's factories at Khopoli , closes Bombay \", \"The manufactured of CPPs will be undertakings at the exists Export Oriented Unit EOU at Wartsila 's factory at Khopoli , closes Madras \"]\n"
          ]
        },
        {
          "output_type": "stream",
          "name": "stderr",
          "text": [
            "\r 74%|███████▎  | 334/453 [38:54<06:32,  3.30s/it]"
          ]
        },
        {
          "output_type": "stream",
          "name": "stdout",
          "text": [
            "Augmentations:\n",
            "['Operating advantages enhanced to EUR 103.4 manganese from EUR 23.2 in the corresponding deadlines in 2006 ', 'Operating receipts boosts to EUR 103.4 manganese from EUR 23.2 in the corresponding timetable in 2006 ', 'Operational profit widened to EUR 103.4 manganese from EUR 23.2 in the corresponding timetable in 2006 ', 'Operative profit climb to EUR 103.4 mn from EUROS 23.2 in the corresponding timeline in 2006 ', 'Operative profit jumped to EUR 103.4 mn from EUR 23.2 in the corresponding timing in 2006 ']\n"
          ]
        },
        {
          "output_type": "stream",
          "name": "stderr",
          "text": [
            "\r 74%|███████▍  | 335/453 [39:49<36:40, 18.65s/it]"
          ]
        },
        {
          "output_type": "stream",
          "name": "stdout",
          "text": [
            "Augmentations:\n",
            "[\"At the applications of Finnish mediums corporations Alma Medium 's newspapers , research manager Jari Kaivo-oja at the Finland Futures Research Centre at the Turku Ecole of Economics has drawn up a inlet scenario for Finland 's national economy by utilizes a mannequins established by the Institutes of Denver \", \"At the calls of Finland average company Alma Media 's newspapers , scrutinize manager Jari Kaivo-oja at the Finland Futures Researching Centres at the Turku School of Economists has drawn up a next scenario for Finland 's nationals economy by using a model worded by the University of Denver \", \"At the enquired of Finnish media company Alma Media 's newspapers , investigates manager Jari Kaivo-oja at the Finland Upcoming Search Centre at the Turku Education of Rescuing has drawn up a futur scenario for Finland 's nationwide economy by usage a model worded by the University of Denver \", \"At the invitations of Finnish media company Alma Milieu 's journal , research administrator Jari Kaivo-oja at the Finland Futures Considering Centre at the Turku School of Economics has drawn up a future screenplay for Finland 's national economy by used a modelled elaborated by the Academies of Denver \", \"At the request of Finnish news enterprises Lifeblood Media 's newspapers , snooping manager Jari Kaivo-oja at the Finland Futures Probing Centre at the Turku Pedagogy of Economic has drawn up a impending scenario for Finland 's national economy by using a modelled developed by the Campus of Denver \"]\n"
          ]
        },
        {
          "output_type": "stream",
          "name": "stderr",
          "text": [
            "\r 74%|███████▍  | 336/453 [39:49<25:45, 13.21s/it]"
          ]
        },
        {
          "output_type": "stream",
          "name": "stdout",
          "text": [
            "Augmentations:\n",
            "['Sales of security and system bagging grew slightly ', 'Sales of security and system package surges slightly ', 'Sales of security and system packages enhanced slightly ', 'Sales of security and system packaging grew slightly ', 'Sales of warranty and system pack increased slightly ']\n"
          ]
        },
        {
          "output_type": "stream",
          "name": "stderr",
          "text": [
            "\r 74%|███████▍  | 337/453 [39:51<19:06,  9.89s/it]"
          ]
        },
        {
          "output_type": "stream",
          "name": "stdout",
          "text": [
            "Augmentations:\n",
            "['Kaupthing Bank will publicize its annual success for 2007 before contracts open on Thursday 31 January ', 'Kaupthing Bank will publicized its annual consequences for 2007 before markets open on Thu 31 Janeiro ', 'Kaupthing Bank will publish its annual upshot for 2007 before contracting inaugurated on Friday 31 January ', 'Kaupthing Banking will publications its annual finding for 2007 before markets opens on Thursday 31 January ', 'Kaupthing Banque will publishes its annual conclusions for 2007 before markets open on Thursday 31 Jan ']\n"
          ]
        },
        {
          "output_type": "stream",
          "name": "stderr",
          "text": [
            "\r 75%|███████▍  | 338/453 [39:54<14:58,  7.81s/it]"
          ]
        },
        {
          "output_type": "stream",
          "name": "stdout",
          "text": [
            "Augmentations:\n",
            "['Du energy sector accounted for practically 33 % and the stahl industry for about 57 % of the transportation amount ', 'Nova energy sector composed for approximately 33 % and the steel industry for about 57 % of the transportation volume ', 'The energy ministries accounted for roughly 33 % and the stahl industry for about 57 % of the transportation amount ', 'The energy sector aggregate for nearly 33 % and the steel industries for about 57 % of the transportation volumes ', 'The energy sector numbered for roughly 33 % and the steel industry for about 57 % of the transportation volume ']\n"
          ]
        },
        {
          "output_type": "stream",
          "name": "stderr",
          "text": [
            "\r 75%|███████▍  | 339/453 [40:02<14:39,  7.71s/it]"
          ]
        },
        {
          "output_type": "stream",
          "name": "stdout",
          "text": [
            "Augmentations:\n",
            "['Swedish , Finland and Danish listed companies are organized in three market chap segments , Norden Massive Cloaks , Mid Cap and Small Cap ', 'Swedish , Finnish and Danish listed business are organized in three commercialized chap segments , Nordic Large Cap , Mid Cap and Small Roofs ', 'Swedish , Finnish and Danish listed companies are organized in three mercado roofs segments , Nordic Unpaid Cap , Mid Cap and Klein Cap ', 'Swedish , Finnish and Danish listed undertakings are organisation in three trade caps segments , Nordic Massive Cap , Mid Cap and Small Cap ', 'Swedish , Helsinki and Danish listed companies are organized in three market cap segments , North Significant Cap , Mid Chaps and Boys Cap ']\n"
          ]
        },
        {
          "output_type": "stream",
          "name": "stderr",
          "text": [
            "\r 75%|███████▌  | 340/453 [40:04<11:43,  6.22s/it]"
          ]
        },
        {
          "output_type": "stream",
          "name": "stdout",
          "text": [
            "Augmentations:\n",
            "['`` Marimekko administering in an industry in which changes in the ventures climate are portrayed in consumer demand ', '`` Marimekko operates in an industry in which alterations in the ventures climate are manifested in consumer asks ', '`` Marimekko operates in an industry in which changes in the corporate atmospheric are reflected in consume calls ', '`` Marimekko operates in an industry in which changes in the societies atmosphere are exemplified in consumption demand ', '`` Marimekko operates in an industry in which modification in the firms climate are manifest in consumer demanded ']\n"
          ]
        },
        {
          "output_type": "stream",
          "name": "stderr",
          "text": [
            "\r 75%|███████▌  | 341/453 [40:07<09:18,  4.99s/it]"
          ]
        },
        {
          "output_type": "stream",
          "name": "stdout",
          "text": [
            "Augmentations:\n",
            "['Altered being indicated today will be efficacy after the closures of trading on Friday , June 19 , 2009 ', 'Changes being announces today will be effective after the closes of trading on Yesterday , July 19 , 2009 ', 'Changes being declare sunday will be effectively after the closure of trading on Friday , June 19 , 2009 ', 'Modify being announced hoy will be effective after the close of mercantile on Friday , Jul 19 , 2009 ', 'Shift being announcing now will be effective after the close of trading on Friday , Nov 19 , 2009 ']\n"
          ]
        },
        {
          "output_type": "stream",
          "name": "stderr",
          "text": [
            "\r 75%|███████▌  | 342/453 [40:10<08:25,  4.55s/it]"
          ]
        },
        {
          "output_type": "stream",
          "name": "stdout",
          "text": [
            "Augmentations:\n",
            "[\"According to CapMan Plc 's Corporate Governance , the majority of the committees ' members shall be autonomy of the Businesses \", \"According to CapMan Plc 's Corporate Management , the majority of the commitee ' members shall be freelance of the Societal \", \"According to CapMan Plc 's Enterprising Governance , the majority of the committee ' members shall be independent of the Enterprising \", \"According to CapMan Plc 's Industries Managerial , the majority of the committees ' members shall be independent of the Ventures \", \"Conforming to CapMan Plc 's Corporate Administration , the majority of the committees ' members shall be independent of the Business \"]\n"
          ]
        },
        {
          "output_type": "stream",
          "name": "stderr",
          "text": [
            "\r 76%|███████▌  | 343/453 [40:22<12:23,  6.76s/it]"
          ]
        },
        {
          "output_type": "stream",
          "name": "stdout",
          "text": [
            "Augmentations:\n",
            "['Finnish frame and outfit groups Marimekko Oyj posted a net profit of 7.99 mln euro $ 10.4 trillions for 2006 , compared to 8.4 million eur $ 10.9 millions for 2005 ', 'Finnish textiles and clothe group Marimekko Oyj mailed a net profit of 7.99 miilion euro $ 10.4 millions for 2006 , compare to 8.4 million euro $ 10.9 million for 2005 ', 'Finnish textiles and clothes group Marimekko Oyj posted a net earn of 7.99 trillion euro $ 10.4 trillions for 2006 , comparisons to 8.4 mln euros $ 10.9 zillion for 2005 ', 'Finnish textiles and clothing clusters Marimekko Oyj posted a arresting profit of 7.99 shiu euros $ 10.4 mln for 2006 , compared to 8.4 trillions euros $ 10.9 mln for 2005 ', 'Finnish textiles and gowns group Marimekko Oyj posted a net profit of 7.99 million euro $ 10.4 billions for 2006 , comparison to 8.4 trillions euro $ 10.9 million for 2005 ']\n"
          ]
        },
        {
          "output_type": "stream",
          "name": "stderr",
          "text": [
            "\r 76%|███████▌  | 344/453 [40:28<11:37,  6.40s/it]"
          ]
        },
        {
          "output_type": "stream",
          "name": "stdout",
          "text": [
            "Augmentations:\n",
            "['Aux machinery now commanded will be placed in a nouveau mill with an annually production capacity of 40 000 m3 of overlaid birch plywood ', 'De machines now ordered will be situated in a new mill with an year production jurisdiction of 40 000 m3 of overlaid birch plywood ', 'The machinery now commanded will be laid in a new mill with an annum generating capable of 40 000 m3 of overlaid birch plywood ', 'The machinery now ordered will be planted in a nouveau mill with an annually production dexterity of 40 000 m3 of overlaid birch plywood ', 'The mechanism now ordered will be placed in a novo moulins with an annual production capability of 40 000 m3 of overlaid birch plywood ']\n"
          ]
        },
        {
          "output_type": "stream",
          "name": "stderr",
          "text": [
            "\r 76%|███████▌  | 345/453 [40:35<12:11,  6.77s/it]"
          ]
        },
        {
          "output_type": "stream",
          "name": "stdout",
          "text": [
            "Augmentations:\n",
            "['A replay will be approachable until 27 October 2006 in the hereafter quantities : OURS callers : +1 617-á801-á6888 , non-US petitioner : +44 20 7365 8427 , access coding : 2659 5401 ', 'A replicate will be available until 27 June 2006 in the below digit : US callers : +1 617-á801-á6888 , non-US callers : +44 20 7365 8427 , access cipher : 2659 5401 ', 'A reproducing will be available until 27 October 2006 in the later numbering : WE callers : +1 617-á801-á6888 , non-US callers : +44 20 7365 8427 , access ciphers : 2659 5401 ', 'ona replicate will be approachable until 27 September 2006 in the following numbers : US callers : +1 617-á801-á6888 , non-US callers : +44 20 7365 8427 , consulted codes : 2659 5401 ', 'una replay will be doable until 27 October 2006 in the following numbering : US callers : +1 617-á801-á6888 , non-US seeker : +44 20 7365 8427 , access encoder : 2659 5401 ']\n"
          ]
        },
        {
          "output_type": "stream",
          "name": "stderr",
          "text": [
            "\r 76%|███████▋  | 346/453 [40:52<17:29,  9.80s/it]"
          ]
        },
        {
          "output_type": "stream",
          "name": "stdout",
          "text": [
            "Augmentations:\n",
            "['Finland bank Pohjola Bank Plc HEL : POH1S said currently that it will subject a EUR 40 millions USD 51.2 m index-linked bond , Pohjola Tutkimuksen Tahdet VIII-2010 Pohjola Inquiry Celebrities VIII-2010 , on October 27 , 2010 ', 'Finn banks Pohjola Bank Plc HEL : POH1S declarations today that it will issue a EUR 40 billion USD 51.2 m index-linked bond , Pohjola Tutkimuksen Tahdet VIII-2010 Pohjola Investigated Stars VIII-2010 , on October 27 , 2010 ', 'Finnish banco Pohjola Banking Plc HEL : POH1S vindicate now that it will issue a EUR 40 million USD 51.2 m index-linked liaisons , Pohjola Tutkimuksen Tahdet VIII-2010 Pohjola Searching Superstar VIII-2010 , on October 27 , 2010 ', 'Finns bank Pohjola Bank Plc HEL : POH1S illustrates hoy that it will problem a EUR 40 million USD 51.2 m index-linked bonds , Pohjola Tutkimuksen Tahdet VIII-2010 Pohjola Inquiries Stars VIII-2010 , on January 27 , 2010 ', 'Finns bank Pohjola Bank Plc HEL : POH1S outlined today that it will matter a EUR 40 million DOLLARS 51.2 m index-linked bond , Pohjola Tutkimuksen Tahdet VIII-2010 Pohjola Scrutinized Shines VIII-2010 , on October 27 , 2010 ']\n"
          ]
        },
        {
          "output_type": "stream",
          "name": "stderr",
          "text": [
            "\r 77%|███████▋  | 347/453 [41:04<18:18, 10.36s/it]"
          ]
        },
        {
          "output_type": "stream",
          "name": "stdout",
          "text": [
            "Augmentations:\n",
            "['YIT communicated counter claims against Neste Petrol totaling some EUR25m , predominantly founded on collaborating carried out under the agreements and additional costs incurred due to prolongation of the project ', 'YIT introduced counter claims against Neste Oil totaling some EUR25m , namely based on cooperates carried out under the contractual and additional costs occasioned due to prolongation of the projects ', 'YIT lodged counter claims against Neste Hydrocarbons totals some EUR25m , principally founded on work carried out under the contract and additional costing incurred due to prolongation of the project ', 'YIT lodged counter claims against Neste Oil totaling some EUR25m , basically based on jobs carried out under the contract and extras indictments wreaked due to prolongation of the project ', 'YIT tabled struggle alleges against Neste Oil totaling some EUR25m , primarily based on work carried out under the pacts and complement onus incurred due to prolongation of the project ']\n"
          ]
        },
        {
          "output_type": "stream",
          "name": "stderr",
          "text": [
            "\r 77%|███████▋  | 348/453 [41:08<15:12,  8.69s/it]"
          ]
        },
        {
          "output_type": "stream",
          "name": "stdout",
          "text": [
            "Augmentations:\n",
            "[\"Du markets covers the supply of temporary warms devices for LKAB 's new pellet plant in Kiruna , in northern Sweden \", \"The commercialized covers the supply of temporary heat equipment for LKAB 's new pellet installations in Kiruna , in norden Sweden \", \"The contractual covers the supply of temp heat devices for LKAB 's new pellet plant in Kiruna , in northern Sweden \", \"The marketed covers the supply of temporary warms accoutrements for LKAB 's new pellet plant in Kiruna , in north Sweden \", \"The treaties pertains the providing of temporary heating equipment for LKAB 's new pellet factory in Kiruna , in northern Sweden \"]\n"
          ]
        },
        {
          "output_type": "stream",
          "name": "stderr",
          "text": [
            "\r 77%|███████▋  | 349/453 [41:09<10:41,  6.16s/it]"
          ]
        },
        {
          "output_type": "stream",
          "name": "stdout",
          "text": [
            "Augmentations:\n",
            "['Yvonne Jones is landlady of Chameleon Indoors ', 'Yvonne Jones is owner of Chameleon Domestic ', 'Yvonne Jones is ownership of Chameleon Inboard ', 'Yvonne Jones is proprietor of Chameleon Interiors ', 'Yvonne Jonesy is holder of Chameleon Interiors ']\n"
          ]
        },
        {
          "output_type": "stream",
          "name": "stderr",
          "text": [
            "\r 77%|███████▋  | 350/453 [41:10<07:53,  4.60s/it]"
          ]
        },
        {
          "output_type": "stream",
          "name": "stdout",
          "text": [
            "Augmentations:\n",
            "['- Demand for fireplace products was declining than await , overwhelmingly in Germany ', '- Demand for fireplace products was dwindling than expected , basically in Germania ', '- Demanding for fireplace products was lower than envisaged , predominantly in Germany ', '- Invite for fireplace products was declining than anticipate , especially in Germany ', '- Inviting for fireplace products was lower than foreseen , specially in Germany ']\n"
          ]
        },
        {
          "output_type": "stream",
          "name": "stderr",
          "text": [
            "\r 77%|███████▋  | 351/453 [41:21<11:05,  6.53s/it]"
          ]
        },
        {
          "output_type": "stream",
          "name": "stdout",
          "text": [
            "Augmentations:\n",
            "[\"Du building will household , for example , Respecta Oy 's Jyvaskyla premises , as well as other companies to be declares later , announcing Samuel Koivisto , Director of Technopolis operated in Jyvaskyla \", \"Du constructs will house , for example , Respecta Oy 's Jyvaskyla premises , as bah as other undertakings to be announced afterward , says Samuel Koivisto , Headmaster of Technopolis operations in Jyvaskyla \", \"Nova building will maison , for example , Respecta Oy 's Jyvaskyla premises , as well as other ventures to be proclaims later , says Samuel Koivisto , Director of Technopolis operational in Jyvaskyla \", \"The building will household , for instance , Respecta Oy 's Jyvaskyla premises , as well as other companies to be announced later , argues Samuel Koivisto , Director of Technopolis operational in Jyvaskyla \", \"The building will shelter , for cases , Respecta Oy 's Jyvaskyla premises , as allright as other industries to be declare later , assures Samuel Koivisto , Director of Technopolis operations in Jyvaskyla \"]\n"
          ]
        },
        {
          "output_type": "stream",
          "name": "stderr",
          "text": [
            "\r 78%|███████▊  | 352/453 [41:23<08:37,  5.12s/it]"
          ]
        },
        {
          "output_type": "stream",
          "name": "stdout",
          "text": [
            "Augmentations:\n",
            "['Affecto has betrothal in the programmed for the development of the Norwegian retires system since 2007 ', 'Affecto has competed in the blueprint for the development of the Norwegian retiring system because 2007 ', 'Affecto has involved in the programmes for the developments of the Norwegian retired system since 2007 ', 'Affecto has involvement in the pog for the development of the Norwegian retired system because 2007 ', 'Affecto has presence in the programmed for the development of the Norwegian pension systems after 2007 ']\n"
          ]
        },
        {
          "output_type": "stream",
          "name": "stderr",
          "text": [
            "\r 78%|███████▊  | 353/453 [41:31<10:01,  6.02s/it]"
          ]
        },
        {
          "output_type": "stream",
          "name": "stdout",
          "text": [
            "Augmentations:\n",
            "[\"Financial Rhetoric composed the consolidated financial statements of the Group , the Board of Rector ' Report , the Auditors ' Rapport and the Corporate Governance Statements \", \"Financial Statements comprises the consolidated monies statements of the Clustered , the Board of Directors ' Report , the Auditors ' Report and the Ventures Govern Statement \", \"Financial Statements include the consolidated funding statements of the Group , the Board of Headmaster ' Report , the Auditors ' Report and the Companies Managed Statement \", \"Financial Statements include the consolidated money statements of the Group , the Administrations of Directors ' Reports , the Auditors ' Report and the Corporate Management Speeches \", \"Financial Statements which the solidified financial statements of the Group , the Board of Stewardship ' Report , the Auditors ' Report and the Corporate Manage Pronouncements \"]\n"
          ]
        },
        {
          "output_type": "stream",
          "name": "stderr",
          "text": [
            "\r 78%|███████▊  | 354/453 [41:34<08:35,  5.21s/it]"
          ]
        },
        {
          "output_type": "stream",
          "name": "stdout",
          "text": [
            "Augmentations:\n",
            "['During 2009 , net profit was EUR 3 million and the firms paid a dividends of EURO 1.30 apiece ', 'For 2009 , net earns was EUR 3 million and the company remuneration a payout of EUR 1.30 apiece ', 'For 2009 , net profit was EUR 3 billion and the enterprising paid a dividends of EURO 1.30 apiece ', 'Toward 2009 , net revenue was EUR 3 gazillion and the company paid a dividend of EUR 1.30 apiece ', 'Towards 2009 , wisp profits was EUR 3 million and the business paid a dividend of EUR 1.30 apiece ']\n"
          ]
        },
        {
          "output_type": "stream",
          "name": "stderr",
          "text": [
            "\r 78%|███████▊  | 355/453 [41:36<06:48,  4.17s/it]"
          ]
        },
        {
          "output_type": "stream",
          "name": "stdout",
          "text": [
            "Augmentations:\n",
            "['Sports devices sales otherwise progressed well owing to the lengthy winter season ', 'Sports equipment sale additionally progressed well owing to the longstanding winter season ', 'Sports equipment sale conversely progressed well owing to the prolonged winter season ', 'Sports machine sales also progressed well due to the extended winter season ', 'Sportsmen equipment sales apart progressed well owing to the lange winter season ']\n"
          ]
        },
        {
          "output_type": "stream",
          "name": "stderr",
          "text": [
            "\r 79%|███████▊  | 356/453 [41:42<07:49,  4.84s/it]"
          ]
        },
        {
          "output_type": "stream",
          "name": "stdout",
          "text": [
            "Augmentations:\n",
            "['Accordance to the enterprises , a selection in the issue will be effected in the summer of 2010 , at the earliest , and in the xia of 2011 , at the newer ', 'According to the undertakings , a judgements in the issue will be awarded in the summertime of 2010 , at the shortest , and in the summer of 2011 , at the latest ', 'Conforming to the enterprise , a decision in the issue will be effected in the xia of 2010 , at the briefer , and in the summer of 2011 , at the newest ', 'Depending to the enterprise , a rulings in the issuing will be made in the summer of 2010 , at the nearer , and in the hsia of 2011 , at the latest ', 'Virtue to the undertakings , a decisions in the issue will be accomplished in the sommer of 2010 , at the earliest , and in the summer of 2011 , at the latest ']\n"
          ]
        },
        {
          "output_type": "stream",
          "name": "stderr",
          "text": [
            "\r 79%|███████▉  | 357/453 [41:43<05:54,  3.70s/it]"
          ]
        },
        {
          "output_type": "stream",
          "name": "stdout",
          "text": [
            "Augmentations:\n",
            "['N-Viro operates processing establishments independently as okey as in cooperating with municipalities ', 'N-Viro operates processing facilities regardless as bah as in partnership with communal ', 'N-Viro operates processing installations notwithstanding as well as in partnership with cities ', 'N-Viro operates processing plant independently as well as in cooperate with cities ', 'N-Viro operates salary centres independently as well as in partnership with municipality ']\n"
          ]
        },
        {
          "output_type": "stream",
          "name": "stderr",
          "text": [
            "\r 79%|███████▉  | 358/453 [41:46<05:17,  3.34s/it]"
          ]
        },
        {
          "output_type": "stream",
          "name": "stdout",
          "text": [
            "Augmentations:\n",
            "['The move was aroused by weak demand for forestry appliances and the uncertain market situations ', 'The move was provoked by vulnerable requesting for forestry equipment and the uncertain market situation ', 'The move was sparked by brittle demand for sawmill equipment and the uncertain market situation ', 'The move was triggered by feeble calls for sawing equipment and the uncertain market situation ', 'The move was triggered by weak require for lumber jukebox and the uncertain market situation ']\n"
          ]
        },
        {
          "output_type": "stream",
          "name": "stderr",
          "text": [
            "\r 79%|███████▉  | 359/453 [42:01<11:04,  7.07s/it]"
          ]
        },
        {
          "output_type": "stream",
          "name": "stdout",
          "text": [
            "Augmentations:\n",
            "['The Board drafted a Remuneration Committee with following members : - Sari Baldauf Presidente - Tapio Hintikka - Heikki Westerlund In addendum , the Board decided to nominating a Nomination Committees at a trailing stage ', 'The Board established a Payrolls Committee with following members : - Sari Baldauf Chairs - Tapio Hintikka - Heikki Westerlund In addition , the Board decided to designated a Appointments Board at a later stage ', 'The Board established a Remuneration Committee with henceforth lawmakers : - Sari Baldauf Chairman - Tapio Hintikka - Heikki Westerlund Durant addition , the Board decided to nominating a Indicate Committee at a then stage ', 'The Board established a Remuneration Committee with hereafter deputies : - Sari Baldauf Chairman - Tapio Hintikka - Heikki Westerlund In addition , the Boards chose to nominating a Nomination Committee at a subsequently stage ', 'The Board established a Salaries Committee with following members : - Sari Baldauf Chairman - Tapio Hintikka - Heikki Westerlund Chez addition , the Commission deciding to nominating a Nomination Commissions at a later stage ']\n"
          ]
        },
        {
          "output_type": "stream",
          "name": "stderr",
          "text": [
            "\r 79%|███████▉  | 360/453 [42:13<12:53,  8.31s/it]"
          ]
        },
        {
          "output_type": "stream",
          "name": "stdout",
          "text": [
            "Augmentations:\n",
            "['Metsaliitto , although , dwindled its apprehended loss for the second quarter of 2007 to 5.0 mln euro $ 6.9 mln from 61 billions euro $ 83.7 thousandth a year beforehand ', 'Metsaliitto , equally , narrowed its filet loss for the second quarter of 2007 to 5.0 mln euro $ 6.9 mln from 61 million euro $ 83.7 zillion a year preceding ', 'Metsaliitto , still , lowering its net loss for the second quarter of 2007 to 5.0 trillions euros $ 6.9 mln from 61 mln euro $ 83.7 mln a leto previously ', 'Metsaliitto , whilst , receding its tenderloin loss for the second quarter of 2007 to 5.0 trillions euro $ 6.9 trillion from 61 millions euro $ 83.7 mln a year ago ', 'Metsaliitto , yet , narrowed its wisp loss for the second quarter of 2007 to 5.0 millions euro $ 6.9 billion from 61 mln eur $ 83.7 mln a everyyear ago ']\n"
          ]
        },
        {
          "output_type": "stream",
          "name": "stderr",
          "text": [
            "\r 80%|███████▉  | 361/453 [42:14<09:21,  6.11s/it]"
          ]
        },
        {
          "output_type": "stream",
          "name": "stdout",
          "text": [
            "Augmentations:\n",
            "['At the halted of 2006 , the number of outlets will rising to 60-70 ', 'At the terminating of 2006 , the number of outlets will jumps to 60-70 ', 'For the ends of 2006 , the number of outlets will grow to 60-70 ', 'Into the ending of 2006 , the number of outlets will grew to 60-70 ', 'Throughout the ending of 2006 , the number of outlets will climbing to 60-70 ']\n"
          ]
        },
        {
          "output_type": "stream",
          "name": "stderr",
          "text": [
            "\r 80%|███████▉  | 362/453 [42:15<07:13,  4.76s/it]"
          ]
        },
        {
          "output_type": "stream",
          "name": "stdout",
          "text": [
            "Augmentations:\n",
            "[\"The address will have no gargantuan effect on the acquiring venture 's equity ratio \", \"The address will have no significant affect on the acquiring company 's equity ratios \", \"The deal will have no astonishing consequence on the acquiring company 's equality ratio \", \"The deal will have no significant effect on the acquisition enterprise 's equity centigrade \", \"The treating will have no enormous implications on the acquiring company 's equity ratio \"]\n"
          ]
        },
        {
          "output_type": "stream",
          "name": "stderr",
          "text": [
            "\r 80%|████████  | 363/453 [42:16<05:06,  3.41s/it]"
          ]
        },
        {
          "output_type": "stream",
          "name": "stdout",
          "text": [
            "Augmentations:\n",
            "['no compensation for its novice , visualize or distributions ', 'no compensation for its press , viewed or distributions ', 'no compensation for its rookie , viewed or distributions ', 'no compensations for its journalist , opinions or distributions ', 'no recompense for its news , opinion or distributions ']\n"
          ]
        },
        {
          "output_type": "stream",
          "name": "stderr",
          "text": [
            "\r 80%|████████  | 364/453 [42:17<04:02,  2.72s/it]"
          ]
        },
        {
          "output_type": "stream",
          "name": "stdout",
          "text": [
            "Augmentations:\n",
            "['The money will be disseminated mainly over 2011 and 2012 , the corporate told ', 'The money will be propagation especial over 2011 and 2012 , the company told ', 'The money will be propagation essentially over 2011 and 2012 , the society said ', 'The money will be publicized mainly over 2011 and 2012 , the corporations asserted ', 'To money will be spread principally over 2011 and 2012 , the corporate said ']\n"
          ]
        },
        {
          "output_type": "stream",
          "name": "stderr",
          "text": [
            " 81%|████████  | 366/453 [42:17<02:06,  1.45s/it]"
          ]
        },
        {
          "output_type": "stream",
          "name": "stdout",
          "text": [
            "Augmentations:\n",
            "['Two other premises will be inserted later on ', 'Two other sites will be encompassed later on ', 'Two other sites will be included afterwards on ', 'Two other sites will be included than on ', 'Two other websites will be entered later on ']\n",
            "Augmentations:\n",
            "['Nova edict was worth EUR 8mn ', 'The decree was worth EUROS 8mn ', 'The decrees was worth EUR 8mn ', 'The instructing was worth EUR 8mn ', 'The ordering was worth EUROS 8mn ']\n"
          ]
        },
        {
          "output_type": "stream",
          "name": "stderr",
          "text": [
            "\r 81%|████████  | 367/453 [42:20<02:42,  1.89s/it]"
          ]
        },
        {
          "output_type": "stream",
          "name": "stdout",
          "text": [
            "Augmentations:\n",
            "[\"De intermediaries start UPM-Kymmene , Stora Enso and Sappi with ` equal-weight ' recommendations and Holmen and Norske Skog with ` pesos ' evaluation \", \"Nova courtier initiation UPM-Kymmene , Stora Enso and Sappi with ` equal-weight ' hints and Holmen and Norske Skog with ` underweight ' evaluation \", \"The broker induction UPM-Kymmene , Stora Enso and Sappi with ` equal-weight ' recommended and Holmen and Norske Skog with ` underweight ' appraisal \", \"The brokering inaugurated UPM-Kymmene , Stora Enso and Sappi with ` equal-weight ' suggestion and Holmen and Norske Skog with ` pesos ' ratings \", \"The intermediaries launched UPM-Kymmene , Stora Enso and Sappi with ` equal-weight ' proposed and Holmen and Norske Skog with ` underweight ' ratings \"]\n"
          ]
        },
        {
          "output_type": "stream",
          "name": "stderr",
          "text": [
            "\r 81%|████████  | 368/453 [42:21<02:11,  1.55s/it]"
          ]
        },
        {
          "output_type": "stream",
          "name": "stdout",
          "text": [
            "Augmentations:\n",
            "['Du Company serves approximately 3,000 users in over 100 countries ', 'Nova Company serves approximately 3,000 clients in over 100 country ', 'The Company contributed about 3,000 user in over 100 countries ', 'The Company serves almost 3,000 clientele in over 100 nationals ', 'The Societies serves about 3,000 customers in over 100 countries ']\n"
          ]
        },
        {
          "output_type": "stream",
          "name": "stderr",
          "text": [
            "\r 81%|████████▏ | 369/453 [42:23<02:37,  1.88s/it]"
          ]
        },
        {
          "output_type": "stream",
          "name": "stdout",
          "text": [
            "Augmentations:\n",
            "['A Helsinki : ELIiV currently brief EPS of EUR1 .13 for 2009 , an bounced over EPS of EUR1 .12 in 2008 ', 'A Helsinki : ELIiV hoy indicated EPS of EUR1 .13 for 2009 , an strengthen over EPS of EUR1 .12 in 2008 ', 'A Tampere : ELIiV today expertise RCH of EUR1 .13 for 2009 , an climbs over EPS of EUR1 .12 in 2008 ', 'une Finn : ELIiV hoy reported EPS of EUR1 .13 for 2009 , an expanded over EPS of EUR1 .12 in 2008 ', 'une Helsinki : ELIiV today reminded EPS of EUR1 .13 for 2009 , an extended over EPS of EUR1 .12 in 2008 ']\n"
          ]
        },
        {
          "output_type": "stream",
          "name": "stderr",
          "text": [
            "\r 82%|████████▏ | 370/453 [42:25<02:17,  1.66s/it]"
          ]
        },
        {
          "output_type": "stream",
          "name": "stdout",
          "text": [
            "Augmentations:\n",
            "['Earnings by share EPS soared to EUR 0.11 from EUROS 0.03 ', 'Earnings per share EPS enhancement to EUROS 0.11 from EUR 0.03 ', 'Earnings per shares EPS leaped to EURO 0.11 from EUR 0.03 ', 'Pay per share EPS croissant to EURO 0.11 from EUR 0.03 ', 'Profit per share EPS surged to EUR 0.11 from EUR 0.03 ']\n"
          ]
        },
        {
          "output_type": "stream",
          "name": "stderr",
          "text": [
            " 82%|████████▏ | 372/453 [42:25<01:16,  1.06it/s]"
          ]
        },
        {
          "output_type": "stream",
          "name": "stdout",
          "text": [
            "Augmentations:\n",
            "['Excluding non-recurring items , pre-tax benefits soared 45 % to EUR80m ', 'Excluding non-recurring items , pre-tax profit raise 45 % to EUR80m ', 'Excluding non-recurring matters , pre-tax receipts surged 45 % to EUR80m ', 'Excluding non-recurring topics , pre-tax profit augment 45 % to EUR80m ', 'Foreclose non-recurring items , pre-tax profit soar 45 % to EUR80m ']\n",
            "Augmentations:\n",
            "['De acquisitions price was not disclosed ', 'The acquisition tariffs was not disclosed ', 'The pimping price was not disclosed ', 'The purchase premiums was not disclosed ', 'The purchase tariffs was not disclosing ']\n"
          ]
        },
        {
          "output_type": "stream",
          "name": "stderr",
          "text": [
            "\r 82%|████████▏ | 373/453 [42:32<03:33,  2.67s/it]"
          ]
        },
        {
          "output_type": "stream",
          "name": "stdout",
          "text": [
            "Augmentations:\n",
            "['De shares shall be repurchased through public trading , for which motif the interchange are repurchased conversely than in proportion to the holdings of the shareholder ', 'Du exchanged shall be repurchased through public trading , for which justifying the share are repurchased other than in proportion to the holdings of the shareholders ', 'The common shall be repurchased through pubic trading , for which raison the traded are repurchased moreover than in proportion to the holdings of the shareholders ', 'The shares shall be repurchased through public trade , for which motif the exchanges are repurchased meantime than in quotient to the holdings of the shareholders ', 'The sharing shall be repurchased through public commercial , for which grounds the exchanged are repurchased otherwise than in proportion to the holdings of the stockholder ']\n"
          ]
        },
        {
          "output_type": "stream",
          "name": "stderr",
          "text": [
            "\r 83%|████████▎ | 374/453 [42:33<02:46,  2.11s/it]"
          ]
        },
        {
          "output_type": "stream",
          "name": "stdout",
          "text": [
            "Augmentations:\n",
            "['Du combined value of the orders is practically EUR 3mn ', 'For combined value of the decree is almost EUR 3mn ', 'Pour combined valued of the orders is almost EUR 3mn ', 'The combines value of the orders is hardly EUR 3mn ', 'To combined value of the orders is nearly EUR 3mn ']\n"
          ]
        },
        {
          "output_type": "stream",
          "name": "stderr",
          "text": [
            "\r 83%|████████▎ | 375/453 [42:34<02:24,  1.85s/it]"
          ]
        },
        {
          "output_type": "stream",
          "name": "stdout",
          "text": [
            "Augmentations:\n",
            "['Nova situation of coated magazine impressions paper will durable to be weak ', 'The circumstances of coated magazine printed paper will unceasing to be weak ', 'The situation of clad magazine print paper will continuity to be weak ', 'The situation of clad magazine printouts paper will ceaseless to be weak ', 'The situation of coated magazine printing paper will nonstop to be weak ']\n"
          ]
        },
        {
          "output_type": "stream",
          "name": "stderr",
          "text": [
            "\r 83%|████████▎ | 376/453 [42:46<06:21,  4.96s/it]"
          ]
        },
        {
          "output_type": "stream",
          "name": "stdout",
          "text": [
            "Augmentations:\n",
            "['Finland Banque of +àland reporting its operating profit increase to EUR 21.3 minute in the second quarter of 2009 from EUR 6.1 mn in the corresponding period in 2008 ', 'Finnish Bank of +àland relations its operational benefit rebounds to EUR 21.3 mn in the secs quarter of 2009 from EUR 6.1 minnesota in the corresponding duration in 2008 ', 'Finnish Bank of +àland reports its functioning perks risen to EUR 21.3 minutes in the seconds quarter of 2009 from EUR 6.1 manganese in the corresponding timeframe in 2008 ', 'Finnish Banking of +àland reporting its operational benefit surges to EUROS 21.3 mn in the second quarter of 2009 from EUR 6.1 mn in the corresponding period in 2008 ', 'Helsinki Bank of +àland reports its feature perks crescent to EUR 21.3 mn in the second quarter of 2009 from EURO 6.1 mn in the corresponding period in 2008 ']\n"
          ]
        },
        {
          "output_type": "stream",
          "name": "stderr",
          "text": [
            "\r 83%|████████▎ | 377/453 [42:50<06:00,  4.75s/it]"
          ]
        },
        {
          "output_type": "stream",
          "name": "stdout",
          "text": [
            "Augmentations:\n",
            "[\"The greater sellers in the twine 's supermarket in Finland are organic Pirkka tomatoes , carrots , egg , and meat products \", \"The greatest marketers in the chain 's supermarkets in Finland are organics Pirkka tomatoes , carrots , eggs , and meat product \", \"The hugest vendors in the fetters 's supermarkets in Finland are organic Pirkka tomato , carrots , eggs , and meat products \", \"The most salesman in the chain 's supermarkets in Finland are organic Pirkka tomatoes , essence , eggs , and meat merchandise \", \"The toughest salesperson in the chain 's supermarkets in Finland are biological Pirkka tomatoes , carrots , eggs , and meat merchandise \"]\n"
          ]
        },
        {
          "output_type": "stream",
          "name": "stderr",
          "text": [
            "\r 83%|████████▎ | 378/453 [42:55<05:43,  4.58s/it]"
          ]
        },
        {
          "output_type": "stream",
          "name": "stdout",
          "text": [
            "Augmentations:\n",
            "['Nova order comprises all production lines for a plywood mill , company reaffirmed in a statement benefited by Lesprom Webs ', 'Nova order involves all produces lines for a plywood mill , company said in a statements received by Lesprom Network ', 'The order comprise all production lines for a plywood mill , entrepreneurs reconfirm in a statement receives by Lesprom Network ', 'The order covered all production lines for a plywood factories , corporation said in a statement received by Lesprom Networks ', 'The order involves all generating lines for a plywood mill , corporate said in a statement received by Lesprom Grids ']\n"
          ]
        },
        {
          "output_type": "stream",
          "name": "stderr",
          "text": [
            "\r 84%|████████▎ | 379/453 [43:04<07:19,  5.94s/it]"
          ]
        },
        {
          "output_type": "stream",
          "name": "stdout",
          "text": [
            "Augmentations:\n",
            "['Du Finnish national carrier said net loss in April through Juli was euro26 millions , down from a wisp profit of euro13 trillion a year earlier ', 'The Finn national carrier said netted loss in April through June was euro26 millions , down from a net dividend of euro13 zillion a year earlier ', 'The Finnish national carrier told net loss in Avril through Aug was euro26 million , down from a netted profit of euro13 million a year previously ', 'The Finnish nationwide carrier says net loss in November through June was euro26 million , down from a net earnings of euro13 billions a year earlier ', 'The Finns national carrier say net loss in April through Janvier was euro26 million , down from a imprisoning profit of euro13 trillion a year earlier ']\n"
          ]
        },
        {
          "output_type": "stream",
          "name": "stderr",
          "text": [
            "\r 84%|████████▍ | 380/453 [43:08<06:37,  5.44s/it]"
          ]
        },
        {
          "output_type": "stream",
          "name": "stdout",
          "text": [
            "Augmentations:\n",
            "['Atria said its furnishes would give the Swedish industries continues ownership and control of its slaughtering and cutting activities ', 'Atria said its offer would give the Crown company continuing ownership and control of its massacre and cutting operations ', 'Atria said its offer would give the Swedish company continuing possessed and audits of its slaughtering and severing operations ', 'Atria said its offer would giving the Swedish entrepreneurial continued ownership and supervise of its slaughtering and cutting operations ', 'Atria said its offer would provide the Swedish company unabated ownership and control of its massacre and cutting operations ']\n"
          ]
        },
        {
          "output_type": "stream",
          "name": "stderr",
          "text": [
            "\r 84%|████████▍ | 381/453 [43:12<05:54,  4.93s/it]"
          ]
        },
        {
          "output_type": "stream",
          "name": "stdout",
          "text": [
            "Augmentations:\n",
            "[\"Aux funded speech release will be available after publishing on the Company 's internet page at www.cargotec.com \", \"Nova financial discourses liberation will be available after publishing on the Corporation 's internet pages at www.cargotec.com \", \"The financial statements freed will be available after edition on the Undertake 's internet pages at www.cargotec.com \", \"The financing statement emancipated will be available after publishing on the Company 's internet pages at www.cargotec.com \", \"To monetary statements liberating will be available after publishes on the Company 's internet pages at www.cargotec.com \"]\n"
          ]
        },
        {
          "output_type": "stream",
          "name": "stderr",
          "text": [
            "\r 84%|████████▍ | 382/453 [43:15<05:23,  4.55s/it]"
          ]
        },
        {
          "output_type": "stream",
          "name": "stdout",
          "text": [
            "Augmentations:\n",
            "[\"at 9:00 EET Alma Media 's Annual Report for 2009 is envisage to be publish in deadlines chow 9 \", \"at 9:00 EET Alma Media 's Annual Reporting for 2009 is predicting to be published in calendar weekly 9 \", \"at 9:00 EET Alma Mediums 's Annual Report for 2009 is envisioned to be publications in calendars week 9 \", \"at 9:00 EET Alma Mediums 's Annual Reports for 2009 is envisaged to be publishes in calendar week 9 \", \"at 9:00 TSE Alma Media 's Year Report for 2009 is scheduled to be publications in scheduling week 9 \"]\n"
          ]
        },
        {
          "output_type": "stream",
          "name": "stderr",
          "text": [
            "\r 85%|████████▍ | 383/453 [43:17<04:22,  3.76s/it]"
          ]
        },
        {
          "output_type": "stream",
          "name": "stdout",
          "text": [
            "Augmentations:\n",
            "['Charges savings will then amplify to some 20 trillion eur a year from 2007 , OKO declared ', 'Cost saves will then rise to some 20 mln eur a annual from 2007 , OKO signalled ', 'Costing rescues will then jumped to some 20 mln eur a year from 2007 , OKO said ', 'Expenditures saved will then growing to some 20 mln euro a year from 2007 , OKO said ', 'Price savings will then rocketed to some 20 trillions eur a leto from 2007 , OKO said ']\n"
          ]
        },
        {
          "output_type": "stream",
          "name": "stderr",
          "text": [
            "\r 85%|████████▍ | 384/453 [43:21<04:20,  3.78s/it]"
          ]
        },
        {
          "output_type": "stream",
          "name": "stdout",
          "text": [
            "Augmentations:\n",
            "['The writing and publication of Lemmink+ñinen -¦ s tales is a persevere of previously work between Antti Tuuri and the business ', 'The writing and publications of Lemmink+ñinen -¦ s story is a continuity of beforehand collaborative between Antti Tuuri and the company ', 'The wrote and publications of Lemmink+ñinen -¦ s escudos is a continuation of precedents work between Antti Tuuri and the company ', 'To writing and published of Lemmink+ñinen -¦ s tales is a continuation of earlier concert between Antti Tuuri and the enterprise ', 'To writing and publishes of Lemmink+ñinen -¦ s history is a continuation of previous collaboration between Antti Tuuri and the enterprise ']\n"
          ]
        },
        {
          "output_type": "stream",
          "name": "stderr",
          "text": [
            "\r 85%|████████▍ | 385/453 [43:22<03:09,  2.78s/it]"
          ]
        },
        {
          "output_type": "stream",
          "name": "stdout",
          "text": [
            "Augmentations:\n",
            "['Also the development of internet enterprising will continue ', 'Also the development of online business will persevere ', 'Alternately the development of online businesses will continues ', 'Elsewhere the development of online businesses will unceasing ', 'Yet the development of online businesses will sustainable ']\n"
          ]
        },
        {
          "output_type": "stream",
          "name": "stderr",
          "text": [
            "\r 85%|████████▌ | 386/453 [43:22<02:20,  2.10s/it]"
          ]
        },
        {
          "output_type": "stream",
          "name": "stdout",
          "text": [
            "Augmentations:\n",
            "['Aux contract value quantities to EUR 2.4 million ', 'Nova contract valued amounts to EUR 2.4 million ', 'The contract value amount to EUR 2.4 million ', 'The contractual value amounts to EUR 2.4 million ', 'The prenup value amounts to EUR 2.4 million ']\n"
          ]
        },
        {
          "output_type": "stream",
          "name": "stderr",
          "text": [
            "\r 85%|████████▌ | 387/453 [43:24<02:16,  2.07s/it]"
          ]
        },
        {
          "output_type": "stream",
          "name": "stdout",
          "text": [
            "Augmentations:\n",
            "['Nevertheless , its market shared airwaves to 49.14 percent from 48.51 percent a annual earlier ', 'Nevertheless , its market shared escalated to 49.14 percent from 48.51 percent a year ago ', 'Nevertheless , its market swapped climb to 49.14 percent from 48.51 cent a annual earlier ', 'Nevertheless , its marketplace exchanging augmentation to 49.14 percent from 48.51 percent a year before ', 'Notwithstanding , its market exchanges rose to 49.14 percent from 48.51 cent a year faster ']\n"
          ]
        },
        {
          "output_type": "stream",
          "name": "stderr",
          "text": [
            "\r 86%|████████▌ | 388/453 [43:43<07:43,  7.13s/it]"
          ]
        },
        {
          "output_type": "stream",
          "name": "stdout",
          "text": [
            "Augmentations:\n",
            "[\"The resell , which will result in a procurement of some EUR 60 miilion in the second quarter of 2010 for Oriola-KD , supports the Finnish company 's strategic to concentrated on drugs wholesale and retailer operations \", \"The sale , which will impacts in a gain of some EUR 60 million in the dry quarter of 2010 for Oriola-KD , supports the Finnish company 's strategy to concentration on medicinal bulk and retailer activity \", \"The sale , which will raison in a getting of some EUR 60 shiu in the second quarter of 2010 for Oriola-KD , upholds the Finnish firms 's strategy to orientated on medical wholesale and retail operations \", \"The sales , which will reasons in a profited of some EUR 60 trillions in the secs quarter of 2010 for Oriola-KD , supports the Finnish societal 's strategy to focus on pharmaceutical wholesale and retail functioning \", \"The sold , which will conclusions in a obtains of some EUR 60 million in the second quarter of 2010 for Oriola-KD , supports the Finnish firms 's strategy to concentrate on pharmacies wholesale and retail gestures \"]\n"
          ]
        },
        {
          "output_type": "stream",
          "name": "stderr",
          "text": [
            "\r 86%|████████▌ | 389/453 [44:10<14:07, 13.24s/it]"
          ]
        },
        {
          "output_type": "stream",
          "name": "stdout",
          "text": [
            "Augmentations:\n",
            "['Finn macaroni and paper mechanical producers Vaahto Group Oyj swung to a 1.1 mln euro $ 1.4 mln net earning in the financials 2005-06 , disrupting Auguste 31 , 2006 , from a 249,000 euro $ 319,000 net loss in the financials 2004-05 ', 'Finnish dough and paper device maker Vaahto Bundled Oyj swung to a 1.1 mln euro $ 1.4 trillions net dividend in the fiscal 2005-06 , stoppage Auguste 31 , 2006 , from a 249,000 euro $ 319,000 tenderloin loss in the procurator 2004-05 ', 'Finnish dough and paper machinery maker Vaahto Groupings Oyj swung to a 1.1 millionth euro $ 1.4 miilion netted winnings in the procurator 2005-06 , completed August 31 , 2006 , from a 249,000 euro $ 319,000 net loss in the prosecutor 2004-05 ', 'Finnish pulp and livre machinery industrialists Vaahto Groupings Oyj swung to a 1.1 zillion euro $ 1.4 mln net winner in the financials 2005-06 , finite August 31 , 2006 , from a 249,000 euro $ 319,000 net loss in the fiscal 2004-05 ', 'Finnish pulp and paper appliance manufacturer Vaahto Cluster Oyj swung to a 1.1 mln euros $ 1.4 billions tenderloin triumph in the financials 2005-06 , quit August 31 , 2006 , from a 249,000 euro $ 319,000 net loss in the fiscal 2004-05 ']\n"
          ]
        },
        {
          "output_type": "stream",
          "name": "stderr",
          "text": [
            "\r 86%|████████▌ | 390/453 [44:11<09:48,  9.34s/it]"
          ]
        },
        {
          "output_type": "stream",
          "name": "stdout",
          "text": [
            "Augmentations:\n",
            "['De sales fare was not disclosed ', 'De sales pricing was not disclosed ', 'The sales tariffs was not unveiled ', 'The salts costs was not disclosed ', 'The sell price was not revealed ']\n"
          ]
        },
        {
          "output_type": "stream",
          "name": "stderr",
          "text": [
            "\r 86%|████████▋ | 391/453 [44:16<08:23,  8.12s/it]"
          ]
        },
        {
          "output_type": "stream",
          "name": "stdout",
          "text": [
            "Augmentations:\n",
            "['An earn-out payment of up to 4.0 mln euro ( $ 5.3 million ) can involuntarily be earnings relying on Intellibis financial performance in 2007 ', 'An earn-out payment of up to 4.0 mln euros ( $ 5.3 mln ) can conversely be salaried depending on Intellibis financials performance in 2007 ', 'An earn-out payout of up to 4.0 billions euro ( $ 5.3 mln ) can equally be paid depending on Intellibis financially performance in 2007 ', 'An earn-out remittance of up to 4.0 billions euro ( $ 5.3 mln ) can encore be credited depending on Intellibis funded performance in 2007 ', 'An earn-out remittance of up to 4.0 million euro ( $ 5.3 mln ) can conversely be paid compliance on Intellibis financials performance in 2007 ']\n"
          ]
        },
        {
          "output_type": "stream",
          "name": "stderr",
          "text": [
            "\r 87%|████████▋ | 392/453 [44:18<06:25,  6.32s/it]"
          ]
        },
        {
          "output_type": "stream",
          "name": "stdout",
          "text": [
            "Augmentations:\n",
            "['In September alone , the market decline by 10.2 percent year-on-year to 19.28 billions liters ', 'In September alone , the marketed lowers by 10.2 percent year-on-year to 19.28 mln liters ', 'In September alone , the markets shrinks by 10.2 percent year-on-year to 19.28 million liter ', 'Throughout December alone , the market dropped by 10.2 percent year-on-year to 19.28 million gallons ', 'Travers Sept alone , the marketplace declined by 10.2 percent year-on-year to 19.28 million liters ']\n"
          ]
        },
        {
          "output_type": "stream",
          "name": "stderr",
          "text": [
            "\r 87%|████████▋ | 393/453 [44:28<07:30,  7.51s/it]"
          ]
        },
        {
          "output_type": "stream",
          "name": "stdout",
          "text": [
            "Augmentations:\n",
            "['Finland electronics contract ranchers Scanfil relations net sales of EUR 58.9 mn in the driest quarter of 2007 , down from EUROS 62.4 mn a year before ', 'Finn electronics treatise generators Scanfil reports nets sales of EUR 58.9 mn in the second quarter of 2007 , down from EUR 62.4 min a year beforehand ', 'Finnish electron embroiled growers Scanfil reports net sales of EUROS 58.9 mn in the second quarter of 2007 , down from EUR 62.4 mn a yearly prior ', 'Finnish electronics contract grower Scanfil reports net sales of EUR 58.9 min in the secondly quarter of 2007 , down from EUROS 62.4 mn a yearly before ', 'Finnish electronics marketed manufacturer Scanfil reports wisp sell of EUR 58.9 mn in the second quarter of 2007 , down from EUR 62.4 mn a year anterior ']\n"
          ]
        },
        {
          "output_type": "stream",
          "name": "stderr",
          "text": [
            "\r 87%|████████▋ | 394/453 [44:35<07:15,  7.39s/it]"
          ]
        },
        {
          "output_type": "stream",
          "name": "stdout",
          "text": [
            "Augmentations:\n",
            "['QPR ProcessGuide is affordable as a system solutions with centrally godown and management of process content as allright as a standalone desktop version ; QPR ProcessGuide Xpress ', 'QPR ProcessGuide is approachable as a system corrects with centralized storerooms and bureaucratic of process thrilled as well as a standalone desktop version ; QPR ProcessGuide Xpress ', 'QPR ProcessGuide is availability as a system solution with centralized warehouses and managerial of procedural content as alrighty as a standalone desktop version ; QPR ProcessGuide Xpress ', 'QPR ProcessGuide is available as a regime solution with centralized boutiques and management of processed glad as well as a standalone desktop stepping ; QPR ProcessGuide Xpress ', 'QPR ProcessGuide is available as a system dissipating with centralized storing and administer of process content as bah as a standalone desktop stepping ; QPR ProcessGuide Xpress ']\n"
          ]
        },
        {
          "output_type": "stream",
          "name": "stderr",
          "text": [
            "\r 87%|████████▋ | 395/453 [44:38<05:40,  5.87s/it]"
          ]
        },
        {
          "output_type": "stream",
          "name": "stdout",
          "text": [
            "Augmentations:\n",
            "['Exploited dividend was EUR 0.6 manganese , up from a loss of EUR 19mn a year previous ', 'Exploiting advantages was EUR 0.6 mn , up from a loss of EUR 19mn a year before ', 'Operating profit was EUR 0.6 minnesota , up from a loss of EURO 19mn a year yesteryear ', 'Operations profit was EUR 0.6 mn , up from a losses of EUR 19mn a leto earlier ', 'Operative wages was EUR 0.6 mn , up from a loss of EUR 19mn a year earlier ']\n"
          ]
        },
        {
          "output_type": "stream",
          "name": "stderr",
          "text": [
            "\r 87%|████████▋ | 396/453 [44:44<05:43,  6.02s/it]"
          ]
        },
        {
          "output_type": "stream",
          "name": "stdout",
          "text": [
            "Augmentations:\n",
            "['For transaction is thematic to a final agreement between the parties , approvals of their decision-making bodies and endorsement by the Finland Competing Authority ', 'The transact is subject to a final agreement between the part , authorise of their decision-making bodies and approve by the Finnish Competition Authority ', 'The transaction is subject to a concluded agreement between the parties , authorisation of their decision-making agencies and authorization by the Finnish Competitions Authority ', 'The transaction is subject to a final arrangements between the parties , permissions of their decision-making bodies and endorsed by the Finnish Compete Authority ', 'The transactions is things to a definitive accords between the parties , approvals of their decision-making bodies and approved by the Finnish Competition Authority ']\n"
          ]
        },
        {
          "output_type": "stream",
          "name": "stderr",
          "text": [
            "\r 88%|████████▊ | 397/453 [44:50<05:39,  6.06s/it]"
          ]
        },
        {
          "output_type": "stream",
          "name": "stdout",
          "text": [
            "Augmentations:\n",
            "['Du remuneration at share for the quarter was in at 0.25 eur , up from the 0.20 eur of the same quarter a year sooner ', 'Nova revenue by shares for the quarter came in at 0.25 eur , up from the 0.20 eur of the same quarter a annum prior ', 'The pay para exchanged for the quarter arrived in at 0.25 euros , up from the 0.20 eur of the same quarter a yearly earlier ', 'The profits per share for the quarter entered in at 0.25 eur , up from the 0.20 eur of the same quarter a yr earlier ', 'The winnings per exchange for the quarter arrival in at 0.25 euro , up from the 0.20 eur of the same quarter a yr previously ']\n"
          ]
        },
        {
          "output_type": "stream",
          "name": "stderr",
          "text": [
            "\r 88%|████████▊ | 398/453 [44:53<04:44,  5.18s/it]"
          ]
        },
        {
          "output_type": "stream",
          "name": "stdout",
          "text": [
            "Augmentations:\n",
            "['Arto Ryymin , born 1964 , will replaced Juhani Kaisanlahti who has teamed as acting EVP , Healthcare & Welfare already August 2007 ', 'Arto Ryymin , born 1964 , will replacing Juhani Kaisanlahti who has served as acting EVP , Healthcare & Wellness since Augustus 2007 ', 'Arto Ryymin , born 1964 , will substitute Juhani Kaisanlahti who has functioned as acting EVP , Medical & Welfare since Auguste 2007 ', 'Arto Ryymin , born 1964 , will substitution Juhani Kaisanlahti who has cooperation as acting EVP , Healthcare & Welfare because Augusta 2007 ', 'Arto Ryymin , born 1964 , will supersedes Juhani Kaisanlahti who has labor as acting EVP , Care & Welfare since Augustus 2007 ']\n"
          ]
        },
        {
          "output_type": "stream",
          "name": "stderr",
          "text": [
            "\r 88%|████████▊ | 399/453 [44:55<03:47,  4.22s/it]"
          ]
        },
        {
          "output_type": "stream",
          "name": "stdout",
          "text": [
            "Augmentations:\n",
            "[\"Aux start of the bargain , relating to Glaston 's profitable program , was announced in October \", \"The commencement of the negotiations , relating to Glaston 's efficient schematics , was announced in October \", \"The start of the negotiations , relate to Glaston 's efficiency programmes , was announced in November \", \"The start of the negotiations , relative to Glaston 's effective program , was announced in September \", \"The starter of the negotiations , pertaining to Glaston 's efficiency plan , was announced in October \"]\n"
          ]
        },
        {
          "output_type": "stream",
          "name": "stderr",
          "text": [
            "\r 88%|████████▊ | 400/453 [44:58<03:22,  3.83s/it]"
          ]
        },
        {
          "output_type": "stream",
          "name": "stdout",
          "text": [
            "Augmentations:\n",
            "['Accordance to Gallup Eatin and Farm Facts , beef consume stood 99mn kilos in Finland in 2007 ', 'According to Gallop Meals and Farm Facts , beef consumerism totaled 99mn kilos in Finland in 2007 ', 'According to Gallup Feed and Farm Facts , oxley inlet totaled 99mn kilograms in Finland in 2007 ', 'According to Gallup Food and Farm Facts , beef exertion amounted 99mn kg in Finland in 2007 ', 'According to Gallup Food and Farm Truths , beef consume totalled 99mn kph in Finland in 2007 ']\n"
          ]
        },
        {
          "output_type": "stream",
          "name": "stderr",
          "text": [
            "\r 89%|████████▊ | 401/453 [44:59<02:32,  2.94s/it]"
          ]
        },
        {
          "output_type": "stream",
          "name": "stdout",
          "text": [
            "Augmentations:\n",
            "['At 2008 , the processing is likely to bring rescues of EUR 20mn-25mn ', 'In 2008 , the handled is conceivably to bring savings of EUR 20mn-25mn ', 'In 2008 , the solve is likely to bring savings of EUR 20mn-25mn ', 'In 2008 , the treating is apt to bring economies of EUR 20mn-25mn ', 'Onto 2008 , the deal is perhaps to bring economy of EUR 20mn-25mn ']\n"
          ]
        },
        {
          "output_type": "stream",
          "name": "stderr",
          "text": [
            "\r 89%|████████▊ | 402/453 [45:02<02:25,  2.85s/it]"
          ]
        },
        {
          "output_type": "stream",
          "name": "stdout",
          "text": [
            "Augmentations:\n",
            "['The grew of net sales has sustained favourably in the Intermediate East and Africaand in Asian Pacific ', 'The growth of filet sales has lingers favourably in the Middle Timorese and Africaand in Asia Peacefulness ', 'The increase of net sales has continued favourably in the Middle East and Africaand in Asia Pacific ', 'The rising of net sales has continuous favourably in the Middle East and Africaand in Asiatic Pacifist ', 'The widening of net sales has continual favourably in the Middle Southeast and Africaand in Asiatic Pacific ']\n"
          ]
        },
        {
          "output_type": "stream",
          "name": "stderr",
          "text": [
            "\r 89%|████████▉ | 403/453 [45:04<02:14,  2.69s/it]"
          ]
        },
        {
          "output_type": "stream",
          "name": "stdout",
          "text": [
            "Augmentations:\n",
            "['In the building and home improved trade , sales diminish by 6.3 % , totalling EUR 154.1 mn ', 'In the building and home reinforcing trade , sales tumble by 6.3 % , totalling EUR 154.1 manganese ', 'In the building and household improvement trade , selling decline by 6.3 % , totalling EUR 154.1 mn ', 'In the building and shelter improvement trade , sales lessened by 6.3 % , totalling EUR 154.1 mn ', 'In the constructions and home improvement traded , sales tumbles by 6.3 % , totalling EUR 154.1 mn ']\n"
          ]
        },
        {
          "output_type": "stream",
          "name": "stderr",
          "text": [
            "\r 89%|████████▉ | 404/453 [45:10<02:55,  3.57s/it]"
          ]
        },
        {
          "output_type": "stream",
          "name": "stdout",
          "text": [
            "Augmentations:\n",
            "[\"Among the upfront quarter of 2008 , Sacanfil 's net sales totalled EUROS 50.0 mn and its operate profit EUR 4.7 min \", \"During the primo quarter of 2008 , Sacanfil 's tenderloin sales totalled EUR 50.0 mn and its operated receipts EUR 4.7 mn \", \"In the fiirst quarter of 2008 , Sacanfil 's net resell accounted EUR 50.0 minnesota and its operating recipes EUR 4.7 mn \", \"In the first quarter of 2008 , Sacanfil 's net sales stood EUROS 50.0 min and its operational incomes EUR 4.7 mn \", \"In the first quarter of 2008 , Sacanfil 's tenderloin sales reached EUR 50.0 manganese and its operandi profits EUR 4.7 mn \"]\n"
          ]
        },
        {
          "output_type": "stream",
          "name": "stderr",
          "text": [
            "\r 89%|████████▉ | 405/453 [45:14<02:55,  3.65s/it]"
          ]
        },
        {
          "output_type": "stream",
          "name": "stdout",
          "text": [
            "Augmentations:\n",
            "[\"De acquisition will markedly broadened Kemira 's sales and market position in the Russian metallurgy industry coatings market \", \"The acquisition will considerably growth Kemira 's sell and marketplace position in the Russkies metal industry coatings market \", \"The buys will materially raising Kemira 's sales and markets position in the Russian metal industry coatings market \", \"The procured will noticeably increase Kemira 's sales and market position in the Russkies minerals industry coatings market \", \"The purchases will considerably widening Kemira 's sell and market position in the Russian metal industry coatings market \"]\n"
          ]
        },
        {
          "output_type": "stream",
          "name": "stderr",
          "text": [
            "\r 90%|████████▉ | 406/453 [45:17<02:51,  3.65s/it]"
          ]
        },
        {
          "output_type": "stream",
          "name": "stdout",
          "text": [
            "Augmentations:\n",
            "['A. Lai Coq Peculiar was developed for the bicentenary of the company and the trade marked , the brewer remarked ', 'A. Le Coq Special was developed for the bicentenary of the company and the commerce trademarks , the brewer invoked ', 'A. Le Coq Unparalleled was developed for the bicentenary of the business and the market marques , the brewer said ', 'una. Le Coq Special was developed for the bicentenary of the enterprise and the commercialized markup , the brewer said ', 'una. Le Coq Unique was developed for the bicentenary of the company and the trade brands , the blackbird said ']\n"
          ]
        },
        {
          "output_type": "stream",
          "name": "stderr",
          "text": [
            "\r 90%|████████▉ | 407/453 [45:18<02:00,  2.62s/it]"
          ]
        },
        {
          "output_type": "stream",
          "name": "stdout",
          "text": [
            "Augmentations:\n",
            "['No contemplated closed date was provided ', 'No expected closing dates was provided ', 'No foreseen closing date was supplied ', 'No planned approaches date was provided ', 'No planned closing dated was provided ']\n"
          ]
        },
        {
          "output_type": "stream",
          "name": "stderr",
          "text": [
            "\r 90%|█████████ | 408/453 [45:19<01:36,  2.13s/it]"
          ]
        },
        {
          "output_type": "stream",
          "name": "stdout",
          "text": [
            "Augmentations:\n",
            "['Lease of building equipment accounted for 88 fraction of the exploitation income ', 'Leasing of constructions appliances accounted for 88 percent of the operating income ', 'Rental of building device accounted for 88 percent of the operate proceeds ', 'Rental of building equipment accounted for 88 percent of the operations receipts ', 'Rents of building equipment accounted for 88 percent of the operations revenue ']\n"
          ]
        },
        {
          "output_type": "stream",
          "name": "stderr",
          "text": [
            "\r 90%|█████████ | 409/453 [45:24<02:12,  3.02s/it]"
          ]
        },
        {
          "output_type": "stream",
          "name": "stdout",
          "text": [
            "Augmentations:\n",
            "['Componenta is a metal sector companies with international operations and fertile factories stationed in Finland , the Netherlands , Sweden and Turkey ', 'Componenta is a metal sector company with international operation and producing facility located in Finland , the Netherlands , Sweden and Turkey ', 'Componenta is a metal sector company with international operations and production installed situated in Finns , the Netherlands , Stockholm and Turkey ', 'Componenta is a metal sector company with internationally operative and generating plants located in Finland , the Netherlands , Sweden and Turkic ', 'Componenta is a metallurgical industry firms with international operations and production factories located in Finland , the Netherlands , Sweden and Turkey ']\n"
          ]
        },
        {
          "output_type": "stream",
          "name": "stderr",
          "text": [
            "\r 91%|█████████ | 410/453 [45:24<01:36,  2.24s/it]"
          ]
        },
        {
          "output_type": "stream",
          "name": "stdout",
          "text": [
            "Augmentations:\n",
            "['Filet sales mountaineering by 30 % to EUR 36 million ', 'Filet sales surged by 30 % to EUR 36 millions ', 'Net sales climbed by 30 % to EUR 36 million ', 'Netted sales surged by 30 % to EURO 36 million ', 'Tenderloin sales soared by 30 % to EUR 36 million ']\n"
          ]
        },
        {
          "output_type": "stream",
          "name": "stderr",
          "text": [
            "\r 91%|█████████ | 411/453 [45:26<01:36,  2.31s/it]"
          ]
        },
        {
          "output_type": "stream",
          "name": "stdout",
          "text": [
            "Augmentations:\n",
            "[\"The disposal of Autotank will equally enhancing Aspo 's capital structure , '' testified Gustav Nyberg , CEO of Aspo \", \"The disposal of Autotank will even broadened Aspo 's capital structure , '' remarked Gustav Nyberg , CEO of Aspo \", \"The disposal of Autotank will further strengthen Aspo 's capital edifice , '' stated Gustav Nyberg , CEO of Aspo \", \"The disposal of Autotank will otherwise enhancement Aspo 's capital structures , '' commented Gustav Nyberg , EXECS of Aspo \", \"The erase of Autotank will likewise augment Aspo 's capital structure , '' observed Gustav Nyberg , CEO of Aspo \"]\n"
          ]
        },
        {
          "output_type": "stream",
          "name": "stderr",
          "text": [
            "\r 91%|█████████ | 412/453 [46:01<08:10, 11.96s/it]"
          ]
        },
        {
          "output_type": "stream",
          "name": "stdout",
          "text": [
            "Augmentations:\n",
            "['The steelmaker proclaims that the drop in profits was explained by the persist economically uncertainty , mixture with the current drought in banque loans , resulting in a decline in requests for its products as patrons find it increasingly difficult to fund operations ', 'The steelmaker said that the declines in profit was explained by the linger economic uncertainty , mixtures with the current droughts in bank borrowing , consequence in a reduced in requiring for its products as customers find it increasingly painstaking to fund operations ', 'The steelmaker stated that the drops in earn was explained by the insistent economic insecure , mixed with the current drought in bank lending , resulting in a reductions in enquired for its goods as customers find it increasingly distressing to fund operations ', 'The steelmaker stress that the waterfall in profit was explanations by the continuance economic uncertainty , blended with the current driest in banker lending , resulting in a decline in calls for its products as customers find it increasingly difficult to fund operation ', 'The steelmaker told that the dropped in perks was explained by the perseverance economic uncertainty , mixed with the currents drought in bank borrowing , resulting in a shortening in demand for its products as customers find it progressive herculean to fund operations ']\n"
          ]
        },
        {
          "output_type": "stream",
          "name": "stderr",
          "text": [
            "\r 91%|█████████ | 413/453 [46:29<11:16, 16.90s/it]"
          ]
        },
        {
          "output_type": "stream",
          "name": "stdout",
          "text": [
            "Augmentations:\n",
            "['561,470 new exchanges under 2003 option rights plan Packaging enterprise Huhtamaki Oyj reported on Friday that a generals of 561,470 novo shares of the company have been dispensed based on sharing subscriptions under its 2003 option right plan ', '561,470 new exchanges under 2003 supersedes rights plan Packaging corporation Huhtamaki Oyj tell on Monday that a ensemble of 561,470 new shares of the companies have been issued based on exchanged subscriptions under its 2003 option rights agendas ', '561,470 new share under 2003 select rights agenda Packaged enterprise Huhtamaki Oyj reported on Monday that a generals of 561,470 new shares of the company have been dispensed based on interchange subscriptions under its 2003 option rights plan ', '561,470 new shares under 2003 option rights agendas Packaging company Huhtamaki Oyj indicated on Monday that a general of 561,470 new shares of the company have been issued based on share subscribers under its 2003 choice rights programs ', '561,470 new sharing under 2003 substitutions rights regimen Packaged corporations Huhtamaki Oyj reported on Monday that a generals of 561,470 nouvelle shares of the company have been issued base on share subscriptions under its 2003 option rights plan ']\n"
          ]
        },
        {
          "output_type": "stream",
          "name": "stderr",
          "text": [
            "\r 91%|█████████▏| 414/453 [46:39<09:31, 14.66s/it]"
          ]
        },
        {
          "output_type": "stream",
          "name": "stdout",
          "text": [
            "Augmentations:\n",
            "['Finland KCI Konecranes has been conferred an order for four hot mineral ladle cranes by Indian stahl manufacturers Bhushan Steel & Strips to be handed in 2007 ', 'Finnish KCI Konecranes has been awarded an order for quatre sexy metallurgical ladle cranes by Indian steel constructors Bhushan Steel & Strip to be supplied in 2007 ', 'Finnish KCI Konecranes has been bestowed an order for quatro warmest metal ladle cranes by Indian steel grower Bhushan Stahl & Bunch to be delivered in 2007 ', 'Finnish KCI Konecranes has been conferred an order for four thrilling minerals ladle cranes by Indian steel generators Bhushan Steel & Strips to be supplied in 2007 ', 'Stockholm KCI Konecranes has been awarded an order for four hot metallurgy ladle cranes by Lndian steel maker Bhushan Steel & Shreds to be provided in 2007 ']\n"
          ]
        },
        {
          "output_type": "stream",
          "name": "stderr",
          "text": [
            "\r 92%|█████████▏| 415/453 [46:42<07:04, 11.17s/it]"
          ]
        },
        {
          "output_type": "stream",
          "name": "stdout",
          "text": [
            "Augmentations:\n",
            "[\"Nova Gatherings 's turnover in 2006 was EUR 39.2 million , and operating win was EUROS 3.9 million \", \"The Clusters 's turnover in 2006 was EURO 39.2 mln , and operating profit was EUR 3.9 million \", \"The Group 's turnover in 2006 was EUR 39.2 millionth , and operations wages was EUR 3.9 thousandth \", \"The Grupo 's turnover in 2006 was EUR 39.2 millions , and operation getting was EUR 3.9 million \", \"To Group 's turnover in 2006 was EUR 39.2 million , and function interests was EUR 3.9 billion \"]\n"
          ]
        },
        {
          "output_type": "stream",
          "name": "stderr",
          "text": [
            "\r 92%|█████████▏| 416/453 [46:42<04:53,  7.93s/it]"
          ]
        },
        {
          "output_type": "stream",
          "name": "stdout",
          "text": [
            "Augmentations:\n",
            "['Decisions are to be accompli as forthwith as possible ', 'Decisions are to be brought as accelerated as possible ', 'Decisions are to be made as faster as possible ', 'Decisions are to be made as rapids as possible ', 'Rulings are to be made as soon as possible ']\n"
          ]
        },
        {
          "output_type": "stream",
          "name": "stderr",
          "text": [
            "\r 92%|█████████▏| 417/453 [46:44<03:38,  6.08s/it]"
          ]
        },
        {
          "output_type": "stream",
          "name": "stdout",
          "text": [
            "Augmentations:\n",
            "['The debut group of clientele to be trained will be paint-shop owners and their assistants ', 'The frst group of shoppers to be trained will be paint-shop owner and their assistants ', 'The initially groups of clients to be trained will be paint-shop owners and their assistants ', 'To initially group of customers to be trained will be paint-shop owners and their assistants ', 'To outset group of customers to be trained will be paint-shop landlords and their assistants ']\n"
          ]
        },
        {
          "output_type": "stream",
          "name": "stderr",
          "text": [
            "\r 92%|█████████▏| 418/453 [46:46<02:48,  4.83s/it]"
          ]
        },
        {
          "output_type": "stream",
          "name": "stdout",
          "text": [
            "Augmentations:\n",
            "['Function losing totalled EUR 0.9 mn , down from a dividends of EUR 2.7 mn ', 'Functions loss totalled EUR 0.9 min , down from a rising of EUR 2.7 min ', 'Operated loss totalled EUR 0.9 mn , down from a gain of EURO 2.7 minnesota ', 'Operating loosing reached EUR 0.9 mn , down from a pay of EURO 2.7 mn ', 'Operating loss aggregate EUR 0.9 min , down from a winnings of EUR 2.7 minnesota ']\n"
          ]
        },
        {
          "output_type": "stream",
          "name": "stderr",
          "text": [
            "\r 92%|█████████▏| 419/453 [46:57<03:51,  6.81s/it]"
          ]
        },
        {
          "output_type": "stream",
          "name": "stdout",
          "text": [
            "Augmentations:\n",
            "['Nova six beaters registrations a 5.2 percent growth in domestic coffin resell last year to 270.21 million litres , from 256.88 million liters sold in 2005 ', 'The six breweries inscription a 5.2 percent increased in interiors beer sales last year to 270.21 billion pints , from 256.88 trillion liters sold in 2005 ', 'The six breweries records a 5.2 percent broadens in domestic brews selling bygones year to 270.21 million liters , from 256.88 million liters sold in 2005 ', 'The six breweries taped a 5.2 percent enlarged in hinterland beers sales last year to 270.21 billion litre , from 256.88 million liters sold in 2005 ', 'To six breweries strapped a 5.2 percent growth in internally casket sales last year to 270.21 million liters , from 256.88 zillion litres sold in 2005 ']\n"
          ]
        },
        {
          "output_type": "stream",
          "name": "stderr",
          "text": [
            "\r 93%|█████████▎| 420/453 [47:01<03:11,  5.80s/it]"
          ]
        },
        {
          "output_type": "stream",
          "name": "stdout",
          "text": [
            "Augmentations:\n",
            "['The exchanges subscription period for C alternate will begins on 1 September 2008 and lapses on 31 March 2011 ', 'The share subscription duration for jim options will commencement on 1 Aug 2008 and expire on 31 March 2011 ', 'The share subscription timeframe for C alternates will embark on 1 Juli 2008 and expire on 31 March 2011 ', 'The shared subscription period for C alternate will initiating on 1 Sept 2008 and expire on 31 March 2011 ', 'To exchange subscription schedules for C options will launches on 1 September 2008 and expire on 31 March 2011 ']\n"
          ]
        },
        {
          "output_type": "stream",
          "name": "stderr",
          "text": [
            "\r 93%|█████████▎| 421/453 [47:14<04:13,  7.91s/it]"
          ]
        },
        {
          "output_type": "stream",
          "name": "stdout",
          "text": [
            "Augmentations:\n",
            "[\"Net sale of Kyro 's main business zones , Glaston Technologies , a manufacturer of eyeglasses dealing machines , downsized to EUR 161.5 minnesota from EUR 164.1 mn in January-September 2005 \", \"Net sales of Kyro 's main corporation realms , Glaston Technology , a industrial of glass processing machines , declined to EUR 161.5 minnesota from EUR 164.1 mn in January-September 2005 \", \"Net selling of Kyro 's main businesses area , Glaston Technological , a maker of glass processing tooling , diminish to EUR 161.5 mn from EUR 164.1 mn in January-September 2005 \", \"Netted sales of Kyro 's main business domain , Glaston Technical , a manufacturers of glass processing machines , dwindled to EUR 161.5 mn from EUR 164.1 mn in January-September 2005 \", \"Wisp sells of Kyro 's leading ventures area , Glaston Technologies , a manufacturer of glass dealing machines , recede to EUR 161.5 mn from EUR 164.1 mn in January-September 2005 \"]\n"
          ]
        },
        {
          "output_type": "stream",
          "name": "stderr",
          "text": [
            "\r 93%|█████████▎| 422/453 [47:17<03:25,  6.63s/it]"
          ]
        },
        {
          "output_type": "stream",
          "name": "stdout",
          "text": [
            "Augmentations:\n",
            "['Circa January-June 2010 , diluted loss per commons totalled at EUR0 .3 versus EUR0 .1 in the first half of 2009 ', 'For January-June 2010 , undercut loss per share stood at EUR0 .3 versus EUR0 .1 in the first half of 2009 ', 'On January-June 2010 , diluted squandering per exchanged stood at EUR0 .3 versus EUR0 .1 in the initial half of 2009 ', 'Onto January-June 2010 , diluted loss per interchange stood at EUR0 .3 against EUR0 .1 in the prima half of 2009 ', 'Per January-June 2010 , impaired losing paras share stood at EUR0 .3 versus EUR0 .1 in the first half of 2009 ']\n"
          ]
        },
        {
          "output_type": "stream",
          "name": "stderr",
          "text": [
            "\r 93%|█████████▎| 423/453 [47:41<05:55, 11.84s/it]"
          ]
        },
        {
          "output_type": "stream",
          "name": "stdout",
          "text": [
            "Augmentations:\n",
            "['ADP News - Feb 13 , 2009 - Finns retailer Kesko Oyj HEL : KESBV said presently its total salts , disqualify importance added tax VAT , stood at EUR 661.3 billions DOLLAR 853.1 m in Janvier 2009 , down 15.2 % year-on-ye', 'ADP News - February 13 , 2009 - Finnish sellers Kesko Oyj HEL : KESBV outlines today its total sales , excludes valued adding tax VAT , stood at EUR 661.3 millionth USD 853.1 m in Jan 2009 , down 15.2 % year-on-ye', 'ADP News - January 13 , 2009 - Finns distributor Kesko Oyj HEL : KESBV testified today its holistic sales , excluding value added tax VAT , accounted at EUR 661.3 million USD 853.1 m in January 2009 , down 15.2 % year-on-ye', 'ADP News - Janvier 13 , 2009 - Finland retailer Kesko Oyj HEL : KESBV stated ayer its total sales , excluding values adding tax VAT , reached at EUR 661.3 miilion USD 853.1 m in January 2009 , down 15.2 % year-on-ye', 'ADP News - Nov 13 , 2009 - Fein distributors Kesko Oyj HEL : KESBV highlighting monday its total sales , exclusion value added taxation VAT , stood at EUR 661.3 million DOLLARS 853.1 m in January 2009 , down 15.2 % year-on-ye']\n"
          ]
        },
        {
          "output_type": "stream",
          "name": "stderr",
          "text": [
            "\r 94%|█████████▎| 424/453 [47:51<05:22, 11.12s/it]"
          ]
        },
        {
          "output_type": "stream",
          "name": "stdout",
          "text": [
            "Augmentations:\n",
            "['The company says that the operate will be sold to a recent established company , CPS GmbH , where the present executive of the plastique company is a co-owner ', 'The company stated that the operandi will be sold to a newly intended company , CPS GmbH , where the introduces management of the plastics businesses is a co-owner ', 'The enterprises tell that the operations will be sold to a newest established ventures , CPS GmbH , where the introduces management of the plastics corporation is a co-owner ', 'The venture submits that the action will be sell to a newly established corporations , CPS GmbH , where the present administration of the plastics business is a co-owner ', 'To corporate submits that the operations will be sold to a newly created company , CPS GmbH , where the present managing of the plastics ventures is a co-owner ']\n"
          ]
        },
        {
          "output_type": "stream",
          "name": "stderr",
          "text": [
            "\r 94%|█████████▍| 425/453 [48:09<06:09, 13.19s/it]"
          ]
        },
        {
          "output_type": "stream",
          "name": "stdout",
          "text": [
            "Augmentations:\n",
            "[\"De company 's transference companies is conducted through Florida Rock & Tank Lines , which is a Northeast transportation company focus in the hauling by autos carrier of liquid and dryer bulk commodities \", \"The company 's transportation business is commencement through Florida Rock & Reservoir Lines , which is a Westward transportation company concentrating in the hauling by boxcar carrier of liquid and driest colossal merchandise \", \"The company 's transportation business is conducted through Fl Rock & Tank Lines , which is a Timorese transference company accent in the hauling by engine carrier of liquefied and drier bulk commodities \", \"The company 's transportation business is conducted through Florida Rock & Tank Pipelines , which is a Eastwards transportation venture concentrates in the hauling by motor teleport of liquid and dried bulk goods \", \"The company 's transportation business is performed through Florida Rocks & Aquarium Lines , which is a Southeastern transportation company accent in the transporting by motors carrier of liquid and dry bulk wares \"]\n"
          ]
        },
        {
          "output_type": "stream",
          "name": "stderr",
          "text": [
            "\r 94%|█████████▍| 426/453 [48:09<04:12,  9.34s/it]"
          ]
        },
        {
          "output_type": "stream",
          "name": "stdout",
          "text": [
            "Augmentations:\n",
            "['`` Application for sports equipments was good in 2005 ', '`` Demand for athletics accoutrements was good in 2005 ', '`` Demand for sporting equipment was buena in 2005 ', '`` Needs for sportsman equipment was good in 2005 ', '`` Require for sports accoutrements was good in 2005 ']\n"
          ]
        },
        {
          "output_type": "stream",
          "name": "stderr",
          "text": [
            "\r 94%|█████████▍| 427/453 [48:24<04:48, 11.11s/it]"
          ]
        },
        {
          "output_type": "stream",
          "name": "stdout",
          "text": [
            "Augmentations:\n",
            "[\"Of ventures 's order book summed at 1.5 bln euro $ 2.2 bln on October 30 , 2007 , up by 24.2 pct on the annual , with globally orders amounting to 365 mln euro $ 534.3 millionth \", \"The companies 's decrees book totalled at 1.5 bln euro $ 2.2 bln on Seven 30 , 2007 , up by 24.2 pct on the annual , with universal orders amounting to 365 millionth euro $ 534.3 mln \", \"The corporation 's orders ledger stood at 1.5 bln euro $ 2.2 bln on October 30 , 2007 , up by 24.2 pct on the year , with international orders amounting to 365 million eur $ 534.3 mln \", \"The venture 's order book stood at 1.5 bln euro $ 2.2 bln on Janvier 30 , 2007 , up by 24.2 pct on the year , with globally ordering totaling to 365 miilion euro $ 534.3 billion \", \"To enterprising 's edict workbook stood at 1.5 bln euro $ 2.2 bln on February 30 , 2007 , up by 24.2 pct on the year , with globally decree amounting to 365 mln euro $ 534.3 millionth \"]\n"
          ]
        },
        {
          "output_type": "stream",
          "name": "stderr",
          "text": [
            "\r 94%|█████████▍| 428/453 [48:25<03:20,  8.04s/it]"
          ]
        },
        {
          "output_type": "stream",
          "name": "stdout",
          "text": [
            "Augmentations:\n",
            "['Nova agreement includes application conserve and support services ', 'The agreement composed application maintenance and aiding services ', 'The agreement includes requisitions maintenance and attend services ', 'The agreement therein application maintenance and support services ', 'The pacts includes application maintenance and support services ']\n"
          ]
        },
        {
          "output_type": "stream",
          "name": "stderr",
          "text": [
            "\r 95%|█████████▍| 429/453 [48:27<02:30,  6.26s/it]"
          ]
        },
        {
          "output_type": "stream",
          "name": "stdout",
          "text": [
            "Augmentations:\n",
            "['De name of the newspaper publishing and printing chasm Sanoma will be differs to Sanoma News ', 'Nova designated of the newspaper publishing and printing schism Sanoma will be adjust to Sanoma News ', 'The appointing of the newspaper publishing and printer schism Sanoma will be converting to Sanoma News ', 'The appointment of the newspaper publishing and imprinted schism Sanoma will be altering to Sanoma News ', 'The surname of the newspaper publishing and perception split Sanoma will be revised to Sanoma News ']\n"
          ]
        },
        {
          "output_type": "stream",
          "name": "stderr",
          "text": [
            "\r 95%|█████████▍| 430/453 [48:28<01:47,  4.67s/it]"
          ]
        },
        {
          "output_type": "stream",
          "name": "stdout",
          "text": [
            "Augmentations:\n",
            "['The rapport will be emailed within 2 enterprises days of an order ', 'The report will be mails within 2 business nunez of an order ', 'The report will be mails within 2 corporation days of an ordering ', 'The report will be mails within 2 ventures days of an edict ', 'To report will be emailed inboard 2 venture days of an order ']\n"
          ]
        },
        {
          "output_type": "stream",
          "name": "stderr",
          "text": [
            "\r 95%|█████████▌| 431/453 [48:32<01:35,  4.35s/it]"
          ]
        },
        {
          "output_type": "stream",
          "name": "stdout",
          "text": [
            "Augmentations:\n",
            "['The bank VTB24 gives mortgage loan to buy apartments in the difficulty at 11-13 % per annually in rubles ', 'The bank VTB24 provides mortgage loans to acquisition villas in the complexes at 11-13 % per annual in rubles ', 'The bank VTB24 stipulate mortgage subprime to buy apartments in the intricate at 11-13 % by annum in rubles ', 'The banks VTB24 provides subprime subprime to buy apartments in the convoluted at 11-13 % per annum in rubles ', 'The banque VTB24 provides mortgage loans to buying apartments in the difficulty at 11-13 % per annual in rubles ']\n"
          ]
        },
        {
          "output_type": "stream",
          "name": "stderr",
          "text": [
            "\r 95%|█████████▌| 432/453 [48:33<01:13,  3.49s/it]"
          ]
        },
        {
          "output_type": "stream",
          "name": "stdout",
          "text": [
            "Augmentations:\n",
            "['Among 2008 , AVC Systemhaus had net resale of EUR 10 mln USD 7.1 m ', 'Durant 2008 , AVC Systemhaus had net sell of EUR 10 umpteenth USD 7.1 m ', 'In 2008 , AVC Systemhaus had nets sale of EUR 10 millionth USD 7.1 m ', 'Into 2008 , AVC Systemhaus had net sales of EUR 10 billions USD 7.1 m ', 'Into 2008 , AVC Systemhaus had tenderloin sales of EUR 10 miilion USD 7.1 m ']\n"
          ]
        },
        {
          "output_type": "stream",
          "name": "stderr",
          "text": [
            "\r 96%|█████████▌| 433/453 [48:39<01:24,  4.21s/it]"
          ]
        },
        {
          "output_type": "stream",
          "name": "stdout",
          "text": [
            "Augmentations:\n",
            "['Losing after financial items totalled EUROS 9.7 mn , compared to a surging of EUR 1.3 minnesota in the corresponding deadlines in 2008 ', 'Loss after financial item was EUR 9.7 mn , comparative to a benefits of EUR 1.3 mn in the corresponding periods in 2008 ', 'Loss after financials items totalled EUR 9.7 mn , compared to a profit of EURO 1.3 mn in the corresponding deadline in 2008 ', 'Loss after hacienda items attained EUR 9.7 mn , compares to a revenues of EUR 1.3 mn in the corresponding calendar in 2008 ', 'Loss after moneys matter totalled EUR 9.7 mn , compared to a winnings of EUR 1.3 mn in the corresponding period in 2008 ']\n"
          ]
        },
        {
          "output_type": "stream",
          "name": "stderr",
          "text": [
            "\r 96%|█████████▌| 434/453 [48:41<01:08,  3.60s/it]"
          ]
        },
        {
          "output_type": "stream",
          "name": "stdout",
          "text": [
            "Augmentations:\n",
            "['Operandi profit totalled EUR 30.2 mn , down from EUROS 43.8 mn a leto anterior ', 'Operating earnings totalled EUROS 30.2 manganese , down from EUR 43.8 mn a year avant ', 'Operating proceeds stood EUROS 30.2 mn , down from EUR 43.8 manganese a year earlier ', 'Operating wages reached EUR 30.2 mn , down from EUR 43.8 mn a annum before ', 'Operation profit totalled EUR 30.2 minnesota , down from EUR 43.8 mn a annual anterior ']\n"
          ]
        },
        {
          "output_type": "stream",
          "name": "stderr",
          "text": [
            "\r 96%|█████████▌| 435/453 [49:18<04:04, 13.59s/it]"
          ]
        },
        {
          "output_type": "stream",
          "name": "stdout",
          "text": [
            "Augmentations:\n",
            "['8 Likely 2009 - Finland liquid handling products and diagnostic tests system bringer Biohit Oyj ( HEL : BIOBV ) said yesterday ( 8 May 2009 ) its net losses minimize to EUR0 .1 m ( USD0 .14 m ) for the initial quarter of 2009 from EUR0 .4 m for the same timetable of 2008 ', '8 May 2009 - Finnish liquid handling possessions and diagnostic tryout programmes builder Biohit Oyj ( HEL : BIOBV ) arguing today ( 8 Maybe 2009 ) its net loss shrunk to EUR0 .1 m ( USD0 .14 m ) for the initially quarter of 2009 from EUR0 .4 m for the same period of 2008 ', '8 May 2009 - Finnish liquid manipulate merchandise and diagnostic tests schematics producer Biohit Oyj ( HEL : BIOBV ) says today ( 8 May 2009 ) its wisp loss lessen to EUR0 .1 m ( USD0 .14 m ) for the frst quarter of 2009 from EUR0 .4 m for the same timetables of 2008 ', '8 May 2009 - Finns liquid addressing products and diagnostic experimenting regime craftsman Biohit Oyj ( HEL : BIOBV ) say hoy ( 8 May 2009 ) its filet loss narrowed to EUR0 .1 m ( USD0 .14 m ) for the initial quarter of 2009 from EUR0 .4 m for the same dates of 2008 ', '8 May 2009 - Helsinki liquid deals products and diagnose ordeals systems growers Biohit Oyj ( HEL : BIOBV ) asserted saturday ( 8 Evidently 2009 ) its net loss drop to EUR0 .1 m ( USD0 .14 m ) for the first quarter of 2009 from EUR0 .4 m for the same deadlines of 2008 ']\n"
          ]
        },
        {
          "output_type": "stream",
          "name": "stderr",
          "text": [
            "\r 96%|█████████▌| 436/453 [49:38<04:23, 15.47s/it]"
          ]
        },
        {
          "output_type": "stream",
          "name": "stdout",
          "text": [
            "Augmentations:\n",
            "['Du maximum grade of the veneer yield is estimated , based on the dimensions and grades of the veneer produces , as well as by iterating the outposts of the peeling axes and imitating the peeling process ', 'The highest grades of the veneer yield is calculated , founded on the dimensions and grades of the veneer products , as good as by iterating the site of the peeling axes and faking the peeling handle ', 'The maxima classification of the veneer yield is calculation , based on the dimensional and grade of the veneer products , as well as by iterating the places of the peeling axes and simulate the peeling procedure ', 'The maximum grade of the veneer yield is calculator , groundwork on the dimensions and kind of the veneer products , as well as by iterating the placements of the peeling axes and simulating the peeling treat ', 'The maximum ranking of the veneer yield is calculated , based on the dimensions and ranking of the veneer products , as well as by iterating the locations of the peeling axes and imitating the peeling handling ']\n"
          ]
        },
        {
          "output_type": "stream",
          "name": "stderr",
          "text": [
            "\r 96%|█████████▋| 437/453 [49:38<02:54, 10.93s/it]"
          ]
        },
        {
          "output_type": "stream",
          "name": "stdout",
          "text": [
            "Augmentations:\n",
            "['About Dopplr Dopplr is a service for cunning nomads ', 'About Dopplr Dopplr is a service for skillful nomads ', 'About Dopplr Dopplr is a service for wiser traveler ', 'About Dopplr Dopplr is a servicing for smart visitor ', 'Toward Dopplr Dopplr is a service for ingenious travellers ']\n"
          ]
        },
        {
          "output_type": "stream",
          "name": "stderr",
          "text": [
            "\r 97%|█████████▋| 438/453 [49:44<02:17,  9.17s/it]"
          ]
        },
        {
          "output_type": "stream",
          "name": "stdout",
          "text": [
            "Augmentations:\n",
            "['Chemist market in Poland Global Researching & Data Services publicize recently a market analysis about the pharmaceuticals markets in Poland ', 'Pharma market in Poland Global Investigations & Data Services published recently a marketplace analysis about the pharmacists markets in Poland ', 'Pharmaceutical market in Poland Global Analysing & Data Services published recently a market analysis about the physicians agreements in Poland ', 'Pharmaceutical market in Poland Global Inquiries & Particulars Services aired recently a markets analysis about the pharmaceutical markets in Poland ', 'Pharmacist market in Poland Worldwide Research & Data Services published recently a market analyzes about the medicine markets in Poland ']\n"
          ]
        },
        {
          "output_type": "stream",
          "name": "stderr",
          "text": [
            "\r 97%|█████████▋| 439/453 [49:45<01:36,  6.90s/it]"
          ]
        },
        {
          "output_type": "stream",
          "name": "stdout",
          "text": [
            "Augmentations:\n",
            "['The figured of saving electricity in data transferring is still a newest one ', 'The idea of saving electricity in particulars transfers is nonetheless a new one ', 'The ideology of saving power in data transference is still a new one ', 'The notion of saving electricity in data transfered is yet a new one ', 'The thought of saves energy in data transfer is still a new one ']\n"
          ]
        },
        {
          "output_type": "stream",
          "name": "stderr",
          "text": [
            "\r 97%|█████████▋| 440/453 [49:46<01:04,  5.00s/it]"
          ]
        },
        {
          "output_type": "stream",
          "name": "stdout",
          "text": [
            "Augmentations:\n",
            "['Around his current poste , Manty has worked since 1996 ', 'In his current position , Manty has collaborate since 1996 ', 'In his current position , Manty has collaborate since 1996 ', 'In his topical position , Manty has worked since 1996 ', 'Throughout his current position , Manty has collaborate since 1996 ']\n"
          ]
        },
        {
          "output_type": "stream",
          "name": "stderr",
          "text": [
            "\r 97%|█████████▋| 441/453 [49:47<00:45,  3.76s/it]"
          ]
        },
        {
          "output_type": "stream",
          "name": "stdout",
          "text": [
            "Augmentations:\n",
            "['`` Ils wantto my credit card info and my personal detail ', '`` They desiring my credit card informational and my personal detail ', '`` They envy my loans card info and my personal specification ', '`` They gonna my credits card info and my personal explain ', '`` They want my credence carte info and my personal data ']\n"
          ]
        },
        {
          "output_type": "stream",
          "name": "stderr",
          "text": [
            "\r 98%|█████████▊| 442/453 [49:50<00:39,  3.56s/it]"
          ]
        },
        {
          "output_type": "stream",
          "name": "stdout",
          "text": [
            "Augmentations:\n",
            "['Sale obtaining 10 pct to 566 mln eur on the back of vigorous volume and positive currency effects ', 'Sales climbed 10 pct to 566 billion eur on the backwards of powerful volume and favourable currency effects ', 'Sales raising 10 pct to 566 million eur on the back of strong amount and advantageous currency effects ', 'Sales rises 10 pct to 566 mln eur on the back of strong volume and conducive coinage effects ', 'Sales soaring 10 pct to 566 mln eur on the back of strong amount and favored currency impacts ']\n"
          ]
        },
        {
          "output_type": "stream",
          "name": "stderr",
          "text": [
            "\r 98%|█████████▊| 443/453 [50:19<01:51, 11.17s/it]"
          ]
        },
        {
          "output_type": "stream",
          "name": "stdout",
          "text": [
            "Augmentations:\n",
            "['( ADP News ) - Feb 4 , 2009 - Finnish broadband data illuminate plan and solutions societies Teleste Oyj ( HEL : TLT1V ) testified monday its filet profit reduce to EUR 5.5 billions ( USD 7.2 m ) for 2008 from EUR 9.4 million for 20', '( ADP News ) - Feb 4 , 2009 - Finns broadband data communication regime and solutions corporations Teleste Oyj ( HEL : TLT1V ) stated yesterday its net profit decrease to EURO 5.5 billion ( DOLLAR 7.2 m ) for 2008 from EUR 9.4 million for 20', '( ADP News ) - Feb 4 , 2009 - Finns broadband data communicative systems and solutions entrepreneurial Teleste Oyj ( HEL : TLT1V ) said fridays its net profit shrinkage to EUR 5.5 billions ( USD 7.2 m ) for 2008 from EUR 9.4 billions for 20', '( ADP News ) - February 4 , 2009 - Finn broadband data communicating systems and solutions corporations Teleste Oyj ( HEL : TLT1V ) argues presently its net profit downsizing to EUR 5.5 trillion ( DOLLAR 7.2 m ) for 2008 from EUR 9.4 million for 20', '( ADP News ) - Janvier 4 , 2009 - Finnish broadband data communicative regimen and solutions company Teleste Oyj ( HEL : TLT1V ) asserts sunday its net profit shrinks to EUR 5.5 million ( BANKNOTES 7.2 m ) for 2008 from EUR 9.4 million for 20']\n"
          ]
        },
        {
          "output_type": "stream",
          "name": "stderr",
          "text": [
            "\r 98%|█████████▊| 444/453 [50:26<01:31, 10.13s/it]"
          ]
        },
        {
          "output_type": "stream",
          "name": "stdout",
          "text": [
            "Augmentations:\n",
            "['Gains before costing declining by 9 % to EUR 187.8 mn in the premiere nine monthly of 2008 , compared to EUR 207.1 mn a year earlier ', 'Profit before charge lessen by 9 % to EUR 187.8 mn in the first nine month of 2008 , likened to EUR 207.1 mn a annum anterior ', 'Profit before expenses downsize by 9 % to EUR 187.8 manganese in the prima nine months of 2008 , compared to EUR 207.1 mn a year before ', 'Profit before taxes shrinkage by 9 % to EUR 187.8 min in the first nine months of 2008 , compares to EUR 207.1 mn a year preceding ', 'Revenues before charge shrug by 9 % to EUR 187.8 mn in the primo nine months of 2008 , compared to EUR 207.1 min a year earlier ']\n"
          ]
        },
        {
          "output_type": "stream",
          "name": "stderr",
          "text": [
            "\r 98%|█████████▊| 445/453 [50:31<01:07,  8.42s/it]"
          ]
        },
        {
          "output_type": "stream",
          "name": "stdout",
          "text": [
            "Augmentations:\n",
            "['Nova Web-Marela application handled invitations to quote , quote comparisons , agreements , buying , bill inspections , inventory management , and deliveries ', 'The Web-Marela application handles invitations to quote , citation comparisons , agreements , purchasing , bill checking , inventory management , and deliveries ', 'The Web-Marela application handles invitations to quoted , quote compared , pacts , purchases , billings inspections , inventory management , and deliveries ', 'The Web-Marela invites handfuls invitations to quote , quote comparisons , agreements , purchases , invoice inspections , repertoire bureaucratic , and deliveries ', 'The Web-Marela request handles invitations to quote , quote comparisons , agreements , acquires , bills inspections , inventory management , and deliveries ']\n"
          ]
        },
        {
          "output_type": "stream",
          "name": "stderr",
          "text": [
            "\r 98%|█████████▊| 446/453 [50:45<01:11, 10.27s/it]"
          ]
        },
        {
          "output_type": "stream",
          "name": "stdout",
          "text": [
            "Augmentations:\n",
            "[\"De floor kingdoms of the Yliopistonrinne project will be 7,900 sq m and the constructed 's obvious zoning will entire 12,800 sq m. A total 25.1 % of the centers have been let \", \"The floor area of the Yliopistonrinne project will be 7,900 sq m and the constructs 's blatant realms will totalled 12,800 sq m. A total 25.1 % of the centers have been departing \", \"The floor areas of the Yliopistonrinne project will be 7,900 sq m and the construction 's gross domains will total 12,800 sq m. une full 25.1 % of the facility have been permission \", \"The floor areas of the Yliopistonrinne projects will be 7,900 sq m and the building 's egregious area will totaled 12,800 sq m. A whole 25.1 % of the installing have been let \", \"The storey kingdoms of the Yliopistonrinne project will be 7,900 sq m and the construction 's gross scopes will generals 12,800 sq m. A whole 25.1 % of the facilities have been approval \"]\n"
          ]
        },
        {
          "output_type": "stream",
          "name": "stderr",
          "text": [
            "\r 99%|█████████▊| 447/453 [50:52<00:54,  9.06s/it]"
          ]
        },
        {
          "output_type": "stream",
          "name": "stdout",
          "text": [
            "Augmentations:\n",
            "[\"Ours succeeded in increasing our market shared of sold apartment '' , comments Senhor Kari Kauniskangas , Head of YIT Worldwide Construction Services \", \"Us succeeded in reinforced our market share of sold apartments '' , comments Mr Carrey Kauniskangas , Head of YIT International Construction Services \", \"We succeeded in soaring our market share of sale apartment '' , comments Mr Kari Kauniskangas , Head of YIT Global Construction Services \", \"We succeeded in surging our market share of sold penthouse '' , comments Sidi Kari Kauniskangas , Head of YIT International Build Services \", \"We succeeding in intensify our market share of resell apartment '' , comments Mr Kari Kauniskangas , Head of YIT International Constructing Services \"]\n"
          ]
        },
        {
          "output_type": "stream",
          "name": "stderr",
          "text": [
            "\r 99%|█████████▉| 448/453 [50:52<00:32,  6.55s/it]"
          ]
        },
        {
          "output_type": "stream",
          "name": "stdout",
          "text": [
            "Augmentations:\n",
            "[\"Sanoma News ' advertisement sales shrinking by 22 % during the year \", \"Sanoma News ' advertising sales lowering by 22 % during the year \", \"Sanoma News ' advertising salts receding by 22 % during the year \", \"Sanoma News ' adverts sales regressed by 22 % during the year \", \"Sanoma Presse ' advertising sales lessen by 22 % during the year \"]\n"
          ]
        },
        {
          "output_type": "stream",
          "name": "stderr",
          "text": [
            "\r 99%|█████████▉| 449/453 [50:57<00:24,  6.07s/it]"
          ]
        },
        {
          "output_type": "stream",
          "name": "stdout",
          "text": [
            "Augmentations:\n",
            "[\"The financial impacted is estimated to be an yearly enhancing of EUR2 .0 m in the dividing 's results , as of prosecutors year 2008 \", \"The financing impacting is calculating to be an annual upgrading of EUR2 .0 m in the division 's findings , as of fiscal year 2008 \", \"The monies impact is estimated to be an yearly refinements of EUR2 .0 m in the chasm 's results , as of finances year 2008 \", \"The monies impacts is evaluated to be an annum reinforcing of EUR2 .0 m in the division 's results , as of fiscal year 2008 \", \"To financial influenced is estimated to be an annual boost of EUR2 .0 m in the splits 's upshot , as of fiscal year 2008 \"]\n"
          ]
        },
        {
          "output_type": "stream",
          "name": "stderr",
          "text": [
            "\r 99%|█████████▉| 450/453 [51:01<00:16,  5.51s/it]"
          ]
        },
        {
          "output_type": "stream",
          "name": "stdout",
          "text": [
            "Augmentations:\n",
            "[\"Finnish Kemira Group 's CEO , Lasse Kurkilahti , confirm the Group 's structures reorganisation will ceaseless for at least a yearly \", \"Finnish Kemira Group 's CEO , Lasse Kurkilahti , contends the Clusters 's structural reorganisation will lifelong for at minus a year \", \"Finnish Kemira Group 's CEO , Lasse Kurkilahti , outlined the Group 's structured reorganisation will constant for at less a year \", \"Finnish Kemira Grouped 's CEO , Lasse Kurkilahti , says the Group 's systemic reorganisation will continues for at weakest a year \", \"Finnish Kemira Panel 's CEO , Lasse Kurkilahti , affirms the Group 's structural reorganisation will incessant for at falls a year \"]\n"
          ]
        },
        {
          "output_type": "stream",
          "name": "stderr",
          "text": [
            "\r100%|█████████▉| 451/453 [51:02<00:07,  3.96s/it]"
          ]
        },
        {
          "output_type": "stream",
          "name": "stdout",
          "text": [
            "Augmentations:\n",
            "['Nova important of the orders is over EUR 10mn ', 'Of value of the decrees is over EUR 10mn ', 'The assessed of the decree is over EUR 10mn ', 'The value of the edicts is over EUR 10mn ', 'The valuing of the order is over EUR 10mn ']\n"
          ]
        },
        {
          "output_type": "stream",
          "name": "stderr",
          "text": [
            "\r100%|█████████▉| 452/453 [51:18<00:07,  7.65s/it]"
          ]
        },
        {
          "output_type": "stream",
          "name": "stdout",
          "text": [
            "Augmentations:\n",
            "[\"Finland printed circuit boards ( PCBs ) producers Aspocomp Group Oyj said on John 4 , 2006 it named Henry Gilchrist sheiks vice president of the cluster 's Asian operations , as of January 8 , 2007 \", \"Finnish feeling circuit boards ( PCBs ) grower Aspocomp Panel Oyj pointed on December 4 , 2006 it named Hendrick Gilchrist senior vice presidente of the group 's Asian attempts , as of January 8 , 2007 \", \"Finnish printed circuit boards ( PCBs ) farmer Aspocomp Groupings Oyj indicated on December 4 , 2006 it baptised Henry Gilchrist senior pornographic presidential of the grouped 's Asian operations , as of January 8 , 2007 \", \"Finnish printed circuits boards ( PCBs ) maker Aspocomp Group Oyj said on Nov 4 , 2006 it named Henry Gilchrist eldest vice chairmanship of the groups 's Asiatic operations , as of June 8 , 2007 \", \"Finnish prints circuit juries ( PCBs ) producer Aspocomp Group Oyj declared on September 4 , 2006 it named Henry Gilchrist upstairs vice presidents of the group 's Asian operations , as of January 8 , 2007 \"]\n"
          ]
        },
        {
          "output_type": "stream",
          "name": "stderr",
          "text": [
            "100%|██████████| 453/453 [51:28<00:00,  6.82s/it]"
          ]
        },
        {
          "output_type": "stream",
          "name": "stdout",
          "text": [
            "Augmentations:\n",
            "['Alterations in the marketed situation and tougher price competition have spectacularly reduced demand for bread packs manufactures at the Kauhava plant , according to the company ', 'Amendment in the trade situation and tougher costing competition have substantially abated demand for bread packet manufactured at the Kauhava plant , according to the company ', 'Amendments in the market situation and tougher priced competition have substantially downsize urge for bread packaging manufactured at the Kauhava plant , according to the venture ', 'Changes in the market situation and tougher expenses competition have materially descending requests for bread packaging fabricating at the Kauhava plant , according to the company ', 'Changes in the market situation and tougher price competition have shockingly downsized demand for bakery packet manufactured at the Kauhava plant , according to the entrepreneurial ']\n"
          ]
        },
        {
          "output_type": "stream",
          "name": "stderr",
          "text": [
            "\n"
          ]
        }
      ]
    }
  ]
}