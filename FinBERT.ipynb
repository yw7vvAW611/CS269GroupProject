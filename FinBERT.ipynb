{
 "cells": [
  {
   "cell_type": "markdown",
   "id": "2eb75d10",
   "metadata": {},
   "source": [
    "# FinBERT With Headlines"
   ]
  },
  {
   "cell_type": "code",
   "execution_count": 1,
   "id": "2e30938d",
   "metadata": {},
   "outputs": [
    {
     "data": {
      "text/html": [
       "<div>\n",
       "<style scoped>\n",
       "    .dataframe tbody tr th:only-of-type {\n",
       "        vertical-align: middle;\n",
       "    }\n",
       "\n",
       "    .dataframe tbody tr th {\n",
       "        vertical-align: top;\n",
       "    }\n",
       "\n",
       "    .dataframe thead th {\n",
       "        text-align: right;\n",
       "    }\n",
       "</style>\n",
       "<table border=\"1\" class=\"dataframe\">\n",
       "  <thead>\n",
       "    <tr style=\"text-align: right;\">\n",
       "      <th></th>\n",
       "      <th>id</th>\n",
       "      <th>sentence</th>\n",
       "      <th>snippets</th>\n",
       "      <th>target</th>\n",
       "      <th>sentiment_score</th>\n",
       "      <th>aspects</th>\n",
       "    </tr>\n",
       "  </thead>\n",
       "  <tbody>\n",
       "    <tr>\n",
       "      <th>0</th>\n",
       "      <td>1</td>\n",
       "      <td>Royal Mail chairman Donald Brydon set to step ...</td>\n",
       "      <td>['set to step down']</td>\n",
       "      <td>Royal Mail</td>\n",
       "      <td>-0.374</td>\n",
       "      <td>['Corporate/Appointment']</td>\n",
       "    </tr>\n",
       "    <tr>\n",
       "      <th>1</th>\n",
       "      <td>2</td>\n",
       "      <td>Stakes High for AstraZeneca Heart Drug Facing ...</td>\n",
       "      <td>['Facing Tough Competition']</td>\n",
       "      <td>AstraZeneca</td>\n",
       "      <td>-0.240</td>\n",
       "      <td>['Corporate/Risks']</td>\n",
       "    </tr>\n",
       "    <tr>\n",
       "      <th>2</th>\n",
       "      <td>3</td>\n",
       "      <td>UPDATE 1-Dairy Crest loses a third of Morrison...</td>\n",
       "      <td>['Crest loses a third of Morrisons milk contra...</td>\n",
       "      <td>Morrisons</td>\n",
       "      <td>-0.161</td>\n",
       "      <td>['Corporate/Sales/Failed Contract Discussion']</td>\n",
       "    </tr>\n",
       "    <tr>\n",
       "      <th>3</th>\n",
       "      <td>4</td>\n",
       "      <td>Insight hires Aviva's David Hillier for multi-...</td>\n",
       "      <td>['hires Aviva's David Hillier for multi-asset ...</td>\n",
       "      <td>Insight</td>\n",
       "      <td>0.137</td>\n",
       "      <td>['Corporate/Appointment/Executive Appointment']</td>\n",
       "    </tr>\n",
       "    <tr>\n",
       "      <th>4</th>\n",
       "      <td>5</td>\n",
       "      <td>Primark racks up a happy Christmas after stron...</td>\n",
       "      <td>['after strong sales']</td>\n",
       "      <td>Primark</td>\n",
       "      <td>0.704</td>\n",
       "      <td>['Corporate/Sales']</td>\n",
       "    </tr>\n",
       "  </tbody>\n",
       "</table>\n",
       "</div>"
      ],
      "text/plain": [
       "   id                                           sentence  \\\n",
       "0   1  Royal Mail chairman Donald Brydon set to step ...   \n",
       "1   2  Stakes High for AstraZeneca Heart Drug Facing ...   \n",
       "2   3  UPDATE 1-Dairy Crest loses a third of Morrison...   \n",
       "3   4  Insight hires Aviva's David Hillier for multi-...   \n",
       "4   5  Primark racks up a happy Christmas after stron...   \n",
       "\n",
       "                                            snippets       target  \\\n",
       "0                               ['set to step down']   Royal Mail   \n",
       "1                       ['Facing Tough Competition']  AstraZeneca   \n",
       "2  ['Crest loses a third of Morrisons milk contra...    Morrisons   \n",
       "3  ['hires Aviva's David Hillier for multi-asset ...      Insight   \n",
       "4                             ['after strong sales']      Primark   \n",
       "\n",
       "   sentiment_score                                          aspects  \n",
       "0           -0.374                        ['Corporate/Appointment']  \n",
       "1           -0.240                              ['Corporate/Risks']  \n",
       "2           -0.161   ['Corporate/Sales/Failed Contract Discussion']  \n",
       "3            0.137  ['Corporate/Appointment/Executive Appointment']  \n",
       "4            0.704                              ['Corporate/Sales']  "
      ]
     },
     "execution_count": 1,
     "metadata": {},
     "output_type": "execute_result"
    }
   ],
   "source": [
    "import pandas\n",
    "\n",
    "headline_df = pandas.read_csv(\"dataset/headline_train.csv\")\n",
    "headline_df.head(5)"
   ]
  },
  {
   "cell_type": "code",
   "execution_count": 2,
   "id": "9687a4c4",
   "metadata": {},
   "outputs": [
    {
     "name": "stdout",
     "output_type": "stream",
     "text": [
      "[\"Royal Mail 'breached competition law' over delivery service changes, Ofcom claims\", \"Despite sales growth, UK's Tesco cautions recovery to be bumpy\", 'U.S. Debt Lures Schroders as ECB Depresses Rates', \"Britain's FTSE falls back with Ashtead, commodities under pressure\", 'ARM Holdings plc Partners With International Business Machines Corp. To Drive ...', \"GE to Sell Majority Stake in Bank BPH's Core Bank to Alior Bank\", \"BG Group Still Happy With Shell's $70 Billion Offer\", 'RPT-Old Mutual Q1 gross sales beat forecasts, up 18 pct', 'Royal Mail turnaround proving expensive in tough UK market', \"UPDATE 3-Auto Trader shares leap in UK's biggest private equity-backed listing\", 'Rolls-Royce Wins $9.2 Billion Order From Emirates Airline', 'HSBC appoints business leaders to board', 'CompaniesTravis Perkins lifts dividend, earnings rise 15%', 'InterContinental Hotels Group share price climbs on $1.5bn special dividend', 'ARM Royalties Accelerate as Smartphone Market Regains Strength', 'BHP Billiton posts big loss, slashes dividend', \"L&G completes UK's largest medically underwritten bulk pension risk deal\", 'GlaxoSmithKline targets growth across units, scraps ViiV IPO', 'Aviva shuts Friends Life head office in rapid integration move', 'Shell share price: Standard Life announce position against BG acquisition', 'CEOs of BPM, UBI meet Italy econ minister as M&A talk heats up', \"CRH's concrete bid for Holcim Lafarge assets\", 'Passengers rise at EasyJet and Aer Lingus', \"Intertek swings to Â£347 mln loss on oil's slump\", 'S&P downgrades Barclays and RBS on government bailout fears', 'Market Report: Eight-day rally ends for FTSE 100 and Standard Chartered', \"Britain's FTSE outperforms Europe, Royal Mail and Tesco rise\", 'Tullow Oil Suspends Dividend Amid Oil Price Fall', 'Entertainment One dispels ITV takeover rumours', 'AstraZeneca weighing up Acerta bid to secure blood cancer drug', 'EU regulator backs approval for GSK injectable asthma drug', 'AstraZeneca profit down as sales of stalwarts fade', 'Relief for Lewis as Tesco sees sales grow for first time in a year', 'Johnson Matthey profit falls but dividend rises', 'Morrisons book second consecutive quarter of sales growth', 'Aspen to Buy Anaesthetics From AstraZeneca for $520 Million', \"Sainsbury's says to outperform rivals in tough market\", 'Tesco sells Blinkbox and broadband service to TalkTalk', 'U.K. Stocks Little Changed Near Record as Barclays, Shell Fall', \"Japan's Nikkei lands Financial Times in $1.3 billion deal\", \"Are ARM Holdings plc, Domino's Pizza Group plc and ASOS plc 3 must-have growth stocks?\", 'European stocks hover near 3-week low, Dialog and BHP slump', 'Shell and BG Shareholders to Vote on Deal at End of January', 'LSE gets Hong Kong regulatory nod to HK firms to become LSE members', 'Shire to buy NPS for $5.2 billion to boost rare disease drugs', \"CompaniesAB InBev signals it won't go hostile for SABMiller\", 'Investors Remain Skeptical About Shell-BG Deal', 'Shire Sees Baxalta Deal Closing as Expected After New Rules', 'AstraZeneca sells Caprelsa rights to Sanofi unit', 'Oil majors like Royal Dutch Shell, Chevron, BP fail to find reserves to counter ...', 'Royal Mail chairman Donald Brydon set to step down', \"Spain's Caixabank launches new takeover bid for Banco BPI\", 'Tesco shares jump 6% after Christmas sales beat expectations', 'Sainsbury sales slip again as price pressures take a toll', 'G4S sees profits rise but UK contract problems remain', 'PRESS: Serco Set To Appoint Roy Gardner, Ex-Centrica, As Chairman - FT', 'Rio Tinto swings to loss, drops dividend policy', \"Britain's FTSE gains, Land Securities up after dividend hike\", 'AstraZeneca And Daiichi Sankyo To Jointly Commercialise MOVANTIK In The US', 'London Stock Exchange â€“ Deutsche Boerse merger under threat from Brexit', 'Johnson Matthey revs up on clean air drive', 'Borealis Infrastructure putting together new Severn Trent bid', 'UPDATE 1-Dairy Crest loses a third of Morrisons milk contract', 'Morrisons and Debenhams surprise City with Christmas bounce back', 'Is It Worth Investing In Tesco PLC And Prudential plc Now?', \"Should you buy Associated British Foods plc, Great Portland Estates plc and Dunelm Group plc following today's news?\", \"BRIEF-Legal & General's retirement business books 4 billion stg H1 sales\", 'Diageo sales disappoint as currency and comparatives leave bitter taste', 'SABMiller buys Meantime to quench thirst for craft beer', 'AstraZeneca suffers setback after drug fails to treat eye cancer', 'FTSE edges up as investors cheer Kingfisher results', \"AstraZeneca's MedImmune Inks Licensing Deal With Omnis Pharmaceuticals\", 'European shares plunge, roiled by BHP and oil; hopes turn to ECB', 'CompaniesCar insurer Hastings Group driving Â£180m IPO', \"Barclays PLC & Lloyds Banking Group PLC Are The 2 Banks I'd Buy Today\", 'CompaniesTesco off to a bad start over Xmas â€“ Kantar', 'FDA approves AstraZeneca drug for advanced lung cancer', 'AB InBev offers SABMiller $3 billion breakup fee', 'UPDATE 3-BP settles oil spill-related claims with Halliburton, Transocean', 'TalkTalk hires BAE Systems to investigate cyber attack', \"Tesco share price dips as Blinkbox Books closes ending supermarket's digital ...\", 'Hargreaves Lansdown bucks weak markets to see assets rise 2.6 percent', 'MarketsBP promotes upstream boss to deputy CEO', 'Is Trouble Brewing At Legal & General Group Plc And Aviva plc?', 'Petrofac share price rises despite Â£30m costs on North Sea project', 'Aviva, M&G suspend property funds as investors panic', 'FTSE falls to 3-month low on Greek debt concerns, easyJet skids', \"Greene King's third quarter sales boosted by festive season\", 'Barclays poised to replace Sir Mike Rake as he heads for exit', \"RSA Insurance Hires Towergate's Egan as Chief Financial Officer\", 'G4S slides on balance sheet worries', 'Barclays Bonds Rise as Lender Cuts Dividends to Shore Up Capital', \"AstraZeneca's Lung Cancer Drug Tagrisso Gets FDA Approval\", 'Ocwen Reaches Settlement With California Regulator', 'Glencore slumps 25 pct as debt fears grow', 'UPDATE 1-Nomura, RBS must pay $806 mln in mortgage bond case-US judge', \"Britain's FTSE gets lift from Prudential results\", 'Standard Chartered lags on capital worries', 'Builder Persimmon hails 6% rise in house sales', 'BRIEF-Aviva aims to increase dividend pay-out ratio to 50 pct in 2017', 'UPDATE 1-Pearson expects to grow this year after solid end to 2014', \"Sainsbury's, Asda, Tesco and Morrisons will all cut petrol prices as oil falls ...\", 'Johnson Matthey share price slumps as company posts full-year results', 'Keith Skeoch to step up as David Nish quits as chief executive of Standard Life', 'CompaniesHoward Davies appointment as RBS director delayed', 'GSK joins China trade push as UK trumpets healthcare deals', 'Stakes High for AstraZeneca Heart Drug Facing Tough Competition', \"Retailers Kingfisher and Sports Direct rise in Britain's share index\", \"OCBC to Buy Barclay's Wealth Management Unit in Singapore, Hong Kong\", \"FDA Approves AstraZeneca's Iressa As Lung Cancer Treatment\", 'UPDATE: CIB, Legal & General Sell Egyptian Life Joint Venture To AXA', 'Sainsbury sells unit to LloydsPharmacy', 'AB InBev looks to win over SABMiller investors', 'CRH adds CR Laurence to acquisitions tally for $1.3bn', 'News FeedFTSE 100 movers: LSE surges as ICE says mulling offer; Ashtead and Barclays tank', 'ICE Said to Start Lining Up Financing for LSE Bidding War', 'Ruling sets lower limit on potential fine for BP', \"Tesco PLC's Recovery Continues With A Â£250m Cash Infusion\", 'BP, Statoil, to Withdraw Staff From Algeria Following Rocket Attack', 'Royal Dutch Shell profit rises; dividend up 4%', 'AB InBev to sell more SAB assets as seeks EU deal approval', \"Standard Chartered's Shares Plunge 7% After Fitch Downgrade\", 'CompaniesNew Aggreko CEO to reshape business, strip costs', 'Crown Castle buys Tower Development Corp for $461 million', \"Aldi and Lidl expansion plans speed ahead as Tesco, Sainsbury's, Morrisons ...\", \"Doubts grow over GlaxoSmithKline's $6 bln capital return plan\", 'CompaniesActelion shares hit record on Shire takeover talk', 'Zurich Insurance Considering Offer for UK Rival RSA Insurance', 'Companies Thetrainline.com announces arrival of London IPO', 'UPDATE 1-Lloyds to cut 945 jobs as part of 3-year restructuring plan', 'FTSE 100 drops 2.5 pct on Glencore, metals price fears', 'AstraZeneca diabetes drug combination faces delay after FDA rebuff', 'Legal & General arm buys 50 pct stake in MediaCityUK in Manchester', 'RBS will reportedly appoint Howard Davies as its next chairman', 'Kingfisher takeover of Mr Bricolage could hit a brick wall', 'Travis Perkins Hikes Dividend 20% As Profit And Revenue Rise', 'Tesco sales recover as focus returns to core business', \"Tesco closes in on new chairman with Dixons Carphone's John Allan in the frame\", \"ITV share price jumps on report of Comcast's NBCUniversal bidding to takeover ...\", 'FTSE led lower by M&S, GlaxoSmithKline', 'UPDATE 1-AstraZeneca buys ZS Pharma for $2.7 billion, pips Actelion', 'LSE-Deutsche BÃ¶rse dealmakers wrong to ignore Brexit risk', 'Morrisons finance chief to fill gap as CEO leaves early', 'GKN to buy Fokker Technologies for 706 mln euros', 'BHP Billiton share price: Brazil to sue Samarco for Â£3.5bn', 'Tesco breaks its downward slide by cutting sales decline in half', 'Diageo Shares Surge on Report of Possible Takeover by Lemann', 'Should You Follow Berkshire Hathaway Into Apple Stock?', \"UPDATE 5-SABMiller rejects AB InBev's $104 bln takeover approach\", \"Tesco criticised for 'disgraceful' advert showing domestic worker being slapped\", 'FDA panel backs safety updates for AstraZeneca, Takeda drugs', 'NYSE owner ICE may gatecrash Deutsche Boerse-LSE merger', 'Glencore slumps 30 percent as debt fears grow', \"Insight hires Aviva's David Hillier for multi-asset team\", 'AstraZeneca Explores Potential Deal With Acerta for Cancer Drug', \"Asahi could be about to snap up more of SABMiller's beers ahead of AB InBev sale\", 'Shell challenges Exxon dominance with 47 billion-pound bid for BG', 'Centrica extends gas deals with Gazprom, Statoil', \"Shell's $70 Billion BG Deal Meets Shareholder Skepticism\", 'Standard Chartered Shifts Emerging-Markets Strategy After Losses', 'GlaxoSmithKline set to complete $20 billion Novartis asset swap next week', 'Industry NewsWolseley confident in reslilience amid mixed markets', \"Buffett's Company Reports 37 Percent Drop in 2Q Earnings\", \"BAE Systems's sales boosted by European Typhoon and currencies\", 'Shire share price under pressure after $32bn Baxalta deal', 'Hargreaves Lansdown share price falls as costs mount - although pensions ...', 'Standard Chartered, RBS Escape Capital Raising in Stress Test', 'BPI Says Caixabank, Isabel dos Santos Reach Agreement Over Angola Exposure', 'Miners Meltdown as BHP to Rio Tinto Sink in Commodities Rout', 'Eli Lilly & Co. (LLY) Has Broken Out To A New High On AstraZeneca Collaboration', 'Copper market may get a 2003-style supply shock from Glencore closures', 'US sanctions put Gazprom-Shell alliance plans in jeopardy', 'British American Tobacco drops and sues PwC over pollution scandal', 'Tesco share price steady as analysts weigh in on results', 'Glencore fight back over debt fears lifts shares', 'Irish housebuilder Cairn Homes plans London listing', 'Shire CEO steps up drive to get Baxalta board talking', 'Lloyds to cut 945 jobs as part of three-year restructuring strategy', 'CORRECTED-Shire to buy Dyax for about $5.9 bln', 'Aviva promises higher dividends to boost flagging share price', 'Germanwings disaster will not affect image of budget air travel - easyJet', 'AB InBev ups offer for SABMiller as deadline looms', 'UPDATE: Persimmon Profit Up Strongly, Outlook Positive', 'Verizon and AT&T accused of hurting rivals', 'Bunzl Lifts Dividend Again As Acquisitions Continue To Boost Profits', 'Shell to buy BG Group in $69.7 billion takeover', 'AstraZeneca bags another cancer drug deal, this time with Inovio', 'Shire says internal synergy goals from Baxalta deal higher', \"Whitbread boss Andy Harrison defends sales fall as 'just a blip'\", 'CompaniesKingfisher bid for Mr Bricolage runs into trouble', \"London Stock Exchange seals Â£22 billion merger with Germany's Deutsche BÃ¶rse\", \"New Morrisons duo get former boss's support to diffuse investor tension\", 'Sophos aims to raise $100m in London IPO', 'Rolls-Royce to Ensure Compliance After Petrobras Bribery Report', 'AstraZeneca Teams With Daiichi Sankyo To Sell Movantik In US', 'Legal & General share price: Finance chief to step down', \"RBS Pays $1.7 Billion to Scrap U.K. Treasury's Dividend Rights\", \"UK's FTSE has worst day so far in 2015 as BG and Prudential fall\", 'Old Mutual First-Quarter Sales Up 18% Buoyed by Emerging Markets', 'Intertek Group announces strategic update outlining its plan', 'Carnival Corporation and China Merchants Group Sign Memo of Understanding ...', 'Unilever profit rises despite sales slump in China', 'Nine banks including Barclays, Citi, agree to pay $2 billion to settle forex ...', 'Novartis buys remaining rights to GSK treatment in deal up to $1 billion', 'Ackman, in email, says supports Valeant CEO Pearson', 'Reed Elsevier share price slides on underwhelming full-year results', 'Analyst Views: Astrazeneca shares have seen recent volatility; what will 2015 ...', 'HSBC Says Unit to Book $585 Million Charge on Settlement', 'U.K. Stocks Resume Gains to Rally to Record; CRH, Tullow Climb', \"Buffett's Berkshire builds Deere stake, dumps Exxon\", 'SABMiller revenue hit by weaker EM currencies', 'Tesco sales rise shows tentative recovery continues', \"Glencore chief blames rivals' overproduction for share price fall\", \"EXCLUSIVE-BP, China's CNPC to unveil oil alliance - sources\", \"Retail giant Kingfisher reports 'solid' start to the year\", 'Arm slammed by handset sales outlook', 'Valeant Said to Name New CEO With Pearson Still Hospitalized', \"WPP wins race for 'programmatic buying' agency Essence Digital\", 'UPDATE 3-Ex-Barclays director accused by US of illegal tips to plumber', \"Britain's FTSE bounces back, Mondi and Barratt lead\", \"FastJet slams EasyJet founder Stelios for going public, is 'taking legal advice' over letter about contractual ...\", \"Warren Buffett defends Berkshire Hathaway's conglomerate structure\", 'FTSE rallies off three-month low, boosted by StanChart, Sainsbury', 'Tesco share price down as grocer faces SFO investigation outcome', 'AstraZeneca to Pay Inovio Up to $700 Million for Cancer Drug', 'Whitbread Profit Up As Sales Continue To Rise, Looking For New CEO', \"Glaxo's ViiV Healthcare Signs China Manufacturing Deal With Desano\", \"AB InBev to Sell SABMiller Stake in China's Snow Beer\", 'Dixons Carphone profit boost on strong sales', 'HSBC shakes up board with two new business chiefs, three departures', 'Whitbread buys 49% stake in Pure food chain', 'Kinder Morgan and BP Form Joint Venture Limited Liability Company to Purchase ...', 'Berkshire seeks to boost its Wells Fargo stake above 10 percent', \"Japan's Asahi to submit bid next week for SABMiller's Grolsch and Peroni - Yomiuri\", 'Aviva Fined $27 Million by U.K. Regulator Over Fee Failings', \"Mylan Appoints Ranjan Ray Chaudhuri as Global Commercial Lead for Mylan's Over ...\", 'StanChart and RBS struggle in Bank of England stress tests', \"ITV to pursue takeover of Canada's Entertainment One: Bloomberg\", 'France raises concerns over proposed LSE-Deutsche Boerse deal', 'Drugmaker Shire to buy Baxalta for $32 billion after 6-month pursuit', 'Balfour Beatty plc Set To Reinstate Dividend (And Rival National Grid plc And Centrica PLC Once More?)', 'METALS-Zinc surges 12 pct after Glencore cuts output, fuelling metals rally', 'Tesco sells half of stake in ecommerce site Lazada to Alibaba for Â£90m', 'After Barclays and Bank of America, Citigroup has blockchain in sight', 'Tesco shareholders back ITV head for chairman', 'Tesco set to sell Kipa, Giraffe businesses - Sky News', \"Britain's FTSE forges ahead as Shire surges\", 'Anheuser-Busch InBev Increases Offer for Rival SABMiller', \"Merged LSE and Deutsche BÃ¶rse would be led by Germany's Kengeter\", 'UPDATE 1-SABMiller 2nd-quarter underlying sales rise, forex impacts margins', 'BG Group appoints new CEO one month early', 'Tata Steel working with StanChart for UK unit sale - source', '2 Turnaround Buys For 2016? BHP Billiton plc And Home Retail Group Plc', 'MillerCoors Board Names Gavin Hattersley Interim CEO', 'AstraZeneca share price: Acerta deal pays off with orphan drug status', 'CompaniesMeggitt profits hit by weak energy and military markets', 'RBS chairman admits surprise at size of regulatory penalties', 'AB InBev approaches SABMiller to explore $250bn tie-up', 'Primark racks up a happy Christmas after strong sales', \"Kraft, Cadbury's and Britvic in Total Recall: how pulling a product affects profit\", 'GlaxoSmithKline share price slips as FDA okays asthma therapy only for adults', 'Tesco share price jumps as Q3 sales top estimates', 'Amazon to attack UK grocery market with Morrisons deal', 'Industry NewsMorrisons unveils which stores will close as 900 jobs face the axe', 'MillerCoors Delivers 2.9% Underlying Net Income Growth for 2014', \"Insurer Old Mutual picks Standard Bank's Hemphill as new CEO\", 'UPDATE 1-EU regulator backs approval for GSK injectable asthma drug', 'CaixaBank, dos Santos Agree on Plan for BPI Angola Exposure', 'Diageo Sells Ryder Cup Venue Gleneagles Hotel to Ennismore Group', 'Randgold profit hit by poor gold price but dividend still increases', 'Renewed AB InBev Bid for SABMiller Ups Stake in Beer Battle', 'US dollar wipes out sales gains for SABMiller', 'British American Tobacco first-half sales hurt by currency moves', \"Spain's CaixaBank Expects To Close Deal For Banco BPI\", 'Royal Mail gets mixed bag from Ofcom postal regulation report', 'Diageo receives reports from United Spirits on financial irregularities involving ...', 'UK housing market steadies after Brexit dip, Persimmon says', 'Brewer AB InBev seeks $275 bln tie-up with SABMiller', 'Morrisons faces festive sales test', \"Merkel's Government Said to Support Deutsche Boerse-LSE Merger\", 'FDA approves NPS drug, in move validating Shire takeover deal', 'Breakingviews: IAG can pay more for Aer Lingus', 'Goldman Sachs, Barclays, HSBC downplay Brexit threat', 'UPDATE 3-Stifel to buy former Lehman brokerage from Barclays', 'BHP Billiton drags FTSE lower after slashing dividend', 'Whitbread share price climbs on Q4 sales growth', 'Barclays poaches new chief operating officer Paul Compton from JP Morgan Chase', 'CompaniesDixons Carphone to close 134 UK stores as sales jump', 'Barclays share price subdued as bank faces fresh forex probe', \"Philippines' San Miguel says to partner with Kirin if it bids for SABMiller's ...\", 'Royal Mail share price rallies amid positive broker comments', 'Teva: FDA Approves Generic Version of AstraZeneca Heartburn Drug', 'AstraZeneca to Buy ZS Pharma for $2.7 Billion', 'Tesco Abandons Video-Streaming Ambitions in Blinkbox Sale', \"AB InBev's Latest Bid Said Unlikely to Win SABMiller's Approval\", \"UPDATE 2-Pricey beers lift SABMiller's quarterly underlying sales\", 'UK WINNERS & LOSERS: Aviva And Friends Life Lead FTSE 100 Gainers', 'HSBC Hit by Fresh Details of Tax Evasion Claims', 'Imperial Tobacco Adds Quarterly Dividends After Profit Rose', \"WPP, World's Largest Ad Agency, Reports Strong 2015 Growth\", 'FTSE 100 falls as China devaluation hits Burberry, mining stocks', 'Royal Mail share price edges lower as group raises stamp price', 'Standard Life share price: Insurer buys advice firm Pearson Jones', 'Persimmon share price climbs on 23% rise in full-year revenue', 'L&G still paying price for dividend cut during crisis, chief says', 'EasyJet Dismisses Lufthansa Low-Cost Plan in Contest for Germany', 'Sanofi poaches AstraZeneca scientist as new research head', 'Supreme Court Upholds $236 Million Jury Award Against ExxonMobil', \"REFILE-Hikma and Barclays help Britain's FTSE to climb higher\", 'RBI surprises Street; Sensex pares gains after hitting mount 30k', 'UPDATE: Barclays Expects Gain After Settling With Lehman Bros Trustee', 'Tesco, Asda sales fall as march of the discounters continues: Kantar', 'News FeedSchroders books solid earnings growth, several board changes', 'DBS, Julius Baer emerge as potential bidders for Barclays Asia wealth unit ...', 'Sainsbury CFO Rogers to Replace Home Retail CEO Walden', 'GSK and Novartis complete deals to reshape both drugmakers', 'Tesco leads FTSE higher on Clubcard bid reports', \"Hammerson, JV Partner secure ownership of Ireland's Dundrum - Quick Facts\", 'REFILE-Aviva Investors to move 34 bln euros in assets from AXA fund arm', 'Friends Life lifts profits 38% and hikes divi ahead of proposed Aviva takeover', 'New Credit Suisse boss faces stiff challenge in Asia', 'EU drops Shell, BP, Statoil from ethanol benchmark investigation', 'Barclays sells benchmark indices unit to Bloomberg', 'EasyJet attracts more passengers in June but still lags Ryanair', 'UPDATE: EasyJet Passenger Numbers, Aer Lingus Traffic Up In February', 'News FeedFTSE 100 movers: Ashtead jumps on strong interims; Glencore, BP in ...', 'CompaniesDiageo stays neutral on India boardroom turmoil', \"Australia clears AB Inbev's $100 billion SABMiller buyout plan\", 'UPDATE 1-Berkshire applies to boost Wells Fargo stake above 10 pct', 'InterContinental Hotels Denies Reports of Starwood Merger Talks', 'AstraZeneca shares climb 3% as drug maker ups profits forecasts', 'Tesco, Asda sales fall as march of the discounters continues-Kantar', \"FDA approves Shire's Vyvanse for binge-eating disorder\", 'Valeant Names Interim Leader as CEO Remains Hospitalized', 'Berkshire applies to boost Wells Fargo stake above 10 percent', 'Slump in Weir leads FTSE down from record high', 'Standard Chartered Not Raising Capital Yet As Dividend Cut', 'Irish Said Chasing Standard Chartered, RBS as Brexit Vote Nears', 'Broker tips: RBS, Croda, Sage', 'City spirits sink after Diageo comes up short with sales slide', \"Ingenious, HSBC, UBS and Coutts sued by 'tax avoidance' clients\", 'AstraZeneca Acquires ZS Pharma in $2.7 Billion Deal', 'CompaniesLSE adds ex-SEC head Schapiro to board', 'Philip Morris, BAT Sue Over Law Taking Branding Off Packs', \"Do it for me' trend underpins UK sales growth at Kingfisher\", \"Berkshire discloses unit's ties to Iran, opens probe\", 'Severn Trent share price rises as first half profit inches up as customer ...', 'Aviva weighs cash handout after beating profit forecast', 'Citigroup to Sell OneMain to Springleaf for $4.25 Billion', 'UPDATE 1-BP shareholders back more disclosure on climate change risks', \"REFILE-UPDATE 4-Britain's Lloyds to pay first dividend since rescue\", 'CompaniesFresnillo shares jump 8% as silver price breaks $21', 'Glencore Studies Possible IPO for Agricultural Trading Business', 'Should You Buy Jumbo Yielders British American Tobacco plc, Centrica PLC & John Wood Group PLC?', 'Saudi Aramco, Shell plan to break up Motiva, divide up assets', 'Horizonte acquires neighbouring Glencore nickel property in Brazil', 'AstraZeneca wins FDA approval for key new lung cancer pill', 'London Stock Exchange Shareholders Approve Merger With Deutsche BÃ¶rse', 'The Coca-Cola Company and Coca-Cola FEMSA to Acquire AdeS Soy-Based Beverage Business From Unilever', 'Petrofac books further Â£30m cost for Shetland gas terminal delays', 'CompaniesUnilever sales lifted by ice cream in soft economy', 'FTSE 100 flat; Standard Chartered leads risers', 'Compass Group says positive for year ahead', 'UPDATE 5-Barclays Chairman McFarlane axes CEO to speed up strategic change', \"ITV share price: Group mulls takeover of Canada's Entertainment One\", \"Meggitt share price tumbles as profit falls in 'challenging year'\", 'Royal Dutch Shell to Buy BG Group for Nearly $70 Billion', 'Aberdeen AM posts H1 outflows, says conditions to remain challenging', 'Sales boost for new Morrisons chief David Potts as Tesco turnaround stalls', 'GlaxoSmithKline starts hunt for successor to CEO Witty', \"Why I'd Buy ARM Holdings plc And BHP Billiton plc Today\", 'Kingfisher share price slides on cost to implement new strategy', 'Arm profits and sales up as shift away from mobile gains pace', \"Valeant CEO Pledges to Heed Critics After `Painful' Experience\", 'Berkshire Hathaway names Kara Raiguel to lead General Re unit', 'easyJet expects resilient demand to withstand security fears', \"Amazon's grocery deal with Morrisons is only the beginning\", 'Goodwin not to face Scottish prosecution over RBS', 'Glencore blames rivals for creating metals glut', 'Shares in BAE Systems hit 10-month high on rating upgrade', 'Are Aviva plc, Direct Line Insurance Group PLC And Admiral Group plc Set To Soar?', 'Auto Trader share price surges as company floats on LSE', \"CompaniesHome Retail trims gains but is considered 'in play'\", 'LSE-Deutsche Boerse merger would signal end to exchange mega-deals', 'BHP Billiton slashes dividend, posts $5.67 billion net loss', \"Priceline's stock jumps to new high for the year after Barclays upgrade\", 'ConAgra Names Former Hillshire Farms CEO Connolly to Top Post', 'Aviva, Friends Life top forecasts ahead of 5.6 billion pound merger', 'London open: Taylor Wimpey and Ashtead drive markets higher, Barclays falls', \"Morning Agenda: Shire's Deal for NPS\", 'NYSE owner ICE considers offer for LSE', 'Aberdeen Asset Management Gains Foothold In China', 'AstraZeneca sells US drug rights to Perrigo for $380 mln', \"Credit Suisse poaches Prudential's Thiam for Asian push\", 'Peroni and Grolsch put up for sale as AB InBev plans acquisition of SABMiller', 'Royal Mail, Johnson Matthey lead FTSE lower', 'Tesco leads leap in FTSE 100; Marks & Spencer drops', \"Britain's FTSE steadies, supported by Dixons Carphone\", 'Shell offers 50 percent premium to buy BG for $70 billion', 'Johnson Matthey raises prospect of investor payout', \"AstraZeneca's patent on asthma drug invalidated by US court\", 'UPDATE 1-AstraZeneca boosts respiratory unit with $575 mln Takeda deal', 'Why AstraZeneca plc & Dixons Carphone PLC Are Red-Hot Growth Stars!', 'Insurers: Admiral blows hot and cold but Aviva soars pre-Friends Life merger', 'UPDATE 1-Meggitt reiterates annual outlook after tough 2014', 'Bilfinger Industrial Services win Â£100m BP contract extension', 'EU regulators clear $100 billion-plus AB InBev, SABMiller deal', 'AstraZeneca chases Acerta to secure next cancer drug winner', 'Tesco share price closes higher as two more directors leave grocer', 'MarketsShire up 2.5% and Baxalta up 6% on $32bn deal', 'UPDATE 1-Engineering firm Smiths Group confirms CEO appointment', \"Lloyds Banking Group's share price lifts amid reports bank is poised to axe hundreds of UK jobs\", 'Rio Tinto CEO says iron ore market at equilibrium', 'AB InBev attacks SABMiller bid rebuffal', \"Tesco's Sales Pickup Isn't Enough\", 'WPP boosts sales despite cautious clients', 'UPDATE 1-AstraZeneca sells rare cancer drug to Sanofi for up to $300 mln', 'UPDATE 1-Cypress Semiconductor offers to buy Integrated Silicon Solution', 'LONDON MORNING BRIEFING: HSBC And Standard Chartered Shares Rise', 'Chime Communications Set To Be Acquired By WPP And Providence', \"SAB's Chairman Digs In With Board Divided on InBev Offer\", 'BP joins forces with Det Norske in Norway', \"Barclays appoints JPMorgan's Paul Compton as new COO\", 'TRLPC - CRH backs Lafarge Holcim asset buy with 6.5 bln euro bridge loan', 'Severn Trent share price jumps as Canadian investor renews pursuit of utility', \"UPDATE 1-BHP Billiton's credit ratings fragile in FY16, agencies warn\", 'Tesco share price tumbles after negative broker note', 'Market Report: Aviva tops the market as traders approve of its choice of Friends', \"Can Christmas Save Sainsbury's plc And Tesco plc?\", \"easyJet leads Britain's FTSE lower as global bond rout resumes\", 'Glencore Cuts 2015 Budget, Plans To Divest From Lonmin', 'Shire proposes $30 bln all-share tie-up with Baxalta', 'InterContinental Hotels first-quarter global room revenue lags estimates', 'Glencore sees Tripoli-based NOC as sole legal seller of Libyan oil', 'BBCN Bancorp to buy Wilshire Bancorp in $1 bln deal', 'How Kraft-Heinz Merger Came Together in Speedy 10 Weeks']\n"
     ]
    }
   ],
   "source": [
    "import numpy as np\n",
    "\n",
    "headlines_array = np.array(headline_df)\n",
    "np.random.shuffle(headlines_array)\n",
    "headlines_list = list(headlines_array[:,1])\n",
    "\n",
    "print(headlines_list)"
   ]
  },
  {
   "cell_type": "code",
   "execution_count": 3,
   "id": "46ba0641",
   "metadata": {
    "scrolled": true
   },
   "outputs": [],
   "source": [
    "from transformers import AutoTokenizer, AutoModelForSequenceClassification\n",
    "  \n",
    "tokenizer = AutoTokenizer.from_pretrained(\"ProsusAI/finbert\")\n",
    "model = AutoModelForSequenceClassification.from_pretrained(\"ProsusAI/finbert\")"
   ]
  },
  {
   "cell_type": "code",
   "execution_count": 4,
   "id": "0a8e6618",
   "metadata": {},
   "outputs": [
    {
     "name": "stdout",
     "output_type": "stream",
     "text": [
      "{'input_ids': tensor([[  101,  2548,  5653,  ...,     0,     0,     0],\n",
      "        [  101,  2750,  4341,  ...,     0,     0,     0],\n",
      "        [  101,  1057,  1012,  ...,     0,     0,     0],\n",
      "        ...,\n",
      "        [  101,  8904, 17345,  ...,     0,     0,     0],\n",
      "        [  101,  4035,  2078,  ...,     0,     0,     0],\n",
      "        [  101,  2129, 26680,  ...,     0,     0,     0]]), 'token_type_ids': tensor([[0, 0, 0,  ..., 0, 0, 0],\n",
      "        [0, 0, 0,  ..., 0, 0, 0],\n",
      "        [0, 0, 0,  ..., 0, 0, 0],\n",
      "        ...,\n",
      "        [0, 0, 0,  ..., 0, 0, 0],\n",
      "        [0, 0, 0,  ..., 0, 0, 0],\n",
      "        [0, 0, 0,  ..., 0, 0, 0]]), 'attention_mask': tensor([[1, 1, 1,  ..., 0, 0, 0],\n",
      "        [1, 1, 1,  ..., 0, 0, 0],\n",
      "        [1, 1, 1,  ..., 0, 0, 0],\n",
      "        ...,\n",
      "        [1, 1, 1,  ..., 0, 0, 0],\n",
      "        [1, 1, 1,  ..., 0, 0, 0],\n",
      "        [1, 1, 1,  ..., 0, 0, 0]])}\n"
     ]
    }
   ],
   "source": [
    "#That's where the headlines get tokenized to be inputted into model\n",
    "\n",
    "inputs = tokenizer(headlines_list, padding = True, truncation = True, return_tensors='pt')\n",
    "print(inputs)"
   ]
  },
  {
   "cell_type": "code",
   "execution_count": 5,
   "id": "af513152",
   "metadata": {},
   "outputs": [
    {
     "name": "stdout",
     "output_type": "stream",
     "text": [
      "torch.Size([436, 3])\n"
     ]
    }
   ],
   "source": [
    "#inference\n",
    "\n",
    "outputs = model(**inputs)\n",
    "print(outputs.logits.shape)"
   ]
  },
  {
   "cell_type": "code",
   "execution_count": 6,
   "id": "a272c101",
   "metadata": {},
   "outputs": [
    {
     "name": "stdout",
     "output_type": "stream",
     "text": [
      "tensor([[0.0234, 0.9057, 0.0709],\n",
      "        [0.8056, 0.1704, 0.0240],\n",
      "        [0.0591, 0.8498, 0.0911],\n",
      "        ...,\n",
      "        [0.0687, 0.0094, 0.9219],\n",
      "        [0.0720, 0.0149, 0.9131],\n",
      "        [0.0288, 0.0282, 0.9430]], grad_fn=<SoftmaxBackward0>)\n"
     ]
    }
   ],
   "source": [
    "#Postprocessing with softmax\n",
    "\n",
    "import torch\n",
    "\n",
    "predictions = torch.nn.functional.softmax(outputs.logits, dim=-1)\n",
    "print(predictions)"
   ]
  },
  {
   "cell_type": "code",
   "execution_count": 7,
   "id": "eacabd7c",
   "metadata": {},
   "outputs": [
    {
     "data": {
      "text/plain": [
       "{0: 'positive', 1: 'negative', 2: 'neutral'}"
      ]
     },
     "execution_count": 7,
     "metadata": {},
     "output_type": "execute_result"
    }
   ],
   "source": [
    "model.config.id2label"
   ]
  },
  {
   "cell_type": "code",
   "execution_count": 8,
   "id": "a4b70a23",
   "metadata": {},
   "outputs": [
    {
     "data": {
      "text/html": [
       "<div>\n",
       "<style scoped>\n",
       "    .dataframe tbody tr th:only-of-type {\n",
       "        vertical-align: middle;\n",
       "    }\n",
       "\n",
       "    .dataframe tbody tr th {\n",
       "        vertical-align: top;\n",
       "    }\n",
       "\n",
       "    .dataframe thead th {\n",
       "        text-align: right;\n",
       "    }\n",
       "</style>\n",
       "<table border=\"1\" class=\"dataframe\">\n",
       "  <thead>\n",
       "    <tr style=\"text-align: right;\">\n",
       "      <th></th>\n",
       "      <th>Headline</th>\n",
       "      <th>Positive</th>\n",
       "      <th>Negative</th>\n",
       "      <th>Neutral</th>\n",
       "    </tr>\n",
       "  </thead>\n",
       "  <tbody>\n",
       "    <tr>\n",
       "      <th>0</th>\n",
       "      <td>Royal Mail 'breached competition law' over del...</td>\n",
       "      <td>0.023391</td>\n",
       "      <td>0.905711</td>\n",
       "      <td>0.070898</td>\n",
       "    </tr>\n",
       "    <tr>\n",
       "      <th>1</th>\n",
       "      <td>Despite sales growth, UK's Tesco cautions reco...</td>\n",
       "      <td>0.805642</td>\n",
       "      <td>0.170371</td>\n",
       "      <td>0.023987</td>\n",
       "    </tr>\n",
       "    <tr>\n",
       "      <th>2</th>\n",
       "      <td>U.S. Debt Lures Schroders as ECB Depresses Rates</td>\n",
       "      <td>0.059083</td>\n",
       "      <td>0.849842</td>\n",
       "      <td>0.091075</td>\n",
       "    </tr>\n",
       "    <tr>\n",
       "      <th>3</th>\n",
       "      <td>Britain's FTSE falls back with Ashtead, commod...</td>\n",
       "      <td>0.011960</td>\n",
       "      <td>0.964339</td>\n",
       "      <td>0.023701</td>\n",
       "    </tr>\n",
       "    <tr>\n",
       "      <th>4</th>\n",
       "      <td>ARM Holdings plc Partners With International B...</td>\n",
       "      <td>0.873552</td>\n",
       "      <td>0.007633</td>\n",
       "      <td>0.118814</td>\n",
       "    </tr>\n",
       "    <tr>\n",
       "      <th>5</th>\n",
       "      <td>GE to Sell Majority Stake in Bank BPH's Core B...</td>\n",
       "      <td>0.035929</td>\n",
       "      <td>0.016357</td>\n",
       "      <td>0.947715</td>\n",
       "    </tr>\n",
       "    <tr>\n",
       "      <th>6</th>\n",
       "      <td>BG Group Still Happy With Shell's $70 Billion ...</td>\n",
       "      <td>0.877383</td>\n",
       "      <td>0.014796</td>\n",
       "      <td>0.107821</td>\n",
       "    </tr>\n",
       "    <tr>\n",
       "      <th>7</th>\n",
       "      <td>RPT-Old Mutual Q1 gross sales beat forecasts, ...</td>\n",
       "      <td>0.950610</td>\n",
       "      <td>0.028745</td>\n",
       "      <td>0.020645</td>\n",
       "    </tr>\n",
       "    <tr>\n",
       "      <th>8</th>\n",
       "      <td>Royal Mail turnaround proving expensive in tou...</td>\n",
       "      <td>0.034805</td>\n",
       "      <td>0.932253</td>\n",
       "      <td>0.032941</td>\n",
       "    </tr>\n",
       "    <tr>\n",
       "      <th>9</th>\n",
       "      <td>UPDATE 3-Auto Trader shares leap in UK's bigge...</td>\n",
       "      <td>0.528794</td>\n",
       "      <td>0.327484</td>\n",
       "      <td>0.143721</td>\n",
       "    </tr>\n",
       "  </tbody>\n",
       "</table>\n",
       "</div>"
      ],
      "text/plain": [
       "                                            Headline  Positive  Negative  \\\n",
       "0  Royal Mail 'breached competition law' over del...  0.023391  0.905711   \n",
       "1  Despite sales growth, UK's Tesco cautions reco...  0.805642  0.170371   \n",
       "2   U.S. Debt Lures Schroders as ECB Depresses Rates  0.059083  0.849842   \n",
       "3  Britain's FTSE falls back with Ashtead, commod...  0.011960  0.964339   \n",
       "4  ARM Holdings plc Partners With International B...  0.873552  0.007633   \n",
       "5  GE to Sell Majority Stake in Bank BPH's Core B...  0.035929  0.016357   \n",
       "6  BG Group Still Happy With Shell's $70 Billion ...  0.877383  0.014796   \n",
       "7  RPT-Old Mutual Q1 gross sales beat forecasts, ...  0.950610  0.028745   \n",
       "8  Royal Mail turnaround proving expensive in tou...  0.034805  0.932253   \n",
       "9  UPDATE 3-Auto Trader shares leap in UK's bigge...  0.528794  0.327484   \n",
       "\n",
       "    Neutral  \n",
       "0  0.070898  \n",
       "1  0.023987  \n",
       "2  0.091075  \n",
       "3  0.023701  \n",
       "4  0.118814  \n",
       "5  0.947715  \n",
       "6  0.107821  \n",
       "7  0.020645  \n",
       "8  0.032941  \n",
       "9  0.143721  "
      ]
     },
     "execution_count": 8,
     "metadata": {},
     "output_type": "execute_result"
    }
   ],
   "source": [
    "#Formatting the results as a pandas data frame\n",
    "\n",
    "import pandas as pd\n",
    "\n",
    "#Headline #Positive #Negative #Neutral\n",
    "positive = predictions[:, 0].tolist()\n",
    "negative = predictions[:, 1].tolist()\n",
    "neutral = predictions[:, 2].tolist()\n",
    "\n",
    "table = {'Headline':headlines_list,\n",
    "         \"Positive\":positive,\n",
    "         \"Negative\":negative, \n",
    "         \"Neutral\":neutral}\n",
    "      \n",
    "df = pd.DataFrame(table, columns = [\"Headline\", \"Positive\", \"Negative\", \"Neutral\"])\n",
    "\n",
    "df.head(10)"
   ]
  },
  {
   "cell_type": "code",
   "execution_count": 9,
   "id": "0e5cc8a6",
   "metadata": {},
   "outputs": [
    {
     "name": "stdout",
     "output_type": "stream",
     "text": [
      "Headline Accuracy:  60.09174311926605 %\n"
     ]
    }
   ],
   "source": [
    "def find_label(value):\n",
    "    if -0.1 <= value <= 0.1:\n",
    "        return 0\n",
    "    elif value < -0.1:\n",
    "        return -1\n",
    "    else:\n",
    "        return 1\n",
    "\n",
    "correct = 0.0\n",
    "for idx, x in enumerate(headlines_array):\n",
    "    true_label = find_label(x[4])\n",
    "    pred_list = [float(predictions[idx][0]), float(predictions[idx][1]), float(predictions[idx][2])]\n",
    "    max_v = max(pred_list)\n",
    "    if max_v == pred_list[0]:\n",
    "        prediction_label = 1\n",
    "    elif max_v == pred_list[1]:\n",
    "        prediction_label = -1\n",
    "    else:\n",
    "        prediction_label = 0\n",
    "    \n",
    "    if prediction_label == true_label:\n",
    "        correct += 1\n",
    "print(\"Headline Accuracy: \", correct / len(headlines_array) * 100, \"%\")\n",
    "    "
   ]
  },
  {
   "cell_type": "markdown",
   "id": "e30959ed",
   "metadata": {},
   "source": [
    "# FinBERT With Post"
   ]
  },
  {
   "cell_type": "code",
   "execution_count": 10,
   "id": "26d8f249",
   "metadata": {},
   "outputs": [
    {
     "data": {
      "text/html": [
       "<div>\n",
       "<style scoped>\n",
       "    .dataframe tbody tr th:only-of-type {\n",
       "        vertical-align: middle;\n",
       "    }\n",
       "\n",
       "    .dataframe tbody tr th {\n",
       "        vertical-align: top;\n",
       "    }\n",
       "\n",
       "    .dataframe thead th {\n",
       "        text-align: right;\n",
       "    }\n",
       "</style>\n",
       "<table border=\"1\" class=\"dataframe\">\n",
       "  <thead>\n",
       "    <tr style=\"text-align: right;\">\n",
       "      <th></th>\n",
       "      <th>id</th>\n",
       "      <th>sentence</th>\n",
       "      <th>snippets</th>\n",
       "      <th>target</th>\n",
       "      <th>sentiment_score</th>\n",
       "      <th>aspects</th>\n",
       "    </tr>\n",
       "  </thead>\n",
       "  <tbody>\n",
       "    <tr>\n",
       "      <th>0</th>\n",
       "      <td>1</td>\n",
       "      <td>Slowly adding some $FIO here but gotta be care...</td>\n",
       "      <td>['Slowly adding some $FIO here but gotta be ca...</td>\n",
       "      <td>FIO</td>\n",
       "      <td>0.459</td>\n",
       "      <td>['Stock/Price Action/Bullish/Bull Position']</td>\n",
       "    </tr>\n",
       "    <tr>\n",
       "      <th>1</th>\n",
       "      <td>2</td>\n",
       "      <td>$TRX http://stks.co/1KkK Long setup. MACD cross.</td>\n",
       "      <td>['Long setup. MACD cross.']</td>\n",
       "      <td>TRX</td>\n",
       "      <td>0.438</td>\n",
       "      <td>['Stock/Technical Analysis']</td>\n",
       "    </tr>\n",
       "    <tr>\n",
       "      <th>2</th>\n",
       "      <td>3</td>\n",
       "      <td>I am not optimistic about $amzn both fundement...</td>\n",
       "      <td>['both fundementals and charts look like poopo...</td>\n",
       "      <td>AMZN</td>\n",
       "      <td>-0.506</td>\n",
       "      <td>['Stock/Price Action/Bearish']</td>\n",
       "    </tr>\n",
       "    <tr>\n",
       "      <th>3</th>\n",
       "      <td>4</td>\n",
       "      <td>$GRPN might be selling off ahead of $P earning...</td>\n",
       "      <td>['might be selling off ahead']</td>\n",
       "      <td>P</td>\n",
       "      <td>-0.202</td>\n",
       "      <td>['Stock/Price Action/Bearish/Bearish Behavior']</td>\n",
       "    </tr>\n",
       "    <tr>\n",
       "      <th>4</th>\n",
       "      <td>5</td>\n",
       "      <td>$IACI http://stks.co/tJU Looks good on the wee...</td>\n",
       "      <td>['Looks good on the weekly chart.']</td>\n",
       "      <td>IACI</td>\n",
       "      <td>0.379</td>\n",
       "      <td>['Stock/Technical Analysis']</td>\n",
       "    </tr>\n",
       "  </tbody>\n",
       "</table>\n",
       "</div>"
      ],
      "text/plain": [
       "   id                                           sentence  \\\n",
       "0   1  Slowly adding some $FIO here but gotta be care...   \n",
       "1   2   $TRX http://stks.co/1KkK Long setup. MACD cross.   \n",
       "2   3  I am not optimistic about $amzn both fundement...   \n",
       "3   4  $GRPN might be selling off ahead of $P earning...   \n",
       "4   5  $IACI http://stks.co/tJU Looks good on the wee...   \n",
       "\n",
       "                                            snippets target  sentiment_score  \\\n",
       "0  ['Slowly adding some $FIO here but gotta be ca...    FIO            0.459   \n",
       "1                        ['Long setup. MACD cross.']    TRX            0.438   \n",
       "2  ['both fundementals and charts look like poopo...   AMZN           -0.506   \n",
       "3                     ['might be selling off ahead']      P           -0.202   \n",
       "4                ['Looks good on the weekly chart.']   IACI            0.379   \n",
       "\n",
       "                                           aspects  \n",
       "0     ['Stock/Price Action/Bullish/Bull Position']  \n",
       "1                     ['Stock/Technical Analysis']  \n",
       "2                   ['Stock/Price Action/Bearish']  \n",
       "3  ['Stock/Price Action/Bearish/Bearish Behavior']  \n",
       "4                     ['Stock/Technical Analysis']  "
      ]
     },
     "execution_count": 10,
     "metadata": {},
     "output_type": "execute_result"
    }
   ],
   "source": [
    "import pandas\n",
    "\n",
    "post_df = pandas.read_csv(\"dataset/post_train.csv\")\n",
    "post_df.head(5)   "
   ]
  },
  {
   "cell_type": "code",
   "execution_count": 11,
   "id": "4529c166",
   "metadata": {},
   "outputs": [
    {
     "name": "stdout",
     "output_type": "stream",
     "text": [
      "['Fastenal misses by $0.01, misses on revenue $FAST #NYSE https://t.co/63JHQ7pwMN', 'Looking for a strong bounce $SPY -- Lunchtime rally coming. $DIA $IWM $QQQ $AA $FB', '$STX move off the bottom but still in bear market #datasecurity $EMC $SNDK $WDC https://t.co/VkYdWPxeSN', 'Added long at friday close  $SPY $LABU $BLUE $AMZN', 'Last month we added to our $GILD position and started a new one in $BWLD We see slow, steady, unspectacular growth going forward near term', '$ZSL looking very weak, could be a good short setup.', '$AAPL price momentum weakening going into the close.', '$TZA is a rocket ship!!!', \"$BBRY bye bye Sammy. Hello BB. Sounds like we'll see some green tomorrow.\", 'Notable gainers among liquid option names this morning include $STX (+7.0%), $NEM (+4.6%), $WDC (+4.2%), $X (+4.1%), and $GME (+3.4%),', '$PAY 2nd time test of the 21.20-30 b/o zone.  Still not breaking out.  Moved my stop up to 20.80.', 'Piper upgrades Symantec on improving renewal rates and enterprise growth $SYMC', 'Infection worries prompt regulatory reviews of Gilead leukaemia drug $GILD https://t.co/H9vqXpZ15G via @YahooFinance', \"$HAL If bulls lucky enuff to get an upside gap fill, better take it. Wouldn't chase it here. http://stks.co/r12Us\", \"$WGO's BoD was right to reject the offer. That company is low because of the economy, not because of any type of mismanagement or anything.\", 'energy still failing to close above the 10D MA.  continues to stand out weak $XLE', '$UBNT still having some trouble at the resistance line. Should resolve soon.@cheri1 @strattonite   http://stks.co/c0sU4', '$IFF technical alerts: Stochastic Sell Signal, 200 DMA Support, and 50 DMA Support  http://stks.co/p12QY', '$V A potential bearish shark pattern if point B $226 to be taken out. http://stks.co/i0GGH', 'NaturalGas Settles At 3-year Low $DBO $BNO  http://stks.co/d27qX', 'DJI overbought: $AAPL, $AXP, $BA, $CVX, $IBM, $INTC, $VZ https://t.co/wMy1PnomJF', '$SBUX getting sold here.', 'Looks like its booking a one way ticket to its 40 week MA near 50. Losing 10 week here $LULU http://chart.ly/7xb9h9b', '$AAPL iPhone shipments on track to exceed forecasts - MarketWatch https://t.co/2CXahJIX7d', '@CH_Roark: $UNXL I like this Ascending Triangle on the 30-minute chart. Breakout coming Monday! http://stks.co/aT3GLooks promising.', 'Starbucks shares down as much as ~4.2% $SBUX https://t.co/JlgrprR54k', \"Seat belt recall? who cares....  I'm a buyer $TSLA\", '$NUGT longer term bullish', 'volatility squeeze in $AAPL. I hope it gets resolved to the upside', '$IBIO  up 10% in premarket ready for lift off', '$EXPE working on the second leg of its reversal run as it breaks another down trend and continues higher. https://t.co/76DSJysyR0', '$HZNP havent seen vol like this since the runup. lets see one more dip to 2.0x', '@Renatta @Fr0van @kjepeneter @RPTL  Strong close 4 $PLNR  coming', 'RT @robbieLOLZ $NFLX A close above here is looking good for the bulls. Will hold my positions to see where we close at. Keep buying here.', \"Starbucks' Digital Strategy To Drive Significant Growth With Customer Loyalty https://t.co/9Q7cI79IYO $SBUX\", '@ACInvestorBlog: $SPY eod run :)', '$ASTX Daily technical indicators are bullish. Breakout watch over 4.58  http://stks.co/eOvw', '$YOKU high volume blast off Friday, goes higher  http://stks.co/qSaL', '$Oil slid to a four-year low after #OPEC kept its oil production unchanged  http://stks.co/a1IX4 $USO $WTI $Brent', '$JNK http://stks.co/2Fcm Does not want to go down... risk appetite still high', \"You know that back seat? Don't sit in it. - $TSLA -> Tesla recalls 2,700 Model X cars https://t.co/7J0Gwz89ZC\", '$ROST Ross Stores Upgraded to Outperform at RBC Capital Markets http://stks.co/j0Q9t', 'Tesla issues its first Model X recall https://t.co/t1kMqVwhQQ $TSLA', 'for @vnoto74 to follow:  after a SELL signal by $NDX internals [06/23] ~> technical SELL $QQQ [06/25] ~> DOWN', 'Just stumbled upon this amazing chart - $OFIX - holy guac. SUPER overbought. http://stks.co/e0PX1', '$FB  rejecting HIGHS shortable...at 109', 'TripAdvisor jumps on M&A rumors https://t.co/O4lwCDXMbr $TRIP', '$DDD 3D Systems (DDD) Stock Receives Ratings Downgrade Today at Jefferies http://stks.co/g1cqd', 'Timberrrr $TSLA https://t.co/MRBgfDHHVa', 'On #FEDDAY looking for a sharp move up in equities $AAPL $HD $LOW $FB seeing $UVXY $TVIX getting hammered, even though market is down.', '$FAST $GWW - daily sales slowing again, pretty timely coincident indicator https://t.co/m6BKHBkzK5', \"$AMRN It's accumulating. I think buy now or hold your peace. This should go up today/tomorrow.\", '#Apple up almost 20% from its February lows with very little fanfare. $AAPL', '$TROW Ascending triangle gives a bullish bias to this chart. Breakout above 84 will be positive http://stks.co/g0ls5', 'RT @alphatrends VMarkets Are Still Acting Weak http://stks.co/1agn  $SPY $QQQ $XLF $SMH $IWM', '$AAPL nibbling on a small long via 525.. buying off 13min charts..', 'Academics claim Google Android two-factor authentication is breakable. #security #authentication #hacking $goog https://t.co/nJx4mnrGLo', '$EFUT hod  posted buy pm at $4.40', '$GOOG resistance turned support?  It', 'Covered my small $MWW short @ 7.99 for a .16 loss. Flat on the day. All cash now.', '$TSLA 5th wave down on the 1 hour chart, hammer candle developing, close to 200 sma, might be a good spot for calls', 'Equity indexes working on a positive engulfing for March. $SML $RUT $IWC $SMH $SOX  Small-caps / semis with a fakeout before the b/out.', '$GPRO down 25% since Tue morning.', '$TRIP maintains Neutral rating at JP Morgan- PT cut $61 from $66', '@harmongreg: $BBRY wkly, Inverse Head and Shoulders forming, triggers over 18.50, PO at least 30.80, watching http://stks.co/iPVJ', '$XLB the weakest sector this year and possible false breakout  http://stks.co/dL1Z', '78 users on Vetr are bearish on Tesla Motors, Inc., indicating a SELL Rating (2 stars) for $TSLA https://t.co/vVpzqCXsNJ', \"$CAMT Looks like might break down. I'm out\", 'RT @bman1 $LNG looks primed also $EGHT poised to run too...', '$ISRG Break out confirmed. Bought Leaps. Good trading!', 'AP: Caterpillar posts 60 percent jump in 4Q profit on steep global sales increase, tops Wall St. view > $CAT', '$TXRH reports Q1 EPS of $0.37 versus the estimated $0.35, beating by $0.02. EPS were Up 19% from the same quarter last year.', '$RAD I would consider this opportunity to add my position because the company is on the right track they are still improving sales...', 'Isolationism? Another Sell Rating, Sell Ratings On SPY, QQQ, IWM And Several Companies https://t.co/6NKWEcrBA5 $AAPL $AXP $BAC $BLUE $FXE', '$BXS: BancorpSouth Announces Extension of Merger Agreements with ... http://stks.co/s2PDF', '$P bull flag on the daily, earnings on the table tomorrow +/-12 move.Will straddle this one into earnings..lots of vol guaranteed here', '$GTAT Will re-enter short on bounce...', '$GLD http://stks.co/44ow On closer inspection.  Resistance 10 points north at 200d and downward trendline. Chart 2 of 2.', '$AAPL  downgrade is bias. This stock is a buy.', \"Here come the shorts marchin' in.  $GMCR.  Lovin' it!\", '$BAC in for swing trade  looks like want go up', '$HITK  Resuming advance into new historical highs.', '@mugatushair Now it is time to short $TSLA', '$AAPL is now beaten down, hated, etc. / hhhmm opposite of 700> what happens next?', 'long $AAPL', '$AAPL http://stks.co/1LDx Clearing this descending trend line / buy area now', 'Lots of metal stocks look like a 5-10% run awaits. Long $SSRI,$PAAS and $NEM but most high quality names should go if metal prices cooperate', '$UUP at major resistance right now. Can go much higher if it can break above. May take several attempts - few days to a week', 'RECAP: $MSFT rumor this morning had them spinning off XBOX unit, stock grinds up all day to close on highs', \"$SPY Don't hang your bull hat yet. Next week we will pop higher on QE3 hope on back of fed's 2 day meeting.\", 'Long Position on $GOL,...Updating http://stks.co/fdmm', '$NFLX +1% $104.80 LONG streaming services rapidly outpacing traditional cable', 'Maglan Capital Up +20.84% In February, Long Fairpoint  http://stks.co/s1eQc $$ $FRP', '$AAPL I am big OUT from this. seems its falling towards 530.. :(', 'Long Position on $IP,....Scaling UP http://stks.co/sIln', '$CSX is up today to report.  Wall Street is expecting EPS to be at $0.37, and revenues at $2,732B.', 'Walter Investment Management Corp Receives a Sell from Compass Point $WAC http://stks.co/c1IvX', '$VRTX early technical BUY signal... for confirmation > 86 it needs some fundam. incentive https://t.co/QuYSrqFo2x', '$NIHD insiders got this one wrong. Looking for bottom. Rsi under 30', '$TSLA steaming up again, this stock is relentless at the moment', \"$SPY http://stks.co/1MiR We're holding above Wednesday and Thursday closes. I'm leaning bullish. Small postions. Waiting.\", '$BWLD bearish engulfing candle', '$AMZN trades in mid to upper range. No break out yet, either direction', '$tsla X recall not a big deal... the problem is now they will have an excuse to guide way way lower...', 'EUR/USD Finding Support Near 1.10 Level $ERO $UUP $UDN $FXE  http://stks.co/b29eU', 'Pivotal Research upgrading $GOOGL to buy.  https://t.co/LSahepdqhD    #stocktrading', \"Analysts impressed with progress at Tesla's flagship factory; co spent $1.6B on upgrades in '15 https://t.co/SABxCSn8cd by @tsrandall $TSLA\", 'BULLISH Engulfing of COCA COLA: http://stks.co/fYCo $KO', 'Apple expected to launch new iPhone, iPad today $AAPL https://t.co/XfnICWeBeG', '$ISR- @IsoRay Up 6% and high on volume http://stks.co/iFpo #biotech', '$tsla bad day to short', 'potential defect with third-row seat belts. Tesla Motors recalls 2,700 Model X SUVs $TSLA https://t.co/YVYDncdNdi', '$ARIA Bounce Player! Long above $6.17 http://stks.co/q0WfF', '$BONE Earnings Stocks Poised to Pop http://stks.co/2zWE', 'Slowly adding some $FIO here but gotta be careful. This will be one of biggest winners in 2012', '$ilmn piper Jeffries raises pt.  I remain long', 'RT @StockTwits RT @fallondpicks Breadth Consolidates: After weeks of steady gains,advances in mkt breadth slowe... http://stks.co/2TrG $QQQ', \"$SPY wouldn't be surprised to see a green close\", \"what is up with $HK..... from Jan to now it's been a sinking ship...\", 'Key level to watch in $FB for today is 25.53-- watching to see if it can hold as support http://stks.co/bOH4', '$VIPS similar pattern like beginning of May. Did u sell? Same now..will go up much higher after this drop.', 'Surprising to see $JWN and $SKS sales numbers still holding up so well. I guess the high end might not be a concern after all.', '$ATHN Seems like a good short setup. Stop above the 50 day. No position.', '$PLUG bear raid', 'Followed the levels I shared with you on $NFLX $GOOGL $TSLA calls for nice gains. Still holding $FB 110 calls. Week made in a morning.', '$AAPL 50DMA turned up, MACD crossover a half-a-hair away on the weekly. EOD break out likely.', 'Upside moves in the volatile #mining sector, sending Anglo American PLC $AAL up 6.8% as of 4:30 PM, London time', 'Current holdings via options - Long: $AAPL $V $GS $AET & Short: $VXX', '@saltwaternurse $INO can test 10 again in next few days. time to take some profits here. or hedge with puts.', '$SBUX down PM, from $DB downgrade.. PT cut from 70 to $64', '$SAVE long. https://t.co/yEJuS9cMlC', '$ACOM http://stks.co/1G6x Downside breakout looks to be coming soon.', '$CTRP just broke resistance, watching for a #redtogreen #breakout right out of the gate tomorrow morning. #stocks https://t.co/8VXFUUIt04', '@IfHeDiesHeDies: @Bullhorn334: $ZNGA shorts are getting nervous\"\"', \"I'm liking the price action in $SWKS, currently @21.80 ; my target: 24.00+ before year end.\", 'that was quick, out $FIO 21.35, market tanking, scaling down longs now', '$VRTX Vertex. Monthly -lower hi/lower lo,  Long term uptrend intract so far', '$IWM relative weakness is pretty apparent but the short boat is getting full on this one. I prefer the boat closer to empty.', '$RNN More bleeding Monday.', '$SONC Amazing run since middle of March - obvious that the quality/tastiness of their burgers is not being factored into this price advance', \"$ADBE technical alerts: Expansion Breakout, Gilligan's Island Sell Setup, Volume Surge, and New 52... https://t.co/LxX66tknFH\", '$BRK.B $SPY  All time high tomorrow? 150k on the A shares, Dec 13, 2007.', 'This $BBBY stock options trade would have more than doubled your money https://t.co/Oa0loiRIJL via @TheStreet', '$BBRY hearing rumours of a major joint venture announcement.', 'Deutsche Bank Downgraded Starbucks Co. $SBUX https://t.co/QqlEvVwPMV https://t.co/f2PdQjuTHa', '$SDS +1.46% 15.32, picking up some speed. May 16 calls now +35% .19: http://stks.co/3eiK, Next week $16 calls .11c: http://stks.co/3eiL', 'Preparing for a Breakout Trade in Netflix $NFLX  https://t.co/CzHIX3tuAG $$ https://t.co/z1qb9xa4LD', \"$ARIA This is the reason why shorts don't show up...long steady small climbs. The best way to accrue value. IMO\", '$ETN UPGRADE today by MS to overweight.  Excellent company and leadership', '$AAPL AUG 645 calls +550% .67c: http://stks.co/i9T3', '$BBRY nice bounce', '$TSLA on fire, what is that 6 up days in a row. Someone neeeeds!! in', \"i-Grid shows $DIA capped for the long term at range of 123.40- 124.77;any rally beyond today's levels or into this range leads to meltdown.\", 'I see a 20 percent upside in $FB shares from here', \"RT @jan $ARNA Don't think buyout rumor strong enough too be driving this up just yet...when it is this may fly like aapl...// fly how high?\", '$TWTR The best scenario going forward is this stock slowly falling everyday....Which is quite probable...', '$MSFT SQL Server revenue grew double-digit with SQL Server Premium revenue growing over 30% http://stks.co/ir2F', 'Why $TWTR is doomed in 1 chart $FB $GOOG  https://t.co/MpyLiReQjh https://t.co/nlcZawDoHP', 'Facebook $FB received a Buy rating from Wells Fargo 5-star Analyst Peter Stabler (Wells Fargo) https://t.co/jnB4c9vdCu', '#Fintech provider $CAFN Cachet Financial Solutions Surging Forward today post earnings Up +13.26% https://t.co/9BJ3csk2i9 $JKHY $FISV #Momo', '$PPG Descending triangle but I am liking it for an upside break http://stks.co/o9nY', 'Apple: Another attempt to break out on Apple but with weak PVT   $AAPL #Trading #investing #aapl https://t.co/DNh7Hgv22V', 'Baird Upgrades Tesla Motors $TSLA to Outperform https://t.co/1FA6aTOqlw', '$FB gettin in the buy zone soon ;)', '$GS sells flat..I am out..', \"$FIO won't stay down\", '$EBAY had a nice breakout of the recent consolidation. Congrats to those who had it. http://stks.co/2TAd', \"I'm no professional ANAL-yst but I DO put my $ where my mouth is. $AAPL will do $575 b4 yr.endâ€”That's another hun from here.Long LEAPS =^.^=\", 'Long $VVUS shares as a call option w/ an expiration of..  umm.. TODAY.    Hitting HOD here.', '$GOOG breakout very likely medium target $700+ http://stks.co/1Lpz http://chart.ly/lgb94rr', '$COST short finally making gains. I will take half my gains at 147', 'Intuitive Surgical $ISRG is in a great financial position, take a look https://t.co/VahhJAcBFG https://t.co/24hQTQX4ou', \"$XLI Potential intermediate top in an Uptrend on a 60'-15'-4' charts http://stks.co/j1TdF\", 'ACE Limited, which has a 17 year dividend growth streak, plans a 33% dividend hike: http://stks.co/1BUE $ACE', 'pretty steady accumulation off support today.  Purdy. $AGU', \"$AAPL Stock Climbs as Barron's Sees 40% Upside, Jim Cramer's Take  https://t.co/lKlD9mVKBQ\", \"$AAPL I'm sure those short are holding their breath hoping for a miracle. lol\", 'Tesla: Voluntary recall of 2,700 Model X vehicles, due to back seat issue. $TSLA https://t.co/NPAkc3U6GS', 'Interest Heats Up for @Yahoo $YHOO - The Wall Street Journal  https://t.co/j5jVjI9bia', '09:01 AM      $AKS  DJ AK Steel Revenue Rises 36% on Auto Sector Demand, Acquisition', \"$IDCC - $89 share total value of company after crunching #'s. The 4g technology is their diamond in the rough.\", '$ENDP exit reversal .11 X 3K shares = $330 - now Long - not getting follow through, either side of price action', '$BBRY both 1m/6m trends turn bullish today with a resistance level at $11.31. http://stks.co/j1qt6', 'New recommendation from Carl Kirst of BMO Capital Markets for $WMB is BUY.Price target is $62:http://stks.co/t0S0r', 'Yahoo stock is up to $36.46 as the bidding war picks up for the company https://t.co/JDNZXDCMkl $YHOO https://t.co/HmOegfHgvn', '$RNN day traders flushed out, it should start going up slowly from now on .', '$AMRN Got sell signal 7/1/14 still in force with target below 1.50', 'took some $ENDP long this am, using VWAP as guide', '$NFLX Easy pop to 500$ by end of feb.. Then steady as she goes for 600 into second earnings report..800$ year end no matter what', 'Google, Inc. completes acquisition of ICOA, Inc. http://stks.co/nFEI $ICOA $GOOG', 'Loaded up on $bsx yesterday,looking good now. Still think way more upside than downside.', \"@asdfLLC. Nice pop today. Told ya we would be green haha. Funny you bring that up. I'm actually working on a story about $NOK at the moment\", '$UVXY Put the chum out there at key support then next level down - careful', \"@sharkbiotech If anyone is selling/shorting $AGN b/c you believe $ENDP rumors to be realistic, then I'll take the other side of that trade\", '$SPPI..building RS. Sweet. I want this to break a new 52week. The earnings growth justifies way higher', \"@Binkster69 Not that. it's just ER's lol. But looking at the correlation of $ARIA and foreign price charts, they are all poised to breakout.\", \"PNC, Goldman Sachs Receive Dividend Hike Green Light (But Don't Act): http://stks.co/2pa7 $PNC $GS\", '$GTE LONG at 7.44', '@Joerazorback This time I think $AAPL will miss again. Generally speaking market is near top when everyone thinks that market goes only up', 'Tesla Motors recalls 2,700 Model X SUVs https://t.co/BFWS3DbM0U $TSLA', '$RNN staying above the open a very good sign!!!', '$RSH - looking for first profitable quarter in 3 years!!!  ;).  LONG & STRONG', '$CNDO 21% short float, shorts likely to take profits into close', '$RXII Tang really is toxic, they keep bringing the share price down. At least they could let it climb a little before dragging it down.', 'Coke dividend - 3%. Google dividend - 0%. For passive income Coke takes it. $GOOG $KO https://t.co/QBsoWjxOST', '@gakrum nice chart shows distinctive down channel not a dip.. where do you see the bottom? $SPY ..$150? ..$130?', '$AMZN new HOD with conviction keeping $570 on watch for Resistance.', \"Daily Mail parent company in talks with potential partners about joint bid for Yahoo's internet assets: https://t.co/mK7MEMtADT $YHOO\", \"$aapl key is to breakout above 460 on solid volume or else it's a no trade for now\", \"$FB down 7.5% from this #bearish pattern.  Considering the #bullish sentiment - That's an impressive bearish move https://t.co/TaJF0cH2qh\", '$TSLA not dipping - testing the 200 day ma https://t.co/jEPLmZQKGW', \"$TSLA looking good..i'd love to see a basing action here, letting the RSI take a breather. http://stks.co/g1T7c\", '$amzn breaking', '$ENDP being sued by FTC.....nobody will buy them with that hanging over their heads', 'Tesla Recalling 2,700 Model X Units, Related to Faulty Latch for Third-Row Seats; Fall To $252.50 Level on Recall, Shares Up 1%  $TSLA', 'loading $SPY and $AAPL puts. think were toppy IMHO.', '$TSLA stock gaining steam... Plus other notable moves from this week: https://t.co/Hz0wdp5za1', \"$BIOC RSI extremely in long's favor looking at BIOC historically.\", '$SINA even though the \"report\" is untrue and has been proven unture, the damage is done. No one wants to touch it now', '$BABA may take a few days wks months watch what happened to $FB $TWTR after they IPO. mrkt needs to washout. to hunt well need 2 wait stalk.', '$DPZ broke out now of his bull flag channel and make new highs, but volume is very poor', '$AMZN rejected that 604 to the penny. Weak open and it goes r/g within first 30 mins, could have 8-10 points in it. https://t.co/58tEAEXxpE', '@BrooklynBandit: $SIMO Basing nice. A close over 24.18 is bullish $QQQ $SPY $STUDY watch for a close near HOD. Currently up +3%\" up +5%', '$AAPL weekly still under the 50 moving average and creating a lower high. https://t.co/vT7ppzY2UY', 'Still short $LNG from $11.70 area...next stop could be down through $9.00. Someone slammed it hard with 230,000 shs this am! More to follow', '$AAPL Dips being bought up real quick. Higher lows fo sho', 'Out of shorts $ALTR at 38.85 with loss', 'Reuters: Green Mountain revenue misses, shares plunge http://stks.co/13mW > $GMCR prints 43.80, market in a foul mood, bad day to disappoint', 'ouch looks like $tsla shorts getting skinned again', '$AMCN pushing highs', 'Word on the street is that Allergen is looking at Endo International after the failed Pfizer merger. May-20 $35 calls active. $ENDP', '$ISRG PT raised to $700 from $640 at Leerink - keeps Outperform rated', \"$ATVI ooks pretty bullish for now. from a short-term perspective, it's got a good chance of maybe sliding back to 33.70 #stocks #investing\", \"Casinos red before the bell: $LVS -0.75%, $WYNN -0.47%, $WYNN -0.47% > unusual comibinations of what's running, what's red before the bell\", '$INTC finally some nice downside move... looking for the 31 handle to break', '$CYTX looks like an ascending channel on Finfiz http://stks.co/f26r4', '$AAPL short some 592.49', '$ZAGG getting ready...Target $15 plus on a close over $13.50 on better than avg daily Volume http://chart.ly/lha44tn', 'Costco: A Premier Retail Dividend Play https://t.co/J3UhTs022M $COST', '$REN bottoming out again.. Good time to buy', \"@TraceyRyniec not just energy, it's so broad. You will see it in WWG and Kaman as well. I'd be short $fast\", '3-star analyst Joe Wittine from Longbow Research reiterated a HOLD rating on $NTAP.', '$WMT BULLISH with MACD CROSSOVER with RSI and STO going up - above 73.4$ MA50 res. could run http://stks.co/gGCq', 'maybe closing all those $AAPL calls i had this morning was a bad idea, money left on the table...', 'Tesla Motors recalls 2,700 Model X SUVs $TSLA https://t.co/xDGrAExkKz', '$AAPL Right back in ... - Buy the dips brought to you by CNBC. LOL', 'Micron Technology Inc #NASDAQ: $MU down 2.3% today and down 8.9% since being put on \"The Short\" https://t.co/EQQLTfUiOU', 'X marks the recall: Tesla recalls #ModelX for faulty 3rd row seat. https://t.co/HSqdoVry07 $TSLA https://t.co/4Cs3CNZEBB', 'VIVUS $VVUS bear raid in effect. Stock down 12%', '$CRM Sep 40 calls are +35% since entry #BANG http://stks.co/deDm', '$GILD chart: With $IBB back over support. https://t.co/GpRZ2UJFC4', 'looks like a big feb 18-22 $put spread on $cree.  Last quarter 0% YoY rev growth trading @ 24x earnings.  I may try a short.', 'ALERT: New MACD signal created on $CTXS - Buy at 77.09 - Time: 18:23 - Strength: 10. Powered by https://t.co/4TdgjEDLLZ', \"$AXDX I got bored, and took my proprietary profit exit. I didn't like the option liquidity and lousy spreads.\", '$SIGA Bid for Reargument Denied by Judge', '$FB Dax says bye bye 2013 - finished a great yr w 28% plus!', '$FTI Breakout today after reporting earnings last night', '$DCTH Near HOD', 'like $T for a breakout long as well. getting through the 100 and 200 MA could see it run.', '$TZOO a close above 28.64 and we are ready to rock and roll', '$NKE gapping up to all time highs http://stks.co/q1jAu #tradeideas http://stks.co/r1j6c', '@REC_Zakaria Monday Bulls Are Out! Stock Ticker- Michael James Ent. Other picks $SBUX $GVP $NKE', \"$ENDP Was looking for a long entry but today's price action wasn't appealing\", '$IACI http://stks.co/tJU Looks good on the weekly chart.', '$fb small long 109.25 via calls', 'ALERT: New RSI signal created on $COST - Buy at 148.78 - Time: 14:19 - Strength: 10. Powered by https://t.co/MhOBzU3Rmx', '$MOS looking good here at $58.65. Calls are active in this month and weekly', '$CAT is hangin on my a thread. 1click away from a cliff drop.. Needs follow through (or snap-back on the VIX)', '$FREE Ha Heeeeeere comes the pump! So glad I picked up 9K end of day! Get ready for the bull ride!', '$AAPL broke descending channel....will it hold?', '$GMCR with the way this has been acting, it may fall to 65 today, horrible action since it hit 70 yesterday', '$NEON oversold', '$KGC http://stks.co/3Qta Oversold, falling wedge and positive divergence place it on the launch pad; looking for a bounce.', '@catskillfishing  Note the monthly chart of $GDX & how it recaptured support. $GLD possible double bottom set up. http://stks.co/aw6z', '$GDX $GDXJ $JNUG - strong move today for the Junior Gold Miners - keep an EYE out for a gap fill -', '$AAPL $131 rally mode', \"$FB I've been dead on so far. Such a bloated valuation. https://t.co/czCf8Kbrlt\", '$QCOM chart: Qualcomm Short 61.8% Retracement, Trendline and Resistance. https://t.co/2WQqh35KOY', '$NUGT Gold above 1400...wow', '$PKT Momentum building for breakout trigger ! Long setup http://stks.co/eXVU', '$RAD All my charts are flashing oversold.', '$AAPL bounces off support, it seems', \"$TSLA upgraded to Buy @ Argus w/ $333 PT - you'd almost think after ~100pt run in 5 weeks this would be the sell signal\", '$HPQ Says Breakup Will Cost Billions, but Sees Savings Too http://stks.co/p27hZ', \"$GLD http://stks.co/jr8 Daily chart - though RSI and Stoch. point at a possible move up, there's a lot of resistance.\", \"Commented on It's Time To Embrace Dividend Growth https://t.co/wc2qfP79TN $ABBV $CSCO $WYN\", '$ES_F. Nice little cup-and-handle shaping up on the 15-minute. End-of-day $SPY $SPX favours a good day for the index. Will we see a gap open', '$YHOO A breakout above $29.83 would constitute a technical entry for the short term trader. http://stks.co/jkUF', '$TSLA <STUDY the CHARTS> Pullback_Time https://t.co/ZMDG0fb3I7', '@NASDboy I think the DNF crew can get this $NFLX short into the next 30 days heading into earnings', '@SOULLOR the regular scrappy Q $SWY usually presents. Sales weak, margins down, debt still way up.', 'Adobe Receives New Rating from Top Analyst $ADBE https://t.co/LJNXPEvHZN', \"My $DWA play up 6% today. I'm still skeptical. Will take profits. Not a time cheer\", '$AAPL Taking out the shorts here, a punishing reminder not to spear the  strongest in the herd.', \"Really surprised by how much $FB has now fallen. Thought there'd be some support around the 50d, but I guess not.\", 'Rival companies $GWR and WATCO eyeing $RA w take-over interest.  http://stks.co/o0xY', '$AAPL 620 resistance area', '$AMZN long into earnings. looks good over 600', '$amzn 4 period RSI is down at 20, just read Connors book on trading strategies', '$RIG whos ever pushing this is crazy, get ready for suspended dividend (turning into growth stock) blow out earnings, and major buyback, lol', '$spy $vxx $aapl the parties over loaded on $uvxy volatility is back', '$SPY weak close', '$NQ got hit hard lower this AM --> looks like it has found support a 18.89 http://stks.co/s052z', 'Today I bought more $MU $YHOO $VALE $NBL $TWTR $AXP $ZNGA https://t.co/Vt6T5Zp2is', 'Tesla to recall 2,700 Model X SUVs over seat issue https://t.co/OdPraN59Xq $TSLA https://t.co/xvn4blIwpy https://t.co/ThfvWTnRPs', '#Tesla: Model X Recall Adds To Reliability Issues $TSLA https://t.co/jVXQ4DoXnP', '$isrg trading at all-time high after strong earnings report with 4 days of short interest.', 'Micron Shares Pounded On Fears Of Loss Of Business From Apple; Stifel Defends $AAPL $MU http://stks.co/t1Z8T @Marjo', 'long $SDLP $CPGX $TWTR $BITA $LABU $FB $TSLA $ETE $SDRL  Autocharts @ https://t.co/nxLx1ES7nY', '$NFLX small pos, short 180 wkly puts.', '$AAPL at resistance right here...sold my shares...will buy back if it dips or if it goes in the 128 gap zone', '$PCLN runs into the 50sma on the acquisition news', '$AAPL rejected the hod...should head lower. Sitting on the sidelines for now.', 'Costco: A Premier Retail Dividend Play https://t.co/Fa5cnh2t0t $COST', 'Netflix Grows Efforts To Create Loyal Customers $NFLX https://t.co/5QXBkoBphe', '$LINE biggies must be loading up here at lows..', 'Whats up with $LULU?  Numbers looked good, not great, but good.  I think conference call will instill confidence.', \"$FB trend, hits mid 110's and drops\", '$GOOGL gets an upgrade price target $970', \"$SPY c'mon bulls buy DIPS!\", '$SLV POS, been saying it for 2 years. Going lower. Forget about it or go short.', '$MPWR CEO sells 450k april 15th..meh', '$spy bumping its head on declining daily 8ma as overhead resistance. Then the big brother 50ma just above that.', 'I am not optimistic about $amzn both fundementals and charts look like poopoo this quarter.', \"Is #Facebook's user engagement falling? https://t.co/tqMMt7N16X $FB https://t.co/sedqRWgdkt\", \"I don't see it. 200 day sma is the big hurdle. There is a good base building. $NFLX  https://t.co/ImKYGO2cyc\", 'Why $MCD looks set to fall further. http://stks.co/f2fgj', '$YNDX and the price of some stocks was 2 times lower then annual earnings, I could not resist, I  was buying when everyone was selling', '$SPY bull move ended waiting for next setup', 'Added. Cost now at 1.54. Bounce off of Put OI & S1 pivot. @moteltan BTO $AAPL Apr 27 2012 605.0 Calls @ 1.66 for ride to 609 ish.', 'Bought some more $CELG as it is ready for a bounce.', '#Tesla Model S deliveries are up 35% in Germany - record deliveries in March [Chart] https://t.co/yCnClcBImV  $TSLA', \"$FB churning in high volume @ IPO price. Lot's of sellers trying to get out. Might take a while here to consolidate before moving higher.\", '$LUV Continues to consolidate above previous break out area...', '$FB bot some @78.47 breakout from the consolidation zone :D', '$INTU is in the process of streamlining its structure, especially through divestment of non-core businesses   https://t.co/dR5baNun2u', \"$SSYS just re-tested lows . Should rise steadily from here. It hit $81 just 21 trading days ago, and $130.86 on Sept 18. It'll do it again.\", '$TWTR sad the only thing to move this is a takeover rumor only to be sold off next day !', '@technik I still have a smaller $GILD pos. Being very tender with cash due to volatility. So reluctant to keep many big positions.', \"Think $FMS will challendge 200-EMA in not distant future.   Look at yesterday's volume\", \"Starbucks' Digital Strategy To Drive Significant Growth With Customer Loyalty $SBUX https://t.co/Xk6lZ3UI3K\", 'Windows 10 is awful why did it force an upgrade on my pc without my consent? #windows #Microsoft $msft', '$JD down 20% in after-hour market. anyone care to explain why?', '$WYNN big bounce', '@HopeTurock yes, the expectations of a deal are somewhat priced in but we could see a nice pop if bids come in higher than expected... $YHOO', 'Held its recent double bottom buy point of 56.57 almost to the penny today $WMT http://chart.ly/6nosp5q', 'Short on $ATVI from 24.55.', 'Tesla is recalling 2,700 Model X cars: https://t.co/8Z7BkVsTl9 $TSLA', '$TSPT  long 8.00', '$YELP This goes green and so many shorts are toast!', '$TRX http://stks.co/1KkK Long setup. MACD cross.', 'Short interest increases yet again http://stks.co/e19h via @ryandetrick $SPY', '5 Best Analyst Rated Stocks in Last 72hrs: $ORCL $AAPL $CBS $INO $CPXX View all ratings here: https://t.co/IRID6zd5gc', 'End Of Day Scan: Bullish MA  Crossovers $BBVA $PDS $NTLS $NGL $SBRCY $FGL $MTNOY $TTT  www.dailystockplays.com', \"$AAPL Now I'm glad I got stopped out of my $113 weeklies when I did. Will re-enter next Monday for the #earnings run-up.\", '$INTC & $AAPL strong, tech leads DOW higher', '$DNKN $KKD $DPZ $LOCO Inside week buy triggers. http://stks.co/h0vV8  http://stks.co/r0ebN', 'Microsoft joins the open-source Eclipse Foundation https://t.co/z8G5cZaKeU focus on collaboration & open business is a smart strategy! $MSFT', '$SPY Less than 0.2% down and people are calling it bearish. Some heading for exits already. Maybe 1% down will be \"the crash\"? Disturbing!', '$PRLB hanging tough in down market due to analyst upgrades last week. Up almost 3%.', 'RT @tomhend777 $MU needs to hold here -Broken for now. Needs big flush. Still not technically oversold so now big bounce yet', 'Also, BMO had just initiated $incy with an outperform yesterday, while several other firms all reiterated buy ratings.', '$BOBE down $2.84  premarket', \"$CTRP not a bad long chart now that it's through sma100 resistance.\", '$AMZN Trailing 12 months operating cash flow rose 48% to $4.98 billion & free cash flow decreased 63% to $388 million http://stks.co/c06zG', '$VOLC THIS STOCK HAS A VERY VERY VERY VERY VERY HIGH PROBABILITY OF RALLYING TOMORROW AND/OR EARLY NEXT WEEK', '$SBUX downgraded to neutral at Deutsche Bank. Price target reduced to $64 from $70.', '$PLUG Closed short position. Small gain. Not interested in options expiring worthless', 'Isolationism? Another Sell Rating, Sell Ratings On SPY, QQQ, IWM And Several Companies https://t.co/j35FNnx744 $AAPL #APPLE $AXP $BAC', '$IWM buy programs popping $iwm for close print cheap money means higher stock prices $spy robot buying', '$AAPL a new long IF 110.61 is broken. Targets are 112.19, 119.86 & 123.82. Bears must retake 102.77. $QQQ $NQ_F $NDX https://t.co/6l3m1wXChw', 'Exact (EXAS) Flagged As Strong On High Volume $EXAS http://stks.co/r26Ra', '$ACAD under $2 today?', '$CIEN http://stks.co/dZU CIEN seems to have broken out of a major horizontal resistance. Targets $14.35.', 'bot $AMZN 600 weekly calls here @ 5.93', '@Dojiknows th SP and the potential of QNX BES10 and BBM  cross platform will bring good news in time $bbry', 'Why Alphabet Inc was just upgraded to buy https://t.co/dEVnLKhqtZ $GOOGL', '$AAPL AAPL: Gundlach Slams iPad mini, Sees Downside to $425. http://stks.co/bDqV', '@Stockoptionexpert: $MAT - 6%, big trader added 10000 April put contracts 3 days ago  http://stks.co/c1Ols', '$STX long play, another consistent profit zone.. check it out https://t.co/DQfuzOzYlh https://t.co/ggne4ayzqn', '$SPY Tomorrow party time for the Bears!! $GOOG and $MSFT -5.5%', '$LNKD Daily Phase 2 retest - Price experiencing early rejection. Can it retest? http://stks.co/t04xX', '$CSX another strong rail today after breaking intraday resistance at 1$9.80 https://t.co/eA4FBVuqGP', 'Look at that $AMZN > 600', '$CNP Sell Short Position on CNP,...Closed for Profit $ 59,367.00 (7.75%) http://stks.co/ghjc', 'Activision Blizzard Media Networks Announces Record #Esports Viewership https://t.co/729BiqLbtK $ATVI partnered with $HDSI for 9 #tournament', '$KO had missed earnings expectations for the last two quarters, so today’s strong results came as a major surprise http://stks.co/d0RHF', '$aapl.  Test the high today and probably go beyond after hours...', '$NSM ascending base breakout starting to gain traction; strong stock http://stks.co/gBSH', '$YMI http://stks.co/Xyf Long setup. Closed above the 20MA. MACD cross. November catalyst.', \"$TSLA announces a recall and the stock doesn't sell off. This stock is teflon. Won't last forever.\", '$QCOM The indicator RSI is over 50, which stands at 56.1, an upward movement is expected. https://t.co/yfa9jcUsQa', '$SBUX inverted head & shoulders pattern in the works. bullish.', 'Apple Inc.: The Rip-Roaring Rally Is Just Beginning! (AAPL) | InvestorPlace $AAPL https://t.co/jrcFC8XlY9', '$AVGO great growth stk &  also raised dividend . clearly a great investment http://stks.co/r2F3h', 'RT @stockdemons think shorting here into close might be play, $SPY - high beta reversing..looks worth a shot', 'Deutsche Bank cuts $SBUX', '$AEGN MACD and ADX are crossing over the signal lines! Long Setup http://stks.co/qzzx', '$TSLA recalls 2,700 Model X cars. Stock dropping hard...', '$SLV -4.44% at 18 now AWFUL, down from 42.50', '$COST Costco less than stellar day but it held the 50 day moving average', \"$ENDP - we saw a large order in this one last week, someone also accumulating May & Jun 35's Calls today\", '$FB & $TSLA cracking lower early. $short #correction #stocks', '$AAPL long 630.91', '$DUG weekly stochastics finally starting to turn up after long consolidation. Buying here.', 'what #stocks large players are selling http://stks.co/t0Vel $CROX $GOGO $INO', 'Added more $BBBY @jimcramer is wrong about this one. Still a very profitable merchant with profitable stores', '5-star analyst @brianwieser from Pivotal Research upgraded rating on $GOOGL to BUY. Brian has a 79% success rate https://t.co/t0dn02EOH5', \"$IMRS - it's important to be pragmatic in analysis...high prices could offer head-winds....bullish story intact,evenif the market rolls over\", '$CRK time to accumulate for a long position with far more upside than downside', '$GOOG Testing the 200 day after some consolidation http://stks.co/h0cPJ', '3rd red day in a row ? $TSLA', \"$DGI technical alerts: Gilligan's Island Buy Setup, Stochastic Buy Signal, Lizard Bullish, Hammer Candlestick, Wid... http://stks.co/c29Nu\", '$AAPL Beat the estimates. Will still go down on lack of new products. https://t.co/sX3z7u6N8o', '$COH Gaining Momentum! Nice buy signals here! Long Over $35.92 http://stks.co/t0tAh', '$AAPL Good time to buy. Will the run come before earnings or after?', '$BBRY Actually lost .03c per share if U incl VZ as no debt and 3.1 in Cash.', 'Double bottom with handle buy point of 29.51 $IP http://chart.ly/akvujxh', '$BBRY Ready for Take OFF!', '$NVDA sideways', '$CERN - consolidating above 50 & 200 MA - nice long entry here w stop below 10 MA - targeting $70 area', '$KNDI #China #ElectricCar maker. China car sales +7.8%. Also, may feed off $TSLA momentum run lately.', \"$AWR Standard & Poor's Affirms 'A+' Credit Rating at American States Water Company and Golden State Water Company http://stks.co/f2P94\", 'RT @Cash_Cow $TLT still has a rising RSI & MACD, all this bond buying is signaling some bad moves for the market. $SPY $UUP', '@Vegastrader66 Looks like good entry for $QIHU here.', '$GALE Breakout Coming Soon!', '@Intuitiv $CLNE gasoline prices spike in California. http://stks.co/t1bOi', '#NDX component Tesla has announced it is recalling 2700 Model X SUVs. $TSLA', '$RSOL bought 3500 shares today!', '$KEP breaking out when the market pulls back  http://stks.co/r0cet', 'Starbucks downgraded on same day as new downgraded rewards program starts  $SBUX', 'Qualcomm: 10% Dividend Increase Rewards Patient Investors, The Future Looks Bright https://t.co/TJjVpqhHqD $QCOM', '$BBRY lets see 14+ today', 'That bearish outside day Tuesday is significant. 200 day resistance still intact. just my opinion $SDS http://chart.ly/2bey48t', '$TSLA recall', '$IWM same conditions that sent markets to tumble all hitting this week', 'expecting  $SPY to close above 205.20 $AAPL', 'Thank you $GOOG (Google Alphabet) and $FB (Facebook) stocks! What a nice reversal.', '$LULU #Outlook #Q1 2013 #lost revenue in the range of $12 million to $17 million -not good', '$GPS Gap September Comparable Store Sales -4%', '$FB Big Money Is Pouring Into Facebook From All Directions;http://stks.co/sOwG', 'Tesla Motors recalls 2,700 Model X SUVs $TSLA https://t.co/F55dx4aegI', '$AAPL Action into the close indicates that $AAPL probably hit a near term high.  Momentum slowing after a huge run.', 'RT @Street_Insider The Steve Jobs Effect? Apple $AAPL First Day iPhone 4S Sales Were Off the Charts http://stks.co/YYe', '$MA http://stks.co/1CYN continues to consolidate / base here', '$AAPL Nice RSI 33 bounce at 9:58', '$VMW  Got a nice push today following small sweepers of May C this morning', 'LinkedIn Revenue Up Nearly 50% http://stks.co/g1F4T  $LNKD', 'Long $ENDP @ $26.23 on $AGN b/o rumor', 'Sudden optimism about iPhone sales (i.e., not as bad as expected) gives Apple $AAPL a lift.  https://t.co/oKTCw4YiB5', 'The Boeing Company (NYSE:BA) Bearish Trader bets $550K that Stock Will Sell Off 9.79% by July Expiry $BA http://stks.co/tCSE', 'End Of Day Scan: Stochastic Overbought $JDST $FREE $BLRX $LPG $AFSI $DVAX $HDGE $AHT $ALR $ASMB  www.dailystockplays.com', '$RDC Rowan Expands Share Repurchase Program to $150 million', '$SPY  still wants higher I think.', '$BBRY Sierra. Has a great cash balance and impressive growth rate.Would be a wonderful marriage!', '@chessNwine: $IWM 30-Minute Chart. Small caps threatening descending triangle breakdown under $110.20.  http://stks.co/r0KKm', '$CTRP  breaking out here on good vol and a parser buy signal  ..noticed this on bob langs comments looking for 48 fast', '$AAPL AAPL finally breaking under the 49 M.A.. With no buybacks this week, look for AAPL to test the 120 support area.', '$WFM Bought a little yesterday, hoping for an earnings pop.', 'MT @TheAcsMan Amazing seeing everyone suddenly touting $MSFT. Long been favorite covered call & double dip dividend play.', '$DISH weakness continues again. 49.43 area resistance after last week', '$GILD  is expanding its research facilities...keeping up with the pace of innovation  https://t.co/uOE7FJ4LOP', '$KCG bot at 2.24', 'Breaking: Tesla recalls all Model X cars  .. details on show now $TSLA', '$CELG back near 104, where it opened and rallied higher last wk. A good place to take a shot https://t.co/zwHThSvFSF', '$NFLX +3% of the lows', '$AAPL bounce right now has no vol, more vol when it slid', '$MTD (Mettler-Toledo) ready for a breakout', '$aapl short term fund/redemption liquidations.. Should have the channel cleared soon and on solid footing. $520 is new floor come July! :)', \"$ROST Nov 90 calls 2.08 .. Go Long until exp imo ! Unless europeans keeps F'ing around !\", '$TSLA lots of green on the 5 min, watch the hourly $259.33 possible resistance currently @ $257.00', '$TSLA You have to love these types of articles. SS interest rose on 12/15 on day before we hit our lows. http://stks.co/c1QKr', '$AAPL Goldman Sachs reiterates conviction buy on Apple with a $155 PT $SPY $DJIA $GS https://t.co/h5hmXSITwM', '$aapl high of day just hit. Back at it tomorrow.', '@BULLYA @pollux654321 My 50 $KORS 80 Calls are going to b a Blessing for my Daughters tuition!', '$TSLA recalling pretty much every single model X @cnnbrk got to short that even at work you jump in money trade', '$FB trending nicely, intraday.', '$YHOO making new HOD', \"Short more $FAZ for all who don't know that means markets will tank now :-p\", '$SPY Long 1/2 position 137.89', '$KITD Looking for a oversold bounce.', 'Long $GPRO for a brealout trade', '$JE LOOKS like we are bouncing.  Would be nice to finish over $6 today, and make the hammer.  Nice volume from 5.77 bottom.  Fingers crossed', \"Profit taking on $AAPL this morning?  That has to be the pressure on the stock.  I'm still bullish on $AAPL.\", 'Key price to watch in $NFLX, off the previous double top reject, 218.23 http://stks.co/sIYn', '$ELN longs...congrats...another HOD', 'Deutsche Bank downgrades Starbucks because of new loyalty program https://t.co/Iy4LCUGABc $SBUX', '$MXWL Oh snap. Just went long again. LT', '$GOOGL is a short below 740 into the upper BB and is overbought', '$OSUR up 33% since 6/25 buy signal. resistance 5.33 - expect 1. pullback 2nd half of day or 2. break abov 5.33 & continue rally for 4-5 days', 'Double bottom with handle buy point of 56.49 $WMT http://chart.ly/ml857v3', '$AAPL wants lower. up waves getting smaller on the 2 min', '$vxx adding to position here !', '$AGN and $PYPL under pressure along with the market, however there were bullish options trades in both this morning https://t.co/9xG5W8nONT', 'long $AAPL 107 calls @ .40', '@Dlerch LOL! $FMCN back under $17, darn those shorts! No chit Sherlock!', 'Locked in some $FB puts for nice gain', '$LSCC Accumulation chart continues to make new highs showing accumulation continuing to take place http://stks.co/aDpO', '$CDTI bounce here on support or H&S setup this area is very important for bulls to not lose http://stks.co/c0mf3', '$CTRP breaking out https://t.co/Z2je3rTKch', '$FB still a dog going much lower this week', '$ESI on lows, down $1.50 to $2.50 BK a real possibility', 'Synergy Pharma Soars 67% Today On Positive Phase 3 Results $SGYP http://stks.co/j2awg', '$AMRN You can many times find top and bottoms when shorts start rejoicing or bulls start rejoicing. Currently it is the shorts rejoicing', '@louiebeene vwap is 1.63, held the trend line. Should be on a LOT of radars. $NAVB', \"Amazon declares 'best ever' Black Friday and Cyber Monday for Kindle family http://stks.co/cEtw via Engadget $AMZN\", \"$SAVE breaking it's downtrend line on increasing volume. A move above 20.57 could see more upside. http://stks.co/l8y4\", '$GS is looking weak while this market is moving higher not a good sign. Unless $gs can get above 157. early short below 154.00 today.', '$TSLA Recalls 2,700 Model X Vehicles; Shares Volatile https://t.co/tcKqZnMIqX #TSLA #tech #stockmarket https://t.co/FeMhJtAmQj', \"$RUSS Don't catch falling knives, but I think an entry is coming soon on this\", 'Breaking 52 week highs timing looks great now $AHS $BABY $POST $IGE $IRDM $EWBC $PHYS $ULTA $VNET $BIV https://t.co/11K8JzuzMU', 'Hard to find new buyers of $TSLA at 250.  Shorts continue to pile in.', 'Red Daily Triangle on $SHOR,...Scaling Up on Long Position http://stks.co/r82S', '4 beaten-down Internet companies that may be ripe for a #takeover target: #Twitter $TWTR - #LinkedIn $LNKD - #Yahoo! $YHOO - #Groupon $GRPN', '$IBM staying strong', '$mcp rolling over for a new intraday low. Bottom Pickers continue to get destroyed', '$WX Decent pull back . .', '@scottrade Why is $tsla not available for shorting at this time?  Same for $w?', '$SKX turning. Coming from far could go far. Stock price implies you pay nothing for the business', \"RT @Dasan @TMTanalyst ...since $AAPL mastered their supply chain // in cornering NAND, Apple mastered EVERYONE'S supply chain!\", '#LongPos $TSLA 256 Break-out thru 50 & 200- DMA (197-230) upper head res (274-279) Short squeeze in progress Nr term obj: 310 Stop loss:239', '$FB i guess they want it down look at the those sell orders', 'RT FITZSTOCK2004: $IYT http://stks.co/1NBF the Transports always lead  the way, and  they broke DT  line  1st, MACD cross,  bull  flag=', \"Went long on this $COG, will see 70's again me thinks\", \"stole my tweet. really wouldn't be surprised if we took out 423 and pinned around it RT @totalguru We could possibly even see425 today $AAPL\", '$TSLA yeah lets go down to 230s lol', 'Supermarket Stocks Rally as Tesco Plans to Axe Non-core UK Assets $TSCO https://t.co/BmvhcrwREA', 'Juniper tumbles on Q1 warning; Cisco also lower https://t.co/N8X8BpLJ1E $JNPR $CSCO', '$TSLA gyrating @ S1 above gap. keeping an eye on S2 http://stks.co/jQfB', '$YHOO About to break out on the 5-min...', 'Daily Mail owner considering Yahoo bid $yhoo ,up 2,05% https://t.co/extZr1riyP', '$LULU http://stks.co/o17i Bounced off support early in week - now indicators turning up (RSI, MACD, SMI) Worth a look', '$TSLA I see more downside in next two weeks be careful -20 dollars drop potential vs +10 up moved', '$TSLA Wish had my puts back but see if we can find support around 243.39 and pop up so that I can get back in. https://t.co/hFkLq3WObV', '$WFT closng higher from here', '$SBUX heading for the 200DMA and certain doom if it can not hold there.', '$CRUS Upgraded to a buy by Alpha Street Research', '$GILD Sandbagged the guidance so the can use that last 3 billion up.  CC was cautiously optimistic, wait til Next ER for confirmation', '$EA points to the two Facebook games and accuses $ZNGA of copyright infringement. http://stks.co/g3A1', \"$XLF http://stks.co/1KJ9 Bounced off target buy area, bought $skf as a hedge. watch 50ma's slope\", 'Commodity Channel Index Indicator signaled a Oversold for $FB #stockmarket https://t.co/VM32d3M9xi https://t.co/cvkojk05Xn', '$SAP Q1 disappoints as #software licenses down. Real problem? #Cloud growth trails $MSFT $ORCL $GOOG $CRM $ADBE https://t.co/jNDphllzq5', '@pierrules: $SIRI LONG!!', 'RT @joemccann the correleation between the dollar index and $SPY is simply amazing. $DX finds support, $SPY retreats like clockwork', '$NFLX and $TSLA making all kinds of gains 📈', '$DARA breaking out', '$FB popping up to HOD', '$aapl news is becoming very bullish again http://stks.co/tMU', 'Citrix Systems Inc $CTXS Position Increased by Mizuho… https://t.co/v7Lkq08Flp @ShareStockNews', '$AMGN And #UCB Announce Positive Top-Line Results From Ph3 Study Evaluating Romosozumab In Men... https://t.co/4hBoUDR8B8 via @YahooFinance', '$SPY Looks like bear traps getting laid faster than Cadbury Creme Eggs by the Easter Bunny', 'Juniper tumbles on Q1 warning; Cisco also lower $JNPR $CSCO https://t.co/bGvIntk43h', '$DXCM - Making higher highs & higher lows as it consolidates over past several weeks. 26.70 was all time high (2006).', '$DNN picked some up, like this going into 2014', '$UGAZ Will this cold put a dent in the massive horizontal rig production. Who knows  http://stks.co/p1V6P', 'Long $PCLN', 'Nasdaq Sets Up for Breakout Part II | via @AllStarCharts http://stks.co/15Nv  $GOOG $AMZN $QCOM', 'NetApp downgraded by Macquarie to underperform. $22.00 PT. https://t.co/XCNgws0t4q $NTAP #NTAP via @RatingsNetwork', '$vxx starting to creep up while $spy sits near hod ...', '$ENB.CA {Head&Shoulders} bullish reversal setup and breakout. Oil and Gas Pipleline stock. $USO', '$PCLN Back to Back intraday reversals look out below. Shorts moving in!', \"$NUAN held up well after the big gains! Maybe we're finally on the move on this!!its still very undervalued and has major upside\", '$AAPL at pivot area on intraday chart- break here could send this to 50-day SMA, 457.80 http://stks.co/jPbN', '$GNRC finding support at its 10-day line so far.', '$SPY $MITK fast 56pc dive http://stks.co/3ffN $$', '$AAPL afternoon selloff as usual will be brutal. get ready to lose a ton of money.', '$SPY Could the pride of social media be gettin ready to fall?  $FB - chart rolling over?', '$INO back in this am small post', '$FB they are hitting  everything in sight.short it. but twtr', '$FB SHIFTING ON THE 15 MINUTE HERE - SUSPECT TO TAKE HIGHS', '$PRGN A bottom right here?', '$amrn Full bull call spread ranging July to Jan 15. Lets see what this baby does,', 'Baird likes $TSLA - upgrades to outperform, lifts price target to $300. Research firm also sees no capital raise necessary in next few qtrs', 'longed $AMZN 300 @ 189.82', '$AAPL - Has broken its downtrend - but 200DMA proving to be stiff resistance short term. https://t.co/VlzlgvIHZV', '$CHRM Loooooongggggg base', '$brcm raises revenue forecast', \"So as of today's close (8/15/14), I'm long $TSLA $AMTD $TWTR $FB $AAPL $CELG - all on a longer-term, technical swing long basis.\", '$FB Nice buyable intraday dip right here', '$FB watching for bounce tomorrow', \"It's a bad idea to make 5 min predictions based on faith: RT @dandyduct $AAPL Sell signal hit at 584, it will go down for the next 5 min\", '$HRL ready to pop! http://stks.co/s0Ny4', '$pcln back over \"up\" trendline from 10/4', '$SPY extreme win today - 2 cents above 2009  low on 10-year and $SPY up 2 percent - life is a bowl of cherries - great short setting up $$', '$RCON some upside today. This thing is severe low float. If there is catalyst for this guy. It can run.', '$LNT Increases Annual Dividend Target to $1.80/Share from $1.70/Share', '$FB (110.20) is starting to show some relative strength and signs of potential B/O on the daily.', '$CHKP ABC Bullish Pattern, Targets https://t.co/uVMmRSR5Zy', '$QCOR Just added 3,000 shares @28.', '$FB slight green... May be runner later', '$ocn has the stuff. Will be looking to add shares if we get a new high breakout.', '$DMND green and moving', '$NFLX VISION : short term consolidation then movement higher http://stks.co/j05uu', '$PCLN Trying to break daily trend line! Big move could happen https://t.co/gY0aDb2jsQ https://t.co/KPBBCgQ2xy', '$AXP Looking for continuation with volume increase http://stks.co/c8sR', 'RT @andrewnyquist Chartology: Yahoo: http://stks.co/1itr $YHOO  Crazy looking chart, but nearing breakout resistance line...', '$WAC trade continuing very nicely from yesterday, almost up $3 from yesterday entry, deal pricing tonight looking very strong here... $SPY', '$GRPN might be selling off ahead of $P earnings...', 'Most bullish stocks on Twitter during this dip. $YHOO $GDX $GOOGL $STZ $GOLD $EW $VZ $CELG $SBUX $SCTY more: https://t.co/iuZJelfwt3', '@CGrantWSJ I think this $TSLA bubble might go on for some time. So long as ppl love the cars, they might keep getting funding.', \"Watch these bancos.they're holding up relatively well compared to the broad market $XLF $BAC $GS $C <--large C buying in $BAC in backburner\", '#Apple breaks major support, here are some levels to watch - http://stks.co/jRmW $AAPL $QQQ', 'Sheryl Sandberg Sells 109,000 Shares of Facebook Inc $FB Stock https://t.co/3vXT7AMnpk via @RatingsNetwork', \"Entering long Lockheed Martin $LMT at Thursday's open. http://stks.co/eXtA\", '$ISRG - ISRG Short - http://stks.co/f1vVU http://stks.co/c1qrm', 'Long $X 24.62', '$HSC Receives 7-Year, $50M Contract at New Saudi Arabian Steel Mill', '$mako hanging in well today. still in a basing pattern. have eyes on it', '$HLF shorts made a killing last couple days, might make more if cover and buy back?', '$YELP wayyy overvalued right now IMO. Should be trading single digits. May take a short pos. into earnings. Near term target 18 ......', '#FusionIQ NEW Positive Timing Signal on $SBUX Today https://t.co/9ImlXz4YNa Please Retweet #Signals', '@StockTwits: @Kbkiwi: $TSLA Tesla Model S sales exceed target, profitability guidance amended upward: http://stks.co/jQ0w\"\"', '$FB gone green on day', '$YHOO fishy action. New party interested (DailyMail) bounce & retreats. Not short by any means, but action questions big up move. Thoughts?', '$TSLA is now up 57% from its February low. Amazing rebound.', '$GILD 91 now support. $IBB $BIB https://t.co/GIoOf6zbKv', 'Buyback not trending right ( $CPIX spending more as shares pricier). Hopefully will pull back w 6.87 Q2 closing VWAP', '$TSLA weakest in todays DT watchlist', '$AMZN Going thru the roof needs a sell!', '$TNH Looks like an explosive setup if it can break the 20EMA and 105 level http://stks.co/b1SVH', '$FB turns back down in early trading.... https://t.co/reuf5PzhBm', '$LEE http://stks.co/24kM LEE ready to exit bankruptcy. Strong volume today.', 'EA Launches Origin Online Game Distribution for Mac http://stks.co/aKTU via MacRumors $EA', '$KNDI Break that HOD on volume, and we have a nice consolidation completed for another run.', '$TYC just about to break out to new highs, lots of technicals looking great right now.', '$GOOGL is setting up above its 50-day moving average. https://t.co/tTm9RnFoXJ', '$ZNGA http://stks.co/3rdu Looking for a test at 9.25 resistance point. cc @ cfrazierjr @FletchTrade #traders', \"$QIHU totally missed this one, was about to jump in on that 60 break test but didn't, congrats shorts\", '$SMH got a sell signal on 6/4 and needs to take out 39.28 to go higher otherwise headed lower than 37.60 gap below at 35.38', 'SiriusXM added 465,000 net new subscribers in the first quarter of 2016 $SIRI #CEO #sales #marketresearch #tech #entrepreneur #Speaker', 'Multi Top on $MCD chart finally leads to a fall in price.  Stability is questioned in the stock but coming weeks will tell.', '$SLW is down, but weekly $34 calls (-28.95%), .23 x .25 have 321 volume. Worth a chance here, jmho: http://stks.co/1Qfg', '$ONTY Continues to base as debate lingers. ONT-10 data next potential catalyst. If positive, stock quickly moves to $10. Downside limited.', 'Homebuilders - $RYL breaking below support, watch this one.  $SPY', 'Sold some $TSLA Puts this morning Closed them at the close. Helps pay for monthly expenses', '$BAC $ADSK $NFLX long this morning', '$SKH http://stks.co/163e Long setup. Watch for continuation and volume expansion here. Hot sector.', \"$NFLX I say it's time to short at this point.\", '$EDU bouncing nicely after add-on (posted)', 'Sold out $TZA 45 $PUT (down $1), which were hedging my 45 $CALL. Letting the calls ride solo now.', '$EBAY  e-bay bay!  working on a couple daily dojis .. should continue to the downside  https://t.co/lgU0yBxEZe', '$renn topping tail 5 min. chart at 7.31 short from here.', '$GEVO PLUNGING!  Back to $3.55.', '$AAPL double bottom could be in, keep in mind', '@Megaas2000 $AAPL McDonalds had a big GROWING success for years with the same BigMac and Apple update and improbe Iphone and Ipad', '$UTSI http://stks.co/15uR Long setup. Reported very good earnings.', '$YANG Double bottom 5.2', '2nd raise this year.  \"@BVHealthcare: $QCOR Questcor Increases Quarterly Cash Dividend 20 Percent.. http://stks.co/goan\"', 'Phew! So far good $BBRY did not break 10.40 coz I was told that is key support level.', 'Just went long $ILMN', '$QCOR a little pullback is fine but if this erases all of todays gains, I cannot believe the manipulation its capable of', '$PG Ackman making the big added efficiency argument. betting on operational imporvement in a huge conglomerate can go either way imo.', 'FBR Capital reiterated \"Outperform\" rating on $BRCM with a price target of $45.00 on Friday.', '$GOOGL Hit With Lawsuit from Russian Search Engine $YNDX http://stks.co/b1kD8', '$INVE : SEE YA ABOVE $8', '$TSLA recall model X https://t.co/b7izYa4BuE', '$RIMM $spx $nya $compq $djia all going down', 'RT @ACInvestorBlog $AAPL still on track for $500', '$MFLX up  pre mkt. Looks like GAP has been filled....lookin 4 short opt here', '.@barronsonline sees #Apple at $150/share in a year (+36% from today) on growing services business. $AAPL https://t.co/3BDNEKN7l1', '$AMD big dumping... would not touch it for a while', '$AAPL near a 3% drop thats a lot... now the best i can do is HOLD ER lol', 'Long $TSLA short $MBLY https://t.co/jSpUSzo6na', 'Facebook, near a buy point last week, faces a different technical test today https://t.co/c72LLMpiNM $FB $AAPL $NFLX https://t.co/fPFbYTYPuY', 'Amazon has been selling surveillance cameras infected with malware $AMZN #Amazon  https://t.co/TohLEQ8FK6 https://t.co/5PR4cBtVVy', '@1nvestor: $SODA has a 42.71% Float Short. LoL  http://stks.co/e0DfP', 'ESPN Files Lawsuit Against Verizon - http://stks.co/i2Cj1 $VZ', '$HCP Come to the party and buy this -gonna give solid gains and a dividend $$$$$$', '$FB $AAPL $NKE $JWN bearish charts keep getting worse.', \"$KNDI Let's see some higher highs and higher lows rest of the day , slow and steady\", '$KIOR My god. Market getting crushed today. Gotta hold if anything g should recover some tomorrow I imagine.', \"$HYG Potential continuation Uptrend on a 60'-15'-4' charts http://stks.co/t1Qp6\", '$INO Up, up, and away!', '$PYPL great vol flow trade here.. Love this company long time.', '$TSLA TO RECALL 2,700 MODEL X SUVS FOR SEAT-BELT FIX']\n"
     ]
    }
   ],
   "source": [
    "import numpy as np\n",
    "\n",
    "post_array = np.array(post_df)\n",
    "np.random.shuffle(post_array)\n",
    "post_list = list(post_array[:,1])\n",
    "\n",
    "print(post_list)"
   ]
  },
  {
   "cell_type": "code",
   "execution_count": 12,
   "id": "3aad5149",
   "metadata": {
    "scrolled": true
   },
   "outputs": [
    {
     "name": "stdout",
     "output_type": "stream",
     "text": [
      "{'input_ids': tensor([[  101,  3435,  8189,  ...,     0,     0,     0],\n",
      "        [  101,  2559,  2005,  ...,     0,     0,     0],\n",
      "        [  101,  1002,  2358,  ...,     0,     0,     0],\n",
      "        ...,\n",
      "        [  101,  1002,  1999,  ...,     0,     0,     0],\n",
      "        [  101,  1002,  1052,  ...,     0,     0,     0],\n",
      "        [  101,  1002, 24529,  ...,     0,     0,     0]]), 'token_type_ids': tensor([[0, 0, 0,  ..., 0, 0, 0],\n",
      "        [0, 0, 0,  ..., 0, 0, 0],\n",
      "        [0, 0, 0,  ..., 0, 0, 0],\n",
      "        ...,\n",
      "        [0, 0, 0,  ..., 0, 0, 0],\n",
      "        [0, 0, 0,  ..., 0, 0, 0],\n",
      "        [0, 0, 0,  ..., 0, 0, 0]]), 'attention_mask': tensor([[1, 1, 1,  ..., 0, 0, 0],\n",
      "        [1, 1, 1,  ..., 0, 0, 0],\n",
      "        [1, 1, 1,  ..., 0, 0, 0],\n",
      "        ...,\n",
      "        [1, 1, 1,  ..., 0, 0, 0],\n",
      "        [1, 1, 1,  ..., 0, 0, 0],\n",
      "        [1, 1, 1,  ..., 0, 0, 0]])}\n"
     ]
    }
   ],
   "source": [
    "from transformers import AutoTokenizer, AutoModelForSequenceClassification\n",
    "  \n",
    "tokenizer = AutoTokenizer.from_pretrained(\"ProsusAI/finbert\")\n",
    "model = AutoModelForSequenceClassification.from_pretrained(\"ProsusAI/finbert\")\n",
    "#That's where the headlines get tokenized to be inputted into model\n",
    "\n",
    "inputs = tokenizer(post_list, padding = True, truncation = True, return_tensors='pt')\n",
    "print(inputs)"
   ]
  },
  {
   "cell_type": "code",
   "execution_count": 6,
   "id": "6bb5584a",
   "metadata": {},
   "outputs": [
    {
     "name": "stdout",
     "output_type": "stream",
     "text": [
      "torch.Size([675, 3])\n"
     ]
    }
   ],
   "source": [
    "#inference\n",
    "\n",
    "outputs = model(**inputs)\n",
    "print(outputs.logits.shape)"
   ]
  },
  {
   "cell_type": "code",
   "execution_count": 7,
   "id": "0c058273",
   "metadata": {
    "scrolled": true
   },
   "outputs": [
    {
     "name": "stdout",
     "output_type": "stream",
     "text": [
      "tensor([[0.9301, 0.0403, 0.0296],\n",
      "        [0.0269, 0.1169, 0.8562],\n",
      "        [0.9223, 0.0232, 0.0545],\n",
      "        ...,\n",
      "        [0.1357, 0.0154, 0.8489],\n",
      "        [0.1248, 0.7910, 0.0841],\n",
      "        [0.9058, 0.0305, 0.0637]], grad_fn=<SoftmaxBackward0>)\n"
     ]
    }
   ],
   "source": [
    "import torch\n",
    "\n",
    "predictions = torch.nn.functional.softmax(outputs.logits, dim=-1)\n",
    "print(predictions)"
   ]
  },
  {
   "cell_type": "code",
   "execution_count": 8,
   "id": "14bf0ea0",
   "metadata": {},
   "outputs": [
    {
     "data": {
      "text/html": [
       "<div>\n",
       "<style scoped>\n",
       "    .dataframe tbody tr th:only-of-type {\n",
       "        vertical-align: middle;\n",
       "    }\n",
       "\n",
       "    .dataframe tbody tr th {\n",
       "        vertical-align: top;\n",
       "    }\n",
       "\n",
       "    .dataframe thead th {\n",
       "        text-align: right;\n",
       "    }\n",
       "</style>\n",
       "<table border=\"1\" class=\"dataframe\">\n",
       "  <thead>\n",
       "    <tr style=\"text-align: right;\">\n",
       "      <th></th>\n",
       "      <th>Headline</th>\n",
       "      <th>Positive</th>\n",
       "      <th>Negative</th>\n",
       "      <th>Neutral</th>\n",
       "    </tr>\n",
       "  </thead>\n",
       "  <tbody>\n",
       "    <tr>\n",
       "      <th>0</th>\n",
       "      <td>Sudden optimism about iPhone sales (i.e., not ...</td>\n",
       "      <td>0.930094</td>\n",
       "      <td>0.040275</td>\n",
       "      <td>0.029631</td>\n",
       "    </tr>\n",
       "    <tr>\n",
       "      <th>1</th>\n",
       "      <td>$TSLA announces a recall and the stock doesn't...</td>\n",
       "      <td>0.026863</td>\n",
       "      <td>0.116930</td>\n",
       "      <td>0.856207</td>\n",
       "    </tr>\n",
       "    <tr>\n",
       "      <th>2</th>\n",
       "      <td>$ZAGG getting ready...Target $15 plus on a clo...</td>\n",
       "      <td>0.922294</td>\n",
       "      <td>0.023221</td>\n",
       "      <td>0.054485</td>\n",
       "    </tr>\n",
       "    <tr>\n",
       "      <th>3</th>\n",
       "      <td>$AAPL AAPL finally breaking under the 49 M.A.....</td>\n",
       "      <td>0.303710</td>\n",
       "      <td>0.010989</td>\n",
       "      <td>0.685302</td>\n",
       "    </tr>\n",
       "    <tr>\n",
       "      <th>4</th>\n",
       "      <td>Covered my small $MWW short @ 7.99 for a .16 l...</td>\n",
       "      <td>0.108848</td>\n",
       "      <td>0.648447</td>\n",
       "      <td>0.242705</td>\n",
       "    </tr>\n",
       "    <tr>\n",
       "      <th>5</th>\n",
       "      <td>$NFLX and $TSLA making all kinds of gains 📈</td>\n",
       "      <td>0.722883</td>\n",
       "      <td>0.012340</td>\n",
       "      <td>0.264777</td>\n",
       "    </tr>\n",
       "    <tr>\n",
       "      <th>6</th>\n",
       "      <td>$DARA breaking out</td>\n",
       "      <td>0.138333</td>\n",
       "      <td>0.425106</td>\n",
       "      <td>0.436561</td>\n",
       "    </tr>\n",
       "    <tr>\n",
       "      <th>7</th>\n",
       "      <td>$SKH http://stks.co/163e Long setup. Watch for...</td>\n",
       "      <td>0.176300</td>\n",
       "      <td>0.025571</td>\n",
       "      <td>0.798129</td>\n",
       "    </tr>\n",
       "    <tr>\n",
       "      <th>8</th>\n",
       "      <td>Long $GPRO for a brealout trade</td>\n",
       "      <td>0.124340</td>\n",
       "      <td>0.031759</td>\n",
       "      <td>0.843901</td>\n",
       "    </tr>\n",
       "    <tr>\n",
       "      <th>9</th>\n",
       "      <td>$EBAY  e-bay bay!  working on a couple daily d...</td>\n",
       "      <td>0.028595</td>\n",
       "      <td>0.916665</td>\n",
       "      <td>0.054740</td>\n",
       "    </tr>\n",
       "  </tbody>\n",
       "</table>\n",
       "</div>"
      ],
      "text/plain": [
       "                                            Headline  Positive  Negative  \\\n",
       "0  Sudden optimism about iPhone sales (i.e., not ...  0.930094  0.040275   \n",
       "1  $TSLA announces a recall and the stock doesn't...  0.026863  0.116930   \n",
       "2  $ZAGG getting ready...Target $15 plus on a clo...  0.922294  0.023221   \n",
       "3  $AAPL AAPL finally breaking under the 49 M.A.....  0.303710  0.010989   \n",
       "4  Covered my small $MWW short @ 7.99 for a .16 l...  0.108848  0.648447   \n",
       "5        $NFLX and $TSLA making all kinds of gains 📈  0.722883  0.012340   \n",
       "6                                 $DARA breaking out  0.138333  0.425106   \n",
       "7  $SKH http://stks.co/163e Long setup. Watch for...  0.176300  0.025571   \n",
       "8                    Long $GPRO for a brealout trade  0.124340  0.031759   \n",
       "9  $EBAY  e-bay bay!  working on a couple daily d...  0.028595  0.916665   \n",
       "\n",
       "    Neutral  \n",
       "0  0.029631  \n",
       "1  0.856207  \n",
       "2  0.054485  \n",
       "3  0.685302  \n",
       "4  0.242705  \n",
       "5  0.264777  \n",
       "6  0.436561  \n",
       "7  0.798129  \n",
       "8  0.843901  \n",
       "9  0.054740  "
      ]
     },
     "execution_count": 8,
     "metadata": {},
     "output_type": "execute_result"
    }
   ],
   "source": [
    "#Formatting the results as a pandas data frame\n",
    "\n",
    "import pandas as pd\n",
    "\n",
    "#Headline #Positive #Negative #Neutral\n",
    "positive = predictions[:, 0].tolist()\n",
    "negative = predictions[:, 1].tolist()\n",
    "neutral = predictions[:, 2].tolist()\n",
    "\n",
    "table = {'Headline':post_list,\n",
    "         \"Positive\":positive,\n",
    "         \"Negative\":negative, \n",
    "         \"Neutral\":neutral}\n",
    "      \n",
    "df = pd.DataFrame(table, columns = [\"Headline\", \"Positive\", \"Negative\", \"Neutral\"])\n",
    "\n",
    "df.head(10)"
   ]
  },
  {
   "cell_type": "code",
   "execution_count": 11,
   "id": "7eb40b3d",
   "metadata": {},
   "outputs": [
    {
     "name": "stdout",
     "output_type": "stream",
     "text": [
      "Post Prediction Rate:  43.047337278106504 %\n"
     ]
    }
   ],
   "source": [
    "def find_label(value):\n",
    "    if -0.1 <= value <= 0.1:\n",
    "        return 0\n",
    "    elif value < -0.1:\n",
    "        return -1\n",
    "    else:\n",
    "        return 1\n",
    "\n",
    "index = 0\n",
    "correct = 0.0\n",
    "for x in post_array:\n",
    "    true_label = find_label(x[4])\n",
    "    pred_list = [float(predictions[idx][0]), float(predictions[idx][1]), float(predictions[idx][2])]\n",
    "    max_v = max(pred_list)\n",
    "    if max_v == pred_list[0]:\n",
    "        prediction_label = 1\n",
    "    elif max_v == pred_list[1]:\n",
    "        prediction_label = -1\n",
    "    else:\n",
    "        prediction_label = 0\n",
    "    \n",
    "    if prediction_label == true_label:\n",
    "        correct += 1\n",
    "    index += 1\n",
    "print(\"Post Prediction Rate: \", correct / index * 100, \"%\")\n",
    "    "
   ]
  },
  {
   "cell_type": "markdown",
   "id": "6df0047f",
   "metadata": {},
   "source": [
    "# FinBERT Against FPB Data"
   ]
  },
  {
   "cell_type": "code",
   "execution_count": 6,
   "id": "30822004",
   "metadata": {},
   "outputs": [
    {
     "name": "stdout",
     "output_type": "stream",
     "text": [
      "['He joins Technopolis from KONE where he has held various positions within the Group , most recently as Director of Service Business and Business Development for KONE s Middle Eastern operations ', 'Mr. Koistinen joins from Nokia Siemens Networks where he has held various senior sales management and business development positions since 1997 ', 'The deal includes the entire personnel of PlanMill Oy , who will transfer to the new company as so-called old employees ', 'Operating profit was EUR 1.6 mn in 2005 compared to EUR 5.9 mn in 2004 ', 'The expanded plant is scheduled to be operational by the middle of October 2009 ', \"The company 's share is listed in the Mid Cap segment of the NASDAQ OMX Helsinki \", \"In a recent interview with the Financial Times ( FT ) , Sampo 's board chairman Bjorn Wahlroos said If P&C was certainly for sale and the price had been set at SEK 85 billion , confirming earlier statements \", 'Swedish , Finnish and Danish listed companies are organized in three market cap segments , Nordic Large Cap , Mid Cap and Small Cap ', 'Loss after financial items totalled EUR 9.7 mn , compared to a profit of EUR 1.3 mn in the corresponding period in 2008 ', 'Operating profit excluding restructuring costs grew to EUR 44.5 million from EUR 31.7 million while operating profit including restructuring costs showed even larger growth to EUR 38.5 million from EUR 7.4 million ', 'Two other sites will be included later on ', 'The tanks will be delivered to a company which is currently building a chemical tank farm in Antwerp , northern Belgium ', \"The company 's profit totaled Ls 578,100 in H1 2007 , down 30.9 % year-on-year \", \"And that 's exactly what happened on a recent weekday when an East Haven baker was brought in to remind residents about the Easter tradition of making wheat and rice pies \", 'After the reporting period , BioTie North American licensing partner Somaxon Pharmaceuticals announced positive results with nalmefene in a pilot Phase 2 clinical trial for smoking cessation ', 'On the following workday customers can check from their home computers how their purchases are divided between different ingredient groups , how much energy various products contain and what is the nutritional content of all purchases ', 'A survey conducted by Taloustutkimus for Sampo Life shows that companies are badly prepared to losing key staff members ', 'The turbines are expected to be launched by the end of 2012 ', 'Profit for the period totalled EUR 0.8 mn , down from EUR 1.1 mn in the corresponding period in 2008 ', 'Unit prices for straddle carriers vary between EUR700 ,000 and EUR900 ,000 , the company added ', \"Ahlstrom 's share is quoted on the NASDAQ OMX Helsinki \", 'Operating loss amounted to EUR 0.9 mn in the first half of 2006 compared to a profit of EUR 0.5 mn in the first half of 2005 ', 'The per-share subscription price of the shares subscribed with the option rights was EUR 1.35 ', \"Arvo Vuorenmaa , the Loviisa plant 's general manager said the application for the new licence was a `` standard '' procedure and that he was `` quite confident '' about approval being granted \", \"The government has instead proposed an exchange of the state 's stake in LMT to TeliaSonera 's stake in Lattelecom \", 'Some of the most recent technology deliveries include refinery technology to Anrak Aluminium , an iron ore pelletizing plant to Tata Steel and iron ore sintering plants to Bhushan Steel ', \"Exel 's board of directors will propose a dividend of 0.2 euro $ 0.3 per share for 2006 at the annual general meeting on April 19 , 2007 \", 'Metso expects its net sales to increase by about 10 % in 2008 , at comparable exchange rates ', 'The group posted net sales of 35.3 mln euro $ 46.5 mln and an operating profit of 760,000 euro $ 1.0 mln in 2005 ', 'The company had net sales of EUR 19.8 mn and a pre-tax profit of EUR 1.8 mn in 2005 ', 'When the product is manufactured in Finland , it is also packed in the country ', \"The exercise price of the option will be based on Safran Software Solutions ' license and maintenance sales as well as the result of the company \", 'Atria said its offer would give the Swedish company continued ownership and control of its slaughtering and cutting operations ', 'The RME from Telcontar enables the handset to calculate the best route and includes support for user-defined routes , feature navigability and multi-modal routing such as via foot and ferry ', \"The E7 smartphone will be available for Rs35 ,000 per handset across India , '' Nokia India vice-president & managing director D Shivakumar told reporters \", \"The broad-based WIG index ended Thursday 's session 0.1 pct up at 65,003.34 pts , while the blue-chip WIG20 was 1.13 down at 3,687.15 pts \", \"Another noticeable thing is that the search for Tata and Airtel brands was mostly related to ` broadband connections ' \", 'Please inform IR Johanna Koskinen of your participation no later than 20 April at 10 a.m. A telephone conference for financial analysts and investors , conducted in English , will begin at 3:00 p.m. Finnish time ( EET ) ', 'Elcoteq Dongguan was established in 1999 in the Nancheng District of Dongguan , China and is one of Elcoteq s four volume manufacturing plants in the Asia-Pacific region ', 'In 2008 , the deal is likely to bring savings of EUR 20mn-25mn ', '11 August 2010 - Finnish measuring equipment maker Vaisala Oyj HEL : VAIAS said today that its net loss widened to EUR4 .8 m in the first half of 2010 from EUR2 .3 m in the corresponding period a year earlier ', 'Deliveries by Outotec will take place over 30 months ', \"The firm 's services include copying , printing , CAD-modelling , digital printing , scanning , SokoPro project bank and courier services \", \"Financial details were n't disclosed \", 'The company now estimates its net sales in 2010 to increase considerably from 2009 and its operating result to be clearly positive ', 'Operating profit rose to EUR 26.7 mn from EUR 14.9 mn in the corresponding period in 2006 ', 'The business units of the InvestLesProm Group cover the full forest industry chain , and the Group owns forests , sawmills , paper and pulp mills , and other processing plants ', 'Finnish fibers and plastic products maker Suominen Corporation said its net loss narrowed to 1.6 mln euro $ 2.0 mln in the first nine months of 2006 from 2.16 mln euro $ 2.7 mln in the same period of 2005 ', 'Cramo slipped to a pretax loss of EUR 6.7 million from a pretax profit of EUR 58.9 million ', '10 February 2011 - Finnish media company Sanoma Oyj HEL : SAA1V said yesterday its 2010 net profit almost tripled to EUR297 .3 m from EUR107 .1 m for 2009 and announced a proposal for a raised payout ', 'At the same time profit of the company increased by 10 % in H1 and reached Ls 79,000 ', 'Finnish steel maker Rautaruukki Oyj ( Ruukki ) said on July 7 , 2008 that it won a 9.0 mln euro ( $ 14.1 mln ) contract to supply and install steel superstructures for Partihallsforbindelsen bridge project in Gothenburg , western Sweden ', 'As a result , the company currently anticipates net sales to increase and the operating result to be positive ', 'This release is not an offer of securities for sale into the United States or elsewhere ', \"The new location is n't the only change Wellmont has in store for its air transport service \", 'Commission income fell to EUR 4.6 mn from EUR 5.1 mn in the corresponding period in 2007 ', 'Tieto in Latvia is represented by IT services companies TietoEnator Alise and TietoEnator , which has operations in the industries of Financial Services Cards , Retail and Logistics and IT Outsourcing and Managed Services ', 'Ruukki forecast a 15-20 % annual sales growth and a positive pretax result for 2010 ', 'Both operating profit and turnover for the six-month period increased , respectively from EUR0 .1 m and EUR29 .0 m , as compared to the corresponding period a year ago ', 'Finnlines will announce in week 17 of 2006 what measures it will take to tackle the situation ', 'Re-use back into PET bottles has also steadily increased and the rate of use in strapping tape has picked up again after a dip in 2005 , Petcore said previously ', 'The identity of the buyer is not yet known ', 'Elisa said mobile subscriptions grew 7 percent during 2007 , mainly because of customers adopting so-called third generation mobile technology ', 'The contract covers turnkey deliveries to all five airports operated by the authority -- John F Kennedy , LaGuardia , Newark , Teterboro and Stewart International ', 'Net profit was 35.5 mln compared with 29.8 mln ', 'According to HK Ruokatalo , almost all the meat used by the company comes from Finland ', \"The arrangements do not apply to the group 's units outside Finland \", 'Name of Applicant : Jot Automation OYName of Inventor : Mammila Tuomo , Piirainen Mika and Kellokoski MikaApplication No. : 2424-KOLNP-2008 ADate of filing of Application : 16-06-2008Publication Date : 30/01/200', 'Tikkurila Powder Coatings has some 50 employees at its four paint plants , which generated revenues of EUR2 .4 m USD3 .3 m in 2010 ', 'In October , UPM reported a third-quarter net loss of euro86 million $ 110 million compared with a net profit of euro120 million in 2007 ', \"`` UPM 's deliveries increased during the third quarter by 4 percent , and the efficiency of operations improved , '' Chief Executive Jussi Pesonen said \", 'Revenue was slightly down , at  x20ac 495 million $ 634 million , compared to  x20ac 497 million a year earlier ', 'Pretax loss totalled EUR 162.3 mn compared to a profit of EUR 253.5 mn in 2007 ', \"Russia 's Video International Group holds a controlling stake in Russian Media Ventures \", 'Revenue in the quarter fell 8 percent to ( EURO ) 2.4 billion compared to a year earlier ', 'No planned closing date was provided ', 'Uponor maintains its full-year guidance for 2010 ', \"Lemminkainen Infra Oy 's subsidiary Lemminkainen Sverige AB will perform the construction work , which is expected to start in early 2011 and to be completed in the summer of 2013 \", 'Proline Plus is available in both adjustable single and multichannel models and fixed volume single-channel models , in volume ranges from 0.1 micro litres to 10 ml ', 'Nordic banks have already had to write off sizable loans in Latvia , with Swedbank , Nordea , DnB NOR and SEB reporting combined losses in excess of $ 1.35 billion in the period 2007 to 2010 against a backdrop of near economic meltdown in Latvia ', 'Okhta Center area is expected to have about 700,000 square metres of office premises by 2016 ', 'The EUR 0.7 million non-recurring expenses have been recorded for the third quarter ', 'Raute , headquartered in Nastola , Finland , is a technology company serving the wood products industry worldwide ', 'The company is also seeking possibilities to relocate the Luumaki personnel , some 50 people , to other UPM mills ', \"In the meantime the CEO 's duties will be assumed by Outotec 's Deputy CEO Seppo Rantakari \", 'By 14:29 CET on Monday , shares in Bavarian Nordic had climbed 1.21 % to DKK250 on the stock exchange in Copenhagen after having lost 7.41 % in the past month ', 'Since the registration of the shares subscribed in a directed share issue , the new number of Panostaja shares and voting rights is 41,733,110 ', \"`` This is a significant milestone for Benefon , helping us to secure critical USP 's for our personal navigation product roadmap for 2007 and beyond , '' commented Simon Button , Chief Technology Officer at Benefon \", '` Nordic infrastructure construction is one of our strategic growth areas ', 'In Lithuania , operating profit rose to EUR 190,000 from EUR 70,000 in the corresponding period in 2005 ', 'The Group owns and operates a fleet of more than 800dwt , while container capacity is 17,000 TEUs , and manages a diversified fleet of its own railway rolling stock of over 17,000 units ', 'The beers differ slightly from mainstream beers ', \"`` Method and System for Controlling a Hard Disk Drive Using a Multimediacard Physical Interface '' was invented by Marko Ahvenainen Ruutana , Finland \", \"He will report to CapMan Plc 's CEO Heikki Westerlund \", 'A meeting of Glisten shareholders to vote on the bid will be held on 12 March ', \"The floor area of the Yliopistonrinne project will be 7,900 sq m and the building 's gross area will total 12,800 sq m. A total 25.1 % of the facilities have been let \", 'The sellers were the founders of the company ', \"Managing Director 's comments : `` Net sales for the first quarter were notably lower than a year before , especially in Finland , Russia and the Baltic countries \", \"For 24-hour news , try ICIS news www.icis.com Click `` trial '' , then ICIS new\", 'The sales of the Tiimari segment fell by 4.0 % year-on-year to EUR3 .3 m in June 2010 ', 'The agreement must be approved by the Russian competition authorities before it enters into force ', \"Addus ' services include personal care and assistance with activities of daily living , skilled nursing and rehabilitative therapies , and adult day care \", 'Return on equity stood at 18.3 % compared to 15.4 % in the third quarter of 2005 ', 'The hull of the vessel was built one block at a time and Ruukki delivered the plate material for each block as construction progressed ', \"Merrill Lynch analyst Campbell Morgan upgraded his recommendation on PaperlinX from `` neutral '' to `` buy '' in May \", '( ADP News ) - Feb 6 , 2009 - Finnish fishing tackle company Rapala VMC Corp ( HEL : RAP1V ) said today its net profit rose to EUR 19.2 million ( USD 24.6 m ) for 2008 from EUR 17.5 million for 2007 ', 'Stora Enso will receive a 19.9 pct equity interest in the combined company ', 'The group reiterated its forecast that handset manufacturers will sell around 915 mln units this year globally ', 'Finnish metal products company Componenta Oyj net profit rose to 26.1 mln euro ( $ 35.9 mln ) for the first quarter of 2007 from 5.3 mln euro ( $ 7.3 mln ) for the same period of 2006 ', 'The transaction is expected to be finalized by Dec 2009 ', 'Finnish electronics contract manufacturer Scanfil reports net sales of EUR 241.2 mn in 2006 , down from EUR 321.6 mn in 2005 ', 'The earnings per share for the quarter came in at 0.25 eur , up from the 0.20 eur of the same quarter a year earlier ', 'However , the growth margin slowed down due to the financial crisis ', 'Operating profit totaled EUR 37,7 mn , up slightly from EUR 37.2 mn in the corresponding period in 2006 ', 'The guidance has been set at 90 basis points over mid-swaps , the report said ', 'Finnish financial group Aktia reports operating profit of EUR 44.4 mn in January-September 2009 , up from EUR 37.3 mn in the corresponding period in 2008 ', 'Pretax profit decreased to EUR 33.8 mn from EUR 40.8 mn in the fourth quarter of 2005 ', 'Our customers come from the following countries : UK , USA , Spain , France , Italy , Germany , China , Hong Kong , Sweden , Norway , Netherlands , Austria , Belgium , Switzerland , Czech Republic , Finland , Canada , Russia , Ukraine , Denmark , Ireland , South Korea and Liechtenstein ', \"Oriola-KD is a spin-off of Finnish pharmaceutical group Orion Oyj 's wholesale division \", 'However , the company saw its net profit for the third quarter down to EUR1 .4 m from EUR1 .5 m for the corresponding period of 2009 ', 'Group EBIT for the first half was EUR13 .6 m US$ 17.8 m , falling short of the EUR22 .5 m it posted for the same period of 2009 ', 'Apartments of YIT Home may be purchased in 5 regions of Russia , where YIT subsidiaries carry out their activities : Moscow and Moscow region , St. Petersburg , Ekaterinburg , Kazan and Rostov-on-Don ', 'It was decided that the auditors are reimbursed according to invoice ', '( ADP News ) - Nov 5 , 2008 - Finnish electronic measurement products and solutions maker Vaisala Oyj ( OMX : VAIAS ) said today that its net profit rose to EUR 18 million ( USD 23.1 m ) for the first nine months of 2008 from EUR ', 'Operating profit was EUR 11.4 mn , up from EUR 7.5 mn ', 'In the Baltic countries , sales fell by 40.2 % , and in Russia , by 23.2 % in terms of euros , and by 10.7 % in terms of local currency ', \"In the reporting period , the company 's operating profit grew by 43.2 % to EUR 6 million \", 'Meanwhile , Alfa owns 25.1 % of MegaFon through Altimo , and 4.99 % of Turkcell via an 18.5 % stake in Cukurova Holding ', '`` Capital expenditure on energy efficiency has unfortunately fallen along with the decline in the economy ', 'He confirmed his view on July 6 ', 'Cash flow from business operations totalled EUR 0.4 mn compared to a negative EUR 15.5 mn in the first half of 2008 ', \"Presentation materials will be posted on the company 's website : www.seahawkdrilling.com in the `` Investor Relations '' section , on the `` Webcast & Presentations '' tab \", 'Finnish silicon wafer technology company Okmetic Oyj OMX Helsinki : OKM1V reported on Thursday 30 October an operating profit of EUR7 .4 m for January-September 2008 , up from EUR6 .1 m in the corresponding period in 2007 ', 'The value of the order is EUR 4mn ', 'Operating profit totaled EUR 5.5 mn , up from EUR -0.7 mn ', 'The utility will also provide services related to electricity management , such as hedging trades and risk management and reporting ', 'The value of the order is USD 2.2 mn ', 'Based on the 2005 calendar year the combined company had EUR15 .8 bn in pro forma annual revenues and is expected to start operations with 60,000 employees ', 'Net sales grew in the period to  x20ac 402 million $ 585US million from  x20ac 401 million in 2006 ', 'The deal includes all rental equipment and related merchandise , the rental contract of the depot and two employees , the company said ', 'Talvivaara is listed on the London Stock Exchange Main Market and NASDAQ OMX Helsinki and is included in the FTSE 250 Index ', 'The extracted filtrates are very high in clarity while the dried filter cakes meet required transport moisture limits (TMLs)for their ore grades ', \"Danske Bank is Denmark 's largest bank with 3.5 million customers \", '8 May 2009 - Finnish liquid handling products and diagnostic test systems maker Biohit Oyj ( HEL : BIOBV ) said today ( 8 May 2009 ) its net loss narrowed to EUR0 .1 m ( USD0 .14 m ) for the first quarter of 2009 from EUR0 .4 m for the same period of 2008 ', 'Operating profit rose to EUR 4.7 mn from EUR 4.6 mn ', \"The fixed-term contract of Mr. Jarmo Ukonaho , the current General Manager of Incap 's Indian operations , will finish by the end of the year \", \"In Finland 's Hobby Hall 's sales decreased by 10 % , and international sales fell by 19 % \", 'Sales have risen in other export markets ', 'Samsung currently occupies third place and lost ground during the quarter , dropping by 1.8 % to an 11.1 % share overall ', 'Pharmaceuticals group Orion Corp reported a fall in its third-quarter earnings that were hit by larger expenditures on R&D and marketing ', \"Currently , 95 % of Trainers House 's revenues are attributed to the Finnish market \", 'The company operates its business through two reportable segments , including Banking and Investment Services , and Non-Life Insurance ', '4 February 2011 - Finnish broadband data communication systems provider Teleste Oyj HEL : TLT1V said Wednesday its net profit rocketed to EUR4 .8 m in 2010 from EUR416 ,000 in 2009 and it lifted its dividend proposal ', \"Progress Group , QPR 's representative in Saudi Arabia and North Africa , has signed a framework agreement for a long term strategic relationship with ISE \", 'Both operating profit and net sales for the nine-month period increased , respectively by 26.6 % and 3.4 % , as compared to the corresponding period in 2006 ', 'Yvonne Jones is owner of Chameleon Interiors ', 'Sales of mid-strength beer decreased by 40 % ', 'The ship unloader is totally enclosed along the entire conveying line to the storage facilities ', \"The divested company is part of TietoEnator 's business area Government , Manufacturing & Retail \", 'Finnish Sampo-Rosenlew manufactures approximately seven forest machines monthly , and about half of machines are exported ', 'Purchase it for the 12MP snapper , if nothing else ', 'In food trade , sales amounted to EUR320 .1 m , a decline of 1.1 % ', 'An  of the invention , released by the Patent Office , said : `` The chambers are pressurized ', \"In the first nine months of 2010 , the company 's net loss narrowed to EUR 415,000 from EUR 7.4 million for the corresponding period of 2009 \", \"The disposal of Autotank will also strengthen Aspo 's capital structure , '' commented Gustav Nyberg , CEO of Aspo \", 'A replay will be available until 27 October 2006 in the following numbers : US callers : +1 617-á801-á6888 , non-US callers : +44 20 7365 8427 , access code : 2659 5401 ', 'Operating profit , excluding non-recurring items , totalled EUR 2.2 mn , down from EUR 2.7 mn in the corresponding period in 2008 ', \"Customers wave cards in front of the reader to make payments , similar to `` touch and go '' cards used in transport systems \", '21 October 2010 - Finnish fishing tackle company Rapala VMC Corp ( HEL : RAP1V ) said today its net profit rose to EUR18 .9 m for the first nine months of 2010 from EUR15 .1 m for the same period a year earlier ', 'Votorantim Celulose e Papel ( VCP ) is part of the Votorantim Group , a major Brazilian conglomerate ', \"Cost cutting measures , which have produced around EUR70m of savings over the past nine months , have dampened the airline 's loss , Finnair said \", \"ENP Newswire - 22 March 2011 Release date - 21032011 - A total of 13,000 Talvivaara Mining Company Plc 's new shares were subscribed for during the period between 1 January 2011 and 28 February 2011 under the company 's stock option rights 2007A \", 'The Samsung Mobile Applications Store was launched in January 2009 by Samsung Mobile Innovator , a program which enables mobile software developers to create applications for use across Samsung mobile devices ', 'Cerberus Capital Management LP-backed printing paper maker NewPage Corp. has posted mixed second-quarter results , casting a cloud over its planned initial public offering ', 'Finnish electronics contract manufacturer Scanfil had net sales of EUR 52.2 mn in the first quarter of 2007 , down from EUR 60.1 mn a year before ', 'LKAB , headquartered in Lulea , Sweden , is a high-tech mining company producing upgraded iron ore products for the steel industry ', 'Teleste was set up in 1954 and is divided into Broadband Cable Networks and Video Networks business areas ', 'The power supplies , DC power systems and inverters designed and manufactured by Efore , and systems incorporating them are used in many different applications ', 'Repeats sees 2008 operating profit down y-y ( Reporting by Helsinki Newsroom ) Keywords : TECNOMEN-RESULT', 'The order includes 48 ship cranes that will be delivered for 12 container feeders to be built at Wenchong shipyard in China ', 'The value of this kind of order amounts usually between Euro 2 and 3 million ', 'Shuweihat 2 got under way in July 2008 when the project was awarded to desalination and power contractors ', \"The contract also includes cutting and edging wagon parts at Ruukki 's steel service centres in Seinajoki and Raahe , both in southwestern Finland , from where they will be delivered to VR for welding and assembly \", 'Cramo is a service company specialising in construction machinery and equipment rental and rental-related services , as well as the rental and sale of modular space ', \"CS Cabot 's main consumers on the Czech and Slovak market are tires producers Barum Continental and Matador Continental \", 'The commission said the hydrogen peroxide and PBS market was worth about 470 million euros in 2000 ', 'Finnish metal industry solutions supplier Outotec Oyj net profit rose to 50.4 mln euro ( $ 72.5 mln ) for the first nine months of 2007 from 20.1 mln euro ( $ 28.9 mln ) for the same period of 2006 ', \"Finnish Aktia Group 's operating profit rose to EUR 17.5 mn in the first quarter of 2010 from EUR 8.2 mn in the first quarter of 2009 \", 'Finnish department store chain Stockmann Oyj Abp net profit rose to 39.8 mln euro ( $ 56.8 mln ) for the first nine months of 2007 from 37.4 mln euro ( $ 53.4 mln ) for the same period of 2006 ', \"`` These developments partly reflect the government 's higher activity in the field of dividend policy . '\", 'The Moscow Metro ( www.mosmetro.ru ) was the first metro system in Europe to implement smart cards together with a new type of magnetic card in 1998 ', 'Microsoft last week also issued the first patch for the Windows 7 operating system beta it had released days earlier ', \"According to preliminary data from Slovakia 's Statistics Office , goods worth E36 .4 million were imported from Finland between January and October 2010 , making up 0.1 percent of Slovakia 's total imports \", \"The market share of Volkswagen passenger cars in Finland was 10.1 percent , Audi had a market share of 3.1 percent and Seat 's share was 0.9 percent \", 'At some point , it will spread also to Iran and Iraq ', 'The other seats would go to Edgar Edmonds , an American with experience of the clothing and retail industry , and Christian Fischer , an Austrian with experience in the winter sports goods business ', 'Finnish food industry company L+ñnnen Tehtaat is planning changes to its fish product business ', 'There will be return flights from Stuttgart every morning , as well as evening departures on Thursdays , Fridays and Sundays ', 'Eero Katajavuori , currently Group Vice President , Human Resources , will take a year-long sabbatical starting from October 1 , 2010 ', \"Shareholder 's full name and ID code : - Petri Ailus , born 15.9.1966 For further information , please contact Isto Hantila , CEO , tel. +358 9 591 8342 \", '( ADP News ) - Dec 11 , 2008 - Finnish construction and engineering company Outotec Oyj ( OMX : OTE1V ) said today it won a EUR 28 million ( USD 36.8 m ) order to expand the phosphate concentrator in Siilinjarvi of Norwegian miner', \"- Counter your competitor 's strengths and target their weaknesses \", \"Financial Statements include the consolidated financial statements of the Group , the Board of Directors ' Report , the Auditors ' Report and the Corporate Governance Statement \", 'The report profiles 614 companies including many key and niche players worldwide such as Black & Decker Corporation , Fiskars Corporation , Fiskars Brands , Inc. , Husqvarna Outdoor Products Inc. , K+S Group , Ryobi Technologies , Inc. , The Scotts Miracle-Gro Company , and Van Group , Inc. ', 'In 2006 , 452 million tonnes CO2 of EUA ( EU Allowance ; emissions credit in EU ) was traded with an underlying market value approx ', 'Food sales totalled EUR 323.5 mn in October 2009 , representing a decrease of 5.5 % from October 2008 ', 'The market value of one crane is some USD6m , reported the Finnish news agency STT ', \"Kone 's net sales rose by some 14 % year-on-year in the first nine months of 2008 \", 'In addition , Cramo and Peab have signed exclusive five-year rental agreements in Finland and have extended their existing rental agreements in the Swedish market for another five years ', 'Previously , EB delivered a custom solution for LG Electronics and now is making it commercially available for other mobile terminal vendors as well as to wireless operators ', 'The fair value of the property portfolio doubled as a result of the Kapiteeli acquisition and totalled EUR 2,686.2 1,259.7 million ', 'Solteq Plc ANNOUNCEMENT 16.12.2010 SHARE REPURCHASE 16.12.2010 In the Helsinki Stock Exchange Solteq Plc now holds a total of 486.969 shares including the shares repurchased on 16.12.2010 ', '( ADP News ) - Jan 22 , 2009 - Finnish mobile phones maker Nokia Oyj ( OMX : NOK1V ) said today its operating profit decreased to EUR 5 billion ( USD 6.5 bn ) for 2008 from EUR 8 billion for 2007 ', 'The plan is estimated to generate some EUR 5 million ( USD 6.5 m ) in cost savings on an annual basis ', 'The company is well positioned in Brazil and Uruguay ', 'Pharmaceutical market in Belgium Global Research & Data Services published recently a market analysis about the pharmaceutical markets in Belgium ', 'Changes to the as-built models from the design were communicated to the subcontractors to accommodate them into the steel and GRC glass reinforced concrete fabrication process ', 'The net sales decreased to EUR 49.8 million from EUR 59.9 million ', 'Participants at any of the book discussions or other special events , or visitors to the car dealership were eligible to enter the drawing for the 2005 silver , four-door Altima ', \"Finnish plumbing and heating systems supplier Uponor 's net sales from continuing operations decreased by 9.4 % in 2008 to EUR 949.2 mn from EUR 1,047.4 mn in 2007 \", 'A PLUMBING business has announced it is sponsoring a professional darts player ', 'October-December sales were 302 mln eur , or a 25.3 pct increase year on year ', 'In the first quarter of 2010 , the mark-to-market result was a pretax profit of EUR 133 million versus a loss of EUR 32 million in the same period last year ', 'The connectivity unit has more than 100 e-invoice customers , and the number of annual transactions stands at nearly one million ', 'Finnish telecoms software developer Tecnomen Oyj said on December 5 , 2006 it won a $ 3.3 mln ( 2.5 mln euro ) order to supply an expansion of the charging and messaging systems for the mobile and fixed networks of Brasil Telecom ', 'The value of the orders is over EUR 10mn ', 'Combining this deep domain expertise with our Application Service Management ASM and outsourcing service offerings has now proved to be a winning combination ', \"The divested stake represented about 2.7 m shares in Okmetic 's capital \", 'Terms were not disclosed ', 'Finnish business software group AffectoGenimap Oyj said its net profit halved to 1.2 mln euro ( $ 1.5 mln ) in the first nine months of 2006 from 2.2 mln euro ( $ 2.8 mln ) in the same period of 2005 ', 'The maximum number of new shares to be offered is 22 million ', 'The report profiles 614 companies including many key and niche players worldwide such as Black & Decker Corporation , Fiskars Corporation , Fiskars Brands , Inc. , Husqvarna Outdoor Products Inc. , K+S Group , Ryobi Technologies , Inc. , The Scotts Miracle-Gro Company , and Van Group , Inc. ', \"Sanoma Magazines Finland 's net sales grew to EUR 140.1 mn from EUR 131.8 mn \", \"narrows to EUR2 .8 m 9-mo '09 29 October 2009 - Finnish software and hardware developer Elektrobit Oyj HEL : EBG1V , or EB , said today that its net loss narrowed to EUR2 .8 m for the first nine months of 2009 from EUR35 .6 m for the same period a year ago \", 'HELSINKI AFX - Salcomp , the mobile phone charger manufacturer , said it has appointed Markku Hangasjarvi as its new CEO , following the resignation of Mats Eriksson ', 'Diluted earnings per share ( EPS ) stood at EUR 0.25 versus EUR 0.42 ', 'The company designs , manufactures and markets advanced composite products for industrial applications and consumer goods such as cross-country , alpine and Nordic Walking poles , floorball sticks and antenna radomes ', 'Finnish laboratory liquid handling and diagnostic test systems developer Biohit Oyj OMX Helsinki : BIOBV issued on Tuesday 3 June a profit warning for the financial year 2008 ', 'Net interest income increased by 4.5 % to EUR 31.4 mn from EUR 30.0 mn in 2004 ', 'The devices would be launched in the Chinese market in late 2006 , the company said ', 'Supported Nokia phones include : N96 , N95-8GB , N95 , N93-N931 , N92 , N85 , N82 , N81 , N80 , N79 , N78 , N77 , N76 , N75 , N73 , N72 , N71 , E90 , E71 , E70 , E66 , E65 , E62 , E61-E61i , E60 , E51 , E50 , Touch Xpress 5800 , 6220 Classic , 6210 Navigator , 6120 Classic , 6110 Navigator , 5700 , 5500 , 5320XM ', 'Less than ten people will face pension agreements ', 'The product advisory does not apply to any other Nokia-branded battery , the company said ', 'Product coverage : baked goods ; biscuits ; breakfast cereals Data coverage : market sizes historic and forecasts , company shares , brand shares and distribution data ', 'Operating profit rose to EUR 27.8 mn from EUR 17.5 mn in 2008 ', 'Fortum had previously bought the state-held stake in TGK-10 from RAO UES during its reform ', 'Finnish metal products company Componenta Oyj net profit went slightly down to 25.1 mln euro ( $ 40.2 mln ) for the first half of 2008 from 25.4 mln euro ( $ 40.7 mln ) for the same period of 2007 ', 'The company slipped to an operating loss of EUR 2.6 million from a profit of EUR 1.3 million ', 'Initial estimated total value of the contract was 250 000 Euros , excluding VAT ', 'Under the deal , Know IT will pay SEK90m ( USD12 .8 m-EUR8 .6 m ) in cash and stock ', 'industry in Asia +ó Pakistan , Malaysia , Taiwan and Philippines Today , Global Research & Data Services is going to publish several market analyses about the cement markets in Asia ', 'The process , technology , project management , basic engineering and quality assurance within Forest Industry will be consolidated in Vantaa , southern Finland ', 'With this , the company will exit the contract manufacturing service segment ', 'On preliminary estimate , the hotel will operate under the brand Novotel ', 'Boomeranger Boats Oy specialises in boat building and designs , manufactures and sells customised Rigid Inflatable Boats RIB primarily for the Baltic Sea market ', 'The OMX Helsinki index was down 0.34 pct at 8,256.02 on turnover of 813.191 mln eur ', 'According to the Finnish-Russian Chamber of Commerce , all the major construction companies of Finland are operating in Russia ', 'Finnish handling systems company Cargotec Oyj ( HEL : CGCBV ) said today that it won a EUR 13 million ( USD 16.6 m ) contract to deliver MacGregor hatch covers for ships ordered by Norwegian shipowner Grieg Shipping ', \"It will also strengthen Ruukki 's offshore business \", \"In Penttil+ñ 's vision , the most important reason for the transaction is Russia \", 'The forecast for 2012 is 3.3 % ', 'Founded in 1946 , Strand Associates , which provides civil , environmental , transportation , electrical and mechanical engineering services , has 350 employees at 10 offices in Wisconsin , Alabama , Illinois , Indiana , Kentucky and Ohio ', '28 October 2010 - Finnish wood products technology supplier Raute Oyj HEL : RUTAV said today it swung to a net profit of EUR3m for the first nine months of 2010 versus a net loss of EUR5 .2 m for the same period a year earlier ', 'The Board of Directors was authorized to decide on other terms of the share issue ', \"The company 's scheduled traffic , measured in revenue passenger kilometres RPK , grew by just over 2 % and nearly 3 % more passengers were carried on scheduled flights than in February 2009 \", \"Motorola Inc. of the United States came second with shipments of 217.4 million units for a 21.3 percent market share , followed by South Korea 's Samsung Electronics Co. with shipments of 118.0 million units for an 11.6 percent share \", 'In a letter to Economic Affairs Minister , the listed Estonian shipping company Tallink asks for the approval to be entitled to a 15 % cut in port fees in 2010 ', 'The inventors are Bylander Johan , Ponten Fredrik and Lundberg Jorgen ', \"They both will report to Oriola-KD 's chief executive officer Eero Hautaniemi \", \"Last year 's net sales rose to EUR 68.3 million from EUR 62.2 million \", 'The company has decided to stop the operations of Ruukki Construction Division in Latvia and Lithuania , and concentrate the production and logistics in Parnu , Estonia in 2009 ', 'Operating profit for the three-month period increased from EUR1 .2 m , while revenue increased from EUR20 .2 m , as compared to the corresponding period in 2005 ', 'It estimates the operating profit to further improve from the third quarter ', 'The company serves customers in various industries , including process and resources , industrial machinery , architecture , building , construction , electrical , transportation , electronics , chemical , petrochemical , energy , and information technology , as well as catering and households ', 'The company is listed on the Nordic Exchange in Helsinki ', 'Otherwise the situation is under control ', 'The order was worth EUR 8mn ', 'It also turned to earnings per share ( EPS ) of EUR 0.08 versus loss per share of EUR 0.04 ', 'The order also includes start-up and commissioning services ', 'In the third quarter of 2007 , net sales totaled EUR 25.95 mn , and operating profit EUR 3.88 mn ', \"Mr Skogster currently serves as the manager responsible for ABB Oy 's system modules for low voltage drives \", 'Finnish Suominen Corporation that specialises in wet wipes , nonwovens , and flexible packaging reports net sales of EUR 44.1 mn in the second quarter of 2010 , up from EUR 43.3 mn in the second quarter of 2009 ', '`` We could be there ', 'Changes being announced today will be effective after the close of trading on Friday , June 19 , 2009 ', 'The total value of the project is valued at SEK 30bn ( EUR 2.83 bn USD 3.81 bn ) ', 'Both operating profit and net sales for the 12-month period increased , respectively from EUR21 .5 m and EUR196 .1 m , as compared to 2005 ', 'Operating profit surged to EUR21m from EUR106 ,000 ', 'Biohit Oyj develops , manufactures and markets liquid handling products and diagnostic test systems for use in research , healthcare and industrial laboratories ', 'Her last position in Nokia Siemens Networks was head of Business Human Resources NSN global IT ', 'The company had net sales of EUR 10.8 million in 2008 , and today has approximately 120 employees in Finland , Estonia and Poland ', 'Neste Oil will publish its third quarter 2008 results on Friday , 24 October 2008 at approximately 9 am ( EET ) ', 'The machine will have an annual production capacity of 200,000 tonnes of super-calendered magazine paper and other paper grades based on recovered fiber , Stora Enso said ', 'According to Gran , the company has no plans to move all production to Russia , although that is where the company is growing ', 'Due to the rapid decrease in net sales , personnel reductions have been carried out on a wider scale than initially expected ', \"Retail chain Suomen L+ñhikauppa was given the index 5.8 , airline SAS 5.8 , TeliaSonera 's broadband 6.1 , German retail chain Lidl 6.1 , Tele Finland 's mobile subscriptions 6.1 , Tallink shipping line 6.3 , and power company Helsinki Energy 6.3 \", 'The figure does not include food exports from Finland ', 'Incap Contract Manufacturing will carry out the manufacturing for these agreements at its factory in Tumkur , near Bangalore ', \"According to Nordic financial group Nordea 's analyst Sami Sarkamies , this makes Nokia 's portfolio competitive again \", 'The natural source of isoprene is the tree species Hevea brasiliensis , also known as the rubber tree ', 'Sales in Finland rose by 3.9 % and international growth was 0.7 % ', \"Luna took fifth place on six-under 207 , a shot behind Spain 's Beatriz Recari and Germany 's Martina Eberl , while Welsh player Becky Brewerton was the highest-placed British finisher , sharing seventh place on three-under 210 after shooting 71 \", 'In addition , MIDs are always online and enable full Internet browsing ', \"The floor area of the Yliopistonrinne project will be 7,900 sq m 85,030 sq ft and the building 's gross area will total 12,800 sq m. A total 25.1 % of the facilities have been let \", 'The value of the order is about EUR 30mn ', \"The bank 's leasing arm Nordea Liising ended the year with a profit of 4.4 million euros \", 'Paychex has more than 100 offices serving approximately 554,000 payroll clients nationwide as of May 31 , 2009 ', 'The train is expected to cross the Russian territory in 9 days , reaching the Vostochny port ', \"According to Finnish FIM Bank , Alpro 's price would be around EUR 100mn-150mn \", 'Welcome ', 'Its board of directors will propose a dividend of EUR0 .12 per share for 2010 , up from the EUR0 .08 per share paid in 2009 ', 'Circulation revenue has increased by 5 % in Finland and 4 % in Sweden in 2008 ', \"The shares shall be acquired according to the Rules of NASDAQ OMX Helsinki and otherwise according to the rules related to acquisition of the company 's own shares \", 'Operating profit increased to EUR 14.0 mn from EUR 4.9 mn in the corresponding period in 2005 ', 'Incap Contract Manufacturing is a subsidiary of Incap Corporation of Finland ', 'ADPnews - Jul 17 , 2009 - Finland-based steel maker Rautaruukki Oyj Ruukki HEL : RTRKS said today it slipped to a net loss of EUR 184 million USD 259.7 m for the first half of 2009 from a net profit of EUR ', 'mn , and pretax profit to EUR 46.4 mn from EUR 35.8 mn in the third quarter of 2006 ', 'The company , which has EUR2 .8 bn in assets , counts among its five largest shareholders Finnish insurers Ilmarinen 4.34 % and Varma 0.70 % , as well as the Finnish state pension fund VER 0.61 % ', 'The proposal of the shareholders to elect Mr. Hannu Krogerus to the Board is based on his long and unrivalled experience and knowledge of all matters related to Elcoteq ', 'That would be an increase from estimated sales of 117 million last year ', 'It also turned in earnings per share ( EPS ) of EUR 0.44 versus loss per share of EUR 2.26 ', 'Sales of security and system packaging increased slightly ', 'SRV will also build an aqua park with wellness area , a restaurant and a multifunctional ice arena ', \"Ahlstrom 's 5,700 employees serve customers via sales offices and production facilities in more than 20 countries on six continents \", 'The customer is then forwarded to the site , and unknown to him logged in with the first number ', 'It is estimated that the consolidated turnover of Kausta Guder will reach Lt 53mn US$ 22.53 mn EUR 15.35 mn in 2007 ', \"According to Sweden 's Minister for Local Government and Financial Markets , Mats Odell , the decision to sell the State 's shares in telecom group TeliaSonera can only be carried out in cooperation with the State of Finland \", 'In Finland , the five largest brands control 90 % of the beer market ', 'Operating loss totaled EUR 25mn compared to a profit of EUR 63mn in the corresponding period in 2005 ', 'Operating profit rose to EUR 3.2 mn from EUR 1.0 mn in the corresponding period in 2008 ', 'The order is related to renewing the network of the telecommunications operator ', 'The company said that currently the French distribution unit Ragot is located in Loudeac , Normandy , the distribution unit Waterqueen and line supplier Tortue in Saint Marcel in mid-France and the hook manufacturing unit VMC and hook distribution unit VMC Europe in Morvillars ', 'Products include Consumer Electronics devices such as mobile phones and their accessories , set-top boxes , flat panel TVs as well as System Solutions products such as infrastructure systems , modules and other industrial segment products ', 'Operating loss before non-recurring items was EUR 0.9 mn , compared to a profit of EUR 11.5 mn in 2008 ', 'The sale price was not disclosed ', 'The actions are expected to deliver annual cost savings of some EUR15-20m ', 'The business development initiatives in North America are headed by Lynn Shanahan ', 'The decision reflects the underutilisation of the line , which produces nonwovens used in medical and wipes applications as well as for the automotive industry ', \"Orion Pharma 's operating profit increased by 42.5 % from 2004 \", 'These moderate but significant changes resulted in a significant 24-32 % reduction in the estimated CVD risk ', 'The combined value of the planned investments is about EUR 30mn ', 'LEED is an internationally recognized green building certification system , developed by the U.S. Green Building Council ', 'The EPS outlook was increased by 5.6 pct for 2007 and 7.0 pct for 2008 ', 'Cost savings will then rise to some 20 mln eur a year from 2007 , OKO said ', 'The acquisition was financed with $ 2.56 billion of debt arranged by Goldman , Sachs & Co. ', 'By the end of 2006 , the number of joint branch offices will total 170 ', 'This new partnership agreement represents a significant milestone for both parties ', 'The expanded company will continue to be called NewPage ', 'The bank sees a potential for Getinge share to rise ', \"Kalnapilio-Tauro Grupe ( Kalnapilis-Tauras Group ) , which is owned by Denmark 's Royal Unibrew , raised its market share to 25.18 percent from 23.74 percent , as beer sales for the seven months jumped by 14.5 percent to 40.5 million liters \", 'Construction is scheduled to start in April-June 2007 and to be completed in early 2008 ', 'The fixed acquisition price amounts to NOK 70 ( approximately EUR 8.7 ) million and additional price NOK 15 ( EUR 1.8 ) million at maximum ', 'The total value of these two contracts is over EUR 21 million ', 'Honkarakenne mainly exports large luxury log houses to Russia to be used as one-family houses or holiday homes ; 70 % of sales go to the Moscow region , about 20 % to the St Petersburg region , and the remainder to other locations ', 'The add-on order contains , among others , control valves and instrumentation as well as complete mill engineering and electrification with Metso drive controls ', 'Dragonfly Love is another video shot from start to finish using the Nokia N8 ', 'The Internal Revenue Service sees about 20 percent of all taxpayers wait until the last two weeks to file , with about 40 million returns filed in April ', 'Finnish automation solutions developer Cencorp Corporation ( OMX Helsinki : CNC1V ) issued on Thursday ( 18 September ) a profit warning for the third quarter of 2008 ', 'Neste Oil Corporation Refining Operation Asset Summary Report Summary Neste Oil Corporation Refining Operation Assets Summary Report is an essential source for company data and information ', 'Net sales rose by 25.5 % year-on-year to EUR59 .6 m , as the number of chargers delivered went up by 41 % to 65.9 million pieces ', \"` The stable outlook reflects Nokia 's strong market position in the global mobile handset market , strong cash flow generation , and very conservative balance sheet , ' said Raab \", \"All YIT Capital Markets Day materials will be available on the company 's Internet site at www.yitgroup.com/investors at 10:30 on September 26 \", \"The event can be followed on-line via Orion 's Finnish homepage at www.orion.fi as well as via the Kauppalehti Live web service at www.kauppalehti.fi/live \", 'Helsinki on October 22 , 2008 SSH COMMUNICATIONS SECURITY CORP Board of Directors For further information , please contact : Tomi Laamanen , Chairman , tel. +358 0 400 609 544 Distribution : NASDAQ OMX Helsinki Ltd. ', 'The dividends payable annually shall be deducted from the share subscription price ', \"The Notice in its entirety with other proposals from the Nomination Committee and the Board will be published at least four weeks before 28 April on the company 's website and in Post - och Inrikes Tidningar and Dagens Industri \", '`` Demand for sports equipment was good in 2005 ', \"These sections will be put into place to form the load-bearing steel structure of the bridge , '' says Sami Eronen , Senior Vice President , Infrastructure and Northern Europe , Ruukki Construction \", 'Operating profit margin increased from 11.2 % to 11.7 % ', 'Other details were not provided ', 'EBIT margin was up from 1.4 % to 5.1 % ', 'The company did not disclose the price of the acquisition ', \"In the Czech Republic , the profiling unit at Ostrava will be closed and the machinery will be relocated to Ruukki 's bigger plants in Hungary , Poland and Romania by the end of the first quarter of 2009 \", 'The company said that paper demand increased in all of its main markets , including of publication papers , and that it increased average paper prices by 4 percent compared with last year ', 'The company has an annual turnover of EUR32 .8 m', 'He wore a black beanie-type cap and a black jacket ', 'An EU law on the issue may be introduced around 2010 ', 'This resulted in improved sales figures in Sweden ', 'The diluted loss per share narrowed to EUR 0.27 from EUR 0.86 ', 'Nordea Bank AB publ holds 6.000 Alma Media shares , representing 0.008 % of share capital and voting rights ', 'Nevertheless , its market share rose to 49.14 percent from 48.51 percent a year earlier ', 'The reductions will be implemented immediately , beginning in October 2009 ', \"Finlan 's listed food industry company HKScan Group controlled companies in the Baltics improved revenues by EUR 3.5 mn to EUR 160.4 mn in 2010 from EUR 156.9 mn in the year before \", \"It will provide heating in the form of hot water for the sawmill 's needs \", 'Decisions are to be made as quickly as possible ', 'Digia will also set up two subsidiaries , Digia Norway AS and Digia USA Inc. ', 'Acando AB ( ACANB SS ) fell 8.9 percent to 13.35 kronor , the lowest close since Dec. 11 ', 'Jun. 25 , 2008 ( Boy Genius Report delivered by Newstex ) -- The Nokia ( NYSE : NOK ) N78 , huh ', 'The solution will be installed in the USA to support the North American operations of the customer ', 'Some 3.8 mln euro ( $ 5.2 mln ) of the base acquisition price will be paid in cash and the rest through a subscription offering of a total of 850,000 new Ixonos shares ', 'Production is scheduled to start by the end of April 2007 ', 'Both operating profit and net sales for the six-month period increased , respectively , from EUR13 .8 m and EUR143 .6 m , as compared to the corresponding period in 2007 ', \"In July it and Quadriga Capital sold their Lewa GmbH pump-making business to Japan 's Nikkiso Co. \", '- Demand for fireplace products was lower than expected , especially in Germany ', 'Los Angeles-based Pacific Office Properties Trust acquires , owns , and operates office properties in the western U.S. , focusing initially on the markets of Honolulu , San Diego , Los Angeles , and Phoenix ', 'Total value of the contract is about EUR 10mn ', \"CapMan 's first real estate fund , which had a total investment capacity of ( EURO ) 500 million and closed in June 2005 , invested in commercial properties in the Helsinki metropolitan area \", 'Electronic versions require 24-48 hours as each copy is customized to the client with digital controls and custom watermarks ', 'Finnair PLC carried a record 8.8 million passengers in 2006 , an increase of 3.5 percent on the previous year , the Finnish national carrier reported Tuesday ', 'It is a member of the OneWorld alliance , which includes American Airlines and British Airways ', 'The annual net sales of the unit is some EUR 5 million and it currently employs some 55 people ', 'The real estate company posted a net loss of +ó  x201a -¼ 59.3 million +ó  x201a -¼ 0.21 per share compared with a net profit of +ó  x201a -¼ 31 million +ó  x201a -¼ 0.11 per share for the corresponding quarter of 2007 ', 'Earnings per share were higher at 0.48 against 0.37 a year before and ahead of market consensus of 0.40 eur ', 'Finnair believes the strike will cause it daily net losses in excess of EUR 2mn due to canceled reservations and passenger re-routing ', 'The company is headquartered in Sievi , Finland , and is listed on the Nordic Exchange in Helsinki ', 'With five different game modes , co-op tournaments , 4 player split-screen and multiplayer modes , players can have as much fun as they would if they were actually fishing ', 'The sellers were EOSS Innovationsmanagement and a group of private individuals ', 'A Helsinki : ELIiV today reported EPS of EUR1 .13 for 2009 , an increase over EPS of EUR1 .12 in 2008 ', 'Through the Nordic Exchange , OMX offers access to approximately 80 percent of the Nordic and Baltic securities market ', 'Last year , 8.3 million passengers flew the airline , down 4 percent from 2007 ', \"+£lemiste City is the environment for a knowledge-based economy providing work for 3,300 people with the total turnover of its companies amounting to EEK 5.4 bn , '' said +£lo P+ñrnits , chairman of the supervisory board of +£lemiste City and Mainor \", 'The fish content of the nuggets is 85 % , and the fish comes from Canada and Finland ', 'These products include Personal Communications products such as mobile phones and their parts , Home Communications products such as set-top boxes and electronics for flat panel TVs as well as Communications Networks products such as base-stations , tower-top amplifiers , and microwave systems ', 'Fortum expects its annual capital expenditure in the next four to five years to be within a range of EUR 0.8-1 .2 billion , as earlier announced ', 'EBIT totalled EUR 14.4 mn , compared to a loss of EUR 0.3 mn in the corresponding period in 2009 ', \"According to Finnish Metso Minerals , the value of the company 's orders has gone up to EUR 1.9 bn in 12 months \", 'Bluewin Security is available as a monthly subscription ', \"In July-September 2008 , YIT 's net sales increased to EUR 970.8 mn , compared to EUR 906.8 mn in the corresponding period in 2007 \", 'ADPnews - Dec 23 , 2009 - Norwegian financial services group SpareBank 1 Gruppen AS OSL : SBGRP said its board of directors appointed today Jarle Haug managing director of its claims collection subsidiary SpareBank 1 Gruppen Finan', 'The serial bond is part of the plan to refinance the short-term credit facility ', 'Helsinki 19 May 2010 - Finnish company Lemminkainen Oyj ( HEL : LEM1S ) said today that it will construct an office building at Toolonlahti in downtown Helsinki , without disclosing financial details ', 'Operating margin , however , slipped to 14.4 % from 15.1 % , dragged down by a poor performance in enterprise solutions ', 'Number of offers received for this contract is two ', \"Nokia Multimedia 's net sales totaled EUR 5.7 bn , up 45 % from the corresponding period in 2005 \", 'After the sale , Savcor Group Ltd will comprise Savcor ART , a corporate function and an investment in Cencorp Corporation ', 'The company serves customers in various industries , including process and resources , industrial machinery , architecture , building , construction , electrical , transportation , electronics , chemical , petrochemical , energy , and information technology , as well as catering and households ', '`` Lining stone sales were also good in the early autumn , and order books are strong to the end of the year ', 'EBIT excluding non-recurring items was estimated to increase from 2009 ', 'The company said that the operations will be sold to a newly established company , CPS GmbH , where the present management of the plastics business is a co-owner ', '`` Our Vaalipalvelu-service was especially developed for use by communities and organizations ', 'In future , the plant will focus on the production of flange profiles for wind farm towers ', 'The investment would be some EUR5m ', 'Incap , headquartered in Oulu , Finland , is a electronics contract manufacturer with some 750 employees in Finland , Estonia and India ', 'In the fourth quarter of 2008 , net sales increased by 2 % to EUR 1,050.7 mn from EUR 1,027.0 mn in the fourth quarter of 2007 ', 'Net sales surged by 30 % to EUR 36 million ', 'The expansion is to be finalized in the autumn of 2009 ', 'Our customers include companies in the energy and process industry sectors , in particular ', '27 January 2011 - Finnish IT solutions provider Affecto Oyj ( HEL : AFE1V ) said today it has won a EUR1 .2 m ( USD1 .6 m ) contract from state-owned Lithuanian Social Insurance Institution ( SODRA ) ', \"down to EUR5 .9 m H1 '09 3 August 2009 - Finnish media group Ilkka-Yhtyma Oyj ( HEL : ILK2S ) said today its net profit fell 45 % on the year to EUR5 .9 m in the first half of 2009 \", \"The company 's order book stood at 1.5 bln euro $ 2.2 bln on September 30 , 2007 , up by 24.2 pct on the year , with international orders amounting to 365 mln euro $ 534.3 mln \", 'The acquisition is expected to take place by the end of August 2007 ', 'The energy shot is packed in a 100-millilitre bag with a screw cap ', 'The business to be divested generates consolidated net sales of EUR 60 million annually and currently has some 640 employees ', 'Sales came in at 241 mln eur , compared with 211.4 mln , and also beating consensus forecasts of 235 mln eur ', '`` The issues identified by Stonesoft affect a range of content inspection technology ', 'The parties have therefore agreed to leave Avena out of the deal ', 'Erkki Jarvinen , President of Rautakirja and the head of the Sanoma Trade division , will leave his current tasks in spring 2009 for a similar position outside the Sanoma Group ', 'The EA Reng group posted sales of approximately 84 million kroons for 2007 ', \"Her present position is the director of Stockmann 's international department stores \", 'Performance in the second half of 2009 exceeded expectations ', \"UPM-Kymmene said its has ` not indicated any interest in any domestic consolidations ' \", \"Koff 's market share of the volume of the market was 23.4 % , Karhu 's 21.4 % \", '- Profit before taxes was EUR 105.9 82.7 million ', 'The value of the order is USD 2.3 mn ', 'Rautalinko was resposnible also for Mobility Services , and his job in this division will be continued by Marek Hintze ', 'Result before taxes decreased to nearly EUR 14.5 mn , compared to nearly EUR 20mn in the previous accounting period ', 'Operating profit totalled EUR 5.8 mn , up from a loss of EUR 1.7 mn in the fourth quarter of 2009 ', \"According to PKC , the acquisition would bring a significant addition to PKC 's customer base \", 'Finnish retail software developer Aldata Solution Oyj reported a net loss of 11.7 mln euro $ 17.2 mln for 2007 versus a net profit of 2.5 mln euro $ 3.7 mln for 2006 ', 'Basware Corporation stock exchange release August 31 , 2010 at 16:25 Basware signed a large deal with an international industrial group Basware will deliver Invoice Automation solution and Connectivity Services to an international industrial group ', 'Operating profit was EUR 139.7 mn , up 23 % from EUR 113.8 mn ', 'The combined company had pro-forma net sales of 140 mln euro $ 188.9 mln and an operating profit of 13 mln euro $ 17.5 mln for 2006 ', 'It is part of the development of the world-class magnetite deposit at Karara , which has the known potential for over 30 million metric tons of annual processing of magnetite over its estimated 30-year life ', 'It therefore seems that Finnish shipping company Viking Line will get the subsidy it needs to order its new LNG-fuelled vessel ', 'The appointments will be in force until the new CEO has been appointed ', 'Registration is required ', 'Okmetic expects its net sales for the first half of 2009 to be less than in 2008 ', '( ADP News ) - Finnish handling systems provider Cargotec Oyj ( HEL : CGCBV ) announced on Friday it won orders worth EUR 10 million ( USD 13.2 m ) to deliver linkspans to Jordan , Morocco and Ireland ', 'Oka specialises in new construction , renovation work of residential and non-residential building as well as premises for industrial and logistical use ', 'The portfolio comprises of 118,000 m2 of leasable space with a vacancy rate of roughly 5 % , let to around 140 tenants of which two of the largest are the Swedish government and Ericsson ', 'The stock rose for a second day on Wednesday bringing its two-day rise to GBX12 .0 or 2.0 % ', 'Of these shares 29,659,239 are held by the Company or its group companies and the number of outstanding shares and voting rights attached to the shares thus amounts to 322,705,218 ', \"Talentum 's net sales in September were smaller than expected \", 'Raute said it has won an order worth around 15 mln eur to supply several plywood production lines to mills operated by Russian wood products company Sveza Group ', \"` Nordea 's definitely too big for Sampo to acquire , ' said an analyst ` But Sampo would appear to have an agenda for Nordea ahead of the privatisation \", \"According to Viking Line 's Managing Director , Nils-Erik Eklund , the company 's Board of Directors is very satisfied with Viking Line 's performance \", 'In 2007 Etteplan reported a turnover of EUR125 .2 m', \"The Group 's turnover in 2006 was EUR 39.2 million , and operating profit was EUR 3.9 million \", 'Group net sales in the third quarter of 2007 totaled EUR 142.3 mn and operating profit EUR 4.3 mn ', \"Markets had been expecting a poor performance , and the company 's stock was up 6 percent at  x20ac 23.89 US$ 33.84 in early afternoon trading in Helsinki \", 'Viking will pay EUR 130 million for the new ship , which will be completed in January 2008 ', \"Olvi , which controls a 94 percent stake in Ragutis through A. Le Coq , said in its annual report published earlier this year that the Lithuanian brewery 's sales reached 15.04 million euros last year , a rise of 20.4 percent from 12.49 million euros in 2004 \", 'Raisio is the site of the main production plants as well as company headquarters ', 'Bertrand Sciard has been the vice chairman of the board of directors of Aldata Solution since April 2007 ', 'Net income from life insurance doubled to EUR 6.8 mn from EUR 3.2 mn , and net income from non-life insurance rose to EUR 5.2 mn from EUR 1.5 mn in the corresponding period in 2009 ', 'ADP News - Feb 13 , 2009 - Finnish retailer Kesko Oyj HEL : KESBV said today its total sales , excluding value added tax VAT , stood at EUR 661.3 million USD 853.1 m in January 2009 , down 15.2 % year-on-ye', 'The estimated annual value of the frame agreement is about EUR 50mn ', 'The result will also be burdened by increased fixed costs associated with operations in China , and restructuring costs in Japan ', 'The purchase sum is about EUR 10mn US$ 12.97 mn ', 'Mformation and Nokia noted they have established interoperability agreements that cover commercially proven , standards-based management of mobile devices , as well as mobile device security and mobile application management ', 'SHARE REPURCHASE 11.01.2008 In the Helsinki Stock Exchange On behalf of Sampo plc Danske Bank A-S Helsinki Branc', \"The business has sales of about ( Euro ) 35 million ( $ 44million ) , and has been responsible for sales and marketing of Lanxess 's paper chemicals business , which Kemira bought for ( Euro ) 88 million early this year ( CW , Jan. 11 , p. 22 ) \", 'The sale will be finalized in September or October , the company said ', 'Mobile communication and wireless broadband provider Nokia Inc NYSE : NOK today set new financial targets and forecasts for Nokia and the mobile device industry and also for Nokia Siemens Networks and the mobile and fixed infrastructure and related services market ', 'Finnish security and privacy software solutions developer Stonesoft Oyj said on January 7 , 2008 that the preliminary sales of its StoneGate products grew by 59 pct year-on-year to 3.6 mln euro ( $ 5.3 mln ) for the fourth quarter of 2007 ', 'Aldata said that there are still a number of operational aspects to be defined between it and Microsoft and further details of the product and market initiatives resulting from this agreement will be available at a later date ', 'The subject of the project is provide to the company like : Software programming and consultancy services , Computer-related services , Data services , Computer support and consultancy services , Internet services etc. ', 'The net sales of the Power Plants business were EUR 710.3 million in 2005 ', 'A 2001 agreement expired earlier this month ', \"It now owns 80,565 shares in Amer Sports Corporation , equaling 0.11 % of the company 's share capital and voting rights \", \"Tieto 's service is also used to send , process and receive materials related to absentee voting \"]\n",
      "500\n"
     ]
    }
   ],
   "source": [
    "import pandas\n",
    "import numpy as np\n",
    "\n",
    "\n",
    "fpb100_df = pandas.read_csv(\"dataset/FPB100.csv\")\n",
    "fpb100_df.head(5)\n",
    "\n",
    "fpb100_array = np.array(fpb100_df)\n",
    "np.random.shuffle(fpb100_array)\n",
    "fpb100_list = list(fpb100_array[0:500,1])\n",
    "\n",
    "print(fpb100_list)\n",
    "print(len(fpb100_list))"
   ]
  },
  {
   "cell_type": "code",
   "execution_count": 7,
   "id": "3b2f13a4",
   "metadata": {},
   "outputs": [],
   "source": [
    "from transformers import AutoTokenizer, AutoModelForSequenceClassification\n",
    "  \n",
    "tokenizer = AutoTokenizer.from_pretrained(\"ProsusAI/finbert\")\n",
    "model = AutoModelForSequenceClassification.from_pretrained(\"ProsusAI/finbert\")"
   ]
  },
  {
   "cell_type": "code",
   "execution_count": 8,
   "id": "e46124aa",
   "metadata": {},
   "outputs": [
    {
     "name": "stdout",
     "output_type": "stream",
     "text": [
      "{'input_ids': tensor([[ 101, 2002, 9794,  ...,    0,    0,    0],\n",
      "        [ 101, 2720, 1012,  ...,    0,    0,    0],\n",
      "        [ 101, 1996, 3066,  ...,    0,    0,    0],\n",
      "        ...,\n",
      "        [ 101, 1037, 2541,  ...,    0,    0,    0],\n",
      "        [ 101, 2009, 2085,  ...,    0,    0,    0],\n",
      "        [ 101, 5495, 3406,  ...,    0,    0,    0]]), 'token_type_ids': tensor([[0, 0, 0,  ..., 0, 0, 0],\n",
      "        [0, 0, 0,  ..., 0, 0, 0],\n",
      "        [0, 0, 0,  ..., 0, 0, 0],\n",
      "        ...,\n",
      "        [0, 0, 0,  ..., 0, 0, 0],\n",
      "        [0, 0, 0,  ..., 0, 0, 0],\n",
      "        [0, 0, 0,  ..., 0, 0, 0]]), 'attention_mask': tensor([[1, 1, 1,  ..., 0, 0, 0],\n",
      "        [1, 1, 1,  ..., 0, 0, 0],\n",
      "        [1, 1, 1,  ..., 0, 0, 0],\n",
      "        ...,\n",
      "        [1, 1, 1,  ..., 0, 0, 0],\n",
      "        [1, 1, 1,  ..., 0, 0, 0],\n",
      "        [1, 1, 1,  ..., 0, 0, 0]])}\n"
     ]
    }
   ],
   "source": [
    "#That's where the headlines get tokenized to be inputted into model\n",
    "\n",
    "inputs = tokenizer(fpb100_list, padding = True, truncation = True, return_tensors='pt')\n",
    "print(inputs)"
   ]
  },
  {
   "cell_type": "code",
   "execution_count": 9,
   "id": "420802cc",
   "metadata": {},
   "outputs": [
    {
     "name": "stdout",
     "output_type": "stream",
     "text": [
      "torch.Size([500, 3])\n"
     ]
    }
   ],
   "source": [
    "outputs = model(**inputs)\n",
    "print(outputs.logits.shape)"
   ]
  },
  {
   "cell_type": "code",
   "execution_count": 10,
   "id": "7f93b8c8",
   "metadata": {},
   "outputs": [
    {
     "name": "stdout",
     "output_type": "stream",
     "text": [
      "tensor([[0.0615, 0.0143, 0.9243],\n",
      "        [0.0572, 0.0131, 0.9297],\n",
      "        [0.0257, 0.0203, 0.9539],\n",
      "        ...,\n",
      "        [0.0217, 0.4069, 0.5714],\n",
      "        [0.0706, 0.0109, 0.9185],\n",
      "        [0.0218, 0.0263, 0.9519]], grad_fn=<SoftmaxBackward0>)\n"
     ]
    }
   ],
   "source": [
    "import torch\n",
    "\n",
    "predictions = torch.nn.functional.softmax(outputs.logits, dim=-1)\n",
    "print(predictions)"
   ]
  },
  {
   "cell_type": "code",
   "execution_count": 18,
   "id": "b4bd2f33",
   "metadata": {},
   "outputs": [
    {
     "data": {
      "text/html": [
       "<div>\n",
       "<style scoped>\n",
       "    .dataframe tbody tr th:only-of-type {\n",
       "        vertical-align: middle;\n",
       "    }\n",
       "\n",
       "    .dataframe tbody tr th {\n",
       "        vertical-align: top;\n",
       "    }\n",
       "\n",
       "    .dataframe thead th {\n",
       "        text-align: right;\n",
       "    }\n",
       "</style>\n",
       "<table border=\"1\" class=\"dataframe\">\n",
       "  <thead>\n",
       "    <tr style=\"text-align: right;\">\n",
       "      <th></th>\n",
       "      <th>Text</th>\n",
       "      <th>Positive</th>\n",
       "      <th>Negative</th>\n",
       "      <th>Neutral</th>\n",
       "    </tr>\n",
       "  </thead>\n",
       "  <tbody>\n",
       "    <tr>\n",
       "      <th>0</th>\n",
       "      <td>He joins Technopolis from KONE where he has he...</td>\n",
       "      <td>0.061453</td>\n",
       "      <td>0.014286</td>\n",
       "      <td>0.924261</td>\n",
       "    </tr>\n",
       "    <tr>\n",
       "      <th>1</th>\n",
       "      <td>Mr. Koistinen joins from Nokia Siemens Network...</td>\n",
       "      <td>0.057228</td>\n",
       "      <td>0.013103</td>\n",
       "      <td>0.929669</td>\n",
       "    </tr>\n",
       "    <tr>\n",
       "      <th>2</th>\n",
       "      <td>The deal includes the entire personnel of Plan...</td>\n",
       "      <td>0.025748</td>\n",
       "      <td>0.020314</td>\n",
       "      <td>0.953939</td>\n",
       "    </tr>\n",
       "    <tr>\n",
       "      <th>3</th>\n",
       "      <td>Operating profit was EUR 1.6 mn in 2005 compar...</td>\n",
       "      <td>0.092535</td>\n",
       "      <td>0.893666</td>\n",
       "      <td>0.013800</td>\n",
       "    </tr>\n",
       "    <tr>\n",
       "      <th>4</th>\n",
       "      <td>The expanded plant is scheduled to be operatio...</td>\n",
       "      <td>0.119794</td>\n",
       "      <td>0.010852</td>\n",
       "      <td>0.869354</td>\n",
       "    </tr>\n",
       "    <tr>\n",
       "      <th>5</th>\n",
       "      <td>The company 's share is listed in the Mid Cap ...</td>\n",
       "      <td>0.029226</td>\n",
       "      <td>0.020832</td>\n",
       "      <td>0.949943</td>\n",
       "    </tr>\n",
       "    <tr>\n",
       "      <th>6</th>\n",
       "      <td>In a recent interview with the Financial Times...</td>\n",
       "      <td>0.082989</td>\n",
       "      <td>0.014812</td>\n",
       "      <td>0.902199</td>\n",
       "    </tr>\n",
       "    <tr>\n",
       "      <th>7</th>\n",
       "      <td>Swedish , Finnish and Danish listed companies ...</td>\n",
       "      <td>0.026573</td>\n",
       "      <td>0.022509</td>\n",
       "      <td>0.950918</td>\n",
       "    </tr>\n",
       "    <tr>\n",
       "      <th>8</th>\n",
       "      <td>Loss after financial items totalled EUR 9.7 mn...</td>\n",
       "      <td>0.160830</td>\n",
       "      <td>0.825394</td>\n",
       "      <td>0.013777</td>\n",
       "    </tr>\n",
       "    <tr>\n",
       "      <th>9</th>\n",
       "      <td>Operating profit excluding restructuring costs...</td>\n",
       "      <td>0.949723</td>\n",
       "      <td>0.024407</td>\n",
       "      <td>0.025870</td>\n",
       "    </tr>\n",
       "  </tbody>\n",
       "</table>\n",
       "</div>"
      ],
      "text/plain": [
       "                                                Text  Positive  Negative  \\\n",
       "0  He joins Technopolis from KONE where he has he...  0.061453  0.014286   \n",
       "1  Mr. Koistinen joins from Nokia Siemens Network...  0.057228  0.013103   \n",
       "2  The deal includes the entire personnel of Plan...  0.025748  0.020314   \n",
       "3  Operating profit was EUR 1.6 mn in 2005 compar...  0.092535  0.893666   \n",
       "4  The expanded plant is scheduled to be operatio...  0.119794  0.010852   \n",
       "5  The company 's share is listed in the Mid Cap ...  0.029226  0.020832   \n",
       "6  In a recent interview with the Financial Times...  0.082989  0.014812   \n",
       "7  Swedish , Finnish and Danish listed companies ...  0.026573  0.022509   \n",
       "8  Loss after financial items totalled EUR 9.7 mn...  0.160830  0.825394   \n",
       "9  Operating profit excluding restructuring costs...  0.949723  0.024407   \n",
       "\n",
       "    Neutral  \n",
       "0  0.924261  \n",
       "1  0.929669  \n",
       "2  0.953939  \n",
       "3  0.013800  \n",
       "4  0.869354  \n",
       "5  0.949943  \n",
       "6  0.902199  \n",
       "7  0.950918  \n",
       "8  0.013777  \n",
       "9  0.025870  "
      ]
     },
     "execution_count": 18,
     "metadata": {},
     "output_type": "execute_result"
    }
   ],
   "source": [
    "#Formatting the results as a pandas data frame\n",
    "\n",
    "import pandas as pd\n",
    "\n",
    "#Headline #Positive #Negative #Neutral\n",
    "positive = predictions[:, 0].tolist()\n",
    "negative = predictions[:, 1].tolist()\n",
    "neutral = predictions[:, 2].tolist()\n",
    "\n",
    "\n",
    "table = {'Text':fpb100_list,\n",
    "         \"Positive\":positive,\n",
    "         \"Negative\":negative, \n",
    "         \"Neutral\":neutral}\n",
    "      \n",
    "df = pd.DataFrame(table, columns = [\"Text\", \"Positive\", \"Negative\", \"Neutral\"])\n",
    "\n",
    "df.head(10)"
   ]
  },
  {
   "cell_type": "code",
   "execution_count": 28,
   "id": "62cfcee3",
   "metadata": {},
   "outputs": [
    {
     "name": "stdout",
     "output_type": "stream",
     "text": [
      "torch.Size([500, 3])\n",
      "FPB Accurarcy:  97.79559118236473 %\n"
     ]
    }
   ],
   "source": [
    "\n",
    "label_map = {\"positive\" : 1, \"negative\" : -1, \"neutral\" : 0}\n",
    "print(predictions.shape)\n",
    "\n",
    "correct = 0.0\n",
    "for idx, x in enumerate(fpb100_array[:500]):\n",
    "    true_label = label_map[x[2]]\n",
    "    pred_list = [float(predictions[idx][0]), float(predictions[idx][1]), float(predictions[idx][2])]\n",
    "    max_v = max(pred_list)\n",
    "    if max_v == pred_list[0]:\n",
    "        prediction_label = 1\n",
    "    elif max_v == pred_list[1]:\n",
    "        prediction_label = -1\n",
    "    else:\n",
    "        prediction_label = 0\n",
    "    \n",
    "    if prediction_label == true_label:\n",
    "        correct += 1\n",
    "print(\"FPB Accurarcy: \", correct / idx * 100, \"%\")"
   ]
  }
 ],
 "metadata": {
  "kernelspec": {
   "display_name": "cs269",
   "language": "python",
   "name": "cs269"
  },
  "language_info": {
   "codemirror_mode": {
    "name": "ipython",
    "version": 3
   },
   "file_extension": ".py",
   "mimetype": "text/x-python",
   "name": "python",
   "nbconvert_exporter": "python",
   "pygments_lexer": "ipython3",
   "version": "3.7.11"
  }
 },
 "nbformat": 4,
 "nbformat_minor": 5
}
