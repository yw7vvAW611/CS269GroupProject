{
 "cells": [
  {
   "cell_type": "markdown",
   "id": "2eb75d10",
   "metadata": {},
   "source": [
    "# FinBERT With Headlines"
   ]
  },
  {
   "cell_type": "code",
   "execution_count": 3,
   "id": "2e30938d",
   "metadata": {},
   "outputs": [
    {
     "data": {
      "text/html": [
       "<div>\n",
       "<style scoped>\n",
       "    .dataframe tbody tr th:only-of-type {\n",
       "        vertical-align: middle;\n",
       "    }\n",
       "\n",
       "    .dataframe tbody tr th {\n",
       "        vertical-align: top;\n",
       "    }\n",
       "\n",
       "    .dataframe thead th {\n",
       "        text-align: right;\n",
       "    }\n",
       "</style>\n",
       "<table border=\"1\" class=\"dataframe\">\n",
       "  <thead>\n",
       "    <tr style=\"text-align: right;\">\n",
       "      <th></th>\n",
       "      <th>id</th>\n",
       "      <th>sentence</th>\n",
       "      <th>snippets</th>\n",
       "      <th>target</th>\n",
       "      <th>sentiment_score</th>\n",
       "      <th>aspects</th>\n",
       "    </tr>\n",
       "  </thead>\n",
       "  <tbody>\n",
       "    <tr>\n",
       "      <th>0</th>\n",
       "      <td>1</td>\n",
       "      <td>Royal Mail chairman Donald Brydon set to step ...</td>\n",
       "      <td>['set to step down']</td>\n",
       "      <td>Royal Mail</td>\n",
       "      <td>-0.374</td>\n",
       "      <td>['Corporate/Appointment']</td>\n",
       "    </tr>\n",
       "    <tr>\n",
       "      <th>1</th>\n",
       "      <td>2</td>\n",
       "      <td>Stakes High for AstraZeneca Heart Drug Facing ...</td>\n",
       "      <td>['Facing Tough Competition']</td>\n",
       "      <td>AstraZeneca</td>\n",
       "      <td>-0.240</td>\n",
       "      <td>['Corporate/Risks']</td>\n",
       "    </tr>\n",
       "    <tr>\n",
       "      <th>2</th>\n",
       "      <td>3</td>\n",
       "      <td>UPDATE 1-Dairy Crest loses a third of Morrison...</td>\n",
       "      <td>['Crest loses a third of Morrisons milk contra...</td>\n",
       "      <td>Morrisons</td>\n",
       "      <td>-0.161</td>\n",
       "      <td>['Corporate/Sales/Failed Contract Discussion']</td>\n",
       "    </tr>\n",
       "    <tr>\n",
       "      <th>3</th>\n",
       "      <td>4</td>\n",
       "      <td>Insight hires Aviva's David Hillier for multi-...</td>\n",
       "      <td>['hires Aviva's David Hillier for multi-asset ...</td>\n",
       "      <td>Insight</td>\n",
       "      <td>0.137</td>\n",
       "      <td>['Corporate/Appointment/Executive Appointment']</td>\n",
       "    </tr>\n",
       "    <tr>\n",
       "      <th>4</th>\n",
       "      <td>5</td>\n",
       "      <td>Primark racks up a happy Christmas after stron...</td>\n",
       "      <td>['after strong sales']</td>\n",
       "      <td>Primark</td>\n",
       "      <td>0.704</td>\n",
       "      <td>['Corporate/Sales']</td>\n",
       "    </tr>\n",
       "  </tbody>\n",
       "</table>\n",
       "</div>"
      ],
      "text/plain": [
       "   id                                           sentence  \\\n",
       "0   1  Royal Mail chairman Donald Brydon set to step ...   \n",
       "1   2  Stakes High for AstraZeneca Heart Drug Facing ...   \n",
       "2   3  UPDATE 1-Dairy Crest loses a third of Morrison...   \n",
       "3   4  Insight hires Aviva's David Hillier for multi-...   \n",
       "4   5  Primark racks up a happy Christmas after stron...   \n",
       "\n",
       "                                            snippets       target  \\\n",
       "0                               ['set to step down']   Royal Mail   \n",
       "1                       ['Facing Tough Competition']  AstraZeneca   \n",
       "2  ['Crest loses a third of Morrisons milk contra...    Morrisons   \n",
       "3  ['hires Aviva's David Hillier for multi-asset ...      Insight   \n",
       "4                             ['after strong sales']      Primark   \n",
       "\n",
       "   sentiment_score                                          aspects  \n",
       "0           -0.374                        ['Corporate/Appointment']  \n",
       "1           -0.240                              ['Corporate/Risks']  \n",
       "2           -0.161   ['Corporate/Sales/Failed Contract Discussion']  \n",
       "3            0.137  ['Corporate/Appointment/Executive Appointment']  \n",
       "4            0.704                              ['Corporate/Sales']  "
      ]
     },
     "execution_count": 3,
     "metadata": {},
     "output_type": "execute_result"
    }
   ],
   "source": [
    "import pandas\n",
    "\n",
    "headline_df = pandas.read_csv(\"dataset/headline_train.csv\")\n",
    "headline_df.head(5)"
   ]
  },
  {
   "cell_type": "code",
   "execution_count": 6,
   "id": "9687a4c4",
   "metadata": {},
   "outputs": [
    {
     "name": "stdout",
     "output_type": "stream",
     "text": [
      "['Irish housebuilder Cairn Homes plans London listing', 'L&G still paying price for dividend cut during crisis, chief says', 'Petrofac books further Â£30m cost for Shetland gas terminal delays', 'Industry NewsWolseley confident in reslilience amid mixed markets', 'Petrofac share price rises despite Â£30m costs on North Sea project', 'Keith Skeoch to step up as David Nish quits as chief executive of Standard Life', 'Oil majors like Royal Dutch Shell, Chevron, BP fail to find reserves to counter ...', 'AB InBev looks to win over SABMiller investors', \"Britain's FTSE forges ahead as Shire surges\", 'Builder Persimmon hails 6% rise in house sales', \"Intertek swings to Â£347 mln loss on oil's slump\", 'Diageo receives reports from United Spirits on financial irregularities involving ...', \"Why I'd Buy ARM Holdings plc And BHP Billiton plc Today\", 'Travis Perkins Hikes Dividend 20% As Profit And Revenue Rise', 'AstraZeneca profit down as sales of stalwarts fade', \"Spain's CaixaBank Expects To Close Deal For Banco BPI\", 'Persimmon share price climbs on 23% rise in full-year revenue', \"AstraZeneca's Lung Cancer Drug Tagrisso Gets FDA Approval\", 'U.S. Debt Lures Schroders as ECB Depresses Rates', 'UPDATE 1-AstraZeneca boosts respiratory unit with $575 mln Takeda deal', 'Lloyds to cut 945 jobs as part of three-year restructuring strategy', 'Shell challenges Exxon dominance with 47 billion-pound bid for BG', 'Ackman, in email, says supports Valeant CEO Pearson', 'Sainsbury CFO Rogers to Replace Home Retail CEO Walden', 'Royal Mail gets mixed bag from Ofcom postal regulation report', 'UPDATE 1-Engineering firm Smiths Group confirms CEO appointment', 'CompaniesNew Aggreko CEO to reshape business, strip costs', 'Drugmaker Shire to buy Baxalta for $32 billion after 6-month pursuit', 'FTSE falls to 3-month low on Greek debt concerns, easyJet skids', 'AB InBev attacks SABMiller bid rebuffal', 'Tesco set to sell Kipa, Giraffe businesses - Sky News', 'CompaniesTravis Perkins lifts dividend, earnings rise 15%', 'GlaxoSmithKline set to complete $20 billion Novartis asset swap next week', 'BRIEF-Aviva aims to increase dividend pay-out ratio to 50 pct in 2017', \"SAB's Chairman Digs In With Board Divided on InBev Offer\", 'AstraZeneca weighing up Acerta bid to secure blood cancer drug', 'WPP boosts sales despite cautious clients', 'Royal Mail share price edges lower as group raises stamp price', 'CompaniesCar insurer Hastings Group driving Â£180m IPO', \"Japan's Nikkei lands Financial Times in $1.3 billion deal\", \"RSA Insurance Hires Towergate's Egan as Chief Financial Officer\", 'AstraZeneca diabetes drug combination faces delay after FDA rebuff', \"Despite sales growth, UK's Tesco cautions recovery to be bumpy\", 'Tesco share price down as grocer faces SFO investigation outcome', \"Britain's FTSE outperforms Europe, Royal Mail and Tesco rise\", 'Whitbread share price climbs on Q4 sales growth', 'LSE-Deutsche Boerse merger would signal end to exchange mega-deals', \"London Stock Exchange seals Â£22 billion merger with Germany's Deutsche BÃ¶rse\", 'Standard Chartered lags on capital worries', 'Royal Mail share price rallies amid positive broker comments', 'BP, Statoil, to Withdraw Staff From Algeria Following Rocket Attack', 'UPDATE 1-Cypress Semiconductor offers to buy Integrated Silicon Solution', 'Brewer AB InBev seeks $275 bln tie-up with SABMiller', 'Verizon and AT&T accused of hurting rivals', 'AstraZeneca bags another cancer drug deal, this time with Inovio', 'City spirits sink after Diageo comes up short with sales slide', 'Tesco sells Blinkbox and broadband service to TalkTalk', 'Chime Communications Set To Be Acquired By WPP And Providence', 'Royal Mail, Johnson Matthey lead FTSE lower', 'CompaniesFresnillo shares jump 8% as silver price breaks $21', 'Ruling sets lower limit on potential fine for BP', 'NYSE owner ICE considers offer for LSE', 'AstraZeneca Explores Potential Deal With Acerta for Cancer Drug', 'AstraZeneca sells US drug rights to Perrigo for $380 mln', 'Standard Life share price: Insurer buys advice firm Pearson Jones', 'UPDATE 1-SABMiller 2nd-quarter underlying sales rise, forex impacts margins', 'Compass Group says positive for year ahead', \"FastJet slams EasyJet founder Stelios for going public, is 'taking legal advice' over letter about contractual ...\", 'Breakingviews: IAG can pay more for Aer Lingus', 'News FeedSchroders books solid earnings growth, several board changes', 'Is Trouble Brewing At Legal & General Group Plc And Aviva plc?', 'Diageo sales disappoint as currency and comparatives leave bitter taste', \"Lloyds Banking Group's share price lifts amid reports bank is poised to axe hundreds of UK jobs\", \"Insight hires Aviva's David Hillier for multi-asset team\", 'Glencore blames rivals for creating metals glut', \"Sainsbury's, Asda, Tesco and Morrisons will all cut petrol prices as oil falls ...\", \"Glaxo's ViiV Healthcare Signs China Manufacturing Deal With Desano\", \"Berkshire discloses unit's ties to Iran, opens probe\", 'AstraZeneca chases Acerta to secure next cancer drug winner', \"WPP wins race for 'programmatic buying' agency Essence Digital\", 'Copper market may get a 2003-style supply shock from Glencore closures', 'AstraZeneca And Daiichi Sankyo To Jointly Commercialise MOVANTIK In The US', 'European shares plunge, roiled by BHP and oil; hopes turn to ECB', 'Aspen to Buy Anaesthetics From AstraZeneca for $520 Million', 'AstraZeneca shares climb 3% as drug maker ups profits forecasts', \"BRIEF-Legal & General's retirement business books 4 billion stg H1 sales\", 'UPDATE 1-Pearson expects to grow this year after solid end to 2014', 'Severn Trent share price rises as first half profit inches up as customer ...', \"Shell's $70 Billion BG Deal Meets Shareholder Skepticism\", 'Standard Chartered Not Raising Capital Yet As Dividend Cut', 'AstraZeneca share price: Acerta deal pays off with orphan drug status', 'CEOs of BPM, UBI meet Italy econ minister as M&A talk heats up', 'CompaniesKingfisher bid for Mr Bricolage runs into trouble', 'Royal Dutch Shell to Buy BG Group for Nearly $70 Billion', 'Legal & General arm buys 50 pct stake in MediaCityUK in Manchester', 'AB InBev approaches SABMiller to explore $250bn tie-up', 'Tesco leads FTSE higher on Clubcard bid reports', 'CaixaBank, dos Santos Agree on Plan for BPI Angola Exposure', 'MarketsShire up 2.5% and Baxalta up 6% on $32bn deal', \"Mylan Appoints Ranjan Ray Chaudhuri as Global Commercial Lead for Mylan's Over ...\", 'Zurich Insurance Considering Offer for UK Rival RSA Insurance', 'EU regulators clear $100 billion-plus AB InBev, SABMiller deal', 'UPDATE 1-Nomura, RBS must pay $806 mln in mortgage bond case-US judge', 'Whitbread buys 49% stake in Pure food chain', 'UPDATE 1-Meggitt reiterates annual outlook after tough 2014', \"FDA Approves AstraZeneca's Iressa As Lung Cancer Treatment\", 'Aviva weighs cash handout after beating profit forecast', 'France raises concerns over proposed LSE-Deutsche Boerse deal', 'Rolls-Royce to Ensure Compliance After Petrobras Bribery Report', 'Tesco breaks its downward slide by cutting sales decline in half', 'FTSE 100 drops 2.5 pct on Glencore, metals price fears', \"Tesco criticised for 'disgraceful' advert showing domestic worker being slapped\", 'FTSE 100 flat; Standard Chartered leads risers', 'CRH adds CR Laurence to acquisitions tally for $1.3bn', 'Broker tips: RBS, Croda, Sage', \"Are ARM Holdings plc, Domino's Pizza Group plc and ASOS plc 3 must-have growth stocks?\", 'AstraZeneca Acquires ZS Pharma in $2.7 Billion Deal', 'FDA approves AstraZeneca drug for advanced lung cancer', 'Whitbread Profit Up As Sales Continue To Rise, Looking For New CEO', 'Berkshire seeks to boost its Wells Fargo stake above 10 percent', 'British American Tobacco drops and sues PwC over pollution scandal', \"Priceline's stock jumps to new high for the year after Barclays upgrade\", 'Primark racks up a happy Christmas after strong sales', \"Valeant CEO Pledges to Heed Critics After `Painful' Experience\", \"UPDATE 3-Auto Trader shares leap in UK's biggest private equity-backed listing\", 'Companies Thetrainline.com announces arrival of London IPO', 'CompaniesTesco off to a bad start over Xmas â€“ Kantar', \"Can Christmas Save Sainsbury's plc And Tesco plc?\", 'CompaniesLSE adds ex-SEC head Schapiro to board', \"Philippines' San Miguel says to partner with Kirin if it bids for SABMiller's ...\", 'NYSE owner ICE may gatecrash Deutsche Boerse-LSE merger', 'FDA approves NPS drug, in move validating Shire takeover deal', 'UPDATE 3-Stifel to buy former Lehman brokerage from Barclays', \"Barclays PLC & Lloyds Banking Group PLC Are The 2 Banks I'd Buy Today\", \"Spain's Caixabank launches new takeover bid for Banco BPI\", 'GlaxoSmithKline share price slips as FDA okays asthma therapy only for adults', \"Kraft, Cadbury's and Britvic in Total Recall: how pulling a product affects profit\", \"Merged LSE and Deutsche BÃ¶rse would be led by Germany's Kengeter\", 'News FeedFTSE 100 movers: Ashtead jumps on strong interims; Glencore, BP in ...', 'Hargreaves Lansdown share price falls as costs mount - although pensions ...', 'Barclays poaches new chief operating officer Paul Compton from JP Morgan Chase', 'Tullow Oil Suspends Dividend Amid Oil Price Fall', \"REFILE-Hikma and Barclays help Britain's FTSE to climb higher\", 'London Stock Exchange â€“ Deutsche Boerse merger under threat from Brexit', 'Bunzl Lifts Dividend Again As Acquisitions Continue To Boost Profits', 'Barclays Bonds Rise as Lender Cuts Dividends to Shore Up Capital', \"WPP, World's Largest Ad Agency, Reports Strong 2015 Growth\", \"BAE Systems's sales boosted by European Typhoon and currencies\", \"EXCLUSIVE-BP, China's CNPC to unveil oil alliance - sources\", 'Goodwin not to face Scottish prosecution over RBS', 'Morrisons faces festive sales test', 'Anheuser-Busch InBev Increases Offer for Rival SABMiller', 'Philip Morris, BAT Sue Over Law Taking Branding Off Packs', 'Shell to buy BG Group in $69.7 billion takeover', \"AstraZeneca's MedImmune Inks Licensing Deal With Omnis Pharmaceuticals\", 'MillerCoors Delivers 2.9% Underlying Net Income Growth for 2014', 'UK housing market steadies after Brexit dip, Persimmon says', \"ITV share price: Group mulls takeover of Canada's Entertainment One\", 'CompaniesDixons Carphone to close 134 UK stores as sales jump', \"Britain's FTSE falls back with Ashtead, commodities under pressure\", 'Tata Steel working with StanChart for UK unit sale - source', 'Teva: FDA Approves Generic Version of AstraZeneca Heartburn Drug', 'CompaniesActelion shares hit record on Shire takeover talk', 'Sales boost for new Morrisons chief David Potts as Tesco turnaround stalls', 'REFILE-Aviva Investors to move 34 bln euros in assets from AXA fund arm', 'Market Report: Aviva tops the market as traders approve of its choice of Friends', 'Diageo Sells Ryder Cup Venue Gleneagles Hotel to Ennismore Group', 'TRLPC - CRH backs Lafarge Holcim asset buy with 6.5 bln euro bridge loan', 'Nine banks including Barclays, Citi, agree to pay $2 billion to settle forex ...', \"Amazon's grocery deal with Morrisons is only the beginning\", 'Market Report: Eight-day rally ends for FTSE 100 and Standard Chartered', 'UPDATE: EasyJet Passenger Numbers, Aer Lingus Traffic Up In February', 'U.K. Stocks Resume Gains to Rally to Record; CRH, Tullow Climb', 'Morrisons book second consecutive quarter of sales growth', 'UK WINNERS & LOSERS: Aviva And Friends Life Lead FTSE 100 Gainers', 'Barclays poised to replace Sir Mike Rake as he heads for exit', 'Rio Tinto swings to loss, drops dividend policy', 'RBS chairman admits surprise at size of regulatory penalties', 'AstraZeneca sells Caprelsa rights to Sanofi unit', 'ICE Said to Start Lining Up Financing for LSE Bidding War', 'G4S slides on balance sheet worries', 'Goldman Sachs, Barclays, HSBC downplay Brexit threat', \"Asahi could be about to snap up more of SABMiller's beers ahead of AB InBev sale\", 'Kingfisher takeover of Mr Bricolage could hit a brick wall', \"Royal Mail 'breached competition law' over delivery service changes, Ofcom claims\", 'BPI Says Caixabank, Isabel dos Santos Reach Agreement Over Angola Exposure', \"Britain's FTSE gains, Land Securities up after dividend hike\", 'Investors Remain Skeptical About Shell-BG Deal', 'AstraZeneca to Pay Inovio Up to $700 Million for Cancer Drug', \"ITV to pursue takeover of Canada's Entertainment One: Bloomberg\", 'Morrisons and Debenhams surprise City with Christmas bounce back', 'Insurers: Admiral blows hot and cold but Aviva soars pre-Friends Life merger', 'Balfour Beatty plc Set To Reinstate Dividend (And Rival National Grid plc And Centrica PLC Once More?)', \"Retail giant Kingfisher reports 'solid' start to the year\", 'Why AstraZeneca plc & Dixons Carphone PLC Are Red-Hot Growth Stars!', 'Sainsbury sales slip again as price pressures take a toll', 'Valeant Said to Name New CEO With Pearson Still Hospitalized', 'Royal Mail turnaround proving expensive in tough UK market', 'BBCN Bancorp to buy Wilshire Bancorp in $1 bln deal', 'Stakes High for AstraZeneca Heart Drug Facing Tough Competition', \"RBS Pays $1.7 Billion to Scrap U.K. Treasury's Dividend Rights\", 'Glencore Cuts 2015 Budget, Plans To Divest From Lonmin', 'US sanctions put Gazprom-Shell alliance plans in jeopardy', 'Severn Trent share price jumps as Canadian investor renews pursuit of utility', 'Glencore Studies Possible IPO for Agricultural Trading Business', 'Crown Castle buys Tower Development Corp for $461 million', 'AstraZeneca to Buy ZS Pharma for $2.7 Billion', 'Standard Chartered Shifts Emerging-Markets Strategy After Losses', 'DBS, Julius Baer emerge as potential bidders for Barclays Asia wealth unit ...', 'Shire to buy NPS for $5.2 billion to boost rare disease drugs', 'InterContinental Hotels first-quarter global room revenue lags estimates', 'Reed Elsevier share price slides on underwhelming full-year results', 'AstraZeneca suffers setback after drug fails to treat eye cancer', 'Aviva promises higher dividends to boost flagging share price', 'Glencore sees Tripoli-based NOC as sole legal seller of Libyan oil', \"Greene King's third quarter sales boosted by festive season\", 'LSE-Deutsche BÃ¶rse dealmakers wrong to ignore Brexit risk', 'Shire share price under pressure after $32bn Baxalta deal', 'RPT-Old Mutual Q1 gross sales beat forecasts, up 18 pct', \"Should you buy Associated British Foods plc, Great Portland Estates plc and Dunelm Group plc following today's news?\", \"Warren Buffett defends Berkshire Hathaway's conglomerate structure\", 'Barclays sells benchmark indices unit to Bloomberg', 'British American Tobacco first-half sales hurt by currency moves', 'FTSE 100 falls as China devaluation hits Burberry, mining stocks', 'Glencore slumps 30 percent as debt fears grow', 'Glencore fight back over debt fears lifts shares', 'GSK joins China trade push as UK trumpets healthcare deals', 'AB InBev ups offer for SABMiller as deadline looms', 'FDA panel backs safety updates for AstraZeneca, Takeda drugs', 'METALS-Zinc surges 12 pct after Glencore cuts output, fuelling metals rally', \"Buffett's Berkshire builds Deere stake, dumps Exxon\", 'UPDATE 3-BP settles oil spill-related claims with Halliburton, Transocean', 'Citigroup to Sell OneMain to Springleaf for $4.25 Billion', 'GlaxoSmithKline targets growth across units, scraps ViiV IPO', 'CompaniesMeggitt profits hit by weak energy and military markets', 'Should You Follow Berkshire Hathaway Into Apple Stock?', 'How Kraft-Heinz Merger Came Together in Speedy 10 Weeks', \"AstraZeneca's patent on asthma drug invalidated by US court\", 'News FeedFTSE 100 movers: LSE surges as ICE says mulling offer; Ashtead and Barclays tank', 'Carnival Corporation and China Merchants Group Sign Memo of Understanding ...', 'Kingfisher share price slides on cost to implement new strategy', 'Miners Meltdown as BHP to Rio Tinto Sink in Commodities Rout', \"REFILE-UPDATE 4-Britain's Lloyds to pay first dividend since rescue\", \"Glencore chief blames rivals' overproduction for share price fall\", 'UPDATE 1-AstraZeneca buys ZS Pharma for $2.7 billion, pips Actelion', 'ARM Royalties Accelerate as Smartphone Market Regains Strength', 'Arm profits and sales up as shift away from mobile gains pace', 'Ocwen Reaches Settlement With California Regulator', 'MarketsBP promotes upstream boss to deputy CEO', 'Renewed AB InBev Bid for SABMiller Ups Stake in Beer Battle', 'UPDATE 1-BP shareholders back more disclosure on climate change risks', \"Insurer Old Mutual picks Standard Bank's Hemphill as new CEO\", 'AstraZeneca Teams With Daiichi Sankyo To Sell Movantik In US', 'Shell share price: Standard Life announce position against BG acquisition', 'Should You Buy Jumbo Yielders British American Tobacco plc, Centrica PLC & John Wood Group PLC?', 'FTSE led lower by M&S, GlaxoSmithKline', 'SABMiller revenue hit by weaker EM currencies', 'G4S sees profits rise but UK contract problems remain', 'UPDATE 5-Barclays Chairman McFarlane axes CEO to speed up strategic change', 'Sanofi poaches AstraZeneca scientist as new research head', \"Ingenious, HSBC, UBS and Coutts sued by 'tax avoidance' clients\", 'Royal Mail chairman Donald Brydon set to step down', 'Standard Chartered, RBS Escape Capital Raising in Stress Test', 'Industry NewsMorrisons unveils which stores will close as 900 jobs face the axe', \"Barclays appoints JPMorgan's Paul Compton as new COO\", 'Unilever profit rises despite sales slump in China', 'GKN to buy Fokker Technologies for 706 mln euros', \"Britain's FTSE gets lift from Prudential results\", \"Tesco PLC's Recovery Continues With A Â£250m Cash Infusion\", \"Britain's FTSE bounces back, Mondi and Barratt lead\", 'Aberdeen AM posts H1 outflows, says conditions to remain challenging', 'Supreme Court Upholds $236 Million Jury Award Against ExxonMobil', 'Aviva Fined $27 Million by U.K. Regulator Over Fee Failings', 'StanChart and RBS struggle in Bank of England stress tests', 'CompaniesHoward Davies appointment as RBS director delayed', 'Glencore slumps 25 pct as debt fears grow', 'Aviva shuts Friends Life head office in rapid integration move', \"Retailers Kingfisher and Sports Direct rise in Britain's share index\", \"Whitbread boss Andy Harrison defends sales fall as 'just a blip'\", \"Morning Agenda: Shire's Deal for NPS\", 'Royal Dutch Shell profit rises; dividend up 4%', 'Aviva, Friends Life top forecasts ahead of 5.6 billion pound merger', 'Dixons Carphone profit boost on strong sales', \"CRH's concrete bid for Holcim Lafarge assets\", 'Valeant Names Interim Leader as CEO Remains Hospitalized', \"BG Group Still Happy With Shell's $70 Billion Offer\", \"L&G completes UK's largest medically underwritten bulk pension risk deal\", 'Hargreaves Lansdown bucks weak markets to see assets rise 2.6 percent', 'Kinder Morgan and BP Form Joint Venture Limited Liability Company to Purchase ...', \"Merkel's Government Said to Support Deutsche Boerse-LSE Merger\", 'Relief for Lewis as Tesco sees sales grow for first time in a year', 'Auto Trader share price surges as company floats on LSE', \"Aldi and Lidl expansion plans speed ahead as Tesco, Sainsbury's, Morrisons ...\", 'Shire says internal synergy goals from Baxalta deal higher', 'HSBC Says Unit to Book $585 Million Charge on Settlement', 'Rio Tinto CEO says iron ore market at equilibrium', 'Eli Lilly & Co. (LLY) Has Broken Out To A New High On AstraZeneca Collaboration', 'Aberdeen Asset Management Gains Foothold In China', \"Sainsbury's says to outperform rivals in tough market\", 'BHP Billiton drags FTSE lower after slashing dividend', 'US dollar wipes out sales gains for SABMiller', \"Standard Chartered's Shares Plunge 7% After Fitch Downgrade\", 'Johnson Matthey profit falls but dividend rises', 'UPDATE 1-AstraZeneca sells rare cancer drug to Sanofi for up to $300 mln', 'CompaniesUnilever sales lifted by ice cream in soft economy', \"New Morrisons duo get former boss's support to diffuse investor tension\", \"UPDATE 5-SABMiller rejects AB InBev's $104 bln takeover approach\", 'Berkshire applies to boost Wells Fargo stake above 10 percent', 'Shell offers 50 percent premium to buy BG for $70 billion', 'Johnson Matthey raises prospect of investor payout', \"Tesco share price dips as Blinkbox Books closes ending supermarket's digital ...\", 'CompaniesDiageo stays neutral on India boardroom turmoil', 'Bilfinger Industrial Services win Â£100m BP contract extension', 'Sainsbury sells unit to LloydsPharmacy', 'UPDATE: CIB, Legal & General Sell Egyptian Life Joint Venture To AXA', 'Morrisons finance chief to fill gap as CEO leaves early', \"Australia clears AB Inbev's $100 billion SABMiller buyout plan\", \"Meggitt share price tumbles as profit falls in 'challenging year'\", 'FTSE edges up as investors cheer Kingfisher results', 'InterContinental Hotels Denies Reports of Starwood Merger Talks', \"Credit Suisse poaches Prudential's Thiam for Asian push\", \"GE to Sell Majority Stake in Bank BPH's Core Bank to Alior Bank\", 'Tesco leads leap in FTSE 100; Marks & Spencer drops', \"Hammerson, JV Partner secure ownership of Ireland's Dundrum - Quick Facts\", 'MillerCoors Board Names Gavin Hattersley Interim CEO', 'Old Mutual First-Quarter Sales Up 18% Buoyed by Emerging Markets', 'AB InBev to sell more SAB assets as seeks EU deal approval', 'Irish Said Chasing Standard Chartered, RBS as Brexit Vote Nears', 'BHP Billiton slashes dividend, posts $5.67 billion net loss', 'Centrica extends gas deals with Gazprom, Statoil', 'London open: Taylor Wimpey and Ashtead drive markets higher, Barclays falls', 'Are Aviva plc, Direct Line Insurance Group PLC And Admiral Group plc Set To Soar?', \"CompaniesAB InBev signals it won't go hostile for SABMiller\", \"ITV share price jumps on report of Comcast's NBCUniversal bidding to takeover ...\", 'EasyJet attracts more passengers in June but still lags Ryanair', '2 Turnaround Buys For 2016? BHP Billiton plc And Home Retail Group Plc', 'Tesco share price closes higher as two more directors leave grocer', 'LSE gets Hong Kong regulatory nod to HK firms to become LSE members', 'BP joins forces with Det Norske in Norway', 'Tesco sales recover as focus returns to core business', 'Johnson Matthey revs up on clean air drive', 'Barclays share price subdued as bank faces fresh forex probe', 'Slump in Weir leads FTSE down from record high', \"UPDATE 2-Pricey beers lift SABMiller's quarterly underlying sales\", 'SABMiller buys Meantime to quench thirst for craft beer', \"UPDATE 1-BHP Billiton's credit ratings fragile in FY16, agencies warn\", 'UPDATE 1-Dairy Crest loses a third of Morrisons milk contract', 'New Credit Suisse boss faces stiff challenge in Asia', 'UPDATE 1-EU regulator backs approval for GSK injectable asthma drug', 'After Barclays and Bank of America, Citigroup has blockchain in sight', 'AB InBev offers SABMiller $3 billion breakup fee', 'RBI surprises Street; Sensex pares gains after hitting mount 30k', 'GSK and Novartis complete deals to reshape both drugmakers', 'UPDATE: Barclays Expects Gain After Settling With Lehman Bros Trustee', 'Intertek Group announces strategic update outlining its plan', 'easyJet expects resilient demand to withstand security fears', 'Germanwings disaster will not affect image of budget air travel - easyJet', \"easyJet leads Britain's FTSE lower as global bond rout resumes\", 'Tesco, Asda sales fall as march of the discounters continues: Kantar', \"Tesco's Sales Pickup Isn't Enough\", 'Rolls-Royce Wins $9.2 Billion Order From Emirates Airline', 'Tesco, Asda sales fall as march of the discounters continues-Kantar', 'Aviva, M&G suspend property funds as investors panic', 'ConAgra Names Former Hillshire Farms CEO Connolly to Top Post', 'Friends Life lifts profits 38% and hikes divi ahead of proposed Aviva takeover', 'Peroni and Grolsch put up for sale as AB InBev plans acquisition of SABMiller', \"AB InBev's Latest Bid Said Unlikely to Win SABMiller's Approval\", 'Legal & General share price: Finance chief to step down', 'Shares in BAE Systems hit 10-month high on rating upgrade', 'Tesco share price tumbles after negative broker note', \"Japan's Asahi to submit bid next week for SABMiller's Grolsch and Peroni - Yomiuri\", 'Tesco sells half of stake in ecommerce site Lazada to Alibaba for Â£90m', 'Novartis buys remaining rights to GSK treatment in deal up to $1 billion', \"Do it for me' trend underpins UK sales growth at Kingfisher\", 'Saudi Aramco, Shell plan to break up Motiva, divide up assets', 'UPDATE 1-Berkshire applies to boost Wells Fargo stake above 10 pct', 'InterContinental Hotels Group share price climbs on $1.5bn special dividend', 'London Stock Exchange Shareholders Approve Merger With Deutsche BÃ¶rse', \"AB InBev to Sell SABMiller Stake in China's Snow Beer\", 'EU regulator backs approval for GSK injectable asthma drug', 'Tesco shares jump 6% after Christmas sales beat expectations', 'UPDATE 1-Lloyds to cut 945 jobs as part of 3-year restructuring plan', 'BHP Billiton posts big loss, slashes dividend', 'HSBC Hit by Fresh Details of Tax Evasion Claims', 'PRESS: Serco Set To Appoint Roy Gardner, Ex-Centrica, As Chairman - FT', 'Tesco shareholders back ITV head for chairman', 'Sophos aims to raise $100m in London IPO', 'HSBC shakes up board with two new business chiefs, three departures', \"CompaniesHome Retail trims gains but is considered 'in play'\", 'The Coca-Cola Company and Coca-Cola FEMSA to Acquire AdeS Soy-Based Beverage Business From Unilever', 'Tesco share price steady as analysts weigh in on results', \"OCBC to Buy Barclay's Wealth Management Unit in Singapore, Hong Kong\", 'AstraZeneca wins FDA approval for key new lung cancer pill', 'Amazon to attack UK grocery market with Morrisons deal', 'GlaxoSmithKline starts hunt for successor to CEO Witty', \"Britain's FTSE steadies, supported by Dixons Carphone\", 'LONDON MORNING BRIEFING: HSBC And Standard Chartered Shares Rise', 'Randgold profit hit by poor gold price but dividend still increases', 'Borealis Infrastructure putting together new Severn Trent bid', \"FDA approves Shire's Vyvanse for binge-eating disorder\", 'BHP Billiton share price: Brazil to sue Samarco for Â£3.5bn', 'EU drops Shell, BP, Statoil from ethanol benchmark investigation', 'Entertainment One dispels ITV takeover rumours', 'Shire CEO steps up drive to get Baxalta board talking', 'FTSE rallies off three-month low, boosted by StanChart, Sainsbury', 'Tesco share price jumps as Q3 sales top estimates', 'RBS will reportedly appoint Howard Davies as its next chairman', 'UPDATE: Persimmon Profit Up Strongly, Outlook Positive', 'European stocks hover near 3-week low, Dialog and BHP slump', 'Is It Worth Investing In Tesco PLC And Prudential plc Now?', 'Shell and BG Shareholders to Vote on Deal at End of January', 'Shire Sees Baxalta Deal Closing as Expected After New Rules', 'UPDATE 3-Ex-Barclays director accused by US of illegal tips to plumber', 'Horizonte acquires neighbouring Glencore nickel property in Brazil', 'TalkTalk hires BAE Systems to investigate cyber attack', 'Arm slammed by handset sales outlook', 'Johnson Matthey share price slumps as company posts full-year results', 'U.K. Stocks Little Changed Near Record as Barclays, Shell Fall', \"Doubts grow over GlaxoSmithKline's $6 bln capital return plan\", \"UK's FTSE has worst day so far in 2015 as BG and Prudential fall\", 'S&P downgrades Barclays and RBS on government bailout fears', 'Shire proposes $30 bln all-share tie-up with Baxalta', 'ARM Holdings plc Partners With International Business Machines Corp. To Drive ...', 'Diageo Shares Surge on Report of Possible Takeover by Lemann', 'Berkshire Hathaway names Kara Raiguel to lead General Re unit', 'Imperial Tobacco Adds Quarterly Dividends After Profit Rose', 'Tesco Abandons Video-Streaming Ambitions in Blinkbox Sale', 'BG Group appoints new CEO one month early', 'Analyst Views: Astrazeneca shares have seen recent volatility; what will 2015 ...', \"Buffett's Company Reports 37 Percent Drop in 2Q Earnings\", 'Tesco sales rise shows tentative recovery continues', \"Tesco closes in on new chairman with Dixons Carphone's John Allan in the frame\", 'EasyJet Dismisses Lufthansa Low-Cost Plan in Contest for Germany', 'CORRECTED-Shire to buy Dyax for about $5.9 bln', 'Passengers rise at EasyJet and Aer Lingus', 'HSBC appoints business leaders to board']\n"
     ]
    }
   ],
   "source": [
    "import numpy as np\n",
    "\n",
    "headlines_array = np.array(headline_df)\n",
    "np.random.shuffle(headlines_array)\n",
    "headlines_list = list(headlines_array[:,1])\n",
    "\n",
    "print(headlines_list)"
   ]
  },
  {
   "cell_type": "code",
   "execution_count": 7,
   "id": "46ba0641",
   "metadata": {
    "scrolled": true
   },
   "outputs": [
    {
     "data": {
      "application/vnd.jupyter.widget-view+json": {
       "model_id": "a5b8702b8bce48af84db663a670013de",
       "version_major": 2,
       "version_minor": 0
      },
      "text/plain": [
       "Downloading:   0%|          | 0.00/252 [00:00<?, ?B/s]"
      ]
     },
     "metadata": {},
     "output_type": "display_data"
    },
    {
     "data": {
      "application/vnd.jupyter.widget-view+json": {
       "model_id": "13f1aef9fe5747838a5420208480d99e",
       "version_major": 2,
       "version_minor": 0
      },
      "text/plain": [
       "Downloading:   0%|          | 0.00/758 [00:00<?, ?B/s]"
      ]
     },
     "metadata": {},
     "output_type": "display_data"
    },
    {
     "data": {
      "application/vnd.jupyter.widget-view+json": {
       "model_id": "9a2e0b51a72f4ae988dff0dab4c2b110",
       "version_major": 2,
       "version_minor": 0
      },
      "text/plain": [
       "Downloading:   0%|          | 0.00/226k [00:00<?, ?B/s]"
      ]
     },
     "metadata": {},
     "output_type": "display_data"
    },
    {
     "data": {
      "application/vnd.jupyter.widget-view+json": {
       "model_id": "e7f37360f67547ceba2db81562c3912f",
       "version_major": 2,
       "version_minor": 0
      },
      "text/plain": [
       "Downloading:   0%|          | 0.00/112 [00:00<?, ?B/s]"
      ]
     },
     "metadata": {},
     "output_type": "display_data"
    },
    {
     "data": {
      "application/vnd.jupyter.widget-view+json": {
       "model_id": "faa641313e864ee2ad9d94a80172d5cd",
       "version_major": 2,
       "version_minor": 0
      },
      "text/plain": [
       "Downloading:   0%|          | 0.00/418M [00:00<?, ?B/s]"
      ]
     },
     "metadata": {},
     "output_type": "display_data"
    }
   ],
   "source": [
    "from transformers import AutoTokenizer, AutoModelForSequenceClassification\n",
    "  \n",
    "tokenizer = AutoTokenizer.from_pretrained(\"ProsusAI/finbert\")\n",
    "model = AutoModelForSequenceClassification.from_pretrained(\"ProsusAI/finbert\")"
   ]
  },
  {
   "cell_type": "code",
   "execution_count": 8,
   "id": "0a8e6618",
   "metadata": {},
   "outputs": [
    {
     "name": "stdout",
     "output_type": "stream",
     "text": [
      "{'input_ids': tensor([[  101,  3493,  2160,  ...,     0,     0,     0],\n",
      "        [  101,  1048,  1004,  ...,     0,     0,     0],\n",
      "        [  101,  9004,  3217,  ...,     0,     0,     0],\n",
      "        ...,\n",
      "        [  101, 13371,  1011,  ...,     0,     0,     0],\n",
      "        [  101,  5467,  4125,  ...,     0,     0,     0],\n",
      "        [  101, 26236,  9818,  ...,     0,     0,     0]]), 'token_type_ids': tensor([[0, 0, 0,  ..., 0, 0, 0],\n",
      "        [0, 0, 0,  ..., 0, 0, 0],\n",
      "        [0, 0, 0,  ..., 0, 0, 0],\n",
      "        ...,\n",
      "        [0, 0, 0,  ..., 0, 0, 0],\n",
      "        [0, 0, 0,  ..., 0, 0, 0],\n",
      "        [0, 0, 0,  ..., 0, 0, 0]]), 'attention_mask': tensor([[1, 1, 1,  ..., 0, 0, 0],\n",
      "        [1, 1, 1,  ..., 0, 0, 0],\n",
      "        [1, 1, 1,  ..., 0, 0, 0],\n",
      "        ...,\n",
      "        [1, 1, 1,  ..., 0, 0, 0],\n",
      "        [1, 1, 1,  ..., 0, 0, 0],\n",
      "        [1, 1, 1,  ..., 0, 0, 0]])}\n"
     ]
    }
   ],
   "source": [
    "#That's where the headlines get tokenized to be inputted into model\n",
    "\n",
    "inputs = tokenizer(headlines_list, padding = True, truncation = True, return_tensors='pt')\n",
    "print(inputs)"
   ]
  },
  {
   "cell_type": "code",
   "execution_count": 9,
   "id": "af513152",
   "metadata": {},
   "outputs": [
    {
     "name": "stdout",
     "output_type": "stream",
     "text": [
      "torch.Size([436, 3])\n"
     ]
    }
   ],
   "source": [
    "#inference\n",
    "\n",
    "outputs = model(**inputs)\n",
    "print(outputs.logits.shape)"
   ]
  },
  {
   "cell_type": "code",
   "execution_count": 10,
   "id": "a272c101",
   "metadata": {},
   "outputs": [
    {
     "name": "stdout",
     "output_type": "stream",
     "text": [
      "tensor([[0.0480, 0.0192, 0.9328],\n",
      "        [0.5866, 0.1432, 0.2701],\n",
      "        [0.1999, 0.0472, 0.7528],\n",
      "        ...,\n",
      "        [0.1093, 0.0158, 0.8750],\n",
      "        [0.7944, 0.0202, 0.1853],\n",
      "        [0.0259, 0.0226, 0.9514]], grad_fn=<SoftmaxBackward0>)\n"
     ]
    }
   ],
   "source": [
    "#Postprocessing with softmax\n",
    "\n",
    "import torch\n",
    "\n",
    "predictions = torch.nn.functional.softmax(outputs.logits, dim=-1)\n",
    "print(predictions)"
   ]
  },
  {
   "cell_type": "code",
   "execution_count": 11,
   "id": "eacabd7c",
   "metadata": {},
   "outputs": [
    {
     "data": {
      "text/plain": [
       "{0: 'positive', 1: 'negative', 2: 'neutral'}"
      ]
     },
     "execution_count": 11,
     "metadata": {},
     "output_type": "execute_result"
    }
   ],
   "source": [
    "model.config.id2label"
   ]
  },
  {
   "cell_type": "code",
   "execution_count": 14,
   "id": "a4b70a23",
   "metadata": {},
   "outputs": [
    {
     "data": {
      "text/html": [
       "<div>\n",
       "<style scoped>\n",
       "    .dataframe tbody tr th:only-of-type {\n",
       "        vertical-align: middle;\n",
       "    }\n",
       "\n",
       "    .dataframe tbody tr th {\n",
       "        vertical-align: top;\n",
       "    }\n",
       "\n",
       "    .dataframe thead th {\n",
       "        text-align: right;\n",
       "    }\n",
       "</style>\n",
       "<table border=\"1\" class=\"dataframe\">\n",
       "  <thead>\n",
       "    <tr style=\"text-align: right;\">\n",
       "      <th></th>\n",
       "      <th>Headline</th>\n",
       "      <th>Positive</th>\n",
       "      <th>Negative</th>\n",
       "      <th>Neutral</th>\n",
       "    </tr>\n",
       "  </thead>\n",
       "  <tbody>\n",
       "    <tr>\n",
       "      <th>0</th>\n",
       "      <td>Irish housebuilder Cairn Homes plans London li...</td>\n",
       "      <td>0.048033</td>\n",
       "      <td>0.019163</td>\n",
       "      <td>0.932804</td>\n",
       "    </tr>\n",
       "    <tr>\n",
       "      <th>1</th>\n",
       "      <td>L&amp;G still paying price for dividend cut during...</td>\n",
       "      <td>0.586642</td>\n",
       "      <td>0.143236</td>\n",
       "      <td>0.270122</td>\n",
       "    </tr>\n",
       "    <tr>\n",
       "      <th>2</th>\n",
       "      <td>Petrofac books further Â£30m cost for Shetland...</td>\n",
       "      <td>0.199948</td>\n",
       "      <td>0.047227</td>\n",
       "      <td>0.752825</td>\n",
       "    </tr>\n",
       "    <tr>\n",
       "      <th>3</th>\n",
       "      <td>Industry NewsWolseley confident in reslilience...</td>\n",
       "      <td>0.943798</td>\n",
       "      <td>0.023129</td>\n",
       "      <td>0.033074</td>\n",
       "    </tr>\n",
       "    <tr>\n",
       "      <th>4</th>\n",
       "      <td>Petrofac share price rises despite Â£30m costs...</td>\n",
       "      <td>0.909451</td>\n",
       "      <td>0.064922</td>\n",
       "      <td>0.025627</td>\n",
       "    </tr>\n",
       "    <tr>\n",
       "      <th>5</th>\n",
       "      <td>Keith Skeoch to step up as David Nish quits as...</td>\n",
       "      <td>0.021570</td>\n",
       "      <td>0.275133</td>\n",
       "      <td>0.703297</td>\n",
       "    </tr>\n",
       "    <tr>\n",
       "      <th>6</th>\n",
       "      <td>Oil majors like Royal Dutch Shell, Chevron, BP...</td>\n",
       "      <td>0.058272</td>\n",
       "      <td>0.505076</td>\n",
       "      <td>0.436652</td>\n",
       "    </tr>\n",
       "    <tr>\n",
       "      <th>7</th>\n",
       "      <td>AB InBev looks to win over SABMiller investors</td>\n",
       "      <td>0.941902</td>\n",
       "      <td>0.013037</td>\n",
       "      <td>0.045060</td>\n",
       "    </tr>\n",
       "    <tr>\n",
       "      <th>8</th>\n",
       "      <td>Britain's FTSE forges ahead as Shire surges</td>\n",
       "      <td>0.572216</td>\n",
       "      <td>0.174003</td>\n",
       "      <td>0.253781</td>\n",
       "    </tr>\n",
       "    <tr>\n",
       "      <th>9</th>\n",
       "      <td>Builder Persimmon hails 6% rise in house sales</td>\n",
       "      <td>0.928966</td>\n",
       "      <td>0.026421</td>\n",
       "      <td>0.044613</td>\n",
       "    </tr>\n",
       "  </tbody>\n",
       "</table>\n",
       "</div>"
      ],
      "text/plain": [
       "                                            Headline  Positive  Negative  \\\n",
       "0  Irish housebuilder Cairn Homes plans London li...  0.048033  0.019163   \n",
       "1  L&G still paying price for dividend cut during...  0.586642  0.143236   \n",
       "2  Petrofac books further Â£30m cost for Shetland...  0.199948  0.047227   \n",
       "3  Industry NewsWolseley confident in reslilience...  0.943798  0.023129   \n",
       "4  Petrofac share price rises despite Â£30m costs...  0.909451  0.064922   \n",
       "5  Keith Skeoch to step up as David Nish quits as...  0.021570  0.275133   \n",
       "6  Oil majors like Royal Dutch Shell, Chevron, BP...  0.058272  0.505076   \n",
       "7     AB InBev looks to win over SABMiller investors  0.941902  0.013037   \n",
       "8        Britain's FTSE forges ahead as Shire surges  0.572216  0.174003   \n",
       "9     Builder Persimmon hails 6% rise in house sales  0.928966  0.026421   \n",
       "\n",
       "    Neutral  \n",
       "0  0.932804  \n",
       "1  0.270122  \n",
       "2  0.752825  \n",
       "3  0.033074  \n",
       "4  0.025627  \n",
       "5  0.703297  \n",
       "6  0.436652  \n",
       "7  0.045060  \n",
       "8  0.253781  \n",
       "9  0.044613  "
      ]
     },
     "execution_count": 14,
     "metadata": {},
     "output_type": "execute_result"
    }
   ],
   "source": [
    "#Formatting the results as a pandas data frame\n",
    "\n",
    "import pandas as pd\n",
    "\n",
    "#Headline #Positive #Negative #Neutral\n",
    "positive = predictions[:, 0].tolist()\n",
    "negative = predictions[:, 1].tolist()\n",
    "neutral = predictions[:, 2].tolist()\n",
    "\n",
    "table = {'Headline':headlines_list,\n",
    "         \"Positive\":positive,\n",
    "         \"Negative\":negative, \n",
    "         \"Neutral\":neutral}\n",
    "      \n",
    "df = pd.DataFrame(table, columns = [\"Headline\", \"Positive\", \"Negative\", \"Neutral\"])\n",
    "\n",
    "df.head(10)"
   ]
  },
  {
   "cell_type": "code",
   "execution_count": 19,
   "id": "0e5cc8a6",
   "metadata": {},
   "outputs": [
    {
     "name": "stdout",
     "output_type": "stream",
     "text": [
      "Headline Prediction Rate:  59.95423340961098 %\n"
     ]
    }
   ],
   "source": [
    "def find_label(value):\n",
    "    if -0.1 <= value <= 0.1:\n",
    "        return 0\n",
    "    elif value < -0.1:\n",
    "        return -1\n",
    "    else:\n",
    "        return 1\n",
    "\n",
    "index = 0\n",
    "correct = 0.0\n",
    "for x in headlines_array:\n",
    "    true_label = find_label(x[4])\n",
    "    max_v = max(predictions[index, 0], predictions[index, 1], predictions[index, 2])\n",
    "    if max_v == predictions[index, 0]:\n",
    "        prediction_label = 1\n",
    "    elif max_v == predictions[index, 1]:\n",
    "        prediction_label = -1\n",
    "    else:\n",
    "        prediction_label = 0\n",
    "    \n",
    "    if prediction_label == true_label:\n",
    "        correct += 1\n",
    "    index += 1\n",
    "print(\"Headline Prediction Rate: \", correct / (index + 1) * 100, \"%\")\n",
    "    "
   ]
  },
  {
   "cell_type": "markdown",
   "id": "e30959ed",
   "metadata": {},
   "source": [
    "# FinBERT With Post"
   ]
  },
  {
   "cell_type": "code",
   "execution_count": 2,
   "id": "26d8f249",
   "metadata": {},
   "outputs": [
    {
     "data": {
      "text/html": [
       "<div>\n",
       "<style scoped>\n",
       "    .dataframe tbody tr th:only-of-type {\n",
       "        vertical-align: middle;\n",
       "    }\n",
       "\n",
       "    .dataframe tbody tr th {\n",
       "        vertical-align: top;\n",
       "    }\n",
       "\n",
       "    .dataframe thead th {\n",
       "        text-align: right;\n",
       "    }\n",
       "</style>\n",
       "<table border=\"1\" class=\"dataframe\">\n",
       "  <thead>\n",
       "    <tr style=\"text-align: right;\">\n",
       "      <th></th>\n",
       "      <th>id</th>\n",
       "      <th>sentence</th>\n",
       "      <th>snippets</th>\n",
       "      <th>target</th>\n",
       "      <th>sentiment_score</th>\n",
       "      <th>aspects</th>\n",
       "    </tr>\n",
       "  </thead>\n",
       "  <tbody>\n",
       "    <tr>\n",
       "      <th>0</th>\n",
       "      <td>1</td>\n",
       "      <td>Slowly adding some $FIO here but gotta be care...</td>\n",
       "      <td>['Slowly adding some $FIO here but gotta be ca...</td>\n",
       "      <td>FIO</td>\n",
       "      <td>0.459</td>\n",
       "      <td>['Stock/Price Action/Bullish/Bull Position']</td>\n",
       "    </tr>\n",
       "    <tr>\n",
       "      <th>1</th>\n",
       "      <td>2</td>\n",
       "      <td>$TRX http://stks.co/1KkK Long setup. MACD cross.</td>\n",
       "      <td>['Long setup. MACD cross.']</td>\n",
       "      <td>TRX</td>\n",
       "      <td>0.438</td>\n",
       "      <td>['Stock/Technical Analysis']</td>\n",
       "    </tr>\n",
       "    <tr>\n",
       "      <th>2</th>\n",
       "      <td>3</td>\n",
       "      <td>I am not optimistic about $amzn both fundement...</td>\n",
       "      <td>['both fundementals and charts look like poopo...</td>\n",
       "      <td>AMZN</td>\n",
       "      <td>-0.506</td>\n",
       "      <td>['Stock/Price Action/Bearish']</td>\n",
       "    </tr>\n",
       "    <tr>\n",
       "      <th>3</th>\n",
       "      <td>4</td>\n",
       "      <td>$GRPN might be selling off ahead of $P earning...</td>\n",
       "      <td>['might be selling off ahead']</td>\n",
       "      <td>P</td>\n",
       "      <td>-0.202</td>\n",
       "      <td>['Stock/Price Action/Bearish/Bearish Behavior']</td>\n",
       "    </tr>\n",
       "    <tr>\n",
       "      <th>4</th>\n",
       "      <td>5</td>\n",
       "      <td>$IACI http://stks.co/tJU Looks good on the wee...</td>\n",
       "      <td>['Looks good on the weekly chart.']</td>\n",
       "      <td>IACI</td>\n",
       "      <td>0.379</td>\n",
       "      <td>['Stock/Technical Analysis']</td>\n",
       "    </tr>\n",
       "  </tbody>\n",
       "</table>\n",
       "</div>"
      ],
      "text/plain": [
       "   id                                           sentence  \\\n",
       "0   1  Slowly adding some $FIO here but gotta be care...   \n",
       "1   2   $TRX http://stks.co/1KkK Long setup. MACD cross.   \n",
       "2   3  I am not optimistic about $amzn both fundement...   \n",
       "3   4  $GRPN might be selling off ahead of $P earning...   \n",
       "4   5  $IACI http://stks.co/tJU Looks good on the wee...   \n",
       "\n",
       "                                            snippets target  sentiment_score  \\\n",
       "0  ['Slowly adding some $FIO here but gotta be ca...    FIO            0.459   \n",
       "1                        ['Long setup. MACD cross.']    TRX            0.438   \n",
       "2  ['both fundementals and charts look like poopo...   AMZN           -0.506   \n",
       "3                     ['might be selling off ahead']      P           -0.202   \n",
       "4                ['Looks good on the weekly chart.']   IACI            0.379   \n",
       "\n",
       "                                           aspects  \n",
       "0     ['Stock/Price Action/Bullish/Bull Position']  \n",
       "1                     ['Stock/Technical Analysis']  \n",
       "2                   ['Stock/Price Action/Bearish']  \n",
       "3  ['Stock/Price Action/Bearish/Bearish Behavior']  \n",
       "4                     ['Stock/Technical Analysis']  "
      ]
     },
     "execution_count": 2,
     "metadata": {},
     "output_type": "execute_result"
    }
   ],
   "source": [
    "import pandas\n",
    "\n",
    "post_df = pandas.read_csv(\"dataset/post_train.csv\")\n",
    "post_df.head(5)   "
   ]
  },
  {
   "cell_type": "code",
   "execution_count": 3,
   "id": "4529c166",
   "metadata": {},
   "outputs": [
    {
     "name": "stdout",
     "output_type": "stream",
     "text": [
      "['Sudden optimism about iPhone sales (i.e., not as bad as expected) gives Apple $AAPL a lift.  https://t.co/oKTCw4YiB5', \"$TSLA announces a recall and the stock doesn't sell off. This stock is teflon. Won't last forever.\", '$ZAGG getting ready...Target $15 plus on a close over $13.50 on better than avg daily Volume http://chart.ly/lha44tn', '$AAPL AAPL finally breaking under the 49 M.A.. With no buybacks this week, look for AAPL to test the 120 support area.', 'Covered my small $MWW short @ 7.99 for a .16 loss. Flat on the day. All cash now.', '$NFLX and $TSLA making all kinds of gains 📈', '$DARA breaking out', '$SKH http://stks.co/163e Long setup. Watch for continuation and volume expansion here. Hot sector.', 'Long $GPRO for a brealout trade', '$EBAY  e-bay bay!  working on a couple daily dojis .. should continue to the downside  https://t.co/lgU0yBxEZe', '$SBUX getting sold here.', '$AMZN Going thru the roof needs a sell!', '$GPS Gap September Comparable Store Sales -4%', '$AAPL Good time to buy. Will the run come before earnings or after?', '$CRM Sep 40 calls are +35% since entry #BANG http://stks.co/deDm', '$AMD big dumping... would not touch it for a while', '$MXWL Oh snap. Just went long again. LT', '#LongPos $TSLA 256 Break-out thru 50 & 200- DMA (197-230) upper head res (274-279) Short squeeze in progress Nr term obj: 310 Stop loss:239', '$GPRO down 25% since Tue morning.', 'LinkedIn Revenue Up Nearly 50% http://stks.co/g1F4T  $LNKD', '$CHKP ABC Bullish Pattern, Targets https://t.co/uVMmRSR5Zy', '$KIOR My god. Market getting crushed today. Gotta hold if anything g should recover some tomorrow I imagine.', 'Surprising to see $JWN and $SKS sales numbers still holding up so well. I guess the high end might not be a concern after all.', '$AAPL 620 resistance area', 'Infection worries prompt regulatory reviews of Gilead leukaemia drug $GILD https://t.co/H9vqXpZ15G via @YahooFinance', '$aapl news is becoming very bullish again http://stks.co/tMU', '$MTD (Mettler-Toledo) ready for a breakout', \"Seat belt recall? who cares....  I'm a buyer $TSLA\", 'Slowly adding some $FIO here but gotta be careful. This will be one of biggest winners in 2012', '$GDX $GDXJ $JNUG - strong move today for the Junior Gold Miners - keep an EYE out for a gap fill -', '3rd red day in a row ? $TSLA', \"$SPY c'mon bulls buy DIPS!\", '$CSX another strong rail today after breaking intraday resistance at 1$9.80 https://t.co/eA4FBVuqGP', '$SBUX inverted head & shoulders pattern in the works. bullish.', \"$HYG Potential continuation Uptrend on a 60'-15'-4' charts http://stks.co/t1Qp6\", '$GS sells flat..I am out..', 'long $AAPL 107 calls @ .40', 'RT @tomhend777 $MU needs to hold here -Broken for now. Needs big flush. Still not technically oversold so now big bounce yet', '$SDS +1.46% 15.32, picking up some speed. May 16 calls now +35% .19: http://stks.co/3eiK, Next week $16 calls .11c: http://stks.co/3eiL', '$BAC in for swing trade  looks like want go up', 'FBR Capital reiterated \"Outperform\" rating on $BRCM with a price target of $45.00 on Friday.', '@ACInvestorBlog: $SPY eod run :)', '$DDD 3D Systems (DDD) Stock Receives Ratings Downgrade Today at Jefferies http://stks.co/g1cqd', 'Reuters: Green Mountain revenue misses, shares plunge http://stks.co/13mW > $GMCR prints 43.80, market in a foul mood, bad day to disappoint', '$JNK http://stks.co/2Fcm Does not want to go down... risk appetite still high', '$UGAZ Will this cold put a dent in the massive horizontal rig production. Who knows  http://stks.co/p1V6P', 'for @vnoto74 to follow:  after a SELL signal by $NDX internals [06/23] ~> technical SELL $QQQ [06/25] ~> DOWN', '$HZNP havent seen vol like this since the runup. lets see one more dip to 2.0x', '$spy $vxx $aapl the parties over loaded on $uvxy volatility is back', 'Long $VVUS shares as a call option w/ an expiration of..  umm.. TODAY.    Hitting HOD here.', '$IACI http://stks.co/tJU Looks good on the weekly chart.', '$INTC finally some nice downside move... looking for the 31 handle to break', '$YOKU high volume blast off Friday, goes higher  http://stks.co/qSaL', '$AAPL bounce right now has no vol, more vol when it slid', 'long $SDLP $CPGX $TWTR $BITA $LABU $FB $TSLA $ETE $SDRL  Autocharts @ https://t.co/nxLx1ES7nY', 'Double bottom with handle buy point of 29.51 $IP http://chart.ly/akvujxh', '$ISRG PT raised to $700 from $640 at Leerink - keeps Outperform rated', 'NetApp downgraded by Macquarie to underperform. $22.00 PT. https://t.co/XCNgws0t4q $NTAP #NTAP via @RatingsNetwork', \"Profit taking on $AAPL this morning?  That has to be the pressure on the stock.  I'm still bullish on $AAPL.\", '$AAPL price momentum weakening going into the close.', '$AAPL  downgrade is bias. This stock is a buy.', 'RT @bman1 $LNG looks primed also $EGHT poised to run too...', '$pcln back over \"up\" trendline from 10/4', '$FB $AAPL $NKE $JWN bearish charts keep getting worse.', '$YHOO A breakout above $29.83 would constitute a technical entry for the short term trader. http://stks.co/jkUF', '$GOOG resistance turned support?  It', \"Watch these bancos.they're holding up relatively well compared to the broad market $XLF $BAC $GS $C <--large C buying in $BAC in backburner\", '$RDC Rowan Expands Share Repurchase Program to $150 million', '$YMI http://stks.co/Xyf Long setup. Closed above the 20MA. MACD cross. November catalyst.', 'The Boeing Company (NYSE:BA) Bearish Trader bets $550K that Stock Will Sell Off 9.79% by July Expiry $BA http://stks.co/tCSE', '$VRTX Vertex. Monthly -lower hi/lower lo,  Long term uptrend intract so far', 'Looks like its booking a one way ticket to its 40 week MA near 50. Losing 10 week here $LULU http://chart.ly/7xb9h9b', '$SLW is down, but weekly $34 calls (-28.95%), .23 x .25 have 321 volume. Worth a chance here, jmho: http://stks.co/1Qfg', 'Today I bought more $MU $YHOO $VALE $NBL $TWTR $AXP $ZNGA https://t.co/Vt6T5Zp2is', '$STX long play, another consistent profit zone.. check it out https://t.co/DQfuzOzYlh https://t.co/ggne4ayzqn', '@REC_Zakaria Monday Bulls Are Out! Stock Ticker- Michael James Ent. Other picks $SBUX $GVP $NKE', 'I am not optimistic about $amzn both fundementals and charts look like poopoo this quarter.', '$PCLN Trying to break daily trend line! Big move could happen https://t.co/gY0aDb2jsQ https://t.co/KPBBCgQ2xy', '$NQ got hit hard lower this AM --> looks like it has found support a 18.89 http://stks.co/s052z', '$LINE biggies must be loading up here at lows..', '$mako hanging in well today. still in a basing pattern. have eyes on it', \"$ROST Nov 90 calls 2.08 .. Go Long until exp imo ! Unless europeans keeps F'ing around !\", \"$KNDI Let's see some higher highs and higher lows rest of the day , slow and steady\", '$AAPL nibbling on a small long via 525.. buying off 13min charts..', '$TSLA yeah lets go down to 230s lol', '$RSH - looking for first profitable quarter in 3 years!!!  ;).  LONG & STRONG', '78 users on Vetr are bearish on Tesla Motors, Inc., indicating a SELL Rating (2 stars) for $TSLA https://t.co/vVpzqCXsNJ', '$QCOR Just added 3,000 shares @28.', '@Renatta @Fr0van @kjepeneter @RPTL  Strong close 4 $PLNR  coming', '$COST Costco less than stellar day but it held the 50 day moving average', '$GOOG Testing the 200 day after some consolidation http://stks.co/h0cPJ', 'Most bullish stocks on Twitter during this dip. $YHOO $GDX $GOOGL $STZ $GOLD $EW $VZ $CELG $SBUX $SCTY more: https://t.co/iuZJelfwt3', 'Word on the street is that Allergen is looking at Endo International after the failed Pfizer merger. May-20 $35 calls active. $ENDP', '$SMH got a sell signal on 6/4 and needs to take out 39.28 to go higher otherwise headed lower than 37.60 gap below at 35.38', '$TSLA recall', 'RT @ACInvestorBlog $AAPL still on track for $500', 'Look at that $AMZN > 600', 'Juniper tumbles on Q1 warning; Cisco also lower https://t.co/N8X8BpLJ1E $JNPR $CSCO', '$ISRG Break out confirmed. Bought Leaps. Good trading!', \"Starbucks' Digital Strategy To Drive Significant Growth With Customer Loyalty $SBUX https://t.co/Xk6lZ3UI3K\", 'Tesla Motors recalls 2,700 Model X SUVs $TSLA https://t.co/xDGrAExkKz', \"I'm liking the price action in $SWKS, currently @21.80 ; my target: 24.00+ before year end.\", '$GRPN might be selling off ahead of $P earnings...', '$AAPL wants lower. up waves getting smaller on the 2 min', '$ATHN Seems like a good short setup. Stop above the 50 day. No position.', '$EBAY had a nice breakout of the recent consolidation. Congrats to those who had it. http://stks.co/2TAd', \"$BBRY bye bye Sammy. Hello BB. Sounds like we'll see some green tomorrow.\", '$AMZN rejected that 604 to the penny. Weak open and it goes r/g within first 30 mins, could have 8-10 points in it. https://t.co/58tEAEXxpE', '$YNDX and the price of some stocks was 2 times lower then annual earnings, I could not resist, I  was buying when everyone was selling', '$ENDP exit reversal .11 X 3K shares = $330 - now Long - not getting follow through, either side of price action', 'AP: Caterpillar posts 60 percent jump in 4Q profit on steep global sales increase, tops Wall St. view > $CAT', 'Deutsche Bank cuts $SBUX', 'Long $PCLN', '$WFT closng higher from here', 'Short on $ATVI from 24.55.', 'Isolationism? Another Sell Rating, Sell Ratings On SPY, QQQ, IWM And Several Companies https://t.co/j35FNnx744 $AAPL #APPLE $AXP $BAC', '$AAPL Beat the estimates. Will still go down on lack of new products. https://t.co/sX3z7u6N8o', '$ELN longs...congrats...another HOD', 'Facebook $FB received a Buy rating from Wells Fargo 5-star Analyst Peter Stabler (Wells Fargo) https://t.co/jnB4c9vdCu', '$AAPL bounces off support, it seems', 'Coke dividend - 3%. Google dividend - 0%. For passive income Coke takes it. $GOOG $KO https://t.co/QBsoWjxOST', '$UTSI http://stks.co/15uR Long setup. Reported very good earnings.', '$PCLN Back to Back intraday reversals look out below. Shorts moving in!', '$AAPL AAPL: Gundlach Slams iPad mini, Sees Downside to $425. http://stks.co/bDqV', '$FB still a dog going much lower this week', '$BOBE down $2.84  premarket', \"$FB I've been dead on so far. Such a bloated valuation. https://t.co/czCf8Kbrlt\", 'Followed the levels I shared with you on $NFLX $GOOGL $TSLA calls for nice gains. Still holding $FB 110 calls. Week made in a morning.', 'Sold some $TSLA Puts this morning Closed them at the close. Helps pay for monthly expenses', 'Fastenal misses by $0.01, misses on revenue $FAST #NYSE https://t.co/63JHQ7pwMN', '$AMZN trades in mid to upper range. No break out yet, either direction', '$UUP at major resistance right now. Can go much higher if it can break above. May take several attempts - few days to a week', \"what is up with $HK..... from Jan to now it's been a sinking ship...\", 'Apple expected to launch new iPhone, iPad today $AAPL https://t.co/XfnICWeBeG', '$RAD I would consider this opportunity to add my position because the company is on the right track they are still improving sales...', \"$AWR Standard & Poor's Affirms 'A+' Credit Rating at American States Water Company and Golden State Water Company http://stks.co/f2P94\", '$AAPL is now beaten down, hated, etc. / hhhmm opposite of 700> what happens next?', 'Long $ENDP @ $26.23 on $AGN b/o rumor', '$BBRY both 1m/6m trends turn bullish today with a resistance level at $11.31. http://stks.co/j1qt6', '$CTRP just broke resistance, watching for a #redtogreen #breakout right out of the gate tomorrow morning. #stocks https://t.co/8VXFUUIt04', 'RT @Street_Insider The Steve Jobs Effect? Apple $AAPL First Day iPhone 4S Sales Were Off the Charts http://stks.co/YYe', '$NFLX Easy pop to 500$ by end of feb.. Then steady as she goes for 600 into second earnings report..800$ year end no matter what', '$MOS looking good here at $58.65. Calls are active in this month and weekly', 'Added. Cost now at 1.54. Bounce off of Put OI & S1 pivot. @moteltan BTO $AAPL Apr 27 2012 605.0 Calls @ 1.66 for ride to 609 ish.', '$SPY Could the pride of social media be gettin ready to fall?  $FB - chart rolling over?', '$PPG Descending triangle but I am liking it for an upside break http://stks.co/o9nY', '$WAC trade continuing very nicely from yesterday, almost up $3 from yesterday entry, deal pricing tonight looking very strong here... $SPY', \"$ADBE technical alerts: Expansion Breakout, Gilligan's Island Sell Setup, Volume Surge, and New 52... https://t.co/LxX66tknFH\", '$OSUR up 33% since 6/25 buy signal. resistance 5.33 - expect 1. pullback 2nd half of day or 2. break abov 5.33 & continue rally for 4-5 days', '$NUGT longer term bullish', '$ZNGA http://stks.co/3rdu Looking for a test at 9.25 resistance point. cc @ cfrazierjr @FletchTrade #traders', '$mcp rolling over for a new intraday low. Bottom Pickers continue to get destroyed', '$AVGO great growth stk &  also raised dividend . clearly a great investment http://stks.co/r2F3h', \"$GLD http://stks.co/jr8 Daily chart - though RSI and Stoch. point at a possible move up, there's a lot of resistance.\", '$YANG Double bottom 5.2', '$SPY Less than 0.2% down and people are calling it bearish. Some heading for exits already. Maybe 1% down will be \"the crash\"? Disturbing!', 'Homebuilders - $RYL breaking below support, watch this one.  $SPY', 'Lots of metal stocks look like a 5-10% run awaits. Long $SSRI,$PAAS and $NEM but most high quality names should go if metal prices cooperate', \"i-Grid shows $DIA capped for the long term at range of 123.40- 124.77;any rally beyond today's levels or into this range leads to meltdown.\", '$P bull flag on the daily, earnings on the table tomorrow +/-12 move.Will straddle this one into earnings..lots of vol guaranteed here', 'Tesla Motors recalls 2,700 Model X SUVs https://t.co/BFWS3DbM0U $TSLA', 'Tesla: Voluntary recall of 2,700 Model X vehicles, due to back seat issue. $TSLA https://t.co/NPAkc3U6GS', '$AMZN long into earnings. looks good over 600', '$CAT is hangin on my a thread. 1click away from a cliff drop.. Needs follow through (or snap-back on the VIX)', '$DMND green and moving', \"$AAPL I'm sure those short are holding their breath hoping for a miracle. lol\", '$GILD Sandbagged the guidance so the can use that last 3 billion up.  CC was cautiously optimistic, wait til Next ER for confirmation', '$INO Up, up, and away!', '$RIMM $spx $nya $compq $djia all going down', 'RT @andrewnyquist Chartology: Yahoo: http://stks.co/1itr $YHOO  Crazy looking chart, but nearing breakout resistance line...', '$LNT Increases Annual Dividend Target to $1.80/Share from $1.70/Share', \"$SSYS just re-tested lows . Should rise steadily from here. It hit $81 just 21 trading days ago, and $130.86 on Sept 18. It'll do it again.\", '$ROST Ross Stores Upgraded to Outperform at RBC Capital Markets http://stks.co/j0Q9t', '@IfHeDiesHeDies: @Bullhorn334: $ZNGA shorts are getting nervous\"\"', 'End Of Day Scan: Stochastic Overbought $JDST $FREE $BLRX $LPG $AFSI $DVAX $HDGE $AHT $ALR $ASMB  www.dailystockplays.com', '$NSM ascending base breakout starting to gain traction; strong stock http://stks.co/gBSH', \"RT @Dasan @TMTanalyst ...since $AAPL mastered their supply chain // in cornering NAND, Apple mastered EVERYONE'S supply chain!\", '$GNRC finding support at its 10-day line so far.', 'Tesla to recall 2,700 Model X SUVs over seat issue https://t.co/OdPraN59Xq $TSLA https://t.co/xvn4blIwpy https://t.co/ThfvWTnRPs', '$UVXY Put the chum out there at key support then next level down - careful', 'Multi Top on $MCD chart finally leads to a fall in price.  Stability is questioned in the stock but coming weeks will tell.', '$ES_F. Nice little cup-and-handle shaping up on the 15-minute. End-of-day $SPY $SPX favours a good day for the index. Will we see a gap open', '$EFUT hod  posted buy pm at $4.40', 'Added long at friday close  $SPY $LABU $BLUE $AMZN', '$SONC Amazing run since middle of March - obvious that the quality/tastiness of their burgers is not being factored into this price advance', 'Netflix Grows Efforts To Create Loyal Customers $NFLX https://t.co/5QXBkoBphe', '$TSLA I see more downside in next two weeks be careful -20 dollars drop potential vs +10 up moved', 'Microsoft joins the open-source Eclipse Foundation https://t.co/z8G5cZaKeU focus on collaboration & open business is a smart strategy! $MSFT', 'bot $AMZN 600 weekly calls here @ 5.93', 'Costco: A Premier Retail Dividend Play https://t.co/Fa5cnh2t0t $COST', '$IWM relative weakness is pretty apparent but the short boat is getting full on this one. I prefer the boat closer to empty.', \"Casinos red before the bell: $LVS -0.75%, $WYNN -0.47%, $WYNN -0.47% > unusual comibinations of what's running, what's red before the bell\", '$TSLA recalling pretty much every single model X @cnnbrk got to short that even at work you jump in money trade', 'Apple: Another attempt to break out on Apple but with weak PVT   $AAPL #Trading #investing #aapl https://t.co/DNh7Hgv22V', '$STX move off the bottom but still in bear market #datasecurity $EMC $SNDK $WDC https://t.co/VkYdWPxeSN', \"$CAMT Looks like might break down. I'm out\", \"Starbucks' Digital Strategy To Drive Significant Growth With Customer Loyalty https://t.co/9Q7cI79IYO $SBUX\", 'Tesla is recalling 2,700 Model X cars: https://t.co/8Z7BkVsTl9 $TSLA', 'Sheryl Sandberg Sells 109,000 Shares of Facebook Inc $FB Stock https://t.co/3vXT7AMnpk via @RatingsNetwork', \"Really surprised by how much $FB has now fallen. Thought there'd be some support around the 50d, but I guess not.\", '$SPY Tomorrow party time for the Bears!! $GOOG and $MSFT -5.5%', 'Breaking 52 week highs timing looks great now $AHS $BABY $POST $IGE $IRDM $EWBC $PHYS $ULTA $VNET $BIV https://t.co/11K8JzuzMU', '$BBRY hearing rumours of a major joint venture announcement.', '09:01 AM      $AKS  DJ AK Steel Revenue Rises 36% on Auto Sector Demand, Acquisition', '$WFM Bought a little yesterday, hoping for an earnings pop.', 'Rival companies $GWR and WATCO eyeing $RA w take-over interest.  http://stks.co/o0xY', 'On #FEDDAY looking for a sharp move up in equities $AAPL $HD $LOW $FB seeing $UVXY $TVIX getting hammered, even though market is down.', '$GS is looking weak while this market is moving higher not a good sign. Unless $gs can get above 157. early short below 154.00 today.', '$spy bumping its head on declining daily 8ma as overhead resistance. Then the big brother 50ma just above that.', 'ACE Limited, which has a 17 year dividend growth streak, plans a 33% dividend hike: http://stks.co/1BUE $ACE', 'RT @joemccann the correleation between the dollar index and $SPY is simply amazing. $DX finds support, $SPY retreats like clockwork', '$HSC Receives 7-Year, $50M Contract at New Saudi Arabian Steel Mill', 'Walter Investment Management Corp Receives a Sell from Compass Point $WAC http://stks.co/c1IvX', 'Buyback not trending right ( $CPIX spending more as shares pricier). Hopefully will pull back w 6.87 Q2 closing VWAP', 'Breaking: Tesla recalls all Model X cars  .. details on show now $TSLA', '$GILD chart: With $IBB back over support. https://t.co/GpRZ2UJFC4', '@chessNwine: $IWM 30-Minute Chart. Small caps threatening descending triangle breakdown under $110.20.  http://stks.co/r0KKm', \"$DGI technical alerts: Gilligan's Island Buy Setup, Stochastic Buy Signal, Lizard Bullish, Hammer Candlestick, Wid... http://stks.co/c29Nu\", '@BULLYA @pollux654321 My 50 $KORS 80 Calls are going to b a Blessing for my Daughters tuition!', '$KITD Looking for a oversold bounce.', \"Short more $FAZ for all who don't know that means markets will tank now :-p\", \"Think $FMS will challendge 200-EMA in not distant future.   Look at yesterday's volume\", '$aapl high of day just hit. Back at it tomorrow.', '$EA points to the two Facebook games and accuses $ZNGA of copyright infringement. http://stks.co/g3A1', '$TSLA 5th wave down on the 1 hour chart, hammer candle developing, close to 200 sma, might be a good spot for calls', '$CYTX looks like an ascending channel on Finfiz http://stks.co/f26r4', \"$BIOC RSI extremely in long's favor looking at BIOC historically.\", 'I see a 20 percent upside in $FB shares from here', 'RT @stockdemons think shorting here into close might be play, $SPY - high beta reversing..looks worth a shot', '$RIG whos ever pushing this is crazy, get ready for suspended dividend (turning into growth stock) blow out earnings, and major buyback, lol', '$BBRY Sierra. Has a great cash balance and impressive growth rate.Would be a wonderful marriage!', '$SBUX down PM, from $DB downgrade.. PT cut from 70 to $64', \"$AXDX I got bored, and took my proprietary profit exit. I didn't like the option liquidity and lousy spreads.\", '$CTRP  breaking out here on good vol and a parser buy signal  ..noticed this on bob langs comments looking for 48 fast', '$RNN staying above the open a very good sign!!!', '$NKE gapping up to all time highs http://stks.co/q1jAu #tradeideas http://stks.co/r1j6c', 'expecting  $SPY to close above 205.20 $AAPL', '$PRGN A bottom right here?', 'Long $TSLA short $MBLY https://t.co/jSpUSzo6na', '$SINA even though the \"report\" is untrue and has been proven unture, the damage is done. No one wants to touch it now', '$FB i guess they want it down look at the those sell orders', '$KNDI #China #ElectricCar maker. China car sales +7.8%. Also, may feed off $TSLA momentum run lately.', 'Pivotal Research upgrading $GOOGL to buy.  https://t.co/LSahepdqhD    #stocktrading', '$HCP Come to the party and buy this -gonna give solid gains and a dividend $$$$$$', 'Long Position on $IP,....Scaling UP http://stks.co/sIln', '$TSLA <STUDY the CHARTS> Pullback_Time https://t.co/ZMDG0fb3I7', '#FusionIQ NEW Positive Timing Signal on $SBUX Today https://t.co/9ImlXz4YNa Please Retweet #Signals', '$SAVE long. https://t.co/yEJuS9cMlC', '$NFLX +1% $104.80 LONG streaming services rapidly outpacing traditional cable', '$AAPL Taking out the shorts here, a punishing reminder not to spear the  strongest in the herd.', 'ouch looks like $tsla shorts getting skinned again', '$AAPL afternoon selloff as usual will be brutal. get ready to lose a ton of money.', '2nd raise this year.  \"@BVHealthcare: $QCOR Questcor Increases Quarterly Cash Dividend 20 Percent.. http://stks.co/goan\"', '$AAPL at resistance right here...sold my shares...will buy back if it dips or if it goes in the 128 gap zone', '$BBRY lets see 14+ today', '$TSLA recalls 2,700 Model X cars. Stock dropping hard...', '$RCON some upside today. This thing is severe low float. If there is catalyst for this guy. It can run.', \"$FB down 7.5% from this #bearish pattern.  Considering the #bullish sentiment - That's an impressive bearish move https://t.co/TaJF0cH2qh\", 'Baird likes $TSLA - upgrades to outperform, lifts price target to $300. Research firm also sees no capital raise necessary in next few qtrs', '$RNN More bleeding Monday.', '$QCOM chart: Qualcomm Short 61.8% Retracement, Trendline and Resistance. https://t.co/2WQqh35KOY', 'Added more $BBBY @jimcramer is wrong about this one. Still a very profitable merchant with profitable stores', '$GOOGL is a short below 740 into the upper BB and is overbought', '$AAPL broke descending channel....will it hold?', '@Dojiknows th SP and the potential of QNX BES10 and BBM  cross platform will bring good news in time $bbry', 'ALERT: New RSI signal created on $COST - Buy at 148.78 - Time: 14:19 - Strength: 10. Powered by https://t.co/MhOBzU3Rmx', '@technik I still have a smaller $GILD pos. Being very tender with cash due to volatility. So reluctant to keep many big positions.', 'End Of Day Scan: Bullish MA  Crossovers $BBVA $PDS $NTLS $NGL $SBRCY $FGL $MTNOY $TTT  www.dailystockplays.com', 'Tesla Motors recalls 2,700 Model X SUVs $TSLA https://t.co/F55dx4aegI', '$WMT BULLISH with MACD CROSSOVER with RSI and STO going up - above 73.4$ MA50 res. could run http://stks.co/gGCq', '$TSLA Recalls 2,700 Model X Vehicles; Shares Volatile https://t.co/tcKqZnMIqX #TSLA #tech #stockmarket https://t.co/FeMhJtAmQj', '$SKX turning. Coming from far could go far. Stock price implies you pay nothing for the business', \"@TraceyRyniec not just energy, it's so broad. You will see it in WWG and Kaman as well. I'd be short $fast\", '$BWLD bearish engulfing candle', '3-star analyst Joe Wittine from Longbow Research reiterated a HOLD rating on $NTAP.', \"$aapl key is to breakout above 460 on solid volume or else it's a no trade for now\", 'Piper upgrades Symantec on improving renewal rates and enterprise growth $SYMC', '$COH Gaining Momentum! Nice buy signals here! Long Over $35.92 http://stks.co/t0tAh', 'Locked in some $FB puts for nice gain', '$AMZN Trailing 12 months operating cash flow rose 48% to $4.98 billion & free cash flow decreased 63% to $388 million http://stks.co/c06zG', '$AAPL double bottom could be in, keep in mind', \"$SPY http://stks.co/1MiR We're holding above Wednesday and Thursday closes. I'm leaning bullish. Small postions. Waiting.\", \"$ARIA This is the reason why shorts don't show up...long steady small climbs. The best way to accrue value. IMO\", '$BBRY Actually lost .03c per share if U incl VZ as no debt and 3.1 in Cash.', '$TNH Looks like an explosive setup if it can break the 20EMA and 105 level http://stks.co/b1SVH', '$vxx adding to position here !', 'Whats up with $LULU?  Numbers looked good, not great, but good.  I think conference call will instill confidence.', '$XLB the weakest sector this year and possible false breakout  http://stks.co/dL1Z', 'loading $SPY and $AAPL puts. think were toppy IMHO.', 'maybe closing all those $AAPL calls i had this morning was a bad idea, money left on the table...', '$CRUS Upgraded to a buy by Alpha Street Research', '$AAPL 50DMA turned up, MACD crossover a half-a-hair away on the weekly. EOD break out likely.', 'Current holdings via options - Long: $AAPL $V $GS $AET & Short: $VXX', '$MA http://stks.co/1CYN continues to consolidate / base here', '$QCOR a little pullback is fine but if this erases all of todays gains, I cannot believe the manipulation its capable of', 'Maglan Capital Up +20.84% In February, Long Fairpoint  http://stks.co/s1eQc $$ $FRP', 'Baird Upgrades Tesla Motors $TSLA to Outperform https://t.co/1FA6aTOqlw', '$YELP wayyy overvalued right now IMO. Should be trading single digits. May take a short pos. into earnings. Near term target 18 ......', '$AAPL - Has broken its downtrend - but 200DMA proving to be stiff resistance short term. https://t.co/VlzlgvIHZV', '@Stockoptionexpert: $MAT - 6%, big trader added 10000 April put contracts 3 days ago  http://stks.co/c1Ols', '$TROW Ascending triangle gives a bullish bias to this chart. Breakout above 84 will be positive http://stks.co/g0ls5', '$BAC $ADSK $NFLX long this morning', '$NUGT Gold above 1400...wow', 'X marks the recall: Tesla recalls #ModelX for faulty 3rd row seat. https://t.co/HSqdoVry07 $TSLA https://t.co/4Cs3CNZEBB', '$DISH weakness continues again. 49.43 area resistance after last week', 'Isolationism? Another Sell Rating, Sell Ratings On SPY, QQQ, IWM And Several Companies https://t.co/6NKWEcrBA5 $AAPL $AXP $BAC $BLUE $FXE', '$NFLX small pos, short 180 wkly puts.', 'RT @robbieLOLZ $NFLX A close above here is looking good for the bulls. Will hold my positions to see where we close at. Keep buying here.', '$GMCR with the way this has been acting, it may fall to 65 today, horrible action since it hit 70 yesterday', '$INO back in this am small post', '$AAPL short some 592.49', 'Deutsche Bank Downgraded Starbucks Co. $SBUX https://t.co/QqlEvVwPMV https://t.co/f2PdQjuTHa', \"Entering long Lockheed Martin $LMT at Thursday's open. http://stks.co/eXtA\", '$FB slight green... May be runner later', '$SBUX heading for the 200DMA and certain doom if it can not hold there.', 'longed $AMZN 300 @ 189.82', \"$HAL If bulls lucky enuff to get an upside gap fill, better take it. Wouldn't chase it here. http://stks.co/r12Us\", '@1nvestor: $SODA has a 42.71% Float Short. LoL  http://stks.co/e0DfP', 'ESPN Files Lawsuit Against Verizon - http://stks.co/i2Cj1 $VZ', 'Nasdaq Sets Up for Breakout Part II | via @AllStarCharts http://stks.co/15Nv  $GOOG $AMZN $QCOM', '$SAP Q1 disappoints as #software licenses down. Real problem? #Cloud growth trails $MSFT $ORCL $GOOG $CRM $ADBE https://t.co/jNDphllzq5', '$MSFT SQL Server revenue grew double-digit with SQL Server Premium revenue growing over 30% http://stks.co/ir2F', 'Timberrrr $TSLA https://t.co/MRBgfDHHVa', '$AAPL iPhone shipments on track to exceed forecasts - MarketWatch https://t.co/2CXahJIX7d', '$brcm raises revenue forecast', '#Fintech provider $CAFN Cachet Financial Solutions Surging Forward today post earnings Up +13.26% https://t.co/9BJ3csk2i9 $JKHY $FISV #Momo', '$FB  rejecting HIGHS shortable...at 109', 'Interest Heats Up for @Yahoo $YHOO - The Wall Street Journal  https://t.co/j5jVjI9bia', '$DNN picked some up, like this going into 2014', '$AAPL weekly still under the 50 moving average and creating a lower high. https://t.co/vT7ppzY2UY', 'EUR/USD Finding Support Near 1.10 Level $ERO $UUP $UDN $FXE  http://stks.co/b29eU', '$CERN - consolidating above 50 & 200 MA - nice long entry here w stop below 10 MA - targeting $70 area', '$SPY $MITK fast 56pc dive http://stks.co/3ffN $$', '$TSLA gyrating @ S1 above gap. keeping an eye on S2 http://stks.co/jQfB', 'Intuitive Surgical $ISRG is in a great financial position, take a look https://t.co/VahhJAcBFG https://t.co/24hQTQX4ou', '$AAPL I am big OUT from this. seems its falling towards 530.. :(', '$QCOM The indicator RSI is over 50, which stands at 56.1, an upward movement is expected. https://t.co/yfa9jcUsQa', \"So as of today's close (8/15/14), I'm long $TSLA $AMTD $TWTR $FB $AAPL $CELG - all on a longer-term, technical swing long basis.\", '$aapl short term fund/redemption liquidations.. Should have the channel cleared soon and on solid footing. $520 is new floor come July! :)', '$YHOO About to break out on the 5-min...', '$BXS: BancorpSouth Announces Extension of Merger Agreements with ... http://stks.co/s2PDF', '$AMRN Got sell signal 7/1/14 still in force with target below 1.50', '$TSLA TO RECALL 2,700 MODEL X SUVS FOR SEAT-BELT FIX', '$FB popping up to HOD', 'Hard to find new buyers of $TSLA at 250.  Shorts continue to pile in.', \"Commented on It's Time To Embrace Dividend Growth https://t.co/wc2qfP79TN $ABBV $CSCO $WYN\", 'Long $X 24.62', '$LSCC Accumulation chart continues to make new highs showing accumulation continuing to take place http://stks.co/aDpO', 'Yahoo stock is up to $36.46 as the bidding war picks up for the company https://t.co/JDNZXDCMkl $YHOO https://t.co/HmOegfHgvn', '$FB gone green on day', '$INVE : SEE YA ABOVE $8', '$DPZ broke out now of his bull flag channel and make new highs, but volume is very poor', '$amrn Full bull call spread ranging July to Jan 15. Lets see what this baby does,', '$FB they are hitting  everything in sight.short it. but twtr', \"$AAPL Stock Climbs as Barron's Sees 40% Upside, Jim Cramer's Take  https://t.co/lKlD9mVKBQ\", '@mugatushair Now it is time to short $TSLA', '$ARIA Bounce Player! Long above $6.17 http://stks.co/q0WfF', '$BBRY Ready for Take OFF!', \"Here come the shorts marchin' in.  $GMCR.  Lovin' it!\", '#Tesla Model S deliveries are up 35% in Germany - record deliveries in March [Chart] https://t.co/yCnClcBImV  $TSLA', 'Thank you $GOOG (Google Alphabet) and $FB (Facebook) stocks! What a nice reversal.', '$IWM buy programs popping $iwm for close print cheap money means higher stock prices $spy robot buying', 'Supermarket Stocks Rally as Tesco Plans to Axe Non-core UK Assets $TSCO https://t.co/BmvhcrwREA', 'RECAP: $MSFT rumor this morning had them spinning off XBOX unit, stock grinds up all day to close on highs', '$REN bottoming out again.. Good time to buy', '$FB & $TSLA cracking lower early. $short #correction #stocks', '$ilmn piper Jeffries raises pt.  I remain long', 'Costco: A Premier Retail Dividend Play https://t.co/J3UhTs022M $COST', 'Juniper tumbles on Q1 warning; Cisco also lower $JNPR $CSCO https://t.co/bGvIntk43h', '$AAPL long 630.91', 'Double bottom with handle buy point of 56.49 $WMT http://chart.ly/ml857v3', '$DCTH Near HOD', 'This $BBBY stock options trade would have more than doubled your money https://t.co/Oa0loiRIJL via @TheStreet', '$GTAT Will re-enter short on bounce...', '$Oil slid to a four-year low after #OPEC kept its oil production unchanged  http://stks.co/a1IX4 $USO $WTI $Brent', \"$XLI Potential intermediate top in an Uptrend on a 60'-15'-4' charts http://stks.co/j1TdF\", '$AAPL at pivot area on intraday chart- break here could send this to 50-day SMA, 457.80 http://stks.co/jPbN', \"It's a bad idea to make 5 min predictions based on faith: RT @dandyduct $AAPL Sell signal hit at 584, it will go down for the next 5 min\", '$SLV -4.44% at 18 now AWFUL, down from 42.50', 'Long Position on $GOL,...Updating http://stks.co/fdmm', '$PLUG Closed short position. Small gain. Not interested in options expiring worthless', '$BRK.B $SPY  All time high tomorrow? 150k on the A shares, Dec 13, 2007.', '$renn topping tail 5 min. chart at 7.31 short from here.', 'Notable gainers among liquid option names this morning include $STX (+7.0%), $NEM (+4.6%), $WDC (+4.2%), $X (+4.1%), and $GME (+3.4%),', '$ZSL looking very weak, could be a good short setup.', '@Intuitiv $CLNE gasoline prices spike in California. http://stks.co/t1bOi', 'VIVUS $VVUS bear raid in effect. Stock down 12%', '$NVDA sideways', \"stole my tweet. really wouldn't be surprised if we took out 423 and pinned around it RT @totalguru We could possibly even see425 today $AAPL\", '$LUV Continues to consolidate above previous break out area...', '$FB Dax says bye bye 2013 - finished a great yr w 28% plus!', '$ETN UPGRADE today by MS to overweight.  Excellent company and leadership', '#NDX component Tesla has announced it is recalling 2700 Model X SUVs. $TSLA', \"$TSLA looking good..i'd love to see a basing action here, letting the RSI take a breather. http://stks.co/g1T7c\", '$IWM same conditions that sent markets to tumble all hitting this week', '$FB bot some @78.47 breakout from the consolidation zone :D', '$AAPL Goldman Sachs reiterates conviction buy on Apple with a $155 PT $SPY $DJIA $GS https://t.co/h5hmXSITwM', '@BrooklynBandit: $SIMO Basing nice. A close over 24.18 is bullish $QQQ $SPY $STUDY watch for a close near HOD. Currently up +3%\" up +5%', 'ALERT: New MACD signal created on $CTXS - Buy at 77.09 - Time: 18:23 - Strength: 10. Powered by https://t.co/4TdgjEDLLZ', \"$IDCC - $89 share total value of company after crunching #'s. The 4g technology is their diamond in the rough.\", \"@Binkster69 Not that. it's just ER's lol. But looking at the correlation of $ARIA and foreign price charts, they are all poised to breakout.\", '@Vegastrader66 Looks like good entry for $QIHU here.', '$ENB.CA {Head&Shoulders} bullish reversal setup and breakout. Oil and Gas Pipleline stock. $USO', '$AMCN pushing highs', 'Commodity Channel Index Indicator signaled a Oversold for $FB #stockmarket https://t.co/VM32d3M9xi https://t.co/cvkojk05Xn', '$ISR- @IsoRay Up 6% and high on volume http://stks.co/iFpo #biotech', '$CNP Sell Short Position on CNP,...Closed for Profit $ 59,367.00 (7.75%) http://stks.co/ghjc', \"My $DWA play up 6% today. I'm still skeptical. Will take profits. Not a time cheer\", '$AAPL Nice RSI 33 bounce at 9:58', '$AAPL Action into the close indicates that $AAPL probably hit a near term high.  Momentum slowing after a huge run.', '$AAPL near a 3% drop thats a lot... now the best i can do is HOLD ER lol', 'Held its recent double bottom buy point of 56.57 almost to the penny today $WMT http://chart.ly/6nosp5q', '$SPY weak close', 'TripAdvisor jumps on M&A rumors https://t.co/O4lwCDXMbr $TRIP', \"Is #Facebook's user engagement falling? https://t.co/tqMMt7N16X $FB https://t.co/sedqRWgdkt\", 'Out of shorts $ALTR at 38.85 with loss', '$aapl.  Test the high today and probably go beyond after hours...', '$PCLN runs into the 50sma on the acquisition news', 'Just went long $ILMN', \"I don't see it. 200 day sma is the big hurdle. There is a good base building. $NFLX  https://t.co/ImKYGO2cyc\", '$TRX http://stks.co/1KkK Long setup. MACD cross.', '$GILD 91 now support. $IBB $BIB https://t.co/GIoOf6zbKv', '5-star analyst @brianwieser from Pivotal Research upgraded rating on $GOOGL to BUY. Brian has a 79% success rate https://t.co/t0dn02EOH5', '$WYNN big bounce', '$TXRH reports Q1 EPS of $0.37 versus the estimated $0.35, beating by $0.02. EPS were Up 19% from the same quarter last year.', '$DNKN $KKD $DPZ $LOCO Inside week buy triggers. http://stks.co/h0vV8  http://stks.co/r0ebN', '$CHRM Loooooongggggg base', '$AAPL Dips being bought up real quick. Higher lows fo sho', '$CDTI bounce here on support or H&S setup this area is very important for bulls to not lose http://stks.co/c0mf3', '$GOOGL is setting up above its 50-day moving average. https://t.co/tTm9RnFoXJ', '$FB gettin in the buy zone soon ;)', '$KEP breaking out when the market pulls back  http://stks.co/r0cet', '$IBM staying strong', '@harmongreg: $BBRY wkly, Inverse Head and Shoulders forming, triggers over 18.50, PO at least 30.80, watching http://stks.co/iPVJ', '.@barronsonline sees #Apple at $150/share in a year (+36% from today) on growing services business. $AAPL https://t.co/3BDNEKN7l1', '$JE LOOKS like we are bouncing.  Would be nice to finish over $6 today, and make the hammer.  Nice volume from 5.77 bottom.  Fingers crossed', '@CH_Roark: $UNXL I like this Ascending Triangle on the 30-minute chart. Breakout coming Monday! http://stks.co/aT3GLooks promising.', 'Apple Inc.: The Rip-Roaring Rally Is Just Beginning! (AAPL) | InvestorPlace $AAPL https://t.co/jrcFC8XlY9', \"$NUAN held up well after the big gains! Maybe we're finally on the move on this!!its still very undervalued and has major upside\", '@Megaas2000 $AAPL McDonalds had a big GROWING success for years with the same BigMac and Apple update and improbe Iphone and Ipad', '5 Best Analyst Rated Stocks in Last 72hrs: $ORCL $AAPL $CBS $INO $CPXX View all ratings here: https://t.co/IRID6zd5gc', '$HLF shorts made a killing last couple days, might make more if cover and buy back?', 'Daily Mail owner considering Yahoo bid $yhoo ,up 2,05% https://t.co/extZr1riyP', 'Last month we added to our $GILD position and started a new one in $BWLD We see slow, steady, unspectacular growth going forward near term', '$AEGN MACD and ADX are crossing over the signal lines! Long Setup http://stks.co/qzzx', 'Adobe Receives New Rating from Top Analyst $ADBE https://t.co/LJNXPEvHZN', 'MT @TheAcsMan Amazing seeing everyone suddenly touting $MSFT. Long been favorite covered call & double dip dividend play.', '@catskillfishing  Note the monthly chart of $GDX & how it recaptured support. $GLD possible double bottom set up. http://stks.co/aw6z', \"$ENDP - we saw a large order in this one last week, someone also accumulating May & Jun 35's Calls today\", '$NIHD insiders got this one wrong. Looking for bottom. Rsi under 30', '$LULU http://stks.co/o17i Bounced off support early in week - now indicators turning up (RSI, MACD, SMI) Worth a look', '$NFLX VISION : short term consolidation then movement higher http://stks.co/j05uu', '$VOLC THIS STOCK HAS A VERY VERY VERY VERY VERY HIGH PROBABILITY OF RALLYING TOMORROW AND/OR EARLY NEXT WEEK', '$FB SHIFTING ON THE 15 MINUTE HERE - SUSPECT TO TAKE HIGHS', '$GILD  is expanding its research facilities...keeping up with the pace of innovation  https://t.co/uOE7FJ4LOP', '$GEVO PLUNGING!  Back to $3.55.', '$IBIO  up 10% in premarket ready for lift off', '$PRLB hanging tough in down market due to analyst upgrades last week. Up almost 3%.', \"I'm no professional ANAL-yst but I DO put my $ where my mouth is. $AAPL will do $575 b4 yr.endâ€”That's another hun from here.Long LEAPS =^.^=\", '$DXCM - Making higher highs & higher lows as it consolidates over past several weeks. 26.70 was all time high (2006).', '$PG Ackman making the big added efficiency argument. betting on operational imporvement in a huge conglomerate can go either way imo.', '$INTU is in the process of streamlining its structure, especially through divestment of non-core businesses   https://t.co/dR5baNun2u', '$SPY Looks like bear traps getting laid faster than Cadbury Creme Eggs by the Easter Bunny', '$V A potential bearish shark pattern if point B $226 to be taken out. http://stks.co/i0GGH', '$CRK time to accumulate for a long position with far more upside than downside', '$GOOGL gets an upgrade price target $970', '$RNN day traders flushed out, it should start going up slowly from now on .', 'Bought some more $CELG as it is ready for a bounce.', '$PYPL great vol flow trade here.. Love this company long time.', \"$RUSS Don't catch falling knives, but I think an entry is coming soon on this\", '@pierrules: $SIRI LONG!!', 'Activision Blizzard Media Networks Announces Record #Esports Viewership https://t.co/729BiqLbtK $ATVI partnered with $HDSI for 9 #tournament', 'NaturalGas Settles At 3-year Low $DBO $BNO  http://stks.co/d27qX', 'Also, BMO had just initiated $incy with an outperform yesterday, while several other firms all reiterated buy ratings.', '$CNDO 21% short float, shorts likely to take profits into close', '$SPY Long 1/2 position 137.89', '$GLD http://stks.co/44ow On closer inspection.  Resistance 10 points north at 200d and downward trendline. Chart 2 of 2.', '$CTRP breaking out https://t.co/Z2je3rTKch', \"$CTRP not a bad long chart now that it's through sma100 resistance.\", '$ocn has the stuff. Will be looking to add shares if we get a new high breakout.', 'long $AAPL', \"$ENDP Was looking for a long entry but today's price action wasn't appealing\", \"@asdfLLC. Nice pop today. Told ya we would be green haha. Funny you bring that up. I'm actually working on a story about $NOK at the moment\", '$isrg trading at all-time high after strong earnings report with 4 days of short interest.', '$GOOG breakout very likely medium target $700+ http://stks.co/1Lpz http://chart.ly/lgb94rr', '$TZOO a close above 28.64 and we are ready to rock and roll', \"You know that back seat? Don't sit in it. - $TSLA -> Tesla recalls 2,700 Model X cars https://t.co/7J0Gwz89ZC\", \"$NFLX I say it's time to short at this point.\", '@CGrantWSJ I think this $TSLA bubble might go on for some time. So long as ppl love the cars, they might keep getting funding.', '@StockTwits: @Kbkiwi: $TSLA Tesla Model S sales exceed target, profitability guidance amended upward: http://stks.co/jQ0w\"\"', '$RSOL bought 3500 shares today!', \"PNC, Goldman Sachs Receive Dividend Hike Green Light (But Don't Act): http://stks.co/2pa7 $PNC $GS\", '$TWTR The best scenario going forward is this stock slowly falling everyday....Which is quite probable...', '#Apple up almost 20% from its February lows with very little fanfare. $AAPL', '$TZA is a rocket ship!!!', 'New recommendation from Carl Kirst of BMO Capital Markets for $WMB is BUY.Price target is $62:http://stks.co/t0S0r', '$WX Decent pull back . .', '$TWTR sad the only thing to move this is a takeover rumor only to be sold off next day !', '$TSLA recall model X https://t.co/b7izYa4BuE', '$NEON oversold', '$CELG back near 104, where it opened and rallied higher last wk. A good place to take a shot https://t.co/zwHThSvFSF', '$ACOM http://stks.co/1G6x Downside breakout looks to be coming soon.', '$JD down 20% in after-hour market. anyone care to explain why?', '$FB (110.20) is starting to show some relative strength and signs of potential B/O on the daily.', \"$FIO won't stay down\", 'Synergy Pharma Soars 67% Today On Positive Phase 3 Results $SGYP http://stks.co/j2awg', '$SPY bull move ended waiting for next setup', '$UBNT still having some trouble at the resistance line. Should resolve soon.@cheri1 @strattonite   http://stks.co/c0sU4', '#Tesla: Model X Recall Adds To Reliability Issues $TSLA https://t.co/jVXQ4DoXnP', 'Red Daily Triangle on $SHOR,...Scaling Up on Long Position http://stks.co/r82S', \"$QIHU totally missed this one, was about to jump in on that 60 break test but didn't, congrats shorts\", 'Why Alphabet Inc was just upgraded to buy https://t.co/dEVnLKhqtZ $GOOGL', 'Upside moves in the volatile #mining sector, sending Anglo American PLC $AAL up 6.8% as of 4:30 PM, London time', 'Why $MCD looks set to fall further. http://stks.co/f2fgj', '#Apple breaks major support, here are some levels to watch - http://stks.co/jRmW $AAPL $QQQ', '$tsla bad day to short', \"@sharkbiotech If anyone is selling/shorting $AGN b/c you believe $ENDP rumors to be realistic, then I'll take the other side of that trade\", 'pretty steady accumulation off support today.  Purdy. $AGU', '@scottrade Why is $tsla not available for shorting at this time?  Same for $w?', '@HopeTurock yes, the expectations of a deal are somewhat priced in but we could see a nice pop if bids come in higher than expected... $YHOO', '$CIEN http://stks.co/dZU CIEN seems to have broken out of a major horizontal resistance. Targets $14.35.', '$FTI Breakout today after reporting earnings last night', '$AAPL rejected the hod...should head lower. Sitting on the sidelines for now.', '$MPWR CEO sells 450k april 15th..meh', \"$XLF http://stks.co/1KJ9 Bounced off target buy area, bought $skf as a hedge. watch 50ma's slope\", '$GTE LONG at 7.44', \"$IMRS - it's important to be pragmatic in analysis...high prices could offer head-winds....bullish story intact,evenif the market rolls over\", '$RAD All my charts are flashing oversold.', 'Academics claim Google Android two-factor authentication is breakable. #security #authentication #hacking $goog https://t.co/nJx4mnrGLo', 'Short interest increases yet again http://stks.co/e19h via @ryandetrick $SPY', \"$FB churning in high volume @ IPO price. Lot's of sellers trying to get out. Might take a while here to consolidate before moving higher.\", '$PKT Momentum building for breakout trigger ! Long setup http://stks.co/eXVU', '$ESI on lows, down $1.50 to $2.50 BK a real possibility', '$DUG weekly stochastics finally starting to turn up after long consolidation. Buying here.', '$ISRG - ISRG Short - http://stks.co/f1vVU http://stks.co/c1qrm', 'Phew! So far good $BBRY did not break 10.40 coz I was told that is key support level.', 'Just stumbled upon this amazing chart - $OFIX - holy guac. SUPER overbought. http://stks.co/e0PX1', '$LNKD Daily Phase 2 retest - Price experiencing early rejection. Can it retest? http://stks.co/t04xX', \"RT @jan $ARNA Don't think buyout rumor strong enough too be driving this up just yet...when it is this may fly like aapl...// fly how high?\", '$tsla X recall not a big deal... the problem is now they will have an excuse to guide way way lower...', '$TSLA You have to love these types of articles. SS interest rose on 12/15 on day before we hit our lows. http://stks.co/c1QKr', '$NFLX +3% of the lows', 'what #stocks large players are selling http://stks.co/t0Vel $CROX $GOGO $INO', \"$WGO's BoD was right to reject the offer. That company is low because of the economy, not because of any type of mismanagement or anything.\", 'took some $ENDP long this am, using VWAP as guide', '$GOOGL Hit With Lawsuit from Russian Search Engine $YNDX http://stks.co/b1kD8', 'DJI overbought: $AAPL, $AXP, $BA, $CVX, $IBM, $INTC, $VZ https://t.co/wMy1PnomJF', '$YHOO fishy action. New party interested (DailyMail) bounce & retreats. Not short by any means, but action questions big up move. Thoughts?', 'like $T for a breakout long as well. getting through the 100 and 200 MA could see it run.', '$VRTX early technical BUY signal... for confirmation > 86 it needs some fundam. incentive https://t.co/QuYSrqFo2x', '$TRIP maintains Neutral rating at JP Morgan- PT cut $61 from $66', '$PLUG bear raid', '$FAST $GWW - daily sales slowing again, pretty timely coincident indicator https://t.co/m6BKHBkzK5', 'Looking for a strong bounce $SPY -- Lunchtime rally coming. $DIA $IWM $QQQ $AA $FB', '$AXP Looking for continuation with volume increase http://stks.co/c8sR', '$INTC & $AAPL strong, tech leads DOW higher', '$FB trending nicely, intraday.', \"$AMRN It's accumulating. I think buy now or hold your peace. This should go up today/tomorrow.\", \"Went long on this $COG, will see 70's again me thinks\", '@saltwaternurse $INO can test 10 again in next few days. time to take some profits here. or hedge with puts.', 'Key price to watch in $NFLX, off the previous double top reject, 218.23 http://stks.co/sIYn', 'Still short $LNG from $11.70 area...next stop could be down through $9.00. Someone slammed it hard with 230,000 shs this am! More to follow', 'RT FITZSTOCK2004: $IYT http://stks.co/1NBF the Transports always lead  the way, and  they broke DT  line  1st, MACD cross,  bull  flag=', '$TSLA not dipping - testing the 200 day ma https://t.co/jEPLmZQKGW', 'EA Launches Origin Online Game Distribution for Mac http://stks.co/aKTU via MacRumors $EA', \"$TSLA upgraded to Buy @ Argus w/ $333 PT - you'd almost think after ~100pt run in 5 weeks this would be the sell signal\", '$FB watching for bounce tomorrow', 'Loaded up on $bsx yesterday,looking good now. Still think way more upside than downside.', 'Starbucks downgraded on same day as new downgraded rewards program starts  $SBUX', '$COST short finally making gains. I will take half my gains at 147', '$PAY 2nd time test of the 21.20-30 b/o zone.  Still not breaking out.  Moved my stop up to 20.80.', 'looks like a big feb 18-22 $put spread on $cree.  Last quarter 0% YoY rev growth trading @ 24x earnings.  I may try a short.', '$HPQ Says Breakup Will Cost Billions, but Sees Savings Too http://stks.co/p27hZ', 'Equity indexes working on a positive engulfing for March. $SML $RUT $IWC $SMH $SOX  Small-caps / semis with a fakeout before the b/out.', 'Facebook, near a buy point last week, faces a different technical test today https://t.co/c72LLMpiNM $FB $AAPL $NFLX https://t.co/fPFbYTYPuY', '@NASDboy I think the DNF crew can get this $NFLX short into the next 30 days heading into earnings', 'Windows 10 is awful why did it force an upgrade on my pc without my consent? #windows #Microsoft $msft', '$LEE http://stks.co/24kM LEE ready to exit bankruptcy. Strong volume today.', 'RT @alphatrends VMarkets Are Still Acting Weak http://stks.co/1agn  $SPY $QQQ $XLF $SMH $IWM', '$AAPL Right back in ... - Buy the dips brought to you by CNBC. LOL', '@Joerazorback This time I think $AAPL will miss again. Generally speaking market is near top when everyone thinks that market goes only up', 'Sold out $TZA 45 $PUT (down $1), which were hedging my 45 $CALL. Letting the calls ride solo now.', 'Tesla Recalling 2,700 Model X Units, Related to Faulty Latch for Third-Row Seats; Fall To $252.50 Level on Recall, Shares Up 1%  $TSLA', '@gakrum nice chart shows distinctive down channel not a dip.. where do you see the bottom? $SPY ..$150? ..$130?', '$AAPL $131 rally mode', 'Amazon has been selling surveillance cameras infected with malware $AMZN #Amazon  https://t.co/TohLEQ8FK6 https://t.co/5PR4cBtVVy', '$IFF technical alerts: Stochastic Sell Signal, 200 DMA Support, and 50 DMA Support  http://stks.co/p12QY', '$AAPL AUG 645 calls +550% .67c: http://stks.co/i9T3', '$SIGA Bid for Reargument Denied by Judge', 'Qualcomm: 10% Dividend Increase Rewards Patient Investors, The Future Looks Bright https://t.co/TJjVpqhHqD $QCOM', '$TSLA weakest in todays DT watchlist', \"$AAPL Now I'm glad I got stopped out of my $113 weeklies when I did. Will re-enter next Monday for the #earnings run-up.\", '$amzn breaking', '$FB Nice buyable intraday dip right here', '$VMW  Got a nice push today following small sweepers of May C this morning', 'that was quick, out $FIO 21.35, market tanking, scaling down longs now', '$HITK  Resuming advance into new historical highs.', '$AMZN new HOD with conviction keeping $570 on watch for Resistance.', '$amzn 4 period RSI is down at 20, just read Connors book on trading strategies', '$CSX is up today to report.  Wall Street is expecting EPS to be at $0.37, and revenues at $2,732B.', 'Tesla issues its first Model X recall https://t.co/t1kMqVwhQQ $TSLA', '$TSPT  long 8.00', 'BULLISH Engulfing of COCA COLA: http://stks.co/fYCo $KO', 'SiriusXM added 465,000 net new subscribers in the first quarter of 2016 $SIRI #CEO #sales #marketresearch #tech #entrepreneur #Speaker', 'Micron Shares Pounded On Fears Of Loss Of Business From Apple; Stifel Defends $AAPL $MU http://stks.co/t1Z8T @Marjo', '$VIPS similar pattern like beginning of May. Did u sell? Same now..will go up much higher after this drop.', '$AAPL a new long IF 110.61 is broken. Targets are 112.19, 119.86 & 123.82. Bears must retake 102.77. $QQQ $NQ_F $NDX https://t.co/6l3m1wXChw', '$HRL ready to pop! http://stks.co/s0Ny4', '$ACAD under $2 today?', '$FB Big Money Is Pouring Into Facebook From All Directions;http://stks.co/sOwG', '$ENDP being sued by FTC.....nobody will buy them with that hanging over their heads', '$BONE Earnings Stocks Poised to Pop http://stks.co/2zWE', 'That bearish outside day Tuesday is significant. 200 day resistance still intact. just my opinion $SDS http://chart.ly/2bey48t', '$EDU bouncing nicely after add-on (posted)', '$SPY  still wants higher I think.', '$TSLA stock gaining steam... Plus other notable moves from this week: https://t.co/Hz0wdp5za1', \"Daily Mail parent company in talks with potential partners about joint bid for Yahoo's internet assets: https://t.co/mK7MEMtADT $YHOO\", '$RXII Tang really is toxic, they keep bringing the share price down. At least they could let it climb a little before dragging it down.', 'RT @StockTwits RT @fallondpicks Breadth Consolidates: After weeks of steady gains,advances in mkt breadth slowe... http://stks.co/2TrG $QQQ', '$KGC http://stks.co/3Qta Oversold, falling wedge and positive divergence place it on the launch pad; looking for a bounce.', '$SPPI..building RS. Sweet. I want this to break a new 52week. The earnings growth justifies way higher', '$AMRN You can many times find top and bottoms when shorts start rejoicing or bulls start rejoicing. Currently it is the shorts rejoicing', '$ASTX Daily technical indicators are bullish. Breakout watch over 4.58  http://stks.co/eOvw', '$BABA may take a few days wks months watch what happened to $FB $TWTR after they IPO. mrkt needs to washout. to hunt well need 2 wait stalk.', '$TSLA steaming up again, this stock is relentless at the moment', 'Starbucks shares down as much as ~4.2% $SBUX https://t.co/JlgrprR54k', '$FREE Ha Heeeeeere comes the pump! So glad I picked up 9K end of day! Get ready for the bull ride!', 'potential defect with third-row seat belts. Tesla Motors recalls 2,700 Model X SUVs $TSLA https://t.co/YVYDncdNdi', '$SPY extreme win today - 2 cents above 2009  low on 10-year and $SPY up 2 percent - life is a bowl of cherries - great short setting up $$', '$LULU #Outlook #Q1 2013 #lost revenue in the range of $12 million to $17 million -not good', '$MFLX up  pre mkt. Looks like GAP has been filled....lookin 4 short opt here', 'Preparing for a Breakout Trade in Netflix $NFLX  https://t.co/CzHIX3tuAG $$ https://t.co/z1qb9xa4LD', 'Why $TWTR is doomed in 1 chart $FB $GOOG  https://t.co/MpyLiReQjh https://t.co/nlcZawDoHP', '$TSLA on fire, what is that 6 up days in a row. Someone neeeeds!! in', '@Dlerch LOL! $FMCN back under $17, darn those shorts! No chit Sherlock!', '$TYC just about to break out to new highs, lots of technicals looking great right now.', '$TSLA is now up 57% from its February low. Amazing rebound.', \"$FB trend, hits mid 110's and drops\", '4 beaten-down Internet companies that may be ripe for a #takeover target: #Twitter $TWTR - #LinkedIn $LNKD - #Yahoo! $YHOO - #Groupon $GRPN', '$vxx starting to creep up while $spy sits near hod ...', \"Analysts impressed with progress at Tesla's flagship factory; co spent $1.6B on upgrades in '15 https://t.co/SABxCSn8cd by @tsrandall $TSLA\", '$KCG bot at 2.24', '$TSLA lots of green on the 5 min, watch the hourly $259.33 possible resistance currently @ $257.00', \"$SAVE breaking it's downtrend line on increasing volume. A move above 20.57 could see more upside. http://stks.co/l8y4\", \"Amazon declares 'best ever' Black Friday and Cyber Monday for Kindle family http://stks.co/cEtw via Engadget $AMZN\", '$fb small long 109.25 via calls', '$TSLA Wish had my puts back but see if we can find support around 243.39 and pop up so that I can get back in. https://t.co/hFkLq3WObV', 'volatility squeeze in $AAPL. I hope it gets resolved to the upside', '$AGN and $PYPL under pressure along with the market, however there were bullish options trades in both this morning https://t.co/9xG5W8nONT', '@louiebeene vwap is 1.63, held the trend line. Should be on a LOT of radars. $NAVB', 'Citrix Systems Inc $CTXS Position Increased by Mizuho… https://t.co/v7Lkq08Flp @ShareStockNews', 'RT @Cash_Cow $TLT still has a rising RSI & MACD, all this bond buying is signaling some bad moves for the market. $SPY $UUP', '$FB turns back down in early trading.... https://t.co/reuf5PzhBm', '$ONTY Continues to base as debate lingers. ONT-10 data next potential catalyst. If positive, stock quickly moves to $10. Downside limited.', 'energy still failing to close above the 10D MA.  continues to stand out weak $XLE', '$AMGN And #UCB Announce Positive Top-Line Results From Ph3 Study Evaluating Romosozumab In Men... https://t.co/4hBoUDR8B8 via @YahooFinance', '$YELP This goes green and so many shorts are toast!', '$AAPL http://stks.co/1LDx Clearing this descending trend line / buy area now', '$SLV POS, been saying it for 2 years. Going lower. Forget about it or go short.', 'Google, Inc. completes acquisition of ICOA, Inc. http://stks.co/nFEI $ICOA $GOOG', '@SOULLOR the regular scrappy Q $SWY usually presents. Sales weak, margins down, debt still way up.', '$BBRY nice bounce', \"$ATVI ooks pretty bullish for now. from a short-term perspective, it's got a good chance of maybe sliding back to 33.70 #stocks #investing\", '$YHOO making new HOD', 'Micron Technology Inc #NASDAQ: $MU down 2.3% today and down 8.9% since being put on \"The Short\" https://t.co/EQQLTfUiOU', \"$SPY Don't hang your bull hat yet. Next week we will pop higher on QE3 hope on back of fed's 2 day meeting.\", 'Exact (EXAS) Flagged As Strong On High Volume $EXAS http://stks.co/r26Ra', '$EXPE working on the second leg of its reversal run as it breaks another down trend and continues higher. https://t.co/76DSJysyR0', '$KO had missed earnings expectations for the last two quarters, so today’s strong results came as a major surprise http://stks.co/d0RHF', \"$SPY wouldn't be surprised to see a green close\", '$GALE Breakout Coming Soon!', 'Deutsche Bank downgrades Starbucks because of new loyalty program https://t.co/Iy4LCUGABc $SBUX', 'Key level to watch in $FB for today is 25.53-- watching to see if it can hold as support http://stks.co/bOH4', '$SBUX downgraded to neutral at Deutsche Bank. Price target reduced to $64 from $70.', '$KNDI Break that HOD on volume, and we have a nice consolidation completed for another run.']\n"
     ]
    }
   ],
   "source": [
    "import numpy as np\n",
    "\n",
    "post_array = np.array(post_df)\n",
    "np.random.shuffle(post_array)\n",
    "post_list = list(post_array[:,1])\n",
    "\n",
    "print(post_list)"
   ]
  },
  {
   "cell_type": "code",
   "execution_count": 5,
   "id": "3aad5149",
   "metadata": {
    "scrolled": true
   },
   "outputs": [
    {
     "name": "stdout",
     "output_type": "stream",
     "text": [
      "{'input_ids': tensor([[  101,  5573, 27451,  ...,     0,     0,     0],\n",
      "        [  101,  1002, 24529,  ...,     0,     0,     0],\n",
      "        [  101,  1002, 23564,  ...,     0,     0,     0],\n",
      "        ...,\n",
      "        [  101,  3145,  2504,  ...,     0,     0,     0],\n",
      "        [  101,  1002, 24829,  ...,     0,     0,     0],\n",
      "        [  101,  1002, 14161,  ...,     0,     0,     0]]), 'token_type_ids': tensor([[0, 0, 0,  ..., 0, 0, 0],\n",
      "        [0, 0, 0,  ..., 0, 0, 0],\n",
      "        [0, 0, 0,  ..., 0, 0, 0],\n",
      "        ...,\n",
      "        [0, 0, 0,  ..., 0, 0, 0],\n",
      "        [0, 0, 0,  ..., 0, 0, 0],\n",
      "        [0, 0, 0,  ..., 0, 0, 0]]), 'attention_mask': tensor([[1, 1, 1,  ..., 0, 0, 0],\n",
      "        [1, 1, 1,  ..., 0, 0, 0],\n",
      "        [1, 1, 1,  ..., 0, 0, 0],\n",
      "        ...,\n",
      "        [1, 1, 1,  ..., 0, 0, 0],\n",
      "        [1, 1, 1,  ..., 0, 0, 0],\n",
      "        [1, 1, 1,  ..., 0, 0, 0]])}\n"
     ]
    }
   ],
   "source": [
    "from transformers import AutoTokenizer, AutoModelForSequenceClassification\n",
    "  \n",
    "tokenizer = AutoTokenizer.from_pretrained(\"ProsusAI/finbert\")\n",
    "model = AutoModelForSequenceClassification.from_pretrained(\"ProsusAI/finbert\")\n",
    "#That's where the headlines get tokenized to be inputted into model\n",
    "\n",
    "inputs = tokenizer(post_list, padding = True, truncation = True, return_tensors='pt')\n",
    "print(inputs)"
   ]
  },
  {
   "cell_type": "code",
   "execution_count": 6,
   "id": "6bb5584a",
   "metadata": {},
   "outputs": [
    {
     "name": "stdout",
     "output_type": "stream",
     "text": [
      "torch.Size([675, 3])\n"
     ]
    }
   ],
   "source": [
    "#inference\n",
    "\n",
    "outputs = model(**inputs)\n",
    "print(outputs.logits.shape)"
   ]
  },
  {
   "cell_type": "code",
   "execution_count": 7,
   "id": "0c058273",
   "metadata": {
    "scrolled": true
   },
   "outputs": [
    {
     "name": "stdout",
     "output_type": "stream",
     "text": [
      "tensor([[0.9301, 0.0403, 0.0296],\n",
      "        [0.0269, 0.1169, 0.8562],\n",
      "        [0.9223, 0.0232, 0.0545],\n",
      "        ...,\n",
      "        [0.1357, 0.0154, 0.8489],\n",
      "        [0.1248, 0.7910, 0.0841],\n",
      "        [0.9058, 0.0305, 0.0637]], grad_fn=<SoftmaxBackward0>)\n"
     ]
    }
   ],
   "source": [
    "import torch\n",
    "\n",
    "predictions = torch.nn.functional.softmax(outputs.logits, dim=-1)\n",
    "print(predictions)"
   ]
  },
  {
   "cell_type": "code",
   "execution_count": 8,
   "id": "14bf0ea0",
   "metadata": {},
   "outputs": [
    {
     "data": {
      "text/html": [
       "<div>\n",
       "<style scoped>\n",
       "    .dataframe tbody tr th:only-of-type {\n",
       "        vertical-align: middle;\n",
       "    }\n",
       "\n",
       "    .dataframe tbody tr th {\n",
       "        vertical-align: top;\n",
       "    }\n",
       "\n",
       "    .dataframe thead th {\n",
       "        text-align: right;\n",
       "    }\n",
       "</style>\n",
       "<table border=\"1\" class=\"dataframe\">\n",
       "  <thead>\n",
       "    <tr style=\"text-align: right;\">\n",
       "      <th></th>\n",
       "      <th>Headline</th>\n",
       "      <th>Positive</th>\n",
       "      <th>Negative</th>\n",
       "      <th>Neutral</th>\n",
       "    </tr>\n",
       "  </thead>\n",
       "  <tbody>\n",
       "    <tr>\n",
       "      <th>0</th>\n",
       "      <td>Sudden optimism about iPhone sales (i.e., not ...</td>\n",
       "      <td>0.930094</td>\n",
       "      <td>0.040275</td>\n",
       "      <td>0.029631</td>\n",
       "    </tr>\n",
       "    <tr>\n",
       "      <th>1</th>\n",
       "      <td>$TSLA announces a recall and the stock doesn't...</td>\n",
       "      <td>0.026863</td>\n",
       "      <td>0.116930</td>\n",
       "      <td>0.856207</td>\n",
       "    </tr>\n",
       "    <tr>\n",
       "      <th>2</th>\n",
       "      <td>$ZAGG getting ready...Target $15 plus on a clo...</td>\n",
       "      <td>0.922294</td>\n",
       "      <td>0.023221</td>\n",
       "      <td>0.054485</td>\n",
       "    </tr>\n",
       "    <tr>\n",
       "      <th>3</th>\n",
       "      <td>$AAPL AAPL finally breaking under the 49 M.A.....</td>\n",
       "      <td>0.303710</td>\n",
       "      <td>0.010989</td>\n",
       "      <td>0.685302</td>\n",
       "    </tr>\n",
       "    <tr>\n",
       "      <th>4</th>\n",
       "      <td>Covered my small $MWW short @ 7.99 for a .16 l...</td>\n",
       "      <td>0.108848</td>\n",
       "      <td>0.648447</td>\n",
       "      <td>0.242705</td>\n",
       "    </tr>\n",
       "    <tr>\n",
       "      <th>5</th>\n",
       "      <td>$NFLX and $TSLA making all kinds of gains 📈</td>\n",
       "      <td>0.722883</td>\n",
       "      <td>0.012340</td>\n",
       "      <td>0.264777</td>\n",
       "    </tr>\n",
       "    <tr>\n",
       "      <th>6</th>\n",
       "      <td>$DARA breaking out</td>\n",
       "      <td>0.138333</td>\n",
       "      <td>0.425106</td>\n",
       "      <td>0.436561</td>\n",
       "    </tr>\n",
       "    <tr>\n",
       "      <th>7</th>\n",
       "      <td>$SKH http://stks.co/163e Long setup. Watch for...</td>\n",
       "      <td>0.176300</td>\n",
       "      <td>0.025571</td>\n",
       "      <td>0.798129</td>\n",
       "    </tr>\n",
       "    <tr>\n",
       "      <th>8</th>\n",
       "      <td>Long $GPRO for a brealout trade</td>\n",
       "      <td>0.124340</td>\n",
       "      <td>0.031759</td>\n",
       "      <td>0.843901</td>\n",
       "    </tr>\n",
       "    <tr>\n",
       "      <th>9</th>\n",
       "      <td>$EBAY  e-bay bay!  working on a couple daily d...</td>\n",
       "      <td>0.028595</td>\n",
       "      <td>0.916665</td>\n",
       "      <td>0.054740</td>\n",
       "    </tr>\n",
       "  </tbody>\n",
       "</table>\n",
       "</div>"
      ],
      "text/plain": [
       "                                            Headline  Positive  Negative  \\\n",
       "0  Sudden optimism about iPhone sales (i.e., not ...  0.930094  0.040275   \n",
       "1  $TSLA announces a recall and the stock doesn't...  0.026863  0.116930   \n",
       "2  $ZAGG getting ready...Target $15 plus on a clo...  0.922294  0.023221   \n",
       "3  $AAPL AAPL finally breaking under the 49 M.A.....  0.303710  0.010989   \n",
       "4  Covered my small $MWW short @ 7.99 for a .16 l...  0.108848  0.648447   \n",
       "5        $NFLX and $TSLA making all kinds of gains 📈  0.722883  0.012340   \n",
       "6                                 $DARA breaking out  0.138333  0.425106   \n",
       "7  $SKH http://stks.co/163e Long setup. Watch for...  0.176300  0.025571   \n",
       "8                    Long $GPRO for a brealout trade  0.124340  0.031759   \n",
       "9  $EBAY  e-bay bay!  working on a couple daily d...  0.028595  0.916665   \n",
       "\n",
       "    Neutral  \n",
       "0  0.029631  \n",
       "1  0.856207  \n",
       "2  0.054485  \n",
       "3  0.685302  \n",
       "4  0.242705  \n",
       "5  0.264777  \n",
       "6  0.436561  \n",
       "7  0.798129  \n",
       "8  0.843901  \n",
       "9  0.054740  "
      ]
     },
     "execution_count": 8,
     "metadata": {},
     "output_type": "execute_result"
    }
   ],
   "source": [
    "#Formatting the results as a pandas data frame\n",
    "\n",
    "import pandas as pd\n",
    "\n",
    "#Headline #Positive #Negative #Neutral\n",
    "positive = predictions[:, 0].tolist()\n",
    "negative = predictions[:, 1].tolist()\n",
    "neutral = predictions[:, 2].tolist()\n",
    "\n",
    "table = {'Headline':post_list,\n",
    "         \"Positive\":positive,\n",
    "         \"Negative\":negative, \n",
    "         \"Neutral\":neutral}\n",
    "      \n",
    "df = pd.DataFrame(table, columns = [\"Headline\", \"Positive\", \"Negative\", \"Neutral\"])\n",
    "\n",
    "df.head(10)"
   ]
  },
  {
   "cell_type": "code",
   "execution_count": 11,
   "id": "7eb40b3d",
   "metadata": {},
   "outputs": [
    {
     "name": "stdout",
     "output_type": "stream",
     "text": [
      "Post Prediction Rate:  43.047337278106504 %\n"
     ]
    }
   ],
   "source": [
    "def find_label(value):\n",
    "    if -0.1 <= value <= 0.1:\n",
    "        return 0\n",
    "    elif value < -0.1:\n",
    "        return -1\n",
    "    else:\n",
    "        return 1\n",
    "\n",
    "index = 0\n",
    "correct = 0.0\n",
    "for x in post_array:\n",
    "    true_label = find_label(x[4])\n",
    "    max_v = max(predictions[index, 0], predictions[index, 1], predictions[index, 2])\n",
    "    if max_v == predictions[index, 0]:\n",
    "        prediction_label = 1\n",
    "    elif max_v == predictions[index, 1]:\n",
    "        prediction_label = -1\n",
    "    else:\n",
    "        prediction_label = 0\n",
    "    \n",
    "    if prediction_label == true_label:\n",
    "        correct += 1\n",
    "    index += 1\n",
    "print(\"Post Prediction Rate: \", correct / (index + 1) * 100, \"%\")\n",
    "    "
   ]
  }
 ],
 "metadata": {
  "kernelspec": {
   "display_name": "cs269",
   "language": "python",
   "name": "cs269"
  },
  "language_info": {
   "codemirror_mode": {
    "name": "ipython",
    "version": 3
   },
   "file_extension": ".py",
   "mimetype": "text/x-python",
   "name": "python",
   "nbconvert_exporter": "python",
   "pygments_lexer": "ipython3",
   "version": "3.7.11"
  }
 },
 "nbformat": 4,
 "nbformat_minor": 5
}
